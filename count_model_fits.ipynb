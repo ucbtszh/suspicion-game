{
 "cells": [
  {
   "cell_type": "code",
   "execution_count": 1,
   "metadata": {},
   "outputs": [],
   "source": [
    "import numpy as np\n",
    "import pandas as pd\n",
    "import regex as re"
   ]
  },
  {
   "cell_type": "markdown",
   "metadata": {},
   "source": [
    "### check which model fit best for each subject"
   ]
  },
  {
   "cell_type": "code",
   "execution_count": 5,
   "metadata": {},
   "outputs": [
    {
     "name": "stdout",
     "output_type": "stream",
     "text": [
      "['./data/fr/fr100_fit_combi_signed_ev_col_congr.json', './data/fr/fr100_fit_combi_signed_ev_subj_lied.json', './data/fr/fr100_fit_signed_ev_colcongr_subjlied.json', './data/fr/fr100_fit_sig_col_count.json', './data/fr/fr100_fit_sig_ev_noup.json', './data/fr/fr100_fit_sig_ev_up.json', './data/fr/fr100_fit_unsig_col_count.json', './data/fr/fr100_fit_unsig_ev_noup.json', './data/fr/fr100_fit_unsig_ev_up.json', './data/fr/fr100_fit_weighted_sigev_sigcolourt.json']\n"
     ]
    }
   ],
   "source": [
    "import os\n",
    "\n",
    "files = os.listdir('./data/fr/')\n",
    "\n",
    "# print(files)\n",
    "\n",
    "foi = []\n",
    "for file in files:\n",
    "    if file.endswith(\".json\") & file.startswith(\"fr100_fit\"):\n",
    "        foi.append(os.path.join(\"./data/fr/\", file))\n",
    "    else:\n",
    "        continue\n",
    "\n",
    "print(foi)"
   ]
  },
  {
   "cell_type": "code",
   "execution_count": 7,
   "metadata": {},
   "outputs": [
    {
     "data": {
      "text/plain": [
       "10"
      ]
     },
     "execution_count": 7,
     "metadata": {},
     "output_type": "execute_result"
    }
   ],
   "source": [
    "len(foi)"
   ]
  },
  {
   "cell_type": "code",
   "execution_count": 88,
   "metadata": {},
   "outputs": [],
   "source": [
    "# get all DF filenames from data/fr folder\n",
    "\n",
    "def data_to_df(files: list):\n",
    "    ''' provide list of json data file pathnames '''\n",
    "    dfs = {}  # features of interest\n",
    "    for path in files:\n",
    "        try:\n",
    "            print(path)\n",
    "            df = pd.read_json(path)\n",
    "            model = re.findall(r'(?<=fr100_fit_).*(?=\\.json)', path)[0]\n",
    "            dfs[model] = df.transpose()['BIC']\n",
    "        except PermissionError:\n",
    "            continue\n",
    "    return dfs"
   ]
  },
  {
   "cell_type": "code",
   "execution_count": 89,
   "metadata": {},
   "outputs": [
    {
     "name": "stdout",
     "output_type": "stream",
     "text": [
      "./data/fr/fr100_fit_combi_signed_ev_col_congr.json\n",
      "./data/fr/fr100_fit_combi_signed_ev_subj_lied.json\n",
      "./data/fr/fr100_fit_signed_ev_colcongr_subjlied.json\n",
      "./data/fr/fr100_fit_sig_col_count.json\n",
      "./data/fr/fr100_fit_sig_ev_noup.json\n",
      "./data/fr/fr100_fit_sig_ev_up.json\n",
      "./data/fr/fr100_fit_unsig_col_count.json\n",
      "./data/fr/fr100_fit_unsig_ev_noup.json\n",
      "./data/fr/fr100_fit_unsig_ev_up.json\n",
      "./data/fr/fr100_fit_weighted_sigev_sigcolourt.json\n"
     ]
    }
   ],
   "source": [
    "dfs = data_to_df(foi)"
   ]
  },
  {
   "cell_type": "code",
   "execution_count": 90,
   "metadata": {},
   "outputs": [
    {
     "data": {
      "text/plain": [
       "10"
      ]
     },
     "execution_count": 90,
     "metadata": {},
     "output_type": "execute_result"
    }
   ],
   "source": [
    "len(dfs)"
   ]
  },
  {
   "cell_type": "code",
   "execution_count": 97,
   "metadata": {},
   "outputs": [],
   "source": [
    "uuids = dfs['combi_signed_ev_col_congr'].index"
   ]
  },
  {
   "cell_type": "code",
   "execution_count": 100,
   "metadata": {},
   "outputs": [
    {
     "data": {
      "text/plain": [
       "{'combi_signed_ev_col_congr': 56210effed6e5a000ac7f3a5   -316.481035\n",
       " 57313ba2070de6000f43384e   -369.723659\n",
       " 5af196e1e1b5b8000148ac76   -292.532291\n",
       " 5cd5fe480f0de600018e7251   -415.486621\n",
       " 5fec7577ad8fbadf15cd5607   -261.693394\n",
       "                                ...    \n",
       " 61661cac7d3cc02b3fc1b52b   -602.483179\n",
       " 61671a9d42eb53946faa44c2   -705.269624\n",
       " 616ec0185d61b5fa0b62b42a   -642.127387\n",
       " 616f35805cb9047a629edb71   -468.139772\n",
       " 61702b890e755075af3a5423   -886.467004\n",
       " Name: BIC, Length: 100, dtype: float64,\n",
       " 'combi_signed_ev_subj_lied': 56210effed6e5a000ac7f3a5   -318.117987\n",
       " 57313ba2070de6000f43384e   -367.509404\n",
       " 5af196e1e1b5b8000148ac76   -294.140974\n",
       " 5cd5fe480f0de600018e7251   -414.664458\n",
       " 5fec7577ad8fbadf15cd5607   -259.335202\n",
       "                                ...    \n",
       " 61661cac7d3cc02b3fc1b52b   -599.474451\n",
       " 61671a9d42eb53946faa44c2   -630.555258\n",
       " 616ec0185d61b5fa0b62b42a   -639.793617\n",
       " 616f35805cb9047a629edb71   -480.419118\n",
       " 61702b890e755075af3a5423   -885.006242\n",
       " Name: BIC, Length: 100, dtype: float64,\n",
       " 'signed_ev_colcongr_subjlied': 56210effed6e5a000ac7f3a5   -313.405255\n",
       " 57313ba2070de6000f43384e   -365.233336\n",
       " 5af196e1e1b5b8000148ac76   -289.948509\n",
       " 5cd5fe480f0de600018e7251   -411.877238\n",
       " 5fec7577ad8fbadf15cd5607   -257.712133\n",
       "                                ...    \n",
       " 61661cac7d3cc02b3fc1b52b   -622.929812\n",
       " 61671a9d42eb53946faa44c2   -716.562272\n",
       " 616ec0185d61b5fa0b62b42a   -636.935110\n",
       " 616f35805cb9047a629edb71   -477.636231\n",
       " 61702b890e755075af3a5423   -881.362963\n",
       " Name: BIC, Length: 100, dtype: float64,\n",
       " 'sig_col_count': 56210effed6e5a000ac7f3a5   -299.912062\n",
       " 57313ba2070de6000f43384e   -361.624131\n",
       " 5af196e1e1b5b8000148ac76   -238.407985\n",
       " 5cd5fe480f0de600018e7251   -389.582794\n",
       " 5fec7577ad8fbadf15cd5607   -260.759390\n",
       "                                ...    \n",
       " 61661cac7d3cc02b3fc1b52b   -263.981829\n",
       " 61671a9d42eb53946faa44c2   -301.959359\n",
       " 616ec0185d61b5fa0b62b42a   -281.176570\n",
       " 616f35805cb9047a629edb71   -205.251165\n",
       " 61702b890e755075af3a5423   -441.028504\n",
       " Name: BIC, Length: 101, dtype: float64,\n",
       " 'sig_ev_noup': 56210effed6e5a000ac7f3a5   -320.586311\n",
       " 57313ba2070de6000f43384e   -371.941603\n",
       " 5af196e1e1b5b8000148ac76   -296.325969\n",
       " 5cd5fe480f0de600018e7251   -418.729191\n",
       " 5fec7577ad8fbadf15cd5607   -262.767475\n",
       "                                ...    \n",
       " 61661cac7d3cc02b3fc1b52b   -284.669465\n",
       " 61671a9d42eb53946faa44c2   -311.778050\n",
       " 616ec0185d61b5fa0b62b42a   -318.686596\n",
       " 616f35805cb9047a629edb71   -231.723322\n",
       " 61702b890e755075af3a5423   -441.027252\n",
       " Name: BIC, Length: 101, dtype: float64,\n",
       " 'sig_ev_up': 56210effed6e5a000ac7f3a5   -269.150656\n",
       " 57313ba2070de6000f43384e   -364.594833\n",
       " 5af196e1e1b5b8000148ac76   -232.669762\n",
       " 5cd5fe480f0de600018e7251   -350.839248\n",
       " 5fec7577ad8fbadf15cd5607   -243.415390\n",
       "                                ...    \n",
       " 61661cac7d3cc02b3fc1b52b   -226.718481\n",
       " 61671a9d42eb53946faa44c2   -296.966956\n",
       " 616ec0185d61b5fa0b62b42a   -238.093835\n",
       " 616f35805cb9047a629edb71   -195.893131\n",
       " 61702b890e755075af3a5423   -464.155973\n",
       " Name: BIC, Length: 101, dtype: float64,\n",
       " 'unsig_col_count': 56210effed6e5a000ac7f3a5   -277.697449\n",
       " 57313ba2070de6000f43384e   -361.622973\n",
       " 5af196e1e1b5b8000148ac76   -234.834972\n",
       " 5cd5fe480f0de600018e7251   -351.736955\n",
       " 5fec7577ad8fbadf15cd5607   -245.342029\n",
       "                                ...    \n",
       " 61661cac7d3cc02b3fc1b52b   -238.399694\n",
       " 61671a9d42eb53946faa44c2   -295.297288\n",
       " 616ec0185d61b5fa0b62b42a   -247.494885\n",
       " 616f35805cb9047a629edb71   -195.411187\n",
       " 61702b890e755075af3a5423   -441.029026\n",
       " Name: BIC, Length: 101, dtype: float64,\n",
       " 'unsig_ev_noup': 56210effed6e5a000ac7f3a5   -274.807113\n",
       " 57313ba2070de6000f43384e   -372.428403\n",
       " 5af196e1e1b5b8000148ac76   -332.738771\n",
       " 5cd5fe480f0de600018e7251   -389.553403\n",
       " 5fec7577ad8fbadf15cd5607   -263.490774\n",
       "                                ...    \n",
       " 61661cac7d3cc02b3fc1b52b   -263.098364\n",
       " 61671a9d42eb53946faa44c2   -311.312237\n",
       " 616ec0185d61b5fa0b62b42a   -268.242304\n",
       " 616f35805cb9047a629edb71   -219.889828\n",
       " 61702b890e755075af3a5423   -441.305334\n",
       " Name: BIC, Length: 101, dtype: float64,\n",
       " 'unsig_ev_up': 56210effed6e5a000ac7f3a5   -269.150656\n",
       " 57313ba2070de6000f43384e   -364.227786\n",
       " 5af196e1e1b5b8000148ac76   -232.735993\n",
       " 5cd5fe480f0de600018e7251   -350.323046\n",
       " 5fec7577ad8fbadf15cd5607   -243.189104\n",
       "                                ...    \n",
       " 61661cac7d3cc02b3fc1b52b   -226.718467\n",
       " 61671a9d42eb53946faa44c2   -296.836106\n",
       " 616ec0185d61b5fa0b62b42a   -238.093838\n",
       " 616f35805cb9047a629edb71   -194.562129\n",
       " 61702b890e755075af3a5423   -462.235471\n",
       " Name: BIC, Length: 101, dtype: float64,\n",
       " 'weighted_sigev_sigcolourt': 56210effed6e5a000ac7f3a5   -319.823539\n",
       " 57313ba2070de6000f43384e   -362.941578\n",
       " 5af196e1e1b5b8000148ac76   -287.326050\n",
       " 5cd5fe480f0de600018e7251   -410.834608\n",
       " 5fec7577ad8fbadf15cd5607   -256.816635\n",
       "                                ...    \n",
       " 61661cac7d3cc02b3fc1b52b   -277.566934\n",
       " 61671a9d42eb53946faa44c2   -302.778624\n",
       " 616ec0185d61b5fa0b62b42a   -311.020436\n",
       " 616f35805cb9047a629edb71   -222.723092\n",
       " 61702b890e755075af3a5423   -432.029410\n",
       " Name: BIC, Length: 101, dtype: float64}"
      ]
     },
     "execution_count": 100,
     "metadata": {},
     "output_type": "execute_result"
    }
   ],
   "source": [
    "dfs"
   ]
  },
  {
   "cell_type": "code",
   "execution_count": 108,
   "metadata": {
    "scrolled": true
   },
   "outputs": [],
   "source": [
    "best_model = {}\n",
    "\n",
    "for uuid in uuids:\n",
    "    tmp = []\n",
    "    for i, model in enumerate(dfs):\n",
    "        tmp.append(dfs[model][uuid])\n",
    "    best_model[uuid] = list(dfs)[np.argmin(tmp)]"
   ]
  },
  {
   "cell_type": "code",
   "execution_count": 115,
   "metadata": {},
   "outputs": [],
   "source": [
    "pd.Series(best_model).to_clipboard()"
   ]
  },
  {
   "cell_type": "code",
   "execution_count": 3,
   "metadata": {},
   "outputs": [],
   "source": [
    "df = pd.read_feather(\"./data/fr/fr100_aggregate_scores.feather\")"
   ]
  },
  {
   "cell_type": "code",
   "execution_count": 4,
   "metadata": {},
   "outputs": [],
   "source": [
    "df = df.set_index('PID')"
   ]
  },
  {
   "cell_type": "code",
   "execution_count": 122,
   "metadata": {},
   "outputs": [],
   "source": [
    "df['best_model_fit'] = pd.Series(best_model)"
   ]
  },
  {
   "cell_type": "code",
   "execution_count": 123,
   "metadata": {},
   "outputs": [
    {
     "data": {
      "text/html": [
       "<div>\n",
       "<style scoped>\n",
       "    .dataframe tbody tr th:only-of-type {\n",
       "        vertical-align: middle;\n",
       "    }\n",
       "\n",
       "    .dataframe tbody tr th {\n",
       "        vertical-align: top;\n",
       "    }\n",
       "\n",
       "    .dataframe thead th {\n",
       "        text-align: right;\n",
       "    }\n",
       "</style>\n",
       "<table border=\"1\" class=\"dataframe\">\n",
       "  <thead>\n",
       "    <tr style=\"text-align: right;\">\n",
       "      <th></th>\n",
       "      <th>crt</th>\n",
       "      <th>aq</th>\n",
       "      <th>lie_prop</th>\n",
       "      <th>eq</th>\n",
       "      <th>rgpts</th>\n",
       "      <th>signed_ev_alpha</th>\n",
       "      <th>col_congruency_alpha</th>\n",
       "      <th>signed_ev_prior</th>\n",
       "      <th>mean_honesty_rating</th>\n",
       "      <th>lie_detect_precision</th>\n",
       "      <th>lie_detect_recall</th>\n",
       "      <th>lie_detect_accuracy</th>\n",
       "      <th>age</th>\n",
       "      <th>gender</th>\n",
       "      <th>ed_lev</th>\n",
       "      <th>high_liar</th>\n",
       "      <th>high_alpha</th>\n",
       "      <th>high_col_congruency_alpha</th>\n",
       "      <th>high_prior</th>\n",
       "      <th>best_model_fit</th>\n",
       "    </tr>\n",
       "    <tr>\n",
       "      <th>PID</th>\n",
       "      <th></th>\n",
       "      <th></th>\n",
       "      <th></th>\n",
       "      <th></th>\n",
       "      <th></th>\n",
       "      <th></th>\n",
       "      <th></th>\n",
       "      <th></th>\n",
       "      <th></th>\n",
       "      <th></th>\n",
       "      <th></th>\n",
       "      <th></th>\n",
       "      <th></th>\n",
       "      <th></th>\n",
       "      <th></th>\n",
       "      <th></th>\n",
       "      <th></th>\n",
       "      <th></th>\n",
       "      <th></th>\n",
       "      <th></th>\n",
       "    </tr>\n",
       "  </thead>\n",
       "  <tbody>\n",
       "    <tr>\n",
       "      <th>56210effed6e5a000ac7f3a5</th>\n",
       "      <td>4</td>\n",
       "      <td>0.2</td>\n",
       "      <td>0.622222</td>\n",
       "      <td>5.181818</td>\n",
       "      <td>1.777778</td>\n",
       "      <td>0.549441</td>\n",
       "      <td>0.022603</td>\n",
       "      <td>0.324423</td>\n",
       "      <td>1.455556</td>\n",
       "      <td>0.391892</td>\n",
       "      <td>0.966667</td>\n",
       "      <td>0.488889</td>\n",
       "      <td>38</td>\n",
       "      <td>0</td>\n",
       "      <td>5</td>\n",
       "      <td>True</td>\n",
       "      <td>1</td>\n",
       "      <td>1</td>\n",
       "      <td>1</td>\n",
       "      <td>sig_ev_noup</td>\n",
       "    </tr>\n",
       "    <tr>\n",
       "      <th>57313ba2070de6000f43384e</th>\n",
       "      <td>3</td>\n",
       "      <td>0.6</td>\n",
       "      <td>0.211111</td>\n",
       "      <td>4.954545</td>\n",
       "      <td>1.944444</td>\n",
       "      <td>0.129086</td>\n",
       "      <td>-0.040522</td>\n",
       "      <td>0.187498</td>\n",
       "      <td>3.755556</td>\n",
       "      <td>0.750000</td>\n",
       "      <td>0.107143</td>\n",
       "      <td>0.711111</td>\n",
       "      <td>38</td>\n",
       "      <td>1</td>\n",
       "      <td>1</td>\n",
       "      <td>True</td>\n",
       "      <td>0</td>\n",
       "      <td>1</td>\n",
       "      <td>1</td>\n",
       "      <td>unsig_ev_noup</td>\n",
       "    </tr>\n",
       "    <tr>\n",
       "      <th>5af196e1e1b5b8000148ac76</th>\n",
       "      <td>2</td>\n",
       "      <td>0.4</td>\n",
       "      <td>0.222222</td>\n",
       "      <td>5.136364</td>\n",
       "      <td>2.500000</td>\n",
       "      <td>0.634702</td>\n",
       "      <td>-0.038728</td>\n",
       "      <td>0.051418</td>\n",
       "      <td>2.922222</td>\n",
       "      <td>0.692308</td>\n",
       "      <td>0.692308</td>\n",
       "      <td>0.822222</td>\n",
       "      <td>31</td>\n",
       "      <td>0</td>\n",
       "      <td>9</td>\n",
       "      <td>True</td>\n",
       "      <td>1</td>\n",
       "      <td>1</td>\n",
       "      <td>0</td>\n",
       "      <td>unsig_ev_noup</td>\n",
       "    </tr>\n",
       "    <tr>\n",
       "      <th>5cd5fe480f0de600018e7251</th>\n",
       "      <td>1</td>\n",
       "      <td>0.3</td>\n",
       "      <td>0.411111</td>\n",
       "      <td>4.681818</td>\n",
       "      <td>2.722222</td>\n",
       "      <td>0.402318</td>\n",
       "      <td>-0.022349</td>\n",
       "      <td>0.105137</td>\n",
       "      <td>3.400000</td>\n",
       "      <td>0.000000</td>\n",
       "      <td>0.000000</td>\n",
       "      <td>0.855556</td>\n",
       "      <td>28</td>\n",
       "      <td>1</td>\n",
       "      <td>3</td>\n",
       "      <td>True</td>\n",
       "      <td>1</td>\n",
       "      <td>1</td>\n",
       "      <td>0</td>\n",
       "      <td>sig_ev_noup</td>\n",
       "    </tr>\n",
       "    <tr>\n",
       "      <th>5fec7577ad8fbadf15cd5607</th>\n",
       "      <td>4</td>\n",
       "      <td>0.2</td>\n",
       "      <td>0.233333</td>\n",
       "      <td>4.500000</td>\n",
       "      <td>NaN</td>\n",
       "      <td>0.356174</td>\n",
       "      <td>-0.085010</td>\n",
       "      <td>0.108129</td>\n",
       "      <td>3.755556</td>\n",
       "      <td>0.230769</td>\n",
       "      <td>0.272727</td>\n",
       "      <td>0.800000</td>\n",
       "      <td>25</td>\n",
       "      <td>0</td>\n",
       "      <td>6</td>\n",
       "      <td>True</td>\n",
       "      <td>0</td>\n",
       "      <td>0</td>\n",
       "      <td>0</td>\n",
       "      <td>unsig_ev_noup</td>\n",
       "    </tr>\n",
       "    <tr>\n",
       "      <th>...</th>\n",
       "      <td>...</td>\n",
       "      <td>...</td>\n",
       "      <td>...</td>\n",
       "      <td>...</td>\n",
       "      <td>...</td>\n",
       "      <td>...</td>\n",
       "      <td>...</td>\n",
       "      <td>...</td>\n",
       "      <td>...</td>\n",
       "      <td>...</td>\n",
       "      <td>...</td>\n",
       "      <td>...</td>\n",
       "      <td>...</td>\n",
       "      <td>...</td>\n",
       "      <td>...</td>\n",
       "      <td>...</td>\n",
       "      <td>...</td>\n",
       "      <td>...</td>\n",
       "      <td>...</td>\n",
       "      <td>...</td>\n",
       "    </tr>\n",
       "    <tr>\n",
       "      <th>61661cac7d3cc02b3fc1b52b</th>\n",
       "      <td>1</td>\n",
       "      <td>0.4</td>\n",
       "      <td>0.244444</td>\n",
       "      <td>5.909091</td>\n",
       "      <td>0.888889</td>\n",
       "      <td>0.651838</td>\n",
       "      <td>-0.138006</td>\n",
       "      <td>0.000000</td>\n",
       "      <td>3.422222</td>\n",
       "      <td>0.454545</td>\n",
       "      <td>0.500000</td>\n",
       "      <td>0.755556</td>\n",
       "      <td>47</td>\n",
       "      <td>1</td>\n",
       "      <td>5</td>\n",
       "      <td>True</td>\n",
       "      <td>1</td>\n",
       "      <td>0</td>\n",
       "      <td>0</td>\n",
       "      <td>signed_ev_colcongr_subjlied</td>\n",
       "    </tr>\n",
       "    <tr>\n",
       "      <th>61671a9d42eb53946faa44c2</th>\n",
       "      <td>2</td>\n",
       "      <td>0.5</td>\n",
       "      <td>0.088889</td>\n",
       "      <td>4.318182</td>\n",
       "      <td>0.722222</td>\n",
       "      <td>0.129569</td>\n",
       "      <td>-0.218272</td>\n",
       "      <td>0.434725</td>\n",
       "      <td>3.055556</td>\n",
       "      <td>0.406250</td>\n",
       "      <td>0.520000</td>\n",
       "      <td>0.655556</td>\n",
       "      <td>40</td>\n",
       "      <td>0</td>\n",
       "      <td>5</td>\n",
       "      <td>False</td>\n",
       "      <td>0</td>\n",
       "      <td>0</td>\n",
       "      <td>1</td>\n",
       "      <td>signed_ev_colcongr_subjlied</td>\n",
       "    </tr>\n",
       "    <tr>\n",
       "      <th>616ec0185d61b5fa0b62b42a</th>\n",
       "      <td>4</td>\n",
       "      <td>0.2</td>\n",
       "      <td>0.000000</td>\n",
       "      <td>5.000000</td>\n",
       "      <td>0.777778</td>\n",
       "      <td>0.584536</td>\n",
       "      <td>-0.031980</td>\n",
       "      <td>0.000000</td>\n",
       "      <td>3.288889</td>\n",
       "      <td>0.560000</td>\n",
       "      <td>0.583333</td>\n",
       "      <td>0.766667</td>\n",
       "      <td>58</td>\n",
       "      <td>1</td>\n",
       "      <td>6</td>\n",
       "      <td>False</td>\n",
       "      <td>1</td>\n",
       "      <td>1</td>\n",
       "      <td>0</td>\n",
       "      <td>combi_signed_ev_col_congr</td>\n",
       "    </tr>\n",
       "    <tr>\n",
       "      <th>616f35805cb9047a629edb71</th>\n",
       "      <td>4</td>\n",
       "      <td>0.3</td>\n",
       "      <td>0.088889</td>\n",
       "      <td>4.954545</td>\n",
       "      <td>1.666667</td>\n",
       "      <td>0.735956</td>\n",
       "      <td>0.064929</td>\n",
       "      <td>0.089528</td>\n",
       "      <td>2.044444</td>\n",
       "      <td>0.380000</td>\n",
       "      <td>0.826087</td>\n",
       "      <td>0.611111</td>\n",
       "      <td>19</td>\n",
       "      <td>0</td>\n",
       "      <td>2</td>\n",
       "      <td>False</td>\n",
       "      <td>1</td>\n",
       "      <td>1</td>\n",
       "      <td>0</td>\n",
       "      <td>combi_signed_ev_subj_lied</td>\n",
       "    </tr>\n",
       "    <tr>\n",
       "      <th>61702b890e755075af3a5423</th>\n",
       "      <td>0</td>\n",
       "      <td>0.4</td>\n",
       "      <td>0.500000</td>\n",
       "      <td>4.954545</td>\n",
       "      <td>0.277778</td>\n",
       "      <td>0.000000</td>\n",
       "      <td>-0.018261</td>\n",
       "      <td>0.575774</td>\n",
       "      <td>2.177778</td>\n",
       "      <td>0.219178</td>\n",
       "      <td>0.800000</td>\n",
       "      <td>0.322222</td>\n",
       "      <td>20</td>\n",
       "      <td>1</td>\n",
       "      <td>3</td>\n",
       "      <td>True</td>\n",
       "      <td>0</td>\n",
       "      <td>1</td>\n",
       "      <td>1</td>\n",
       "      <td>combi_signed_ev_col_congr</td>\n",
       "    </tr>\n",
       "  </tbody>\n",
       "</table>\n",
       "<p>100 rows × 20 columns</p>\n",
       "</div>"
      ],
      "text/plain": [
       "                          crt   aq  lie_prop        eq     rgpts  \\\n",
       "PID                                                                \n",
       "56210effed6e5a000ac7f3a5    4  0.2  0.622222  5.181818  1.777778   \n",
       "57313ba2070de6000f43384e    3  0.6  0.211111  4.954545  1.944444   \n",
       "5af196e1e1b5b8000148ac76    2  0.4  0.222222  5.136364  2.500000   \n",
       "5cd5fe480f0de600018e7251    1  0.3  0.411111  4.681818  2.722222   \n",
       "5fec7577ad8fbadf15cd5607    4  0.2  0.233333  4.500000       NaN   \n",
       "...                       ...  ...       ...       ...       ...   \n",
       "61661cac7d3cc02b3fc1b52b    1  0.4  0.244444  5.909091  0.888889   \n",
       "61671a9d42eb53946faa44c2    2  0.5  0.088889  4.318182  0.722222   \n",
       "616ec0185d61b5fa0b62b42a    4  0.2  0.000000  5.000000  0.777778   \n",
       "616f35805cb9047a629edb71    4  0.3  0.088889  4.954545  1.666667   \n",
       "61702b890e755075af3a5423    0  0.4  0.500000  4.954545  0.277778   \n",
       "\n",
       "                          signed_ev_alpha  col_congruency_alpha  \\\n",
       "PID                                                               \n",
       "56210effed6e5a000ac7f3a5         0.549441              0.022603   \n",
       "57313ba2070de6000f43384e         0.129086             -0.040522   \n",
       "5af196e1e1b5b8000148ac76         0.634702             -0.038728   \n",
       "5cd5fe480f0de600018e7251         0.402318             -0.022349   \n",
       "5fec7577ad8fbadf15cd5607         0.356174             -0.085010   \n",
       "...                                   ...                   ...   \n",
       "61661cac7d3cc02b3fc1b52b         0.651838             -0.138006   \n",
       "61671a9d42eb53946faa44c2         0.129569             -0.218272   \n",
       "616ec0185d61b5fa0b62b42a         0.584536             -0.031980   \n",
       "616f35805cb9047a629edb71         0.735956              0.064929   \n",
       "61702b890e755075af3a5423         0.000000             -0.018261   \n",
       "\n",
       "                          signed_ev_prior  mean_honesty_rating  \\\n",
       "PID                                                              \n",
       "56210effed6e5a000ac7f3a5         0.324423             1.455556   \n",
       "57313ba2070de6000f43384e         0.187498             3.755556   \n",
       "5af196e1e1b5b8000148ac76         0.051418             2.922222   \n",
       "5cd5fe480f0de600018e7251         0.105137             3.400000   \n",
       "5fec7577ad8fbadf15cd5607         0.108129             3.755556   \n",
       "...                                   ...                  ...   \n",
       "61661cac7d3cc02b3fc1b52b         0.000000             3.422222   \n",
       "61671a9d42eb53946faa44c2         0.434725             3.055556   \n",
       "616ec0185d61b5fa0b62b42a         0.000000             3.288889   \n",
       "616f35805cb9047a629edb71         0.089528             2.044444   \n",
       "61702b890e755075af3a5423         0.575774             2.177778   \n",
       "\n",
       "                          lie_detect_precision  lie_detect_recall  \\\n",
       "PID                                                                 \n",
       "56210effed6e5a000ac7f3a5              0.391892           0.966667   \n",
       "57313ba2070de6000f43384e              0.750000           0.107143   \n",
       "5af196e1e1b5b8000148ac76              0.692308           0.692308   \n",
       "5cd5fe480f0de600018e7251              0.000000           0.000000   \n",
       "5fec7577ad8fbadf15cd5607              0.230769           0.272727   \n",
       "...                                        ...                ...   \n",
       "61661cac7d3cc02b3fc1b52b              0.454545           0.500000   \n",
       "61671a9d42eb53946faa44c2              0.406250           0.520000   \n",
       "616ec0185d61b5fa0b62b42a              0.560000           0.583333   \n",
       "616f35805cb9047a629edb71              0.380000           0.826087   \n",
       "61702b890e755075af3a5423              0.219178           0.800000   \n",
       "\n",
       "                          lie_detect_accuracy  age  gender  ed_lev  high_liar  \\\n",
       "PID                                                                             \n",
       "56210effed6e5a000ac7f3a5             0.488889   38       0       5       True   \n",
       "57313ba2070de6000f43384e             0.711111   38       1       1       True   \n",
       "5af196e1e1b5b8000148ac76             0.822222   31       0       9       True   \n",
       "5cd5fe480f0de600018e7251             0.855556   28       1       3       True   \n",
       "5fec7577ad8fbadf15cd5607             0.800000   25       0       6       True   \n",
       "...                                       ...  ...     ...     ...        ...   \n",
       "61661cac7d3cc02b3fc1b52b             0.755556   47       1       5       True   \n",
       "61671a9d42eb53946faa44c2             0.655556   40       0       5      False   \n",
       "616ec0185d61b5fa0b62b42a             0.766667   58       1       6      False   \n",
       "616f35805cb9047a629edb71             0.611111   19       0       2      False   \n",
       "61702b890e755075af3a5423             0.322222   20       1       3       True   \n",
       "\n",
       "                          high_alpha  high_col_congruency_alpha  high_prior  \\\n",
       "PID                                                                           \n",
       "56210effed6e5a000ac7f3a5           1                          1           1   \n",
       "57313ba2070de6000f43384e           0                          1           1   \n",
       "5af196e1e1b5b8000148ac76           1                          1           0   \n",
       "5cd5fe480f0de600018e7251           1                          1           0   \n",
       "5fec7577ad8fbadf15cd5607           0                          0           0   \n",
       "...                              ...                        ...         ...   \n",
       "61661cac7d3cc02b3fc1b52b           1                          0           0   \n",
       "61671a9d42eb53946faa44c2           0                          0           1   \n",
       "616ec0185d61b5fa0b62b42a           1                          1           0   \n",
       "616f35805cb9047a629edb71           1                          1           0   \n",
       "61702b890e755075af3a5423           0                          1           1   \n",
       "\n",
       "                                       best_model_fit  \n",
       "PID                                                    \n",
       "56210effed6e5a000ac7f3a5                  sig_ev_noup  \n",
       "57313ba2070de6000f43384e                unsig_ev_noup  \n",
       "5af196e1e1b5b8000148ac76                unsig_ev_noup  \n",
       "5cd5fe480f0de600018e7251                  sig_ev_noup  \n",
       "5fec7577ad8fbadf15cd5607                unsig_ev_noup  \n",
       "...                                               ...  \n",
       "61661cac7d3cc02b3fc1b52b  signed_ev_colcongr_subjlied  \n",
       "61671a9d42eb53946faa44c2  signed_ev_colcongr_subjlied  \n",
       "616ec0185d61b5fa0b62b42a    combi_signed_ev_col_congr  \n",
       "616f35805cb9047a629edb71    combi_signed_ev_subj_lied  \n",
       "61702b890e755075af3a5423    combi_signed_ev_col_congr  \n",
       "\n",
       "[100 rows x 20 columns]"
      ]
     },
     "execution_count": 123,
     "metadata": {},
     "output_type": "execute_result"
    }
   ],
   "source": [
    "df"
   ]
  },
  {
   "cell_type": "code",
   "execution_count": 125,
   "metadata": {},
   "outputs": [
    {
     "data": {
      "text/plain": [
       "Counter({'sig_ev_noup': 18,\n",
       "         'unsig_ev_noup': 13,\n",
       "         'unsig_col_count': 3,\n",
       "         'signed_ev_colcongr_subjlied': 11,\n",
       "         'sig_col_count': 5,\n",
       "         'combi_signed_ev_col_congr': 37,\n",
       "         'unsig_ev_up': 1,\n",
       "         'sig_ev_up': 3,\n",
       "         'weighted_sigev_sigcolourt': 3,\n",
       "         'combi_signed_ev_subj_lied': 6})"
      ]
     },
     "execution_count": 125,
     "metadata": {},
     "output_type": "execute_result"
    }
   ],
   "source": [
    "from collections import Counter\n",
    "\n",
    "Counter(df['best_model_fit'])"
   ]
  },
  {
   "cell_type": "code",
   "execution_count": 136,
   "metadata": {},
   "outputs": [
    {
     "data": {
      "text/html": [
       "<div>\n",
       "<style scoped>\n",
       "    .dataframe tbody tr th:only-of-type {\n",
       "        vertical-align: middle;\n",
       "    }\n",
       "\n",
       "    .dataframe tbody tr th {\n",
       "        vertical-align: top;\n",
       "    }\n",
       "\n",
       "    .dataframe thead th {\n",
       "        text-align: right;\n",
       "    }\n",
       "</style>\n",
       "<table border=\"1\" class=\"dataframe\">\n",
       "  <thead>\n",
       "    <tr style=\"text-align: right;\">\n",
       "      <th>best_model_fit</th>\n",
       "      <th>combi_signed_ev_col_congr</th>\n",
       "      <th>combi_signed_ev_subj_lied</th>\n",
       "      <th>sig_col_count</th>\n",
       "      <th>sig_ev_noup</th>\n",
       "      <th>sig_ev_up</th>\n",
       "      <th>signed_ev_colcongr_subjlied</th>\n",
       "      <th>unsig_col_count</th>\n",
       "      <th>unsig_ev_noup</th>\n",
       "      <th>unsig_ev_up</th>\n",
       "      <th>weighted_sigev_sigcolourt</th>\n",
       "    </tr>\n",
       "  </thead>\n",
       "  <tbody>\n",
       "    <tr>\n",
       "      <th>count</th>\n",
       "      <td>37.000000</td>\n",
       "      <td>6.000000</td>\n",
       "      <td>5.000000</td>\n",
       "      <td>18.000000</td>\n",
       "      <td>3.000000</td>\n",
       "      <td>11.000000</td>\n",
       "      <td>3.000000</td>\n",
       "      <td>13.000000</td>\n",
       "      <td>1.000000</td>\n",
       "      <td>3.000000</td>\n",
       "    </tr>\n",
       "    <tr>\n",
       "      <th>mean</th>\n",
       "      <td>0.441645</td>\n",
       "      <td>0.350106</td>\n",
       "      <td>0.201180</td>\n",
       "      <td>0.529234</td>\n",
       "      <td>0.232576</td>\n",
       "      <td>0.440785</td>\n",
       "      <td>0.301852</td>\n",
       "      <td>0.477450</td>\n",
       "      <td>0.404762</td>\n",
       "      <td>0.370174</td>\n",
       "    </tr>\n",
       "    <tr>\n",
       "      <th>std</th>\n",
       "      <td>0.141387</td>\n",
       "      <td>0.274957</td>\n",
       "      <td>0.154677</td>\n",
       "      <td>0.235797</td>\n",
       "      <td>0.036951</td>\n",
       "      <td>0.169241</td>\n",
       "      <td>0.184620</td>\n",
       "      <td>0.218258</td>\n",
       "      <td>NaN</td>\n",
       "      <td>0.042045</td>\n",
       "    </tr>\n",
       "    <tr>\n",
       "      <th>min</th>\n",
       "      <td>0.117647</td>\n",
       "      <td>0.000000</td>\n",
       "      <td>0.000000</td>\n",
       "      <td>0.000000</td>\n",
       "      <td>0.200000</td>\n",
       "      <td>0.190476</td>\n",
       "      <td>0.088889</td>\n",
       "      <td>0.000000</td>\n",
       "      <td>0.404762</td>\n",
       "      <td>0.325000</td>\n",
       "    </tr>\n",
       "    <tr>\n",
       "      <th>25%</th>\n",
       "      <td>0.384615</td>\n",
       "      <td>0.190476</td>\n",
       "      <td>0.100000</td>\n",
       "      <td>0.400000</td>\n",
       "      <td>0.212500</td>\n",
       "      <td>0.314171</td>\n",
       "      <td>0.244444</td>\n",
       "      <td>0.406250</td>\n",
       "      <td>0.404762</td>\n",
       "      <td>0.351179</td>\n",
       "    </tr>\n",
       "    <tr>\n",
       "      <th>50%</th>\n",
       "      <td>0.435897</td>\n",
       "      <td>0.356667</td>\n",
       "      <td>0.245902</td>\n",
       "      <td>0.500000</td>\n",
       "      <td>0.225000</td>\n",
       "      <td>0.434783</td>\n",
       "      <td>0.400000</td>\n",
       "      <td>0.476190</td>\n",
       "      <td>0.404762</td>\n",
       "      <td>0.377358</td>\n",
       "    </tr>\n",
       "    <tr>\n",
       "      <th>75%</th>\n",
       "      <td>0.538462</td>\n",
       "      <td>0.428333</td>\n",
       "      <td>0.260000</td>\n",
       "      <td>0.621032</td>\n",
       "      <td>0.248864</td>\n",
       "      <td>0.575455</td>\n",
       "      <td>0.408333</td>\n",
       "      <td>0.629630</td>\n",
       "      <td>0.404762</td>\n",
       "      <td>0.392761</td>\n",
       "    </tr>\n",
       "    <tr>\n",
       "      <th>max</th>\n",
       "      <td>0.800000</td>\n",
       "      <td>0.800000</td>\n",
       "      <td>0.400000</td>\n",
       "      <td>1.000000</td>\n",
       "      <td>0.272727</td>\n",
       "      <td>0.678571</td>\n",
       "      <td>0.416667</td>\n",
       "      <td>0.750000</td>\n",
       "      <td>0.404762</td>\n",
       "      <td>0.408163</td>\n",
       "    </tr>\n",
       "  </tbody>\n",
       "</table>\n",
       "</div>"
      ],
      "text/plain": [
       "best_model_fit  combi_signed_ev_col_congr  combi_signed_ev_subj_lied  \\\n",
       "count                           37.000000                   6.000000   \n",
       "mean                             0.441645                   0.350106   \n",
       "std                              0.141387                   0.274957   \n",
       "min                              0.117647                   0.000000   \n",
       "25%                              0.384615                   0.190476   \n",
       "50%                              0.435897                   0.356667   \n",
       "75%                              0.538462                   0.428333   \n",
       "max                              0.800000                   0.800000   \n",
       "\n",
       "best_model_fit  sig_col_count  sig_ev_noup  sig_ev_up  \\\n",
       "count                5.000000    18.000000   3.000000   \n",
       "mean                 0.201180     0.529234   0.232576   \n",
       "std                  0.154677     0.235797   0.036951   \n",
       "min                  0.000000     0.000000   0.200000   \n",
       "25%                  0.100000     0.400000   0.212500   \n",
       "50%                  0.245902     0.500000   0.225000   \n",
       "75%                  0.260000     0.621032   0.248864   \n",
       "max                  0.400000     1.000000   0.272727   \n",
       "\n",
       "best_model_fit  signed_ev_colcongr_subjlied  unsig_col_count  unsig_ev_noup  \\\n",
       "count                             11.000000         3.000000      13.000000   \n",
       "mean                               0.440785         0.301852       0.477450   \n",
       "std                                0.169241         0.184620       0.218258   \n",
       "min                                0.190476         0.088889       0.000000   \n",
       "25%                                0.314171         0.244444       0.406250   \n",
       "50%                                0.434783         0.400000       0.476190   \n",
       "75%                                0.575455         0.408333       0.629630   \n",
       "max                                0.678571         0.416667       0.750000   \n",
       "\n",
       "best_model_fit  unsig_ev_up  weighted_sigev_sigcolourt  \n",
       "count              1.000000                   3.000000  \n",
       "mean               0.404762                   0.370174  \n",
       "std                     NaN                   0.042045  \n",
       "min                0.404762                   0.325000  \n",
       "25%                0.404762                   0.351179  \n",
       "50%                0.404762                   0.377358  \n",
       "75%                0.404762                   0.392761  \n",
       "max                0.404762                   0.408163  "
      ]
     },
     "execution_count": 136,
     "metadata": {},
     "output_type": "execute_result"
    }
   ],
   "source": [
    "df.pivot(columns=\"best_model_fit\", values=\"lie_detect_precision\").describe()"
   ]
  },
  {
   "cell_type": "code",
   "execution_count": 137,
   "metadata": {},
   "outputs": [],
   "source": [
    "tmp = pd.read_feather(\"./data/fr/fr100_lie_detect_model_optimalprob.feather\")"
   ]
  },
  {
   "cell_type": "code",
   "execution_count": 141,
   "metadata": {},
   "outputs": [],
   "source": [
    "tmp.join(df, on=\"uuid\").to_clipboard()"
   ]
  },
  {
   "cell_type": "code",
   "execution_count": 2,
   "metadata": {},
   "outputs": [],
   "source": [
    "import pandas as pd"
   ]
  },
  {
   "cell_type": "code",
   "execution_count": 2,
   "metadata": {},
   "outputs": [],
   "source": [
    "df = pd.read_feather(\"./data/fr/fr100_aggregate_scores.feather\")"
   ]
  },
  {
   "cell_type": "code",
   "execution_count": null,
   "metadata": {},
   "outputs": [],
   "source": []
  },
  {
   "cell_type": "code",
   "execution_count": 55,
   "metadata": {},
   "outputs": [],
   "source": [
    "with open(\"./data/fr/fr_batch6_lie_detection_accuracy.json\", \"r\", encoding='utf-8') as f:\n",
    "    df_liedetect6 = json.load(f)"
   ]
  },
  {
   "cell_type": "code",
   "execution_count": 57,
   "metadata": {},
   "outputs": [],
   "source": [
    "df_liedetection6 = pd.DataFrame.from_dict(df_liedetect6).transpose()"
   ]
  },
  {
   "cell_type": "code",
   "execution_count": 58,
   "metadata": {},
   "outputs": [
    {
     "data": {
      "text/html": [
       "<div>\n",
       "<style scoped>\n",
       "    .dataframe tbody tr th:only-of-type {\n",
       "        vertical-align: middle;\n",
       "    }\n",
       "\n",
       "    .dataframe tbody tr th {\n",
       "        vertical-align: top;\n",
       "    }\n",
       "\n",
       "    .dataframe thead th {\n",
       "        text-align: right;\n",
       "    }\n",
       "</style>\n",
       "<table border=\"1\" class=\"dataframe\">\n",
       "  <thead>\n",
       "    <tr style=\"text-align: right;\">\n",
       "      <th></th>\n",
       "      <th>n_subjective_detection</th>\n",
       "      <th>tp</th>\n",
       "      <th>fp</th>\n",
       "      <th>tn</th>\n",
       "      <th>fn</th>\n",
       "      <th>precision</th>\n",
       "      <th>recall</th>\n",
       "      <th>accuracy</th>\n",
       "      <th>f1</th>\n",
       "      <th>specificity</th>\n",
       "    </tr>\n",
       "  </thead>\n",
       "  <tbody>\n",
       "    <tr>\n",
       "      <th>55b424e1fdf99b526efcf8d0</th>\n",
       "      <td>40.0</td>\n",
       "      <td>17.0</td>\n",
       "      <td>23.0</td>\n",
       "      <td>45.0</td>\n",
       "      <td>5.0</td>\n",
       "      <td>0.425000</td>\n",
       "      <td>0.772727</td>\n",
       "      <td>0.688889</td>\n",
       "      <td>0.548387</td>\n",
       "      <td>0.661765</td>\n",
       "    </tr>\n",
       "    <tr>\n",
       "      <th>583accd26ab9a70001e2b5a7</th>\n",
       "      <td>0.0</td>\n",
       "      <td>0.0</td>\n",
       "      <td>0.0</td>\n",
       "      <td>64.0</td>\n",
       "      <td>26.0</td>\n",
       "      <td>0.000000</td>\n",
       "      <td>0.000000</td>\n",
       "      <td>0.711111</td>\n",
       "      <td>0.000000</td>\n",
       "      <td>1.000000</td>\n",
       "    </tr>\n",
       "    <tr>\n",
       "      <th>59430640f154200001b509d0</th>\n",
       "      <td>20.0</td>\n",
       "      <td>9.0</td>\n",
       "      <td>11.0</td>\n",
       "      <td>60.0</td>\n",
       "      <td>10.0</td>\n",
       "      <td>0.450000</td>\n",
       "      <td>0.473684</td>\n",
       "      <td>0.766667</td>\n",
       "      <td>0.461538</td>\n",
       "      <td>0.845070</td>\n",
       "    </tr>\n",
       "    <tr>\n",
       "      <th>5c47408447aa7b000107b7d7</th>\n",
       "      <td>35.0</td>\n",
       "      <td>10.0</td>\n",
       "      <td>25.0</td>\n",
       "      <td>44.0</td>\n",
       "      <td>11.0</td>\n",
       "      <td>0.285714</td>\n",
       "      <td>0.476190</td>\n",
       "      <td>0.600000</td>\n",
       "      <td>0.357143</td>\n",
       "      <td>0.637681</td>\n",
       "    </tr>\n",
       "    <tr>\n",
       "      <th>5c6d6d3481e1d50001627409</th>\n",
       "      <td>11.0</td>\n",
       "      <td>5.0</td>\n",
       "      <td>6.0</td>\n",
       "      <td>57.0</td>\n",
       "      <td>22.0</td>\n",
       "      <td>0.454545</td>\n",
       "      <td>0.185185</td>\n",
       "      <td>0.688889</td>\n",
       "      <td>0.263158</td>\n",
       "      <td>0.904762</td>\n",
       "    </tr>\n",
       "    <tr>\n",
       "      <th>5c7af38b670f87001746df79</th>\n",
       "      <td>37.0</td>\n",
       "      <td>5.0</td>\n",
       "      <td>32.0</td>\n",
       "      <td>39.0</td>\n",
       "      <td>14.0</td>\n",
       "      <td>0.135135</td>\n",
       "      <td>0.263158</td>\n",
       "      <td>0.488889</td>\n",
       "      <td>0.178571</td>\n",
       "      <td>0.549296</td>\n",
       "    </tr>\n",
       "    <tr>\n",
       "      <th>5ce96c839faf7d0001daf0e6</th>\n",
       "      <td>0.0</td>\n",
       "      <td>0.0</td>\n",
       "      <td>0.0</td>\n",
       "      <td>73.0</td>\n",
       "      <td>17.0</td>\n",
       "      <td>0.000000</td>\n",
       "      <td>0.000000</td>\n",
       "      <td>0.811111</td>\n",
       "      <td>0.000000</td>\n",
       "      <td>1.000000</td>\n",
       "    </tr>\n",
       "    <tr>\n",
       "      <th>5eb2e269f78ab109cca0bf0c</th>\n",
       "      <td>16.0</td>\n",
       "      <td>9.0</td>\n",
       "      <td>7.0</td>\n",
       "      <td>65.0</td>\n",
       "      <td>9.0</td>\n",
       "      <td>0.562500</td>\n",
       "      <td>0.500000</td>\n",
       "      <td>0.822222</td>\n",
       "      <td>0.529412</td>\n",
       "      <td>0.902778</td>\n",
       "    </tr>\n",
       "    <tr>\n",
       "      <th>5eff0ccd02ed424339bf7a08</th>\n",
       "      <td>31.0</td>\n",
       "      <td>16.0</td>\n",
       "      <td>15.0</td>\n",
       "      <td>57.0</td>\n",
       "      <td>2.0</td>\n",
       "      <td>0.516129</td>\n",
       "      <td>0.888889</td>\n",
       "      <td>0.811111</td>\n",
       "      <td>0.653061</td>\n",
       "      <td>0.791667</td>\n",
       "    </tr>\n",
       "    <tr>\n",
       "      <th>600092321467ea1431ac2de9</th>\n",
       "      <td>0.0</td>\n",
       "      <td>0.0</td>\n",
       "      <td>0.0</td>\n",
       "      <td>64.0</td>\n",
       "      <td>26.0</td>\n",
       "      <td>0.000000</td>\n",
       "      <td>0.000000</td>\n",
       "      <td>0.711111</td>\n",
       "      <td>0.000000</td>\n",
       "      <td>1.000000</td>\n",
       "    </tr>\n",
       "    <tr>\n",
       "      <th>60526004255ed4f2584df18e</th>\n",
       "      <td>26.0</td>\n",
       "      <td>11.0</td>\n",
       "      <td>15.0</td>\n",
       "      <td>51.0</td>\n",
       "      <td>13.0</td>\n",
       "      <td>0.423077</td>\n",
       "      <td>0.458333</td>\n",
       "      <td>0.688889</td>\n",
       "      <td>0.440000</td>\n",
       "      <td>0.772727</td>\n",
       "    </tr>\n",
       "    <tr>\n",
       "      <th>60d103ca47eb561995f29b32</th>\n",
       "      <td>30.0</td>\n",
       "      <td>7.0</td>\n",
       "      <td>23.0</td>\n",
       "      <td>50.0</td>\n",
       "      <td>10.0</td>\n",
       "      <td>0.233333</td>\n",
       "      <td>0.411765</td>\n",
       "      <td>0.633333</td>\n",
       "      <td>0.297872</td>\n",
       "      <td>0.684932</td>\n",
       "    </tr>\n",
       "    <tr>\n",
       "      <th>60fd39ffad4645e77e6afdb1</th>\n",
       "      <td>34.0</td>\n",
       "      <td>19.0</td>\n",
       "      <td>15.0</td>\n",
       "      <td>54.0</td>\n",
       "      <td>2.0</td>\n",
       "      <td>0.558824</td>\n",
       "      <td>0.904762</td>\n",
       "      <td>0.811111</td>\n",
       "      <td>0.690909</td>\n",
       "      <td>0.782609</td>\n",
       "    </tr>\n",
       "    <tr>\n",
       "      <th>61243bd7b3bc114f04400657</th>\n",
       "      <td>0.0</td>\n",
       "      <td>0.0</td>\n",
       "      <td>0.0</td>\n",
       "      <td>64.0</td>\n",
       "      <td>26.0</td>\n",
       "      <td>0.000000</td>\n",
       "      <td>0.000000</td>\n",
       "      <td>0.711111</td>\n",
       "      <td>0.000000</td>\n",
       "      <td>1.000000</td>\n",
       "    </tr>\n",
       "    <tr>\n",
       "      <th>61470c6545addee0f7b14363</th>\n",
       "      <td>28.0</td>\n",
       "      <td>13.0</td>\n",
       "      <td>15.0</td>\n",
       "      <td>54.0</td>\n",
       "      <td>8.0</td>\n",
       "      <td>0.464286</td>\n",
       "      <td>0.619048</td>\n",
       "      <td>0.744444</td>\n",
       "      <td>0.530612</td>\n",
       "      <td>0.782609</td>\n",
       "    </tr>\n",
       "    <tr>\n",
       "      <th>6157750f00a7484cb199b40d</th>\n",
       "      <td>32.0</td>\n",
       "      <td>14.0</td>\n",
       "      <td>18.0</td>\n",
       "      <td>50.0</td>\n",
       "      <td>8.0</td>\n",
       "      <td>0.437500</td>\n",
       "      <td>0.636364</td>\n",
       "      <td>0.711111</td>\n",
       "      <td>0.518519</td>\n",
       "      <td>0.735294</td>\n",
       "    </tr>\n",
       "    <tr>\n",
       "      <th>615e518ec8ce77798a747260</th>\n",
       "      <td>0.0</td>\n",
       "      <td>0.0</td>\n",
       "      <td>0.0</td>\n",
       "      <td>73.0</td>\n",
       "      <td>17.0</td>\n",
       "      <td>0.000000</td>\n",
       "      <td>0.000000</td>\n",
       "      <td>0.811111</td>\n",
       "      <td>0.000000</td>\n",
       "      <td>1.000000</td>\n",
       "    </tr>\n",
       "  </tbody>\n",
       "</table>\n",
       "</div>"
      ],
      "text/plain": [
       "                          n_subjective_detection    tp    fp    tn    fn  \\\n",
       "55b424e1fdf99b526efcf8d0                    40.0  17.0  23.0  45.0   5.0   \n",
       "583accd26ab9a70001e2b5a7                     0.0   0.0   0.0  64.0  26.0   \n",
       "59430640f154200001b509d0                    20.0   9.0  11.0  60.0  10.0   \n",
       "5c47408447aa7b000107b7d7                    35.0  10.0  25.0  44.0  11.0   \n",
       "5c6d6d3481e1d50001627409                    11.0   5.0   6.0  57.0  22.0   \n",
       "5c7af38b670f87001746df79                    37.0   5.0  32.0  39.0  14.0   \n",
       "5ce96c839faf7d0001daf0e6                     0.0   0.0   0.0  73.0  17.0   \n",
       "5eb2e269f78ab109cca0bf0c                    16.0   9.0   7.0  65.0   9.0   \n",
       "5eff0ccd02ed424339bf7a08                    31.0  16.0  15.0  57.0   2.0   \n",
       "600092321467ea1431ac2de9                     0.0   0.0   0.0  64.0  26.0   \n",
       "60526004255ed4f2584df18e                    26.0  11.0  15.0  51.0  13.0   \n",
       "60d103ca47eb561995f29b32                    30.0   7.0  23.0  50.0  10.0   \n",
       "60fd39ffad4645e77e6afdb1                    34.0  19.0  15.0  54.0   2.0   \n",
       "61243bd7b3bc114f04400657                     0.0   0.0   0.0  64.0  26.0   \n",
       "61470c6545addee0f7b14363                    28.0  13.0  15.0  54.0   8.0   \n",
       "6157750f00a7484cb199b40d                    32.0  14.0  18.0  50.0   8.0   \n",
       "615e518ec8ce77798a747260                     0.0   0.0   0.0  73.0  17.0   \n",
       "\n",
       "                          precision    recall  accuracy        f1  specificity  \n",
       "55b424e1fdf99b526efcf8d0   0.425000  0.772727  0.688889  0.548387     0.661765  \n",
       "583accd26ab9a70001e2b5a7   0.000000  0.000000  0.711111  0.000000     1.000000  \n",
       "59430640f154200001b509d0   0.450000  0.473684  0.766667  0.461538     0.845070  \n",
       "5c47408447aa7b000107b7d7   0.285714  0.476190  0.600000  0.357143     0.637681  \n",
       "5c6d6d3481e1d50001627409   0.454545  0.185185  0.688889  0.263158     0.904762  \n",
       "5c7af38b670f87001746df79   0.135135  0.263158  0.488889  0.178571     0.549296  \n",
       "5ce96c839faf7d0001daf0e6   0.000000  0.000000  0.811111  0.000000     1.000000  \n",
       "5eb2e269f78ab109cca0bf0c   0.562500  0.500000  0.822222  0.529412     0.902778  \n",
       "5eff0ccd02ed424339bf7a08   0.516129  0.888889  0.811111  0.653061     0.791667  \n",
       "600092321467ea1431ac2de9   0.000000  0.000000  0.711111  0.000000     1.000000  \n",
       "60526004255ed4f2584df18e   0.423077  0.458333  0.688889  0.440000     0.772727  \n",
       "60d103ca47eb561995f29b32   0.233333  0.411765  0.633333  0.297872     0.684932  \n",
       "60fd39ffad4645e77e6afdb1   0.558824  0.904762  0.811111  0.690909     0.782609  \n",
       "61243bd7b3bc114f04400657   0.000000  0.000000  0.711111  0.000000     1.000000  \n",
       "61470c6545addee0f7b14363   0.464286  0.619048  0.744444  0.530612     0.782609  \n",
       "6157750f00a7484cb199b40d   0.437500  0.636364  0.711111  0.518519     0.735294  \n",
       "615e518ec8ce77798a747260   0.000000  0.000000  0.811111  0.000000     1.000000  "
      ]
     },
     "execution_count": 58,
     "metadata": {},
     "output_type": "execute_result"
    }
   ],
   "source": [
    "df_liedetection6"
   ]
  },
  {
   "cell_type": "code",
   "execution_count": 59,
   "metadata": {},
   "outputs": [],
   "source": [
    "df_liedetection6['dprime_hits'] = np.where(st.norm.ppf(df_liedetection6['tp']/(df_liedetection6['tp']+df_liedetection6['fn'])) == float('-inf'), st.norm.ppf(1/(df_liedetection6['tp']+df_liedetection6['fn'])), st.norm.ppf(df_liedetection6['tp']/(df_liedetection6['tp']+df_liedetection6['fn'])))"
   ]
  },
  {
   "cell_type": "code",
   "execution_count": 60,
   "metadata": {},
   "outputs": [],
   "source": [
    "df_liedetection6['dprime_fa'] = np.where(st.norm.ppf(df_liedetection6['fp']/(df_liedetection6['tn']+df_liedetection6['fp'])) == float('-inf'), st.norm.ppf(1/(df_liedetection6['tn']+df_liedetection6['fp'])), st.norm.ppf(df_liedetection6['fp']/(df_liedetection6['tn']+df_liedetection6['fp'])))"
   ]
  },
  {
   "cell_type": "code",
   "execution_count": 61,
   "metadata": {},
   "outputs": [],
   "source": [
    "df_liedetection6['dprime'] = df_liedetection6['dprime_hits'] - df_liedetection6['dprime_fa']"
   ]
  },
  {
   "cell_type": "code",
   "execution_count": 62,
   "metadata": {},
   "outputs": [
    {
     "data": {
      "text/html": [
       "<div>\n",
       "<style scoped>\n",
       "    .dataframe tbody tr th:only-of-type {\n",
       "        vertical-align: middle;\n",
       "    }\n",
       "\n",
       "    .dataframe tbody tr th {\n",
       "        vertical-align: top;\n",
       "    }\n",
       "\n",
       "    .dataframe thead th {\n",
       "        text-align: right;\n",
       "    }\n",
       "</style>\n",
       "<table border=\"1\" class=\"dataframe\">\n",
       "  <thead>\n",
       "    <tr style=\"text-align: right;\">\n",
       "      <th></th>\n",
       "      <th>n_subjective_detection</th>\n",
       "      <th>tp</th>\n",
       "      <th>fp</th>\n",
       "      <th>tn</th>\n",
       "      <th>fn</th>\n",
       "      <th>precision</th>\n",
       "      <th>recall</th>\n",
       "      <th>accuracy</th>\n",
       "      <th>f1</th>\n",
       "      <th>specificity</th>\n",
       "      <th>dprime_hits</th>\n",
       "      <th>dprime_fa</th>\n",
       "      <th>dprime</th>\n",
       "    </tr>\n",
       "  </thead>\n",
       "  <tbody>\n",
       "    <tr>\n",
       "      <th>55b424e1fdf99b526efcf8d0</th>\n",
       "      <td>40.0</td>\n",
       "      <td>17.0</td>\n",
       "      <td>23.0</td>\n",
       "      <td>45.0</td>\n",
       "      <td>5.0</td>\n",
       "      <td>0.425000</td>\n",
       "      <td>0.772727</td>\n",
       "      <td>0.688889</td>\n",
       "      <td>0.548387</td>\n",
       "      <td>0.661765</td>\n",
       "      <td>0.747859</td>\n",
       "      <td>-0.417284</td>\n",
       "      <td>1.165143</td>\n",
       "    </tr>\n",
       "    <tr>\n",
       "      <th>583accd26ab9a70001e2b5a7</th>\n",
       "      <td>0.0</td>\n",
       "      <td>0.0</td>\n",
       "      <td>0.0</td>\n",
       "      <td>64.0</td>\n",
       "      <td>26.0</td>\n",
       "      <td>0.000000</td>\n",
       "      <td>0.000000</td>\n",
       "      <td>0.711111</td>\n",
       "      <td>0.000000</td>\n",
       "      <td>1.000000</td>\n",
       "      <td>-1.768825</td>\n",
       "      <td>-2.153875</td>\n",
       "      <td>0.385050</td>\n",
       "    </tr>\n",
       "    <tr>\n",
       "      <th>59430640f154200001b509d0</th>\n",
       "      <td>20.0</td>\n",
       "      <td>9.0</td>\n",
       "      <td>11.0</td>\n",
       "      <td>60.0</td>\n",
       "      <td>10.0</td>\n",
       "      <td>0.450000</td>\n",
       "      <td>0.473684</td>\n",
       "      <td>0.766667</td>\n",
       "      <td>0.461538</td>\n",
       "      <td>0.845070</td>\n",
       "      <td>-0.066012</td>\n",
       "      <td>-1.015518</td>\n",
       "      <td>0.949506</td>\n",
       "    </tr>\n",
       "    <tr>\n",
       "      <th>5c47408447aa7b000107b7d7</th>\n",
       "      <td>35.0</td>\n",
       "      <td>10.0</td>\n",
       "      <td>25.0</td>\n",
       "      <td>44.0</td>\n",
       "      <td>11.0</td>\n",
       "      <td>0.285714</td>\n",
       "      <td>0.476190</td>\n",
       "      <td>0.600000</td>\n",
       "      <td>0.357143</td>\n",
       "      <td>0.637681</td>\n",
       "      <td>-0.059717</td>\n",
       "      <td>-0.352267</td>\n",
       "      <td>0.292550</td>\n",
       "    </tr>\n",
       "    <tr>\n",
       "      <th>5c6d6d3481e1d50001627409</th>\n",
       "      <td>11.0</td>\n",
       "      <td>5.0</td>\n",
       "      <td>6.0</td>\n",
       "      <td>57.0</td>\n",
       "      <td>22.0</td>\n",
       "      <td>0.454545</td>\n",
       "      <td>0.185185</td>\n",
       "      <td>0.688889</td>\n",
       "      <td>0.263158</td>\n",
       "      <td>0.904762</td>\n",
       "      <td>-0.895780</td>\n",
       "      <td>-1.309172</td>\n",
       "      <td>0.413392</td>\n",
       "    </tr>\n",
       "    <tr>\n",
       "      <th>5c7af38b670f87001746df79</th>\n",
       "      <td>37.0</td>\n",
       "      <td>5.0</td>\n",
       "      <td>32.0</td>\n",
       "      <td>39.0</td>\n",
       "      <td>14.0</td>\n",
       "      <td>0.135135</td>\n",
       "      <td>0.263158</td>\n",
       "      <td>0.488889</td>\n",
       "      <td>0.178571</td>\n",
       "      <td>0.549296</td>\n",
       "      <td>-0.633640</td>\n",
       "      <td>-0.123882</td>\n",
       "      <td>-0.509758</td>\n",
       "    </tr>\n",
       "    <tr>\n",
       "      <th>5ce96c839faf7d0001daf0e6</th>\n",
       "      <td>0.0</td>\n",
       "      <td>0.0</td>\n",
       "      <td>0.0</td>\n",
       "      <td>73.0</td>\n",
       "      <td>17.0</td>\n",
       "      <td>0.000000</td>\n",
       "      <td>0.000000</td>\n",
       "      <td>0.811111</td>\n",
       "      <td>0.000000</td>\n",
       "      <td>1.000000</td>\n",
       "      <td>-1.564726</td>\n",
       "      <td>-2.205811</td>\n",
       "      <td>0.641084</td>\n",
       "    </tr>\n",
       "    <tr>\n",
       "      <th>5eb2e269f78ab109cca0bf0c</th>\n",
       "      <td>16.0</td>\n",
       "      <td>9.0</td>\n",
       "      <td>7.0</td>\n",
       "      <td>65.0</td>\n",
       "      <td>9.0</td>\n",
       "      <td>0.562500</td>\n",
       "      <td>0.500000</td>\n",
       "      <td>0.822222</td>\n",
       "      <td>0.529412</td>\n",
       "      <td>0.902778</td>\n",
       "      <td>0.000000</td>\n",
       "      <td>-1.297543</td>\n",
       "      <td>1.297543</td>\n",
       "    </tr>\n",
       "    <tr>\n",
       "      <th>5eff0ccd02ed424339bf7a08</th>\n",
       "      <td>31.0</td>\n",
       "      <td>16.0</td>\n",
       "      <td>15.0</td>\n",
       "      <td>57.0</td>\n",
       "      <td>2.0</td>\n",
       "      <td>0.516129</td>\n",
       "      <td>0.888889</td>\n",
       "      <td>0.811111</td>\n",
       "      <td>0.653061</td>\n",
       "      <td>0.791667</td>\n",
       "      <td>1.220640</td>\n",
       "      <td>-0.812218</td>\n",
       "      <td>2.032858</td>\n",
       "    </tr>\n",
       "    <tr>\n",
       "      <th>600092321467ea1431ac2de9</th>\n",
       "      <td>0.0</td>\n",
       "      <td>0.0</td>\n",
       "      <td>0.0</td>\n",
       "      <td>64.0</td>\n",
       "      <td>26.0</td>\n",
       "      <td>0.000000</td>\n",
       "      <td>0.000000</td>\n",
       "      <td>0.711111</td>\n",
       "      <td>0.000000</td>\n",
       "      <td>1.000000</td>\n",
       "      <td>-1.768825</td>\n",
       "      <td>-2.153875</td>\n",
       "      <td>0.385050</td>\n",
       "    </tr>\n",
       "    <tr>\n",
       "      <th>60526004255ed4f2584df18e</th>\n",
       "      <td>26.0</td>\n",
       "      <td>11.0</td>\n",
       "      <td>15.0</td>\n",
       "      <td>51.0</td>\n",
       "      <td>13.0</td>\n",
       "      <td>0.423077</td>\n",
       "      <td>0.458333</td>\n",
       "      <td>0.688889</td>\n",
       "      <td>0.440000</td>\n",
       "      <td>0.772727</td>\n",
       "      <td>-0.104633</td>\n",
       "      <td>-0.747859</td>\n",
       "      <td>0.643225</td>\n",
       "    </tr>\n",
       "    <tr>\n",
       "      <th>60d103ca47eb561995f29b32</th>\n",
       "      <td>30.0</td>\n",
       "      <td>7.0</td>\n",
       "      <td>23.0</td>\n",
       "      <td>50.0</td>\n",
       "      <td>10.0</td>\n",
       "      <td>0.233333</td>\n",
       "      <td>0.411765</td>\n",
       "      <td>0.633333</td>\n",
       "      <td>0.297872</td>\n",
       "      <td>0.684932</td>\n",
       "      <td>-0.223008</td>\n",
       "      <td>-0.481534</td>\n",
       "      <td>0.258526</td>\n",
       "    </tr>\n",
       "    <tr>\n",
       "      <th>60fd39ffad4645e77e6afdb1</th>\n",
       "      <td>34.0</td>\n",
       "      <td>19.0</td>\n",
       "      <td>15.0</td>\n",
       "      <td>54.0</td>\n",
       "      <td>2.0</td>\n",
       "      <td>0.558824</td>\n",
       "      <td>0.904762</td>\n",
       "      <td>0.811111</td>\n",
       "      <td>0.690909</td>\n",
       "      <td>0.782609</td>\n",
       "      <td>1.309172</td>\n",
       "      <td>-0.781034</td>\n",
       "      <td>2.090206</td>\n",
       "    </tr>\n",
       "    <tr>\n",
       "      <th>61243bd7b3bc114f04400657</th>\n",
       "      <td>0.0</td>\n",
       "      <td>0.0</td>\n",
       "      <td>0.0</td>\n",
       "      <td>64.0</td>\n",
       "      <td>26.0</td>\n",
       "      <td>0.000000</td>\n",
       "      <td>0.000000</td>\n",
       "      <td>0.711111</td>\n",
       "      <td>0.000000</td>\n",
       "      <td>1.000000</td>\n",
       "      <td>-1.768825</td>\n",
       "      <td>-2.153875</td>\n",
       "      <td>0.385050</td>\n",
       "    </tr>\n",
       "    <tr>\n",
       "      <th>61470c6545addee0f7b14363</th>\n",
       "      <td>28.0</td>\n",
       "      <td>13.0</td>\n",
       "      <td>15.0</td>\n",
       "      <td>54.0</td>\n",
       "      <td>8.0</td>\n",
       "      <td>0.464286</td>\n",
       "      <td>0.619048</td>\n",
       "      <td>0.744444</td>\n",
       "      <td>0.530612</td>\n",
       "      <td>0.782609</td>\n",
       "      <td>0.302980</td>\n",
       "      <td>-0.781034</td>\n",
       "      <td>1.084014</td>\n",
       "    </tr>\n",
       "    <tr>\n",
       "      <th>6157750f00a7484cb199b40d</th>\n",
       "      <td>32.0</td>\n",
       "      <td>14.0</td>\n",
       "      <td>18.0</td>\n",
       "      <td>50.0</td>\n",
       "      <td>8.0</td>\n",
       "      <td>0.437500</td>\n",
       "      <td>0.636364</td>\n",
       "      <td>0.711111</td>\n",
       "      <td>0.518519</td>\n",
       "      <td>0.735294</td>\n",
       "      <td>0.348756</td>\n",
       "      <td>-0.628904</td>\n",
       "      <td>0.977660</td>\n",
       "    </tr>\n",
       "    <tr>\n",
       "      <th>615e518ec8ce77798a747260</th>\n",
       "      <td>0.0</td>\n",
       "      <td>0.0</td>\n",
       "      <td>0.0</td>\n",
       "      <td>73.0</td>\n",
       "      <td>17.0</td>\n",
       "      <td>0.000000</td>\n",
       "      <td>0.000000</td>\n",
       "      <td>0.811111</td>\n",
       "      <td>0.000000</td>\n",
       "      <td>1.000000</td>\n",
       "      <td>-1.564726</td>\n",
       "      <td>-2.205811</td>\n",
       "      <td>0.641084</td>\n",
       "    </tr>\n",
       "  </tbody>\n",
       "</table>\n",
       "</div>"
      ],
      "text/plain": [
       "                          n_subjective_detection    tp    fp    tn    fn  \\\n",
       "55b424e1fdf99b526efcf8d0                    40.0  17.0  23.0  45.0   5.0   \n",
       "583accd26ab9a70001e2b5a7                     0.0   0.0   0.0  64.0  26.0   \n",
       "59430640f154200001b509d0                    20.0   9.0  11.0  60.0  10.0   \n",
       "5c47408447aa7b000107b7d7                    35.0  10.0  25.0  44.0  11.0   \n",
       "5c6d6d3481e1d50001627409                    11.0   5.0   6.0  57.0  22.0   \n",
       "5c7af38b670f87001746df79                    37.0   5.0  32.0  39.0  14.0   \n",
       "5ce96c839faf7d0001daf0e6                     0.0   0.0   0.0  73.0  17.0   \n",
       "5eb2e269f78ab109cca0bf0c                    16.0   9.0   7.0  65.0   9.0   \n",
       "5eff0ccd02ed424339bf7a08                    31.0  16.0  15.0  57.0   2.0   \n",
       "600092321467ea1431ac2de9                     0.0   0.0   0.0  64.0  26.0   \n",
       "60526004255ed4f2584df18e                    26.0  11.0  15.0  51.0  13.0   \n",
       "60d103ca47eb561995f29b32                    30.0   7.0  23.0  50.0  10.0   \n",
       "60fd39ffad4645e77e6afdb1                    34.0  19.0  15.0  54.0   2.0   \n",
       "61243bd7b3bc114f04400657                     0.0   0.0   0.0  64.0  26.0   \n",
       "61470c6545addee0f7b14363                    28.0  13.0  15.0  54.0   8.0   \n",
       "6157750f00a7484cb199b40d                    32.0  14.0  18.0  50.0   8.0   \n",
       "615e518ec8ce77798a747260                     0.0   0.0   0.0  73.0  17.0   \n",
       "\n",
       "                          precision    recall  accuracy        f1  \\\n",
       "55b424e1fdf99b526efcf8d0   0.425000  0.772727  0.688889  0.548387   \n",
       "583accd26ab9a70001e2b5a7   0.000000  0.000000  0.711111  0.000000   \n",
       "59430640f154200001b509d0   0.450000  0.473684  0.766667  0.461538   \n",
       "5c47408447aa7b000107b7d7   0.285714  0.476190  0.600000  0.357143   \n",
       "5c6d6d3481e1d50001627409   0.454545  0.185185  0.688889  0.263158   \n",
       "5c7af38b670f87001746df79   0.135135  0.263158  0.488889  0.178571   \n",
       "5ce96c839faf7d0001daf0e6   0.000000  0.000000  0.811111  0.000000   \n",
       "5eb2e269f78ab109cca0bf0c   0.562500  0.500000  0.822222  0.529412   \n",
       "5eff0ccd02ed424339bf7a08   0.516129  0.888889  0.811111  0.653061   \n",
       "600092321467ea1431ac2de9   0.000000  0.000000  0.711111  0.000000   \n",
       "60526004255ed4f2584df18e   0.423077  0.458333  0.688889  0.440000   \n",
       "60d103ca47eb561995f29b32   0.233333  0.411765  0.633333  0.297872   \n",
       "60fd39ffad4645e77e6afdb1   0.558824  0.904762  0.811111  0.690909   \n",
       "61243bd7b3bc114f04400657   0.000000  0.000000  0.711111  0.000000   \n",
       "61470c6545addee0f7b14363   0.464286  0.619048  0.744444  0.530612   \n",
       "6157750f00a7484cb199b40d   0.437500  0.636364  0.711111  0.518519   \n",
       "615e518ec8ce77798a747260   0.000000  0.000000  0.811111  0.000000   \n",
       "\n",
       "                          specificity  dprime_hits  dprime_fa    dprime  \n",
       "55b424e1fdf99b526efcf8d0     0.661765     0.747859  -0.417284  1.165143  \n",
       "583accd26ab9a70001e2b5a7     1.000000    -1.768825  -2.153875  0.385050  \n",
       "59430640f154200001b509d0     0.845070    -0.066012  -1.015518  0.949506  \n",
       "5c47408447aa7b000107b7d7     0.637681    -0.059717  -0.352267  0.292550  \n",
       "5c6d6d3481e1d50001627409     0.904762    -0.895780  -1.309172  0.413392  \n",
       "5c7af38b670f87001746df79     0.549296    -0.633640  -0.123882 -0.509758  \n",
       "5ce96c839faf7d0001daf0e6     1.000000    -1.564726  -2.205811  0.641084  \n",
       "5eb2e269f78ab109cca0bf0c     0.902778     0.000000  -1.297543  1.297543  \n",
       "5eff0ccd02ed424339bf7a08     0.791667     1.220640  -0.812218  2.032858  \n",
       "600092321467ea1431ac2de9     1.000000    -1.768825  -2.153875  0.385050  \n",
       "60526004255ed4f2584df18e     0.772727    -0.104633  -0.747859  0.643225  \n",
       "60d103ca47eb561995f29b32     0.684932    -0.223008  -0.481534  0.258526  \n",
       "60fd39ffad4645e77e6afdb1     0.782609     1.309172  -0.781034  2.090206  \n",
       "61243bd7b3bc114f04400657     1.000000    -1.768825  -2.153875  0.385050  \n",
       "61470c6545addee0f7b14363     0.782609     0.302980  -0.781034  1.084014  \n",
       "6157750f00a7484cb199b40d     0.735294     0.348756  -0.628904  0.977660  \n",
       "615e518ec8ce77798a747260     1.000000    -1.564726  -2.205811  0.641084  "
      ]
     },
     "execution_count": 62,
     "metadata": {},
     "output_type": "execute_result"
    }
   ],
   "source": [
    "df_liedetection6"
   ]
  },
  {
   "cell_type": "code",
   "execution_count": null,
   "metadata": {},
   "outputs": [],
   "source": []
  },
  {
   "cell_type": "code",
   "execution_count": 14,
   "metadata": {},
   "outputs": [],
   "source": [
    "import json\n",
    "\n",
    "with open(\"./data/fr/fr_100_lie_detection_accuracy.json\", \"r\", encoding='utf-8') as f:\n",
    "    df_liedetect = json.load(f)"
   ]
  },
  {
   "cell_type": "code",
   "execution_count": 15,
   "metadata": {},
   "outputs": [],
   "source": [
    "df_liedetection = pd.DataFrame.from_dict(df_liedetect).transpose()"
   ]
  },
  {
   "cell_type": "code",
   "execution_count": 17,
   "metadata": {},
   "outputs": [
    {
     "data": {
      "text/html": [
       "<div>\n",
       "<style scoped>\n",
       "    .dataframe tbody tr th:only-of-type {\n",
       "        vertical-align: middle;\n",
       "    }\n",
       "\n",
       "    .dataframe tbody tr th {\n",
       "        vertical-align: top;\n",
       "    }\n",
       "\n",
       "    .dataframe thead th {\n",
       "        text-align: right;\n",
       "    }\n",
       "</style>\n",
       "<table border=\"1\" class=\"dataframe\">\n",
       "  <thead>\n",
       "    <tr style=\"text-align: right;\">\n",
       "      <th></th>\n",
       "      <th>n_subjective_detection</th>\n",
       "      <th>tp</th>\n",
       "      <th>fp</th>\n",
       "      <th>tn</th>\n",
       "      <th>fn</th>\n",
       "      <th>precision</th>\n",
       "      <th>recall</th>\n",
       "      <th>accuracy</th>\n",
       "      <th>f1</th>\n",
       "      <th>specificity</th>\n",
       "    </tr>\n",
       "  </thead>\n",
       "  <tbody>\n",
       "    <tr>\n",
       "      <th>56210effed6e5a000ac7f3a5</th>\n",
       "      <td>74.0</td>\n",
       "      <td>29.0</td>\n",
       "      <td>45.0</td>\n",
       "      <td>15.0</td>\n",
       "      <td>1.0</td>\n",
       "      <td>0.391892</td>\n",
       "      <td>0.966667</td>\n",
       "      <td>0.488889</td>\n",
       "      <td>0.557692</td>\n",
       "      <td>0.250000</td>\n",
       "    </tr>\n",
       "    <tr>\n",
       "      <th>57313ba2070de6000f43384e</th>\n",
       "      <td>4.0</td>\n",
       "      <td>3.0</td>\n",
       "      <td>1.0</td>\n",
       "      <td>61.0</td>\n",
       "      <td>25.0</td>\n",
       "      <td>0.750000</td>\n",
       "      <td>0.107143</td>\n",
       "      <td>0.711111</td>\n",
       "      <td>0.187500</td>\n",
       "      <td>0.983871</td>\n",
       "    </tr>\n",
       "    <tr>\n",
       "      <th>5962eb69241f8d0001064bd3</th>\n",
       "      <td>29.0</td>\n",
       "      <td>10.0</td>\n",
       "      <td>19.0</td>\n",
       "      <td>47.0</td>\n",
       "      <td>14.0</td>\n",
       "      <td>0.344828</td>\n",
       "      <td>0.416667</td>\n",
       "      <td>0.633333</td>\n",
       "      <td>0.377358</td>\n",
       "      <td>0.712121</td>\n",
       "    </tr>\n",
       "    <tr>\n",
       "      <th>5a455b091950a80001e7c49a</th>\n",
       "      <td>2.0</td>\n",
       "      <td>2.0</td>\n",
       "      <td>0.0</td>\n",
       "      <td>74.0</td>\n",
       "      <td>14.0</td>\n",
       "      <td>1.000000</td>\n",
       "      <td>0.125000</td>\n",
       "      <td>0.844444</td>\n",
       "      <td>0.222222</td>\n",
       "      <td>1.000000</td>\n",
       "    </tr>\n",
       "    <tr>\n",
       "      <th>5ac7a7f1f69e940001d999a7</th>\n",
       "      <td>53.0</td>\n",
       "      <td>20.0</td>\n",
       "      <td>33.0</td>\n",
       "      <td>36.0</td>\n",
       "      <td>1.0</td>\n",
       "      <td>0.377358</td>\n",
       "      <td>0.952381</td>\n",
       "      <td>0.622222</td>\n",
       "      <td>0.540541</td>\n",
       "      <td>0.521739</td>\n",
       "    </tr>\n",
       "    <tr>\n",
       "      <th>...</th>\n",
       "      <td>...</td>\n",
       "      <td>...</td>\n",
       "      <td>...</td>\n",
       "      <td>...</td>\n",
       "      <td>...</td>\n",
       "      <td>...</td>\n",
       "      <td>...</td>\n",
       "      <td>...</td>\n",
       "      <td>...</td>\n",
       "      <td>...</td>\n",
       "    </tr>\n",
       "    <tr>\n",
       "      <th>616f6a2135e569c0b4861b01</th>\n",
       "      <td>1.0</td>\n",
       "      <td>0.0</td>\n",
       "      <td>1.0</td>\n",
       "      <td>69.0</td>\n",
       "      <td>20.0</td>\n",
       "      <td>0.000000</td>\n",
       "      <td>0.000000</td>\n",
       "      <td>0.766667</td>\n",
       "      <td>0.000000</td>\n",
       "      <td>0.985714</td>\n",
       "    </tr>\n",
       "    <tr>\n",
       "      <th>61701030a25961434f04b486</th>\n",
       "      <td>61.0</td>\n",
       "      <td>15.0</td>\n",
       "      <td>46.0</td>\n",
       "      <td>26.0</td>\n",
       "      <td>3.0</td>\n",
       "      <td>0.245902</td>\n",
       "      <td>0.833333</td>\n",
       "      <td>0.455556</td>\n",
       "      <td>0.379747</td>\n",
       "      <td>0.361111</td>\n",
       "    </tr>\n",
       "    <tr>\n",
       "      <th>617019b7cfb4582eb9443d6e</th>\n",
       "      <td>23.0</td>\n",
       "      <td>12.0</td>\n",
       "      <td>11.0</td>\n",
       "      <td>61.0</td>\n",
       "      <td>6.0</td>\n",
       "      <td>0.521739</td>\n",
       "      <td>0.666667</td>\n",
       "      <td>0.811111</td>\n",
       "      <td>0.585366</td>\n",
       "      <td>0.847222</td>\n",
       "    </tr>\n",
       "    <tr>\n",
       "      <th>61702b890e755075af3a5423</th>\n",
       "      <td>73.0</td>\n",
       "      <td>16.0</td>\n",
       "      <td>57.0</td>\n",
       "      <td>13.0</td>\n",
       "      <td>4.0</td>\n",
       "      <td>0.219178</td>\n",
       "      <td>0.800000</td>\n",
       "      <td>0.322222</td>\n",
       "      <td>0.344086</td>\n",
       "      <td>0.185714</td>\n",
       "    </tr>\n",
       "    <tr>\n",
       "      <th>61702d135446e67283e058de</th>\n",
       "      <td>21.0</td>\n",
       "      <td>9.0</td>\n",
       "      <td>12.0</td>\n",
       "      <td>57.0</td>\n",
       "      <td>12.0</td>\n",
       "      <td>0.428571</td>\n",
       "      <td>0.428571</td>\n",
       "      <td>0.733333</td>\n",
       "      <td>0.428571</td>\n",
       "      <td>0.826087</td>\n",
       "    </tr>\n",
       "  </tbody>\n",
       "</table>\n",
       "<p>100 rows × 10 columns</p>\n",
       "</div>"
      ],
      "text/plain": [
       "                          n_subjective_detection    tp    fp    tn    fn  \\\n",
       "56210effed6e5a000ac7f3a5                    74.0  29.0  45.0  15.0   1.0   \n",
       "57313ba2070de6000f43384e                     4.0   3.0   1.0  61.0  25.0   \n",
       "5962eb69241f8d0001064bd3                    29.0  10.0  19.0  47.0  14.0   \n",
       "5a455b091950a80001e7c49a                     2.0   2.0   0.0  74.0  14.0   \n",
       "5ac7a7f1f69e940001d999a7                    53.0  20.0  33.0  36.0   1.0   \n",
       "...                                          ...   ...   ...   ...   ...   \n",
       "616f6a2135e569c0b4861b01                     1.0   0.0   1.0  69.0  20.0   \n",
       "61701030a25961434f04b486                    61.0  15.0  46.0  26.0   3.0   \n",
       "617019b7cfb4582eb9443d6e                    23.0  12.0  11.0  61.0   6.0   \n",
       "61702b890e755075af3a5423                    73.0  16.0  57.0  13.0   4.0   \n",
       "61702d135446e67283e058de                    21.0   9.0  12.0  57.0  12.0   \n",
       "\n",
       "                          precision    recall  accuracy        f1  specificity  \n",
       "56210effed6e5a000ac7f3a5   0.391892  0.966667  0.488889  0.557692     0.250000  \n",
       "57313ba2070de6000f43384e   0.750000  0.107143  0.711111  0.187500     0.983871  \n",
       "5962eb69241f8d0001064bd3   0.344828  0.416667  0.633333  0.377358     0.712121  \n",
       "5a455b091950a80001e7c49a   1.000000  0.125000  0.844444  0.222222     1.000000  \n",
       "5ac7a7f1f69e940001d999a7   0.377358  0.952381  0.622222  0.540541     0.521739  \n",
       "...                             ...       ...       ...       ...          ...  \n",
       "616f6a2135e569c0b4861b01   0.000000  0.000000  0.766667  0.000000     0.985714  \n",
       "61701030a25961434f04b486   0.245902  0.833333  0.455556  0.379747     0.361111  \n",
       "617019b7cfb4582eb9443d6e   0.521739  0.666667  0.811111  0.585366     0.847222  \n",
       "61702b890e755075af3a5423   0.219178  0.800000  0.322222  0.344086     0.185714  \n",
       "61702d135446e67283e058de   0.428571  0.428571  0.733333  0.428571     0.826087  \n",
       "\n",
       "[100 rows x 10 columns]"
      ]
     },
     "execution_count": 17,
     "metadata": {},
     "output_type": "execute_result"
    }
   ],
   "source": [
    "df_liedetection"
   ]
  },
  {
   "cell_type": "code",
   "execution_count": 18,
   "metadata": {},
   "outputs": [],
   "source": [
    "df = df.set_index(\"PID\")"
   ]
  },
  {
   "cell_type": "code",
   "execution_count": 48,
   "metadata": {},
   "outputs": [],
   "source": [
    "df_liedetection['dprime_hits'] = np.where(st.norm.ppf(df_liedetection['tp']/(df_liedetection['tp']+df_liedetection['fn'])) == float('-inf'), st.norm.ppf(1/(df_liedetection['tp']+df_liedetection['fn'])), st.norm.ppf(df_liedetection['tp']/(df_liedetection['tp']+df_liedetection['fn'])))"
   ]
  },
  {
   "cell_type": "code",
   "execution_count": 49,
   "metadata": {},
   "outputs": [],
   "source": [
    "df_liedetection['dprime_fa'] = np.where(st.norm.ppf(df_liedetection['fp']/(df_liedetection['tn']+df_liedetection['fp'])) == float('-inf'), st.norm.ppf(1/(df_liedetection['tn']+df_liedetection['fp'])), st.norm.ppf(df_liedetection['fp']/(df_liedetection['tn']+df_liedetection['fp'])))"
   ]
  },
  {
   "cell_type": "code",
   "execution_count": 51,
   "metadata": {},
   "outputs": [],
   "source": [
    "df_liedetection['dprime'] = df_liedetection['dprime_hits'] - df_liedetection['dprime_fa']"
   ]
  },
  {
   "cell_type": "code",
   "execution_count": 54,
   "metadata": {},
   "outputs": [],
   "source": [
    "df_liedetection.reset_index().to_feather(\"./data/fr/fr100_lie_detection_accuracy_wdprime.feather\")"
   ]
  },
  {
   "cell_type": "code",
   "execution_count": 67,
   "metadata": {},
   "outputs": [],
   "source": [
    "lie_df = pd.concat([df_liedetection, df_liedetection6])"
   ]
  },
  {
   "cell_type": "code",
   "execution_count": 68,
   "metadata": {},
   "outputs": [],
   "source": [
    "lie_df.reset_index().to_feather(\"./data/fr/fr_topup_lie_detection_accuracy.feather\")"
   ]
  },
  {
   "cell_type": "code",
   "execution_count": 23,
   "metadata": {},
   "outputs": [],
   "source": [
    "df = df.join(df_liedetection['specificity'])"
   ]
  },
  {
   "cell_type": "code",
   "execution_count": 4,
   "metadata": {},
   "outputs": [],
   "source": [
    "df6 = pd.read_feather(\"./data/fr/fr_batch6_aggregate_scores.feather\")"
   ]
  },
  {
   "cell_type": "code",
   "execution_count": 21,
   "metadata": {},
   "outputs": [],
   "source": [
    "df6 = df6.set_index(\"PID\")"
   ]
  },
  {
   "cell_type": "code",
   "execution_count": 25,
   "metadata": {},
   "outputs": [],
   "source": [
    "df = pd.concat([df, df6])"
   ]
  },
  {
   "cell_type": "markdown",
   "metadata": {},
   "source": [
    "## Test group level differences"
   ]
  },
  {
   "cell_type": "code",
   "execution_count": 27,
   "metadata": {},
   "outputs": [],
   "source": [
    "exclude = [\n",
    "    \"60f44f7a57468d4e9f87fa5b\",\n",
    "\"6154284fc5154abb9a264b0c\",\n",
    "\"6160403f5164508979e6358d\",\n",
    "\"615d9f86fdd5e127d783e850\",\n",
    "\"612812ff639db35356dff7c5\",\n",
    "\"5962eb69241f8d0001064bd3\",\n",
    "\"61617a80475c4e619cbed83e\",\n",
    "\"616deadcefd7197b84ab677c\",\n",
    "\"616f43682df7bc3f99f95411\",\n",
    "\"6162a881b823e80dfcf94792\",\n",
    "\"616f6a2135e569c0b4861b01\",\n",
    "\"5cb08ecee11a890001a478ad\",\n",
    "\"5b2caaa75b5c0900018b4724\",\n",
    "\"61702b890e755075af3a5423\",\n",
    "\"616ec0185d61b5fa0b62b42a\"\n",
    "]"
   ]
  },
  {
   "cell_type": "code",
   "execution_count": 28,
   "metadata": {},
   "outputs": [],
   "source": [
    "df = df[~df.index.isin(exclude)]"
   ]
  },
  {
   "cell_type": "code",
   "execution_count": 29,
   "metadata": {},
   "outputs": [
    {
     "data": {
      "text/plain": [
       "(102, 20)"
      ]
     },
     "execution_count": 29,
     "metadata": {},
     "output_type": "execute_result"
    }
   ],
   "source": [
    "df.shape"
   ]
  },
  {
   "cell_type": "code",
   "execution_count": 30,
   "metadata": {},
   "outputs": [],
   "source": [
    "from scipy.stats import ttest_ind"
   ]
  },
  {
   "cell_type": "code",
   "execution_count": 31,
   "metadata": {},
   "outputs": [],
   "source": [
    "from statistics import median"
   ]
  },
  {
   "cell_type": "code",
   "execution_count": 32,
   "metadata": {},
   "outputs": [],
   "source": [
    "df['high_alpha'] = df['signed_ev_alpha'] > median(df['signed_ev_alpha'])"
   ]
  },
  {
   "cell_type": "code",
   "execution_count": 33,
   "metadata": {},
   "outputs": [],
   "source": [
    "df['high_prior'] = df['signed_ev_prior'] > median(df['signed_ev_prior'])"
   ]
  },
  {
   "cell_type": "code",
   "execution_count": 34,
   "metadata": {},
   "outputs": [],
   "source": [
    "df['high_liar'] = df['lie_prop'] > median(df['lie_prop'])"
   ]
  },
  {
   "cell_type": "code",
   "execution_count": 35,
   "metadata": {},
   "outputs": [],
   "source": [
    "df['high_col_congruency_alpha'] = df['col_congruency_alpha'] > median(df['col_congruency_alpha'])"
   ]
  },
  {
   "cell_type": "code",
   "execution_count": 210,
   "metadata": {},
   "outputs": [
    {
     "data": {
      "text/plain": [
       "52"
      ]
     },
     "execution_count": 210,
     "metadata": {},
     "output_type": "execute_result"
    }
   ],
   "source": [
    "len(df) - sum(df['high_liar'])"
   ]
  },
  {
   "cell_type": "code",
   "execution_count": 36,
   "metadata": {},
   "outputs": [
    {
     "data": {
      "text/plain": [
       "Ttest_indResult(statistic=-0.45643765985120377, pvalue=0.6490651108921466)"
      ]
     },
     "execution_count": 36,
     "metadata": {},
     "output_type": "execute_result"
    }
   ],
   "source": [
    "ttest_ind(df['signed_ev_prior'][df['high_liar'] == 1], df['signed_ev_prior'][df['high_liar'] == 0])"
   ]
  },
  {
   "cell_type": "code",
   "execution_count": 37,
   "metadata": {},
   "outputs": [
    {
     "data": {
      "text/plain": [
       "Ttest_indResult(statistic=2.732773170558302, pvalue=0.007427196620643524)"
      ]
     },
     "execution_count": 37,
     "metadata": {},
     "output_type": "execute_result"
    }
   ],
   "source": [
    "ttest_ind(df['signed_ev_alpha'][df['high_liar'] == 1], df['signed_ev_alpha'][df['high_liar'] == 0])"
   ]
  },
  {
   "cell_type": "code",
   "execution_count": 239,
   "metadata": {},
   "outputs": [
    {
     "data": {
      "text/plain": [
       "Text(0, 0.5, 'EV sensitivity (alpha)')"
      ]
     },
     "execution_count": 239,
     "metadata": {},
     "output_type": "execute_result"
    },
    {
     "data": {
      "image/png": "[encoded data removed]",
      "text/plain": [
       "<Figure size 432x288 with 1 Axes>"
      ]
     },
     "metadata": {
      "needs_background": "light"
     },
     "output_type": "display_data"
    }
   ],
   "source": [
    "p = sns.barplot(data=df, x=\"high_liar\", y=\"signed_ev_alpha\")\n",
    "p.set_xlabel(\"\")\n",
    "p.set_xticklabels([\"lied < median\", \"lied > median\"])\n",
    "p.set_ylabel(\"EV sensitivity (alpha)\")"
   ]
  },
  {
   "cell_type": "code",
   "execution_count": 38,
   "metadata": {},
   "outputs": [
    {
     "data": {
      "text/plain": [
       "Ttest_indResult(statistic=-1.1619772344674155, pvalue=0.24801052747499763)"
      ]
     },
     "execution_count": 38,
     "metadata": {},
     "output_type": "execute_result"
    }
   ],
   "source": [
    "ttest_ind(df['col_congruency_alpha'][df['high_liar'] == 1], df['col_congruency_alpha'][df['high_liar'] == 0])"
   ]
  },
  {
   "cell_type": "code",
   "execution_count": 39,
   "metadata": {},
   "outputs": [
    {
     "data": {
      "text/plain": [
       "Ttest_indResult(statistic=-3.8136482489955528, pvalue=0.00023706135811956078)"
      ]
     },
     "execution_count": 39,
     "metadata": {},
     "output_type": "execute_result"
    }
   ],
   "source": [
    "ttest_ind(df['mean_honesty_rating'][df['high_prior'] == 1], df['mean_honesty_rating'][df['high_prior'] == 0])"
   ]
  },
  {
   "cell_type": "code",
   "execution_count": 243,
   "metadata": {},
   "outputs": [
    {
     "data": {
      "text/plain": [
       "Text(0, 0.5, 'mean honesty rating')"
      ]
     },
     "execution_count": 243,
     "metadata": {},
     "output_type": "execute_result"
    },
    {
     "data": {
      "image/png": "[encoded data removed]",
      "text/plain": [
       "<Figure size 432x288 with 1 Axes>"
      ]
     },
     "metadata": {
      "needs_background": "light"
     },
     "output_type": "display_data"
    }
   ],
   "source": [
    "p = sns.barplot(data=df, x=\"high_prior\", y=\"mean_honesty_rating\")\n",
    "p.set_xlabel(\"\")\n",
    "p.set_xticklabels([\"baseline suspicion < median\", \"baseline suspicion > median\"])\n",
    "p.set_ylabel(\"mean honesty rating\")"
   ]
  },
  {
   "cell_type": "code",
   "execution_count": 40,
   "metadata": {},
   "outputs": [
    {
     "data": {
      "text/plain": [
       "Ttest_indResult(statistic=-1.5985806528880324, pvalue=0.11306884249310915)"
      ]
     },
     "execution_count": 40,
     "metadata": {},
     "output_type": "execute_result"
    }
   ],
   "source": [
    "ttest_ind(df['mean_honesty_rating'][df['high_alpha'] == 1], df['mean_honesty_rating'][df['high_alpha'] == 0])"
   ]
  },
  {
   "cell_type": "code",
   "execution_count": 41,
   "metadata": {},
   "outputs": [
    {
     "data": {
      "text/plain": [
       "Ttest_indResult(statistic=0.2244565907673093, pvalue=0.8228600233993648)"
      ]
     },
     "execution_count": 41,
     "metadata": {},
     "output_type": "execute_result"
    }
   ],
   "source": [
    "ttest_ind(df['mean_honesty_rating'][df['high_col_congruency_alpha'] == 1], df['mean_honesty_rating'][df['high_col_congruency_alpha'] == 0])"
   ]
  },
  {
   "cell_type": "code",
   "execution_count": 42,
   "metadata": {},
   "outputs": [
    {
     "data": {
      "text/plain": [
       "Ttest_indResult(statistic=0.5479637146058332, pvalue=0.5849379235635831)"
      ]
     },
     "execution_count": 42,
     "metadata": {},
     "output_type": "execute_result"
    }
   ],
   "source": [
    "ttest_ind(df['aq'][df['high_prior'] == 1], df['aq'][df['high_prior'] == 0])"
   ]
  },
  {
   "cell_type": "code",
   "execution_count": 43,
   "metadata": {},
   "outputs": [
    {
     "data": {
      "text/plain": [
       "Ttest_indResult(statistic=-3.650942876334267, pvalue=0.00041775138492546076)"
      ]
     },
     "execution_count": 43,
     "metadata": {},
     "output_type": "execute_result"
    }
   ],
   "source": [
    "ttest_ind(df['crt'][df['high_prior'] == 1], df['crt'][df['high_prior'] == 0])"
   ]
  },
  {
   "cell_type": "code",
   "execution_count": 245,
   "metadata": {},
   "outputs": [
    {
     "data": {
      "text/plain": [
       "Text(0, 0.5, 'cognitive reflection')"
      ]
     },
     "execution_count": 245,
     "metadata": {},
     "output_type": "execute_result"
    },
    {
     "data": {
      "image/png": "[encoded data removed]",
      "text/plain": [
       "<Figure size 432x288 with 1 Axes>"
      ]
     },
     "metadata": {
      "needs_background": "light"
     },
     "output_type": "display_data"
    }
   ],
   "source": [
    "p = sns.barplot(data=df, x=\"high_prior\", y=\"crt\")\n",
    "p.set_xlabel(\"\")\n",
    "p.set_xticklabels([\"baseline suspicion < median\", \"baseline suspicion > median\"])\n",
    "p.set_ylabel(\"cognitive reflection\")"
   ]
  },
  {
   "cell_type": "code",
   "execution_count": 44,
   "metadata": {},
   "outputs": [
    {
     "data": {
      "text/plain": [
       "Ttest_indResult(statistic=0.0, pvalue=1.0)"
      ]
     },
     "execution_count": 44,
     "metadata": {},
     "output_type": "execute_result"
    }
   ],
   "source": [
    "ttest_ind(df['rgpts'][df['high_prior'] == 1].notna(), df['rgpts'][df['high_prior'] == 0].notna())"
   ]
  },
  {
   "cell_type": "code",
   "execution_count": 45,
   "metadata": {},
   "outputs": [
    {
     "data": {
      "text/plain": [
       "Ttest_indResult(statistic=-1.383753839965339, pvalue=0.16951479157217247)"
      ]
     },
     "execution_count": 45,
     "metadata": {},
     "output_type": "execute_result"
    }
   ],
   "source": [
    "ttest_ind(df['age'][df['high_prior'] == 1], df['age'][df['high_prior'] == 0])"
   ]
  },
  {
   "cell_type": "code",
   "execution_count": 46,
   "metadata": {},
   "outputs": [
    {
     "data": {
      "text/plain": [
       "Ttest_indResult(statistic=1.1507182723729035, pvalue=0.2525923368062185)"
      ]
     },
     "execution_count": 46,
     "metadata": {},
     "output_type": "execute_result"
    }
   ],
   "source": [
    "ttest_ind(df['crt'][df['high_alpha'] == 1], df['crt'][df['high_alpha'] == 0])"
   ]
  },
  {
   "cell_type": "code",
   "execution_count": 246,
   "metadata": {},
   "outputs": [
    {
     "data": {
      "text/plain": [
       "Text(0, 0.5, 'cognitive reflection')"
      ]
     },
     "execution_count": 246,
     "metadata": {},
     "output_type": "execute_result"
    },
    {
     "data": {
      "image/png": "[encoded data removed]",
      "text/plain": [
       "<Figure size 432x288 with 1 Axes>"
      ]
     },
     "metadata": {
      "needs_background": "light"
     },
     "output_type": "display_data"
    }
   ],
   "source": [
    "p = sns.barplot(data=df, x=\"high_alpha\", y=\"crt\")\n",
    "p.set_xlabel(\"\")\n",
    "p.set_xticklabels([\"baseline suspicion < median\", \"baseline suspicion > median\"])\n",
    "p.set_ylabel(\"cognitive reflection\")"
   ]
  },
  {
   "cell_type": "code",
   "execution_count": 47,
   "metadata": {},
   "outputs": [
    {
     "data": {
      "text/plain": [
       "Ttest_indResult(statistic=0.4381342347711079, pvalue=0.6622339579036659)"
      ]
     },
     "execution_count": 47,
     "metadata": {},
     "output_type": "execute_result"
    }
   ],
   "source": [
    "ttest_ind(df['aq'][df['high_alpha'] == 1], df['aq'][df['high_alpha'] == 0])"
   ]
  },
  {
   "cell_type": "code",
   "execution_count": 48,
   "metadata": {},
   "outputs": [
    {
     "data": {
      "text/plain": [
       "Ttest_indResult(statistic=-0.06280896547707542, pvalue=0.9500439994205347)"
      ]
     },
     "execution_count": 48,
     "metadata": {},
     "output_type": "execute_result"
    }
   ],
   "source": [
    "ttest_ind(df['eq'][df['high_alpha'] == 1], df['eq'][df['high_alpha'] == 0])"
   ]
  },
  {
   "cell_type": "code",
   "execution_count": 49,
   "metadata": {},
   "outputs": [
    {
     "data": {
      "text/plain": [
       "Ttest_indResult(statistic=-0.46527999251745783, pvalue=0.64274262038074)"
      ]
     },
     "execution_count": 49,
     "metadata": {},
     "output_type": "execute_result"
    }
   ],
   "source": [
    "ttest_ind(df['eq'][df['high_col_congruency_alpha'] == 1], df['eq'][df['high_col_congruency_alpha'] == 0])"
   ]
  },
  {
   "cell_type": "code",
   "execution_count": 50,
   "metadata": {},
   "outputs": [
    {
     "data": {
      "text/plain": [
       "Ttest_indResult(statistic=-0.19581511249698977, pvalue=0.8451522337512254)"
      ]
     },
     "execution_count": 50,
     "metadata": {},
     "output_type": "execute_result"
    }
   ],
   "source": [
    "ttest_ind(df['gender'][df['high_col_congruency_alpha'] == 1], df['gender'][df['high_col_congruency_alpha'] == 0])"
   ]
  },
  {
   "cell_type": "code",
   "execution_count": 51,
   "metadata": {},
   "outputs": [
    {
     "data": {
      "text/plain": [
       "Ttest_indResult(statistic=0.6875238727711596, pvalue=0.4933442054511309)"
      ]
     },
     "execution_count": 51,
     "metadata": {},
     "output_type": "execute_result"
    }
   ],
   "source": [
    "ttest_ind(df['crt'][df['high_col_congruency_alpha'] == 1], df['crt'][df['high_col_congruency_alpha'] == 0])"
   ]
  },
  {
   "cell_type": "markdown",
   "metadata": {},
   "source": [
    "## Correlation tests"
   ]
  },
  {
   "cell_type": "code",
   "execution_count": 213,
   "metadata": {},
   "outputs": [],
   "source": [
    "from scipy.stats import pearsonr, spearmanr"
   ]
  },
  {
   "cell_type": "code",
   "execution_count": 53,
   "metadata": {},
   "outputs": [
    {
     "data": {
      "text/plain": [
       "(0.22930767088746604, 0.020431185422534314)"
      ]
     },
     "execution_count": 53,
     "metadata": {},
     "output_type": "execute_result"
    }
   ],
   "source": [
    "pearsonr(df['crt'], df['signed_ev_alpha'])"
   ]
  },
  {
   "cell_type": "code",
   "execution_count": 214,
   "metadata": {},
   "outputs": [
    {
     "data": {
      "text/plain": [
       "SpearmanrResult(correlation=0.22990028954316666, pvalue=0.020099200958938027)"
      ]
     },
     "execution_count": 214,
     "metadata": {},
     "output_type": "execute_result"
    }
   ],
   "source": [
    "spearmanr(df['crt'], df['signed_ev_alpha'])"
   ]
  },
  {
   "cell_type": "code",
   "execution_count": 211,
   "metadata": {},
   "outputs": [
    {
     "data": {
      "text/plain": [
       "<AxesSubplot:xlabel='crt', ylabel='signed_ev_alpha'>"
      ]
     },
     "execution_count": 211,
     "metadata": {},
     "output_type": "execute_result"
    },
    {
     "data": {
      "image/png": "[encoded data removed]",
      "text/plain": [
       "<Figure size 432x288 with 1 Axes>"
      ]
     },
     "metadata": {
      "needs_background": "light"
     },
     "output_type": "display_data"
    }
   ],
   "source": [
    "sns.regplot(x=df['crt'], y=df['signed_ev_alpha'])"
   ]
  },
  {
   "cell_type": "code",
   "execution_count": 212,
   "metadata": {},
   "outputs": [
    {
     "data": {
      "text/plain": [
       "<AxesSubplot:xlabel='signed_ev_alpha', ylabel='crt'>"
      ]
     },
     "execution_count": 212,
     "metadata": {},
     "output_type": "execute_result"
    },
    {
     "data": {
      "image/png": "[encoded data removed]",
      "text/plain": [
       "<Figure size 432x288 with 1 Axes>"
      ]
     },
     "metadata": {
      "needs_background": "light"
     },
     "output_type": "display_data"
    }
   ],
   "source": [
    "sns.regplot(y=df['crt'], x=df['signed_ev_alpha'])"
   ]
  },
  {
   "cell_type": "code",
   "execution_count": 235,
   "metadata": {},
   "outputs": [
    {
     "data": {
      "text/plain": [
       "<AxesSubplot:xlabel='crt', ylabel='signed_ev_alpha'>"
      ]
     },
     "execution_count": 235,
     "metadata": {},
     "output_type": "execute_result"
    },
    {
     "data": {
      "image/png": "[encoded data removed]",
      "text/plain": [
       "<Figure size 432x288 with 1 Axes>"
      ]
     },
     "metadata": {
      "needs_background": "light"
     },
     "output_type": "display_data"
    }
   ],
   "source": [
    "sns.barplot(x=df['crt'], y=df['signed_ev_alpha'])"
   ]
  },
  {
   "cell_type": "code",
   "execution_count": 54,
   "metadata": {},
   "outputs": [
    {
     "data": {
      "text/plain": [
       "(-0.17896711825693914, 0.07189805630527164)"
      ]
     },
     "execution_count": 54,
     "metadata": {},
     "output_type": "execute_result"
    }
   ],
   "source": [
    "pearsonr(df['crt'], df['signed_ev_prior'])"
   ]
  },
  {
   "cell_type": "code",
   "execution_count": 236,
   "metadata": {},
   "outputs": [
    {
     "data": {
      "text/plain": [
       "<AxesSubplot:xlabel='crt', ylabel='signed_ev_prior'>"
      ]
     },
     "execution_count": 236,
     "metadata": {},
     "output_type": "execute_result"
    },
    {
     "data": {
      "image/png": "[encoded data removed]",
      "text/plain": [
       "<Figure size 432x288 with 1 Axes>"
      ]
     },
     "metadata": {
      "needs_background": "light"
     },
     "output_type": "display_data"
    }
   ],
   "source": [
    "sns.barplot(x=df['crt'], y=df['signed_ev_prior'])"
   ]
  },
  {
   "cell_type": "code",
   "execution_count": 55,
   "metadata": {},
   "outputs": [
    {
     "data": {
      "text/plain": [
       "(-0.03864198175813178, 0.6997935862403302)"
      ]
     },
     "execution_count": 55,
     "metadata": {},
     "output_type": "execute_result"
    }
   ],
   "source": [
    "pearsonr(df['crt'], df['col_congruency_alpha'])"
   ]
  },
  {
   "cell_type": "code",
   "execution_count": 56,
   "metadata": {},
   "outputs": [
    {
     "data": {
      "text/plain": [
       "(0.11039546371363107, 0.26934225835134695)"
      ]
     },
     "execution_count": 56,
     "metadata": {},
     "output_type": "execute_result"
    }
   ],
   "source": [
    "pearsonr(df['crt'], df['age'])"
   ]
  },
  {
   "cell_type": "code",
   "execution_count": 57,
   "metadata": {},
   "outputs": [
    {
     "data": {
      "text/plain": [
       "(-0.2672266741501584, 0.00662440746426988)"
      ]
     },
     "execution_count": 57,
     "metadata": {},
     "output_type": "execute_result"
    }
   ],
   "source": [
    "pearsonr(df['crt'], df['gender'])"
   ]
  },
  {
   "cell_type": "code",
   "execution_count": 219,
   "metadata": {},
   "outputs": [
    {
     "data": {
      "text/plain": [
       "[Text(0, 0, 'non-binary'), Text(1, 0, 'male'), Text(2, 0, 'female')]"
      ]
     },
     "execution_count": 219,
     "metadata": {},
     "output_type": "execute_result"
    },
    {
     "data": {
      "image/png": "[encoded data removed]",
      "text/plain": [
       "<Figure size 432x288 with 1 Axes>"
      ]
     },
     "metadata": {
      "needs_background": "light"
     },
     "output_type": "display_data"
    }
   ],
   "source": [
    "p = sns.barplot(x=df['gender'], y=df['crt'])\n",
    "p.set_xticklabels(['non-binary', 'male', 'female'])"
   ]
  },
  {
   "cell_type": "code",
   "execution_count": 58,
   "metadata": {},
   "outputs": [
    {
     "data": {
      "text/plain": [
       "(0.12041074895626465, 0.22801309253950708)"
      ]
     },
     "execution_count": 58,
     "metadata": {},
     "output_type": "execute_result"
    }
   ],
   "source": [
    "pearsonr(df['crt'], df['ed_lev'])"
   ]
  },
  {
   "cell_type": "code",
   "execution_count": 59,
   "metadata": {},
   "outputs": [
    {
     "data": {
      "text/plain": [
       "(0.00429081466698682, 0.9658600000460413)"
      ]
     },
     "execution_count": 59,
     "metadata": {},
     "output_type": "execute_result"
    }
   ],
   "source": [
    "pearsonr(df['crt'], df['lie_detect_accuracy'])"
   ]
  },
  {
   "cell_type": "code",
   "execution_count": 60,
   "metadata": {},
   "outputs": [
    {
     "data": {
      "text/plain": [
       "(0.10269671841564773, 0.30436309948343854)"
      ]
     },
     "execution_count": 60,
     "metadata": {},
     "output_type": "execute_result"
    }
   ],
   "source": [
    "pearsonr(df['crt'], df['lie_detect_precision'])"
   ]
  },
  {
   "cell_type": "code",
   "execution_count": 61,
   "metadata": {},
   "outputs": [
    {
     "data": {
      "text/plain": [
       "(0.03554308257017231, 0.7228476785694421)"
      ]
     },
     "execution_count": 61,
     "metadata": {},
     "output_type": "execute_result"
    }
   ],
   "source": [
    "pearsonr(df['crt'], df['lie_prop'])"
   ]
  },
  {
   "cell_type": "code",
   "execution_count": 62,
   "metadata": {},
   "outputs": [
    {
     "data": {
      "text/plain": [
       "(0.0014155505596288517, 0.9887341097642971)"
      ]
     },
     "execution_count": 62,
     "metadata": {},
     "output_type": "execute_result"
    }
   ],
   "source": [
    "pearsonr(df['eq'], df['signed_ev_alpha'])"
   ]
  },
  {
   "cell_type": "code",
   "execution_count": 63,
   "metadata": {},
   "outputs": [
    {
     "data": {
      "text/plain": [
       "(0.005935224723537866, 0.9527891647217767)"
      ]
     },
     "execution_count": 63,
     "metadata": {},
     "output_type": "execute_result"
    }
   ],
   "source": [
    "pearsonr(df['eq'], df['signed_ev_prior'])"
   ]
  },
  {
   "cell_type": "code",
   "execution_count": 64,
   "metadata": {},
   "outputs": [
    {
     "data": {
      "text/plain": [
       "(0.08663521222414755, 0.38658967377613895)"
      ]
     },
     "execution_count": 64,
     "metadata": {},
     "output_type": "execute_result"
    }
   ],
   "source": [
    "pearsonr(df['eq'], df['col_congruency_alpha'])"
   ]
  },
  {
   "cell_type": "code",
   "execution_count": 65,
   "metadata": {},
   "outputs": [
    {
     "data": {
      "text/plain": [
       "(0.0030894984504916626, 0.9754147503940251)"
      ]
     },
     "execution_count": 65,
     "metadata": {},
     "output_type": "execute_result"
    }
   ],
   "source": [
    "pearsonr(df['eq'], df['age'])"
   ]
  },
  {
   "cell_type": "code",
   "execution_count": 66,
   "metadata": {},
   "outputs": [
    {
     "data": {
      "text/plain": [
       "(0.1740424650231689, 0.08021199247150117)"
      ]
     },
     "execution_count": 66,
     "metadata": {},
     "output_type": "execute_result"
    }
   ],
   "source": [
    "pearsonr(df['eq'], df['gender'])"
   ]
  },
  {
   "cell_type": "code",
   "execution_count": 220,
   "metadata": {},
   "outputs": [
    {
     "data": {
      "text/plain": [
       "[Text(0, 0, 'non-binary'), Text(1, 0, 'male'), Text(2, 0, 'female')]"
      ]
     },
     "execution_count": 220,
     "metadata": {},
     "output_type": "execute_result"
    },
    {
     "data": {
      "image/png": "[encoded data removed]",
      "text/plain": [
       "<Figure size 432x288 with 1 Axes>"
      ]
     },
     "metadata": {
      "needs_background": "light"
     },
     "output_type": "display_data"
    }
   ],
   "source": [
    "p = sns.barplot(x=df['gender'], y=df['eq'])\n",
    "p.set_xticklabels(['non-binary', 'male', 'female'])"
   ]
  },
  {
   "cell_type": "code",
   "execution_count": 67,
   "metadata": {},
   "outputs": [
    {
     "data": {
      "text/plain": [
       "(-0.1199723220643277, 0.22972347162616374)"
      ]
     },
     "execution_count": 67,
     "metadata": {},
     "output_type": "execute_result"
    }
   ],
   "source": [
    "pearsonr(df['eq'], df['ed_lev'])"
   ]
  },
  {
   "cell_type": "code",
   "execution_count": 68,
   "metadata": {},
   "outputs": [
    {
     "data": {
      "text/plain": [
       "(-0.031091990094337895, 0.7563946951742223)"
      ]
     },
     "execution_count": 68,
     "metadata": {},
     "output_type": "execute_result"
    }
   ],
   "source": [
    "pearsonr(df['eq'], df['lie_detect_accuracy'])"
   ]
  },
  {
   "cell_type": "code",
   "execution_count": 69,
   "metadata": {},
   "outputs": [
    {
     "data": {
      "text/plain": [
       "(-0.026663718258246098, 0.7902247576207552)"
      ]
     },
     "execution_count": 69,
     "metadata": {},
     "output_type": "execute_result"
    }
   ],
   "source": [
    "pearsonr(df['eq'], df['lie_detect_precision'])"
   ]
  },
  {
   "cell_type": "code",
   "execution_count": 70,
   "metadata": {},
   "outputs": [
    {
     "data": {
      "text/plain": [
       "(-0.13775290812049404, 0.16737686284589615)"
      ]
     },
     "execution_count": 70,
     "metadata": {},
     "output_type": "execute_result"
    }
   ],
   "source": [
    "pearsonr(df['eq'], df['lie_prop'])"
   ]
  },
  {
   "cell_type": "code",
   "execution_count": 71,
   "metadata": {},
   "outputs": [
    {
     "data": {
      "text/plain": [
       "(0.012444693223231879, 0.9012036206083979)"
      ]
     },
     "execution_count": 71,
     "metadata": {},
     "output_type": "execute_result"
    }
   ],
   "source": [
    "pearsonr(df['aq'], df['signed_ev_alpha'])"
   ]
  },
  {
   "cell_type": "code",
   "execution_count": 72,
   "metadata": {},
   "outputs": [
    {
     "data": {
      "text/plain": [
       "(0.0640560324004845, 0.5224207149252059)"
      ]
     },
     "execution_count": 72,
     "metadata": {},
     "output_type": "execute_result"
    }
   ],
   "source": [
    "pearsonr(df['aq'], df['signed_ev_prior'])"
   ]
  },
  {
   "cell_type": "code",
   "execution_count": 73,
   "metadata": {},
   "outputs": [
    {
     "data": {
      "text/plain": [
       "(-0.002992437122738347, 0.9761869041054846)"
      ]
     },
     "execution_count": 73,
     "metadata": {},
     "output_type": "execute_result"
    }
   ],
   "source": [
    "pearsonr(df['aq'], df['col_congruency_alpha'])"
   ]
  },
  {
   "cell_type": "code",
   "execution_count": 74,
   "metadata": {},
   "outputs": [
    {
     "data": {
      "text/plain": [
       "(-0.27765687345684836, 0.00472193365736212)"
      ]
     },
     "execution_count": 74,
     "metadata": {},
     "output_type": "execute_result"
    }
   ],
   "source": [
    "pearsonr(df['aq'], df['age'])"
   ]
  },
  {
   "cell_type": "code",
   "execution_count": 222,
   "metadata": {},
   "outputs": [
    {
     "data": {
      "text/plain": [
       "<AxesSubplot:xlabel='age', ylabel='aq'>"
      ]
     },
     "execution_count": 222,
     "metadata": {},
     "output_type": "execute_result"
    },
    {
     "data": {
      "image/png": "[encoded data removed]",
      "text/plain": [
       "<Figure size 432x288 with 1 Axes>"
      ]
     },
     "metadata": {
      "needs_background": "light"
     },
     "output_type": "display_data"
    }
   ],
   "source": [
    "sns.regplot(y=df['aq'], x=df['age'])"
   ]
  },
  {
   "cell_type": "code",
   "execution_count": 75,
   "metadata": {},
   "outputs": [
    {
     "data": {
      "text/plain": [
       "(0.07498281885206927, 0.45385032238158923)"
      ]
     },
     "execution_count": 75,
     "metadata": {},
     "output_type": "execute_result"
    }
   ],
   "source": [
    "pearsonr(df['aq'], df['gender'])"
   ]
  },
  {
   "cell_type": "code",
   "execution_count": 76,
   "metadata": {},
   "outputs": [
    {
     "data": {
      "text/plain": [
       "(-0.06367754654316359, 0.5248863236853252)"
      ]
     },
     "execution_count": 76,
     "metadata": {},
     "output_type": "execute_result"
    }
   ],
   "source": [
    "pearsonr(df['aq'], df['ed_lev'])"
   ]
  },
  {
   "cell_type": "code",
   "execution_count": 77,
   "metadata": {},
   "outputs": [
    {
     "data": {
      "text/plain": [
       "(-0.04604249238551919, 0.6458613617494736)"
      ]
     },
     "execution_count": 77,
     "metadata": {},
     "output_type": "execute_result"
    }
   ],
   "source": [
    "pearsonr(df['aq'], df['lie_detect_accuracy'])"
   ]
  },
  {
   "cell_type": "code",
   "execution_count": 78,
   "metadata": {},
   "outputs": [
    {
     "data": {
      "text/plain": [
       "(0.12103632742686458, 0.22558810492609688)"
      ]
     },
     "execution_count": 78,
     "metadata": {},
     "output_type": "execute_result"
    }
   ],
   "source": [
    "pearsonr(df['aq'], df['lie_detect_precision'])"
   ]
  },
  {
   "cell_type": "code",
   "execution_count": 79,
   "metadata": {},
   "outputs": [
    {
     "data": {
      "text/plain": [
       "(0.027810825960911466, 0.7814210984489044)"
      ]
     },
     "execution_count": 79,
     "metadata": {},
     "output_type": "execute_result"
    }
   ],
   "source": [
    "pearsonr(df['aq'], df['lie_prop'])"
   ]
  },
  {
   "cell_type": "code",
   "execution_count": 80,
   "metadata": {},
   "outputs": [
    {
     "data": {
      "text/plain": [
       "(-0.22756255335976433, 0.02143629315419659)"
      ]
     },
     "execution_count": 80,
     "metadata": {},
     "output_type": "execute_result"
    }
   ],
   "source": [
    "pearsonr(df['mean_honesty_rating'], df['signed_ev_alpha']) #change"
   ]
  },
  {
   "cell_type": "code",
   "execution_count": 223,
   "metadata": {},
   "outputs": [
    {
     "data": {
      "text/plain": [
       "<AxesSubplot:xlabel='signed_ev_alpha', ylabel='mean_honesty_rating'>"
      ]
     },
     "execution_count": 223,
     "metadata": {},
     "output_type": "execute_result"
    },
    {
     "data": {
      "image/png": "[encoded data removed]",
      "text/plain": [
       "<Figure size 432x288 with 1 Axes>"
      ]
     },
     "metadata": {
      "needs_background": "light"
     },
     "output_type": "display_data"
    }
   ],
   "source": [
    "sns.regplot(x=df['signed_ev_alpha'], y=df['mean_honesty_rating'])"
   ]
  },
  {
   "cell_type": "code",
   "execution_count": 81,
   "metadata": {},
   "outputs": [
    {
     "data": {
      "text/plain": [
       "(-0.45578570527204604, 1.48080117490401e-06)"
      ]
     },
     "execution_count": 81,
     "metadata": {},
     "output_type": "execute_result"
    }
   ],
   "source": [
    "pearsonr(df['mean_honesty_rating'], df['signed_ev_prior'])"
   ]
  },
  {
   "cell_type": "code",
   "execution_count": 224,
   "metadata": {},
   "outputs": [
    {
     "data": {
      "text/plain": [
       "<AxesSubplot:xlabel='signed_ev_prior', ylabel='mean_honesty_rating'>"
      ]
     },
     "execution_count": 224,
     "metadata": {},
     "output_type": "execute_result"
    },
    {
     "data": {
      "image/png": "[encoded data removed]",
      "text/plain": [
       "<Figure size 432x288 with 1 Axes>"
      ]
     },
     "metadata": {
      "needs_background": "light"
     },
     "output_type": "display_data"
    }
   ],
   "source": [
    "sns.regplot(x=df['signed_ev_prior'], y=df['mean_honesty_rating'])"
   ]
  },
  {
   "cell_type": "code",
   "execution_count": 82,
   "metadata": {},
   "outputs": [
    {
     "data": {
      "text/plain": [
       "(0.024969408834780424, 0.8032760726926987)"
      ]
     },
     "execution_count": 82,
     "metadata": {},
     "output_type": "execute_result"
    }
   ],
   "source": [
    "pearsonr(df['mean_honesty_rating'], df['col_congruency_alpha'])"
   ]
  },
  {
   "cell_type": "code",
   "execution_count": 83,
   "metadata": {},
   "outputs": [
    {
     "data": {
      "text/plain": [
       "(0.26178931211013146, 0.007863405155154504)"
      ]
     },
     "execution_count": 83,
     "metadata": {},
     "output_type": "execute_result"
    }
   ],
   "source": [
    "pearsonr(df['mean_honesty_rating'], df['age'])"
   ]
  },
  {
   "cell_type": "code",
   "execution_count": 225,
   "metadata": {},
   "outputs": [
    {
     "data": {
      "text/plain": [
       "<AxesSubplot:xlabel='age', ylabel='mean_honesty_rating'>"
      ]
     },
     "execution_count": 225,
     "metadata": {},
     "output_type": "execute_result"
    },
    {
     "data": {
      "image/png": "[encoded data removed]",
      "text/plain": [
       "<Figure size 432x288 with 1 Axes>"
      ]
     },
     "metadata": {
      "needs_background": "light"
     },
     "output_type": "display_data"
    }
   ],
   "source": [
    "sns.regplot(x=df['age'], y=df['mean_honesty_rating'])"
   ]
  },
  {
   "cell_type": "code",
   "execution_count": 84,
   "metadata": {},
   "outputs": [
    {
     "data": {
      "text/plain": [
       "(0.1457801650750658, 0.1437454650178755)"
      ]
     },
     "execution_count": 84,
     "metadata": {},
     "output_type": "execute_result"
    }
   ],
   "source": [
    "pearsonr(df['mean_honesty_rating'], df['gender'])"
   ]
  },
  {
   "cell_type": "code",
   "execution_count": 85,
   "metadata": {},
   "outputs": [
    {
     "data": {
      "text/plain": [
       "(-0.021656530636644956, 0.8289488239940235)"
      ]
     },
     "execution_count": 85,
     "metadata": {},
     "output_type": "execute_result"
    }
   ],
   "source": [
    "pearsonr(df['mean_honesty_rating'], df['ed_lev'])"
   ]
  },
  {
   "cell_type": "code",
   "execution_count": 86,
   "metadata": {},
   "outputs": [
    {
     "data": {
      "text/plain": [
       "(0.5963813984317203, 3.743845371037477e-11)"
      ]
     },
     "execution_count": 86,
     "metadata": {},
     "output_type": "execute_result"
    }
   ],
   "source": [
    "pearsonr(df['mean_honesty_rating'], df['lie_detect_accuracy'])"
   ]
  },
  {
   "cell_type": "code",
   "execution_count": 226,
   "metadata": {
    "scrolled": true
   },
   "outputs": [
    {
     "data": {
      "text/plain": [
       "<AxesSubplot:xlabel='lie_detect_accuracy', ylabel='mean_honesty_rating'>"
      ]
     },
     "execution_count": 226,
     "metadata": {},
     "output_type": "execute_result"
    },
    {
     "data": {
      "image/png": "[encoded data removed]",
      "text/plain": [
       "<Figure size 432x288 with 1 Axes>"
      ]
     },
     "metadata": {
      "needs_background": "light"
     },
     "output_type": "display_data"
    }
   ],
   "source": [
    "sns.regplot(x=df['lie_detect_accuracy'], y=df['mean_honesty_rating'])"
   ]
  },
  {
   "cell_type": "code",
   "execution_count": 87,
   "metadata": {},
   "outputs": [
    {
     "data": {
      "text/plain": [
       "(0.006646637184905574, 0.9471380683916681)"
      ]
     },
     "execution_count": 87,
     "metadata": {},
     "output_type": "execute_result"
    }
   ],
   "source": [
    "pearsonr(df['mean_honesty_rating'], df['lie_detect_precision'])"
   ]
  },
  {
   "cell_type": "code",
   "execution_count": 88,
   "metadata": {},
   "outputs": [
    {
     "data": {
      "text/plain": [
       "(-0.2862735373915785, 0.0035353450941274624)"
      ]
     },
     "execution_count": 88,
     "metadata": {},
     "output_type": "execute_result"
    }
   ],
   "source": [
    "pearsonr(df['mean_honesty_rating'], df['lie_prop']) #change"
   ]
  },
  {
   "cell_type": "code",
   "execution_count": 227,
   "metadata": {},
   "outputs": [
    {
     "data": {
      "text/plain": [
       "<AxesSubplot:xlabel='lie_prop', ylabel='mean_honesty_rating'>"
      ]
     },
     "execution_count": 227,
     "metadata": {},
     "output_type": "execute_result"
    },
    {
     "data": {
      "image/png": "[encoded data removed]",
      "text/plain": [
       "<Figure size 432x288 with 1 Axes>"
      ]
     },
     "metadata": {
      "needs_background": "light"
     },
     "output_type": "display_data"
    }
   ],
   "source": [
    "sns.regplot(x=df['lie_prop'], y=df['mean_honesty_rating'])"
   ]
  },
  {
   "cell_type": "code",
   "execution_count": 89,
   "metadata": {},
   "outputs": [
    {
     "data": {
      "text/plain": [
       "(0.20356402015904684, 0.04016021748041549)"
      ]
     },
     "execution_count": 89,
     "metadata": {},
     "output_type": "execute_result"
    }
   ],
   "source": [
    "pearsonr(df['lie_prop'], df['signed_ev_alpha']) #change"
   ]
  },
  {
   "cell_type": "code",
   "execution_count": 248,
   "metadata": {},
   "outputs": [
    {
     "data": {
      "text/plain": [
       "<AxesSubplot:xlabel='lie_prop', ylabel='signed_ev_alpha'>"
      ]
     },
     "execution_count": 248,
     "metadata": {},
     "output_type": "execute_result"
    },
    {
     "data": {
      "image/png": "[encoded data removed]",
      "text/plain": [
       "<Figure size 432x288 with 1 Axes>"
      ]
     },
     "metadata": {
      "needs_background": "light"
     },
     "output_type": "display_data"
    }
   ],
   "source": [
    "sns.regplot(y=df['signed_ev_alpha'], x=df['lie_prop'])"
   ]
  },
  {
   "cell_type": "code",
   "execution_count": 229,
   "metadata": {},
   "outputs": [
    {
     "data": {
      "text/plain": [
       "SpearmanrResult(correlation=0.21917403451734685, pvalue=0.026880248904813848)"
      ]
     },
     "execution_count": 229,
     "metadata": {},
     "output_type": "execute_result"
    }
   ],
   "source": [
    "spearmanr(df['lie_prop'], df['signed_ev_alpha'])"
   ]
  },
  {
   "cell_type": "code",
   "execution_count": 90,
   "metadata": {},
   "outputs": [
    {
     "data": {
      "text/plain": [
       "(0.06652855607209676, 0.5064591962230764)"
      ]
     },
     "execution_count": 90,
     "metadata": {},
     "output_type": "execute_result"
    }
   ],
   "source": [
    "pearsonr(df['lie_prop'], df['signed_ev_prior'])"
   ]
  },
  {
   "cell_type": "code",
   "execution_count": 91,
   "metadata": {},
   "outputs": [
    {
     "data": {
      "text/plain": [
       "(-0.09343694830191036, 0.3502615006919804)"
      ]
     },
     "execution_count": 91,
     "metadata": {},
     "output_type": "execute_result"
    }
   ],
   "source": [
    "pearsonr(df['lie_prop'], df['col_congruency_alpha'])"
   ]
  },
  {
   "cell_type": "code",
   "execution_count": 92,
   "metadata": {},
   "outputs": [
    {
     "data": {
      "text/plain": [
       "(0.03187930959315926, 0.7504257495918073)"
      ]
     },
     "execution_count": 92,
     "metadata": {},
     "output_type": "execute_result"
    }
   ],
   "source": [
    "pearsonr(df['lie_prop'], df['age'])"
   ]
  },
  {
   "cell_type": "code",
   "execution_count": 93,
   "metadata": {},
   "outputs": [
    {
     "data": {
      "text/plain": [
       "(-0.22785184969782388, 0.021266796714607857)"
      ]
     },
     "execution_count": 93,
     "metadata": {},
     "output_type": "execute_result"
    }
   ],
   "source": [
    "pearsonr(df['lie_prop'], df['gender'])"
   ]
  },
  {
   "cell_type": "code",
   "execution_count": 247,
   "metadata": {},
   "outputs": [
    {
     "data": {
      "text/plain": [
       "[Text(0, 0, 'non-binary'), Text(1, 0, 'male'), Text(2, 0, 'female')]"
      ]
     },
     "execution_count": 247,
     "metadata": {},
     "output_type": "execute_result"
    },
    {
     "data": {
      "image/png": "[encoded data removed]",
      "text/plain": [
       "<Figure size 432x288 with 1 Axes>"
      ]
     },
     "metadata": {
      "needs_background": "light"
     },
     "output_type": "display_data"
    }
   ],
   "source": [
    "p = sns.barplot(x=df['gender'], y=df['lie_prop'])\n",
    "p.set_xticklabels(['non-binary', 'male', 'female'])"
   ]
  },
  {
   "cell_type": "code",
   "execution_count": 94,
   "metadata": {},
   "outputs": [
    {
     "data": {
      "text/plain": [
       "(0.14387584165616463, 0.14910953005078528)"
      ]
     },
     "execution_count": 94,
     "metadata": {},
     "output_type": "execute_result"
    }
   ],
   "source": [
    "pearsonr(df['lie_prop'], df['ed_lev'])"
   ]
  },
  {
   "cell_type": "code",
   "execution_count": 95,
   "metadata": {},
   "outputs": [
    {
     "data": {
      "text/plain": [
       "(-0.2706655366745977, 0.005933130971726585)"
      ]
     },
     "execution_count": 95,
     "metadata": {},
     "output_type": "execute_result"
    }
   ],
   "source": [
    "pearsonr(df['lie_prop'], df['lie_detect_accuracy'])"
   ]
  },
  {
   "cell_type": "code",
   "execution_count": 231,
   "metadata": {},
   "outputs": [
    {
     "data": {
      "text/plain": [
       "<AxesSubplot:xlabel='lie_prop', ylabel='lie_detect_accuracy'>"
      ]
     },
     "execution_count": 231,
     "metadata": {},
     "output_type": "execute_result"
    },
    {
     "data": {
      "image/png": "[encoded data removed]",
      "text/plain": [
       "<Figure size 432x288 with 1 Axes>"
      ]
     },
     "metadata": {
      "needs_background": "light"
     },
     "output_type": "display_data"
    }
   ],
   "source": [
    "sns.regplot(x=df['lie_prop'], y=df['lie_detect_accuracy'])"
   ]
  },
  {
   "cell_type": "code",
   "execution_count": 96,
   "metadata": {},
   "outputs": [
    {
     "data": {
      "text/plain": [
       "(-0.02116343425411084, 0.8327861511877311)"
      ]
     },
     "execution_count": 96,
     "metadata": {},
     "output_type": "execute_result"
    }
   ],
   "source": [
    "pearsonr(df['lie_prop'], df['lie_detect_precision'])"
   ]
  },
  {
   "cell_type": "markdown",
   "metadata": {},
   "source": [
    "### paranoia"
   ]
  },
  {
   "cell_type": "code",
   "execution_count": 233,
   "metadata": {},
   "outputs": [],
   "source": [
    "tmp = df.dropna()"
   ]
  },
  {
   "cell_type": "code",
   "execution_count": 98,
   "metadata": {},
   "outputs": [
    {
     "data": {
      "text/plain": [
       "(0.026744867763944732, 0.7937760343285415)"
      ]
     },
     "execution_count": 98,
     "metadata": {},
     "output_type": "execute_result"
    }
   ],
   "source": [
    "pearsonr(tmp['rgpts'], tmp['signed_ev_alpha'])"
   ]
  },
  {
   "cell_type": "code",
   "execution_count": 99,
   "metadata": {},
   "outputs": [
    {
     "data": {
      "text/plain": [
       "(0.10948680837007296, 0.2831869385151305)"
      ]
     },
     "execution_count": 99,
     "metadata": {},
     "output_type": "execute_result"
    }
   ],
   "source": [
    "pearsonr(tmp['rgpts'], tmp['signed_ev_prior'])"
   ]
  },
  {
   "cell_type": "code",
   "execution_count": 100,
   "metadata": {},
   "outputs": [
    {
     "data": {
      "text/plain": [
       "(0.022779819298251465, 0.8238124519429222)"
      ]
     },
     "execution_count": 100,
     "metadata": {},
     "output_type": "execute_result"
    }
   ],
   "source": [
    "pearsonr(tmp['rgpts'], tmp['col_congruency_alpha'])"
   ]
  },
  {
   "cell_type": "code",
   "execution_count": 101,
   "metadata": {},
   "outputs": [
    {
     "data": {
      "text/plain": [
       "(-0.050359872315241874, 0.6223988337744883)"
      ]
     },
     "execution_count": 101,
     "metadata": {},
     "output_type": "execute_result"
    }
   ],
   "source": [
    "pearsonr(tmp['rgpts'], tmp['lie_prop'])"
   ]
  },
  {
   "cell_type": "code",
   "execution_count": 102,
   "metadata": {},
   "outputs": [
    {
     "data": {
      "text/plain": [
       "(0.02941357897138958, 0.7737250756173382)"
      ]
     },
     "execution_count": 102,
     "metadata": {},
     "output_type": "execute_result"
    }
   ],
   "source": [
    "pearsonr(tmp['rgpts'], tmp['lie_detect_accuracy'])"
   ]
  },
  {
   "cell_type": "code",
   "execution_count": 103,
   "metadata": {},
   "outputs": [
    {
     "data": {
      "text/plain": [
       "(-0.07008800940978893, 0.4928533609560655)"
      ]
     },
     "execution_count": 103,
     "metadata": {},
     "output_type": "execute_result"
    }
   ],
   "source": [
    "pearsonr(tmp['rgpts'], tmp['lie_detect_precision'])"
   ]
  },
  {
   "cell_type": "code",
   "execution_count": 104,
   "metadata": {},
   "outputs": [
    {
     "data": {
      "text/plain": [
       "(0.13477705133892676, 0.18578490851390483)"
      ]
     },
     "execution_count": 104,
     "metadata": {},
     "output_type": "execute_result"
    }
   ],
   "source": [
    "pearsonr(tmp['rgpts'], tmp['lie_detect_recall'])"
   ]
  },
  {
   "cell_type": "code",
   "execution_count": 105,
   "metadata": {},
   "outputs": [
    {
     "data": {
      "text/plain": [
       "(0.0872624803758146, 0.3928822030601391)"
      ]
     },
     "execution_count": 105,
     "metadata": {},
     "output_type": "execute_result"
    }
   ],
   "source": [
    "pearsonr(tmp['rgpts'], tmp['gender'])"
   ]
  },
  {
   "cell_type": "code",
   "execution_count": 106,
   "metadata": {},
   "outputs": [
    {
     "data": {
      "text/plain": [
       "(-0.3565880242046959, 0.0003133778984501622)"
      ]
     },
     "execution_count": 106,
     "metadata": {},
     "output_type": "execute_result"
    }
   ],
   "source": [
    "pearsonr(tmp['rgpts'], tmp['age'])"
   ]
  },
  {
   "cell_type": "code",
   "execution_count": 234,
   "metadata": {},
   "outputs": [
    {
     "data": {
      "text/plain": [
       "<AxesSubplot:xlabel='rgpts', ylabel='age'>"
      ]
     },
     "execution_count": 234,
     "metadata": {},
     "output_type": "execute_result"
    },
    {
     "data": {
      "image/png": "[encoded data removed]",
      "text/plain": [
       "<Figure size 432x288 with 1 Axes>"
      ]
     },
     "metadata": {
      "needs_background": "light"
     },
     "output_type": "display_data"
    }
   ],
   "source": [
    "sns.regplot(x=tmp['rgpts'], y=tmp['age'])"
   ]
  },
  {
   "cell_type": "code",
   "execution_count": 107,
   "metadata": {},
   "outputs": [
    {
     "data": {
      "text/plain": [
       "(-0.07210873933913274, 0.4804366610629778)"
      ]
     },
     "execution_count": 107,
     "metadata": {},
     "output_type": "execute_result"
    }
   ],
   "source": [
    "pearsonr(tmp['rgpts'], tmp['ed_lev'])"
   ]
  },
  {
   "cell_type": "markdown",
   "metadata": {},
   "source": [
    "## Optimal lie detection subjects: parameter estimates"
   ]
  },
  {
   "cell_type": "code",
   "execution_count": 249,
   "metadata": {},
   "outputs": [],
   "source": [
    "import numpy as np"
   ]
  },
  {
   "cell_type": "code",
   "execution_count": 250,
   "metadata": {},
   "outputs": [],
   "source": [
    "import json"
   ]
  },
  {
   "cell_type": "code",
   "execution_count": 251,
   "metadata": {},
   "outputs": [],
   "source": [
    "with open(\"./data/fr/fr_topup_fit_sig_col_count_perfect_lie_detector.json\", \"r\", encoding=\"utf-8\") as f:\n",
    "    res1 = json.load(f)"
   ]
  },
  {
   "cell_type": "code",
   "execution_count": 252,
   "metadata": {
    "scrolled": true
   },
   "outputs": [],
   "source": [
    "param1 = []\n",
    "param2 = []\n",
    "R2 = []\n",
    "\n",
    "for uuid in res1:\n",
    "#     print(uuid)\n",
    "    param1.append(res1[uuid]['est_prior'])\n",
    "    param2.append(res1[uuid]['est_alpha'])\n",
    "    R2.append(res1[uuid]['R2'])\n",
    "#     param1.append(res1[uuid]['est_alpha1'])"
   ]
  },
  {
   "cell_type": "code",
   "execution_count": 253,
   "metadata": {
    "scrolled": true
   },
   "outputs": [
    {
     "name": "stdout",
     "output_type": "stream",
     "text": [
      "prior estimnate mean 0.044060735727119625 SD 0.05935302632345131\n"
     ]
    }
   ],
   "source": [
    "print(\"prior estimnate\", \"mean\", sum(param1)/len(param1),\n",
    "     \"SD\", np.std(param1))"
   ]
  },
  {
   "cell_type": "code",
   "execution_count": 254,
   "metadata": {},
   "outputs": [
    {
     "name": "stdout",
     "output_type": "stream",
     "text": [
      "alpha estimate mean 0.46932450885841953 SD 0.16602570199159492\n"
     ]
    }
   ],
   "source": [
    "print(\"alpha estimate\", \"mean\", sum(param2)/len(param2),\n",
    "     \"SD\", np.std(param2))"
   ]
  },
  {
   "cell_type": "code",
   "execution_count": 255,
   "metadata": {},
   "outputs": [
    {
     "name": "stdout",
     "output_type": "stream",
     "text": [
      "R2 range mean 0.07693275362651064 SD 0.0473252654751147\n"
     ]
    }
   ],
   "source": [
    "print(\"R2 range\", \"mean\", sum(R2)/len(R2),\n",
    "     \"SD\", np.std(R2))"
   ]
  },
  {
   "cell_type": "code",
   "execution_count": 256,
   "metadata": {},
   "outputs": [],
   "source": [
    "with open(\"./data/fr/fr_topup_fit_unsig_col_count_perfect_lie_detector.json\", \"r\", encoding=\"utf-8\") as f:\n",
    "    res2 = json.load(f)"
   ]
  },
  {
   "cell_type": "code",
   "execution_count": 257,
   "metadata": {},
   "outputs": [],
   "source": [
    "param1 = []\n",
    "param2 = []\n",
    "R2 = []\n",
    "\n",
    "for uuid in res1:\n",
    "    param1.append(res2[uuid]['est_prior'])\n",
    "    param2.append(res2[uuid]['est_alpha'])\n",
    "    R2.append(res2[uuid]['R2'])"
   ]
  },
  {
   "cell_type": "code",
   "execution_count": 258,
   "metadata": {
    "scrolled": true
   },
   "outputs": [
    {
     "name": "stdout",
     "output_type": "stream",
     "text": [
      "prior estimnate mean 0.14681351541264168 SD 0.07933231088324856\n"
     ]
    }
   ],
   "source": [
    "print(\"prior estimnate\", \"mean\", sum(param1)/len(param1),\n",
    "     \"SD\", np.std(param1))"
   ]
  },
  {
   "cell_type": "code",
   "execution_count": 259,
   "metadata": {},
   "outputs": [
    {
     "name": "stdout",
     "output_type": "stream",
     "text": [
      "alpha estimate mean 0.2498069061148547 SD 0.2173695559690224\n"
     ]
    }
   ],
   "source": [
    "print(\"alpha estimate\", \"mean\", sum(param2)/len(param2),\n",
    "     \"SD\", np.std(param2))"
   ]
  },
  {
   "cell_type": "code",
   "execution_count": 260,
   "metadata": {
    "scrolled": true
   },
   "outputs": [
    {
     "name": "stdout",
     "output_type": "stream",
     "text": [
      "R2 range mean 0.02086795767076762 SD 0.027027657065486706\n"
     ]
    }
   ],
   "source": [
    "print(\"R2 range\", \"mean\", sum(R2)/len(R2),\n",
    "     \"SD\", np.std(R2))"
   ]
  },
  {
   "cell_type": "code",
   "execution_count": 261,
   "metadata": {},
   "outputs": [],
   "source": [
    "with open(\"./data/fr/fr_topup_fit_sig_ev_noup_perfect_lie_detector.json\", \"r\", encoding=\"utf-8\") as f:\n",
    "    res3 = json.load(f)"
   ]
  },
  {
   "cell_type": "code",
   "execution_count": 262,
   "metadata": {},
   "outputs": [],
   "source": [
    "param1 = []\n",
    "param2 = []\n",
    "R2 = []\n",
    "\n",
    "for uuid in res1:\n",
    "#     print(uuid)\n",
    "    param1.append(res3[uuid]['est_prior'])\n",
    "    param2.append(res3[uuid]['est_alpha'])\n",
    "    R2.append(res3[uuid]['R2'])\n",
    "#     param1.append(res1[uuid]['est_alpha1'])"
   ]
  },
  {
   "cell_type": "code",
   "execution_count": 263,
   "metadata": {
    "scrolled": true
   },
   "outputs": [
    {
     "name": "stdout",
     "output_type": "stream",
     "text": [
      "prior estimnate mean 0.000509110009992829 SD 0.004675702473361887\n"
     ]
    }
   ],
   "source": [
    "print(\"prior estimnate\", \"mean\", sum(param1)/len(param1),\n",
    "     \"SD\", np.std(param1))"
   ]
  },
  {
   "cell_type": "code",
   "execution_count": 264,
   "metadata": {},
   "outputs": [
    {
     "name": "stdout",
     "output_type": "stream",
     "text": [
      "alpha estimate mean 0.4336944900746509 SD 0.09674860280506747\n"
     ]
    }
   ],
   "source": [
    "print(\"alpha estimate\", \"mean\", sum(param2)/len(param2),\n",
    "     \"SD\", np.std(param2))"
   ]
  },
  {
   "cell_type": "code",
   "execution_count": 265,
   "metadata": {
    "scrolled": false
   },
   "outputs": [
    {
     "name": "stdout",
     "output_type": "stream",
     "text": [
      "R2 range mean 0.17691902778387447 SD 0.05608904981887626\n"
     ]
    }
   ],
   "source": [
    "print(\"R2 range\", \"mean\", sum(R2)/len(R2),\n",
    "     \"SD\", np.std(R2))"
   ]
  },
  {
   "cell_type": "code",
   "execution_count": null,
   "metadata": {},
   "outputs": [],
   "source": []
  },
  {
   "cell_type": "code",
   "execution_count": 266,
   "metadata": {},
   "outputs": [],
   "source": [
    "with open(\"./data/fr/fr_topup_fit_unsig_ev_noup_perfect_lie_detector.json\", \"r\", encoding=\"utf-8\") as f:\n",
    "    res4 = json.load(f)"
   ]
  },
  {
   "cell_type": "code",
   "execution_count": 267,
   "metadata": {},
   "outputs": [],
   "source": [
    "param1 = []\n",
    "param2 = []\n",
    "R2 = []\n",
    "\n",
    "for uuid in res1:\n",
    "#     print(uuid)\n",
    "    param1.append(res4[uuid]['est_prior'])\n",
    "    param2.append(res4[uuid]['est_alpha'])\n",
    "    R2.append(res4[uuid]['R2'])\n",
    "#     param1.append(res1[uuid]['est_alpha1'])"
   ]
  },
  {
   "cell_type": "code",
   "execution_count": 268,
   "metadata": {
    "scrolled": true
   },
   "outputs": [
    {
     "name": "stdout",
     "output_type": "stream",
     "text": [
      "prior estimnate mean 0.00017545594135906804 SD 0.0018897183212190167\n"
     ]
    }
   ],
   "source": [
    "print(\"prior estimnate\", \"mean\", sum(param1)/len(param1),\n",
    "     \"SD\", np.std(param1))"
   ]
  },
  {
   "cell_type": "code",
   "execution_count": 269,
   "metadata": {},
   "outputs": [
    {
     "name": "stdout",
     "output_type": "stream",
     "text": [
      "alpha estimate mean 0.45978792128179974 SD 0.10253941289317922\n"
     ]
    }
   ],
   "source": [
    "print(\"alpha estimate\", \"mean\", sum(param2)/len(param2),\n",
    "     \"SD\", np.std(param2))"
   ]
  },
  {
   "cell_type": "code",
   "execution_count": 270,
   "metadata": {
    "scrolled": false
   },
   "outputs": [
    {
     "name": "stdout",
     "output_type": "stream",
     "text": [
      "R2 range mean 0.1791132351856347 SD 0.05608495772828776\n"
     ]
    }
   ],
   "source": [
    "print(\"R2 range\", \"mean\", sum(R2)/len(R2),\n",
    "     \"SD\", np.std(R2))"
   ]
  },
  {
   "cell_type": "code",
   "execution_count": null,
   "metadata": {},
   "outputs": [],
   "source": []
  },
  {
   "cell_type": "code",
   "execution_count": 271,
   "metadata": {},
   "outputs": [],
   "source": [
    "with open(\"./data/fr/fr_topup_fit_unsig_ev_up_perfect_lie_detector.json\", \"r\", encoding=\"utf-8\") as f:\n",
    "    res5 = json.load(f)"
   ]
  },
  {
   "cell_type": "code",
   "execution_count": 272,
   "metadata": {},
   "outputs": [],
   "source": [
    "param1 = []\n",
    "param2 = []\n",
    "R2 = []\n",
    "\n",
    "for uuid in res1:\n",
    "#     print(uuid)\n",
    "    param1.append(res5[uuid]['est_prior'])\n",
    "    param2.append(res5[uuid]['est_alpha'])\n",
    "    R2.append(res5[uuid]['R2'])\n",
    "#     param1.append(res1[uuid]['est_alpha1'])"
   ]
  },
  {
   "cell_type": "code",
   "execution_count": 273,
   "metadata": {
    "scrolled": true
   },
   "outputs": [
    {
     "name": "stdout",
     "output_type": "stream",
     "text": [
      "prior estimnate mean 0.2060727146015208 SD 0.06638490668563761\n"
     ]
    }
   ],
   "source": [
    "print(\"prior estimnate\", \"mean\", sum(param1)/len(param1),\n",
    "     \"SD\", np.std(param1))"
   ]
  },
  {
   "cell_type": "code",
   "execution_count": 274,
   "metadata": {},
   "outputs": [
    {
     "name": "stdout",
     "output_type": "stream",
     "text": [
      "alpha estimate mean 0.05279190263414056 SD 0.07281016424157724\n"
     ]
    }
   ],
   "source": [
    "print(\"alpha estimate\", \"mean\", sum(param2)/len(param2),\n",
    "     \"SD\", np.std(param2))"
   ]
  },
  {
   "cell_type": "code",
   "execution_count": 275,
   "metadata": {
    "scrolled": false
   },
   "outputs": [
    {
     "name": "stdout",
     "output_type": "stream",
     "text": [
      "R2 range mean 0.0037078819515152196 SD 0.007088795967883364\n"
     ]
    }
   ],
   "source": [
    "print(\"R2 range\", \"mean\", sum(R2)/len(R2),\n",
    "     \"SD\", np.std(R2))"
   ]
  },
  {
   "cell_type": "code",
   "execution_count": null,
   "metadata": {},
   "outputs": [],
   "source": []
  },
  {
   "cell_type": "code",
   "execution_count": 313,
   "metadata": {},
   "outputs": [],
   "source": [
    "with open(\"./data/fr/fr_topup_fit_sig_ev_up_perfect_lie_detector.json\", \"r\", encoding=\"utf-8\") as f:\n",
    "    res5 = json.load(f)"
   ]
  },
  {
   "cell_type": "code",
   "execution_count": 314,
   "metadata": {},
   "outputs": [],
   "source": [
    "param1 = []\n",
    "param2 = []\n",
    "R2 = []\n",
    "\n",
    "for uuid in res1:\n",
    "#     print(uuid)\n",
    "    param1.append(res5[uuid]['est_prior'])\n",
    "    param2.append(res5[uuid]['est_alpha'])\n",
    "    R2.append(res5[uuid]['R2'])\n",
    "#     param1.append(res1[uuid]['est_alpha1'])"
   ]
  },
  {
   "cell_type": "code",
   "execution_count": 315,
   "metadata": {
    "scrolled": true
   },
   "outputs": [
    {
     "name": "stdout",
     "output_type": "stream",
     "text": [
      "prior estimnate mean 0.20030069300280004 SD 0.06865802375441633\n"
     ]
    }
   ],
   "source": [
    "print(\"prior estimnate\", \"mean\", sum(param1)/len(param1),\n",
    "     \"SD\", np.std(param1))"
   ]
  },
  {
   "cell_type": "code",
   "execution_count": 316,
   "metadata": {},
   "outputs": [
    {
     "name": "stdout",
     "output_type": "stream",
     "text": [
      "alpha estimate mean 0.06526127195809496 SD 0.08433694069991504\n"
     ]
    }
   ],
   "source": [
    "print(\"alpha estimate\", \"mean\", sum(param2)/len(param2),\n",
    "     \"SD\", np.std(param2))"
   ]
  },
  {
   "cell_type": "code",
   "execution_count": 317,
   "metadata": {
    "scrolled": false
   },
   "outputs": [
    {
     "name": "stdout",
     "output_type": "stream",
     "text": [
      "R2 range mean 0.00452469430158838 SD 0.008393749308431104\n"
     ]
    }
   ],
   "source": [
    "print(\"R2 range\", \"mean\", sum(R2)/len(R2),\n",
    "     \"SD\", np.std(R2))"
   ]
  },
  {
   "cell_type": "code",
   "execution_count": null,
   "metadata": {},
   "outputs": [],
   "source": []
  },
  {
   "cell_type": "code",
   "execution_count": 276,
   "metadata": {},
   "outputs": [],
   "source": [
    "with open(\"./data/fr/fr_topup_fit_combi_signed_ev_col_congr_perfect_lie_detector.json\", \"r\", encoding=\"utf-8\") as f:\n",
    "    res4 = json.load(f)"
   ]
  },
  {
   "cell_type": "code",
   "execution_count": 278,
   "metadata": {},
   "outputs": [],
   "source": [
    "param1 = []\n",
    "param2 = []\n",
    "R2 = []\n",
    "\n",
    "for uuid in res1:\n",
    "#     print(uuid)\n",
    "    param1.append(res4[uuid]['est_prior'])\n",
    "    param2.append(res4[uuid]['est_alpha1'])\n",
    "    R2.append(res4[uuid]['R2'])"
   ]
  },
  {
   "cell_type": "code",
   "execution_count": 279,
   "metadata": {
    "scrolled": true
   },
   "outputs": [
    {
     "name": "stdout",
     "output_type": "stream",
     "text": [
      "prior estimnate mean 0.010909463099167868 SD 0.03372931567525545\n"
     ]
    }
   ],
   "source": [
    "print(\"prior estimnate\", \"mean\", sum(param1)/len(param1),\n",
    "     \"SD\", np.std(param1))"
   ]
  },
  {
   "cell_type": "code",
   "execution_count": 280,
   "metadata": {},
   "outputs": [
    {
     "name": "stdout",
     "output_type": "stream",
     "text": [
      "alpha estimate mean -0.1497945554252826 SD 0.07938700131052923\n"
     ]
    }
   ],
   "source": [
    "print(\"alpha estimate\", \"mean\", sum(param2)/len(param2),\n",
    "     \"SD\", np.std(param2))"
   ]
  },
  {
   "cell_type": "code",
   "execution_count": 281,
   "metadata": {
    "scrolled": false
   },
   "outputs": [
    {
     "name": "stdout",
     "output_type": "stream",
     "text": [
      "R2 range mean 0.23072556785156248 SD 0.07999821728231635\n"
     ]
    }
   ],
   "source": [
    "print(\"R2 range\", \"mean\", sum(R2)/len(R2),\n",
    "     \"SD\", np.std(R2))"
   ]
  },
  {
   "cell_type": "code",
   "execution_count": null,
   "metadata": {},
   "outputs": [],
   "source": []
  },
  {
   "cell_type": "code",
   "execution_count": 282,
   "metadata": {},
   "outputs": [],
   "source": [
    "with open(\"./data/fr/fr_topup_fit_combi_signed_ev_subj_lied_perfect_lie_detector.json\", \"r\", encoding=\"utf-8\") as f:\n",
    "    res5 = json.load(f)"
   ]
  },
  {
   "cell_type": "code",
   "execution_count": 283,
   "metadata": {},
   "outputs": [],
   "source": [
    "param1 = []\n",
    "param2 = []\n",
    "param3 = []\n",
    "R2 = []\n",
    "\n",
    "for uuid in res1:\n",
    "#     print(uuid)\n",
    "    param1.append(res5[uuid]['est_prior'])\n",
    "    param2.append(res5[uuid]['est_alpha1'])\n",
    "    param3.append(res5[uuid]['est_alpha2'])\n",
    "    R2.append(res5[uuid]['R2'])"
   ]
  },
  {
   "cell_type": "code",
   "execution_count": 284,
   "metadata": {
    "scrolled": true
   },
   "outputs": [
    {
     "name": "stdout",
     "output_type": "stream",
     "text": [
      "prior estimnate mean 0.0005007531559870314 SD 0.00539327654536579\n"
     ]
    }
   ],
   "source": [
    "print(\"prior estimnate\", \"mean\", sum(param1)/len(param1),\n",
    "     \"SD\", np.std(param1))"
   ]
  },
  {
   "cell_type": "code",
   "execution_count": 285,
   "metadata": {},
   "outputs": [
    {
     "name": "stdout",
     "output_type": "stream",
     "text": [
      "alpha estimate mean -0.010578573387043773 SD 0.22222148442578218\n"
     ]
    }
   ],
   "source": [
    "print(\"alpha estimate\", \"mean\", sum(param2)/len(param2),\n",
    "     \"SD\", np.std(param2))"
   ]
  },
  {
   "cell_type": "code",
   "execution_count": 286,
   "metadata": {},
   "outputs": [
    {
     "name": "stdout",
     "output_type": "stream",
     "text": [
      "alpha estimate mean 0.44165217385963174 SD 0.10574256371475615\n"
     ]
    }
   ],
   "source": [
    "print(\"alpha estimate\", \"mean\", sum(param3)/len(param3),\n",
    "     \"SD\", np.std(param3))"
   ]
  },
  {
   "cell_type": "code",
   "execution_count": 287,
   "metadata": {
    "scrolled": false
   },
   "outputs": [
    {
     "name": "stdout",
     "output_type": "stream",
     "text": [
      "R2 range mean 0.18450733364545058 SD 0.05904374871451978\n"
     ]
    }
   ],
   "source": [
    "print(\"R2 range\", \"mean\", sum(R2)/len(R2),\n",
    "     \"SD\", np.std(R2))"
   ]
  },
  {
   "cell_type": "code",
   "execution_count": null,
   "metadata": {},
   "outputs": [],
   "source": []
  },
  {
   "cell_type": "code",
   "execution_count": 288,
   "metadata": {},
   "outputs": [],
   "source": [
    "with open(\"./data/fr/fr_topup_fit_weighted_sigev_sigcolourt_perfect_lie_detector.json\", \"r\", encoding=\"utf-8\") as f:\n",
    "    res6 = json.load(f)"
   ]
  },
  {
   "cell_type": "code",
   "execution_count": 289,
   "metadata": {},
   "outputs": [],
   "source": [
    "param1 = []\n",
    "param2 = []\n",
    "param3 = []\n",
    "R2 = []\n",
    "\n",
    "for uuid in res1:\n",
    "#     print(uuid)\n",
    "    param1.append(res6[uuid]['est_prior'])\n",
    "    param2.append(res6[uuid]['est_alpha1'])\n",
    "    param3.append(res6[uuid]['est_alpha2'])\n",
    "    R2.append(res6[uuid]['R2'])"
   ]
  },
  {
   "cell_type": "code",
   "execution_count": 290,
   "metadata": {
    "scrolled": true
   },
   "outputs": [
    {
     "name": "stdout",
     "output_type": "stream",
     "text": [
      "prior estimnate mean 0.0005255534856750303 SD 0.004644731165283259\n"
     ]
    }
   ],
   "source": [
    "print(\"prior estimnate\", \"mean\", sum(param1)/len(param1),\n",
    "     \"SD\", np.std(param1))"
   ]
  },
  {
   "cell_type": "code",
   "execution_count": 291,
   "metadata": {},
   "outputs": [
    {
     "name": "stdout",
     "output_type": "stream",
     "text": [
      "alpha estimate mean 0.416658201508045 SD 0.09950148713906008\n"
     ]
    }
   ],
   "source": [
    "print(\"alpha estimate\", \"mean\", sum(param2)/len(param2),\n",
    "     \"SD\", np.std(param2))"
   ]
  },
  {
   "cell_type": "code",
   "execution_count": 292,
   "metadata": {},
   "outputs": [
    {
     "name": "stdout",
     "output_type": "stream",
     "text": [
      "alpha estimate mean 0.02874078074126795 SD 0.07297154985480103\n"
     ]
    }
   ],
   "source": [
    "print(\"alpha estimate\", \"mean\", sum(param3)/len(param3),\n",
    "     \"SD\", np.std(param3))"
   ]
  },
  {
   "cell_type": "code",
   "execution_count": 293,
   "metadata": {
    "scrolled": false
   },
   "outputs": [
    {
     "name": "stdout",
     "output_type": "stream",
     "text": [
      "R2 range mean 0.17772340606471107 SD 0.055957020757208376\n"
     ]
    }
   ],
   "source": [
    "print(\"R2 range\", \"mean\", sum(R2)/len(R2),\n",
    "     \"SD\", np.std(R2))"
   ]
  },
  {
   "cell_type": "code",
   "execution_count": null,
   "metadata": {},
   "outputs": [],
   "source": []
  },
  {
   "cell_type": "code",
   "execution_count": 300,
   "metadata": {},
   "outputs": [],
   "source": [
    "with open(\"./data/fr/fr_topup_fit_signed_ev_colcongr_subjlied_perfect_lie_detector.json\", \"r\", encoding=\"utf-8\") as f:\n",
    "    res6 = json.load(f)"
   ]
  },
  {
   "cell_type": "code",
   "execution_count": 307,
   "metadata": {},
   "outputs": [],
   "source": [
    "param1 = []\n",
    "param2 = []\n",
    "param3 = []\n",
    "param4 = []\n",
    "R2 = []\n",
    "\n",
    "for uuid in res1:\n",
    "#     print(uuid)\n",
    "    param1.append(res6[uuid]['est_prior'])\n",
    "    param2.append(res6[uuid]['est_alpha1'])\n",
    "    param3.append(res6[uuid]['est_alpha2'])\n",
    "    param4.append(res6[uuid]['est_alpha3'])\n",
    "    R2.append(res6[uuid]['R2'])"
   ]
  },
  {
   "cell_type": "code",
   "execution_count": 308,
   "metadata": {
    "scrolled": true
   },
   "outputs": [
    {
     "name": "stdout",
     "output_type": "stream",
     "text": [
      "prior estimnate mean 0.011230637069525025 SD 0.03516985435532152\n"
     ]
    }
   ],
   "source": [
    "print(\"prior estimnate\", \"mean\", sum(param1)/len(param1),\n",
    "     \"SD\", np.std(param1))"
   ]
  },
  {
   "cell_type": "code",
   "execution_count": 309,
   "metadata": {},
   "outputs": [
    {
     "name": "stdout",
     "output_type": "stream",
     "text": [
      "alpha estimate mean 0.5274737985718209 SD 0.12558586449072023\n"
     ]
    }
   ],
   "source": [
    "print(\"alpha estimate\", \"mean\", sum(param2)/len(param2),\n",
    "     \"SD\", np.std(param2))"
   ]
  },
  {
   "cell_type": "code",
   "execution_count": 310,
   "metadata": {},
   "outputs": [
    {
     "name": "stdout",
     "output_type": "stream",
     "text": [
      "alpha estimate mean -0.1488103577975231 SD 0.07985599873647838\n"
     ]
    }
   ],
   "source": [
    "print(\"alpha estimate\", \"mean\", sum(param3)/len(param3),\n",
    "     \"SD\", np.std(param3))"
   ]
  },
  {
   "cell_type": "code",
   "execution_count": 311,
   "metadata": {},
   "outputs": [
    {
     "name": "stdout",
     "output_type": "stream",
     "text": [
      "alpha estimate mean -0.024147794540656024 SD 0.2303343574363572\n"
     ]
    }
   ],
   "source": [
    "print(\"alpha estimate\", \"mean\", sum(param4)/len(param4),\n",
    "     \"SD\", np.std(param4))"
   ]
  },
  {
   "cell_type": "code",
   "execution_count": 312,
   "metadata": {
    "scrolled": false
   },
   "outputs": [
    {
     "name": "stdout",
     "output_type": "stream",
     "text": [
      "R2 range mean 0.23702265093312985 SD 0.08182610708342347\n"
     ]
    }
   ],
   "source": [
    "print(\"R2 range\", \"mean\", sum(R2)/len(R2),\n",
    "     \"SD\", np.std(R2))"
   ]
  },
  {
   "cell_type": "code",
   "execution_count": null,
   "metadata": {},
   "outputs": [],
   "source": []
  },
  {
   "cell_type": "markdown",
   "metadata": {},
   "source": [
    "## Check distribution properties of expectation violations per subject"
   ]
  },
  {
   "cell_type": "code",
   "execution_count": 165,
   "metadata": {},
   "outputs": [],
   "source": [
    "df_long = pd.read_feather(\"./data/fr/fr100_data_long.feather\")"
   ]
  },
  {
   "cell_type": "code",
   "execution_count": 166,
   "metadata": {},
   "outputs": [],
   "source": [
    "df6_long = pd.read_feather(\"./data/fr/fr_batch6_data_long_processed.feather\")"
   ]
  },
  {
   "cell_type": "code",
   "execution_count": 168,
   "metadata": {},
   "outputs": [
    {
     "data": {
      "text/plain": [
       "True"
      ]
     },
     "execution_count": 168,
     "metadata": {},
     "output_type": "execute_result"
    }
   ],
   "source": [
    "len(set(df_long['e_v'])) == len(set(df_long['t_cond']))"
   ]
  },
  {
   "cell_type": "code",
   "execution_count": 169,
   "metadata": {},
   "outputs": [
    {
     "data": {
      "text/plain": [
       "True"
      ]
     },
     "execution_count": 169,
     "metadata": {},
     "output_type": "execute_result"
    }
   ],
   "source": [
    "len(set(df6_long['e_v'])) == len(set(df6_long['t_cond']))"
   ]
  },
  {
   "cell_type": "code",
   "execution_count": 170,
   "metadata": {},
   "outputs": [],
   "source": [
    "df_long = pd.concat([df_long, df6_long])"
   ]
  },
  {
   "cell_type": "code",
   "execution_count": 171,
   "metadata": {
    "scrolled": true
   },
   "outputs": [
    {
     "data": {
      "text/plain": [
       "['index',\n",
       " 'PID',\n",
       " 'n_red',\n",
       " 'outcome',\n",
       " 'col_reported',\n",
       " 'col_picked',\n",
       " 'pp_lied',\n",
       " 'RT_rating',\n",
       " 'win_lose_tie',\n",
       " 'suspicion_rating',\n",
       " 'trial',\n",
       " 'n_blue',\n",
       " 'e_v',\n",
       " 'normed_signed_e_v',\n",
       " 'normed_unsigned_e_v',\n",
       " 'cs_signed_e_v',\n",
       " 'normed_cs_signed_e_v',\n",
       " 'cs_unsigned_e_v',\n",
       " 'normed_cs_unsigned_e_v',\n",
       " 'n_reported_colour_opp',\n",
       " 'n_consec_colour',\n",
       " 'normed_signed_colour_count',\n",
       " 'normed_unsigned_colour_count',\n",
       " 'outcome_same_as_pick',\n",
       " 'subject_lied',\n",
       " 't_cond',\n",
       " 'signed_n_consec_colour']"
      ]
     },
     "execution_count": 171,
     "metadata": {},
     "output_type": "execute_result"
    }
   ],
   "source": [
    "list(df6_long)"
   ]
  },
  {
   "cell_type": "code",
   "execution_count": 172,
   "metadata": {},
   "outputs": [],
   "source": [
    "df_long = df_long.set_index('PID')"
   ]
  },
  {
   "cell_type": "code",
   "execution_count": 173,
   "metadata": {},
   "outputs": [],
   "source": [
    "del df_long['index']"
   ]
  },
  {
   "cell_type": "code",
   "execution_count": 174,
   "metadata": {},
   "outputs": [
    {
     "data": {
      "text/plain": [
       "(10530, 25)"
      ]
     },
     "execution_count": 174,
     "metadata": {},
     "output_type": "execute_result"
    }
   ],
   "source": [
    "df_long.shape"
   ]
  },
  {
   "cell_type": "code",
   "execution_count": 176,
   "metadata": {},
   "outputs": [],
   "source": [
    "import seaborn as sns"
   ]
  },
  {
   "cell_type": "code",
   "execution_count": 204,
   "metadata": {},
   "outputs": [],
   "source": [
    "uuids = set(df.index)"
   ]
  },
  {
   "cell_type": "code",
   "execution_count": 205,
   "metadata": {
    "scrolled": true
   },
   "outputs": [
    {
     "data": {
      "text/plain": [
       "102"
      ]
     },
     "execution_count": 205,
     "metadata": {},
     "output_type": "execute_result"
    }
   ],
   "source": [
    "len(uuids)"
   ]
  },
  {
   "cell_type": "code",
   "execution_count": 179,
   "metadata": {},
   "outputs": [
    {
     "name": "stderr",
     "output_type": "stream",
     "text": [
      "C:\\Users\\Sarah Zheng\\.conda\\envs\\sim-test\\lib\\site-packages\\seaborn\\distributions.py:2557: FutureWarning: `distplot` is a deprecated function and will be removed in a future version. Please adapt your code to use either `displot` (a figure-level function with similar flexibility) or `histplot` (an axes-level function for histograms).\n",
      "  warnings.warn(msg, FutureWarning)\n",
      "C:\\Users\\Sarah Zheng\\.conda\\envs\\sim-test\\lib\\site-packages\\seaborn\\distributions.py:2557: FutureWarning: `distplot` is a deprecated function and will be removed in a future version. Please adapt your code to use either `displot` (a figure-level function with similar flexibility) or `histplot` (an axes-level function for histograms).\n",
      "  warnings.warn(msg, FutureWarning)\n",
      "C:\\Users\\Sarah Zheng\\.conda\\envs\\sim-test\\lib\\site-packages\\seaborn\\distributions.py:2557: FutureWarning: `distplot` is a deprecated function and will be removed in a future version. Please adapt your code to use either `displot` (a figure-level function with similar flexibility) or `histplot` (an axes-level function for histograms).\n",
      "  warnings.warn(msg, FutureWarning)\n",
      "C:\\Users\\Sarah Zheng\\.conda\\envs\\sim-test\\lib\\site-packages\\seaborn\\distributions.py:2557: FutureWarning: `distplot` is a deprecated function and will be removed in a future version. Please adapt your code to use either `displot` (a figure-level function with similar flexibility) or `histplot` (an axes-level function for histograms).\n",
      "  warnings.warn(msg, FutureWarning)\n",
      "C:\\Users\\Sarah Zheng\\.conda\\envs\\sim-test\\lib\\site-packages\\seaborn\\distributions.py:2557: FutureWarning: `distplot` is a deprecated function and will be removed in a future version. Please adapt your code to use either `displot` (a figure-level function with similar flexibility) or `histplot` (an axes-level function for histograms).\n",
      "  warnings.warn(msg, FutureWarning)\n",
      "C:\\Users\\Sarah Zheng\\.conda\\envs\\sim-test\\lib\\site-packages\\seaborn\\distributions.py:2557: FutureWarning: `distplot` is a deprecated function and will be removed in a future version. Please adapt your code to use either `displot` (a figure-level function with similar flexibility) or `histplot` (an axes-level function for histograms).\n",
      "  warnings.warn(msg, FutureWarning)\n",
      "C:\\Users\\Sarah Zheng\\.conda\\envs\\sim-test\\lib\\site-packages\\seaborn\\distributions.py:2557: FutureWarning: `distplot` is a deprecated function and will be removed in a future version. Please adapt your code to use either `displot` (a figure-level function with similar flexibility) or `histplot` (an axes-level function for histograms).\n",
      "  warnings.warn(msg, FutureWarning)\n",
      "C:\\Users\\Sarah Zheng\\.conda\\envs\\sim-test\\lib\\site-packages\\seaborn\\distributions.py:2557: FutureWarning: `distplot` is a deprecated function and will be removed in a future version. Please adapt your code to use either `displot` (a figure-level function with similar flexibility) or `histplot` (an axes-level function for histograms).\n",
      "  warnings.warn(msg, FutureWarning)\n",
      "C:\\Users\\Sarah Zheng\\.conda\\envs\\sim-test\\lib\\site-packages\\seaborn\\distributions.py:2557: FutureWarning: `distplot` is a deprecated function and will be removed in a future version. Please adapt your code to use either `displot` (a figure-level function with similar flexibility) or `histplot` (an axes-level function for histograms).\n",
      "  warnings.warn(msg, FutureWarning)\n",
      "C:\\Users\\Sarah Zheng\\.conda\\envs\\sim-test\\lib\\site-packages\\seaborn\\distributions.py:2557: FutureWarning: `distplot` is a deprecated function and will be removed in a future version. Please adapt your code to use either `displot` (a figure-level function with similar flexibility) or `histplot` (an axes-level function for histograms).\n",
      "  warnings.warn(msg, FutureWarning)\n",
      "C:\\Users\\Sarah Zheng\\.conda\\envs\\sim-test\\lib\\site-packages\\seaborn\\distributions.py:2557: FutureWarning: `distplot` is a deprecated function and will be removed in a future version. Please adapt your code to use either `displot` (a figure-level function with similar flexibility) or `histplot` (an axes-level function for histograms).\n",
      "  warnings.warn(msg, FutureWarning)\n",
      "C:\\Users\\Sarah Zheng\\.conda\\envs\\sim-test\\lib\\site-packages\\seaborn\\distributions.py:2557: FutureWarning: `distplot` is a deprecated function and will be removed in a future version. Please adapt your code to use either `displot` (a figure-level function with similar flexibility) or `histplot` (an axes-level function for histograms).\n",
      "  warnings.warn(msg, FutureWarning)\n",
      "C:\\Users\\Sarah Zheng\\.conda\\envs\\sim-test\\lib\\site-packages\\seaborn\\distributions.py:2557: FutureWarning: `distplot` is a deprecated function and will be removed in a future version. Please adapt your code to use either `displot` (a figure-level function with similar flexibility) or `histplot` (an axes-level function for histograms).\n",
      "  warnings.warn(msg, FutureWarning)\n",
      "C:\\Users\\Sarah Zheng\\.conda\\envs\\sim-test\\lib\\site-packages\\seaborn\\distributions.py:2557: FutureWarning: `distplot` is a deprecated function and will be removed in a future version. Please adapt your code to use either `displot` (a figure-level function with similar flexibility) or `histplot` (an axes-level function for histograms).\n",
      "  warnings.warn(msg, FutureWarning)\n",
      "C:\\Users\\Sarah Zheng\\.conda\\envs\\sim-test\\lib\\site-packages\\seaborn\\distributions.py:2557: FutureWarning: `distplot` is a deprecated function and will be removed in a future version. Please adapt your code to use either `displot` (a figure-level function with similar flexibility) or `histplot` (an axes-level function for histograms).\n",
      "  warnings.warn(msg, FutureWarning)\n",
      "C:\\Users\\Sarah Zheng\\.conda\\envs\\sim-test\\lib\\site-packages\\seaborn\\distributions.py:2557: FutureWarning: `distplot` is a deprecated function and will be removed in a future version. Please adapt your code to use either `displot` (a figure-level function with similar flexibility) or `histplot` (an axes-level function for histograms).\n",
      "  warnings.warn(msg, FutureWarning)\n",
      "C:\\Users\\Sarah Zheng\\.conda\\envs\\sim-test\\lib\\site-packages\\seaborn\\distributions.py:2557: FutureWarning: `distplot` is a deprecated function and will be removed in a future version. Please adapt your code to use either `displot` (a figure-level function with similar flexibility) or `histplot` (an axes-level function for histograms).\n",
      "  warnings.warn(msg, FutureWarning)\n",
      "C:\\Users\\Sarah Zheng\\.conda\\envs\\sim-test\\lib\\site-packages\\seaborn\\distributions.py:2557: FutureWarning: `distplot` is a deprecated function and will be removed in a future version. Please adapt your code to use either `displot` (a figure-level function with similar flexibility) or `histplot` (an axes-level function for histograms).\n",
      "  warnings.warn(msg, FutureWarning)\n",
      "C:\\Users\\Sarah Zheng\\.conda\\envs\\sim-test\\lib\\site-packages\\seaborn\\distributions.py:2557: FutureWarning: `distplot` is a deprecated function and will be removed in a future version. Please adapt your code to use either `displot` (a figure-level function with similar flexibility) or `histplot` (an axes-level function for histograms).\n",
      "  warnings.warn(msg, FutureWarning)\n",
      "C:\\Users\\Sarah Zheng\\.conda\\envs\\sim-test\\lib\\site-packages\\seaborn\\distributions.py:2557: FutureWarning: `distplot` is a deprecated function and will be removed in a future version. Please adapt your code to use either `displot` (a figure-level function with similar flexibility) or `histplot` (an axes-level function for histograms).\n",
      "  warnings.warn(msg, FutureWarning)\n",
      "C:\\Users\\Sarah Zheng\\.conda\\envs\\sim-test\\lib\\site-packages\\seaborn\\distributions.py:2557: FutureWarning: `distplot` is a deprecated function and will be removed in a future version. Please adapt your code to use either `displot` (a figure-level function with similar flexibility) or `histplot` (an axes-level function for histograms).\n",
      "  warnings.warn(msg, FutureWarning)\n",
      "C:\\Users\\Sarah Zheng\\.conda\\envs\\sim-test\\lib\\site-packages\\seaborn\\distributions.py:2557: FutureWarning: `distplot` is a deprecated function and will be removed in a future version. Please adapt your code to use either `displot` (a figure-level function with similar flexibility) or `histplot` (an axes-level function for histograms).\n",
      "  warnings.warn(msg, FutureWarning)\n",
      "C:\\Users\\Sarah Zheng\\.conda\\envs\\sim-test\\lib\\site-packages\\seaborn\\distributions.py:2557: FutureWarning: `distplot` is a deprecated function and will be removed in a future version. Please adapt your code to use either `displot` (a figure-level function with similar flexibility) or `histplot` (an axes-level function for histograms).\n",
      "  warnings.warn(msg, FutureWarning)\n",
      "C:\\Users\\Sarah Zheng\\.conda\\envs\\sim-test\\lib\\site-packages\\seaborn\\distributions.py:2557: FutureWarning: `distplot` is a deprecated function and will be removed in a future version. Please adapt your code to use either `displot` (a figure-level function with similar flexibility) or `histplot` (an axes-level function for histograms).\n",
      "  warnings.warn(msg, FutureWarning)\n",
      "C:\\Users\\Sarah Zheng\\.conda\\envs\\sim-test\\lib\\site-packages\\seaborn\\distributions.py:2557: FutureWarning: `distplot` is a deprecated function and will be removed in a future version. Please adapt your code to use either `displot` (a figure-level function with similar flexibility) or `histplot` (an axes-level function for histograms).\n",
      "  warnings.warn(msg, FutureWarning)\n",
      "C:\\Users\\Sarah Zheng\\.conda\\envs\\sim-test\\lib\\site-packages\\seaborn\\distributions.py:2557: FutureWarning: `distplot` is a deprecated function and will be removed in a future version. Please adapt your code to use either `displot` (a figure-level function with similar flexibility) or `histplot` (an axes-level function for histograms).\n",
      "  warnings.warn(msg, FutureWarning)\n",
      "C:\\Users\\Sarah Zheng\\.conda\\envs\\sim-test\\lib\\site-packages\\seaborn\\distributions.py:2557: FutureWarning: `distplot` is a deprecated function and will be removed in a future version. Please adapt your code to use either `displot` (a figure-level function with similar flexibility) or `histplot` (an axes-level function for histograms).\n",
      "  warnings.warn(msg, FutureWarning)\n",
      "C:\\Users\\Sarah Zheng\\.conda\\envs\\sim-test\\lib\\site-packages\\seaborn\\distributions.py:2557: FutureWarning: `distplot` is a deprecated function and will be removed in a future version. Please adapt your code to use either `displot` (a figure-level function with similar flexibility) or `histplot` (an axes-level function for histograms).\n",
      "  warnings.warn(msg, FutureWarning)\n",
      "C:\\Users\\Sarah Zheng\\.conda\\envs\\sim-test\\lib\\site-packages\\seaborn\\distributions.py:2557: FutureWarning: `distplot` is a deprecated function and will be removed in a future version. Please adapt your code to use either `displot` (a figure-level function with similar flexibility) or `histplot` (an axes-level function for histograms).\n",
      "  warnings.warn(msg, FutureWarning)\n",
      "C:\\Users\\Sarah Zheng\\.conda\\envs\\sim-test\\lib\\site-packages\\seaborn\\distributions.py:2557: FutureWarning: `distplot` is a deprecated function and will be removed in a future version. Please adapt your code to use either `displot` (a figure-level function with similar flexibility) or `histplot` (an axes-level function for histograms).\n",
      "  warnings.warn(msg, FutureWarning)\n",
      "C:\\Users\\Sarah Zheng\\.conda\\envs\\sim-test\\lib\\site-packages\\seaborn\\distributions.py:2557: FutureWarning: `distplot` is a deprecated function and will be removed in a future version. Please adapt your code to use either `displot` (a figure-level function with similar flexibility) or `histplot` (an axes-level function for histograms).\n",
      "  warnings.warn(msg, FutureWarning)\n",
      "C:\\Users\\Sarah Zheng\\.conda\\envs\\sim-test\\lib\\site-packages\\seaborn\\distributions.py:2557: FutureWarning: `distplot` is a deprecated function and will be removed in a future version. Please adapt your code to use either `displot` (a figure-level function with similar flexibility) or `histplot` (an axes-level function for histograms).\n",
      "  warnings.warn(msg, FutureWarning)\n",
      "C:\\Users\\Sarah Zheng\\.conda\\envs\\sim-test\\lib\\site-packages\\seaborn\\distributions.py:2557: FutureWarning: `distplot` is a deprecated function and will be removed in a future version. Please adapt your code to use either `displot` (a figure-level function with similar flexibility) or `histplot` (an axes-level function for histograms).\n",
      "  warnings.warn(msg, FutureWarning)\n",
      "C:\\Users\\Sarah Zheng\\.conda\\envs\\sim-test\\lib\\site-packages\\seaborn\\distributions.py:2557: FutureWarning: `distplot` is a deprecated function and will be removed in a future version. Please adapt your code to use either `displot` (a figure-level function with similar flexibility) or `histplot` (an axes-level function for histograms).\n",
      "  warnings.warn(msg, FutureWarning)\n",
      "C:\\Users\\Sarah Zheng\\.conda\\envs\\sim-test\\lib\\site-packages\\seaborn\\distributions.py:2557: FutureWarning: `distplot` is a deprecated function and will be removed in a future version. Please adapt your code to use either `displot` (a figure-level function with similar flexibility) or `histplot` (an axes-level function for histograms).\n",
      "  warnings.warn(msg, FutureWarning)\n",
      "C:\\Users\\Sarah Zheng\\.conda\\envs\\sim-test\\lib\\site-packages\\seaborn\\distributions.py:2557: FutureWarning: `distplot` is a deprecated function and will be removed in a future version. Please adapt your code to use either `displot` (a figure-level function with similar flexibility) or `histplot` (an axes-level function for histograms).\n",
      "  warnings.warn(msg, FutureWarning)\n",
      "C:\\Users\\Sarah Zheng\\.conda\\envs\\sim-test\\lib\\site-packages\\seaborn\\distributions.py:2557: FutureWarning: `distplot` is a deprecated function and will be removed in a future version. Please adapt your code to use either `displot` (a figure-level function with similar flexibility) or `histplot` (an axes-level function for histograms).\n",
      "  warnings.warn(msg, FutureWarning)\n",
      "C:\\Users\\Sarah Zheng\\.conda\\envs\\sim-test\\lib\\site-packages\\seaborn\\distributions.py:2557: FutureWarning: `distplot` is a deprecated function and will be removed in a future version. Please adapt your code to use either `displot` (a figure-level function with similar flexibility) or `histplot` (an axes-level function for histograms).\n",
      "  warnings.warn(msg, FutureWarning)\n"
     ]
    },
    {
     "name": "stderr",
     "output_type": "stream",
     "text": [
      "C:\\Users\\Sarah Zheng\\.conda\\envs\\sim-test\\lib\\site-packages\\seaborn\\distributions.py:2557: FutureWarning: `distplot` is a deprecated function and will be removed in a future version. Please adapt your code to use either `displot` (a figure-level function with similar flexibility) or `histplot` (an axes-level function for histograms).\n",
      "  warnings.warn(msg, FutureWarning)\n",
      "C:\\Users\\Sarah Zheng\\.conda\\envs\\sim-test\\lib\\site-packages\\seaborn\\distributions.py:2557: FutureWarning: `distplot` is a deprecated function and will be removed in a future version. Please adapt your code to use either `displot` (a figure-level function with similar flexibility) or `histplot` (an axes-level function for histograms).\n",
      "  warnings.warn(msg, FutureWarning)\n",
      "C:\\Users\\Sarah Zheng\\.conda\\envs\\sim-test\\lib\\site-packages\\seaborn\\distributions.py:2557: FutureWarning: `distplot` is a deprecated function and will be removed in a future version. Please adapt your code to use either `displot` (a figure-level function with similar flexibility) or `histplot` (an axes-level function for histograms).\n",
      "  warnings.warn(msg, FutureWarning)\n",
      "C:\\Users\\Sarah Zheng\\.conda\\envs\\sim-test\\lib\\site-packages\\seaborn\\distributions.py:2557: FutureWarning: `distplot` is a deprecated function and will be removed in a future version. Please adapt your code to use either `displot` (a figure-level function with similar flexibility) or `histplot` (an axes-level function for histograms).\n",
      "  warnings.warn(msg, FutureWarning)\n",
      "C:\\Users\\Sarah Zheng\\.conda\\envs\\sim-test\\lib\\site-packages\\seaborn\\distributions.py:2557: FutureWarning: `distplot` is a deprecated function and will be removed in a future version. Please adapt your code to use either `displot` (a figure-level function with similar flexibility) or `histplot` (an axes-level function for histograms).\n",
      "  warnings.warn(msg, FutureWarning)\n",
      "C:\\Users\\Sarah Zheng\\.conda\\envs\\sim-test\\lib\\site-packages\\seaborn\\distributions.py:2557: FutureWarning: `distplot` is a deprecated function and will be removed in a future version. Please adapt your code to use either `displot` (a figure-level function with similar flexibility) or `histplot` (an axes-level function for histograms).\n",
      "  warnings.warn(msg, FutureWarning)\n",
      "C:\\Users\\Sarah Zheng\\.conda\\envs\\sim-test\\lib\\site-packages\\seaborn\\distributions.py:2557: FutureWarning: `distplot` is a deprecated function and will be removed in a future version. Please adapt your code to use either `displot` (a figure-level function with similar flexibility) or `histplot` (an axes-level function for histograms).\n",
      "  warnings.warn(msg, FutureWarning)\n",
      "C:\\Users\\Sarah Zheng\\.conda\\envs\\sim-test\\lib\\site-packages\\seaborn\\distributions.py:2557: FutureWarning: `distplot` is a deprecated function and will be removed in a future version. Please adapt your code to use either `displot` (a figure-level function with similar flexibility) or `histplot` (an axes-level function for histograms).\n",
      "  warnings.warn(msg, FutureWarning)\n",
      "C:\\Users\\Sarah Zheng\\.conda\\envs\\sim-test\\lib\\site-packages\\seaborn\\distributions.py:2557: FutureWarning: `distplot` is a deprecated function and will be removed in a future version. Please adapt your code to use either `displot` (a figure-level function with similar flexibility) or `histplot` (an axes-level function for histograms).\n",
      "  warnings.warn(msg, FutureWarning)\n",
      "C:\\Users\\Sarah Zheng\\.conda\\envs\\sim-test\\lib\\site-packages\\seaborn\\distributions.py:2557: FutureWarning: `distplot` is a deprecated function and will be removed in a future version. Please adapt your code to use either `displot` (a figure-level function with similar flexibility) or `histplot` (an axes-level function for histograms).\n",
      "  warnings.warn(msg, FutureWarning)\n",
      "C:\\Users\\Sarah Zheng\\.conda\\envs\\sim-test\\lib\\site-packages\\seaborn\\distributions.py:2557: FutureWarning: `distplot` is a deprecated function and will be removed in a future version. Please adapt your code to use either `displot` (a figure-level function with similar flexibility) or `histplot` (an axes-level function for histograms).\n",
      "  warnings.warn(msg, FutureWarning)\n",
      "C:\\Users\\Sarah Zheng\\.conda\\envs\\sim-test\\lib\\site-packages\\seaborn\\distributions.py:2557: FutureWarning: `distplot` is a deprecated function and will be removed in a future version. Please adapt your code to use either `displot` (a figure-level function with similar flexibility) or `histplot` (an axes-level function for histograms).\n",
      "  warnings.warn(msg, FutureWarning)\n",
      "C:\\Users\\Sarah Zheng\\.conda\\envs\\sim-test\\lib\\site-packages\\seaborn\\distributions.py:2557: FutureWarning: `distplot` is a deprecated function and will be removed in a future version. Please adapt your code to use either `displot` (a figure-level function with similar flexibility) or `histplot` (an axes-level function for histograms).\n",
      "  warnings.warn(msg, FutureWarning)\n",
      "C:\\Users\\Sarah Zheng\\.conda\\envs\\sim-test\\lib\\site-packages\\seaborn\\distributions.py:2557: FutureWarning: `distplot` is a deprecated function and will be removed in a future version. Please adapt your code to use either `displot` (a figure-level function with similar flexibility) or `histplot` (an axes-level function for histograms).\n",
      "  warnings.warn(msg, FutureWarning)\n",
      "C:\\Users\\Sarah Zheng\\.conda\\envs\\sim-test\\lib\\site-packages\\seaborn\\distributions.py:2557: FutureWarning: `distplot` is a deprecated function and will be removed in a future version. Please adapt your code to use either `displot` (a figure-level function with similar flexibility) or `histplot` (an axes-level function for histograms).\n",
      "  warnings.warn(msg, FutureWarning)\n",
      "C:\\Users\\Sarah Zheng\\.conda\\envs\\sim-test\\lib\\site-packages\\seaborn\\distributions.py:2557: FutureWarning: `distplot` is a deprecated function and will be removed in a future version. Please adapt your code to use either `displot` (a figure-level function with similar flexibility) or `histplot` (an axes-level function for histograms).\n",
      "  warnings.warn(msg, FutureWarning)\n",
      "C:\\Users\\Sarah Zheng\\.conda\\envs\\sim-test\\lib\\site-packages\\seaborn\\distributions.py:2557: FutureWarning: `distplot` is a deprecated function and will be removed in a future version. Please adapt your code to use either `displot` (a figure-level function with similar flexibility) or `histplot` (an axes-level function for histograms).\n",
      "  warnings.warn(msg, FutureWarning)\n",
      "C:\\Users\\Sarah Zheng\\.conda\\envs\\sim-test\\lib\\site-packages\\seaborn\\distributions.py:2557: FutureWarning: `distplot` is a deprecated function and will be removed in a future version. Please adapt your code to use either `displot` (a figure-level function with similar flexibility) or `histplot` (an axes-level function for histograms).\n",
      "  warnings.warn(msg, FutureWarning)\n",
      "C:\\Users\\Sarah Zheng\\.conda\\envs\\sim-test\\lib\\site-packages\\seaborn\\distributions.py:2557: FutureWarning: `distplot` is a deprecated function and will be removed in a future version. Please adapt your code to use either `displot` (a figure-level function with similar flexibility) or `histplot` (an axes-level function for histograms).\n",
      "  warnings.warn(msg, FutureWarning)\n",
      "C:\\Users\\Sarah Zheng\\.conda\\envs\\sim-test\\lib\\site-packages\\seaborn\\distributions.py:2557: FutureWarning: `distplot` is a deprecated function and will be removed in a future version. Please adapt your code to use either `displot` (a figure-level function with similar flexibility) or `histplot` (an axes-level function for histograms).\n",
      "  warnings.warn(msg, FutureWarning)\n",
      "C:\\Users\\Sarah Zheng\\.conda\\envs\\sim-test\\lib\\site-packages\\seaborn\\distributions.py:2557: FutureWarning: `distplot` is a deprecated function and will be removed in a future version. Please adapt your code to use either `displot` (a figure-level function with similar flexibility) or `histplot` (an axes-level function for histograms).\n",
      "  warnings.warn(msg, FutureWarning)\n",
      "C:\\Users\\Sarah Zheng\\.conda\\envs\\sim-test\\lib\\site-packages\\seaborn\\distributions.py:2557: FutureWarning: `distplot` is a deprecated function and will be removed in a future version. Please adapt your code to use either `displot` (a figure-level function with similar flexibility) or `histplot` (an axes-level function for histograms).\n",
      "  warnings.warn(msg, FutureWarning)\n",
      "C:\\Users\\Sarah Zheng\\.conda\\envs\\sim-test\\lib\\site-packages\\seaborn\\distributions.py:2557: FutureWarning: `distplot` is a deprecated function and will be removed in a future version. Please adapt your code to use either `displot` (a figure-level function with similar flexibility) or `histplot` (an axes-level function for histograms).\n",
      "  warnings.warn(msg, FutureWarning)\n",
      "C:\\Users\\Sarah Zheng\\.conda\\envs\\sim-test\\lib\\site-packages\\seaborn\\distributions.py:2557: FutureWarning: `distplot` is a deprecated function and will be removed in a future version. Please adapt your code to use either `displot` (a figure-level function with similar flexibility) or `histplot` (an axes-level function for histograms).\n",
      "  warnings.warn(msg, FutureWarning)\n",
      "C:\\Users\\Sarah Zheng\\.conda\\envs\\sim-test\\lib\\site-packages\\seaborn\\distributions.py:2557: FutureWarning: `distplot` is a deprecated function and will be removed in a future version. Please adapt your code to use either `displot` (a figure-level function with similar flexibility) or `histplot` (an axes-level function for histograms).\n",
      "  warnings.warn(msg, FutureWarning)\n",
      "C:\\Users\\Sarah Zheng\\.conda\\envs\\sim-test\\lib\\site-packages\\seaborn\\distributions.py:2557: FutureWarning: `distplot` is a deprecated function and will be removed in a future version. Please adapt your code to use either `displot` (a figure-level function with similar flexibility) or `histplot` (an axes-level function for histograms).\n",
      "  warnings.warn(msg, FutureWarning)\n",
      "C:\\Users\\Sarah Zheng\\.conda\\envs\\sim-test\\lib\\site-packages\\seaborn\\distributions.py:2557: FutureWarning: `distplot` is a deprecated function and will be removed in a future version. Please adapt your code to use either `displot` (a figure-level function with similar flexibility) or `histplot` (an axes-level function for histograms).\n",
      "  warnings.warn(msg, FutureWarning)\n",
      "C:\\Users\\Sarah Zheng\\.conda\\envs\\sim-test\\lib\\site-packages\\seaborn\\distributions.py:2557: FutureWarning: `distplot` is a deprecated function and will be removed in a future version. Please adapt your code to use either `displot` (a figure-level function with similar flexibility) or `histplot` (an axes-level function for histograms).\n",
      "  warnings.warn(msg, FutureWarning)\n",
      "C:\\Users\\Sarah Zheng\\.conda\\envs\\sim-test\\lib\\site-packages\\seaborn\\distributions.py:2557: FutureWarning: `distplot` is a deprecated function and will be removed in a future version. Please adapt your code to use either `displot` (a figure-level function with similar flexibility) or `histplot` (an axes-level function for histograms).\n",
      "  warnings.warn(msg, FutureWarning)\n",
      "C:\\Users\\Sarah Zheng\\.conda\\envs\\sim-test\\lib\\site-packages\\seaborn\\distributions.py:2557: FutureWarning: `distplot` is a deprecated function and will be removed in a future version. Please adapt your code to use either `displot` (a figure-level function with similar flexibility) or `histplot` (an axes-level function for histograms).\n",
      "  warnings.warn(msg, FutureWarning)\n",
      "C:\\Users\\Sarah Zheng\\.conda\\envs\\sim-test\\lib\\site-packages\\seaborn\\distributions.py:2557: FutureWarning: `distplot` is a deprecated function and will be removed in a future version. Please adapt your code to use either `displot` (a figure-level function with similar flexibility) or `histplot` (an axes-level function for histograms).\n",
      "  warnings.warn(msg, FutureWarning)\n",
      "C:\\Users\\Sarah Zheng\\.conda\\envs\\sim-test\\lib\\site-packages\\seaborn\\distributions.py:2557: FutureWarning: `distplot` is a deprecated function and will be removed in a future version. Please adapt your code to use either `displot` (a figure-level function with similar flexibility) or `histplot` (an axes-level function for histograms).\n",
      "  warnings.warn(msg, FutureWarning)\n",
      "C:\\Users\\Sarah Zheng\\.conda\\envs\\sim-test\\lib\\site-packages\\seaborn\\distributions.py:2557: FutureWarning: `distplot` is a deprecated function and will be removed in a future version. Please adapt your code to use either `displot` (a figure-level function with similar flexibility) or `histplot` (an axes-level function for histograms).\n",
      "  warnings.warn(msg, FutureWarning)\n",
      "C:\\Users\\Sarah Zheng\\.conda\\envs\\sim-test\\lib\\site-packages\\seaborn\\distributions.py:2557: FutureWarning: `distplot` is a deprecated function and will be removed in a future version. Please adapt your code to use either `displot` (a figure-level function with similar flexibility) or `histplot` (an axes-level function for histograms).\n",
      "  warnings.warn(msg, FutureWarning)\n",
      "C:\\Users\\Sarah Zheng\\.conda\\envs\\sim-test\\lib\\site-packages\\seaborn\\distributions.py:2557: FutureWarning: `distplot` is a deprecated function and will be removed in a future version. Please adapt your code to use either `displot` (a figure-level function with similar flexibility) or `histplot` (an axes-level function for histograms).\n",
      "  warnings.warn(msg, FutureWarning)\n",
      "C:\\Users\\Sarah Zheng\\.conda\\envs\\sim-test\\lib\\site-packages\\seaborn\\distributions.py:2557: FutureWarning: `distplot` is a deprecated function and will be removed in a future version. Please adapt your code to use either `displot` (a figure-level function with similar flexibility) or `histplot` (an axes-level function for histograms).\n",
      "  warnings.warn(msg, FutureWarning)\n",
      "C:\\Users\\Sarah Zheng\\.conda\\envs\\sim-test\\lib\\site-packages\\seaborn\\distributions.py:2557: FutureWarning: `distplot` is a deprecated function and will be removed in a future version. Please adapt your code to use either `displot` (a figure-level function with similar flexibility) or `histplot` (an axes-level function for histograms).\n",
      "  warnings.warn(msg, FutureWarning)\n",
      "C:\\Users\\Sarah Zheng\\.conda\\envs\\sim-test\\lib\\site-packages\\seaborn\\distributions.py:2557: FutureWarning: `distplot` is a deprecated function and will be removed in a future version. Please adapt your code to use either `displot` (a figure-level function with similar flexibility) or `histplot` (an axes-level function for histograms).\n",
      "  warnings.warn(msg, FutureWarning)\n"
     ]
    },
    {
     "name": "stderr",
     "output_type": "stream",
     "text": [
      "C:\\Users\\Sarah Zheng\\.conda\\envs\\sim-test\\lib\\site-packages\\seaborn\\distributions.py:2557: FutureWarning: `distplot` is a deprecated function and will be removed in a future version. Please adapt your code to use either `displot` (a figure-level function with similar flexibility) or `histplot` (an axes-level function for histograms).\n",
      "  warnings.warn(msg, FutureWarning)\n",
      "C:\\Users\\Sarah Zheng\\.conda\\envs\\sim-test\\lib\\site-packages\\seaborn\\distributions.py:2557: FutureWarning: `distplot` is a deprecated function and will be removed in a future version. Please adapt your code to use either `displot` (a figure-level function with similar flexibility) or `histplot` (an axes-level function for histograms).\n",
      "  warnings.warn(msg, FutureWarning)\n",
      "C:\\Users\\Sarah Zheng\\.conda\\envs\\sim-test\\lib\\site-packages\\seaborn\\distributions.py:2557: FutureWarning: `distplot` is a deprecated function and will be removed in a future version. Please adapt your code to use either `displot` (a figure-level function with similar flexibility) or `histplot` (an axes-level function for histograms).\n",
      "  warnings.warn(msg, FutureWarning)\n",
      "C:\\Users\\Sarah Zheng\\.conda\\envs\\sim-test\\lib\\site-packages\\seaborn\\distributions.py:2557: FutureWarning: `distplot` is a deprecated function and will be removed in a future version. Please adapt your code to use either `displot` (a figure-level function with similar flexibility) or `histplot` (an axes-level function for histograms).\n",
      "  warnings.warn(msg, FutureWarning)\n",
      "C:\\Users\\Sarah Zheng\\.conda\\envs\\sim-test\\lib\\site-packages\\seaborn\\distributions.py:2557: FutureWarning: `distplot` is a deprecated function and will be removed in a future version. Please adapt your code to use either `displot` (a figure-level function with similar flexibility) or `histplot` (an axes-level function for histograms).\n",
      "  warnings.warn(msg, FutureWarning)\n",
      "C:\\Users\\Sarah Zheng\\.conda\\envs\\sim-test\\lib\\site-packages\\seaborn\\distributions.py:2557: FutureWarning: `distplot` is a deprecated function and will be removed in a future version. Please adapt your code to use either `displot` (a figure-level function with similar flexibility) or `histplot` (an axes-level function for histograms).\n",
      "  warnings.warn(msg, FutureWarning)\n",
      "C:\\Users\\Sarah Zheng\\.conda\\envs\\sim-test\\lib\\site-packages\\seaborn\\distributions.py:2557: FutureWarning: `distplot` is a deprecated function and will be removed in a future version. Please adapt your code to use either `displot` (a figure-level function with similar flexibility) or `histplot` (an axes-level function for histograms).\n",
      "  warnings.warn(msg, FutureWarning)\n",
      "C:\\Users\\Sarah Zheng\\.conda\\envs\\sim-test\\lib\\site-packages\\seaborn\\distributions.py:2557: FutureWarning: `distplot` is a deprecated function and will be removed in a future version. Please adapt your code to use either `displot` (a figure-level function with similar flexibility) or `histplot` (an axes-level function for histograms).\n",
      "  warnings.warn(msg, FutureWarning)\n",
      "C:\\Users\\Sarah Zheng\\.conda\\envs\\sim-test\\lib\\site-packages\\seaborn\\distributions.py:2557: FutureWarning: `distplot` is a deprecated function and will be removed in a future version. Please adapt your code to use either `displot` (a figure-level function with similar flexibility) or `histplot` (an axes-level function for histograms).\n",
      "  warnings.warn(msg, FutureWarning)\n",
      "C:\\Users\\Sarah Zheng\\.conda\\envs\\sim-test\\lib\\site-packages\\seaborn\\distributions.py:2557: FutureWarning: `distplot` is a deprecated function and will be removed in a future version. Please adapt your code to use either `displot` (a figure-level function with similar flexibility) or `histplot` (an axes-level function for histograms).\n",
      "  warnings.warn(msg, FutureWarning)\n",
      "C:\\Users\\Sarah Zheng\\.conda\\envs\\sim-test\\lib\\site-packages\\seaborn\\distributions.py:2557: FutureWarning: `distplot` is a deprecated function and will be removed in a future version. Please adapt your code to use either `displot` (a figure-level function with similar flexibility) or `histplot` (an axes-level function for histograms).\n",
      "  warnings.warn(msg, FutureWarning)\n",
      "C:\\Users\\Sarah Zheng\\.conda\\envs\\sim-test\\lib\\site-packages\\seaborn\\distributions.py:2557: FutureWarning: `distplot` is a deprecated function and will be removed in a future version. Please adapt your code to use either `displot` (a figure-level function with similar flexibility) or `histplot` (an axes-level function for histograms).\n",
      "  warnings.warn(msg, FutureWarning)\n",
      "C:\\Users\\Sarah Zheng\\.conda\\envs\\sim-test\\lib\\site-packages\\seaborn\\distributions.py:2557: FutureWarning: `distplot` is a deprecated function and will be removed in a future version. Please adapt your code to use either `displot` (a figure-level function with similar flexibility) or `histplot` (an axes-level function for histograms).\n",
      "  warnings.warn(msg, FutureWarning)\n",
      "C:\\Users\\Sarah Zheng\\.conda\\envs\\sim-test\\lib\\site-packages\\seaborn\\distributions.py:2557: FutureWarning: `distplot` is a deprecated function and will be removed in a future version. Please adapt your code to use either `displot` (a figure-level function with similar flexibility) or `histplot` (an axes-level function for histograms).\n",
      "  warnings.warn(msg, FutureWarning)\n",
      "C:\\Users\\Sarah Zheng\\.conda\\envs\\sim-test\\lib\\site-packages\\seaborn\\distributions.py:2557: FutureWarning: `distplot` is a deprecated function and will be removed in a future version. Please adapt your code to use either `displot` (a figure-level function with similar flexibility) or `histplot` (an axes-level function for histograms).\n",
      "  warnings.warn(msg, FutureWarning)\n",
      "C:\\Users\\Sarah Zheng\\.conda\\envs\\sim-test\\lib\\site-packages\\seaborn\\distributions.py:2557: FutureWarning: `distplot` is a deprecated function and will be removed in a future version. Please adapt your code to use either `displot` (a figure-level function with similar flexibility) or `histplot` (an axes-level function for histograms).\n",
      "  warnings.warn(msg, FutureWarning)\n",
      "C:\\Users\\Sarah Zheng\\.conda\\envs\\sim-test\\lib\\site-packages\\seaborn\\distributions.py:2557: FutureWarning: `distplot` is a deprecated function and will be removed in a future version. Please adapt your code to use either `displot` (a figure-level function with similar flexibility) or `histplot` (an axes-level function for histograms).\n",
      "  warnings.warn(msg, FutureWarning)\n",
      "C:\\Users\\Sarah Zheng\\.conda\\envs\\sim-test\\lib\\site-packages\\seaborn\\distributions.py:2557: FutureWarning: `distplot` is a deprecated function and will be removed in a future version. Please adapt your code to use either `displot` (a figure-level function with similar flexibility) or `histplot` (an axes-level function for histograms).\n",
      "  warnings.warn(msg, FutureWarning)\n",
      "C:\\Users\\Sarah Zheng\\.conda\\envs\\sim-test\\lib\\site-packages\\seaborn\\distributions.py:2557: FutureWarning: `distplot` is a deprecated function and will be removed in a future version. Please adapt your code to use either `displot` (a figure-level function with similar flexibility) or `histplot` (an axes-level function for histograms).\n",
      "  warnings.warn(msg, FutureWarning)\n",
      "C:\\Users\\Sarah Zheng\\.conda\\envs\\sim-test\\lib\\site-packages\\seaborn\\distributions.py:2557: FutureWarning: `distplot` is a deprecated function and will be removed in a future version. Please adapt your code to use either `displot` (a figure-level function with similar flexibility) or `histplot` (an axes-level function for histograms).\n",
      "  warnings.warn(msg, FutureWarning)\n",
      "C:\\Users\\Sarah Zheng\\.conda\\envs\\sim-test\\lib\\site-packages\\seaborn\\distributions.py:2557: FutureWarning: `distplot` is a deprecated function and will be removed in a future version. Please adapt your code to use either `displot` (a figure-level function with similar flexibility) or `histplot` (an axes-level function for histograms).\n",
      "  warnings.warn(msg, FutureWarning)\n",
      "C:\\Users\\Sarah Zheng\\.conda\\envs\\sim-test\\lib\\site-packages\\seaborn\\distributions.py:2557: FutureWarning: `distplot` is a deprecated function and will be removed in a future version. Please adapt your code to use either `displot` (a figure-level function with similar flexibility) or `histplot` (an axes-level function for histograms).\n",
      "  warnings.warn(msg, FutureWarning)\n",
      "C:\\Users\\Sarah Zheng\\.conda\\envs\\sim-test\\lib\\site-packages\\seaborn\\distributions.py:2557: FutureWarning: `distplot` is a deprecated function and will be removed in a future version. Please adapt your code to use either `displot` (a figure-level function with similar flexibility) or `histplot` (an axes-level function for histograms).\n",
      "  warnings.warn(msg, FutureWarning)\n",
      "C:\\Users\\Sarah Zheng\\.conda\\envs\\sim-test\\lib\\site-packages\\seaborn\\distributions.py:2557: FutureWarning: `distplot` is a deprecated function and will be removed in a future version. Please adapt your code to use either `displot` (a figure-level function with similar flexibility) or `histplot` (an axes-level function for histograms).\n",
      "  warnings.warn(msg, FutureWarning)\n",
      "C:\\Users\\Sarah Zheng\\.conda\\envs\\sim-test\\lib\\site-packages\\seaborn\\distributions.py:2557: FutureWarning: `distplot` is a deprecated function and will be removed in a future version. Please adapt your code to use either `displot` (a figure-level function with similar flexibility) or `histplot` (an axes-level function for histograms).\n",
      "  warnings.warn(msg, FutureWarning)\n",
      "C:\\Users\\Sarah Zheng\\.conda\\envs\\sim-test\\lib\\site-packages\\seaborn\\distributions.py:2557: FutureWarning: `distplot` is a deprecated function and will be removed in a future version. Please adapt your code to use either `displot` (a figure-level function with similar flexibility) or `histplot` (an axes-level function for histograms).\n",
      "  warnings.warn(msg, FutureWarning)\n"
     ]
    },
    {
     "data": {
      "image/png": "[encoded data removed]",
      "text/plain": [
       "<Figure size 432x288 with 1 Axes>"
      ]
     },
     "metadata": {
      "needs_background": "light"
     },
     "output_type": "display_data"
    }
   ],
   "source": [
    "game_props = {}\n",
    "\n",
    "for uuid in uuids:\n",
    "    tmp = df_long.loc[uuid]\n",
    "    sns.distplot(tmp['t_cond'])\n",
    "    game_props[uuid] = {\n",
    "        \"ev_sd\": tmp['t_cond'].std(),\n",
    "        \"n_blue_outcome\": len(tmp[tmp['outcome'] == 1])\n",
    "    }"
   ]
  },
  {
   "cell_type": "code",
   "execution_count": 180,
   "metadata": {},
   "outputs": [
    {
     "data": {
      "text/plain": [
       "{'5a455b091950a80001e7c49a': {'ev_sd': 4.108758648054792,\n",
       "  'n_blue_outcome': 56},\n",
       " '59430640f154200001b509d0': {'ev_sd': 4.25269247164981, 'n_blue_outcome': 57},\n",
       " '61470c6545addee0f7b14363': {'ev_sd': 4.4967598266781454,\n",
       "  'n_blue_outcome': 62},\n",
       " '614f0cfd6a0b72631a010f7a': {'ev_sd': 4.4164599626564955,\n",
       "  'n_blue_outcome': 53},\n",
       " '5ef7d6c359b38851de122110': {'ev_sd': 4.391513777551763,\n",
       "  'n_blue_outcome': 56},\n",
       " '5e6d395882be80000cec9f92': {'ev_sd': 4.595783227118276,\n",
       "  'n_blue_outcome': 56},\n",
       " '60f9c455fbb032d20d4f88ee': {'ev_sd': 4.605389558307775,\n",
       "  'n_blue_outcome': 57},\n",
       " '615f1500b60d25e2660e8644': {'ev_sd': 4.2267207784907965,\n",
       "  'n_blue_outcome': 52},\n",
       " '615875cd00a23fb41e865fc0': {'ev_sd': 4.393119691542643,\n",
       "  'n_blue_outcome': 56},\n",
       " '613bea209464d339e18036d4': {'ev_sd': 4.581472213213722,\n",
       "  'n_blue_outcome': 55},\n",
       " '5f96efef011b8c01fd34a9eb': {'ev_sd': 4.403550944844989,\n",
       "  'n_blue_outcome': 55},\n",
       " '5d230886d7533000017a4409': {'ev_sd': 4.628913635853424,\n",
       "  'n_blue_outcome': 52},\n",
       " '5cfb74958f650700151c7df3': {'ev_sd': 4.587953068450256,\n",
       "  'n_blue_outcome': 54},\n",
       " '611a762ccbf4c4400be65bee': {'ev_sd': 4.365853199238766,\n",
       "  'n_blue_outcome': 62},\n",
       " '5cd5fe480f0de600018e7251': {'ev_sd': 4.285445565560339,\n",
       "  'n_blue_outcome': 50},\n",
       " '61702d135446e67283e058de': {'ev_sd': 4.414551468627764,\n",
       "  'n_blue_outcome': 55},\n",
       " '5efd22056ec55516587f32a6': {'ev_sd': 4.489632946578845,\n",
       "  'n_blue_outcome': 58},\n",
       " '6169d947c10b18bb9541b6d9': {'ev_sd': 4.788198142118783,\n",
       "  'n_blue_outcome': 43},\n",
       " '615f0726cbd12330a2d82556': {'ev_sd': 3.7156248014860473,\n",
       "  'n_blue_outcome': 73},\n",
       " '6166d329ed4a00458e660e87': {'ev_sd': 4.411552759835135,\n",
       "  'n_blue_outcome': 56},\n",
       " '61701030a25961434f04b486': {'ev_sd': 4.033505119070514,\n",
       "  'n_blue_outcome': 58},\n",
       " '6166208d9c58ef96862ffd1e': {'ev_sd': 4.425284857205887,\n",
       "  'n_blue_outcome': 53},\n",
       " '614f40be2fd4052c9f0990fe': {'ev_sd': 4.334341570980832,\n",
       "  'n_blue_outcome': 56},\n",
       " '6160f30a9b243350dd593650': {'ev_sd': 4.566350900808364,\n",
       "  'n_blue_outcome': 52},\n",
       " '61533356ce435e5a4a4addd0': {'ev_sd': 4.371068770593003,\n",
       "  'n_blue_outcome': 63},\n",
       " '61667ad3d3c29f487b65cd45': {'ev_sd': 4.347800683853488,\n",
       "  'n_blue_outcome': 57},\n",
       " '616b0e47afca47d3d1a99499': {'ev_sd': 4.191201175186702,\n",
       "  'n_blue_outcome': 65},\n",
       " '6146feaf8805a81cdc0da120': {'ev_sd': 3.878056967438285,\n",
       "  'n_blue_outcome': 66},\n",
       " '61572268fe13d0e23bdc2036': {'ev_sd': 4.298026722562945,\n",
       "  'n_blue_outcome': 63},\n",
       " '605116da9a3b2d13a44665a0': {'ev_sd': 4.561632316207069,\n",
       "  'n_blue_outcome': 52},\n",
       " '5d8a1081323cf30001205f53': {'ev_sd': 4.387873426671442,\n",
       "  'n_blue_outcome': 58},\n",
       " '583accd26ab9a70001e2b5a7': {'ev_sd': 4.5565389760978805,\n",
       "  'n_blue_outcome': 60},\n",
       " '614cd4d65c8c90077afbe40f': {'ev_sd': 4.514382619689409,\n",
       "  'n_blue_outcome': 54},\n",
       " '6152218517a89c5b41e18a06': {'ev_sd': 3.951390027074955,\n",
       "  'n_blue_outcome': 69},\n",
       " '5c47408447aa7b000107b7d7': {'ev_sd': 4.4967598266781454,\n",
       "  'n_blue_outcome': 62},\n",
       " '6164a82e96fecd05db7f6bc5': {'ev_sd': 4.422011111718264,\n",
       "  'n_blue_outcome': 55},\n",
       " '616d53892b58b6e0388ab050': {'ev_sd': 4.593595932981657,\n",
       "  'n_blue_outcome': 59},\n",
       " '610044f2278643f23f48e7c6': {'ev_sd': 4.27862322822291, 'n_blue_outcome': 62},\n",
       " '57313ba2070de6000f43384e': {'ev_sd': 3.8374591052569342,\n",
       "  'n_blue_outcome': 70},\n",
       " '616d2d6c9c76109cd9aa68e7': {'ev_sd': 4.292664241719218,\n",
       "  'n_blue_outcome': 55},\n",
       " '6157750f00a7484cb199b40d': {'ev_sd': 4.251767642979522,\n",
       "  'n_blue_outcome': 52},\n",
       " '5c7af38b670f87001746df79': {'ev_sd': 4.25269247164981, 'n_blue_outcome': 57},\n",
       " '6147d726fa94eb7d5c2de156': {'ev_sd': 4.57065491937534, 'n_blue_outcome': 49},\n",
       " '61243bd7b3bc114f04400657': {'ev_sd': 4.356177183085756,\n",
       "  'n_blue_outcome': 62},\n",
       " '614cca3c9f5a9e7afe6f0f49': {'ev_sd': 4.078199401947806,\n",
       "  'n_blue_outcome': 58},\n",
       " '616f35805cb9047a629edb71': {'ev_sd': 4.301104581874257,\n",
       "  'n_blue_outcome': 61},\n",
       " '5ce96c839faf7d0001daf0e6': {'ev_sd': 4.517699966107785,\n",
       "  'n_blue_outcome': 56},\n",
       " '6158d28aa4775c94baebd9f6': {'ev_sd': 4.331517914161169,\n",
       "  'n_blue_outcome': 62},\n",
       " '615f4e20d504f648ffd22972': {'ev_sd': 4.416643700032153,\n",
       "  'n_blue_outcome': 55},\n",
       " '6160011304f5319ece189bfa': {'ev_sd': 3.7156248014860473,\n",
       "  'n_blue_outcome': 73},\n",
       " '616c96b3a5db6313464f8d8d': {'ev_sd': 4.422745092960183,\n",
       "  'n_blue_outcome': 53},\n",
       " '6156ee007bdef87eb5b4aeb0': {'ev_sd': 4.181822622904778,\n",
       "  'n_blue_outcome': 68},\n",
       " '6169a6bf5372000629b20879': {'ev_sd': 4.3590564671033745,\n",
       "  'n_blue_outcome': 53},\n",
       " '6108a8c0d2761e50ce5e969c': {'ev_sd': 4.545030623745732,\n",
       "  'n_blue_outcome': 56},\n",
       " '60526004255ed4f2584df18e': {'ev_sd': 4.399310466910657,\n",
       "  'n_blue_outcome': 59},\n",
       " '61661cac7d3cc02b3fc1b52b': {'ev_sd': 4.370897398694301,\n",
       "  'n_blue_outcome': 57},\n",
       " '5ea91fe115728f3d0f6b7d17': {'ev_sd': 3.9660859424464583,\n",
       "  'n_blue_outcome': 64},\n",
       " '5b98d9362cca9c0001de161f': {'ev_sd': 4.390220092367319,\n",
       "  'n_blue_outcome': 56},\n",
       " '5c6d6d3481e1d50001627409': {'ev_sd': 4.401863752364676,\n",
       "  'n_blue_outcome': 58},\n",
       " '616b05332ad106da01d79fa8': {'ev_sd': 4.439761890343481,\n",
       "  'n_blue_outcome': 47},\n",
       " '616d50ac138442ad3ad08b0e': {'ev_sd': 4.405421696568248,\n",
       "  'n_blue_outcome': 56},\n",
       " '6151e17dd596caee8fc6b73c': {'ev_sd': 4.453407005602909,\n",
       "  'n_blue_outcome': 54},\n",
       " '6110aac49542b99f9bd6c09b': {'ev_sd': 4.189279463341224,\n",
       "  'n_blue_outcome': 60},\n",
       " '6157f95997ae97ff4aebad7b': {'ev_sd': 4.274244207525822,\n",
       "  'n_blue_outcome': 58},\n",
       " '6168983cf2f14b393f06c50a': {'ev_sd': 4.259145993536401,\n",
       "  'n_blue_outcome': 59},\n",
       " '6123d102b713b8a947fd2eb2': {'ev_sd': 4.391627489893413,\n",
       "  'n_blue_outcome': 58},\n",
       " '5fec7577ad8fbadf15cd5607': {'ev_sd': 4.33382307805823, 'n_blue_outcome': 50},\n",
       " '6110e7ae08023ecb9207b05e': {'ev_sd': 4.331172033759162,\n",
       "  'n_blue_outcome': 41},\n",
       " '6141eb354d3db46e3cdf8279': {'ev_sd': 4.319930294901642,\n",
       "  'n_blue_outcome': 56},\n",
       " '5ac7a7f1f69e940001d999a7': {'ev_sd': 4.277747782698802,\n",
       "  'n_blue_outcome': 58},\n",
       " '617019b7cfb4582eb9443d6e': {'ev_sd': 4.486684419329232,\n",
       "  'n_blue_outcome': 50},\n",
       " '5eb2e269f78ab109cca0bf0c': {'ev_sd': 4.488089383813965,\n",
       "  'n_blue_outcome': 50},\n",
       " '616d3d7cbf9e78d1a6e3219e': {'ev_sd': 4.107847001929469,\n",
       "  'n_blue_outcome': 63},\n",
       " '61560647e0454473e55326f2': {'ev_sd': 4.31223616862904, 'n_blue_outcome': 53},\n",
       " '5f24794d55695f0549163e86': {'ev_sd': 4.316576647941406,\n",
       "  'n_blue_outcome': 58},\n",
       " '60d103ca47eb561995f29b32': {'ev_sd': 4.520241616292531,\n",
       "  'n_blue_outcome': 54},\n",
       " '615df1b1d27e6932fca18dfa': {'ev_sd': 4.233523544047263,\n",
       "  'n_blue_outcome': 56},\n",
       " '614f23537aab4e64abfd53ae': {'ev_sd': 4.055236592385791,\n",
       "  'n_blue_outcome': 70},\n",
       " '61601bdaaac912e91c39d579': {'ev_sd': 4.217924417531683,\n",
       "  'n_blue_outcome': 62},\n",
       " '55b424e1fdf99b526efcf8d0': {'ev_sd': 4.251767642979522,\n",
       "  'n_blue_outcome': 52},\n",
       " '56210effed6e5a000ac7f3a5': {'ev_sd': 4.086456422425733,\n",
       "  'n_blue_outcome': 67},\n",
       " '5afc4671bb36f900018ef1fe': {'ev_sd': 4.01905573347323, 'n_blue_outcome': 64},\n",
       " '60fd39ffad4645e77e6afdb1': {'ev_sd': 4.703758425009616,\n",
       "  'n_blue_outcome': 56},\n",
       " '5eff0ccd02ed424339bf7a08': {'ev_sd': 4.488089383813965,\n",
       "  'n_blue_outcome': 50},\n",
       " '616b075e487d1ad05543166e': {'ev_sd': 4.141625125075201,\n",
       "  'n_blue_outcome': 66},\n",
       " '615630fc8d505b023ba5de4f': {'ev_sd': 4.077418708061381,\n",
       "  'n_blue_outcome': 58},\n",
       " '616ae1d6b676edf5f6ae8351': {'ev_sd': 4.585013311449301,\n",
       "  'n_blue_outcome': 51},\n",
       " '6169c2dc0d5361fbf96713f4': {'ev_sd': 4.549958499488338,\n",
       "  'n_blue_outcome': 59},\n",
       " '615ec4f34cb81d7e58fa144c': {'ev_sd': 4.434697489426037,\n",
       "  'n_blue_outcome': 48},\n",
       " '5da78f61a60c0d0017d6ed89': {'ev_sd': 4.369911879855573,\n",
       "  'n_blue_outcome': 53},\n",
       " '61671a9d42eb53946faa44c2': {'ev_sd': 4.334932001275268,\n",
       "  'n_blue_outcome': 59},\n",
       " '615e518ec8ce77798a747260': {'ev_sd': 4.520241616292531,\n",
       "  'n_blue_outcome': 54},\n",
       " '6157b4423b44be8c20642f98': {'ev_sd': 4.3444254464112655,\n",
       "  'n_blue_outcome': 58},\n",
       " '61486876563fb6bdeb777a10': {'ev_sd': 4.371068770593004,\n",
       "  'n_blue_outcome': 58},\n",
       " '5d99898ab82ce10398fc1556': {'ev_sd': 4.695323994755882,\n",
       "  'n_blue_outcome': 41},\n",
       " '613e157ccd6af6049001ce25': {'ev_sd': 4.54305248073326, 'n_blue_outcome': 52},\n",
       " '5ebaec011a7d64080694fe74': {'ev_sd': 4.144035920194849,\n",
       "  'n_blue_outcome': 52},\n",
       " '6165ce387aa2c20ac9444aab': {'ev_sd': 4.113313847919417,\n",
       "  'n_blue_outcome': 62},\n",
       " '600092321467ea1431ac2de9': {'ev_sd': 4.5565389760978805,\n",
       "  'n_blue_outcome': 60},\n",
       " '61085b8ec672d0e88151d5ae': {'ev_sd': 3.730981736634625,\n",
       "  'n_blue_outcome': 70},\n",
       " '6169254bcae807672de29c2d': {'ev_sd': 4.059113757260571,\n",
       "  'n_blue_outcome': 57},\n",
       " '5af196e1e1b5b8000148ac76': {'ev_sd': 4.279104646918079,\n",
       "  'n_blue_outcome': 66}}"
      ]
     },
     "execution_count": 180,
     "metadata": {},
     "output_type": "execute_result"
    }
   ],
   "source": [
    "game_props"
   ]
  },
  {
   "cell_type": "code",
   "execution_count": 181,
   "metadata": {},
   "outputs": [],
   "source": [
    "tmp = pd.DataFrame.from_records(game_props).transpose()"
   ]
  },
  {
   "cell_type": "code",
   "execution_count": 184,
   "metadata": {},
   "outputs": [
    {
     "data": {
      "text/html": [
       "<div>\n",
       "<style scoped>\n",
       "    .dataframe tbody tr th:only-of-type {\n",
       "        vertical-align: middle;\n",
       "    }\n",
       "\n",
       "    .dataframe tbody tr th {\n",
       "        vertical-align: top;\n",
       "    }\n",
       "\n",
       "    .dataframe thead th {\n",
       "        text-align: right;\n",
       "    }\n",
       "</style>\n",
       "<table border=\"1\" class=\"dataframe\">\n",
       "  <thead>\n",
       "    <tr style=\"text-align: right;\">\n",
       "      <th></th>\n",
       "      <th>ev_sd</th>\n",
       "      <th>n_blue_outcome</th>\n",
       "    </tr>\n",
       "  </thead>\n",
       "  <tbody>\n",
       "    <tr>\n",
       "      <th>55b424e1fdf99b526efcf8d0</th>\n",
       "      <td>True</td>\n",
       "      <td>True</td>\n",
       "    </tr>\n",
       "    <tr>\n",
       "      <th>56210effed6e5a000ac7f3a5</th>\n",
       "      <td>True</td>\n",
       "      <td>True</td>\n",
       "    </tr>\n",
       "    <tr>\n",
       "      <th>57313ba2070de6000f43384e</th>\n",
       "      <td>True</td>\n",
       "      <td>True</td>\n",
       "    </tr>\n",
       "    <tr>\n",
       "      <th>583accd26ab9a70001e2b5a7</th>\n",
       "      <td>True</td>\n",
       "      <td>True</td>\n",
       "    </tr>\n",
       "    <tr>\n",
       "      <th>59430640f154200001b509d0</th>\n",
       "      <td>True</td>\n",
       "      <td>True</td>\n",
       "    </tr>\n",
       "    <tr>\n",
       "      <th>...</th>\n",
       "      <td>...</td>\n",
       "      <td>...</td>\n",
       "    </tr>\n",
       "    <tr>\n",
       "      <th>616d53892b58b6e0388ab050</th>\n",
       "      <td>True</td>\n",
       "      <td>True</td>\n",
       "    </tr>\n",
       "    <tr>\n",
       "      <th>616f35805cb9047a629edb71</th>\n",
       "      <td>True</td>\n",
       "      <td>True</td>\n",
       "    </tr>\n",
       "    <tr>\n",
       "      <th>61701030a25961434f04b486</th>\n",
       "      <td>True</td>\n",
       "      <td>True</td>\n",
       "    </tr>\n",
       "    <tr>\n",
       "      <th>617019b7cfb4582eb9443d6e</th>\n",
       "      <td>True</td>\n",
       "      <td>True</td>\n",
       "    </tr>\n",
       "    <tr>\n",
       "      <th>61702d135446e67283e058de</th>\n",
       "      <td>True</td>\n",
       "      <td>True</td>\n",
       "    </tr>\n",
       "  </tbody>\n",
       "</table>\n",
       "<p>102 rows × 2 columns</p>\n",
       "</div>"
      ],
      "text/plain": [
       "                          ev_sd  n_blue_outcome\n",
       "55b424e1fdf99b526efcf8d0   True            True\n",
       "56210effed6e5a000ac7f3a5   True            True\n",
       "57313ba2070de6000f43384e   True            True\n",
       "583accd26ab9a70001e2b5a7   True            True\n",
       "59430640f154200001b509d0   True            True\n",
       "...                         ...             ...\n",
       "616d53892b58b6e0388ab050   True            True\n",
       "616f35805cb9047a629edb71   True            True\n",
       "61701030a25961434f04b486   True            True\n",
       "617019b7cfb4582eb9443d6e   True            True\n",
       "61702d135446e67283e058de   True            True\n",
       "\n",
       "[102 rows x 2 columns]"
      ]
     },
     "execution_count": 184,
     "metadata": {},
     "output_type": "execute_result"
    }
   ],
   "source": [
    "tmp.dropna() == tmp"
   ]
  },
  {
   "cell_type": "code",
   "execution_count": 186,
   "metadata": {},
   "outputs": [],
   "source": [
    "df_ultimate = df.join(tmp)"
   ]
  },
  {
   "cell_type": "code",
   "execution_count": 187,
   "metadata": {},
   "outputs": [],
   "source": [
    "from scipy.stats import pearsonr"
   ]
  },
  {
   "cell_type": "code",
   "execution_count": 188,
   "metadata": {},
   "outputs": [
    {
     "data": {
      "text/plain": [
       "(0.002728524705798367, 0.978286520326416)"
      ]
     },
     "execution_count": 188,
     "metadata": {},
     "output_type": "execute_result"
    }
   ],
   "source": [
    "pearsonr(df_ultimate['ev_sd'], df_ultimate['signed_ev_alpha'])"
   ]
  },
  {
   "cell_type": "code",
   "execution_count": 189,
   "metadata": {},
   "outputs": [
    {
     "data": {
      "text/plain": [
       "(0.024764640440861067, 0.804857153150842)"
      ]
     },
     "execution_count": 189,
     "metadata": {},
     "output_type": "execute_result"
    }
   ],
   "source": [
    "pearsonr(df_ultimate['ev_sd'], df_ultimate['signed_ev_prior'])"
   ]
  },
  {
   "cell_type": "code",
   "execution_count": 190,
   "metadata": {},
   "outputs": [
    {
     "data": {
      "text/plain": [
       "(-0.11997805699655302, 0.229701040801958)"
      ]
     },
     "execution_count": 190,
     "metadata": {},
     "output_type": "execute_result"
    }
   ],
   "source": [
    "pearsonr(df_ultimate['ev_sd'], df_ultimate['col_congruency_alpha'])"
   ]
  },
  {
   "cell_type": "code",
   "execution_count": 191,
   "metadata": {},
   "outputs": [
    {
     "data": {
      "text/plain": [
       "(0.11919230059885197, 0.23278865123344167)"
      ]
     },
     "execution_count": 191,
     "metadata": {},
     "output_type": "execute_result"
    }
   ],
   "source": [
    "pearsonr(df_ultimate['n_blue_outcome'], df_ultimate['signed_ev_alpha']) #change"
   ]
  },
  {
   "cell_type": "code",
   "execution_count": 192,
   "metadata": {},
   "outputs": [
    {
     "data": {
      "text/plain": [
       "(-0.16014752421373726, 0.10786302294998568)"
      ]
     },
     "execution_count": 192,
     "metadata": {},
     "output_type": "execute_result"
    }
   ],
   "source": [
    "pearsonr(df_ultimate['n_blue_outcome'], df_ultimate['signed_ev_prior']) #change"
   ]
  },
  {
   "cell_type": "code",
   "execution_count": 193,
   "metadata": {},
   "outputs": [
    {
     "data": {
      "text/plain": [
       "(0.1504323501553962, 0.13125540107385664)"
      ]
     },
     "execution_count": 193,
     "metadata": {},
     "output_type": "execute_result"
    }
   ],
   "source": [
    "pearsonr(df_ultimate['n_blue_outcome'], df_ultimate['col_congruency_alpha']) #change"
   ]
  },
  {
   "cell_type": "code",
   "execution_count": 195,
   "metadata": {},
   "outputs": [
    {
     "data": {
      "text/html": [
       "<div>\n",
       "<style scoped>\n",
       "    .dataframe tbody tr th:only-of-type {\n",
       "        vertical-align: middle;\n",
       "    }\n",
       "\n",
       "    .dataframe tbody tr th {\n",
       "        vertical-align: top;\n",
       "    }\n",
       "\n",
       "    .dataframe thead th {\n",
       "        text-align: right;\n",
       "    }\n",
       "</style>\n",
       "<table border=\"1\" class=\"dataframe\">\n",
       "  <thead>\n",
       "    <tr style=\"text-align: right;\">\n",
       "      <th></th>\n",
       "      <th>crt</th>\n",
       "      <th>aq</th>\n",
       "      <th>lie_prop</th>\n",
       "      <th>eq</th>\n",
       "      <th>rgpts</th>\n",
       "      <th>signed_ev_alpha</th>\n",
       "      <th>col_congruency_alpha</th>\n",
       "      <th>signed_ev_prior</th>\n",
       "      <th>mean_honesty_rating</th>\n",
       "      <th>lie_detect_precision</th>\n",
       "      <th>...</th>\n",
       "      <th>age</th>\n",
       "      <th>gender</th>\n",
       "      <th>ed_lev</th>\n",
       "      <th>high_liar</th>\n",
       "      <th>high_alpha</th>\n",
       "      <th>high_col_congruency_alpha</th>\n",
       "      <th>high_prior</th>\n",
       "      <th>specificity</th>\n",
       "      <th>ev_sd</th>\n",
       "      <th>n_blue_outcome</th>\n",
       "    </tr>\n",
       "    <tr>\n",
       "      <th>PID</th>\n",
       "      <th></th>\n",
       "      <th></th>\n",
       "      <th></th>\n",
       "      <th></th>\n",
       "      <th></th>\n",
       "      <th></th>\n",
       "      <th></th>\n",
       "      <th></th>\n",
       "      <th></th>\n",
       "      <th></th>\n",
       "      <th></th>\n",
       "      <th></th>\n",
       "      <th></th>\n",
       "      <th></th>\n",
       "      <th></th>\n",
       "      <th></th>\n",
       "      <th></th>\n",
       "      <th></th>\n",
       "      <th></th>\n",
       "      <th></th>\n",
       "      <th></th>\n",
       "    </tr>\n",
       "  </thead>\n",
       "  <tbody>\n",
       "    <tr>\n",
       "      <th>56210effed6e5a000ac7f3a5</th>\n",
       "      <td>4</td>\n",
       "      <td>0.2</td>\n",
       "      <td>0.622222</td>\n",
       "      <td>5.181818</td>\n",
       "      <td>1.777778</td>\n",
       "      <td>0.549441</td>\n",
       "      <td>0.022603</td>\n",
       "      <td>0.324423</td>\n",
       "      <td>1.455556</td>\n",
       "      <td>0.391892</td>\n",
       "      <td>...</td>\n",
       "      <td>38</td>\n",
       "      <td>0</td>\n",
       "      <td>5</td>\n",
       "      <td>True</td>\n",
       "      <td>True</td>\n",
       "      <td>True</td>\n",
       "      <td>True</td>\n",
       "      <td>0.250000</td>\n",
       "      <td>4.086456</td>\n",
       "      <td>67.0</td>\n",
       "    </tr>\n",
       "    <tr>\n",
       "      <th>57313ba2070de6000f43384e</th>\n",
       "      <td>3</td>\n",
       "      <td>0.6</td>\n",
       "      <td>0.211111</td>\n",
       "      <td>4.954545</td>\n",
       "      <td>1.944444</td>\n",
       "      <td>0.129086</td>\n",
       "      <td>-0.040522</td>\n",
       "      <td>0.187498</td>\n",
       "      <td>3.755556</td>\n",
       "      <td>0.750000</td>\n",
       "      <td>...</td>\n",
       "      <td>38</td>\n",
       "      <td>1</td>\n",
       "      <td>1</td>\n",
       "      <td>False</td>\n",
       "      <td>False</td>\n",
       "      <td>True</td>\n",
       "      <td>True</td>\n",
       "      <td>0.983871</td>\n",
       "      <td>3.837459</td>\n",
       "      <td>70.0</td>\n",
       "    </tr>\n",
       "    <tr>\n",
       "      <th>5af196e1e1b5b8000148ac76</th>\n",
       "      <td>2</td>\n",
       "      <td>0.4</td>\n",
       "      <td>0.222222</td>\n",
       "      <td>5.136364</td>\n",
       "      <td>2.500000</td>\n",
       "      <td>0.634702</td>\n",
       "      <td>-0.038728</td>\n",
       "      <td>0.051418</td>\n",
       "      <td>2.922222</td>\n",
       "      <td>0.692308</td>\n",
       "      <td>...</td>\n",
       "      <td>31</td>\n",
       "      <td>0</td>\n",
       "      <td>9</td>\n",
       "      <td>True</td>\n",
       "      <td>True</td>\n",
       "      <td>True</td>\n",
       "      <td>False</td>\n",
       "      <td>0.875000</td>\n",
       "      <td>4.279105</td>\n",
       "      <td>66.0</td>\n",
       "    </tr>\n",
       "    <tr>\n",
       "      <th>5cd5fe480f0de600018e7251</th>\n",
       "      <td>1</td>\n",
       "      <td>0.3</td>\n",
       "      <td>0.411111</td>\n",
       "      <td>4.681818</td>\n",
       "      <td>2.722222</td>\n",
       "      <td>0.402318</td>\n",
       "      <td>-0.022349</td>\n",
       "      <td>0.105137</td>\n",
       "      <td>3.400000</td>\n",
       "      <td>0.000000</td>\n",
       "      <td>...</td>\n",
       "      <td>28</td>\n",
       "      <td>1</td>\n",
       "      <td>3</td>\n",
       "      <td>True</td>\n",
       "      <td>True</td>\n",
       "      <td>True</td>\n",
       "      <td>False</td>\n",
       "      <td>0.905882</td>\n",
       "      <td>4.285446</td>\n",
       "      <td>50.0</td>\n",
       "    </tr>\n",
       "    <tr>\n",
       "      <th>5fec7577ad8fbadf15cd5607</th>\n",
       "      <td>4</td>\n",
       "      <td>0.2</td>\n",
       "      <td>0.233333</td>\n",
       "      <td>4.500000</td>\n",
       "      <td>NaN</td>\n",
       "      <td>0.356174</td>\n",
       "      <td>-0.085010</td>\n",
       "      <td>0.108129</td>\n",
       "      <td>3.755556</td>\n",
       "      <td>0.230769</td>\n",
       "      <td>...</td>\n",
       "      <td>25</td>\n",
       "      <td>0</td>\n",
       "      <td>6</td>\n",
       "      <td>True</td>\n",
       "      <td>False</td>\n",
       "      <td>False</td>\n",
       "      <td>False</td>\n",
       "      <td>0.873418</td>\n",
       "      <td>4.333823</td>\n",
       "      <td>50.0</td>\n",
       "    </tr>\n",
       "    <tr>\n",
       "      <th>...</th>\n",
       "      <td>...</td>\n",
       "      <td>...</td>\n",
       "      <td>...</td>\n",
       "      <td>...</td>\n",
       "      <td>...</td>\n",
       "      <td>...</td>\n",
       "      <td>...</td>\n",
       "      <td>...</td>\n",
       "      <td>...</td>\n",
       "      <td>...</td>\n",
       "      <td>...</td>\n",
       "      <td>...</td>\n",
       "      <td>...</td>\n",
       "      <td>...</td>\n",
       "      <td>...</td>\n",
       "      <td>...</td>\n",
       "      <td>...</td>\n",
       "      <td>...</td>\n",
       "      <td>...</td>\n",
       "      <td>...</td>\n",
       "      <td>...</td>\n",
       "    </tr>\n",
       "    <tr>\n",
       "      <th>60fd39ffad4645e77e6afdb1</th>\n",
       "      <td>4</td>\n",
       "      <td>0.7</td>\n",
       "      <td>0.555556</td>\n",
       "      <td>3.818182</td>\n",
       "      <td>0.666667</td>\n",
       "      <td>0.813715</td>\n",
       "      <td>-0.112773</td>\n",
       "      <td>0.000000</td>\n",
       "      <td>2.755556</td>\n",
       "      <td>0.558824</td>\n",
       "      <td>...</td>\n",
       "      <td>21</td>\n",
       "      <td>1</td>\n",
       "      <td>5</td>\n",
       "      <td>True</td>\n",
       "      <td>True</td>\n",
       "      <td>False</td>\n",
       "      <td>False</td>\n",
       "      <td>0.782609</td>\n",
       "      <td>4.703758</td>\n",
       "      <td>56.0</td>\n",
       "    </tr>\n",
       "    <tr>\n",
       "      <th>61243bd7b3bc114f04400657</th>\n",
       "      <td>1</td>\n",
       "      <td>0.3</td>\n",
       "      <td>0.000000</td>\n",
       "      <td>4.954545</td>\n",
       "      <td>2.277778</td>\n",
       "      <td>0.001867</td>\n",
       "      <td>0.000574</td>\n",
       "      <td>0.199030</td>\n",
       "      <td>4.000000</td>\n",
       "      <td>0.000000</td>\n",
       "      <td>...</td>\n",
       "      <td>34</td>\n",
       "      <td>1</td>\n",
       "      <td>4</td>\n",
       "      <td>False</td>\n",
       "      <td>False</td>\n",
       "      <td>True</td>\n",
       "      <td>True</td>\n",
       "      <td>1.000000</td>\n",
       "      <td>4.356177</td>\n",
       "      <td>62.0</td>\n",
       "    </tr>\n",
       "    <tr>\n",
       "      <th>61470c6545addee0f7b14363</th>\n",
       "      <td>1</td>\n",
       "      <td>0.2</td>\n",
       "      <td>0.255556</td>\n",
       "      <td>5.181818</td>\n",
       "      <td>0.333333</td>\n",
       "      <td>0.753926</td>\n",
       "      <td>-0.147546</td>\n",
       "      <td>0.000000</td>\n",
       "      <td>3.177778</td>\n",
       "      <td>0.464286</td>\n",
       "      <td>...</td>\n",
       "      <td>32</td>\n",
       "      <td>1</td>\n",
       "      <td>3</td>\n",
       "      <td>True</td>\n",
       "      <td>True</td>\n",
       "      <td>False</td>\n",
       "      <td>False</td>\n",
       "      <td>0.782609</td>\n",
       "      <td>4.496760</td>\n",
       "      <td>62.0</td>\n",
       "    </tr>\n",
       "    <tr>\n",
       "      <th>6157750f00a7484cb199b40d</th>\n",
       "      <td>3</td>\n",
       "      <td>0.4</td>\n",
       "      <td>0.477778</td>\n",
       "      <td>5.863636</td>\n",
       "      <td>0.388889</td>\n",
       "      <td>0.335648</td>\n",
       "      <td>-0.158771</td>\n",
       "      <td>0.308027</td>\n",
       "      <td>3.000000</td>\n",
       "      <td>0.437500</td>\n",
       "      <td>...</td>\n",
       "      <td>29</td>\n",
       "      <td>1</td>\n",
       "      <td>3</td>\n",
       "      <td>True</td>\n",
       "      <td>False</td>\n",
       "      <td>False</td>\n",
       "      <td>True</td>\n",
       "      <td>0.735294</td>\n",
       "      <td>4.251768</td>\n",
       "      <td>52.0</td>\n",
       "    </tr>\n",
       "    <tr>\n",
       "      <th>615e518ec8ce77798a747260</th>\n",
       "      <td>4</td>\n",
       "      <td>0.2</td>\n",
       "      <td>0.000000</td>\n",
       "      <td>4.000000</td>\n",
       "      <td>0.055556</td>\n",
       "      <td>0.034533</td>\n",
       "      <td>0.002521</td>\n",
       "      <td>0.000000</td>\n",
       "      <td>4.900000</td>\n",
       "      <td>0.000000</td>\n",
       "      <td>...</td>\n",
       "      <td>31</td>\n",
       "      <td>0</td>\n",
       "      <td>6</td>\n",
       "      <td>False</td>\n",
       "      <td>False</td>\n",
       "      <td>True</td>\n",
       "      <td>False</td>\n",
       "      <td>1.000000</td>\n",
       "      <td>4.520242</td>\n",
       "      <td>54.0</td>\n",
       "    </tr>\n",
       "  </tbody>\n",
       "</table>\n",
       "<p>102 rows × 22 columns</p>\n",
       "</div>"
      ],
      "text/plain": [
       "                          crt   aq  lie_prop        eq     rgpts  \\\n",
       "PID                                                                \n",
       "56210effed6e5a000ac7f3a5    4  0.2  0.622222  5.181818  1.777778   \n",
       "57313ba2070de6000f43384e    3  0.6  0.211111  4.954545  1.944444   \n",
       "5af196e1e1b5b8000148ac76    2  0.4  0.222222  5.136364  2.500000   \n",
       "5cd5fe480f0de600018e7251    1  0.3  0.411111  4.681818  2.722222   \n",
       "5fec7577ad8fbadf15cd5607    4  0.2  0.233333  4.500000       NaN   \n",
       "...                       ...  ...       ...       ...       ...   \n",
       "60fd39ffad4645e77e6afdb1    4  0.7  0.555556  3.818182  0.666667   \n",
       "61243bd7b3bc114f04400657    1  0.3  0.000000  4.954545  2.277778   \n",
       "61470c6545addee0f7b14363    1  0.2  0.255556  5.181818  0.333333   \n",
       "6157750f00a7484cb199b40d    3  0.4  0.477778  5.863636  0.388889   \n",
       "615e518ec8ce77798a747260    4  0.2  0.000000  4.000000  0.055556   \n",
       "\n",
       "                          signed_ev_alpha  col_congruency_alpha  \\\n",
       "PID                                                               \n",
       "56210effed6e5a000ac7f3a5         0.549441              0.022603   \n",
       "57313ba2070de6000f43384e         0.129086             -0.040522   \n",
       "5af196e1e1b5b8000148ac76         0.634702             -0.038728   \n",
       "5cd5fe480f0de600018e7251         0.402318             -0.022349   \n",
       "5fec7577ad8fbadf15cd5607         0.356174             -0.085010   \n",
       "...                                   ...                   ...   \n",
       "60fd39ffad4645e77e6afdb1         0.813715             -0.112773   \n",
       "61243bd7b3bc114f04400657         0.001867              0.000574   \n",
       "61470c6545addee0f7b14363         0.753926             -0.147546   \n",
       "6157750f00a7484cb199b40d         0.335648             -0.158771   \n",
       "615e518ec8ce77798a747260         0.034533              0.002521   \n",
       "\n",
       "                          signed_ev_prior  mean_honesty_rating  \\\n",
       "PID                                                              \n",
       "56210effed6e5a000ac7f3a5         0.324423             1.455556   \n",
       "57313ba2070de6000f43384e         0.187498             3.755556   \n",
       "5af196e1e1b5b8000148ac76         0.051418             2.922222   \n",
       "5cd5fe480f0de600018e7251         0.105137             3.400000   \n",
       "5fec7577ad8fbadf15cd5607         0.108129             3.755556   \n",
       "...                                   ...                  ...   \n",
       "60fd39ffad4645e77e6afdb1         0.000000             2.755556   \n",
       "61243bd7b3bc114f04400657         0.199030             4.000000   \n",
       "61470c6545addee0f7b14363         0.000000             3.177778   \n",
       "6157750f00a7484cb199b40d         0.308027             3.000000   \n",
       "615e518ec8ce77798a747260         0.000000             4.900000   \n",
       "\n",
       "                          lie_detect_precision  ...  age  gender  ed_lev  \\\n",
       "PID                                             ...                        \n",
       "56210effed6e5a000ac7f3a5              0.391892  ...   38       0       5   \n",
       "57313ba2070de6000f43384e              0.750000  ...   38       1       1   \n",
       "5af196e1e1b5b8000148ac76              0.692308  ...   31       0       9   \n",
       "5cd5fe480f0de600018e7251              0.000000  ...   28       1       3   \n",
       "5fec7577ad8fbadf15cd5607              0.230769  ...   25       0       6   \n",
       "...                                        ...  ...  ...     ...     ...   \n",
       "60fd39ffad4645e77e6afdb1              0.558824  ...   21       1       5   \n",
       "61243bd7b3bc114f04400657              0.000000  ...   34       1       4   \n",
       "61470c6545addee0f7b14363              0.464286  ...   32       1       3   \n",
       "6157750f00a7484cb199b40d              0.437500  ...   29       1       3   \n",
       "615e518ec8ce77798a747260              0.000000  ...   31       0       6   \n",
       "\n",
       "                          high_liar  high_alpha  high_col_congruency_alpha  \\\n",
       "PID                                                                          \n",
       "56210effed6e5a000ac7f3a5       True        True                       True   \n",
       "57313ba2070de6000f43384e      False       False                       True   \n",
       "5af196e1e1b5b8000148ac76       True        True                       True   \n",
       "5cd5fe480f0de600018e7251       True        True                       True   \n",
       "5fec7577ad8fbadf15cd5607       True       False                      False   \n",
       "...                             ...         ...                        ...   \n",
       "60fd39ffad4645e77e6afdb1       True        True                      False   \n",
       "61243bd7b3bc114f04400657      False       False                       True   \n",
       "61470c6545addee0f7b14363       True        True                      False   \n",
       "6157750f00a7484cb199b40d       True       False                      False   \n",
       "615e518ec8ce77798a747260      False       False                       True   \n",
       "\n",
       "                          high_prior  specificity     ev_sd  n_blue_outcome  \n",
       "PID                                                                          \n",
       "56210effed6e5a000ac7f3a5        True     0.250000  4.086456            67.0  \n",
       "57313ba2070de6000f43384e        True     0.983871  3.837459            70.0  \n",
       "5af196e1e1b5b8000148ac76       False     0.875000  4.279105            66.0  \n",
       "5cd5fe480f0de600018e7251       False     0.905882  4.285446            50.0  \n",
       "5fec7577ad8fbadf15cd5607       False     0.873418  4.333823            50.0  \n",
       "...                              ...          ...       ...             ...  \n",
       "60fd39ffad4645e77e6afdb1       False     0.782609  4.703758            56.0  \n",
       "61243bd7b3bc114f04400657        True     1.000000  4.356177            62.0  \n",
       "61470c6545addee0f7b14363       False     0.782609  4.496760            62.0  \n",
       "6157750f00a7484cb199b40d        True     0.735294  4.251768            52.0  \n",
       "615e518ec8ce77798a747260       False     1.000000  4.520242            54.0  \n",
       "\n",
       "[102 rows x 22 columns]"
      ]
     },
     "execution_count": 195,
     "metadata": {},
     "output_type": "execute_result"
    }
   ],
   "source": [
    "df_ultimate"
   ]
  },
  {
   "cell_type": "code",
   "execution_count": 198,
   "metadata": {},
   "outputs": [
    {
     "name": "stderr",
     "output_type": "stream",
     "text": [
      "C:\\Users\\Sarah Zheng\\.conda\\envs\\sim-test\\lib\\site-packages\\seaborn\\distributions.py:2557: FutureWarning: `distplot` is a deprecated function and will be removed in a future version. Please adapt your code to use either `displot` (a figure-level function with similar flexibility) or `histplot` (an axes-level function for histograms).\n",
      "  warnings.warn(msg, FutureWarning)\n"
     ]
    },
    {
     "data": {
      "text/plain": [
       "<AxesSubplot:xlabel='ev_sd', ylabel='Density'>"
      ]
     },
     "execution_count": 198,
     "metadata": {},
     "output_type": "execute_result"
    },
    {
     "data": {
      "image/png": "[encoded data removed]",
      "text/plain": [
       "<Figure size 432x288 with 1 Axes>"
      ]
     },
     "metadata": {
      "needs_background": "light"
     },
     "output_type": "display_data"
    }
   ],
   "source": [
    "sns.distplot(df_ultimate['ev_sd'])"
   ]
  },
  {
   "cell_type": "code",
   "execution_count": 199,
   "metadata": {},
   "outputs": [
    {
     "name": "stderr",
     "output_type": "stream",
     "text": [
      "C:\\Users\\Sarah Zheng\\.conda\\envs\\sim-test\\lib\\site-packages\\seaborn\\distributions.py:2557: FutureWarning: `distplot` is a deprecated function and will be removed in a future version. Please adapt your code to use either `displot` (a figure-level function with similar flexibility) or `histplot` (an axes-level function for histograms).\n",
      "  warnings.warn(msg, FutureWarning)\n"
     ]
    },
    {
     "data": {
      "text/plain": [
       "<AxesSubplot:xlabel='n_blue_outcome', ylabel='Density'>"
      ]
     },
     "execution_count": 199,
     "metadata": {},
     "output_type": "execute_result"
    },
    {
     "data": {
      "image/png": "[encoded data removed]",
      "text/plain": [
       "<Figure size 432x288 with 1 Axes>"
      ]
     },
     "metadata": {
      "needs_background": "light"
     },
     "output_type": "display_data"
    }
   ],
   "source": [
    "sns.distplot(df_ultimate['n_blue_outcome'])"
   ]
  },
  {
   "cell_type": "code",
   "execution_count": 201,
   "metadata": {},
   "outputs": [],
   "source": [
    "df_ultimate.corr().to_clipboard()"
   ]
  },
  {
   "cell_type": "code",
   "execution_count": 328,
   "metadata": {},
   "outputs": [],
   "source": [
    "df.reset_index().to_feather(\"./data/fr/fr_topup_clean_aggregate.feather\")"
   ]
  },
  {
   "cell_type": "code",
   "execution_count": 357,
   "metadata": {},
   "outputs": [],
   "source": [
    "df['cat_lie_prop'] = np.where(df['lie_prop'] < 0.1, 0, np.where(df['lie_prop'] < .5, 1, 2))"
   ]
  },
  {
   "cell_type": "code",
   "execution_count": 358,
   "metadata": {},
   "outputs": [
    {
     "data": {
      "text/plain": [
       "<AxesSubplot:xlabel='cat_lie_prop', ylabel='crt'>"
      ]
     },
     "execution_count": 358,
     "metadata": {},
     "output_type": "execute_result"
    },
    {
     "data": {
      "image/png": "[encoded data removed]",
      "text/plain": [
       "<Figure size 432x288 with 1 Axes>"
      ]
     },
     "metadata": {
      "needs_background": "light"
     },
     "output_type": "display_data"
    }
   ],
   "source": [
    "sns.barplot(x=df['cat_lie_prop'], y=df['crt'])"
   ]
  },
  {
   "cell_type": "code",
   "execution_count": 350,
   "metadata": {},
   "outputs": [
    {
     "data": {
      "text/plain": [
       "<AxesSubplot:xlabel='cat_lie_prop', ylabel='signed_ev_alpha'>"
      ]
     },
     "execution_count": 350,
     "metadata": {},
     "output_type": "execute_result"
    },
    {
     "data": {
      "image/png": "[encoded data removed]",
      "text/plain": [
       "<Figure size 432x288 with 1 Axes>"
      ]
     },
     "metadata": {
      "needs_background": "light"
     },
     "output_type": "display_data"
    }
   ],
   "source": [
    "sns.barplot(x=df['cat_lie_prop'], y=df['signed_ev_alpha'])"
   ]
  },
  {
   "cell_type": "code",
   "execution_count": 351,
   "metadata": {},
   "outputs": [
    {
     "data": {
      "text/plain": [
       "<AxesSubplot:xlabel='cat_lie_prop', ylabel='signed_ev_prior'>"
      ]
     },
     "execution_count": 351,
     "metadata": {},
     "output_type": "execute_result"
    },
    {
     "data": {
      "image/png": "[encoded data removed]",
      "text/plain": [
       "<Figure size 432x288 with 1 Axes>"
      ]
     },
     "metadata": {
      "needs_background": "light"
     },
     "output_type": "display_data"
    }
   ],
   "source": [
    "sns.barplot(x=df['cat_lie_prop'], y=df['signed_ev_prior'])"
   ]
  },
  {
   "cell_type": "code",
   "execution_count": 352,
   "metadata": {},
   "outputs": [
    {
     "data": {
      "text/plain": [
       "<AxesSubplot:xlabel='cat_lie_prop', ylabel='col_congruency_alpha'>"
      ]
     },
     "execution_count": 352,
     "metadata": {},
     "output_type": "execute_result"
    },
    {
     "data": {
      "image/png": "[encoded data removed]",
      "text/plain": [
       "<Figure size 432x288 with 1 Axes>"
      ]
     },
     "metadata": {
      "needs_background": "light"
     },
     "output_type": "display_data"
    }
   ],
   "source": [
    "sns.barplot(x=df['cat_lie_prop'], y=df['col_congruency_alpha'])"
   ]
  },
  {
   "cell_type": "code",
   "execution_count": 359,
   "metadata": {},
   "outputs": [
    {
     "data": {
      "text/plain": [
       "<AxesSubplot:xlabel='cat_lie_prop', ylabel='age'>"
      ]
     },
     "execution_count": 359,
     "metadata": {},
     "output_type": "execute_result"
    },
    {
     "data": {
      "image/png": "[encoded data removed]",
      "text/plain": [
       "<Figure size 432x288 with 1 Axes>"
      ]
     },
     "metadata": {
      "needs_background": "light"
     },
     "output_type": "display_data"
    }
   ],
   "source": [
    "sns.barplot(x=df['cat_lie_prop'], y=df['age'])"
   ]
  },
  {
   "cell_type": "code",
   "execution_count": 360,
   "metadata": {},
   "outputs": [
    {
     "data": {
      "text/plain": [
       "<AxesSubplot:xlabel='cat_lie_prop', ylabel='gender'>"
      ]
     },
     "execution_count": 360,
     "metadata": {},
     "output_type": "execute_result"
    },
    {
     "data": {
      "image/png": "[encoded data removed]",
      "text/plain": [
       "<Figure size 432x288 with 1 Axes>"
      ]
     },
     "metadata": {
      "needs_background": "light"
     },
     "output_type": "display_data"
    }
   ],
   "source": [
    "sns.barplot(x=df['cat_lie_prop'], y=df['gender'])"
   ]
  },
  {
   "cell_type": "code",
   "execution_count": 362,
   "metadata": {},
   "outputs": [
    {
     "data": {
      "text/plain": [
       "<AxesSubplot:xlabel='cat_lie_prop', ylabel='ed_lev'>"
      ]
     },
     "execution_count": 362,
     "metadata": {},
     "output_type": "execute_result"
    },
    {
     "data": {
      "image/png": "[encoded data removed]",
      "text/plain": [
       "<Figure size 432x288 with 1 Axes>"
      ]
     },
     "metadata": {
      "needs_background": "light"
     },
     "output_type": "display_data"
    }
   ],
   "source": [
    "sns.barplot(x=df['cat_lie_prop'], y=df['ed_lev'])"
   ]
  },
  {
   "cell_type": "code",
   "execution_count": 363,
   "metadata": {},
   "outputs": [
    {
     "data": {
      "text/plain": [
       "(-0.2059920531832954, 0.037791469458696665)"
      ]
     },
     "execution_count": 363,
     "metadata": {},
     "output_type": "execute_result"
    }
   ],
   "source": [
    "pearsonr(df['ed_lev'], df['gender'])"
   ]
  },
  {
   "cell_type": "code",
   "execution_count": null,
   "metadata": {},
   "outputs": [],
   "source": []
  },
  {
   "cell_type": "code",
   "execution_count": 2,
   "metadata": {},
   "outputs": [],
   "source": [
    "import pandas as pd"
   ]
  },
  {
   "cell_type": "code",
   "execution_count": 79,
   "metadata": {},
   "outputs": [],
   "source": [
    "df=pd.read_feather(\"./data/fr/fr_topup_clean_aggregate.feather\")"
   ]
  },
  {
   "cell_type": "code",
   "execution_count": 82,
   "metadata": {},
   "outputs": [],
   "source": [
    "df=df.set_index(\"PID\")"
   ]
  },
  {
   "cell_type": "code",
   "execution_count": 89,
   "metadata": {},
   "outputs": [
    {
     "data": {
      "text/plain": [
       "['crt',\n",
       " 'aq',\n",
       " 'lie_prop',\n",
       " 'eq',\n",
       " 'rgpts',\n",
       " 'signed_ev_alpha',\n",
       " 'col_congruency_alpha',\n",
       " 'signed_ev_prior',\n",
       " 'mean_honesty_rating',\n",
       " 'lie_detect_precision',\n",
       " 'lie_detect_recall',\n",
       " 'lie_detect_accuracy',\n",
       " 'age',\n",
       " 'gender',\n",
       " 'ed_lev',\n",
       " 'high_liar',\n",
       " 'high_alpha',\n",
       " 'high_col_congruency_alpha',\n",
       " 'high_prior',\n",
       " 'specificity',\n",
       " 'cat_lie_prop']"
      ]
     },
     "execution_count": 89,
     "metadata": {},
     "output_type": "execute_result"
    }
   ],
   "source": [
    "list(df)"
   ]
  },
  {
   "cell_type": "code",
   "execution_count": 92,
   "metadata": {},
   "outputs": [],
   "source": [
    "del df['lie_detect_precision']\n",
    "del df['lie_detect_recall']\n",
    "del df['lie_detect_accuracy']\n",
    "del df['specificity']\n",
    "del df['cat_lie_prop']"
   ]
  },
  {
   "cell_type": "code",
   "execution_count": 90,
   "metadata": {},
   "outputs": [
    {
     "data": {
      "text/plain": [
       "['n_subjective_detection',\n",
       " 'tp',\n",
       " 'fp',\n",
       " 'tn',\n",
       " 'fn',\n",
       " 'precision',\n",
       " 'recall',\n",
       " 'accuracy',\n",
       " 'f1',\n",
       " 'specificity',\n",
       " 'dprime',\n",
       " 'dprime_hits',\n",
       " 'dprime_fa']"
      ]
     },
     "execution_count": 90,
     "metadata": {},
     "output_type": "execute_result"
    }
   ],
   "source": [
    "list(lie_df)"
   ]
  },
  {
   "cell_type": "code",
   "execution_count": 93,
   "metadata": {},
   "outputs": [
    {
     "data": {
      "text/plain": [
       "['crt',\n",
       " 'aq',\n",
       " 'lie_prop',\n",
       " 'eq',\n",
       " 'rgpts',\n",
       " 'signed_ev_alpha',\n",
       " 'col_congruency_alpha',\n",
       " 'signed_ev_prior',\n",
       " 'mean_honesty_rating',\n",
       " 'age',\n",
       " 'gender',\n",
       " 'ed_lev',\n",
       " 'high_liar',\n",
       " 'high_alpha',\n",
       " 'high_col_congruency_alpha',\n",
       " 'high_prior']"
      ]
     },
     "execution_count": 93,
     "metadata": {},
     "output_type": "execute_result"
    }
   ],
   "source": [
    "list(df)"
   ]
  },
  {
   "cell_type": "code",
   "execution_count": 95,
   "metadata": {},
   "outputs": [
    {
     "data": {
      "text/plain": [
       "Index(['56210effed6e5a000ac7f3a5', '57313ba2070de6000f43384e',\n",
       "       '5af196e1e1b5b8000148ac76', '5cd5fe480f0de600018e7251',\n",
       "       '5fec7577ad8fbadf15cd5607', '61085b8ec672d0e88151d5ae',\n",
       "       '6110e7ae08023ecb9207b05e', '6147d726fa94eb7d5c2de156',\n",
       "       '614f23537aab4e64abfd53ae', '6152218517a89c5b41e18a06',\n",
       "       ...\n",
       "       '5eb2e269f78ab109cca0bf0c', '5eff0ccd02ed424339bf7a08',\n",
       "       '600092321467ea1431ac2de9', '60526004255ed4f2584df18e',\n",
       "       '60d103ca47eb561995f29b32', '60fd39ffad4645e77e6afdb1',\n",
       "       '61243bd7b3bc114f04400657', '61470c6545addee0f7b14363',\n",
       "       '6157750f00a7484cb199b40d', '615e518ec8ce77798a747260'],\n",
       "      dtype='object', name='PID', length=102)"
      ]
     },
     "execution_count": 95,
     "metadata": {},
     "output_type": "execute_result"
    }
   ],
   "source": [
    "df.index"
   ]
  },
  {
   "cell_type": "code",
   "execution_count": 99,
   "metadata": {},
   "outputs": [],
   "source": [
    "tmp = df.join(lie_df)"
   ]
  },
  {
   "cell_type": "code",
   "execution_count": 100,
   "metadata": {},
   "outputs": [
    {
     "data": {
      "text/plain": [
       "(102, 29)"
      ]
     },
     "execution_count": 100,
     "metadata": {},
     "output_type": "execute_result"
    }
   ],
   "source": [
    "tmp.shape"
   ]
  },
  {
   "cell_type": "code",
   "execution_count": 105,
   "metadata": {},
   "outputs": [
    {
     "data": {
      "text/plain": [
       "(-0.17896711825693914, 0.07189805630527164)"
      ]
     },
     "execution_count": 105,
     "metadata": {},
     "output_type": "execute_result"
    }
   ],
   "source": [
    "st.pearsonr(tmp['signed_ev_prior'], tmp['crt'])"
   ]
  },
  {
   "cell_type": "code",
   "execution_count": 106,
   "metadata": {},
   "outputs": [],
   "source": [
    "tmp.to_clipboard()"
   ]
  },
  {
   "cell_type": "code",
   "execution_count": 103,
   "metadata": {},
   "outputs": [],
   "source": [
    "tmp.reset_index().to_feather(\"./data/fr/fr_topup_102_aggregatescores_liedetectacc.feather\")"
   ]
  },
  {
   "cell_type": "code",
   "execution_count": 6,
   "metadata": {},
   "outputs": [],
   "source": [
    "from statistics import median"
   ]
  },
  {
   "cell_type": "code",
   "execution_count": 13,
   "metadata": {},
   "outputs": [
    {
     "data": {
      "text/plain": [
       "0      True\n",
       "1      True\n",
       "2      True\n",
       "3      True\n",
       "4      True\n",
       "       ... \n",
       "97     True\n",
       "98     True\n",
       "99     True\n",
       "100    True\n",
       "101    True\n",
       "Length: 102, dtype: bool"
      ]
     },
     "execution_count": 13,
     "metadata": {},
     "output_type": "execute_result"
    }
   ],
   "source": [
    "(df['signed_ev_prior'] > median(df['signed_ev_prior'])) == df['high_prior']"
   ]
  },
  {
   "cell_type": "code",
   "execution_count": null,
   "metadata": {},
   "outputs": [],
   "source": []
  }
 ],
 "metadata": {
  "kernelspec": {
   "display_name": "Python 3",
   "language": "python",
   "name": "python3"
  },
  "language_info": {
   "codemirror_mode": {
    "name": "ipython",
    "version": 3
   },
   "file_extension": ".py",
   "mimetype": "text/x-python",
   "name": "python",
   "nbconvert_exporter": "python",
   "pygments_lexer": "ipython3",
   "version": "3.8.5"
  }
 },
 "nbformat": 4,
 "nbformat_minor": 4
}
