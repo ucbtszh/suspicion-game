{
 "cells": [
  {
   "cell_type": "code",
   "execution_count": 1,
   "metadata": {},
   "outputs": [],
   "source": [
    "import numpy as np\n",
    "import json\n",
    "import pandas as pd\n",
    "import matplotlib as plt\n",
    "import seaborn as sns\n",
    "\n",
    "from itertools import product\n",
    "from collections import Counter"
   ]
  },
  {
   "cell_type": "code",
   "execution_count": 2,
   "metadata": {},
   "outputs": [],
   "source": [
    "from scripts.data_processing import GameResponses, Demographics"
   ]
  },
  {
   "cell_type": "code",
   "execution_count": 14,
   "metadata": {},
   "outputs": [],
   "source": [
    "import firebase_admin\n",
    "from firebase_admin import credentials\n",
    "from firebase_admin import firestore\n",
    "\n",
    "# Use a service account\n",
    "cred = credentials.Certificate('E:/Behavioural cybersecurity/projects/cards-dd-game-61b9b7f26a6e.json')\n",
    "firebase_admin.initialize_app(cred)\n",
    "\n",
    "db = firestore.client()\n",
    "\n",
    "subjects_ref = db.collection(u'subjects')"
   ]
  },
  {
   "cell_type": "code",
   "execution_count": null,
   "metadata": {},
   "outputs": [],
   "source": [
    "# ########### TMP ###############\n",
    "# uuids = [\n",
    "#     '6108512871ec370e525ef4f0', # 32\n",
    "# '611e717148e6b271f0b70d6f', # 31\n",
    "# '5f415bea2ba0682e7fc98fbf', # 31\n",
    "# '611e6e0371738becff3551d8', # 22\n",
    "# '6112b4cdd72db936075c0db8', # 21\n",
    "# '611e4e160f41977f737035ef', # 21\n",
    "# '60ff0201788cef38c8695833', # 12\n",
    "# '6115e7dcd6cecc981dde3ed6', # 12\n",
    "# '611e28b12a630ff00cc467a8' # 11\n",
    "# ]"
   ]
  },
  {
   "cell_type": "code",
   "execution_count": null,
   "metadata": {},
   "outputs": [],
   "source": [
    "# uuids = [ # corrected same players condition\n",
    "#     '54b9acd9fdf99b34ce2578f9',\n",
    "#     '61017dbbf8b1afba48b7822e',\n",
    "#     '6116aa4d3c4d9eae26b66171',\n",
    "#     '6109b8238588407db4764ec1',\n",
    "#     '611841738f4e8342f5ba3765',\n",
    "#     '6108649840bf2b927ef3905c',\n",
    "#     '5f4f8e8f9213e9056223e128',\n",
    "#     '613290e8a4520dd8d0cc061a',\n",
    "#     '61217de916b53da848302312',\n",
    "#     '61338d61ed3f2e3d196fa7c7'\n",
    "# ]\n",
    "\n",
    "# uuids = [ # different players condition\n",
    "#     '61005d2e9b8bac27eba5b984',\n",
    "# '610995bd91de0e899effd73d',\n",
    "# '599186630675b100014daddd',\n",
    "# '6119884fd696463d717432c9',\n",
    "# '610bb05be2e705f3e47e87fb',\n",
    "# '610824959b488e57fa8a4a33',\n",
    "# '60f0937892bd49086d6e2a77',\n",
    "# '5cf656e90acc8f000147f643',\n",
    "# '5fe292a28fd71dea34d04453',\n",
    "# '5d341b57a48ae7000114152a'\n",
    "# ]"
   ]
  },
  {
   "cell_type": "code",
   "execution_count": 167,
   "metadata": {},
   "outputs": [],
   "source": [
    "batch1 = [\n",
    "        \"6110e7ae08023ecb9207b05e\",\n",
    "\"5fec7577ad8fbadf15cd5607\",\n",
    "\"615f1500b60d25e2660e8644\",\n",
    "\"615ec4f34cb81d7e58fa144c\",\n",
    "\"5cd5fe480f0de600018e7251\",\n",
    "\"60f44f7a57468d4e9f87fa5b\",\n",
    "\"6160011304f5319ece189bfa\",\n",
    "\"5af196e1e1b5b8000148ac76\",\n",
    "\"6154284fc5154abb9a264b0c\",\n",
    "\"6147d726fa94eb7d5c2de156\",\n",
    "\"6160403f5164508979e6358d\",\n",
    "\"56210effed6e5a000ac7f3a5\",\n",
    "\"6156ee007bdef87eb5b4aeb0\",\n",
    "\"61085b8ec672d0e88151d5ae\",\n",
    "    \"57313ba2070de6000f43384e\",\n",
    "    \"615d9f86fdd5e127d783e850\",\n",
    "\"614f23537aab4e64abfd53ae\",\n",
    "\"61533356ce435e5a4a4addd0\",\n",
    "\"6152218517a89c5b41e18a06\",\n",
    "\"615f0726cbd12330a2d82556\",\n",
    "        \"6169c2dc0d5361fbf96713f4\",\n",
    "\"5d8a1081323cf30001205f53\",\n",
    "\"5a455b091950a80001e7c49a\",\n",
    "\"5afc4671bb36f900018ef1fe\",\n",
    "\"6169a6bf5372000629b20879\", \n",
    "\"616d3d7cbf9e78d1a6e3219e\",\n",
    "\"61667ad3d3c29f487b65cd45\",\n",
    "\"614cd4d65c8c90077afbe40f\",\n",
    "\"616ae1d6b676edf5f6ae8351\", # no feedback received\n",
    "\"5f96efef011b8c01fd34a9eb\",\n",
    "\"616d2d6c9c76109cd9aa68e7\",\n",
    "\"612812ff639db35356dff7c5\",\n",
    "\"616b075e487d1ad05543166e\",\n",
    "\"613bea209464d339e18036d4\",\n",
    "\"616d50ac138442ad3ad08b0e\",\n",
    "\"614f0cfd6a0b72631a010f7a\",\n",
    "\"5962eb69241f8d0001064bd3\",\n",
    "\"61617a80475c4e619cbed83e\",\n",
    "\"616b0e47afca47d3d1a99499\",\n",
    "\"5ef7d6c359b38851de122110\"\n",
    "]"
   ]
  },
  {
   "cell_type": "code",
   "execution_count": 4,
   "metadata": {},
   "outputs": [],
   "source": [
    "uuids = [\n",
    "    #batch1\n",
    "    \"6110e7ae08023ecb9207b05e\",\n",
    "\"5fec7577ad8fbadf15cd5607\",\n",
    "\"615f1500b60d25e2660e8644\",\n",
    "\"615ec4f34cb81d7e58fa144c\",\n",
    "\"5cd5fe480f0de600018e7251\",\n",
    "\"60f44f7a57468d4e9f87fa5b\",\n",
    "\"6160011304f5319ece189bfa\",\n",
    "\"5af196e1e1b5b8000148ac76\",\n",
    "\"6154284fc5154abb9a264b0c\",\n",
    "\"6147d726fa94eb7d5c2de156\",\n",
    "\"6160403f5164508979e6358d\",\n",
    "\"56210effed6e5a000ac7f3a5\",\n",
    "\"6156ee007bdef87eb5b4aeb0\",\n",
    "\"61085b8ec672d0e88151d5ae\",\n",
    "    \"57313ba2070de6000f43384e\",\n",
    "    \"615d9f86fdd5e127d783e850\",\n",
    "\"614f23537aab4e64abfd53ae\",\n",
    "\"61533356ce435e5a4a4addd0\",\n",
    "\"6152218517a89c5b41e18a06\",\n",
    "\"615f0726cbd12330a2d82556\",\n",
    "        #batch2\n",
    "    \"6169c2dc0d5361fbf96713f4\",\n",
    "\"5d8a1081323cf30001205f53\",\n",
    "\"5a455b091950a80001e7c49a\",\n",
    "\"5afc4671bb36f900018ef1fe\",\n",
    "\"6169a6bf5372000629b20879\", \n",
    "\"616d3d7cbf9e78d1a6e3219e\",\n",
    "\"61667ad3d3c29f487b65cd45\",\n",
    "\"614cd4d65c8c90077afbe40f\",\n",
    "\"616ae1d6b676edf5f6ae8351\", # no feedback received\n",
    "\"5f96efef011b8c01fd34a9eb\",\n",
    "\"616d2d6c9c76109cd9aa68e7\",\n",
    "\"612812ff639db35356dff7c5\",\n",
    "\"616b075e487d1ad05543166e\",\n",
    "\"613bea209464d339e18036d4\",\n",
    "\"616d50ac138442ad3ad08b0e\",\n",
    "\"614f0cfd6a0b72631a010f7a\",\n",
    "\"5962eb69241f8d0001064bd3\",\n",
    "\"61617a80475c4e619cbed83e\",\n",
    "\"616b0e47afca47d3d1a99499\",\n",
    "\"5ef7d6c359b38851de122110\",\n",
    "     #batch3\n",
    "    \"6151e17dd596caee8fc6b73c\",\n",
    "\"5efd22056ec55516587f32a6\",\n",
    "\"615630fc8d505b023ba5de4f\",\n",
    "\"5f24794d55695f0549163e86\",\n",
    "\"6168983cf2f14b393f06c50a\",\n",
    "\"616d53892b58b6e0388ab050\",\n",
    "\"5e6d395882be80000cec9f92\",\n",
    "\"616deadcefd7197b84ab677c\",\n",
    "\"616f43682df7bc3f99f95411\",\n",
    "\"614f40be2fd4052c9f0990fe\",\n",
    "\"616c96b3a5db6313464f8d8d\",\n",
    "\"6162a881b823e80dfcf94792\",\n",
    "\"605116da9a3b2d13a44665a0\",\n",
    "\"6166d329ed4a00458e660e87\",\n",
    "\"616f6a2135e569c0b4861b01\",\n",
    "\"616b05332ad106da01d79fa8\",\n",
    "\"6169d947c10b18bb9541b6d9\",\n",
    "\"5cfb74958f650700151c7df3\",\n",
    "\"6169254bcae807672de29c2d\",\n",
    "\"6110aac49542b99f9bd6c09b\",\n",
    "        #batch4\n",
    "    \"5b98d9362cca9c0001de161f\",\n",
    "\"6123d102b713b8a947fd2eb2\",\n",
    "\"6157b4423b44be8c20642f98\", \n",
    "\"5cb08ecee11a890001a478ad\",\n",
    "\"613e157ccd6af6049001ce25\",\n",
    "\"615df1b1d27e6932fca18dfa\",\n",
    "\"6160f30a9b243350dd593650\",\n",
    "\"6166208d9c58ef96862ffd1e\",\n",
    "\"6158d28aa4775c94baebd9f6\",\n",
    "\"5ea91fe115728f3d0f6b7d17\",\n",
    "\"6108a8c0d2761e50ce5e969c\",\n",
    "\"615875cd00a23fb41e865fc0\",\n",
    "\"614cca3c9f5a9e7afe6f0f49\",\n",
    "\"61702d135446e67283e058de\",\n",
    "\"61701030a25961434f04b486\",\n",
    "\"6165ce387aa2c20ac9444aab\",\n",
    "\"5ac7a7f1f69e940001d999a7\",\n",
    "\"6141eb354d3db46e3cdf8279\",\n",
    "\"617019b7cfb4582eb9443d6e\",\n",
    "\"6157f95997ae97ff4aebad7b\",\n",
    "        #batch5\n",
    "    \"61671a9d42eb53946faa44c2\",\n",
    "\"5d99898ab82ce10398fc1556\", # did not understand game because of silliness of ever choosing red\n",
    "\"6146feaf8805a81cdc0da120\",\n",
    "\"6164a82e96fecd05db7f6bc5\",\n",
    "\"60f9c455fbb032d20d4f88ee\",\n",
    "\"610044f2278643f23f48e7c6\",\n",
    "\"5b2caaa75b5c0900018b4724\",\n",
    "\"61560647e0454473e55326f2\",\n",
    "\"61702b890e755075af3a5423\",\n",
    "\"5d230886d7533000017a4409\",\n",
    "\"615f4e20d504f648ffd22972\",\n",
    "\"611a762ccbf4c4400be65bee\",\n",
    "\"61661cac7d3cc02b3fc1b52b\",\n",
    "\"61601bdaaac912e91c39d579\",\n",
    "\"5da78f61a60c0d0017d6ed89\",\n",
    "\"61486876563fb6bdeb777a10\",\n",
    "\"5ebaec011a7d64080694fe74\",\n",
    "\"616ec0185d61b5fa0b62b42a\",\n",
    "\"616f35805cb9047a629edb71\",\n",
    "\"61572268fe13d0e23bdc2036\"\n",
    "]"
   ]
  },
  {
   "cell_type": "code",
   "execution_count": 24,
   "metadata": {},
   "outputs": [],
   "source": [
    "uuids = [ #batch6\n",
    "\"5ce96c839faf7d0001daf0e6\",\n",
    "\"5c6d6d3481e1d50001627409\",\n",
    "\"5eb2e269f78ab109cca0bf0c\",\n",
    "# \"6163701e753b164782445691\", #exclude\n",
    "\"61470c6545addee0f7b14363\", \n",
    "\"59430640f154200001b509d0\",\n",
    "\"60d103ca47eb561995f29b32\",\n",
    "\"600092321467ea1431ac2de9\",\n",
    "\"61243bd7b3bc114f04400657\",\n",
    "\"5eff0ccd02ed424339bf7a08\",\n",
    "\"60fd39ffad4645e77e6afdb1\",\n",
    "\"5c47408447aa7b000107b7d7\",\n",
    "\"5c7af38b670f87001746df79\",\n",
    "# \"60d3223ed6034bb2ac83a293\", #exclude\n",
    "\"615e518ec8ce77798a747260\",\n",
    "\"6157750f00a7484cb199b40d\",\n",
    "\"583accd26ab9a70001e2b5a7\",\n",
    "# \"615064bfb9e0c46f6a9b91b1\", #exclude\n",
    "\"60526004255ed4f2584df18e\",\n",
    "\"55b424e1fdf99b526efcf8d0\"\n",
    "]"
   ]
  },
  {
   "cell_type": "code",
   "execution_count": 25,
   "metadata": {},
   "outputs": [],
   "source": [
    "batch = 'batch6'"
   ]
  },
  {
   "cell_type": "code",
   "execution_count": 26,
   "metadata": {},
   "outputs": [
    {
     "data": {
      "text/plain": [
       "True"
      ]
     },
     "execution_count": 26,
     "metadata": {},
     "output_type": "execute_result"
    }
   ],
   "source": [
    "len(uuids) == len(set(uuids))"
   ]
  },
  {
   "cell_type": "code",
   "execution_count": 27,
   "metadata": {},
   "outputs": [
    {
     "data": {
      "text/plain": [
       "17"
      ]
     },
     "execution_count": 27,
     "metadata": {},
     "output_type": "execute_result"
    }
   ],
   "source": [
    "len(uuids)"
   ]
  },
  {
   "cell_type": "markdown",
   "metadata": {},
   "source": [
    "### inspect main game responses"
   ]
  },
  {
   "cell_type": "code",
   "execution_count": 28,
   "metadata": {},
   "outputs": [],
   "source": [
    "ttt = []\n",
    "\n",
    "for uuid in uuids:\n",
    "    ttt.append(subjects_ref.document(uuid).get())"
   ]
  },
  {
   "cell_type": "code",
   "execution_count": 29,
   "metadata": {},
   "outputs": [],
   "source": [
    "condition = {}\n",
    "\n",
    "for i, uuid in enumerate(uuids):\n",
    "    cond = ttt[i].to_dict()['condition']\n",
    "    condition[uuids[i]] = cond"
   ]
  },
  {
   "cell_type": "code",
   "execution_count": 30,
   "metadata": {},
   "outputs": [],
   "source": [
    "# trial responses query reference\n",
    "refs_trials = []\n",
    "\n",
    "for uuid in uuids:\n",
    "    refs_trials.append(subjects_ref.document(uuid).collection(u'responses').document('trial_responses').get())"
   ]
  },
  {
   "cell_type": "code",
   "execution_count": 31,
   "metadata": {},
   "outputs": [],
   "source": [
    "# game task responses query reference\n",
    "refs_block1 = []\n",
    "\n",
    "for uuid in uuids:\n",
    "    refs_block1.append(subjects_ref.document(uuid).collection(u'responses').document('game_block1').get())"
   ]
  },
  {
   "cell_type": "code",
   "execution_count": 32,
   "metadata": {},
   "outputs": [],
   "source": [
    "# game task responses query reference\n",
    "refs_block2 = []\n",
    "\n",
    "for uuid in uuids:\n",
    "    refs_block2.append(subjects_ref.document(uuid).collection(u'responses').document('game_block2').get())"
   ]
  },
  {
   "cell_type": "code",
   "execution_count": 33,
   "metadata": {},
   "outputs": [],
   "source": [
    "# game task responses query reference\n",
    "refs_block3 = []\n",
    "\n",
    "for uuid in uuids:\n",
    "    refs_block3.append(subjects_ref.document(uuid).collection(u'responses').document('game_block3').get())"
   ]
  },
  {
   "cell_type": "code",
   "execution_count": 34,
   "metadata": {},
   "outputs": [],
   "source": [
    "# card values\n",
    "transdict = {'blue': 1, 'red': -1}"
   ]
  },
  {
   "cell_type": "markdown",
   "metadata": {},
   "source": [
    "### process main response data per user"
   ]
  },
  {
   "cell_type": "code",
   "execution_count": 107,
   "metadata": {
    "scrolled": true
   },
   "outputs": [
    {
     "name": "stdout",
     "output_type": "stream",
     "text": [
      "0\n",
      "1\n",
      "2\n",
      "3\n",
      "4\n",
      "5\n",
      "6\n",
      "7\n",
      "8\n",
      "9\n",
      "10\n",
      "11\n",
      "12\n",
      "13\n",
      "14\n",
      "15\n",
      "16\n"
     ]
    }
   ],
   "source": [
    "honesty_ratings = []\n",
    "dict_hrs = {}\n",
    "\n",
    "RT_ratings = []\n",
    "\n",
    "ts_report = {}\n",
    "\n",
    "rand_pick_col = []\n",
    "reported_col = []\n",
    "\n",
    "pp_lied = []\n",
    "\n",
    "n_red = []\n",
    "other_outcome = []\n",
    "\n",
    "trial_result = []\n",
    "\n",
    "catch_ratings = {}\n",
    "\n",
    "for i, uuid in enumerate(uuids):\n",
    "    print(i)\n",
    "    block1_resp = GameResponses.from_dict(refs_block1[i].to_dict())\n",
    "    block2_resp = GameResponses.from_dict(refs_block2[i].to_dict())\n",
    "    block3_resp = GameResponses.from_dict(refs_block3[i].to_dict())\n",
    "    \n",
    "    i_catch = [int(numeric_string) for numeric_string in block1_resp.catchRating]\n",
    "    i_catch.extend([int(numeric_string) for numeric_string in block2_resp.catchRating])\n",
    "    i_catch.extend([int(numeric_string) for numeric_string in block3_resp.catchRating])\n",
    "    catch_ratings[uuid] = i_catch\n",
    "    \n",
    "    i_honesty_ratings = [int(numeric_string) for numeric_string in block1_resp.honestyRating]\n",
    "    i_honesty_ratings.extend([int(numeric_string) for numeric_string in block2_resp.honestyRating])\n",
    "    i_honesty_ratings.extend([int(numeric_string) for numeric_string in block3_resp.honestyRating])\n",
    "    honesty_ratings.append(i_honesty_ratings)\n",
    "    dict_hrs[uuid] = i_honesty_ratings\n",
    "    \n",
    "    i_pick = [transdict[x] for x in block1_resp.randomPickColour]\n",
    "    i_pick.extend([transdict[x] for x in block2_resp.randomPickColour])\n",
    "    i_pick.extend([transdict[x] for x in block3_resp.randomPickColour])\n",
    "    rand_pick_col.append(i_pick)\n",
    "    \n",
    "    i_report = [x for x in block1_resp.reportColour]\n",
    "    i_report.extend([x for x in block2_resp.reportColour])\n",
    "    i_report.extend([x for x in block3_resp.reportColour])\n",
    "    reported_col.append(i_report)\n",
    "    \n",
    "    i_nred = [x for x in block1_resp.nRed]\n",
    "    i_nred.extend([x for x in block2_resp.nRed])\n",
    "    i_nred.extend([x for x in block3_resp.nRed])\n",
    "    n_red.append(i_nred)\n",
    "    \n",
    "    i_outcome = [x for x in block1_resp.otherReport]\n",
    "    i_outcome.extend([x for x in block2_resp.otherReport])\n",
    "    i_outcome.extend([x for x in block3_resp.otherReport])\n",
    "    other_outcome.append(i_outcome)\n",
    "    \n",
    "    i_pplied = [x for x in block1_resp.ppLied]\n",
    "    i_pplied.extend([x for x in block2_resp.ppLied])\n",
    "    i_pplied.extend([x for x in block3_resp.ppLied])\n",
    "    pp_lied.append(i_pplied)\n",
    "    \n",
    "    i_RT_ratings = [int(numeric_string) for numeric_string in block1_resp.RThonesty]\n",
    "    i_RT_ratings.extend([int(numeric_string) for numeric_string in block2_resp.RThonesty])\n",
    "    i_RT_ratings.extend([int(numeric_string) for numeric_string in block3_resp.RThonesty])\n",
    "    RT_ratings.append(i_RT_ratings)\n",
    "    \n",
    "    i_ts_report = [int(numeric_string) for numeric_string in block1_resp.RTreport]\n",
    "    i_ts_report.extend([int(numeric_string) for numeric_string in block2_resp.RTreport])\n",
    "    i_ts_report.extend([int(numeric_string) for numeric_string in block3_resp.RTreport])\n",
    "    ts_report[uuid] = i_ts_report\n",
    "    \n",
    "    i_win = [x for x in block1_resp.results]\n",
    "    i_win.extend([x for x in block2_resp.results])\n",
    "    i_win.extend([x for x in block3_resp.results])\n",
    "    trial_result.append(i_win)"
   ]
  },
  {
   "cell_type": "code",
   "execution_count": 36,
   "metadata": {
    "scrolled": true
   },
   "outputs": [
    {
     "data": {
      "text/plain": [
       "{'5ce96c839faf7d0001daf0e6': [4, 3, 0, 4, 3, 0, 4, 3, 0],\n",
       " '5c6d6d3481e1d50001627409': [4, 3, 0, 4, 3, 0, 4, 3, 0],\n",
       " '5eb2e269f78ab109cca0bf0c': [4, 3, 0, 4, 3, 0, 4, 3, 0],\n",
       " '61470c6545addee0f7b14363': [4, 0, 3, 4, 3, 0, 4, 3, 0],\n",
       " '59430640f154200001b509d0': [4, 3, 0, 4, 3, 0, 4, 3, 0],\n",
       " '60d103ca47eb561995f29b32': [4, 3, 0, 4, 3, 0, 4, 3, 0],\n",
       " '600092321467ea1431ac2de9': [4, 3, 0, 4, 3, 0, 4, 3, 0],\n",
       " '61243bd7b3bc114f04400657': [4, 3, 0, 4, 3, 0, 4, 3, 0],\n",
       " '5eff0ccd02ed424339bf7a08': [4, 3, 0, 4, 3, 0, 4, 3, 0],\n",
       " '60fd39ffad4645e77e6afdb1': [4, 3, 0, 4, 3, 0, 4, 3, 0],\n",
       " '5c47408447aa7b000107b7d7': [4, 1, 2, 4, 3, 0, 4, 3, 0],\n",
       " '5c7af38b670f87001746df79': [1, 2, 0, 4, 3, 0, 4, 3, 0],\n",
       " '615e518ec8ce77798a747260': [4, 3, 0, 4, 3, 0, 4, 3, 0],\n",
       " '6157750f00a7484cb199b40d': [4, 3, 0, 4, 3, 0, 4, 3, 0],\n",
       " '583accd26ab9a70001e2b5a7': [4, 3, 0, 4, 3, 0, 4, 3, 0],\n",
       " '60526004255ed4f2584df18e': [4, 3, 0, 4, 3, 0, 4, 3, 0],\n",
       " '55b424e1fdf99b526efcf8d0': [4, 3, 0, 4, 3, 0, 4, 3, 0]}"
      ]
     },
     "execution_count": 36,
     "metadata": {},
     "output_type": "execute_result"
    }
   ],
   "source": [
    "catch_ratings"
   ]
  },
  {
   "cell_type": "code",
   "execution_count": 37,
   "metadata": {},
   "outputs": [],
   "source": [
    "when_lied = {}\n",
    "\n",
    "for i, uuid in enumerate(uuids):\n",
    "    lies = [1 if x!=y else 0 for x, y in zip(rand_pick_col[i], reported_col[i])]\n",
    "    when_lied[uuid] = lies"
   ]
  },
  {
   "cell_type": "code",
   "execution_count": 108,
   "metadata": {},
   "outputs": [],
   "source": [
    "RT_hr = {}\n",
    "\n",
    "for i, uuid in enumerate(uuids):\n",
    "    RT_hr[uuid] = RT_ratings[i]"
   ]
  },
  {
   "cell_type": "code",
   "execution_count": 20,
   "metadata": {
    "scrolled": true
   },
   "outputs": [
    {
     "name": "stdout",
     "output_type": "stream",
     "text": [
      "SpearmanrResult(correlation=-0.29864519321528843, pvalue=0.0042477973904126685)\n",
      "SpearmanrResult(correlation=-0.15754101955602315, pvalue=0.13808741437091063)\n",
      "SpearmanrResult(correlation=-0.028357892108100927, pvalue=0.7907634514739853)\n",
      "SpearmanrResult(correlation=0.18414933920099494, pvalue=0.08230499747432378)\n",
      "SpearmanrResult(correlation=0.037355256737444636, pvalue=0.7266753963343557)\n",
      "SpearmanrResult(correlation=-0.3637911169492974, pvalue=0.00042418382015095834)\n",
      "SpearmanrResult(correlation=0.1561896228349588, pvalue=0.14154253510084847)\n",
      "SpearmanrResult(correlation=-0.21106227193424112, pvalue=0.045838302325468434)\n",
      "SpearmanrResult(correlation=0.030834429040935123, pvalue=0.772963505830236)\n",
      "SpearmanrResult(correlation=-0.2521746639233051, pvalue=0.01649448251074156)\n",
      "SpearmanrResult(correlation=0.00044810508398698904, pvalue=0.9966555380891089)\n",
      "SpearmanrResult(correlation=0.016396316509380233, pvalue=0.8780946191652081)\n",
      "SpearmanrResult(correlation=-0.2189051517296139, pvalue=0.0381815689500034)\n",
      "SpearmanrResult(correlation=-0.10801848388606025, pvalue=0.3108702523859606)\n",
      "SpearmanrResult(correlation=0.2399652016244558, pvalue=0.022721676693469323)\n",
      "SpearmanrResult(correlation=-0.30355169555101574, pvalue=0.003632268452084577)\n",
      "SpearmanrResult(correlation=0.0009628802542965529, pvalue=0.9928135543996596)\n",
      "SpearmanrResult(correlation=-0.3107853686853386, pvalue=0.002869753838090572)\n",
      "SpearmanrResult(correlation=-0.020398179501456566, pvalue=0.8486596249501819)\n",
      "SpearmanrResult(correlation=-0.08317689623769615, pvalue=0.43573997252573815)\n",
      "SpearmanrResult(correlation=-0.31515958339696365, pvalue=0.0024816076193274633)\n",
      "SpearmanrResult(correlation=0.16826336491186847, pvalue=0.11289857015501165)\n",
      "SpearmanrResult(correlation=-0.25342914895405705, pvalue=0.01594733249539356)\n",
      "SpearmanrResult(correlation=0.14135897218147966, pvalue=0.18385211258718795)\n",
      "SpearmanrResult(correlation=0.10758474666284776, pvalue=0.3128285634241937)\n",
      "SpearmanrResult(correlation=0.058553914522450505, pvalue=0.5835566499598395)\n",
      "SpearmanrResult(correlation=0.08244868226674579, pvalue=0.43978289179485963)\n",
      "SpearmanrResult(correlation=0.07965555822538353, pvalue=0.4554845486016481)\n",
      "SpearmanrResult(correlation=0.025208196371108323, pvalue=0.8135564250840754)\n",
      "SpearmanrResult(correlation=0.21420582155051582, pvalue=0.042629147736405956)\n",
      "SpearmanrResult(correlation=-0.03037579810874757, pvalue=0.776251343932451)\n",
      "SpearmanrResult(correlation=-0.2785269439371517, pvalue=0.007855357341583791)\n",
      "SpearmanrResult(correlation=-0.12262124322506746, pvalue=0.24957702596747572)\n",
      "SpearmanrResult(correlation=0.08256263640574364, pvalue=0.4391488451308123)\n",
      "SpearmanrResult(correlation=-0.0959564304998315, pvalue=0.36829265497519026)\n",
      "SpearmanrResult(correlation=-0.16512783560042593, pvalue=0.11986505417134435)\n",
      "SpearmanrResult(correlation=-0.18522803152179204, pvalue=0.08049473963347914)\n",
      "SpearmanrResult(correlation=-0.06683692980130411, pvalue=0.5313753374386088)\n",
      "SpearmanrResult(correlation=0.04812106852081231, pvalue=0.6524247727235154)\n",
      "SpearmanrResult(correlation=0.07666628990139816, pvalue=0.47262688106683237)\n",
      "SpearmanrResult(correlation=0.40407356818982615, pvalue=7.82811230947117e-05)\n",
      "SpearmanrResult(correlation=-0.11101651420565163, pvalue=0.2975520871957137)\n",
      "SpearmanrResult(correlation=-0.0700367061650494, pvalue=0.5118594862489388)\n",
      "SpearmanrResult(correlation=0.14695058917078607, pvalue=0.16693351739775245)\n",
      "SpearmanrResult(correlation=-0.013912000616458017, pvalue=0.8964539111110874)\n",
      "SpearmanrResult(correlation=0.2291862638157416, pvalue=0.02979015378598509)\n",
      "SpearmanrResult(correlation=-0.08854055534927102, pvalue=0.4066182194581749)\n",
      "SpearmanrResult(correlation=0.6169827534478639, pvalue=9.447216841795634e-11)\n",
      "SpearmanrResult(correlation=0.09985875499534473, pvalue=0.3490444770107428)\n",
      "SpearmanrResult(correlation=0.19163641051550784, pvalue=0.07038591556908881)\n",
      "SpearmanrResult(correlation=-0.20013610750406233, pvalue=0.058584275996688424)\n",
      "SpearmanrResult(correlation=-0.022299417567414142, pvalue=0.8347451953416656)\n",
      "SpearmanrResult(correlation=0.00607979989012286, pvalue=0.9546469114579834)\n",
      "SpearmanrResult(correlation=-0.2916216906055608, pvalue=0.0052906241676722665)\n",
      "SpearmanrResult(correlation=0.07940723434563687, pvalue=0.4568953605727374)\n",
      "SpearmanrResult(correlation=0.2591424046824388, pvalue=0.01364926543394395)\n",
      "SpearmanrResult(correlation=-0.12894837000011447, pvalue=0.22578963177995576)\n",
      "SpearmanrResult(correlation=-0.2942598690345671, pvalue=0.004874892055323275)\n",
      "SpearmanrResult(correlation=-0.04408786125030596, pvalue=0.6798935816845583)\n",
      "SpearmanrResult(correlation=0.007151112989428501, pvalue=0.9466661382809719)\n",
      "SpearmanrResult(correlation=-0.08568012863107523, pvalue=0.42200423573271073)\n",
      "SpearmanrResult(correlation=-0.2713121860471851, pvalue=0.00969210348109415)\n",
      "SpearmanrResult(correlation=0.10228306482856567, pvalue=0.337408961193464)\n",
      "SpearmanrResult(correlation=-0.09072419461764479, pvalue=0.39509725934520035)\n",
      "SpearmanrResult(correlation=-0.34333048236669117, pvalue=0.000923344123353799)\n",
      "SpearmanrResult(correlation=-0.1287763497183657, pvalue=0.2264145475502779)\n",
      "SpearmanrResult(correlation=0.12019022901441756, pvalue=0.25915859001894104)\n",
      "SpearmanrResult(correlation=-0.17589155087023792, pvalue=0.09726012338337041)\n",
      "SpearmanrResult(correlation=0.16105313984776, pvalue=0.12940692516566496)\n",
      "SpearmanrResult(correlation=-0.1695998184754668, pvalue=0.11002634749852633)\n",
      "SpearmanrResult(correlation=-0.002983379560775531, pvalue=0.9777361257308896)\n",
      "SpearmanrResult(correlation=-0.10699526254155738, pvalue=0.31550283892561864)\n",
      "SpearmanrResult(correlation=0.2301524951989808, pvalue=0.02908861486426313)\n",
      "SpearmanrResult(correlation=-0.10534730449646969, pvalue=0.3230570824655319)\n",
      "SpearmanrResult(correlation=-0.21898335653279047, pvalue=0.03811096747605647)\n",
      "SpearmanrResult(correlation=0.18215289020618358, pvalue=0.08574090509159178)\n",
      "SpearmanrResult(correlation=5.7163314654109085e-05, pvalue=0.9995733566150512)\n",
      "SpearmanrResult(correlation=0.11161719455613524, pvalue=0.2949294428176533)\n",
      "SpearmanrResult(correlation=0.10876444665039715, pvalue=0.3075208868082503)\n",
      "SpearmanrResult(correlation=-0.526651073693515, pvalue=9.720444537364883e-08)\n",
      "SpearmanrResult(correlation=-0.12618312475750118, pvalue=0.2359824212552775)\n",
      "SpearmanrResult(correlation=-0.31240862978745515, pvalue=0.002719775420014948)\n",
      "SpearmanrResult(correlation=0.12950177815902042, pvalue=0.2237874209852254)\n",
      "SpearmanrResult(correlation=-0.22212776450948551, pvalue=0.0353613224455575)\n",
      "SpearmanrResult(correlation=0.05676161774306302, pvalue=0.595148910645608)\n",
      "SpearmanrResult(correlation=-0.09142670393008866, pvalue=0.39143244435058855)\n",
      "SpearmanrResult(correlation=-0.2066148948638564, pvalue=0.05071784834145594)\n",
      "SpearmanrResult(correlation=-0.20812249015023135, pvalue=0.049017956252723725)\n",
      "SpearmanrResult(correlation=-0.4422491264681663, pvalue=1.2762477492575323e-05)\n",
      "SpearmanrResult(correlation=-0.26250390596460077, pvalue=0.012436193611224085)\n",
      "SpearmanrResult(correlation=-0.46039107829424814, pvalue=4.97793173346041e-06)\n",
      "SpearmanrResult(correlation=-0.4237116434928897, pvalue=3.164442657670135e-05)\n",
      "SpearmanrResult(correlation=0.3172284868479953, pvalue=0.0023150286968894106)\n",
      "SpearmanrResult(correlation=-0.36152206036265816, pvalue=0.0004635912114504363)\n",
      "SpearmanrResult(correlation=-0.1634119163842137, pvalue=0.12381506768801247)\n",
      "SpearmanrResult(correlation=0.115058460419688, pvalue=0.280198556871734)\n",
      "SpearmanrResult(correlation=-0.6923184714733824, pvalue=4.0995637903615465e-14)\n",
      "SpearmanrResult(correlation=0.16167157749944716, pvalue=0.12792251303189298)\n",
      "SpearmanrResult(correlation=-0.06308343837091249, pvalue=0.5547313298091319)\n",
      "SpearmanrResult(correlation=0.32470314576045356, pvalue=0.0017937680084008456)\n"
     ]
    }
   ],
   "source": [
    "from scipy.stats import spearmanr, pearsonr\n",
    "\n",
    "for i, uuid in enumerate(uuids):\n",
    "    print(spearmanr(honesty_ratings[i], RT_hr[uuid]))"
   ]
  },
  {
   "cell_type": "code",
   "execution_count": 21,
   "metadata": {},
   "outputs": [
    {
     "data": {
      "text/plain": [
       "(0.038105485924705036, 0.0002994043522421354)"
      ]
     },
     "execution_count": 21,
     "metadata": {},
     "output_type": "execute_result"
    }
   ],
   "source": [
    "pearsonr([i for r in RT_ratings for i in r], [i for r in honesty_ratings for i in r])"
   ]
  },
  {
   "cell_type": "code",
   "execution_count": 22,
   "metadata": {},
   "outputs": [
    {
     "data": {
      "text/plain": [
       "<AxesSubplot:>"
      ]
     },
     "execution_count": 22,
     "metadata": {},
     "output_type": "execute_result"
    },
    {
     "data": {
      "image/png": "[encoded data removed]",
      "text/plain": [
       "<Figure size 432x288 with 1 Axes>"
      ]
     },
     "metadata": {
      "needs_background": "light"
     },
     "output_type": "display_data"
    }
   ],
   "source": [
    "sns.regplot(x=[i for r in RT_ratings for i in r], y=[i for r in honesty_ratings for i in r])"
   ]
  },
  {
   "cell_type": "code",
   "execution_count": 39,
   "metadata": {},
   "outputs": [],
   "source": [
    "with open('fr_'+batch+'_RT_honesty_rating.json', 'w') as f:\n",
    "    json.dump(RT_hr, f)"
   ]
  },
  {
   "cell_type": "code",
   "execution_count": 40,
   "metadata": {},
   "outputs": [],
   "source": [
    "with open('fr_'+batch+'_when_lied.json', 'w') as f:\n",
    "    json.dump(when_lied, f)"
   ]
  },
  {
   "cell_type": "code",
   "execution_count": 41,
   "metadata": {},
   "outputs": [],
   "source": [
    "colour_report = {}\n",
    "\n",
    "for i, uuid in enumerate(uuids):\n",
    "    colour_report[uuid] = reported_col[i]"
   ]
  },
  {
   "cell_type": "code",
   "execution_count": 42,
   "metadata": {},
   "outputs": [],
   "source": [
    "colour_picked = {}\n",
    "\n",
    "for i, uuid in enumerate(uuids):\n",
    "    colour_picked[uuid] = rand_pick_col[i]"
   ]
  },
  {
   "cell_type": "code",
   "execution_count": 43,
   "metadata": {},
   "outputs": [],
   "source": [
    "pp_lies = {}\n",
    "\n",
    "for i, uuid in enumerate(uuids):\n",
    "    pp_lies[uuid] = pp_lied[i]"
   ]
  },
  {
   "cell_type": "code",
   "execution_count": 44,
   "metadata": {},
   "outputs": [],
   "source": [
    "win_lose_tie = {}\n",
    "\n",
    "for i, uuid in enumerate(uuids):\n",
    "    win_lose_tie[uuid] = trial_result[i]"
   ]
  },
  {
   "cell_type": "code",
   "execution_count": 45,
   "metadata": {},
   "outputs": [],
   "source": [
    "other_reports = {}\n",
    "\n",
    "for i, uuid in enumerate(uuids):\n",
    "    other_reports[uuid] = other_outcome[i]"
   ]
  },
  {
   "cell_type": "code",
   "execution_count": 46,
   "metadata": {},
   "outputs": [],
   "source": [
    "nreds = {}\n",
    "\n",
    "for i, uuid in enumerate(uuids):\n",
    "    nreds[uuid] = n_red[i]"
   ]
  },
  {
   "cell_type": "code",
   "execution_count": 47,
   "metadata": {},
   "outputs": [],
   "source": [
    "with open('fr_'+batch+'_win_lose_tie.json', 'w') as f:\n",
    "    json.dump(win_lose_tie, f)"
   ]
  },
  {
   "cell_type": "code",
   "execution_count": 48,
   "metadata": {},
   "outputs": [],
   "source": [
    "with open('fr_'+batch+'_reported_col.json', 'w') as f:\n",
    "    json.dump(colour_report, f)"
   ]
  },
  {
   "cell_type": "code",
   "execution_count": 49,
   "metadata": {},
   "outputs": [],
   "source": [
    "with open('fr_'+batch+'_picked_col.json', 'w') as f:\n",
    "    json.dump(colour_picked, f)"
   ]
  },
  {
   "cell_type": "code",
   "execution_count": 50,
   "metadata": {},
   "outputs": [],
   "source": [
    "with open('fr_'+batch+'_pp_lies.json', 'w') as f:\n",
    "    json.dump(pp_lies, f)"
   ]
  },
  {
   "cell_type": "code",
   "execution_count": 51,
   "metadata": {},
   "outputs": [],
   "source": [
    "with open('fr_'+batch+'_other_reports.json', 'w') as f:\n",
    "    json.dump(other_reports, f)"
   ]
  },
  {
   "cell_type": "code",
   "execution_count": 52,
   "metadata": {},
   "outputs": [],
   "source": [
    "with open('fr_'+batch+'_n_red.json', 'w') as f:\n",
    "    json.dump(nreds, f)"
   ]
  },
  {
   "cell_type": "code",
   "execution_count": 53,
   "metadata": {
    "scrolled": true
   },
   "outputs": [
    {
     "name": "stdout",
     "output_type": "stream",
     "text": [
      "0.022222222222222223 4.011111111111111\n",
      "0.0 4.288888888888889\n",
      "0.3333333333333333 3.7444444444444445\n",
      "0.25555555555555554 3.1777777777777776\n",
      "0.25555555555555554 3.3\n",
      "0.3111111111111111 2.977777777777778\n",
      "0.022222222222222223 4.4\n",
      "0.0 4.0\n",
      "0.5333333333333333 3.022222222222222\n",
      "0.5555555555555556 2.7555555555555555\n",
      "0.3333333333333333 2.7555555555555555\n",
      "0.5444444444444444 2.8\n",
      "0.0 4.9\n",
      "0.4777777777777778 3.0\n",
      "0.0 3.6666666666666665\n",
      "0.5111111111111111 2.9444444444444446\n",
      "0.5777777777777777 2.988888888888889\n"
     ]
    }
   ],
   "source": [
    "# lie proportion per user\n",
    "lie_prop = {}\n",
    "avg_honesty_rating = {}\n",
    "\n",
    "for i, uuid in enumerate(uuids):\n",
    "    i_lie_prop = sum([x != y for x, y in zip(rand_pick_col[i], reported_col[i])])/90\n",
    "    i_avg_rating = sum(honesty_ratings[i])/len(honesty_ratings[i])\n",
    "    print(i_lie_prop, i_avg_rating)\n",
    "    lie_prop[uuid] = i_lie_prop\n",
    "    avg_honesty_rating[uuid] = i_avg_rating"
   ]
  },
  {
   "cell_type": "code",
   "execution_count": 142,
   "metadata": {},
   "outputs": [],
   "source": [
    "with open(\"./data/fr/fr100_mean_honesty_rating.json\", \"w\", encoding=\"utf-8\") as f:\n",
    "    json.dump(avg_honesty_rating, f)"
   ]
  },
  {
   "cell_type": "code",
   "execution_count": 143,
   "metadata": {},
   "outputs": [],
   "source": [
    "with open(\"./data/fr/fr100_lie_prop.json\", \"w\", encoding=\"utf-8\") as f:\n",
    "    json.dump(lie_prop, f)"
   ]
  },
  {
   "cell_type": "code",
   "execution_count": 55,
   "metadata": {},
   "outputs": [],
   "source": [
    "with open(\"./data/fr/fr_\"+batch+\"_mean_honesty_rating.json\", \"w\", encoding=\"utf-8\") as f:\n",
    "    json.dump(avg_honesty_rating, f)"
   ]
  },
  {
   "cell_type": "code",
   "execution_count": 56,
   "metadata": {},
   "outputs": [],
   "source": [
    "with open(\"./data/fr/fr_\"+batch+\"_lie_prop.json\", \"w\", encoding=\"utf-8\") as f:\n",
    "    json.dump(lie_prop, f)"
   ]
  },
  {
   "cell_type": "code",
   "execution_count": 57,
   "metadata": {},
   "outputs": [],
   "source": [
    "mean_hr = [avg_honesty_rating[key] for key in avg_honesty_rating.keys()]"
   ]
  },
  {
   "cell_type": "code",
   "execution_count": 165,
   "metadata": {},
   "outputs": [],
   "source": [
    "lieprop = [lie_prop[key] for key in lie_prop.keys()]"
   ]
  },
  {
   "cell_type": "code",
   "execution_count": 166,
   "metadata": {},
   "outputs": [
    {
     "data": {
      "text/plain": [
       "<AxesSubplot:>"
      ]
     },
     "execution_count": 166,
     "metadata": {},
     "output_type": "execute_result"
    },
    {
     "data": {
      "image/png": "[encoded data removed]",
      "text/plain": [
       "<Figure size 432x288 with 1 Axes>"
      ]
     },
     "metadata": {
      "needs_background": "light"
     },
     "output_type": "display_data"
    }
   ],
   "source": [
    "sns.regplot(x=lieprop, y=mean_hr)"
   ]
  },
  {
   "cell_type": "code",
   "execution_count": null,
   "metadata": {},
   "outputs": [],
   "source": []
  },
  {
   "cell_type": "code",
   "execution_count": 58,
   "metadata": {},
   "outputs": [
    {
     "data": {
      "text/plain": [
       "<AxesSubplot:>"
      ]
     },
     "execution_count": 58,
     "metadata": {},
     "output_type": "execute_result"
    },
    {
     "data": {
      "image/png": "[encoded data removed]",
      "text/plain": [
       "<Figure size 432x288 with 1 Axes>"
      ]
     },
     "metadata": {
      "needs_background": "light"
     },
     "output_type": "display_data"
    }
   ],
   "source": [
    "sns.boxplot(data=mean_hr)"
   ]
  },
  {
   "cell_type": "code",
   "execution_count": 59,
   "metadata": {
    "scrolled": true
   },
   "outputs": [
    {
     "name": "stdout",
     "output_type": "stream",
     "text": [
      "0.03333333333333333 4.033333333333333\n",
      "0.0 4.466666666666667\n",
      "0.3 3.3\n",
      "0.2 2.8333333333333335\n",
      "0.0 2.9\n",
      "0.16666666666666666 3.3333333333333335\n",
      "0.03333333333333333 4.433333333333334\n",
      "0.0 4.0\n",
      "0.5 2.6333333333333333\n",
      "0.5 2.6\n",
      "0.43333333333333335 2.566666666666667\n",
      "0.5333333333333333 2.566666666666667\n",
      "0.0 4.733333333333333\n",
      "0.43333333333333335 2.466666666666667\n",
      "0.0 3.6\n",
      "0.5 2.8333333333333335\n",
      "0.5 2.566666666666667\n"
     ]
    }
   ],
   "source": [
    "# lie proportion BLOCK 1\n",
    "lie_prop_b1 = []\n",
    "avg_honesty_rating_b1 = []\n",
    "\n",
    "for i in range(len(uuids)):\n",
    "    i_lie_prop = sum([x != y for x, y in zip(rand_pick_col[i][:30], reported_col[i][:30])])/30\n",
    "    i_avg_rating = sum(honesty_ratings[i][:30])/len(honesty_ratings[i][:30])\n",
    "    print(i_lie_prop, i_avg_rating)\n",
    "    \n",
    "    lie_prop_b1.append(i_lie_prop)\n",
    "    avg_honesty_rating_b1.append(i_avg_rating)"
   ]
  },
  {
   "cell_type": "code",
   "execution_count": 60,
   "metadata": {
    "scrolled": true
   },
   "outputs": [
    {
     "name": "stdout",
     "output_type": "stream",
     "text": [
      "0.0 4.0\n",
      "0.0 4.6\n",
      "0.3 4.433333333333334\n",
      "0.26666666666666666 3.1\n",
      "0.2 3.6333333333333333\n",
      "0.43333333333333335 3.1666666666666665\n",
      "0.0 4.433333333333334\n",
      "0.0 4.0\n",
      "0.5 3.4\n",
      "0.6333333333333333 2.933333333333333\n",
      "0.43333333333333335 2.7666666666666666\n",
      "0.5333333333333333 2.8666666666666667\n",
      "0.0 5.0\n",
      "0.5 3.566666666666667\n",
      "0.0 3.7\n",
      "0.5 2.9\n",
      "0.6333333333333333 3.1666666666666665\n"
     ]
    }
   ],
   "source": [
    "# lie proportion BLOCK 2\n",
    "lie_prop_b2 = []\n",
    "avg_honesty_rating_b2 = []\n",
    "\n",
    "for i in range(len(uuids)):\n",
    "    i_lie_prop = sum([x != y for x, y in zip(rand_pick_col[i][30:60], reported_col[i][30:60])])/30\n",
    "    i_avg_rating = sum(honesty_ratings[i][30:60])/len(honesty_ratings[i][30:60])\n",
    "    print(i_lie_prop, i_avg_rating)\n",
    "    \n",
    "    lie_prop_b2.append(i_lie_prop)\n",
    "    avg_honesty_rating_b2.append(i_avg_rating)"
   ]
  },
  {
   "cell_type": "code",
   "execution_count": 61,
   "metadata": {
    "scrolled": true
   },
   "outputs": [
    {
     "name": "stdout",
     "output_type": "stream",
     "text": [
      "0.03333333333333333 4.0\n",
      "0.0 3.8\n",
      "0.4 3.5\n",
      "0.3 3.6\n",
      "0.5666666666666667 3.3666666666666667\n",
      "0.3333333333333333 2.433333333333333\n",
      "0.03333333333333333 4.333333333333333\n",
      "0.0 4.0\n",
      "0.6 3.033333333333333\n",
      "0.5333333333333333 2.7333333333333334\n",
      "0.13333333333333333 2.933333333333333\n",
      "0.5666666666666667 2.966666666666667\n",
      "0.0 4.966666666666667\n",
      "0.5 2.966666666666667\n",
      "0.0 3.7\n",
      "0.5333333333333333 3.1\n",
      "0.6 3.2333333333333334\n"
     ]
    }
   ],
   "source": [
    "# lie proportion BLOCK 3\n",
    "lie_prop_b3 = []\n",
    "avg_honesty_rating_b3 = []\n",
    "\n",
    "for i in range(len(uuids)):\n",
    "    i_lie_prop = sum([x != y for x, y in zip(rand_pick_col[i][60:], reported_col[i][60:])])/30\n",
    "    i_avg_rating = sum(honesty_ratings[i][60:])/len(honesty_ratings[i][60:])\n",
    "    print(i_lie_prop, i_avg_rating)\n",
    "    \n",
    "    lie_prop_b3.append(i_lie_prop)\n",
    "    avg_honesty_rating_b3.append(i_avg_rating)"
   ]
  },
  {
   "cell_type": "code",
   "execution_count": 110,
   "metadata": {},
   "outputs": [],
   "source": [
    "exclude = [\n",
    "    \"60f44f7a57468d4e9f87fa5b\",\n",
    "\"6154284fc5154abb9a264b0c\",\n",
    "\"6160403f5164508979e6358d\",\n",
    "\"615d9f86fdd5e127d783e850\",\n",
    "\"612812ff639db35356dff7c5\",\n",
    "\"5962eb69241f8d0001064bd3\",\n",
    "\"61617a80475c4e619cbed83e\",\n",
    "\"616deadcefd7197b84ab677c\",\n",
    "\"616f43682df7bc3f99f95411\",\n",
    "\"6162a881b823e80dfcf94792\",\n",
    "\"616f6a2135e569c0b4861b01\",\n",
    "\"5cb08ecee11a890001a478ad\",\n",
    "\"5b2caaa75b5c0900018b4724\",\n",
    "\"61702b890e755075af3a5423\",\n",
    "\"616ec0185d61b5fa0b62b42a\"\n",
    "]"
   ]
  },
  {
   "cell_type": "code",
   "execution_count": 121,
   "metadata": {},
   "outputs": [
    {
     "data": {
      "text/plain": [
       "15"
      ]
     },
     "execution_count": 121,
     "metadata": {},
     "output_type": "execute_result"
    }
   ],
   "source": [
    "len(exclude)"
   ]
  },
  {
   "cell_type": "code",
   "execution_count": 117,
   "metadata": {
    "scrolled": true
   },
   "outputs": [],
   "source": [
    "clean_mean_hr = [avg_honesty_rating[key] for key in avg_honesty_rating.keys() if key not in exclude]"
   ]
  },
  {
   "cell_type": "code",
   "execution_count": 119,
   "metadata": {},
   "outputs": [],
   "source": [
    "clean_lie_prop = [lie_prop[key] for key in avg_honesty_rating.keys() if key not in exclude]"
   ]
  },
  {
   "cell_type": "code",
   "execution_count": 120,
   "metadata": {},
   "outputs": [
    {
     "data": {
      "text/plain": [
       "(-0.17317050715291835, 0.11298598594088721)"
      ]
     },
     "execution_count": 120,
     "metadata": {},
     "output_type": "execute_result"
    }
   ],
   "source": [
    "pearsonr(clean_lie_prop, clean_mean_hr)"
   ]
  },
  {
   "cell_type": "code",
   "execution_count": 122,
   "metadata": {},
   "outputs": [
    {
     "data": {
      "text/plain": [
       "<AxesSubplot:>"
      ]
     },
     "execution_count": 122,
     "metadata": {},
     "output_type": "execute_result"
    },
    {
     "data": {
      "image/png": "[encoded data removed]",
      "text/plain": [
       "<Figure size 432x288 with 1 Axes>"
      ]
     },
     "metadata": {
      "needs_background": "light"
     },
     "output_type": "display_data"
    }
   ],
   "source": [
    "sns.regplot(x=clean_lie_prop, y=clean_mean_hr)"
   ]
  },
  {
   "cell_type": "code",
   "execution_count": 39,
   "metadata": {},
   "outputs": [],
   "source": [
    "from scipy.stats import spearmanr, pearsonr"
   ]
  },
  {
   "cell_type": "code",
   "execution_count": 40,
   "metadata": {},
   "outputs": [
    {
     "data": {
      "text/plain": [
       "SpearmanrResult(correlation=-0.2348961196434084, pvalue=0.018650463874181056)"
      ]
     },
     "execution_count": 40,
     "metadata": {},
     "output_type": "execute_result"
    }
   ],
   "source": [
    "spearmanr(lie_prop_b1, avg_honesty_rating_b1)"
   ]
  },
  {
   "cell_type": "code",
   "execution_count": 41,
   "metadata": {},
   "outputs": [
    {
     "data": {
      "text/plain": [
       "SpearmanrResult(correlation=-0.1553097421494447, pvalue=0.12284299393767019)"
      ]
     },
     "execution_count": 41,
     "metadata": {},
     "output_type": "execute_result"
    }
   ],
   "source": [
    "spearmanr(lie_prop_b2, avg_honesty_rating_b2)"
   ]
  },
  {
   "cell_type": "code",
   "execution_count": 42,
   "metadata": {},
   "outputs": [
    {
     "data": {
      "text/plain": [
       "SpearmanrResult(correlation=-0.20840370679259065, pvalue=0.03745765930122504)"
      ]
     },
     "execution_count": 42,
     "metadata": {},
     "output_type": "execute_result"
    }
   ],
   "source": [
    "spearmanr(lie_prop_b3, avg_honesty_rating_b3)"
   ]
  },
  {
   "cell_type": "code",
   "execution_count": 45,
   "metadata": {},
   "outputs": [],
   "source": [
    "lie_props = [lie_prop[key] for key in lie_prop.keys()]"
   ]
  },
  {
   "cell_type": "code",
   "execution_count": 46,
   "metadata": {},
   "outputs": [
    {
     "data": {
      "text/plain": [
       "SpearmanrResult(correlation=-0.17525911541548164, pvalue=0.08114466686894888)"
      ]
     },
     "execution_count": 46,
     "metadata": {},
     "output_type": "execute_result"
    }
   ],
   "source": [
    "spearmanr(lie_props, mean_hr)"
   ]
  },
  {
   "cell_type": "code",
   "execution_count": 47,
   "metadata": {},
   "outputs": [
    {
     "data": {
      "text/plain": [
       "(-0.21995365189362337, 0.027886013724525455)"
      ]
     },
     "execution_count": 47,
     "metadata": {},
     "output_type": "execute_result"
    }
   ],
   "source": [
    "pearsonr(lie_props, mean_hr)"
   ]
  },
  {
   "cell_type": "code",
   "execution_count": 54,
   "metadata": {},
   "outputs": [
    {
     "data": {
      "text/plain": [
       "[Text(0.5, 0, 'lie proportion'), Text(0, 0.5, 'mean honesty rating')]"
      ]
     },
     "execution_count": 54,
     "metadata": {},
     "output_type": "execute_result"
    },
    {
     "data": {
      "image/png": "[encoded data removed]",
      "text/plain": [
       "<Figure size 432x288 with 1 Axes>"
      ]
     },
     "metadata": {
      "needs_background": "light"
     },
     "output_type": "display_data"
    }
   ],
   "source": [
    "p = sns.regplot(x=lie_props, y=mean_hr)\n",
    "p.set(xlabel=\"lie proportion\", ylabel=\"mean honesty rating\")"
   ]
  },
  {
   "cell_type": "code",
   "execution_count": 62,
   "metadata": {},
   "outputs": [],
   "source": [
    "norm_honesty_ratings = []\n",
    "\n",
    "for ratings in honesty_ratings:\n",
    "    normed = [v/5 for v in ratings]\n",
    "    norm_honesty_ratings.append(normed)"
   ]
  },
  {
   "cell_type": "code",
   "execution_count": 63,
   "metadata": {},
   "outputs": [],
   "source": [
    "import numexpr\n",
    "\n",
    "norm_suspicion_ratings = numexpr.evaluate('(1 - norm_honesty_ratings)')"
   ]
  },
  {
   "cell_type": "code",
   "execution_count": 64,
   "metadata": {},
   "outputs": [
    {
     "data": {
      "text/plain": [
       "array([[0.2, 0.2, 0.2, ..., 0.2, 0.2, 0.2],\n",
       "       [0.4, 0.4, 0.6, ..., 0. , 0. , 0. ],\n",
       "       [0.4, 0.2, 0. , ..., 0. , 0. , 0.2],\n",
       "       ...,\n",
       "       [0.2, 0.2, 0.4, ..., 0.4, 0.4, 0.2],\n",
       "       [0.6, 0.2, 0.8, ..., 0.6, 0.2, 0.4],\n",
       "       [0.8, 0. , 0. , ..., 1. , 0. , 0.8]])"
      ]
     },
     "execution_count": 64,
     "metadata": {},
     "output_type": "execute_result"
    }
   ],
   "source": [
    "norm_suspicion_ratings"
   ]
  },
  {
   "cell_type": "code",
   "execution_count": 65,
   "metadata": {},
   "outputs": [],
   "source": [
    "tmp = {uuids[i]: ratings for i, ratings in enumerate(norm_suspicion_ratings)}"
   ]
  },
  {
   "cell_type": "code",
   "execution_count": 66,
   "metadata": {},
   "outputs": [],
   "source": [
    "# pd.DataFrame(tmp).to_json('fr_'+batch+'_normalized_suspicion_ratings.json')"
   ]
  },
  {
   "cell_type": "code",
   "execution_count": 67,
   "metadata": {},
   "outputs": [
    {
     "data": {
      "image/png": "[encoded data removed]",
      "text/plain": [
       "<Figure size 432x288 with 1 Axes>"
      ]
     },
     "metadata": {
      "needs_background": "light"
     },
     "output_type": "display_data"
    }
   ],
   "source": [
    "for i in range(len(uuids)):\n",
    "    p=sns.lineplot(x=norm_suspicion_ratings[i], y=RT_ratings[i])\n",
    "    p.set(xlabel=\"normalized suspicion rating\", ylabel=\"RT honesty rating\")"
   ]
  },
  {
   "cell_type": "code",
   "execution_count": null,
   "metadata": {},
   "outputs": [],
   "source": [
    "diff_s_ev_alpha = [\n",
    "    0.74,\n",
    "0.3,\n",
    "0,\n",
    "0.33,\n",
    "0.05,\n",
    "0.3,\n",
    "0.34,\n",
    "0.36,\n",
    "0.6,\n",
    "0.67]\n",
    "\n",
    "diff_s_ev_prior = [\n",
    "    0,\n",
    "0.11,\n",
    "0.48,\n",
    "0.18,\n",
    "0.42,\n",
    "0.05,\n",
    "0.25,\n",
    "0,\n",
    "0,\n",
    "0]"
   ]
  },
  {
   "cell_type": "code",
   "execution_count": 100,
   "metadata": {},
   "outputs": [],
   "source": [
    "# inspect block order effects\n",
    "\n",
    "def mean(x):\n",
    "    return sum(x)/len(x)"
   ]
  },
  {
   "cell_type": "code",
   "execution_count": null,
   "metadata": {},
   "outputs": [],
   "source": [
    "from statistics import median"
   ]
  },
  {
   "cell_type": "code",
   "execution_count": null,
   "metadata": {},
   "outputs": [],
   "source": [
    "s_ev_alpha_hmedian = [1 if v > median(diff_s_ev_alpha) else 0 for v in diff_s_ev_alpha]"
   ]
  },
  {
   "cell_type": "code",
   "execution_count": null,
   "metadata": {},
   "outputs": [],
   "source": [
    "s_ev_prior_hmedian = [1 if v > median(diff_s_ev_prior) else 0 for v in diff_s_ev_prior]"
   ]
  },
  {
   "cell_type": "code",
   "execution_count": 52,
   "metadata": {},
   "outputs": [],
   "source": [
    "mean_hrs = []\n",
    "\n",
    "for ratings in norm_suspicion_ratings:\n",
    "    mean_hrs.append(sum(ratings)/len(ratings))"
   ]
  },
  {
   "cell_type": "code",
   "execution_count": null,
   "metadata": {},
   "outputs": [],
   "source": [
    "tmp = pd.DataFrame({\"higher_than_median\": s_ev_alpha_hmedian, \n",
    "                    \"mean_normed_suspicion_rating\": mean_hrs,\n",
    "                    \"lied_more\": [v > median(lie_prop) for v in lie_prop],\n",
    "                    \"diff_s_ev_alpha\": diff_s_ev_alpha, \"diff_s_ev_prior\": diff_s_ev_prior, \"s_ev_prior_hmedian\": s_ev_prior_hmedian, \"lie_prop\": lie_prop})"
   ]
  },
  {
   "cell_type": "code",
   "execution_count": null,
   "metadata": {},
   "outputs": [],
   "source": [
    "tmp = [v > median(lie_prop) for v in lie_prop]\n",
    "p = sns.barplot(x=tmp, y=mean_hrs)\n",
    "p.set(xlabel=\"lied more than median lie proportion\", ylabel=\"mean suspicion\")\n",
    "# p.set_title(\"SAME condition: liars and mean suspicion\")"
   ]
  },
  {
   "cell_type": "code",
   "execution_count": null,
   "metadata": {},
   "outputs": [],
   "source": [
    "p = sns.barplot(data=tmp, y=\"lie_prop\", x=\"higher_than_median\")\n",
    "p.set(xlabel=\"alpha higher than median (1) or not (0)\", ylabel=\"lie proportion\")\n",
    "p.set_title(\"DIFF condition signed EV model w/o update rule: high vs low alpha and lie proportion\")"
   ]
  },
  {
   "cell_type": "code",
   "execution_count": null,
   "metadata": {},
   "outputs": [],
   "source": [
    "p = sns.barplot(data=tmp, y=\"lie_prop\", x=\"s_ev_prior_hmedian\")\n",
    "p.set(xlabel=\"baseline suspicion (prior) higher than median (1) or not (0)\", ylabel=\"lie proportion\")\n",
    "p.set_title(\"DIFF condition signed EV model w/o update rule: high vs low prior and lying\")"
   ]
  },
  {
   "cell_type": "code",
   "execution_count": 63,
   "metadata": {
    "scrolled": true
   },
   "outputs": [
    {
     "data": {
      "text/plain": [
       "[Text(0.5, 0, 'lie proportion'), Text(0, 0.5, 'mean honesty rating')]"
      ]
     },
     "execution_count": 63,
     "metadata": {},
     "output_type": "execute_result"
    },
    {
     "data": {
      "image/png": "[encoded data removed]",
      "text/plain": [
       "<Figure size 432x288 with 1 Axes>"
      ]
     },
     "metadata": {
      "needs_background": "light"
     },
     "output_type": "display_data"
    }
   ],
   "source": [
    "tmp = pd.DataFrame({'lie_prop': lie_props, 'avg_hr': mean_hr})\n",
    "\n",
    "p = sns.regplot(data=tmp, x='lie_prop', y='avg_hr')\n",
    "p.set(xlabel=\"lie proportion\", ylabel=\"mean honesty rating\")\n",
    "# p.set_title(\"DIFF condition\")"
   ]
  },
  {
   "cell_type": "code",
   "execution_count": 55,
   "metadata": {},
   "outputs": [],
   "source": [
    "avg_nolie_block_ratings = []\n",
    "avg_lie33_block_ratings = []\n",
    "avg_lie50_block_ratings = []\n",
    "\n",
    "sd_nolie_block_ratings = []\n",
    "sd_lie33_block_ratings = []\n",
    "sd_lie50_block_ratings = []\n",
    "\n",
    "for i, uuid in enumerate(uuids):\n",
    "    avg_honesty_rating[uuid]\n",
    "    \n",
    "    if condition[uuid] == \"11\":\n",
    "        nolie = tmp[uuid][:30]\n",
    "        avg_nolie_block_ratings.append(mean(nolie))\n",
    "        sd_nolie_block_ratings.append(np.std(nolie))\n",
    "#         print(i, \"mean honesty rating\", mean(nolie))\n",
    "#         print(i, \"SD honesty rating\", np.std(nolie))\n",
    "        \n",
    "        lie33 = tmp[uuid][30:60]\n",
    "        avg_lie33_block_ratings.append(mean(lie33))\n",
    "        sd_lie33_block_ratings.append(np.std(lie33))\n",
    "        \n",
    "        lie50 = tmp[uuid][60:]\n",
    "        avg_lie50_block_ratings.append(mean(lie50))\n",
    "        sd_lie50_block_ratings.append(np.std(lie50))\n",
    "        \n",
    "    if condition[uuid] == \"12\":\n",
    "        nolie = tmp[uuid][:30]\n",
    "        avg_nolie_block_ratings.append(mean(nolie))\n",
    "        sd_nolie_block_ratings.append(np.std(nolie))\n",
    "#         print(i, \"mean honesty rating\", mean(nolie))\n",
    "#         print(i, \"SD honesty rating\", np.std(nolie))\n",
    "        \n",
    "        lie33 = tmp[uuid][60:]\n",
    "        avg_lie33_block_ratings.append(mean(lie33))\n",
    "        sd_lie33_block_ratings.append(np.std(lie33))\n",
    "        \n",
    "        lie50 = tmp[uuid][30:60]\n",
    "        avg_lie50_block_ratings.append(mean(lie50))\n",
    "        sd_lie50_block_ratings.append(np.std(lie50))\n",
    "        \n",
    "    if condition[uuid] == \"21\":\n",
    "        nolie = tmp[uuid][30:60]\n",
    "        avg_nolie_block_ratings.append(mean(nolie))\n",
    "        sd_nolie_block_ratings.append(np.std(nolie))\n",
    "#         print(i, \"mean honesty rating\", mean(nolie))\n",
    "#         print(i, \"SD honesty rating\", np.std(nolie))\n",
    "        \n",
    "        lie33 = tmp[uuid][:30]\n",
    "        avg_lie33_block_ratings.append(mean(lie33))\n",
    "        sd_lie33_block_ratings.append(np.std(lie33))\n",
    "        \n",
    "        lie50 = tmp[uuid][60:]\n",
    "        avg_lie50_block_ratings.append(mean(lie50))\n",
    "        sd_lie50_block_ratings.append(np.std(lie50))\n",
    "        \n",
    "    if condition[uuid] == \"22\":\n",
    "        nolie = tmp[uuid][60:]\n",
    "        avg_nolie_block_ratings.append(mean(nolie))\n",
    "        sd_nolie_block_ratings.append(np.std(nolie))\n",
    "#         print(i, \"mean honesty rating\", mean(nolie))\n",
    "#         print(i, \"SD honesty rating\", np.std(nolie))\n",
    "        \n",
    "        lie33 = tmp[uuid][:30]\n",
    "        avg_lie33_block_ratings.append(mean(lie33))\n",
    "        sd_lie33_block_ratings.append(np.std(lie33))\n",
    "        \n",
    "        lie50 = tmp[uuid][30:60]\n",
    "        avg_lie50_block_ratings.append(mean(lie50))\n",
    "        sd_lie50_block_ratings.append(np.std(lie50))\n",
    "        \n",
    "    if condition[uuid] == \"31\":\n",
    "        nolie = tmp[uuid][30:60]\n",
    "        avg_nolie_block_ratings.append(mean(nolie))\n",
    "        sd_nolie_block_ratings.append(np.std(nolie))\n",
    "#         print(i, \"mean honesty rating\", mean(nolie))\n",
    "#         print(i, \"SD honesty rating\", np.std(nolie))\n",
    "        \n",
    "        lie33 = tmp[uuid][60:]\n",
    "        avg_lie33_block_ratings.append(mean(lie33))\n",
    "        sd_lie33_block_ratings.append(np.std(lie33))\n",
    "        \n",
    "        lie50 = tmp[uuid][:30]\n",
    "        avg_lie50_block_ratings.append(mean(lie50))\n",
    "        sd_lie50_block_ratings.append(np.std(lie50))\n",
    "    if condition[uuid] == \"32\":\n",
    "        nolie = tmp[uuid][60:]\n",
    "        avg_nolie_block_ratings.append(mean(nolie))\n",
    "        sd_nolie_block_ratings.append(np.std(nolie))\n",
    "#         print(i, \"mean honesty rating\", mean(nolie))\n",
    "#         print(i, \"SD honesty rating\", np.std(nolie))\n",
    "                \n",
    "        lie33 = tmp[uuid][30:60]\n",
    "        avg_lie33_block_ratings.append(mean(lie33))\n",
    "        sd_lie33_block_ratings.append(np.std(lie33))\n",
    "        \n",
    "        lie50 = tmp[uuid][:30]\n",
    "        avg_lie50_block_ratings.append(mean(lie50))\n",
    "        sd_lie50_block_ratings.append(np.std(lie50))\n",
    "    else:\n",
    "        pass"
   ]
  },
  {
   "cell_type": "code",
   "execution_count": 56,
   "metadata": {},
   "outputs": [],
   "source": [
    "block_lieorder_avg_ratings = list(zip(avg_nolie_block_ratings, avg_lie33_block_ratings, avg_lie50_block_ratings))"
   ]
  },
  {
   "cell_type": "code",
   "execution_count": 57,
   "metadata": {},
   "outputs": [],
   "source": [
    "block_lieorder_sd_ratings = list(zip(sd_nolie_block_ratings, sd_lie33_block_ratings, sd_lie50_block_ratings))"
   ]
  },
  {
   "cell_type": "code",
   "execution_count": 58,
   "metadata": {},
   "outputs": [],
   "source": [
    "from scipy.stats import chisquare"
   ]
  },
  {
   "cell_type": "code",
   "execution_count": 59,
   "metadata": {},
   "outputs": [
    {
     "name": "stderr",
     "output_type": "stream",
     "text": [
      "C:\\Users\\Sarah Zheng\\.conda\\envs\\sim-test\\lib\\site-packages\\scipy\\stats\\stats.py:5975: RuntimeWarning: Mean of empty slice.\n",
      "  f_exp = f_obs.mean(axis=axis, keepdims=True)\n"
     ]
    },
    {
     "data": {
      "text/plain": [
       "Power_divergenceResult(statistic=0.0, pvalue=nan)"
      ]
     },
     "execution_count": 59,
     "metadata": {},
     "output_type": "execute_result"
    }
   ],
   "source": [
    "chisquare(avg_nolie_block_ratings)"
   ]
  },
  {
   "cell_type": "code",
   "execution_count": 60,
   "metadata": {},
   "outputs": [
    {
     "data": {
      "text/plain": [
       "Power_divergenceResult(statistic=0.0, pvalue=nan)"
      ]
     },
     "execution_count": 60,
     "metadata": {},
     "output_type": "execute_result"
    }
   ],
   "source": [
    "chisquare(avg_lie33_block_ratings)"
   ]
  },
  {
   "cell_type": "code",
   "execution_count": 61,
   "metadata": {},
   "outputs": [
    {
     "data": {
      "text/plain": [
       "Power_divergenceResult(statistic=0.0, pvalue=nan)"
      ]
     },
     "execution_count": 61,
     "metadata": {},
     "output_type": "execute_result"
    }
   ],
   "source": [
    "chisquare(avg_lie50_block_ratings)"
   ]
  },
  {
   "cell_type": "code",
   "execution_count": 62,
   "metadata": {},
   "outputs": [
    {
     "data": {
      "text/plain": [
       "[]"
      ]
     },
     "execution_count": 62,
     "metadata": {},
     "output_type": "execute_result"
    }
   ],
   "source": [
    "avg_nolie_block_ratings"
   ]
  },
  {
   "cell_type": "code",
   "execution_count": null,
   "metadata": {},
   "outputs": [],
   "source": [
    "#     i_report_honesty = np.array([transdict[x] for x in block1_resp.randomPickColour]) != block1_resp.reportColour\n",
    "#     i_report_honesty.extend(np.array([transdict[x] for x in block2_resp.randomPickColour]) != block2_resp.reportColour)\n",
    "#     i_report_honesty.extend(np.array([transdict[x] for x in block3_resp.randomPickColour]) != block3_resp.reportColour)\n",
    "#     if_lied.append(i_report_honesty)"
   ]
  },
  {
   "cell_type": "markdown",
   "metadata": {},
   "source": [
    "### inspect demographics data"
   ]
  },
  {
   "cell_type": "code",
   "execution_count": 68,
   "metadata": {},
   "outputs": [],
   "source": [
    "# demographics survey query reference\n",
    "refs_demographics = []\n",
    "for uuid in uuids:\n",
    "    refs_demographics.append(subjects_ref.document(uuid).collection(u'responses').document('demographics').get())"
   ]
  },
  {
   "cell_type": "code",
   "execution_count": 69,
   "metadata": {
    "scrolled": true
   },
   "outputs": [
    {
     "name": "stdout",
     "output_type": "stream",
     "text": [
      "0 4\n",
      "1 3\n",
      "2 5\n",
      "3 3\n",
      "4 3\n",
      "5 3\n",
      "6 2\n",
      "7 4\n",
      "8 7\n",
      "9 5\n",
      "10 5\n",
      "11 2\n",
      "12 6\n",
      "13 3\n",
      "14 2\n",
      "15 5\n",
      "16 2\n"
     ]
    }
   ],
   "source": [
    "edlev = {}\n",
    "\n",
    "for i, feedback in enumerate(refs_demographics):\n",
    "    if feedback.to_dict() is None:\n",
    "        continue\n",
    "    print(i, feedback.to_dict()['edlev'])\n",
    "    edlev[uuids[i]] = int(feedback.to_dict()['edlev'])"
   ]
  },
  {
   "cell_type": "code",
   "execution_count": 70,
   "metadata": {
    "scrolled": true
   },
   "outputs": [
    {
     "name": "stdout",
     "output_type": "stream",
     "text": [
      "0 49\n",
      "1 47\n",
      "2 22\n",
      "3 32\n",
      "4 48\n",
      "5 50\n",
      "6 60\n",
      "7 34\n",
      "8 47\n",
      "9 21\n",
      "10 42\n",
      "11 26\n",
      "12 31\n",
      "13 29\n",
      "14 49\n",
      "15 31\n",
      "16 39\n"
     ]
    }
   ],
   "source": [
    "age = {}\n",
    "\n",
    "for i, feedback in enumerate(refs_demographics):\n",
    "    if feedback.to_dict() is None:\n",
    "        continue\n",
    "    print(i, feedback.to_dict()['age'])\n",
    "    age[uuids[i]]=int(feedback.to_dict()['age'])"
   ]
  },
  {
   "cell_type": "code",
   "execution_count": 71,
   "metadata": {
    "scrolled": true
   },
   "outputs": [
    {
     "name": "stdout",
     "output_type": "stream",
     "text": [
      "0 female\n",
      "1 female\n",
      "2 male\n",
      "3 female\n",
      "4 female\n",
      "5 female\n",
      "6 female\n",
      "7 female\n",
      "8 nonbin\n",
      "9 female\n",
      "10 female\n",
      "11 female\n",
      "12 male\n",
      "13 female\n",
      "14 female\n",
      "15 female\n",
      "16 male\n"
     ]
    }
   ],
   "source": [
    "gender = {}\n",
    "\n",
    "for i, feedback in enumerate(refs_demographics):\n",
    "    print(i, feedback.to_dict()['gender'])\n",
    "    gender[uuids[i]] = feedback.to_dict()['gender']"
   ]
  },
  {
   "cell_type": "code",
   "execution_count": 72,
   "metadata": {},
   "outputs": [],
   "source": [
    "with open(\"fr_\"+batch+\"_age.json\", \"w\", encoding=\"utf-8\") as f:\n",
    "    json.dump(age, f)"
   ]
  },
  {
   "cell_type": "code",
   "execution_count": 73,
   "metadata": {},
   "outputs": [],
   "source": [
    "with open(\"fr_\"+batch+\"_gender.json\", \"w\", encoding=\"utf-8\") as f:\n",
    "    json.dump(gender, f)"
   ]
  },
  {
   "cell_type": "code",
   "execution_count": 74,
   "metadata": {},
   "outputs": [],
   "source": [
    "with open(\"fr_\"+batch+\"_edlev.json\", \"w\", encoding=\"utf-8\") as f:\n",
    "    json.dump(edlev, f)"
   ]
  },
  {
   "cell_type": "markdown",
   "metadata": {},
   "source": [
    "### inspect EQ scores"
   ]
  },
  {
   "cell_type": "code",
   "execution_count": 75,
   "metadata": {},
   "outputs": [],
   "source": [
    "# EQ survey query reference\n",
    "refs_eq = []\n",
    "\n",
    "for uuid in uuids:\n",
    "    refs_eq.append(subjects_ref.document(uuid).collection(u'responses').document('EQ').get())"
   ]
  },
  {
   "cell_type": "code",
   "execution_count": 76,
   "metadata": {},
   "outputs": [
    {
     "data": {
      "text/plain": [
       "17"
      ]
     },
     "execution_count": 76,
     "metadata": {},
     "output_type": "execute_result"
    }
   ],
   "source": [
    "len(refs_eq)"
   ]
  },
  {
   "cell_type": "code",
   "execution_count": 77,
   "metadata": {},
   "outputs": [],
   "source": [
    "eq_items_r = [\n",
    "    \"I find it hard to know what to do in a social situation\",\n",
    "    \"I often find it difficult to judge if something is rude or polite\",\n",
    "    \"In a conversation I tend to focus on my own thoughts rather than on what my listener might be thinking\",\n",
    "    \"It is hard for me to see why some things upset people so much\", \n",
    "    \"I can’t always see why someone should have felt offended by a remark\",\n",
    "    \"Other people often say that I am insensitive though I don’t always see why\"\n",
    "]\n",
    "\n",
    "eq_items = [\"I can easily tell if someone else wants to enter a conversation\",\n",
    "            \"I really enjoy caring for other people\",\n",
    "            \"I can pick up quickly if someone says one thing but means another\",\n",
    "            \"I find it easy to put myself in somebody else’s shoes\",\n",
    "            \"I am good at predicting how someone will feel\",\n",
    "            \"I am quick to spot when someone in a group is feeling awkward or uncomfortable\",\n",
    "            \"I don’t tend to find social situations confusing\",\n",
    "            \"Other people tell me I am good at understanding how they are feeling and what they are thinking\",\n",
    "            \"I can easily tell if someone else is interested or bored with what I am saying\",\n",
    "            \"Friends usually talk to me about their problems as they say that I am very understanding\",\n",
    "            \"I can sense if I am intruding even if the other person doesn’t tell me\",\n",
    "            \"I can tune into how someone else feels rapidly and intuitively\",\n",
    "            \"I can easily work out what another person might want to talk about\",\n",
    "            \"I can tell if someone is masking their true emotion\",\n",
    "            \"I am good at predicting what someone will do\",\n",
    "            \"I tend to get emotionally involved with a friend’s problem\"\n",
    "           ]\n",
    "\n",
    "eq_catch = [\n",
    "#     \"Please select the middle answer option\",\n",
    "    \"Please select the first answer option\",\n",
    "    \"Please select the last answer option\"\n",
    "]"
   ]
  },
  {
   "cell_type": "code",
   "execution_count": 78,
   "metadata": {},
   "outputs": [],
   "source": [
    "eq_responses = {}\n",
    "\n",
    "for i, resp in enumerate(refs_eq):\n",
    "    i_eq = []\n",
    "    if resp.to_dict() is None:\n",
    "        continue\n",
    "    for it in eq_items:\n",
    "        i_eq.append(resp.to_dict()[it])\n",
    "    for jt in eq_items_r:\n",
    "        ar = resp.to_dict()[jt]\n",
    "        ar = numexpr.evaluate(f'(7 - ar)')\n",
    "        i_eq.append(ar.item())\n",
    "    eq_responses[uuids[i]] = i_eq"
   ]
  },
  {
   "cell_type": "code",
   "execution_count": 79,
   "metadata": {},
   "outputs": [],
   "source": [
    "with open(\"fr_\"+batch+\"_eq.json\", \"w\", encoding=\"utf-8\") as f:\n",
    "    json.dump(eq_responses, f)"
   ]
  },
  {
   "cell_type": "code",
   "execution_count": 80,
   "metadata": {},
   "outputs": [],
   "source": [
    "eq_catch_resp = {}\n",
    "\n",
    "for i, resp in enumerate(refs_eq):\n",
    "    if resp.to_dict() is None:\n",
    "        continue\n",
    "    i_eq = []\n",
    "    for it in eq_catch:\n",
    "        i_eq.append(resp.to_dict()[it])\n",
    "    eq_catch_resp[uuids[i]] = i_eq"
   ]
  },
  {
   "cell_type": "code",
   "execution_count": 81,
   "metadata": {
    "scrolled": true
   },
   "outputs": [
    {
     "data": {
      "text/plain": [
       "{'5ce96c839faf7d0001daf0e6': [1, 7],\n",
       " '5c6d6d3481e1d50001627409': [1, 7],\n",
       " '5eb2e269f78ab109cca0bf0c': [1, 7],\n",
       " '61470c6545addee0f7b14363': [1, 7],\n",
       " '59430640f154200001b509d0': [1, 7],\n",
       " '60d103ca47eb561995f29b32': [1, 7],\n",
       " '600092321467ea1431ac2de9': [1, 7],\n",
       " '61243bd7b3bc114f04400657': [1, 7],\n",
       " '5eff0ccd02ed424339bf7a08': [1, 7],\n",
       " '60fd39ffad4645e77e6afdb1': [1, 7],\n",
       " '5c47408447aa7b000107b7d7': [1, 7],\n",
       " '5c7af38b670f87001746df79': [1, 7],\n",
       " '615e518ec8ce77798a747260': [1, 7],\n",
       " '6157750f00a7484cb199b40d': [1, 7],\n",
       " '583accd26ab9a70001e2b5a7': [1, 7],\n",
       " '60526004255ed4f2584df18e': [1, 7],\n",
       " '55b424e1fdf99b526efcf8d0': [1, 7]}"
      ]
     },
     "execution_count": 81,
     "metadata": {},
     "output_type": "execute_result"
    }
   ],
   "source": [
    "# check if people succeeded at all catch questions\n",
    "\n",
    "eq_catch_resp"
   ]
  },
  {
   "cell_type": "code",
   "execution_count": 82,
   "metadata": {},
   "outputs": [],
   "source": [
    "eq_score = {}\n",
    "\n",
    "for uuid in uuids:\n",
    "    resp = eq_responses[uuid]\n",
    "    eq_score[uuid] = sum(resp)/len(resp)"
   ]
  },
  {
   "cell_type": "code",
   "execution_count": 83,
   "metadata": {},
   "outputs": [],
   "source": [
    "with open(\"./data/fr/fr_\"+batch+\"_eq_score.json\", \"w\", encoding=\"utf-8\") as f:\n",
    "    json.dump(eq_score, f)"
   ]
  },
  {
   "cell_type": "code",
   "execution_count": 392,
   "metadata": {},
   "outputs": [
    {
     "data": {
      "text/plain": [
       "100"
      ]
     },
     "execution_count": 392,
     "metadata": {},
     "output_type": "execute_result"
    }
   ],
   "source": [
    "len(eq_score)"
   ]
  },
  {
   "cell_type": "code",
   "execution_count": 393,
   "metadata": {},
   "outputs": [
    {
     "data": {
      "text/plain": [
       "dict_keys(['6110e7ae08023ecb9207b05e', '5fec7577ad8fbadf15cd5607', '615f1500b60d25e2660e8644', '615ec4f34cb81d7e58fa144c', '5cd5fe480f0de600018e7251', '60f44f7a57468d4e9f87fa5b', '6160011304f5319ece189bfa', '5af196e1e1b5b8000148ac76', '6154284fc5154abb9a264b0c', '6147d726fa94eb7d5c2de156', '6160403f5164508979e6358d', '56210effed6e5a000ac7f3a5', '6156ee007bdef87eb5b4aeb0', '61085b8ec672d0e88151d5ae', '57313ba2070de6000f43384e', '615d9f86fdd5e127d783e850', '614f23537aab4e64abfd53ae', '61533356ce435e5a4a4addd0', '6152218517a89c5b41e18a06', '615f0726cbd12330a2d82556', '6169c2dc0d5361fbf96713f4', '5d8a1081323cf30001205f53', '5a455b091950a80001e7c49a', '5afc4671bb36f900018ef1fe', '6169a6bf5372000629b20879', '616d3d7cbf9e78d1a6e3219e', '61667ad3d3c29f487b65cd45', '614cd4d65c8c90077afbe40f', '616ae1d6b676edf5f6ae8351', '5f96efef011b8c01fd34a9eb', '616d2d6c9c76109cd9aa68e7', '612812ff639db35356dff7c5', '616b075e487d1ad05543166e', '613bea209464d339e18036d4', '616d50ac138442ad3ad08b0e', '614f0cfd6a0b72631a010f7a', '5962eb69241f8d0001064bd3', '61617a80475c4e619cbed83e', '616b0e47afca47d3d1a99499', '5ef7d6c359b38851de122110', '6151e17dd596caee8fc6b73c', '5efd22056ec55516587f32a6', '615630fc8d505b023ba5de4f', '5f24794d55695f0549163e86', '6168983cf2f14b393f06c50a', '616d53892b58b6e0388ab050', '5e6d395882be80000cec9f92', '616deadcefd7197b84ab677c', '616f43682df7bc3f99f95411', '614f40be2fd4052c9f0990fe', '616c96b3a5db6313464f8d8d', '6162a881b823e80dfcf94792', '605116da9a3b2d13a44665a0', '6166d329ed4a00458e660e87', '616f6a2135e569c0b4861b01', '616b05332ad106da01d79fa8', '6169d947c10b18bb9541b6d9', '5cfb74958f650700151c7df3', '6169254bcae807672de29c2d', '6110aac49542b99f9bd6c09b', '5b98d9362cca9c0001de161f', '6123d102b713b8a947fd2eb2', '6157b4423b44be8c20642f98', '5cb08ecee11a890001a478ad', '613e157ccd6af6049001ce25', '615df1b1d27e6932fca18dfa', '6160f30a9b243350dd593650', '6166208d9c58ef96862ffd1e', '6158d28aa4775c94baebd9f6', '5ea91fe115728f3d0f6b7d17', '6108a8c0d2761e50ce5e969c', '615875cd00a23fb41e865fc0', '614cca3c9f5a9e7afe6f0f49', '61702d135446e67283e058de', '61701030a25961434f04b486', '6165ce387aa2c20ac9444aab', '5ac7a7f1f69e940001d999a7', '6141eb354d3db46e3cdf8279', '617019b7cfb4582eb9443d6e', '6157f95997ae97ff4aebad7b', '61671a9d42eb53946faa44c2', '5d99898ab82ce10398fc1556', '6146feaf8805a81cdc0da120', '6164a82e96fecd05db7f6bc5', '60f9c455fbb032d20d4f88ee', '610044f2278643f23f48e7c6', '5b2caaa75b5c0900018b4724', '61560647e0454473e55326f2', '61702b890e755075af3a5423', '5d230886d7533000017a4409', '615f4e20d504f648ffd22972', '611a762ccbf4c4400be65bee', '61661cac7d3cc02b3fc1b52b', '61601bdaaac912e91c39d579', '5da78f61a60c0d0017d6ed89', '61486876563fb6bdeb777a10', '5ebaec011a7d64080694fe74', '616ec0185d61b5fa0b62b42a', '616f35805cb9047a629edb71', '61572268fe13d0e23bdc2036'])"
      ]
     },
     "execution_count": 393,
     "metadata": {},
     "output_type": "execute_result"
    }
   ],
   "source": [
    "eq_score.keys()"
   ]
  },
  {
   "cell_type": "markdown",
   "metadata": {},
   "source": [
    "### process RT honesty ratings"
   ]
  },
  {
   "cell_type": "code",
   "execution_count": 84,
   "metadata": {},
   "outputs": [
    {
     "ename": "NameError",
     "evalue": "name 'batch1' is not defined",
     "output_type": "error",
     "traceback": [
      "\u001b[1;31m---------------------------------------------------------------------------\u001b[0m",
      "\u001b[1;31mNameError\u001b[0m                                 Traceback (most recent call last)",
      "\u001b[1;32m<ipython-input-84-dd0ca5ba11f0>\u001b[0m in \u001b[0;36m<module>\u001b[1;34m\u001b[0m\n\u001b[1;32m----> 1\u001b[1;33m \u001b[1;33m[\u001b[0m\u001b[0mRT_hr\u001b[0m\u001b[1;33m[\u001b[0m\u001b[0mrt\u001b[0m\u001b[1;33m]\u001b[0m \u001b[1;32mfor\u001b[0m \u001b[0mrt\u001b[0m \u001b[1;32min\u001b[0m \u001b[0mRT_hr\u001b[0m \u001b[1;32mif\u001b[0m \u001b[0mrt\u001b[0m \u001b[1;32mnot\u001b[0m \u001b[1;32min\u001b[0m \u001b[0mbatch1\u001b[0m\u001b[1;33m]\u001b[0m\u001b[1;33m\u001b[0m\u001b[1;33m\u001b[0m\u001b[0m\n\u001b[0m",
      "\u001b[1;32m<ipython-input-84-dd0ca5ba11f0>\u001b[0m in \u001b[0;36m<listcomp>\u001b[1;34m(.0)\u001b[0m\n\u001b[1;32m----> 1\u001b[1;33m \u001b[1;33m[\u001b[0m\u001b[0mRT_hr\u001b[0m\u001b[1;33m[\u001b[0m\u001b[0mrt\u001b[0m\u001b[1;33m]\u001b[0m \u001b[1;32mfor\u001b[0m \u001b[0mrt\u001b[0m \u001b[1;32min\u001b[0m \u001b[0mRT_hr\u001b[0m \u001b[1;32mif\u001b[0m \u001b[0mrt\u001b[0m \u001b[1;32mnot\u001b[0m \u001b[1;32min\u001b[0m \u001b[0mbatch1\u001b[0m\u001b[1;33m]\u001b[0m\u001b[1;33m\u001b[0m\u001b[1;33m\u001b[0m\u001b[0m\n\u001b[0m",
      "\u001b[1;31mNameError\u001b[0m: name 'batch1' is not defined"
     ]
    }
   ],
   "source": [
    "[RT_hr[rt] for rt in RT_hr if rt not in batch1]"
   ]
  },
  {
   "cell_type": "code",
   "execution_count": 109,
   "metadata": {},
   "outputs": [],
   "source": [
    "trials_finish_time = {}\n",
    "\n",
    "for i, uuid in enumerate(uuids):\n",
    "#     if uuid in batch1:\n",
    "#         continue\n",
    "    trials_finish_time[uuid] = refs_trials[i].to_dict()['finishTime']"
   ]
  },
  {
   "cell_type": "code",
   "execution_count": 87,
   "metadata": {},
   "outputs": [],
   "source": [
    "# for uuid in trials_finish_time:\n",
    "#     RT_hr[uuid].insert(0, trials_finish_time[uuid])"
   ]
  },
  {
   "cell_type": "code",
   "execution_count": 110,
   "metadata": {},
   "outputs": [
    {
     "data": {
      "text/plain": [
       "90"
      ]
     },
     "execution_count": 110,
     "metadata": {},
     "output_type": "execute_result"
    }
   ],
   "source": [
    "len(RT_hr['5ce96c839faf7d0001daf0e6'])"
   ]
  },
  {
   "cell_type": "code",
   "execution_count": 111,
   "metadata": {},
   "outputs": [
    {
     "data": {
      "text/plain": [
       "90"
      ]
     },
     "execution_count": 111,
     "metadata": {},
     "output_type": "execute_result"
    }
   ],
   "source": [
    "len(ts_report['5ce96c839faf7d0001daf0e6'])"
   ]
  },
  {
   "cell_type": "code",
   "execution_count": 112,
   "metadata": {
    "scrolled": true
   },
   "outputs": [
    {
     "data": {
      "text/plain": [
       "{'5ce96c839faf7d0001daf0e6': 274602.89999999106,\n",
       " '5c6d6d3481e1d50001627409': 358352.00000000006,\n",
       " '5eb2e269f78ab109cca0bf0c': 457359,\n",
       " '61470c6545addee0f7b14363': 576209.1000000238,\n",
       " '59430640f154200001b509d0': 462846.2000000477,\n",
       " '60d103ca47eb561995f29b32': 283939,\n",
       " '600092321467ea1431ac2de9': 883129,\n",
       " '61243bd7b3bc114f04400657': 436505.2000000477,\n",
       " '5eff0ccd02ed424339bf7a08': 342741,\n",
       " '60fd39ffad4645e77e6afdb1': 353861.59999996424,\n",
       " '5c47408447aa7b000107b7d7': 434852.00000000006,\n",
       " '5c7af38b670f87001746df79': 320848.1000000001,\n",
       " '615e518ec8ce77798a747260': 581565,\n",
       " '6157750f00a7484cb199b40d': 344895.9000015259,\n",
       " '583accd26ab9a70001e2b5a7': 407956.40000009537,\n",
       " '60526004255ed4f2584df18e': 484360.59999999404,\n",
       " '55b424e1fdf99b526efcf8d0': 649752.8000000045}"
      ]
     },
     "execution_count": 112,
     "metadata": {},
     "output_type": "execute_result"
    }
   ],
   "source": [
    "trials_finish_time"
   ]
  },
  {
   "cell_type": "code",
   "execution_count": 100,
   "metadata": {},
   "outputs": [
    {
     "data": {
      "text/plain": [
       "17"
      ]
     },
     "execution_count": 100,
     "metadata": {},
     "output_type": "execute_result"
    }
   ],
   "source": [
    "len(ts_report)"
   ]
  },
  {
   "cell_type": "code",
   "execution_count": 113,
   "metadata": {},
   "outputs": [],
   "source": [
    "RT_hrs = {}\n",
    "\n",
    "for uuid in uuids:\n",
    "#     if uuid in batch1:\n",
    "#         continue\n",
    "    ts_hr = RT_hr[uuid]\n",
    "    ts_rep = ts_report[uuid]\n",
    "    assert(len(ts_hr) == len(ts_rep))\n",
    "    \n",
    "    RT_hrs[uuid] = [a-b for a, b in zip(ts_hr, ts_rep)]"
   ]
  },
  {
   "cell_type": "code",
   "execution_count": 115,
   "metadata": {},
   "outputs": [],
   "source": [
    "df_RT_hr = pd.DataFrame(RT_hrs).applymap(lambda x: x-2000)"
   ]
  },
  {
   "cell_type": "code",
   "execution_count": 244,
   "metadata": {},
   "outputs": [],
   "source": [
    "batch1_hr_RTs = pd.DataFrame({rt: RT_hr[rt] for rt in RT_hr if rt in batch1})"
   ]
  },
  {
   "cell_type": "code",
   "execution_count": 246,
   "metadata": {},
   "outputs": [],
   "source": [
    "df_RT_hrs = batch1_hr_RTs.join(df_RT_hr)"
   ]
  },
  {
   "cell_type": "code",
   "execution_count": 117,
   "metadata": {},
   "outputs": [],
   "source": [
    "df_RT_hr#s.to_feather(\"./data/fr/fr_\"+batch+\"_RT_honestyratings_ms.feather\")"
   ]
  },
  {
   "cell_type": "code",
   "execution_count": 119,
   "metadata": {
    "scrolled": true
   },
   "outputs": [
    {
     "data": {
      "text/plain": [
       "5ce96c839faf7d0001daf0e6    3453.122222\n",
       "5c6d6d3481e1d50001627409    2828.322222\n",
       "5eb2e269f78ab109cca0bf0c    3357.766667\n",
       "61470c6545addee0f7b14363    4188.711111\n",
       "59430640f154200001b509d0    4512.355556\n",
       "60d103ca47eb561995f29b32    3623.422222\n",
       "600092321467ea1431ac2de9    6111.533333\n",
       "61243bd7b3bc114f04400657    3738.400000\n",
       "5eff0ccd02ed424339bf7a08    4059.288889\n",
       "60fd39ffad4645e77e6afdb1    5093.777778\n",
       "5c47408447aa7b000107b7d7    3481.777778\n",
       "5c7af38b670f87001746df79    4423.711111\n",
       "615e518ec8ce77798a747260    3349.177778\n",
       "6157750f00a7484cb199b40d    4221.944444\n",
       "583accd26ab9a70001e2b5a7    4191.533333\n",
       "60526004255ed4f2584df18e    3000.155556\n",
       "55b424e1fdf99b526efcf8d0    3482.877778\n",
       "dtype: float64"
      ]
     },
     "execution_count": 119,
     "metadata": {},
     "output_type": "execute_result"
    }
   ],
   "source": [
    "df_RT_hr.mean()"
   ]
  },
  {
   "cell_type": "code",
   "execution_count": 121,
   "metadata": {},
   "outputs": [],
   "source": [
    "dfs = []\n",
    "\n",
    "for uuid in uuids:\n",
    "    df = pd.DataFrame({\n",
    "        'PID': uuid,\n",
    "        'n_red': nreds[uuid],\n",
    "        'outcome': other_reports[uuid],\n",
    "        'col_reported': colour_report[uuid],\n",
    "        'col_picked': colour_picked[uuid],\n",
    "        'pp_lied': pp_lies[uuid],\n",
    "        'RT_rating': df_RT_hr[uuid],\n",
    "        'win_lose_tie': win_lose_tie[uuid],\n",
    "        'suspicion_rating': tmp[uuid]\n",
    "    })\n",
    "    dfs.append(df)\n",
    "    df.to_feather(\"./data/fr/fr_batch6_\"+uuid+\".feather\")"
   ]
  },
  {
   "cell_type": "code",
   "execution_count": 122,
   "metadata": {},
   "outputs": [],
   "source": [
    "dfs_long = pd.concat(dfs)"
   ]
  },
  {
   "cell_type": "code",
   "execution_count": 126,
   "metadata": {},
   "outputs": [],
   "source": [
    "dfs_long.reset_index().to_feather(\"./data/fr/fr_\"+batch+\"data_long.feather\")"
   ]
  },
  {
   "cell_type": "code",
   "execution_count": 270,
   "metadata": {},
   "outputs": [
    {
     "data": {
      "text/plain": [
       "Text(0, 0.5, 'RT rating')"
      ]
     },
     "execution_count": 270,
     "metadata": {},
     "output_type": "execute_result"
    },
    {
     "data": {
      "image/png": "[encoded data removed]",
      "text/plain": [
       "<Figure size 432x288 with 1 Axes>"
      ]
     },
     "metadata": {
      "needs_background": "light"
     },
     "output_type": "display_data"
    }
   ],
   "source": [
    "p = sns.boxplot(data=dfs_long, x='suspicion_rating', y='RT_rating')\n",
    "p.set(ylim=(0,20000))\n",
    "p.set_xlabel(\"normalised suspicion rating\")\n",
    "p.set_ylabel(\"RT rating\")"
   ]
  },
  {
   "cell_type": "code",
   "execution_count": 273,
   "metadata": {},
   "outputs": [
    {
     "data": {
      "text/plain": [
       "Text(0, 0.5, 'RT rating')"
      ]
     },
     "execution_count": 273,
     "metadata": {},
     "output_type": "execute_result"
    },
    {
     "data": {
      "image/png": "[encoded data removed]",
      "text/plain": [
       "<Figure size 432x288 with 1 Axes>"
      ]
     },
     "metadata": {
      "needs_background": "light"
     },
     "output_type": "display_data"
    }
   ],
   "source": [
    "p = sns.barplot(data=dfs_long, x='suspicion_rating', y='RT_rating')\n",
    "p.set(ylim=(0,10000))\n",
    "p.set_xlabel(\"normalised suspicion rating\")\n",
    "p.set_ylabel(\"RT rating\")"
   ]
  },
  {
   "cell_type": "code",
   "execution_count": 275,
   "metadata": {},
   "outputs": [],
   "source": [
    "exclude = [\n",
    "    \"60f44f7a57468d4e9f87fa5b\",\n",
    "\"6154284fc5154abb9a264b0c\",\n",
    "\"6160403f5164508979e6358d\",\n",
    "\"615d9f86fdd5e127d783e850\",\n",
    "\"612812ff639db35356dff7c5\",\n",
    "\"5962eb69241f8d0001064bd3\",\n",
    "\"61617a80475c4e619cbed83e\",\n",
    "\"616deadcefd7197b84ab677c\",\n",
    "\"616f43682df7bc3f99f95411\",\n",
    "\"6162a881b823e80dfcf94792\",\n",
    "\"616f6a2135e569c0b4861b01\",\n",
    "\"5cb08ecee11a890001a478ad\",\n",
    "\"5b2caaa75b5c0900018b4724\",\n",
    "\"61702b890e755075af3a5423\",\n",
    "\"616ec0185d61b5fa0b62b42a\"\n",
    "]"
   ]
  },
  {
   "cell_type": "code",
   "execution_count": 319,
   "metadata": {},
   "outputs": [],
   "source": [
    "dfs_long_clean = dfs_long[~dfs_long['PID'].isin(exclude)]"
   ]
  },
  {
   "cell_type": "code",
   "execution_count": 280,
   "metadata": {},
   "outputs": [
    {
     "data": {
      "text/plain": [
       "Text(0, 0.5, 'RT rating')"
      ]
     },
     "execution_count": 280,
     "metadata": {},
     "output_type": "execute_result"
    },
    {
     "data": {
      "image/png": "[encoded data removed]",
      "text/plain": [
       "<Figure size 432x288 with 1 Axes>"
      ]
     },
     "metadata": {
      "needs_background": "light"
     },
     "output_type": "display_data"
    }
   ],
   "source": [
    "p = sns.boxplot(data=tmp, x='suspicion_rating', y='RT_rating')\n",
    "p.set(ylim=(0,20000))\n",
    "p.set_xlabel(\"normalised suspicion rating\")\n",
    "p.set_ylabel(\"RT rating\")"
   ]
  },
  {
   "cell_type": "code",
   "execution_count": 279,
   "metadata": {},
   "outputs": [
    {
     "data": {
      "text/plain": [
       "Text(0, 0.5, 'RT rating')"
      ]
     },
     "execution_count": 279,
     "metadata": {},
     "output_type": "execute_result"
    },
    {
     "data": {
      "image/png": "[encoded data removed]",
      "text/plain": [
       "<Figure size 432x288 with 1 Axes>"
      ]
     },
     "metadata": {
      "needs_background": "light"
     },
     "output_type": "display_data"
    }
   ],
   "source": [
    "p = sns.barplot(data=tmp, x='suspicion_rating', y='RT_rating')\n",
    "p.set(ylim=(0,10000))\n",
    "p.set_xlabel(\"normalised suspicion rating\")\n",
    "p.set_ylabel(\"RT rating\")"
   ]
  },
  {
   "cell_type": "code",
   "execution_count": 284,
   "metadata": {},
   "outputs": [],
   "source": [
    "dfs_long['lied'] = dfs_long['col_picked'] != dfs_long['col_reported']"
   ]
  },
  {
   "cell_type": "code",
   "execution_count": 289,
   "metadata": {},
   "outputs": [
    {
     "data": {
      "text/plain": [
       "n_red\n",
       "1    0.085763\n",
       "2    0.156835\n",
       "3    0.181250\n",
       "4    0.234703\n",
       "5    0.273140\n",
       "6    0.325373\n",
       "Name: lied, dtype: float64"
      ]
     },
     "execution_count": 289,
     "metadata": {},
     "output_type": "execute_result"
    }
   ],
   "source": [
    "dfs_long.groupby('n_red')['lied'].mean()"
   ]
  },
  {
   "cell_type": "code",
   "execution_count": 320,
   "metadata": {},
   "outputs": [
    {
     "data": {
      "text/plain": [
       "n_red\n",
       "1    0.065979\n",
       "2    0.149153\n",
       "3    0.174927\n",
       "4    0.229759\n",
       "5    0.266738\n",
       "6    0.328543\n",
       "Name: lied, dtype: float64"
      ]
     },
     "execution_count": 320,
     "metadata": {},
     "output_type": "execute_result"
    }
   ],
   "source": [
    "dfs_long_clean.groupby('n_red')['lied'].mean()"
   ]
  },
  {
   "cell_type": "code",
   "execution_count": 301,
   "metadata": {},
   "outputs": [
    {
     "data": {
      "text/plain": [
       "n_red\n",
       "1    100\n",
       "2    218\n",
       "3    145\n",
       "4    257\n",
       "5    602\n",
       "6    763\n",
       "Name: lied, dtype: int64"
      ]
     },
     "execution_count": 301,
     "metadata": {},
     "output_type": "execute_result"
    }
   ],
   "source": [
    "dfs_long.groupby('n_red')['lied'].sum()"
   ]
  },
  {
   "cell_type": "code",
   "execution_count": 303,
   "metadata": {},
   "outputs": [
    {
     "data": {
      "text/plain": [
       "Counter({6: 2345, 4: 1095, 1: 1166, 2: 1390, 5: 2204, 3: 800})"
      ]
     },
     "execution_count": 303,
     "metadata": {},
     "output_type": "execute_result"
    }
   ],
   "source": [
    "from statistics import Counter\n",
    "\n",
    "Counter(dfs_long['n_red'])"
   ]
  },
  {
   "cell_type": "code",
   "execution_count": 311,
   "metadata": {},
   "outputs": [],
   "source": [
    "tmp = dfs_long.groupby(['PID', 'n_red'])['lied'].mean()"
   ]
  },
  {
   "cell_type": "code",
   "execution_count": 315,
   "metadata": {
    "scrolled": false
   },
   "outputs": [],
   "source": [
    "tmp.to_json(\"tmp_lie_proportion_by_nreds.json\")"
   ]
  },
  {
   "cell_type": "code",
   "execution_count": 336,
   "metadata": {},
   "outputs": [],
   "source": [
    "ntmp = dict(tmp)"
   ]
  },
  {
   "cell_type": "code",
   "execution_count": 349,
   "metadata": {},
   "outputs": [],
   "source": [
    "ttmp = pd.DataFrame(list(zip([d[0] for d in ntmp], [d[1] for d in ntmp], list(tmp))))"
   ]
  },
  {
   "cell_type": "code",
   "execution_count": 350,
   "metadata": {},
   "outputs": [],
   "source": [
    "ttmp.columns = ['PID', 'n_red', 'lie_prop']"
   ]
  },
  {
   "cell_type": "code",
   "execution_count": 356,
   "metadata": {},
   "outputs": [
    {
     "data": {
      "image/png": "[encoded data removed]",
      "text/plain": [
       "<Figure size 432x288 with 1 Axes>"
      ]
     },
     "metadata": {
      "needs_background": "light"
     },
     "output_type": "display_data"
    }
   ],
   "source": [
    "p = sns.lineplot(data=ttmp, hue='PID', x='n_red', y='lie_prop')\n",
    "p.set_xlabel(\"# red cards\")\n",
    "p.set_ylabel(\"lie proportion per subject\")\n",
    "\n",
    "p.legend_.remove()"
   ]
  },
  {
   "cell_type": "code",
   "execution_count": 357,
   "metadata": {},
   "outputs": [],
   "source": [
    "tmp = dfs_long_clean.groupby(['PID', 'n_red'])['lied'].mean()"
   ]
  },
  {
   "cell_type": "code",
   "execution_count": 358,
   "metadata": {
    "scrolled": false
   },
   "outputs": [],
   "source": [
    "tmp.to_json(\"./data/fr/fr100_lie_proportion_by_nreds_cleaned.json\")"
   ]
  },
  {
   "cell_type": "code",
   "execution_count": 359,
   "metadata": {},
   "outputs": [],
   "source": [
    "ntmp = dict(tmp)"
   ]
  },
  {
   "cell_type": "code",
   "execution_count": 360,
   "metadata": {},
   "outputs": [],
   "source": [
    "ttmp = pd.DataFrame(list(zip([d[0] for d in ntmp], [d[1] for d in ntmp], list(tmp))))"
   ]
  },
  {
   "cell_type": "code",
   "execution_count": 361,
   "metadata": {},
   "outputs": [],
   "source": [
    "ttmp.columns = ['PID', 'n_red', 'lie_prop']"
   ]
  },
  {
   "cell_type": "code",
   "execution_count": 362,
   "metadata": {},
   "outputs": [
    {
     "data": {
      "image/png": "[encoded data removed]",
      "text/plain": [
       "<Figure size 432x288 with 1 Axes>"
      ]
     },
     "metadata": {
      "needs_background": "light"
     },
     "output_type": "display_data"
    }
   ],
   "source": [
    "p = sns.lineplot(data=ttmp, hue='PID', x='n_red', y='lie_prop')\n",
    "p.set_xlabel(\"# red cards\")\n",
    "p.set_ylabel(\"lie proportion per subject\")\n",
    "\n",
    "p.legend_.remove()"
   ]
  },
  {
   "cell_type": "markdown",
   "metadata": {},
   "source": [
    "## Autism (AQ) scores"
   ]
  },
  {
   "cell_type": "code",
   "execution_count": 127,
   "metadata": {},
   "outputs": [],
   "source": [
    "with open(\"../cards-deception/cards-game/src/assets/AQ.json\", \"r\", encoding=\"utf-8\") as f:\n",
    "    aq_items = json.load(f)"
   ]
  },
  {
   "cell_type": "code",
   "execution_count": 128,
   "metadata": {},
   "outputs": [
    {
     "name": "stdout",
     "output_type": "stream",
     "text": [
      "I often notice small sounds when others do not.\n",
      "I usually concentrate more on the whole picture, rather than the small details.\n",
      "I find it easy to do more than one thing at once.\n",
      "Please select the first answer option.\n",
      "If there is an interruption, I can switch back to what I was doing very quickly.\n",
      "I find it easy to ‘read between the lines’ when someone is talking to me.\n",
      "I know how to tell if someone listening to me is getting bored.\n",
      "When I’m reading a story I find it difficult to work out the characters’ intentions.\n",
      "I like to collect information about categories of things (e.g., types of car, types of bird, types of train, types of plant, etc).\n",
      "I find it easy to work out what someone is thinking or feeling just by looking at their face.\n",
      "I find it difficult to work out people’s intentions.\n"
     ]
    }
   ],
   "source": [
    "for a in aq_items:\n",
    "    print(a['item'])"
   ]
  },
  {
   "cell_type": "code",
   "execution_count": 129,
   "metadata": {},
   "outputs": [],
   "source": [
    "catch = [\"Please select the first answer option.\"]\n",
    "\n",
    "aq_items = [\n",
    "    \"I often notice small sounds when others do not.\",\n",
    "\"When I’m reading a story I find it difficult to work out the characters’ intentions.\",\n",
    "\"I like to collect information about categories of things (e.g., types of car, types of bird, types of train, types of plant, etc).\",\n",
    "\"I find it difficult to work out people’s intentions.\"\n",
    "]\n",
    "\n",
    "aq_items_r = [\n",
    "    \"I usually concentrate more on the whole picture, rather than the small details.\",\n",
    "\"I find it easy to do more than one thing at once.\",\n",
    "    \"I find it easy to work out what someone is thinking or feeling just by looking at their face.\",\n",
    "\"If there is an interruption, I can switch back to what I was doing very quickly.\",\n",
    "\"I find it easy to ‘read between the lines’ when someone is talking to me.\",\n",
    "\"I know how to tell if someone listening to me is getting bored.\"\n",
    "]"
   ]
  },
  {
   "cell_type": "code",
   "execution_count": 130,
   "metadata": {},
   "outputs": [],
   "source": [
    "refs_aq = []\n",
    "\n",
    "for uuid in uuids:\n",
    "    refs_aq.append(subjects_ref.document(uuid).collection(u'responses').document('AQ').get())"
   ]
  },
  {
   "cell_type": "code",
   "execution_count": 131,
   "metadata": {},
   "outputs": [],
   "source": [
    "aq_responses = {}\n",
    "aq_catch = {}\n",
    "\n",
    "for i, resp in enumerate(refs_aq):\n",
    "    i_aq = []\n",
    "    if resp.to_dict() is None:\n",
    "        continue\n",
    "    for it in aq_items:\n",
    "        i_aq.append(resp.to_dict()[it])\n",
    "    for jt in aq_items_r:\n",
    "        ar = resp.to_dict()[jt]\n",
    "        ar = numexpr.evaluate(f'(5 - ar)')\n",
    "        i_aq.append(ar.item())\n",
    "    aq_responses[uuids[i]] = i_aq\n",
    "    \n",
    "    i_catch = []\n",
    "    for ti in catch:\n",
    "        i_catch.append(resp.to_dict()[ti])\n",
    "    aq_catch[uuids[i]] = i_catch"
   ]
  },
  {
   "cell_type": "code",
   "execution_count": 132,
   "metadata": {
    "scrolled": true
   },
   "outputs": [
    {
     "data": {
      "text/plain": [
       "{'5ce96c839faf7d0001daf0e6': [1, 2, 1, 3, 3, 2, 3, 3, 2, 2],\n",
       " '5c6d6d3481e1d50001627409': [1, 1, 1, 2, 1, 2, 3, 2, 2, 1],\n",
       " '5eb2e269f78ab109cca0bf0c': [3, 2, 2, 2, 3, 3, 2, 2, 2, 1],\n",
       " '61470c6545addee0f7b14363': [3, 2, 1, 2, 1, 2, 2, 3, 2, 1],\n",
       " '59430640f154200001b509d0': [1, 2, 1, 1, 1, 1, 1, 2, 1, 2],\n",
       " '60d103ca47eb561995f29b32': [3, 2, 1, 1, 3, 1, 1, 1, 1, 1],\n",
       " '600092321467ea1431ac2de9': [3, 3, 1, 2, 3, 2, 2, 3, 2, 1],\n",
       " '61243bd7b3bc114f04400657': [3, 2, 2, 3, 2, 3, 2, 2, 2, 2],\n",
       " '5eff0ccd02ed424339bf7a08': [4, 1, 2, 2, 2, 2, 2, 1, 1, 1],\n",
       " '60fd39ffad4645e77e6afdb1': [1, 3, 2, 3, 3, 3, 3, 3, 3, 2],\n",
       " '5c47408447aa7b000107b7d7': [3, 3, 2, 3, 3, 3, 3, 3, 3, 1],\n",
       " '5c7af38b670f87001746df79': [4, 2, 1, 1, 2, 3, 1, 2, 1, 2],\n",
       " '615e518ec8ce77798a747260': [3, 2, 2, 3, 1, 2, 2, 1, 2, 1],\n",
       " '6157750f00a7484cb199b40d': [4, 2, 2, 2, 3, 3, 1, 4, 2, 1],\n",
       " '583accd26ab9a70001e2b5a7': [3, 2, 2, 2, 1, 2, 3, 1, 2, 1],\n",
       " '60526004255ed4f2584df18e': [2, 2, 3, 3, 2, 2, 3, 3, 3, 2],\n",
       " '55b424e1fdf99b526efcf8d0': [2, 1, 4, 2, 2, 2, 2, 1, 2, 1]}"
      ]
     },
     "execution_count": 132,
     "metadata": {},
     "output_type": "execute_result"
    }
   ],
   "source": [
    "aq_responses"
   ]
  },
  {
   "cell_type": "code",
   "execution_count": 133,
   "metadata": {
    "scrolled": true
   },
   "outputs": [
    {
     "name": "stdout",
     "output_type": "stream",
     "text": [
      "0.4\n",
      "0.1\n",
      "0.3\n",
      "0.2\n",
      "0.0\n",
      "0.2\n",
      "0.4\n",
      "0.3\n",
      "0.1\n",
      "0.7\n",
      "0.8\n",
      "0.2\n",
      "0.2\n",
      "0.4\n",
      "0.2\n",
      "0.5\n",
      "0.1\n"
     ]
    }
   ],
   "source": [
    "aq_score = {}\n",
    "\n",
    "for uuid in uuids:\n",
    "    r = aq_responses[uuid]\n",
    "    bin_r = [1 if v>2 else 0 for v in r]\n",
    "    sr = sum(bin_r)\n",
    "    print(sr/len(r))\n",
    "    aq_score[uuid] = sr/len(r)"
   ]
  },
  {
   "cell_type": "code",
   "execution_count": 134,
   "metadata": {
    "scrolled": true
   },
   "outputs": [
    {
     "data": {
      "text/plain": [
       "{'5ce96c839faf7d0001daf0e6': [1],\n",
       " '5c6d6d3481e1d50001627409': [1],\n",
       " '5eb2e269f78ab109cca0bf0c': [1],\n",
       " '61470c6545addee0f7b14363': [1],\n",
       " '59430640f154200001b509d0': [1],\n",
       " '60d103ca47eb561995f29b32': [1],\n",
       " '600092321467ea1431ac2de9': [1],\n",
       " '61243bd7b3bc114f04400657': [1],\n",
       " '5eff0ccd02ed424339bf7a08': [1],\n",
       " '60fd39ffad4645e77e6afdb1': [1],\n",
       " '5c47408447aa7b000107b7d7': [1],\n",
       " '5c7af38b670f87001746df79': [1],\n",
       " '615e518ec8ce77798a747260': [1],\n",
       " '6157750f00a7484cb199b40d': [1],\n",
       " '583accd26ab9a70001e2b5a7': [1],\n",
       " '60526004255ed4f2584df18e': [1],\n",
       " '55b424e1fdf99b526efcf8d0': [1]}"
      ]
     },
     "execution_count": 134,
     "metadata": {},
     "output_type": "execute_result"
    }
   ],
   "source": [
    "aq_catch"
   ]
  },
  {
   "cell_type": "code",
   "execution_count": 136,
   "metadata": {},
   "outputs": [],
   "source": [
    "with open(\"./data/fr/fr_\"+batch+\"_aq.json\", \"w\", encoding=\"utf-8\") as f:\n",
    "    json.dump(aq_responses, f)"
   ]
  },
  {
   "cell_type": "code",
   "execution_count": 137,
   "metadata": {},
   "outputs": [],
   "source": [
    "with open(\"./data/fr/fr_\"+batch+\"_aq_score.json\", \"w\", encoding=\"utf-8\") as f:\n",
    "    json.dump(aq_score, f)"
   ]
  },
  {
   "cell_type": "markdown",
   "metadata": {},
   "source": [
    "## CRT scores"
   ]
  },
  {
   "cell_type": "code",
   "execution_count": 138,
   "metadata": {},
   "outputs": [],
   "source": [
    "refs_crt = []\n",
    "\n",
    "for uuid in uuids:\n",
    "    refs_crt.append(subjects_ref.document(uuid).collection(u'responses').document('CRT').get())"
   ]
  },
  {
   "cell_type": "code",
   "execution_count": 139,
   "metadata": {
    "scrolled": true
   },
   "outputs": [
    {
     "name": "stdout",
     "output_type": "stream",
     "text": [
      "{'crt2': '5', 'crt4': '2', 'crt1': '10', 'crt3': '47'}\n",
      "{'crt4': 'second ', 'crt1': '10', 'crt2': '20', 'crt3': '12'}\n",
      "{'crt1': '5', 'crt2': '5', 'crt3': '24', 'crt4': 'first'}\n",
      "{'crt2': '20', 'crt4': 'second', 'crt3': '24', 'crt1': '10'}\n",
      "{'crt4': '2', 'crt2': '5', 'crt1': '10', 'crt3': '24'}\n",
      "{'crt1': '10', 'crt2': '20', 'crt3': '47', 'crt4': '2'}\n",
      "{'crt3': '47', 'crt2': '5', 'crt1': '5', 'crt4': '2nd'}\n",
      "{'crt3': '24', 'crt2': '100', 'crt4': 'second', 'crt1': '10'}\n",
      "{'crt1': '5', 'crt3': '47', 'crt2': '5', 'crt4': '2nd'}\n",
      "{'crt3': '47', 'crt1': '5', 'crt4': '2', 'crt2': '5'}\n",
      "{'crt2': '100', 'crt1': '10', 'crt4': '2nd', 'crt3': '47'}\n",
      "{'crt1': '10', 'crt2': '50', 'crt4': '1st', 'crt3': '24'}\n",
      "{'crt1': '0.5', 'crt2': '5', 'crt3': '47', 'crt4': '2nd'}\n",
      "{'crt2': '5', 'crt3': '47', 'crt1': '10', 'crt4': '2'}\n",
      "{'crt2': '100', 'crt4': '2', 'crt1': '10', 'crt3': '47'}\n",
      "{'crt3': '47', 'crt1': '5', 'crt4': 'second', 'crt2': '5'}\n",
      "{'crt2': '100', 'crt4': '2', 'crt3': '47', 'crt1': '10'}\n"
     ]
    }
   ],
   "source": [
    "crt_responses = {}\n",
    "\n",
    "for i, refs in enumerate(refs_crt):\n",
    "    print(refs.to_dict())\n",
    "    score = 0\n",
    "    \n",
    "    crt1 = refs.to_dict()['crt1']\n",
    "    if str(5) in crt1:\n",
    "        score += 1\n",
    "    \n",
    "    crt2 = refs.to_dict()['crt2']\n",
    "    if crt2 == '5':\n",
    "        score += 1\n",
    "    \n",
    "    crt3 = refs.to_dict()['crt3']\n",
    "    if crt3 == '47':\n",
    "        score += 1\n",
    "    \n",
    "    crt4 = refs.to_dict()['crt4']\n",
    "    if ('2' in crt4) | ('second' in crt4):\n",
    "        score += 1\n",
    "    \n",
    "    crt_responses[uuids[i]] = score"
   ]
  },
  {
   "cell_type": "code",
   "execution_count": 140,
   "metadata": {
    "scrolled": true
   },
   "outputs": [
    {
     "data": {
      "text/plain": [
       "17"
      ]
     },
     "execution_count": 140,
     "metadata": {},
     "output_type": "execute_result"
    }
   ],
   "source": [
    "len(crt_responses)"
   ]
  },
  {
   "cell_type": "code",
   "execution_count": 141,
   "metadata": {},
   "outputs": [],
   "source": [
    "with open(\"fr_\"+batch+\"_crt.json\", \"w\", encoding=\"utf-8\") as f:\n",
    "    json.dump(crt_responses, f)"
   ]
  },
  {
   "cell_type": "code",
   "execution_count": 142,
   "metadata": {},
   "outputs": [],
   "source": [
    "tmp_crt = []\n",
    "for uuid in uuids:\n",
    "    tmp_crt.append(crt_responses[uuid])"
   ]
  },
  {
   "cell_type": "code",
   "execution_count": 143,
   "metadata": {},
   "outputs": [
    {
     "data": {
      "text/plain": [
       "Counter({3: 2, 1: 3, 2: 6, 4: 5, 0: 1})"
      ]
     },
     "execution_count": 143,
     "metadata": {},
     "output_type": "execute_result"
    }
   ],
   "source": [
    "Counter(tmp_crt)"
   ]
  },
  {
   "cell_type": "markdown",
   "metadata": {},
   "source": [
    "## R-GPTS paranoia scores"
   ]
  },
  {
   "cell_type": "code",
   "execution_count": 144,
   "metadata": {},
   "outputs": [],
   "source": [
    "with open(\"../cards-deception/cards-game/src/assets/RGPTS.json\", \"r\", encoding=\"utf-8\") as f:\n",
    "    rgpts_items = json.load(f)"
   ]
  },
  {
   "cell_type": "code",
   "execution_count": 145,
   "metadata": {},
   "outputs": [
    {
     "name": "stdout",
     "output_type": "stream",
     "text": [
      "I spent time thinking about friends gossiping about me.\n",
      "I often heard people referring to me.\n",
      "I have been upset by friends and colleagues judging me critically.\n",
      "People definitely laughed at me behind my back.\n",
      "I have been thinking a lot about people avoiding me.\n",
      "People have been dropping hints for me.\n",
      "I believed that certain people were not what they seemed.\n",
      "Please select the last answer option.\n",
      "People talking about me behind my back upset me.\n",
      "Certain individuals have had it in for me.\n",
      "People wanted me to feel threatened, so they stared at me.\n",
      "I was certain people did things in order to annoy me.\n",
      "Please select the second answer option.\n",
      "I was convinced there was a conspiracy against me.\n",
      "I was sure someone wanted to hurt me.\n",
      "I couldn’t stop thinking about people wanting to confuse me.\n",
      "I was distressed by being persecuted.\n",
      "It was difficult to stop thinking about people wanting to make me feel bad.\n",
      "People have been hostile towards me on purpose.\n",
      "I was angry that someone wanted to hurt me.\n"
     ]
    }
   ],
   "source": [
    "for a in rgpts_items:\n",
    "    print(a['item'])"
   ]
  },
  {
   "cell_type": "code",
   "execution_count": 146,
   "metadata": {},
   "outputs": [],
   "source": [
    "rgpts_items = [\n",
    "    \"I spent time thinking about friends gossiping about me.\",\n",
    "\"I often heard people referring to me.\",\n",
    "\"I have been upset by friends and colleagues judging me critically.\",\n",
    "\"People definitely laughed at me behind my back.\",\n",
    "\"I have been thinking a lot about people avoiding me.\",\n",
    "\"People have been dropping hints for me.\",\n",
    "\"I believed that certain people were not what they seemed.\",\n",
    "\"People talking about me behind my back upset me.\",\n",
    "\"Certain individuals have had it in for me.\",\n",
    "\"People wanted me to feel threatened, so they stared at me.\",\n",
    "\"I was certain people did things in order to annoy me.\",\n",
    "\"I was convinced there was a conspiracy against me.\",\n",
    "\"I was sure someone wanted to hurt me.\",\n",
    "\"I couldn’t stop thinking about people wanting to confuse me.\",\n",
    "\"I was distressed by being persecuted.\",\n",
    "\"It was difficult to stop thinking about people wanting to make me feel bad.\",\n",
    "\"People have been hostile towards me on purpose.\",\n",
    "\"I was angry that someone wanted to hurt me.\"\n",
    "]\n",
    "\n",
    "catch = [\n",
    "    \"Please select the last answer option.\",\n",
    "    \"Please select the second answer option.\"\n",
    "]"
   ]
  },
  {
   "cell_type": "code",
   "execution_count": 147,
   "metadata": {},
   "outputs": [],
   "source": [
    "refs_rgpts = []\n",
    "\n",
    "for uuid in uuids:\n",
    "    refs_rgpts.append(subjects_ref.document(uuid).collection(u'responses').document('RGPTS').get())"
   ]
  },
  {
   "cell_type": "code",
   "execution_count": 148,
   "metadata": {},
   "outputs": [
    {
     "data": {
      "text/plain": [
       "18"
      ]
     },
     "execution_count": 148,
     "metadata": {},
     "output_type": "execute_result"
    }
   ],
   "source": [
    "len(rgpts_items)"
   ]
  },
  {
   "cell_type": "code",
   "execution_count": 149,
   "metadata": {
    "scrolled": true
   },
   "outputs": [
    {
     "name": "stdout",
     "output_type": "stream",
     "text": [
      "0\n",
      "1\n",
      "2\n",
      "3\n",
      "4\n",
      "5\n",
      "6\n",
      "7\n",
      "8\n",
      "9\n",
      "10\n",
      "11\n",
      "12\n",
      "13\n",
      "14\n",
      "15\n",
      "16\n"
     ]
    }
   ],
   "source": [
    "rgpts_responses = {}\n",
    "rgpts_catch = {}\n",
    "\n",
    "for i, resp in enumerate(refs_rgpts):\n",
    "    print(i)\n",
    "    if resp.to_dict() is None:\n",
    "            continue\n",
    "            \n",
    "    try:\n",
    "        i_rgpts = []\n",
    "        for it in rgpts_items:\n",
    "            i_rgpts.append(resp.to_dict()[it])\n",
    "        rgpts_responses[uuids[i]] = i_rgpts\n",
    "    \n",
    "        i_catch = []\n",
    "        for ti in catch:\n",
    "            i_catch.append(resp.to_dict()[ti])\n",
    "        rgpts_catch[uuids[i]] = i_catch\n",
    "    \n",
    "    except KeyError:\n",
    "        print(\"KEY ERROR\")\n",
    "        continue"
   ]
  },
  {
   "cell_type": "code",
   "execution_count": 150,
   "metadata": {
    "scrolled": true
   },
   "outputs": [
    {
     "data": {
      "text/plain": [
       "{'5ce96c839faf7d0001daf0e6': [4, 1],\n",
       " '5c6d6d3481e1d50001627409': [4, 1],\n",
       " '5eb2e269f78ab109cca0bf0c': [4, 1],\n",
       " '61470c6545addee0f7b14363': [4, 1],\n",
       " '59430640f154200001b509d0': [4, 1],\n",
       " '60d103ca47eb561995f29b32': [4, 1],\n",
       " '600092321467ea1431ac2de9': [4, 1],\n",
       " '61243bd7b3bc114f04400657': [4, 1],\n",
       " '5eff0ccd02ed424339bf7a08': [4, 1],\n",
       " '60fd39ffad4645e77e6afdb1': [4, 1],\n",
       " '5c47408447aa7b000107b7d7': [4, 1],\n",
       " '5c7af38b670f87001746df79': [4, 1],\n",
       " '615e518ec8ce77798a747260': [4, 1],\n",
       " '6157750f00a7484cb199b40d': [4, 1],\n",
       " '583accd26ab9a70001e2b5a7': [4, 1],\n",
       " '60526004255ed4f2584df18e': [4, 1],\n",
       " '55b424e1fdf99b526efcf8d0': [4, 1]}"
      ]
     },
     "execution_count": 150,
     "metadata": {},
     "output_type": "execute_result"
    }
   ],
   "source": [
    "rgpts_catch"
   ]
  },
  {
   "cell_type": "code",
   "execution_count": 151,
   "metadata": {},
   "outputs": [
    {
     "data": {
      "text/plain": [
       "17"
      ]
     },
     "execution_count": 151,
     "metadata": {},
     "output_type": "execute_result"
    }
   ],
   "source": [
    "len(rgpts_responses)"
   ]
  },
  {
   "cell_type": "code",
   "execution_count": 152,
   "metadata": {},
   "outputs": [],
   "source": [
    "with open(\"./data/fr/fr_\"+batch+\"_rgpts.json\", \"w\", encoding=\"utf-8\") as f:\n",
    "    json.dump(rgpts_responses, f)"
   ]
  },
  {
   "cell_type": "markdown",
   "metadata": {},
   "source": [
    "## Dark triad (SD3) scores"
   ]
  },
  {
   "cell_type": "code",
   "execution_count": 132,
   "metadata": {},
   "outputs": [],
   "source": [
    "with open(\"../cards-deception/cards-game/src/assets/SD3.json\", \"r\", encoding=\"utf-8\") as f:\n",
    "    sd3_items = json.load(f)"
   ]
  },
  {
   "cell_type": "code",
   "execution_count": 133,
   "metadata": {},
   "outputs": [
    {
     "name": "stdout",
     "output_type": "stream",
     "text": [
      "It’s not wise to tell your secrets.\n",
      "I like to use clever manipulation to get my way.\n",
      "Whatever it takes, you must get the important people on your side.\n",
      "Please select the third answer option.\n",
      "Avoid direct conflict with others because they may be useful in the future.\n",
      "It’s wise to keep track of information that you can use against people later.\n",
      "You should wait for the right time to get back at people.\n",
      "There are things you should hide from other people to preserve your reputation.\n",
      "Make sure your plans benefit yourself, not others.\n",
      "Most people can be manipulated.\n",
      "People see me as a natural leader.\n",
      "I hate being the center of attention.\n",
      "Many group activities tend to be dull without me.\n",
      "I know that I am special because everyone keeps telling me so.\n",
      "I like to get acquainted with important people.\n",
      "I feel embarrassed if someone compliments me.\n",
      "I have been compared to famous people.\n",
      "I am an average person.\n",
      "I insist on getting the respect I deserve.\n",
      "I like to get revenge on authorities.\n",
      "Please select the last answer option.\n",
      "I avoid dangerous situations.\n",
      "Payback needs to be quick and nasty.\n",
      "People often say I’m out of control.\n",
      "It’s true that I can be mean to others.\n",
      "People who mess with me always regret it\n",
      "I have never gotten into trouble with the law.\n",
      "I enjoy having sex with people I hardly know.\n",
      "I’ll say anything to get what I want.\n"
     ]
    }
   ],
   "source": [
    "for i in sd3_items:\n",
    "    print(i['item'])"
   ]
  },
  {
   "cell_type": "code",
   "execution_count": 138,
   "metadata": {},
   "outputs": [],
   "source": [
    "psycho_r = ['I\\xa0avoid\\xa0dangerous\\xa0situations.']\n",
    "\n",
    "psycho_items = [\n",
    "    'Payback\\xa0needs\\xa0to\\xa0be\\xa0quick\\xa0and\\xa0nasty.',\n",
    " 'I\\xa0like\\xa0to\\xa0get\\xa0revenge\\xa0on\\xa0authorities.',\n",
    "     'I\\xa0insist\\xa0on\\xa0getting\\xa0the\\xa0respect\\xa0I\\xa0deserve.',\n",
    "     'People\\xa0often\\xa0say\\xa0I’m\\xa0out\\xa0of\\xa0control.',\n",
    "     'People\\xa0who\\xa0mess\\xa0with\\xa0me\\xa0always\\xa0regret\\xa0it',\n",
    "     'It’s\\xa0true\\xa0that\\xa0I\\xa0can\\xa0be\\xa0mean\\xa0to\\xa0others.',\n",
    "    #     \"I have never gotten into trouble with the law.\",\n",
    "# \"I enjoy having sex with people I hardly know.\",\n",
    "# \"I’ll say anything to get what I want.\"\n",
    "]\n",
    "\n",
    "narcis_items = [\n",
    "     'I\\xa0hate\\xa0being\\xa0the\\xa0center\\xa0of\\xa0attention.',\n",
    "         'I\\xa0have\\xa0been\\xa0compared\\xa0to\\xa0famous\\xa0people.',\n",
    "    'I\\xa0like\\xa0to\\xa0get\\xa0acquainted\\xa0with\\xa0important\\xa0people.',\n",
    "     'Many\\xa0group\\xa0activities\\xa0tend\\xa0to\\xa0be\\xa0dull\\xa0without\\xa0me.',\n",
    "     'I\\xa0know\\xa0that\\xa0I\\xa0am\\xa0special\\xa0because\\xa0everyone\\xa0keeps\\xa0telling\\xa0me\\xa0so.',\n",
    "     'People\\xa0see\\xa0me\\xa0as\\xa0a\\xa0natural\\xa0leader.',\n",
    "\n",
    "]\n",
    "\n",
    "narcis_r = [\n",
    "     'I\\xa0feel\\xa0embarrassed\\xa0if\\xa0someone\\xa0compliments\\xa0me.',\n",
    "    'I\\xa0am\\xa0an\\xa0average\\xa0person.'\n",
    "]\n",
    "\n",
    "machia_items = [\n",
    "    'It’s\\xa0wise\\xa0to\\xa0keep\\xa0track\\xa0of\\xa0information\\xa0that\\xa0you\\xa0can\\xa0use\\xa0against\\xa0people\\xa0later.',\n",
    "     'Avoid\\xa0direct\\xa0conflict\\xa0with\\xa0others\\xa0because\\xa0they\\xa0may\\xa0be\\xa0useful\\xa0in\\xa0the\\xa0future.',\n",
    "    'You\\xa0should\\xa0wait\\xa0for\\xa0the\\xa0right\\xa0time\\xa0to\\xa0get\\xa0back\\xa0at\\xa0people.',\n",
    "     'There\\xa0are\\xa0things\\xa0you\\xa0should\\xa0hide\\xa0from\\xa0other\\xa0people\\xa0to\\xa0preserve\\xa0your\\xa0reputation.',\n",
    " 'Whatever\\xa0it\\xa0takes,\\xa0you\\xa0must\\xa0get\\xa0the\\xa0important\\xa0people\\xa0on\\xa0your\\xa0side.',\n",
    "    'It’s\\xa0not\\xa0wise\\xa0to\\xa0tell\\xa0your\\xa0secrets.',\n",
    "     'Make\\xa0sure\\xa0your\\xa0plans\\xa0benefit\\xa0yourself,\\xa0not\\xa0others.',\n",
    "     'Most\\xa0people\\xa0can\\xa0be\\xa0manipulated.',\n",
    "     'I\\xa0like\\xa0to\\xa0use\\xa0clever\\xa0manipulation\\xa0to\\xa0get\\xa0my\\xa0way.'\n",
    "]\n",
    "\n",
    "catch = [\"Please select the third answer option.\",\n",
    "        \"Please select the last answer option.\"]"
   ]
  },
  {
   "cell_type": "code",
   "execution_count": null,
   "metadata": {},
   "outputs": [],
   "source": [
    "# machia_items = [\n",
    "#     \"It’s not wise to tell your secrets.\",\n",
    "# \"I like to use clever manipulation to get my way.\",\n",
    "# \"Whatever it takes, you must get the important people on your side.\",\n",
    "# \"Avoid direct conflict with others because they may be useful in the future.\",\n",
    "# \"It’s wise to keep track of information that you can use against people later.\",\n",
    "# \"You should wait for the right time to get back at people.\",\n",
    "# \"There are things you should hide from other people to preserve your reputation.\",\n",
    "#     \"Make sure your plans benefit yourself, not others.\",\n",
    "# \"Most people can be manipulated.\"\n",
    "# ]\n",
    "\n",
    "# narcis_items = [\n",
    "# \"People see me as a natural leader.\",\n",
    "# \"I hate being the center of attention.\",\n",
    "# \"Many group activities tend to be dull without me.\",\n",
    "# \"I know that I am special because everyone keeps telling me so.\",\n",
    "# \"I like to get acquainted with important people.\",\n",
    "# \"I have been compared to famous people.\",\n",
    "#     \"I insist on getting the respect I deserve.\"\n",
    "# ]\n",
    "\n",
    "# narcis_r = [\n",
    "#     \"I feel embarrassed if someone compliments me.\",\n",
    "#     \"I am an average person.\"\n",
    "# ]\n",
    "\n",
    "# psycho_items = [\n",
    "# \"I like to get revenge on authorities.\",\n",
    "# \"Payback needs to be quick and nasty.\",\n",
    "# \"People often say I’m out of control.\",\n",
    "# \"It’s true that I can be mean to others.\",\n",
    "# \"People who mess with me always regret it.\",\n",
    "#     \"I have never gotten into trouble with the law.\",\n",
    "# \"I enjoy having sex with people I hardly know.\",\n",
    "# \"I’ll say anything to get what I want.\"\n",
    "# ]\n",
    "# psycho_r = [\"I avoid dangerous situations.\"]"
   ]
  },
  {
   "cell_type": "code",
   "execution_count": 135,
   "metadata": {},
   "outputs": [
    {
     "data": {
      "text/plain": [
       "9"
      ]
     },
     "execution_count": 135,
     "metadata": {},
     "output_type": "execute_result"
    }
   ],
   "source": [
    "len(machia_items)"
   ]
  },
  {
   "cell_type": "code",
   "execution_count": 136,
   "metadata": {},
   "outputs": [],
   "source": [
    "refs_sd3 = []\n",
    "\n",
    "for uuid in uuids:\n",
    "    refs_sd3.append(subjects_ref.document(uuid).collection(u'responses').document('SD3').get())"
   ]
  },
  {
   "cell_type": "code",
   "execution_count": 139,
   "metadata": {},
   "outputs": [],
   "source": [
    "narcis_responses = {}\n",
    "machia_responses = {}\n",
    "psychop_responses = {}\n",
    "sd3_catch = {}\n",
    "\n",
    "for i, resp in enumerate(refs_sd3):\n",
    "    i_narcis = []\n",
    "    i_psycho = []\n",
    "    \n",
    "    if resp.to_dict() is None:\n",
    "        continue\n",
    "    \n",
    "    try:\n",
    "        i_machia = []\n",
    "        for mt in machia_items:\n",
    "            i_machia.append(resp.to_dict()[mt])\n",
    "        machia_responses[uuids[i]] = i_machia\n",
    "    except KeyError:\n",
    "        print(\"KEYERROR\")\n",
    "        continue\n",
    "        \n",
    "    for it in narcis_items:\n",
    "        i_narcis.append(resp.to_dict()[it])\n",
    "    for jt in narcis_r:\n",
    "        ar = resp.to_dict()[jt]\n",
    "        ar = numexpr.evaluate(f'(6 - ar)')\n",
    "        i_narcis.append(ar.item())\n",
    "    narcis_responses[uuids[i]] = i_narcis\n",
    "\n",
    "    for pt in psycho_items:\n",
    "        i_psycho.append(resp.to_dict()[pt])\n",
    "    for rt in psycho_r:\n",
    "        ar = resp.to_dict()[rt]\n",
    "        ar = numexpr.evaluate(f'(6 - ar)')\n",
    "        i_psycho.append(ar.item())\n",
    "    psychop_responses[uuids[i]] = i_psycho\n",
    "    \n",
    "    i_catch = []\n",
    "    for ci in catch:\n",
    "        i_catch.append(resp.to_dict()[ci])\n",
    "    sd3_catch[uuids[i]] = i_catch"
   ]
  },
  {
   "cell_type": "code",
   "execution_count": 140,
   "metadata": {},
   "outputs": [
    {
     "data": {
      "text/plain": [
       "{'6110e7ae08023ecb9207b05e': [4, 2, 2, 4, 3, 5, 5, 5, 3],\n",
       " '5fec7577ad8fbadf15cd5607': [1, 3, 1, 2, 3, 4, 2, 3, 2],\n",
       " '615f1500b60d25e2660e8644': [2, 4, 2, 4, 3, 5, 2, 4, 1],\n",
       " '615ec4f34cb81d7e58fa144c': [1, 4, 1, 3, 3, 4, 1, 3, 1],\n",
       " '5cd5fe480f0de600018e7251': [4, 3, 3, 2, 3, 4, 3, 4, 3],\n",
       " '60f44f7a57468d4e9f87fa5b': [2, 5, 2, 2, 3, 2, 2, 4, 2],\n",
       " '6160011304f5319ece189bfa': [2, 2, 3, 2, 2, 4, 3, 2, 2],\n",
       " '5af196e1e1b5b8000148ac76': [2, 4, 3, 4, 4, 4, 2, 4, 3],\n",
       " '6154284fc5154abb9a264b0c': [4, 4, 4, 4, 3, 5, 2, 4, 2],\n",
       " '6147d726fa94eb7d5c2de156': [4, 2, 1, 3, 2, 4, 3, 5, 4],\n",
       " '6160403f5164508979e6358d': [2, 4, 4, 4, 2, 4, 3, 5, 1],\n",
       " '56210effed6e5a000ac7f3a5': [3, 2, 4, 2, 5, 5, 2, 5, 4],\n",
       " '6156ee007bdef87eb5b4aeb0': [4, 3, 2, 4, 2, 2, 2, 5, 3],\n",
       " '61085b8ec672d0e88151d5ae': [2, 3, 1, 3, 2, 4, 2, 5, 5],\n",
       " '57313ba2070de6000f43384e': [2, 3, 3, 4, 4, 4, 3, 5, 2],\n",
       " '615d9f86fdd5e127d783e850': [1, 4, 1, 1, 1, 2, 1, 1, 1],\n",
       " '614f23537aab4e64abfd53ae': [3, 3, 3, 3, 4, 3, 3, 4, 3],\n",
       " '61533356ce435e5a4a4addd0': [2, 4, 2, 2, 5, 4, 3, 4, 2],\n",
       " '6152218517a89c5b41e18a06': [3, 3, 4, 5, 4, 5, 2, 3, 3],\n",
       " '615f0726cbd12330a2d82556': [1, 4, 4, 5, 3, 1, 3, 5, 2]}"
      ]
     },
     "execution_count": 140,
     "metadata": {},
     "output_type": "execute_result"
    }
   ],
   "source": [
    "machia_responses"
   ]
  },
  {
   "cell_type": "code",
   "execution_count": 188,
   "metadata": {},
   "outputs": [
    {
     "data": {
      "text/plain": [
       "{'6110e7ae08023ecb9207b05e': [3, 5],\n",
       " '5fec7577ad8fbadf15cd5607': [3, 5],\n",
       " '615f1500b60d25e2660e8644': [3, 5],\n",
       " '615ec4f34cb81d7e58fa144c': [3, 5],\n",
       " '5cd5fe480f0de600018e7251': [3, 5],\n",
       " '60f44f7a57468d4e9f87fa5b': [3, 4],\n",
       " '6160011304f5319ece189bfa': [3, 5],\n",
       " '5af196e1e1b5b8000148ac76': [3, 5],\n",
       " '6154284fc5154abb9a264b0c': [3, 5],\n",
       " '6147d726fa94eb7d5c2de156': [3, 5],\n",
       " '6160403f5164508979e6358d': [3, 5],\n",
       " '56210effed6e5a000ac7f3a5': [3, 5],\n",
       " '6156ee007bdef87eb5b4aeb0': [3, 5],\n",
       " '61085b8ec672d0e88151d5ae': [3, 5],\n",
       " '57313ba2070de6000f43384e': [3, 5],\n",
       " '615d9f86fdd5e127d783e850': [3, 5],\n",
       " '614f23537aab4e64abfd53ae': [3, 5],\n",
       " '61533356ce435e5a4a4addd0': [3, 5],\n",
       " '6152218517a89c5b41e18a06': [3, 5],\n",
       " '615f0726cbd12330a2d82556': [3, 5]}"
      ]
     },
     "execution_count": 188,
     "metadata": {},
     "output_type": "execute_result"
    }
   ],
   "source": [
    "sd3_catch"
   ]
  },
  {
   "cell_type": "code",
   "execution_count": 141,
   "metadata": {},
   "outputs": [],
   "source": [
    "with open(\"fr_batch1_sd3_narcis.json\", \"w\", encoding=\"utf-8\") as f:\n",
    "    json.dump(narcis_responses, f)"
   ]
  },
  {
   "cell_type": "code",
   "execution_count": 142,
   "metadata": {},
   "outputs": [],
   "source": [
    "with open(\"fr_batch1_sd3_machia.json\", \"w\", encoding=\"utf-8\") as f:\n",
    "    json.dump(machia_responses, f)"
   ]
  },
  {
   "cell_type": "code",
   "execution_count": 143,
   "metadata": {},
   "outputs": [],
   "source": [
    "with open(\"fr_batch1_sd3_psycho.json\", \"w\", encoding=\"utf-8\") as f:\n",
    "    json.dump(psychop_responses, f)"
   ]
  },
  {
   "cell_type": "markdown",
   "metadata": {},
   "source": [
    "### inspect feedback and debrief question responses"
   ]
  },
  {
   "cell_type": "code",
   "execution_count": 153,
   "metadata": {},
   "outputs": [],
   "source": [
    "refs_feedback = []\n",
    "\n",
    "for uuid in uuids:\n",
    "    refs_feedback.append(subjects_ref.document(uuid).collection(u'responses').document('feedback').get())"
   ]
  },
  {
   "cell_type": "code",
   "execution_count": 154,
   "metadata": {},
   "outputs": [
    {
     "name": "stdout",
     "output_type": "stream",
     "text": [
      "5ce96c839faf7d0001daf0e6 To measure concentration and see whether participants will try to beat the system if unmonitored (e.g. always select blue card to win)\n",
      "5c6d6d3481e1d50001627409 to see how truthful we can be when money is involved and how to interpret someone else \n",
      "5eb2e269f78ab109cca0bf0c To study how the perception of 'honesty' changed depending on observable patterns of behavior in a card game where there was a benefit to being the only one to choose the 'right answer'. It's also to examine how this then relates back to the individuals' personality and their recent negative experiences of deception in real life.\n",
      "61470c6545addee0f7b14363 To understand different types of people and their perception on honesty\n",
      "59430640f154200001b509d0 im not sure\n",
      "60d103ca47eb561995f29b32 predicting probability, making a judgement, trying to see patterns\n",
      "600092321467ea1431ac2de9 I don't know\n",
      "61243bd7b3bc114f04400657 I don't think another participant actually played this with me.  I believe its been set up to see how others judge honesty. \n",
      "I was honest throughout and hoped that if there was another participant they would do the same. \n",
      "5eff0ccd02ed424339bf7a08 to see if people rate the honesty of others by their own honesty?\n",
      "60fd39ffad4645e77e6afdb1 To see if people lie more to win\n",
      "5c47408447aa7b000107b7d7 to see how honest people are\n",
      "5c7af38b670f87001746df79 test perception of honesty of others\n",
      "615e518ec8ce77798a747260 To see how much we trust people without any information\n",
      "6157750f00a7484cb199b40d behaviours around winning\n",
      "583accd26ab9a70001e2b5a7 I think there was an element of an aspergers study to it but also think that an honesty perception was part of it too.\n",
      "60526004255ed4f2584df18e To see how you perceive honesty in other people's responses when points can be gained\n",
      "55b424e1fdf99b526efcf8d0 It was seeing how we trust each other.\n"
     ]
    }
   ],
   "source": [
    "for i, feedback in enumerate(refs_feedback):\n",
    "    if feedback.to_dict() is None:\n",
    "        continue\n",
    "    print(uuids[i], feedback.to_dict()['studyPurpose'])"
   ]
  },
  {
   "cell_type": "code",
   "execution_count": 155,
   "metadata": {
    "scrolled": true
   },
   "outputs": [
    {
     "name": "stdout",
     "output_type": "stream",
     "text": [
      "4\n",
      "6\n",
      "5\n",
      "4\n",
      "6\n",
      "4\n",
      "4\n",
      "6\n",
      "6\n",
      "6\n",
      "5\n",
      "4\n",
      "6\n",
      "4\n",
      "5\n",
      "5\n",
      "4\n"
     ]
    }
   ],
   "source": [
    "for i, feedback in enumerate(refs_feedback):\n",
    "    if feedback.to_dict() is None:\n",
    "        continue\n",
    "    print(feedback.to_dict()['understoodTask']) #uuids[i], "
   ]
  },
  {
   "cell_type": "code",
   "execution_count": 156,
   "metadata": {
    "scrolled": true
   },
   "outputs": [
    {
     "name": "stdout",
     "output_type": "stream",
     "text": [
      "5ce96c839faf7d0001daf0e6 Was difficult to maintain concentration as very repetitive over a long period of time - I felt as though I lapsed a couple of times. \n",
      "5c6d6d3481e1d50001627409 no\n",
      "5eb2e269f78ab109cca0bf0c N/A\n",
      "61470c6545addee0f7b14363 No Concerns\n",
      "59430640f154200001b509d0 no\n",
      "60d103ca47eb561995f29b32 no concerns, \n",
      "600092321467ea1431ac2de9 No\n",
      "61243bd7b3bc114f04400657 None \n",
      "5eff0ccd02ed424339bf7a08 no\n",
      "60fd39ffad4645e77e6afdb1 No\n",
      "5c47408447aa7b000107b7d7 no\n",
      "5c7af38b670f87001746df79 some of the attention check questions i found unclear to know which way to count from but i was paying full attention\n",
      "615e518ec8ce77798a747260 No concerns\n",
      "6157750f00a7484cb199b40d no\n",
      "583accd26ab9a70001e2b5a7 No, I didn't!\n",
      "60526004255ed4f2584df18e It seemed very one sided for me to be able to gain points\n",
      "55b424e1fdf99b526efcf8d0 No, just wondering if I was doing it right.\n"
     ]
    }
   ],
   "source": [
    "for i, feedback in enumerate(refs_feedback):\n",
    "    if feedback.to_dict() is None:\n",
    "        continue\n",
    "    print(uuids[i], feedback.to_dict()['concerns'])"
   ]
  },
  {
   "cell_type": "code",
   "execution_count": 157,
   "metadata": {},
   "outputs": [
    {
     "name": "stdout",
     "output_type": "stream",
     "text": [
      "5ce96c839faf7d0001daf0e6 To play honestly\n",
      "5c6d6d3481e1d50001627409 be honest \n",
      "5eb2e269f78ab109cca0bf0c I began by playing the game mostly honestly, mainly trying to observe what the other player was intending on doing by seeing how often they picked blue. Eventually, I became flippant and mostly just selfishly picked blue since it was often hard to judge when the other player was going to be TRULY honest or not.\n",
      "61470c6545addee0f7b14363 To work out if the other player was being honest\n",
      "59430640f154200001b509d0 to win each round\n",
      "60d103ca47eb561995f29b32 to win the round\n",
      "600092321467ea1431ac2de9 To answer the questions to the best of my ability\n",
      "61243bd7b3bc114f04400657 Just to be honest the whole way through \n",
      "5eff0ccd02ed424339bf7a08 to win the game\n",
      "60fd39ffad4645e77e6afdb1 To win even if i lied\n",
      "5c47408447aa7b000107b7d7 not to lose\n",
      "5c7af38b670f87001746df79 to win and gain more points\n",
      "615e518ec8ce77798a747260 My goal was just to play the game as instructed\n",
      "6157750f00a7484cb199b40d to win each round\n",
      "583accd26ab9a70001e2b5a7 just to be honest, I didn't think about point scoring\n",
      "60526004255ed4f2584df18e To get as many points as I could\n",
      "55b424e1fdf99b526efcf8d0 To earn more points.\n"
     ]
    }
   ],
   "source": [
    "for i, feedback in enumerate(refs_feedback):\n",
    "    if feedback.to_dict() is None:\n",
    "        continue\n",
    "    print(uuids[i], feedback.to_dict()['yourGoal'])"
   ]
  },
  {
   "cell_type": "code",
   "execution_count": 158,
   "metadata": {},
   "outputs": [
    {
     "name": "stdout",
     "output_type": "stream",
     "text": [
      "5ce96c839faf7d0001daf0e6 To play honestly\n",
      "5c6d6d3481e1d50001627409 some honest and some just to win\n",
      "5eb2e269f78ab109cca0bf0c Likely most players would attempt to be mostly honest, but occasionally lie in order to gain the upper hand while still maintaining some level of 'honesty' in their behavior.\n",
      "61470c6545addee0f7b14363 Some to win, some to be honest. \n",
      "59430640f154200001b509d0 to beat me\n",
      "60d103ca47eb561995f29b32 to also win the round\n",
      "600092321467ea1431ac2de9 The same as mine\n",
      "61243bd7b3bc114f04400657 I don't believe there was another player. \n",
      "5eff0ccd02ed424339bf7a08 some to win, some to be honest\n",
      "60fd39ffad4645e77e6afdb1 To be honest\n",
      "5c47408447aa7b000107b7d7 not to lose\n",
      "5c7af38b670f87001746df79 same as mine\n",
      "615e518ec8ce77798a747260 I think the first player might have lied a bit. The other one (if there were more than one) seemed to be following the instructions as well.\n",
      "6157750f00a7484cb199b40d i don't think I was playing against anyone\n",
      "583accd26ab9a70001e2b5a7 I would hope the same as mine, but you never know!\n",
      "60526004255ed4f2584df18e Maybe to report honestly what they thought I had, but not sure if they were aware of the points?\n",
      "55b424e1fdf99b526efcf8d0 To earn points mainly.\n"
     ]
    }
   ],
   "source": [
    "for i, feedback in enumerate(refs_feedback):\n",
    "    if feedback.to_dict() is None:\n",
    "        continue\n",
    "    print(uuids[i], feedback.to_dict()['othersGoal'])"
   ]
  },
  {
   "cell_type": "code",
   "execution_count": 159,
   "metadata": {
    "scrolled": true
   },
   "outputs": [
    {
     "name": "stdout",
     "output_type": "stream",
     "text": [
      "5ce96c839faf7d0001daf0e6 3\n",
      "5c6d6d3481e1d50001627409 4\n",
      "5eb2e269f78ab109cca0bf0c 4\n",
      "61470c6545addee0f7b14363 4\n",
      "59430640f154200001b509d0 4\n",
      "60d103ca47eb561995f29b32 3\n",
      "600092321467ea1431ac2de9 4\n",
      "61243bd7b3bc114f04400657 3\n",
      "5eff0ccd02ed424339bf7a08 3\n",
      "60fd39ffad4645e77e6afdb1 2\n",
      "5c47408447aa7b000107b7d7 2\n",
      "5c7af38b670f87001746df79 4\n",
      "615e518ec8ce77798a747260 3\n",
      "6157750f00a7484cb199b40d 3\n",
      "583accd26ab9a70001e2b5a7 2\n",
      "60526004255ed4f2584df18e 2\n",
      "55b424e1fdf99b526efcf8d0 4\n"
     ]
    }
   ],
   "source": [
    "for i, feedback in enumerate(refs_feedback):\n",
    "    if feedback.to_dict() is None:\n",
    "        continue\n",
    "    print(uuids[i], feedback.to_dict()['goodDetection'])"
   ]
  },
  {
   "cell_type": "code",
   "execution_count": 160,
   "metadata": {
    "scrolled": true
   },
   "outputs": [
    {
     "name": "stdout",
     "output_type": "stream",
     "text": [
      "5ce96c839faf7d0001daf0e6 6\n",
      "5c6d6d3481e1d50001627409 6\n",
      "5eb2e269f78ab109cca0bf0c 1\n",
      "61470c6545addee0f7b14363 3\n",
      "59430640f154200001b509d0 2\n",
      "60d103ca47eb561995f29b32 6\n",
      "600092321467ea1431ac2de9 6\n",
      "61243bd7b3bc114f04400657 6\n",
      "5eff0ccd02ed424339bf7a08 0\n",
      "60fd39ffad4645e77e6afdb1 0\n",
      "5c47408447aa7b000107b7d7 2\n",
      "5c7af38b670f87001746df79 0\n",
      "615e518ec8ce77798a747260 6\n",
      "6157750f00a7484cb199b40d 1\n",
      "583accd26ab9a70001e2b5a7 6\n",
      "60526004255ed4f2584df18e 1\n",
      "55b424e1fdf99b526efcf8d0 3\n"
     ]
    }
   ],
   "source": [
    "for i, feedback in enumerate(refs_feedback):\n",
    "    if feedback.to_dict() is None:\n",
    "        continue\n",
    "    print(uuids[i], feedback.to_dict()['howHonest'])"
   ]
  },
  {
   "cell_type": "code",
   "execution_count": 161,
   "metadata": {},
   "outputs": [],
   "source": [
    "howmany={}\n",
    "for i, feedback in enumerate(refs_feedback):\n",
    "    if feedback.to_dict() is None:\n",
    "        continue\n",
    "    howmany[uuids[i]] = int(feedback.to_dict()['howMany'])"
   ]
  },
  {
   "cell_type": "code",
   "execution_count": 162,
   "metadata": {
    "scrolled": true
   },
   "outputs": [
    {
     "data": {
      "text/plain": [
       "{'5ce96c839faf7d0001daf0e6': 3,\n",
       " '5c6d6d3481e1d50001627409': 3,\n",
       " '5eb2e269f78ab109cca0bf0c': 3,\n",
       " '61470c6545addee0f7b14363': 3,\n",
       " '59430640f154200001b509d0': 2,\n",
       " '60d103ca47eb561995f29b32': 3,\n",
       " '600092321467ea1431ac2de9': 45,\n",
       " '61243bd7b3bc114f04400657': 0,\n",
       " '5eff0ccd02ed424339bf7a08': 10,\n",
       " '60fd39ffad4645e77e6afdb1': 3,\n",
       " '5c47408447aa7b000107b7d7': 3,\n",
       " '5c7af38b670f87001746df79': 60,\n",
       " '615e518ec8ce77798a747260': 2,\n",
       " '6157750f00a7484cb199b40d': 0,\n",
       " '583accd26ab9a70001e2b5a7': 6,\n",
       " '60526004255ed4f2584df18e': 2,\n",
       " '55b424e1fdf99b526efcf8d0': 10}"
      ]
     },
     "execution_count": 162,
     "metadata": {},
     "output_type": "execute_result"
    }
   ],
   "source": [
    "howmany"
   ]
  },
  {
   "cell_type": "code",
   "execution_count": 163,
   "metadata": {
    "scrolled": true
   },
   "outputs": [
    {
     "name": "stdout",
     "output_type": "stream",
     "text": [
      "5ce96c839faf7d0001daf0e6 1\n",
      "5c6d6d3481e1d50001627409 1\n",
      "5eb2e269f78ab109cca0bf0c 1\n",
      "61470c6545addee0f7b14363 1\n",
      "59430640f154200001b509d0 1\n",
      "60d103ca47eb561995f29b32 0\n",
      "600092321467ea1431ac2de9 0\n",
      "61243bd7b3bc114f04400657 1\n",
      "5eff0ccd02ed424339bf7a08 0\n",
      "60fd39ffad4645e77e6afdb1 1\n",
      "5c47408447aa7b000107b7d7 0\n",
      "5c7af38b670f87001746df79 1\n",
      "615e518ec8ce77798a747260 1\n",
      "6157750f00a7484cb199b40d 1\n",
      "583accd26ab9a70001e2b5a7 1\n",
      "60526004255ed4f2584df18e 1\n",
      "55b424e1fdf99b526efcf8d0 0\n"
     ]
    }
   ],
   "source": [
    "for i, feedback in enumerate(refs_feedback):\n",
    "    if feedback.to_dict() is None:\n",
    "        continue\n",
    "    print(uuids[i], feedback.to_dict()['playAgain'])"
   ]
  },
  {
   "cell_type": "code",
   "execution_count": 184,
   "metadata": {},
   "outputs": [],
   "source": [
    "# with open(\"./data/fr/fr_batch1_howmany.json\", \"w\", encoding=\"utf-8\") as f:\n",
    "#     json.dump(howmany, f)"
   ]
  },
  {
   "cell_type": "code",
   "execution_count": null,
   "metadata": {},
   "outputs": [],
   "source": []
  }
 ],
 "metadata": {
  "kernelspec": {
   "display_name": "Python 3",
   "language": "python",
   "name": "python3"
  },
  "language_info": {
   "codemirror_mode": {
    "name": "ipython",
    "version": 3
   },
   "file_extension": ".py",
   "mimetype": "text/x-python",
   "name": "python",
   "nbconvert_exporter": "python",
   "pygments_lexer": "ipython3",
   "version": "3.8.5"
  }
 },
 "nbformat": 4,
 "nbformat_minor": 4
}
