{
 "cells": [
  {
   "cell_type": "code",
   "execution_count": 1,
   "metadata": {},
   "outputs": [],
   "source": [
    "import numpy as np\n",
    "import json\n",
    "import pandas as pd\n",
    "import matplotlib as plt\n",
    "import seaborn as sns"
   ]
  },
  {
   "cell_type": "code",
   "execution_count": 22,
   "metadata": {},
   "outputs": [],
   "source": [
    "import firebase_admin\n",
    "\n",
    "from firebase_admin import credentials\n",
    "from firebase_admin import firestore"
   ]
  },
  {
   "cell_type": "markdown",
   "metadata": {},
   "source": [
    "### get pilot 2b trials info"
   ]
  },
  {
   "cell_type": "code",
   "execution_count": 2,
   "metadata": {},
   "outputs": [],
   "source": [
    "with open(\"C:/Users/Sarah Zheng/dev/cards-deception/cards-game/src/assets/trials_pilot2_roi_pseudorand1.json\", \"r\") as read_file:\n",
    "    trials_source = json.load(read_file)"
   ]
  },
  {
   "cell_type": "code",
   "execution_count": 3,
   "metadata": {},
   "outputs": [],
   "source": [
    "trials = pd.DataFrame(trials_source)"
   ]
  },
  {
   "cell_type": "code",
   "execution_count": 4,
   "metadata": {},
   "outputs": [],
   "source": [
    "trials['trial'] = trials.index + 1"
   ]
  },
  {
   "cell_type": "markdown",
   "metadata": {},
   "source": [
    "Add expectation violation levels"
   ]
  },
  {
   "cell_type": "code",
   "execution_count": 5,
   "metadata": {},
   "outputs": [],
   "source": [
    "n_cards = 7\n",
    "\n",
    "trials['n_blue'] = n_cards-trials['n_red']\n",
    "\n",
    "trials['e_v'] = np.where(trials['outcome'] == -1, trials['outcome'] - trials['outcome'] * (trials['n_red']/n_cards), \\\n",
    "                                   trials['outcome'] - trials['outcome'] * (n_cards-trials['n_red'])/n_cards)"
   ]
  },
  {
   "cell_type": "markdown",
   "metadata": {},
   "source": [
    "Add normalized signed and unsigned expectation violation values without update from previous trial"
   ]
  },
  {
   "cell_type": "code",
   "execution_count": 6,
   "metadata": {},
   "outputs": [],
   "source": [
    "def normalize(data):\n",
    "    return (data + abs(min(data)))/(abs(min(data)) + abs(max(data)))"
   ]
  },
  {
   "cell_type": "code",
   "execution_count": 7,
   "metadata": {},
   "outputs": [],
   "source": [
    "trials['normed_signed_e_v'] = normalize(trials['e_v'])"
   ]
  },
  {
   "cell_type": "code",
   "execution_count": 8,
   "metadata": {},
   "outputs": [],
   "source": [
    "trials['normed_unsigned_e_v'] = normalize(abs(trials['e_v']))"
   ]
  },
  {
   "cell_type": "markdown",
   "metadata": {},
   "source": [
    "Add opponent card colour report counts"
   ]
  },
  {
   "cell_type": "code",
   "execution_count": 9,
   "metadata": {},
   "outputs": [],
   "source": [
    "count_red = abs(trials.outcome[lambda x: x==-1].cumsum())\n",
    "count_blue = abs(trials.outcome[lambda x: x==1].cumsum())\n",
    "\n",
    "trials['n_reported_colour_opp'] = count_red.append(count_blue).sort_index()"
   ]
  },
  {
   "cell_type": "markdown",
   "metadata": {},
   "source": [
    "Add opponent card colour report tracker"
   ]
  },
  {
   "cell_type": "code",
   "execution_count": 10,
   "metadata": {},
   "outputs": [],
   "source": [
    "track_freq = [1] * len(trials)\n",
    "\n",
    "for i, outcome in enumerate(trials['outcome'].values):\n",
    "    if (i==0):\n",
    "        continue\n",
    "    if (i>0):\n",
    "        if (outcome != trials.outcome.values[i-1]):\n",
    "            continue\n",
    "        if (outcome == trials.outcome.values[i-1]):\n",
    "            track_freq[i] = track_freq[i-1] + 1"
   ]
  },
  {
   "cell_type": "code",
   "execution_count": 11,
   "metadata": {},
   "outputs": [],
   "source": [
    "trials['n_consec_colour'] = track_freq"
   ]
  },
  {
   "cell_type": "markdown",
   "metadata": {},
   "source": [
    "Convert signed tracker of consecutive colour reports to normalized values"
   ]
  },
  {
   "cell_type": "code",
   "execution_count": 12,
   "metadata": {},
   "outputs": [],
   "source": [
    "trials['signed_n_consec_colour'] = trials['n_consec_colour'] * trials['outcome']"
   ]
  },
  {
   "cell_type": "code",
   "execution_count": 13,
   "metadata": {},
   "outputs": [],
   "source": [
    "normalized_signed_colour_count = normalize(trials.signed_n_consec_colour.values)\n",
    "\n",
    "trials['normed_signed_colour_count'] = normalized_signed_colour_count"
   ]
  },
  {
   "cell_type": "code",
   "execution_count": 14,
   "metadata": {},
   "outputs": [],
   "source": [
    "trials['normed_unsigned_colour_count'] = [(v/5) for v in trials.n_consec_colour]"
   ]
  },
  {
   "cell_type": "markdown",
   "metadata": {},
   "source": [
    "Add cumulatively updated signed expectation violation values and normalize"
   ]
  },
  {
   "cell_type": "code",
   "execution_count": 15,
   "metadata": {},
   "outputs": [],
   "source": [
    "trials['cs_signed_e_v'] = trials['e_v'].cumsum()"
   ]
  },
  {
   "cell_type": "code",
   "execution_count": 16,
   "metadata": {},
   "outputs": [],
   "source": [
    "trials['normed_cs_signed_e_v'] = normalize(trials['cs_signed_e_v'])"
   ]
  },
  {
   "cell_type": "markdown",
   "metadata": {},
   "source": [
    "Add cumulatively updated unsigned expectation violation values and normalize"
   ]
  },
  {
   "cell_type": "code",
   "execution_count": 17,
   "metadata": {},
   "outputs": [],
   "source": [
    "trials['cs_unsigned_e_v'] = abs(trials['e_v']).cumsum()"
   ]
  },
  {
   "cell_type": "code",
   "execution_count": 18,
   "metadata": {},
   "outputs": [],
   "source": [
    "trials['normed_cs_unsigned_e_v'] = normalize(trials['cs_unsigned_e_v'])"
   ]
  },
  {
   "cell_type": "code",
   "execution_count": 19,
   "metadata": {},
   "outputs": [
    {
     "data": {
      "text/html": [
       "<div>\n",
       "<style scoped>\n",
       "    .dataframe tbody tr th:only-of-type {\n",
       "        vertical-align: middle;\n",
       "    }\n",
       "\n",
       "    .dataframe tbody tr th {\n",
       "        vertical-align: top;\n",
       "    }\n",
       "\n",
       "    .dataframe thead th {\n",
       "        text-align: right;\n",
       "    }\n",
       "</style>\n",
       "<table border=\"1\" class=\"dataframe\">\n",
       "  <thead>\n",
       "    <tr style=\"text-align: right;\">\n",
       "      <th></th>\n",
       "      <th>n_red</th>\n",
       "      <th>outcome</th>\n",
       "      <th>trial</th>\n",
       "      <th>n_blue</th>\n",
       "      <th>e_v</th>\n",
       "      <th>normed_signed_e_v</th>\n",
       "      <th>normed_unsigned_e_v</th>\n",
       "      <th>n_reported_colour_opp</th>\n",
       "      <th>n_consec_colour</th>\n",
       "      <th>signed_n_consec_colour</th>\n",
       "      <th>normed_signed_colour_count</th>\n",
       "      <th>normed_unsigned_colour_count</th>\n",
       "      <th>cs_signed_e_v</th>\n",
       "      <th>normed_cs_signed_e_v</th>\n",
       "      <th>cs_unsigned_e_v</th>\n",
       "      <th>normed_cs_unsigned_e_v</th>\n",
       "    </tr>\n",
       "  </thead>\n",
       "  <tbody>\n",
       "    <tr>\n",
       "      <th>0</th>\n",
       "      <td>6</td>\n",
       "      <td>-1</td>\n",
       "      <td>1</td>\n",
       "      <td>1</td>\n",
       "      <td>-0.142857</td>\n",
       "      <td>0.416667</td>\n",
       "      <td>0.285714</td>\n",
       "      <td>1</td>\n",
       "      <td>1</td>\n",
       "      <td>-1</td>\n",
       "      <td>0.4</td>\n",
       "      <td>0.2</td>\n",
       "      <td>-0.142857</td>\n",
       "      <td>0.083333</td>\n",
       "      <td>0.142857</td>\n",
       "      <td>0.009479</td>\n",
       "    </tr>\n",
       "    <tr>\n",
       "      <th>1</th>\n",
       "      <td>6</td>\n",
       "      <td>1</td>\n",
       "      <td>2</td>\n",
       "      <td>1</td>\n",
       "      <td>0.857143</td>\n",
       "      <td>1.000000</td>\n",
       "      <td>1.000000</td>\n",
       "      <td>1</td>\n",
       "      <td>1</td>\n",
       "      <td>1</td>\n",
       "      <td>0.6</td>\n",
       "      <td>0.2</td>\n",
       "      <td>0.714286</td>\n",
       "      <td>0.250000</td>\n",
       "      <td>1.000000</td>\n",
       "      <td>0.037915</td>\n",
       "    </tr>\n",
       "    <tr>\n",
       "      <th>2</th>\n",
       "      <td>2</td>\n",
       "      <td>1</td>\n",
       "      <td>3</td>\n",
       "      <td>5</td>\n",
       "      <td>0.285714</td>\n",
       "      <td>0.666667</td>\n",
       "      <td>0.428571</td>\n",
       "      <td>2</td>\n",
       "      <td>2</td>\n",
       "      <td>2</td>\n",
       "      <td>0.7</td>\n",
       "      <td>0.4</td>\n",
       "      <td>1.000000</td>\n",
       "      <td>0.305556</td>\n",
       "      <td>1.285714</td>\n",
       "      <td>0.047393</td>\n",
       "    </tr>\n",
       "    <tr>\n",
       "      <th>3</th>\n",
       "      <td>3</td>\n",
       "      <td>-1</td>\n",
       "      <td>4</td>\n",
       "      <td>4</td>\n",
       "      <td>-0.571429</td>\n",
       "      <td>0.166667</td>\n",
       "      <td>0.714286</td>\n",
       "      <td>2</td>\n",
       "      <td>1</td>\n",
       "      <td>-1</td>\n",
       "      <td>0.4</td>\n",
       "      <td>0.2</td>\n",
       "      <td>0.428571</td>\n",
       "      <td>0.194444</td>\n",
       "      <td>1.857143</td>\n",
       "      <td>0.066351</td>\n",
       "    </tr>\n",
       "    <tr>\n",
       "      <th>4</th>\n",
       "      <td>1</td>\n",
       "      <td>1</td>\n",
       "      <td>5</td>\n",
       "      <td>6</td>\n",
       "      <td>0.142857</td>\n",
       "      <td>0.583333</td>\n",
       "      <td>0.285714</td>\n",
       "      <td>3</td>\n",
       "      <td>1</td>\n",
       "      <td>1</td>\n",
       "      <td>0.6</td>\n",
       "      <td>0.2</td>\n",
       "      <td>0.571429</td>\n",
       "      <td>0.222222</td>\n",
       "      <td>2.000000</td>\n",
       "      <td>0.071090</td>\n",
       "    </tr>\n",
       "  </tbody>\n",
       "</table>\n",
       "</div>"
      ],
      "text/plain": [
       "   n_red  outcome  trial  n_blue       e_v  normed_signed_e_v  \\\n",
       "0      6       -1      1       1 -0.142857           0.416667   \n",
       "1      6        1      2       1  0.857143           1.000000   \n",
       "2      2        1      3       5  0.285714           0.666667   \n",
       "3      3       -1      4       4 -0.571429           0.166667   \n",
       "4      1        1      5       6  0.142857           0.583333   \n",
       "\n",
       "   normed_unsigned_e_v  n_reported_colour_opp  n_consec_colour  \\\n",
       "0             0.285714                      1                1   \n",
       "1             1.000000                      1                1   \n",
       "2             0.428571                      2                2   \n",
       "3             0.714286                      2                1   \n",
       "4             0.285714                      3                1   \n",
       "\n",
       "   signed_n_consec_colour  normed_signed_colour_count  \\\n",
       "0                      -1                         0.4   \n",
       "1                       1                         0.6   \n",
       "2                       2                         0.7   \n",
       "3                      -1                         0.4   \n",
       "4                       1                         0.6   \n",
       "\n",
       "   normed_unsigned_colour_count  cs_signed_e_v  normed_cs_signed_e_v  \\\n",
       "0                           0.2      -0.142857              0.083333   \n",
       "1                           0.2       0.714286              0.250000   \n",
       "2                           0.4       1.000000              0.305556   \n",
       "3                           0.2       0.428571              0.194444   \n",
       "4                           0.2       0.571429              0.222222   \n",
       "\n",
       "   cs_unsigned_e_v  normed_cs_unsigned_e_v  \n",
       "0         0.142857                0.009479  \n",
       "1         1.000000                0.037915  \n",
       "2         1.285714                0.047393  \n",
       "3         1.857143                0.066351  \n",
       "4         2.000000                0.071090  "
      ]
     },
     "execution_count": 19,
     "metadata": {},
     "output_type": "execute_result"
    }
   ],
   "source": [
    "trials.head()"
   ]
  },
  {
   "cell_type": "code",
   "execution_count": 21,
   "metadata": {},
   "outputs": [
    {
     "data": {
      "text/plain": [
       "<AxesSubplot:ylabel='normed_cs_signed_e_v'>"
      ]
     },
     "execution_count": 21,
     "metadata": {},
     "output_type": "execute_result"
    },
    {
     "data": {
      "image/png": "[encoded data removed]",
      "text/plain": [
       "<Figure size 432x288 with 1 Axes>"
      ]
     },
     "metadata": {
      "needs_background": "light"
     },
     "output_type": "display_data"
    }
   ],
   "source": [
    "sns.lineplot(data=trials['normed_cs_signed_e_v'])"
   ]
  },
  {
   "cell_type": "markdown",
   "metadata": {},
   "source": [
    "### get past reported colours data"
   ]
  },
  {
   "cell_type": "code",
   "execution_count": 23,
   "metadata": {},
   "outputs": [],
   "source": [
    "cred = credentials.Certificate('D:/Behavioural cybersecurity/project-notes/cards-dd-game-61b9b7f26a6e.json')\n",
    "firebase_admin.initialize_app(cred)\n",
    "\n",
    "db = firestore.client()\n",
    "\n",
    "subjects_ref = db.collection(u'subjects')"
   ]
  },
  {
   "cell_type": "markdown",
   "metadata": {},
   "source": [
    "Read game task responses from database"
   ]
  },
  {
   "cell_type": "code",
   "execution_count": 24,
   "metadata": {},
   "outputs": [],
   "source": [
    "uuids = [\n",
    "    '60cfbdfdfc788d1a1d9fae5a', \n",
    "    '60ce3a59841d20970e75ccbc', \n",
    "    '5b99065b57dc8100012c56a4', \n",
    "    '60c8cbb224ace51ce83667c1', \n",
    "    '60c6695104897f595c7d0319'\n",
    "]"
   ]
  },
  {
   "cell_type": "code",
   "execution_count": 25,
   "metadata": {},
   "outputs": [],
   "source": [
    "refs = []\n",
    "\n",
    "for uuid in uuids:\n",
    "    refs.append(subjects_ref.document(uuid).collection(u'responses').document('main_responses').get())"
   ]
  },
  {
   "cell_type": "code",
   "execution_count": 27,
   "metadata": {},
   "outputs": [],
   "source": [
    "from scripts.data_processing import GameResponses"
   ]
  },
  {
   "cell_type": "code",
   "execution_count": 49,
   "metadata": {},
   "outputs": [],
   "source": [
    "past_reports = []\n",
    "\n",
    "for index, subject in enumerate(refs):\n",
    "    responses = GameResponses.from_dict(subject.to_dict())\n",
    "    \n",
    "    report = [int(numeric_string) for numeric_string in responses.reportColour]\n",
    "    past_reports.append(report)"
   ]
  },
  {
   "cell_type": "code",
   "execution_count": 50,
   "metadata": {},
   "outputs": [],
   "source": [
    "reports = []\n",
    "for r in past_reports:\n",
    "    reports.extend(r)"
   ]
  },
  {
   "cell_type": "code",
   "execution_count": 53,
   "metadata": {},
   "outputs": [
    {
     "data": {
      "text/plain": [
       "True"
      ]
     },
     "execution_count": 53,
     "metadata": {},
     "output_type": "execute_result"
    }
   ],
   "source": [
    "len(reports) == len(refs) * 60"
   ]
  },
  {
   "cell_type": "code",
   "execution_count": 54,
   "metadata": {},
   "outputs": [],
   "source": [
    "trials_n_red = [trials['n_red'].values] * len(refs)"
   ]
  },
  {
   "cell_type": "code",
   "execution_count": 46,
   "metadata": {},
   "outputs": [],
   "source": [
    "n_red = []\n",
    "for t in trials_n_red:\n",
    "    n_red.extend(t)"
   ]
  },
  {
   "cell_type": "code",
   "execution_count": 62,
   "metadata": {},
   "outputs": [],
   "source": [
    "df = pd.DataFrame({'n_red': n_red, 'outcome': reports})"
   ]
  },
  {
   "cell_type": "code",
   "execution_count": 66,
   "metadata": {},
   "outputs": [],
   "source": [
    "df['n_blue'] = n_cards-df['n_red']\n",
    "\n",
    "df['e_v'] = np.where(df['outcome'] == -1, df['outcome'] - df['outcome'] * (df['n_red']/n_cards), \\\n",
    "                                   df['outcome'] - df['outcome'] * (n_cards-df['n_red'])/n_cards)"
   ]
  },
  {
   "cell_type": "code",
   "execution_count": 68,
   "metadata": {},
   "outputs": [
    {
     "data": {
      "text/plain": [
       "<AxesSubplot:ylabel='e_v'>"
      ]
     },
     "execution_count": 68,
     "metadata": {},
     "output_type": "execute_result"
    },
    {
     "data": {
      "image/png": "[encoded data removed]",
      "text/plain": [
       "<Figure size 432x288 with 1 Axes>"
      ]
     },
     "metadata": {
      "needs_background": "light"
     },
     "output_type": "display_data"
    }
   ],
   "source": [
    "sns.lineplot(data=df.iloc[:60].e_v)"
   ]
  },
  {
   "cell_type": "code",
   "execution_count": 70,
   "metadata": {},
   "outputs": [],
   "source": [
    "diff_players_sample = df.sample(60)"
   ]
  },
  {
   "cell_type": "code",
   "execution_count": null,
   "metadata": {},
   "outputs": [],
   "source": [
    "# diff_players_sample.to_json('.json')"
   ]
  }
 ],
 "metadata": {
  "kernelspec": {
   "display_name": "Python 3",
   "language": "python",
   "name": "python3"
  },
  "language_info": {
   "codemirror_mode": {
    "name": "ipython",
    "version": 3
   },
   "file_extension": ".py",
   "mimetype": "text/x-python",
   "name": "python",
   "nbconvert_exporter": "python",
   "pygments_lexer": "ipython3",
   "version": "3.8.5"
  }
 },
 "nbformat": 4,
 "nbformat_minor": 4
}
