{
 "cells": [
  {
   "cell_type": "code",
   "execution_count": 1,
   "metadata": {},
   "outputs": [],
   "source": [
    "import json\n",
    "import pandas as pd\n",
    "import seaborn as sns\n",
    "import regex as re\n",
    "\n",
    "from scripts.analysis import *\n",
    "from scripts.data_processing import process_trials_from_df"
   ]
  },
  {
   "cell_type": "code",
   "execution_count": 63,
   "metadata": {},
   "outputs": [
    {
     "name": "stdout",
     "output_type": "stream",
     "text": [
      "./data/fr/fr_batch1_56210effed6e5a000ac7f3a5.feather\n",
      "./data/fr/fr_batch1_57313ba2070de6000f43384e.feather\n",
      "./data/fr/fr_batch1_5af196e1e1b5b8000148ac76.feather\n",
      "./data/fr/fr_batch1_5cd5fe480f0de600018e7251.feather\n",
      "./data/fr/fr_batch1_5fec7577ad8fbadf15cd5607.feather\n",
      "./data/fr/fr_batch1_60f44f7a57468d4e9f87fa5b.feather\n",
      "./data/fr/fr_batch1_61085b8ec672d0e88151d5ae.feather\n",
      "./data/fr/fr_batch1_6110e7ae08023ecb9207b05e.feather\n",
      "./data/fr/fr_batch1_6147d726fa94eb7d5c2de156.feather\n",
      "./data/fr/fr_batch1_614f23537aab4e64abfd53ae.feather\n",
      "./data/fr/fr_batch1_6152218517a89c5b41e18a06.feather\n",
      "./data/fr/fr_batch1_61533356ce435e5a4a4addd0.feather\n",
      "./data/fr/fr_batch1_6154284fc5154abb9a264b0c.feather\n",
      "./data/fr/fr_batch1_6156ee007bdef87eb5b4aeb0.feather\n",
      "./data/fr/fr_batch1_615d9f86fdd5e127d783e850.feather\n",
      "./data/fr/fr_batch1_615ec4f34cb81d7e58fa144c.feather\n",
      "./data/fr/fr_batch1_615f0726cbd12330a2d82556.feather\n",
      "./data/fr/fr_batch1_615f1500b60d25e2660e8644.feather\n",
      "./data/fr/fr_batch1_6160011304f5319ece189bfa.feather\n",
      "./data/fr/fr_batch1_6160403f5164508979e6358d.feather\n"
     ]
    }
   ],
   "source": [
    "import os\n",
    "\n",
    "files = os.listdir('./data/fr/')\n",
    "\n",
    "# print(files)\n",
    "\n",
    "for file in files:\n",
    "    if file.endswith(\".feather\"):\n",
    "        print(os.path.join(\"./data/fr/\", file))"
   ]
  },
  {
   "cell_type": "code",
   "execution_count": 3,
   "metadata": {},
   "outputs": [],
   "source": [
    "# get all DF filenames from data/fr folder\n",
    "\n",
    "def data_to_df(files: list):\n",
    "    ''' provide list of feather data file pathnames '''\n",
    "    dfs = {}  # features of interest\n",
    "    for path in files:\n",
    "        try:\n",
    "            df = pd.read_feather(\"./data/fr/\"+path)\n",
    "            uuid = re.findall('(?<=fr_batch1_).*(?=\\.feather)', path)[0]\n",
    "            dfs[uuid] = df\n",
    "        except PermissionError:\n",
    "            continue\n",
    "    return dfs"
   ]
  },
  {
   "cell_type": "code",
   "execution_count": 4,
   "metadata": {},
   "outputs": [],
   "source": [
    "dfs = data_to_df(files)"
   ]
  },
  {
   "cell_type": "code",
   "execution_count": 5,
   "metadata": {},
   "outputs": [],
   "source": [
    "uuids = dfs.keys()"
   ]
  },
  {
   "cell_type": "code",
   "execution_count": 6,
   "metadata": {},
   "outputs": [],
   "source": [
    "# process files as trials\n",
    "\n",
    "processed_trials = {}\n",
    "\n",
    "for uuid in uuids:\n",
    "    df_trials = process_trials_from_df(dfs[uuid], 7)\n",
    "    processed_trials[uuid] = df_trials"
   ]
  },
  {
   "cell_type": "code",
   "execution_count": 7,
   "metadata": {},
   "outputs": [
    {
     "data": {
      "text/plain": [
       "{'56210effed6e5a000ac7f3a5':                          PID  n_red  outcome  col_reported  col_picked  \\\n",
       " 0   56210effed6e5a000ac7f3a5      3        1             1           1   \n",
       " 1   56210effed6e5a000ac7f3a5      6        1             1          -1   \n",
       " 2   56210effed6e5a000ac7f3a5      1        1             1          -1   \n",
       " 3   56210effed6e5a000ac7f3a5      5       -1             1           1   \n",
       " 4   56210effed6e5a000ac7f3a5      1        1             1           1   \n",
       " ..                       ...    ...      ...           ...         ...   \n",
       " 85  56210effed6e5a000ac7f3a5      2        1             1          -1   \n",
       " 86  56210effed6e5a000ac7f3a5      5        1             1          -1   \n",
       " 87  56210effed6e5a000ac7f3a5      6       -1             1          -1   \n",
       " 88  56210effed6e5a000ac7f3a5      6        1             1          -1   \n",
       " 89  56210effed6e5a000ac7f3a5      2       -1             1           1   \n",
       " \n",
       "     pp_lied  RT_rating win_lose_tie  suspicion_rating  trial  ...  \\\n",
       " 0     False       1839          tie               0.8      1  ...   \n",
       " 1      True       1527          tie               1.0      2  ...   \n",
       " 2     False       1343          tie               1.0      3  ...   \n",
       " 3     False       1249          win               0.4      4  ...   \n",
       " 4     False       2107          tie               0.6      5  ...   \n",
       " ..      ...        ...          ...               ...    ...  ...   \n",
       " 85    False       1985          tie               1.0     86  ...   \n",
       " 86    False       2656          tie               1.0     87  ...   \n",
       " 87    False       2225          win               1.0     88  ...   \n",
       " 88     True       1471          tie               1.0     89  ...   \n",
       " 89    False       1384          win               0.2     90  ...   \n",
       " \n",
       "     normed_signed_e_v  normed_unsigned_e_v  cs_signed_e_v  \\\n",
       " 0            0.750000             0.571429       0.428571   \n",
       " 1            1.000000             1.000000       1.285714   \n",
       " 2            0.583333             0.285714       1.428571   \n",
       " 3            0.333333             0.428571       1.142857   \n",
       " 4            0.583333             0.285714       1.285714   \n",
       " ..                ...                  ...            ...   \n",
       " 85           0.666667             0.428571      27.142857   \n",
       " 86           0.916667             0.857143      27.857143   \n",
       " 87           0.416667             0.285714      27.714286   \n",
       " 88           1.000000             1.000000      28.571429   \n",
       " 89           0.083333             0.857143      27.857143   \n",
       " \n",
       "     normed_cs_signed_e_v  cs_unsigned_e_v  normed_cs_unsigned_e_v  \\\n",
       " 0               0.029557         0.428571                0.019737   \n",
       " 1               0.059113         1.285714                0.039474   \n",
       " 2               0.064039         1.428571                0.042763   \n",
       " 3               0.054187         1.714286                0.049342   \n",
       " 4               0.059113         1.857143                0.052632   \n",
       " ..                   ...              ...                     ...   \n",
       " 85              0.950739        40.571429                0.944079   \n",
       " 86              0.975369        41.285714                0.960526   \n",
       " 87              0.970443        41.428571                0.963816   \n",
       " 88              1.000000        42.285714                0.983553   \n",
       " 89              0.975369        43.000000                1.000000   \n",
       " \n",
       "     n_reported_colour_opp  n_consec_colour  normed_signed_colour_count  \\\n",
       " 0                       1                1                    0.285714   \n",
       " 1                       2                2                    0.357143   \n",
       " 2                       3                3                    0.428571   \n",
       " 3                       1                1                    0.142857   \n",
       " 4                       4                1                    0.285714   \n",
       " ..                    ...              ...                         ...   \n",
       " 85                     65                2                    0.357143   \n",
       " 86                     66                3                    0.428571   \n",
       " 87                     22                1                    0.142857   \n",
       " 88                     67                1                    0.285714   \n",
       " 89                     23                1                    0.142857   \n",
       " \n",
       "     normed_unsigned_colour_count  \n",
       " 0                       0.166667  \n",
       " 1                       0.250000  \n",
       " 2                       0.333333  \n",
       " 3                       0.166667  \n",
       " 4                       0.166667  \n",
       " ..                           ...  \n",
       " 85                      0.250000  \n",
       " 86                      0.333333  \n",
       " 87                      0.166667  \n",
       " 88                      0.166667  \n",
       " 89                      0.166667  \n",
       " \n",
       " [90 rows x 22 columns],\n",
       " '57313ba2070de6000f43384e':                          PID  n_red  outcome  col_reported  col_picked  \\\n",
       " 0   57313ba2070de6000f43384e      1        1            -1           1   \n",
       " 1   57313ba2070de6000f43384e      5        1             1          -1   \n",
       " 2   57313ba2070de6000f43384e      3        1             1          -1   \n",
       " 3   57313ba2070de6000f43384e      2        1             1           1   \n",
       " 4   57313ba2070de6000f43384e      4        1             1          -1   \n",
       " ..                       ...    ...      ...           ...         ...   \n",
       " 85  57313ba2070de6000f43384e      4        1             1           1   \n",
       " 86  57313ba2070de6000f43384e      5       -1             1          -1   \n",
       " 87  57313ba2070de6000f43384e      4        1             1           1   \n",
       " 88  57313ba2070de6000f43384e      5       -1             1          -1   \n",
       " 89  57313ba2070de6000f43384e      4       -1             1          -1   \n",
       " \n",
       "     pp_lied  RT_rating win_lose_tie  suspicion_rating  trial  ...  \\\n",
       " 0     False       6376         loss               0.2      1  ...   \n",
       " 1     False       2957          tie               0.2      2  ...   \n",
       " 2     False       2057          tie               0.2      3  ...   \n",
       " 3     False       1512          tie               0.2      4  ...   \n",
       " 4     False       2072          tie               0.2      5  ...   \n",
       " ..      ...        ...          ...               ...    ...  ...   \n",
       " 85    False       2249          tie               0.2     86  ...   \n",
       " 86    False       1712          win               0.2     87  ...   \n",
       " 87     True       2539          tie               0.2     88  ...   \n",
       " 88     True       1502          win               0.2     89  ...   \n",
       " 89    False       2205          win               0.2     90  ...   \n",
       " \n",
       "     normed_signed_e_v  normed_unsigned_e_v  cs_signed_e_v  \\\n",
       " 0            0.545455             0.285714       0.142857   \n",
       " 1            0.909091             0.857143       0.857143   \n",
       " 2            0.727273             0.571429       1.285714   \n",
       " 3            0.636364             0.428571       1.571429   \n",
       " 4            0.818182             0.714286       2.142857   \n",
       " ..                ...                  ...            ...   \n",
       " 85           0.818182             0.714286      29.857143   \n",
       " 86           0.272727             0.428571      29.571429   \n",
       " 87           0.818182             0.714286      30.142857   \n",
       " 88           0.272727             0.428571      29.857143   \n",
       " 89           0.181818             0.571429      29.428571   \n",
       " \n",
       "     normed_cs_signed_e_v  cs_unsigned_e_v  normed_cs_unsigned_e_v  \\\n",
       " 0               0.009434         0.142857                0.006689   \n",
       " 1               0.033019         0.857143                0.023411   \n",
       " 2               0.047170         1.285714                0.033445   \n",
       " 3               0.056604         1.571429                0.040134   \n",
       " 4               0.075472         2.142857                0.053512   \n",
       " ..                   ...              ...                     ...   \n",
       " 85              0.990566        41.000000                0.963211   \n",
       " 86              0.981132        41.285714                0.969900   \n",
       " 87              1.000000        41.857143                0.983278   \n",
       " 88              0.990566        42.142857                0.989967   \n",
       " 89              0.976415        42.571429                1.000000   \n",
       " \n",
       "     n_reported_colour_opp  n_consec_colour  normed_signed_colour_count  \\\n",
       " 0                       1                1                    0.157895   \n",
       " 1                       2                2                    0.210526   \n",
       " 2                       3                3                    0.263158   \n",
       " 3                       4                4                    0.315789   \n",
       " 4                       5                5                    0.368421   \n",
       " ..                    ...              ...                         ...   \n",
       " 85                     69                1                    0.157895   \n",
       " 86                     18                1                    0.052632   \n",
       " 87                     70                1                    0.157895   \n",
       " 88                     19                1                    0.052632   \n",
       " 89                     20                2                    0.000000   \n",
       " \n",
       "     normed_unsigned_colour_count  \n",
       " 0                       0.111111  \n",
       " 1                       0.166667  \n",
       " 2                       0.222222  \n",
       " 3                       0.277778  \n",
       " 4                       0.333333  \n",
       " ..                           ...  \n",
       " 85                      0.111111  \n",
       " 86                      0.111111  \n",
       " 87                      0.111111  \n",
       " 88                      0.111111  \n",
       " 89                      0.166667  \n",
       " \n",
       " [90 rows x 22 columns],\n",
       " '5af196e1e1b5b8000148ac76':                          PID  n_red  outcome  col_reported  col_picked  \\\n",
       " 0   5af196e1e1b5b8000148ac76      6       -1            -1          -1   \n",
       " 1   5af196e1e1b5b8000148ac76      2        1             1           1   \n",
       " 2   5af196e1e1b5b8000148ac76      6        1             1           1   \n",
       " 3   5af196e1e1b5b8000148ac76      4        1             1           1   \n",
       " 4   5af196e1e1b5b8000148ac76      2        1             1           1   \n",
       " ..                       ...    ...      ...           ...         ...   \n",
       " 85  5af196e1e1b5b8000148ac76      5       -1             1           1   \n",
       " 86  5af196e1e1b5b8000148ac76      5        1            -1          -1   \n",
       " 87  5af196e1e1b5b8000148ac76      1        1             1          -1   \n",
       " 88  5af196e1e1b5b8000148ac76      6        1            -1          -1   \n",
       " 89  5af196e1e1b5b8000148ac76      3        1             1           1   \n",
       " \n",
       "     pp_lied  RT_rating win_lose_tie  suspicion_rating  trial  ...  \\\n",
       " 0     False       2876          tie               0.2      1  ...   \n",
       " 1     False       2116          tie               0.2      2  ...   \n",
       " 2      True       4034          tie               0.8      3  ...   \n",
       " 3     False       2583          tie               0.4      4  ...   \n",
       " 4     False       2054          tie               0.4      5  ...   \n",
       " ..      ...        ...          ...               ...    ...  ...   \n",
       " 85    False       1887          win               0.4     86  ...   \n",
       " 86    False       1734         loss               0.6     87  ...   \n",
       " 87    False       1802          tie               0.2     88  ...   \n",
       " 88     True       3168         loss               0.6     89  ...   \n",
       " 89     True       3326          tie               0.6     90  ...   \n",
       " \n",
       "     normed_signed_e_v  normed_unsigned_e_v  cs_signed_e_v  \\\n",
       " 0                 0.3             0.285714      -0.142857   \n",
       " 1                 0.6             0.428571       0.142857   \n",
       " 2                 1.0             1.000000       1.000000   \n",
       " 3                 0.8             0.714286       1.571429   \n",
       " 4                 0.6             0.428571       1.857143   \n",
       " ..                ...                  ...            ...   \n",
       " 85                0.2             0.428571      25.142857   \n",
       " 86                0.9             0.857143      25.857143   \n",
       " 87                0.5             0.285714      26.000000   \n",
       " 88                1.0             1.000000      26.857143   \n",
       " 89                0.7             0.571429      27.285714   \n",
       " \n",
       "     normed_cs_signed_e_v  cs_unsigned_e_v  normed_cs_unsigned_e_v  \\\n",
       " 0               0.000000         0.142857                0.007407   \n",
       " 1               0.010417         0.428571                0.014815   \n",
       " 2               0.041667         1.285714                0.037037   \n",
       " 3               0.062500         1.857143                0.051852   \n",
       " 4               0.072917         2.142857                0.059259   \n",
       " ..                   ...              ...                     ...   \n",
       " 85              0.921875        36.285714                0.944444   \n",
       " 86              0.947917        37.000000                0.962963   \n",
       " 87              0.953125        37.142857                0.966667   \n",
       " 88              0.984375        38.000000                0.988889   \n",
       " 89              1.000000        38.428571                1.000000   \n",
       " \n",
       "     n_reported_colour_opp  n_consec_colour  normed_signed_colour_count  \\\n",
       " 0                       1                1                    0.066667   \n",
       " 1                       1                1                    0.200000   \n",
       " 2                       2                2                    0.266667   \n",
       " 3                       3                3                    0.333333   \n",
       " 4                       4                4                    0.400000   \n",
       " ..                    ...              ...                         ...   \n",
       " 85                     24                1                    0.066667   \n",
       " 86                     63                1                    0.200000   \n",
       " 87                     64                2                    0.266667   \n",
       " 88                     65                3                    0.333333   \n",
       " 89                     66                4                    0.400000   \n",
       " \n",
       "     normed_unsigned_colour_count  \n",
       " 0                       0.142857  \n",
       " 1                       0.142857  \n",
       " 2                       0.214286  \n",
       " 3                       0.285714  \n",
       " 4                       0.357143  \n",
       " ..                           ...  \n",
       " 85                      0.142857  \n",
       " 86                      0.142857  \n",
       " 87                      0.214286  \n",
       " 88                      0.285714  \n",
       " 89                      0.357143  \n",
       " \n",
       " [90 rows x 22 columns],\n",
       " '5cd5fe480f0de600018e7251':                          PID  n_red  outcome  col_reported  col_picked  \\\n",
       " 0   5cd5fe480f0de600018e7251      5       -1             1           1   \n",
       " 1   5cd5fe480f0de600018e7251      5       -1            -1          -1   \n",
       " 2   5cd5fe480f0de600018e7251      4       -1             1           1   \n",
       " 3   5cd5fe480f0de600018e7251      6       -1            -1          -1   \n",
       " 4   5cd5fe480f0de600018e7251      1        1             1           1   \n",
       " ..                       ...    ...      ...           ...         ...   \n",
       " 85  5cd5fe480f0de600018e7251      6       -1             1          -1   \n",
       " 86  5cd5fe480f0de600018e7251      5       -1             1          -1   \n",
       " 87  5cd5fe480f0de600018e7251      5        1             1          -1   \n",
       " 88  5cd5fe480f0de600018e7251      5        1             1          -1   \n",
       " 89  5cd5fe480f0de600018e7251      2       -1             1           1   \n",
       " \n",
       "     pp_lied  RT_rating win_lose_tie  suspicion_rating  trial  ...  \\\n",
       " 0     False       2590          win               0.2      1  ...   \n",
       " 1     False       1470          tie               0.2      2  ...   \n",
       " 2     False       1827          win               0.2      3  ...   \n",
       " 3     False       1501          tie               0.2      4  ...   \n",
       " 4     False       1276          tie               0.2      5  ...   \n",
       " ..      ...        ...          ...               ...    ...  ...   \n",
       " 85    False       1432          win               0.2     86  ...   \n",
       " 86    False       2148          win               0.2     87  ...   \n",
       " 87    False       1520          tie               0.4     88  ...   \n",
       " 88    False       2992          tie               0.2     89  ...   \n",
       " 89    False       1659          win               0.2     90  ...   \n",
       " \n",
       "     normed_signed_e_v  normed_unsigned_e_v  cs_signed_e_v  \\\n",
       " 0            0.333333             0.428571      -0.285714   \n",
       " 1            0.333333             0.428571      -0.571429   \n",
       " 2            0.250000             0.571429      -1.000000   \n",
       " 3            0.416667             0.285714      -1.142857   \n",
       " 4            0.583333             0.285714      -1.000000   \n",
       " ..                ...                  ...            ...   \n",
       " 85           0.416667             0.285714      10.142857   \n",
       " 86           0.333333             0.428571       9.857143   \n",
       " 87           0.916667             0.857143      10.571429   \n",
       " 88           0.916667             0.857143      11.285714   \n",
       " 89           0.083333             0.857143      10.571429   \n",
       " \n",
       "     normed_cs_signed_e_v  cs_unsigned_e_v  normed_cs_unsigned_e_v  \\\n",
       " 0               0.068966         0.285714                0.016949   \n",
       " 1               0.045977         0.571429                0.025424   \n",
       " 2               0.011494         1.000000                0.038136   \n",
       " 3               0.000000         1.142857                0.042373   \n",
       " 4               0.011494         1.285714                0.046610   \n",
       " ..                   ...              ...                     ...   \n",
       " 85              0.908046        31.000000                0.927966   \n",
       " 86              0.885057        31.285714                0.936441   \n",
       " 87              0.942529        32.000000                0.957627   \n",
       " 88              1.000000        32.714286                0.978814   \n",
       " 89              0.942529        33.428571                1.000000   \n",
       " \n",
       "     n_reported_colour_opp  n_consec_colour  normed_signed_colour_count  \\\n",
       " 0                       1                1                    0.333333   \n",
       " 1                       2                2                    0.222222   \n",
       " 2                       3                3                    0.111111   \n",
       " 3                       4                4                    0.000000   \n",
       " 4                       1                1                    0.555556   \n",
       " ..                    ...              ...                         ...   \n",
       " 85                     38                1                    0.333333   \n",
       " 86                     39                2                    0.222222   \n",
       " 87                     49                1                    0.555556   \n",
       " 88                     50                2                    0.666667   \n",
       " 89                     40                1                    0.333333   \n",
       " \n",
       "     normed_unsigned_colour_count  \n",
       " 0                       0.333333  \n",
       " 1                       0.500000  \n",
       " 2                       0.666667  \n",
       " 3                       0.833333  \n",
       " 4                       0.333333  \n",
       " ..                           ...  \n",
       " 85                      0.333333  \n",
       " 86                      0.500000  \n",
       " 87                      0.333333  \n",
       " 88                      0.500000  \n",
       " 89                      0.333333  \n",
       " \n",
       " [90 rows x 22 columns],\n",
       " '5fec7577ad8fbadf15cd5607':                          PID  n_red  outcome  col_reported  col_picked  \\\n",
       " 0   5fec7577ad8fbadf15cd5607      6       -1             1          -1   \n",
       " 1   5fec7577ad8fbadf15cd5607      6       -1            -1          -1   \n",
       " 2   5fec7577ad8fbadf15cd5607      3        1             1          -1   \n",
       " 3   5fec7577ad8fbadf15cd5607      6       -1            -1          -1   \n",
       " 4   5fec7577ad8fbadf15cd5607      4       -1             1          -1   \n",
       " ..                       ...    ...      ...           ...         ...   \n",
       " 85  5fec7577ad8fbadf15cd5607      1        1             1           1   \n",
       " 86  5fec7577ad8fbadf15cd5607      3       -1             1           1   \n",
       " 87  5fec7577ad8fbadf15cd5607      1        1             1           1   \n",
       " 88  5fec7577ad8fbadf15cd5607      6       -1            -1          -1   \n",
       " 89  5fec7577ad8fbadf15cd5607      6       -1            -1          -1   \n",
       " \n",
       "     pp_lied  RT_rating win_lose_tie  suspicion_rating  trial  ...  \\\n",
       " 0     False      11216          win               0.0      1  ...   \n",
       " 1     False       2689          tie               0.0      2  ...   \n",
       " 2     False       3516          tie               0.2      3  ...   \n",
       " 3     False       1722          tie               0.0      4  ...   \n",
       " 4     False       4337          win               0.0      5  ...   \n",
       " ..      ...        ...          ...               ...    ...  ...   \n",
       " 85    False       2175          tie               0.0     86  ...   \n",
       " 86    False       4463          win               0.4     87  ...   \n",
       " 87    False       1872          tie               0.2     88  ...   \n",
       " 88    False       3136          tie               0.2     89  ...   \n",
       " 89    False       2047          tie               0.2     90  ...   \n",
       " \n",
       "     normed_signed_e_v  normed_unsigned_e_v  cs_signed_e_v  \\\n",
       " 0            0.363636             0.285714  -1.428571e-01   \n",
       " 1            0.363636             0.285714  -2.857143e-01   \n",
       " 2            0.727273             0.571429   1.428571e-01   \n",
       " 3            0.363636             0.285714  -1.110223e-16   \n",
       " 4            0.181818             0.571429  -4.285714e-01   \n",
       " ..                ...                  ...            ...   \n",
       " 85           0.545455             0.285714   1.128571e+01   \n",
       " 86           0.090909             0.714286   1.071429e+01   \n",
       " 87           0.545455             0.285714   1.085714e+01   \n",
       " 88           0.363636             0.285714   1.071429e+01   \n",
       " 89           0.363636             0.285714   1.057143e+01   \n",
       " \n",
       "     normed_cs_signed_e_v  cs_unsigned_e_v  normed_cs_unsigned_e_v  \\\n",
       " 0               0.058140         0.142857                0.007782   \n",
       " 1               0.046512         0.285714                0.011673   \n",
       " 2               0.081395         0.714286                0.023346   \n",
       " 3               0.069767         0.857143                0.027237   \n",
       " 4               0.034884         1.285714                0.038911   \n",
       " ..                   ...              ...                     ...   \n",
       " 85              0.988372        35.571429                0.972763   \n",
       " 86              0.941860        36.142857                0.988327   \n",
       " 87              0.953488        36.285714                0.992218   \n",
       " 88              0.941860        36.428571                0.996109   \n",
       " 89              0.930233        36.571429                1.000000   \n",
       " \n",
       "     n_reported_colour_opp  n_consec_colour  normed_signed_colour_count  \\\n",
       " 0                       1                1                    0.250000   \n",
       " 1                       2                2                    0.166667   \n",
       " 2                       1                1                    0.416667   \n",
       " 3                       3                1                    0.250000   \n",
       " 4                       4                2                    0.166667   \n",
       " ..                    ...              ...                         ...   \n",
       " 85                     49                1                    0.416667   \n",
       " 86                     38                1                    0.250000   \n",
       " 87                     50                1                    0.416667   \n",
       " 88                     39                1                    0.250000   \n",
       " 89                     40                2                    0.166667   \n",
       " \n",
       "     normed_unsigned_colour_count  \n",
       " 0                       0.222222  \n",
       " 1                       0.333333  \n",
       " 2                       0.222222  \n",
       " 3                       0.222222  \n",
       " 4                       0.333333  \n",
       " ..                           ...  \n",
       " 85                      0.222222  \n",
       " 86                      0.222222  \n",
       " 87                      0.222222  \n",
       " 88                      0.222222  \n",
       " 89                      0.333333  \n",
       " \n",
       " [90 rows x 22 columns],\n",
       " '60f44f7a57468d4e9f87fa5b':                          PID  n_red  outcome  col_reported  col_picked  \\\n",
       " 0   60f44f7a57468d4e9f87fa5b      2        1            -1          -1   \n",
       " 1   60f44f7a57468d4e9f87fa5b      3        1            -1          -1   \n",
       " 2   60f44f7a57468d4e9f87fa5b      5       -1             1           1   \n",
       " 3   60f44f7a57468d4e9f87fa5b      5       -1             1          -1   \n",
       " 4   60f44f7a57468d4e9f87fa5b      5        1             1          -1   \n",
       " ..                       ...    ...      ...           ...         ...   \n",
       " 85  60f44f7a57468d4e9f87fa5b      2        1             1           1   \n",
       " 86  60f44f7a57468d4e9f87fa5b      2        1             1          -1   \n",
       " 87  60f44f7a57468d4e9f87fa5b      5        1             1           1   \n",
       " 88  60f44f7a57468d4e9f87fa5b      1        1             1           1   \n",
       " 89  60f44f7a57468d4e9f87fa5b      4       -1             1          -1   \n",
       " \n",
       "     pp_lied  RT_rating win_lose_tie  suspicion_rating  trial  ...  \\\n",
       " 0     False       2579         loss               0.4      1  ...   \n",
       " 1     False       7468         loss               0.6      2  ...   \n",
       " 2     False       3039          win               0.4      3  ...   \n",
       " 3      True       2336          win               0.4      4  ...   \n",
       " 4     False       2877          tie               0.4      5  ...   \n",
       " ..      ...        ...          ...               ...    ...  ...   \n",
       " 85    False       1700          tie               0.4     86  ...   \n",
       " 86    False       2456          tie               0.4     87  ...   \n",
       " 87     True       2075          tie               0.4     88  ...   \n",
       " 88    False       2394          tie               0.6     89  ...   \n",
       " 89    False       2750          win               0.4     90  ...   \n",
       " \n",
       "     normed_signed_e_v  normed_unsigned_e_v  cs_signed_e_v  \\\n",
       " 0            0.666667             0.428571       0.285714   \n",
       " 1            0.750000             0.571429       0.714286   \n",
       " 2            0.333333             0.428571       0.428571   \n",
       " 3            0.333333             0.428571       0.142857   \n",
       " 4            0.916667             0.857143       0.857143   \n",
       " ..                ...                  ...            ...   \n",
       " 85           0.666667             0.428571      14.714286   \n",
       " 86           0.666667             0.428571      15.000000   \n",
       " 87           0.916667             0.857143      15.714286   \n",
       " 88           0.583333             0.285714      15.857143   \n",
       " 89           0.250000             0.571429      15.428571   \n",
       " \n",
       "     normed_cs_signed_e_v  cs_unsigned_e_v  normed_cs_unsigned_e_v  \\\n",
       " 0               0.026786         0.285714                0.015385   \n",
       " 1               0.053571         0.714286                0.026923   \n",
       " 2               0.035714         1.000000                0.034615   \n",
       " 3               0.017857         1.285714                0.042308   \n",
       " 4               0.062500         2.000000                0.061538   \n",
       " ..                   ...              ...                     ...   \n",
       " 85              0.928571        35.285714                0.957692   \n",
       " 86              0.946429        35.571429                0.965385   \n",
       " 87              0.991071        36.285714                0.984615   \n",
       " 88              1.000000        36.428571                0.988462   \n",
       " 89              0.973214        36.857143                1.000000   \n",
       " \n",
       "     n_reported_colour_opp  n_consec_colour  normed_signed_colour_count  \\\n",
       " 0                       1                1                       0.500   \n",
       " 1                       2                2                       0.625   \n",
       " 2                       1                1                       0.250   \n",
       " 3                       2                2                       0.125   \n",
       " 4                       3                1                       0.500   \n",
       " ..                    ...              ...                         ...   \n",
       " 85                     51                1                       0.500   \n",
       " 86                     52                2                       0.625   \n",
       " 87                     53                3                       0.750   \n",
       " 88                     54                4                       0.875   \n",
       " 89                     36                1                       0.250   \n",
       " \n",
       "     normed_unsigned_colour_count  \n",
       " 0                       0.333333  \n",
       " 1                       0.500000  \n",
       " 2                       0.333333  \n",
       " 3                       0.500000  \n",
       " 4                       0.333333  \n",
       " ..                           ...  \n",
       " 85                      0.333333  \n",
       " 86                      0.500000  \n",
       " 87                      0.666667  \n",
       " 88                      0.833333  \n",
       " 89                      0.333333  \n",
       " \n",
       " [90 rows x 22 columns],\n",
       " '61085b8ec672d0e88151d5ae':                          PID  n_red  outcome  col_reported  col_picked  \\\n",
       " 0   61085b8ec672d0e88151d5ae      3        1             1          -1   \n",
       " 1   61085b8ec672d0e88151d5ae      4       -1             1           1   \n",
       " 2   61085b8ec672d0e88151d5ae      4        1            -1          -1   \n",
       " 3   61085b8ec672d0e88151d5ae      5       -1             1           1   \n",
       " 4   61085b8ec672d0e88151d5ae      1        1             1           1   \n",
       " ..                       ...    ...      ...           ...         ...   \n",
       " 85  61085b8ec672d0e88151d5ae      6        1            -1          -1   \n",
       " 86  61085b8ec672d0e88151d5ae      1        1             1          -1   \n",
       " 87  61085b8ec672d0e88151d5ae      6        1             1          -1   \n",
       " 88  61085b8ec672d0e88151d5ae      1        1             1           1   \n",
       " 89  61085b8ec672d0e88151d5ae      5        1            -1          -1   \n",
       " \n",
       "     pp_lied  RT_rating win_lose_tie  suspicion_rating  trial  ...  \\\n",
       " 0      True       2791          tie               0.4      1  ...   \n",
       " 1     False       3685          win               0.0      2  ...   \n",
       " 2     False       2521         loss               0.4      3  ...   \n",
       " 3     False       2053          win               0.0      4  ...   \n",
       " 4     False       2946          tie               0.0      5  ...   \n",
       " ..      ...        ...          ...               ...    ...  ...   \n",
       " 85     True      56450         loss               0.4     86  ...   \n",
       " 86    False       2744          tie               0.4     87  ...   \n",
       " 87     True       3381          tie               0.0     88  ...   \n",
       " 88    False       2419          tie               0.0     89  ...   \n",
       " 89    False       4792         loss               0.2     90  ...   \n",
       " \n",
       "     normed_signed_e_v  normed_unsigned_e_v  cs_signed_e_v  \\\n",
       " 0            0.727273             0.571429       0.428571   \n",
       " 1            0.181818             0.571429       0.000000   \n",
       " 2            0.818182             0.714286       0.571429   \n",
       " 3            0.272727             0.428571       0.285714   \n",
       " 4            0.545455             0.285714       0.428571   \n",
       " ..                ...                  ...            ...   \n",
       " 85           1.000000             1.000000      23.428571   \n",
       " 86           0.545455             0.285714      23.571429   \n",
       " 87           1.000000             1.000000      24.428571   \n",
       " 88           0.545455             0.285714      24.571429   \n",
       " 89           0.909091             0.857143      25.285714   \n",
       " \n",
       "     normed_cs_signed_e_v  cs_unsigned_e_v  normed_cs_unsigned_e_v  \\\n",
       " 0               0.016949         0.428571                0.022556   \n",
       " 1               0.000000         0.857143                0.033835   \n",
       " 2               0.022599         1.428571                0.048872   \n",
       " 3               0.011299         1.714286                0.056391   \n",
       " 4               0.016949         1.857143                0.060150   \n",
       " ..                   ...              ...                     ...   \n",
       " 85              0.926554        35.714286                0.951128   \n",
       " 86              0.932203        35.857143                0.954887   \n",
       " 87              0.966102        36.714286                0.977444   \n",
       " 88              0.971751        36.857143                0.981203   \n",
       " 89              1.000000        37.571429                1.000000   \n",
       " \n",
       "     n_reported_colour_opp  n_consec_colour  normed_signed_colour_count  \\\n",
       " 0                       1                1                    0.210526   \n",
       " 1                       1                1                    0.105263   \n",
       " 2                       2                1                    0.210526   \n",
       " 3                       2                1                    0.105263   \n",
       " 4                       3                1                    0.210526   \n",
       " ..                    ...              ...                         ...   \n",
       " 85                     66                3                    0.315789   \n",
       " 86                     67                4                    0.368421   \n",
       " 87                     68                5                    0.421053   \n",
       " 88                     69                6                    0.473684   \n",
       " 89                     70                7                    0.526316   \n",
       " \n",
       "     normed_unsigned_colour_count  \n",
       " 0                       0.117647  \n",
       " 1                       0.117647  \n",
       " 2                       0.117647  \n",
       " 3                       0.117647  \n",
       " 4                       0.117647  \n",
       " ..                           ...  \n",
       " 85                      0.235294  \n",
       " 86                      0.294118  \n",
       " 87                      0.352941  \n",
       " 88                      0.411765  \n",
       " 89                      0.470588  \n",
       " \n",
       " [90 rows x 22 columns],\n",
       " '6110e7ae08023ecb9207b05e':                          PID  n_red  outcome  col_reported  col_picked  \\\n",
       " 0   6110e7ae08023ecb9207b05e      6       -1            -1          -1   \n",
       " 1   6110e7ae08023ecb9207b05e      4        1            -1          -1   \n",
       " 2   6110e7ae08023ecb9207b05e      1        1             1           1   \n",
       " 3   6110e7ae08023ecb9207b05e      6       -1             1          -1   \n",
       " 4   6110e7ae08023ecb9207b05e      6       -1            -1          -1   \n",
       " ..                       ...    ...      ...           ...         ...   \n",
       " 85  6110e7ae08023ecb9207b05e      6       -1            -1          -1   \n",
       " 86  6110e7ae08023ecb9207b05e      4       -1            -1          -1   \n",
       " 87  6110e7ae08023ecb9207b05e      6       -1            -1          -1   \n",
       " 88  6110e7ae08023ecb9207b05e      5       -1            -1          -1   \n",
       " 89  6110e7ae08023ecb9207b05e      3       -1            -1          -1   \n",
       " \n",
       "     pp_lied  RT_rating win_lose_tie  suspicion_rating  trial  ...  \\\n",
       " 0     False       3571          tie               0.4      1  ...   \n",
       " 1      True       3814         loss               0.4      2  ...   \n",
       " 2     False       2422          tie               0.4      3  ...   \n",
       " 3     False       4097          win               0.6      4  ...   \n",
       " 4     False       2425          tie               0.4      5  ...   \n",
       " ..      ...        ...          ...               ...    ...  ...   \n",
       " 85    False       1855          tie               0.2     86  ...   \n",
       " 86    False       2730          tie               0.0     87  ...   \n",
       " 87    False       2214          tie               0.0     88  ...   \n",
       " 88    False       1814          tie               0.2     89  ...   \n",
       " 89    False       2918          tie               0.2     90  ...   \n",
       " \n",
       "     normed_signed_e_v  normed_unsigned_e_v  cs_signed_e_v  \\\n",
       " 0            0.416667             0.285714      -0.142857   \n",
       " 1            0.833333             0.714286       0.428571   \n",
       " 2            0.583333             0.285714       0.571429   \n",
       " 3            0.416667             0.285714       0.428571   \n",
       " 4            0.416667             0.285714       0.285714   \n",
       " ..                ...                  ...            ...   \n",
       " 85           0.416667             0.285714       4.714286   \n",
       " 86           0.250000             0.571429       4.285714   \n",
       " 87           0.416667             0.285714       4.142857   \n",
       " 88           0.333333             0.428571       3.857143   \n",
       " 89           0.166667             0.714286       3.285714   \n",
       " \n",
       "     normed_cs_signed_e_v  cs_unsigned_e_v  normed_cs_unsigned_e_v  \\\n",
       " 0               0.108696         0.142857                0.008547   \n",
       " 1               0.195652         0.714286                0.025641   \n",
       " 2               0.217391         0.857143                0.029915   \n",
       " 3               0.195652         1.000000                0.034188   \n",
       " 4               0.173913         1.142857                0.038462   \n",
       " ..                   ...              ...                     ...   \n",
       " 85              0.847826        31.857143                0.957265   \n",
       " 86              0.782609        32.285714                0.970085   \n",
       " 87              0.760870        32.428571                0.974359   \n",
       " 88              0.717391        32.714286                0.982906   \n",
       " 89              0.630435        33.285714                1.000000   \n",
       " \n",
       "     n_reported_colour_opp  n_consec_colour  normed_signed_colour_count  \\\n",
       " 0                       1                1                         0.4   \n",
       " 1                       1                1                         0.6   \n",
       " 2                       2                2                         0.7   \n",
       " 3                       2                1                         0.4   \n",
       " 4                       3                2                         0.3   \n",
       " ..                    ...              ...                         ...   \n",
       " 85                     45                1                         0.4   \n",
       " 86                     46                2                         0.3   \n",
       " 87                     47                3                         0.2   \n",
       " 88                     48                4                         0.1   \n",
       " 89                     49                5                         0.0   \n",
       " \n",
       "     normed_unsigned_colour_count  \n",
       " 0                       0.333333  \n",
       " 1                       0.333333  \n",
       " 2                       0.500000  \n",
       " 3                       0.333333  \n",
       " 4                       0.500000  \n",
       " ..                           ...  \n",
       " 85                      0.333333  \n",
       " 86                      0.500000  \n",
       " 87                      0.666667  \n",
       " 88                      0.833333  \n",
       " 89                      1.000000  \n",
       " \n",
       " [90 rows x 22 columns],\n",
       " '6147d726fa94eb7d5c2de156':                          PID  n_red  outcome  col_reported  col_picked  \\\n",
       " 0   6147d726fa94eb7d5c2de156      1        1            -1          -1   \n",
       " 1   6147d726fa94eb7d5c2de156      2        1            -1          -1   \n",
       " 2   6147d726fa94eb7d5c2de156      5        1             1          -1   \n",
       " 3   6147d726fa94eb7d5c2de156      6       -1             1          -1   \n",
       " 4   6147d726fa94eb7d5c2de156      6       -1            -1          -1   \n",
       " ..                       ...    ...      ...           ...         ...   \n",
       " 85  6147d726fa94eb7d5c2de156      2        1             1           1   \n",
       " 86  6147d726fa94eb7d5c2de156      6       -1            -1          -1   \n",
       " 87  6147d726fa94eb7d5c2de156      6        1            -1          -1   \n",
       " 88  6147d726fa94eb7d5c2de156      5        1            -1          -1   \n",
       " 89  6147d726fa94eb7d5c2de156      4       -1             1          -1   \n",
       " \n",
       "     pp_lied  RT_rating win_lose_tie  suspicion_rating  trial  ...  \\\n",
       " 0     False       4006         loss               0.8      1  ...   \n",
       " 1     False       3156         loss               0.6      2  ...   \n",
       " 2     False       1566          tie               0.4      3  ...   \n",
       " 3      True       2531          win               0.0      4  ...   \n",
       " 4     False       1680          tie               0.2      5  ...   \n",
       " ..      ...        ...          ...               ...    ...  ...   \n",
       " 85    False       2030          tie               0.4     86  ...   \n",
       " 86    False       1588          tie               0.2     87  ...   \n",
       " 87     True       1387         loss               0.6     88  ...   \n",
       " 88    False       1457         loss               0.8     89  ...   \n",
       " 89    False       1333          win               0.2     90  ...   \n",
       " \n",
       "     normed_signed_e_v  normed_unsigned_e_v  cs_signed_e_v  \\\n",
       " 0            0.545455             0.285714       0.142857   \n",
       " 1            0.636364             0.428571       0.428571   \n",
       " 2            0.909091             0.857143       1.142857   \n",
       " 3            0.363636             0.285714       1.000000   \n",
       " 4            0.363636             0.285714       0.857143   \n",
       " ..                ...                  ...            ...   \n",
       " 85           0.636364             0.428571      11.714286   \n",
       " 86           0.363636             0.285714      11.571429   \n",
       " 87           1.000000             1.000000      12.428571   \n",
       " 88           0.909091             0.857143      13.142857   \n",
       " 89           0.181818             0.571429      12.714286   \n",
       " \n",
       "     normed_cs_signed_e_v  cs_unsigned_e_v  normed_cs_unsigned_e_v  \\\n",
       " 0               0.021505         0.142857                0.007692   \n",
       " 1               0.043011         0.428571                0.015385   \n",
       " 2               0.096774         1.142857                0.034615   \n",
       " 3               0.086022         1.285714                0.038462   \n",
       " 4               0.075269         1.428571                0.042308   \n",
       " ..                   ...              ...                     ...   \n",
       " 85              0.892473        34.857143                0.942308   \n",
       " 86              0.881720        35.000000                0.946154   \n",
       " 87              0.946237        35.857143                0.969231   \n",
       " 88              1.000000        36.571429                0.988462   \n",
       " 89              0.967742        37.000000                1.000000   \n",
       " \n",
       "     n_reported_colour_opp  n_consec_colour  normed_signed_colour_count  \\\n",
       " 0                       1                1                    0.555556   \n",
       " 1                       2                2                    0.666667   \n",
       " 2                       3                3                    0.777778   \n",
       " 3                       1                1                    0.333333   \n",
       " 4                       2                2                    0.222222   \n",
       " ..                    ...              ...                         ...   \n",
       " 85                     47                2                    0.666667   \n",
       " 86                     40                1                    0.333333   \n",
       " 87                     48                1                    0.555556   \n",
       " 88                     49                2                    0.666667   \n",
       " 89                     41                1                    0.333333   \n",
       " \n",
       "     normed_unsigned_colour_count  \n",
       " 0                       0.333333  \n",
       " 1                       0.500000  \n",
       " 2                       0.666667  \n",
       " 3                       0.333333  \n",
       " 4                       0.500000  \n",
       " ..                           ...  \n",
       " 85                      0.500000  \n",
       " 86                      0.333333  \n",
       " 87                      0.333333  \n",
       " 88                      0.500000  \n",
       " 89                      0.333333  \n",
       " \n",
       " [90 rows x 22 columns],\n",
       " '614f23537aab4e64abfd53ae':                          PID  n_red  outcome  col_reported  col_picked  \\\n",
       " 0   614f23537aab4e64abfd53ae      5        1            -1          -1   \n",
       " 1   614f23537aab4e64abfd53ae      4       -1             1           1   \n",
       " 2   614f23537aab4e64abfd53ae      6       -1             1           1   \n",
       " 3   614f23537aab4e64abfd53ae      6        1             1          -1   \n",
       " 4   614f23537aab4e64abfd53ae      6       -1             1           1   \n",
       " ..                       ...    ...      ...           ...         ...   \n",
       " 85  614f23537aab4e64abfd53ae      3        1             1           1   \n",
       " 86  614f23537aab4e64abfd53ae      4        1             1           1   \n",
       " 87  614f23537aab4e64abfd53ae      5       -1            -1          -1   \n",
       " 88  614f23537aab4e64abfd53ae      5        1            -1          -1   \n",
       " 89  614f23537aab4e64abfd53ae      5        1             1           1   \n",
       " \n",
       "     pp_lied  RT_rating win_lose_tie  suspicion_rating  trial  ...  \\\n",
       " 0     False       4347         loss               0.6      1  ...   \n",
       " 1     False       1963          win               0.2      2  ...   \n",
       " 2     False       1235          win               0.2      3  ...   \n",
       " 3     False       1699          tie               0.6      4  ...   \n",
       " 4     False       1611          win               0.2      5  ...   \n",
       " ..      ...        ...          ...               ...    ...  ...   \n",
       " 85     True       1275          tie               0.4     86  ...   \n",
       " 86    False       1091          tie               0.4     87  ...   \n",
       " 87    False       1441          tie               0.4     88  ...   \n",
       " 88     True       1352         loss               0.6     89  ...   \n",
       " 89     True       1449          tie               0.6     90  ...   \n",
       " \n",
       "     normed_signed_e_v  normed_unsigned_e_v  cs_signed_e_v  \\\n",
       " 0            0.916667             0.857143       0.714286   \n",
       " 1            0.250000             0.571429       0.285714   \n",
       " 2            0.416667             0.285714       0.142857   \n",
       " 3            1.000000             1.000000       1.000000   \n",
       " 4            0.416667             0.285714       0.857143   \n",
       " ..                ...                  ...            ...   \n",
       " 85           0.750000             0.571429      28.857143   \n",
       " 86           0.833333             0.714286      29.428571   \n",
       " 87           0.333333             0.428571      29.142857   \n",
       " 88           0.916667             0.857143      29.857143   \n",
       " 89           0.916667             0.857143      30.571429   \n",
       " \n",
       "     normed_cs_signed_e_v  cs_unsigned_e_v  normed_cs_unsigned_e_v  \\\n",
       " 0               0.027907         0.714286                0.034602   \n",
       " 1               0.013953         1.142857                0.044983   \n",
       " 2               0.009302         1.285714                0.048443   \n",
       " 3               0.037209         2.142857                0.069204   \n",
       " 4               0.032558         2.285714                0.072664   \n",
       " ..                   ...              ...                     ...   \n",
       " 85              0.944186        38.285714                0.944637   \n",
       " 86              0.962791        38.857143                0.958478   \n",
       " 87              0.953488        39.142857                0.965398   \n",
       " 88              0.976744        39.857143                0.982699   \n",
       " 89              1.000000        40.571429                1.000000   \n",
       " \n",
       "     n_reported_colour_opp  n_consec_colour  normed_signed_colour_count  \\\n",
       " 0                       1                1                    0.210526   \n",
       " 1                       1                1                    0.105263   \n",
       " 2                       2                2                    0.052632   \n",
       " 3                       2                1                    0.210526   \n",
       " 4                       3                1                    0.105263   \n",
       " ..                    ...              ...                         ...   \n",
       " 85                     67               11                    0.736842   \n",
       " 86                     68               12                    0.789474   \n",
       " 87                     20                1                    0.105263   \n",
       " 88                     69                1                    0.210526   \n",
       " 89                     70                2                    0.263158   \n",
       " \n",
       "     normed_unsigned_colour_count  \n",
       " 0                       0.117647  \n",
       " 1                       0.117647  \n",
       " 2                       0.176471  \n",
       " 3                       0.117647  \n",
       " 4                       0.117647  \n",
       " ..                           ...  \n",
       " 85                      0.705882  \n",
       " 86                      0.764706  \n",
       " 87                      0.117647  \n",
       " 88                      0.117647  \n",
       " 89                      0.176471  \n",
       " \n",
       " [90 rows x 22 columns],\n",
       " '6152218517a89c5b41e18a06':                          PID  n_red  outcome  col_reported  col_picked  \\\n",
       " 0   6152218517a89c5b41e18a06      2        1            -1          -1   \n",
       " 1   6152218517a89c5b41e18a06      6       -1            -1          -1   \n",
       " 2   6152218517a89c5b41e18a06      5        1             1           1   \n",
       " 3   6152218517a89c5b41e18a06      2        1            -1          -1   \n",
       " 4   6152218517a89c5b41e18a06      3       -1            -1          -1   \n",
       " ..                       ...    ...      ...           ...         ...   \n",
       " 85  6152218517a89c5b41e18a06      4        1            -1          -1   \n",
       " 86  6152218517a89c5b41e18a06      6        1            -1          -1   \n",
       " 87  6152218517a89c5b41e18a06      1       -1             1           1   \n",
       " 88  6152218517a89c5b41e18a06      2        1             1           1   \n",
       " 89  6152218517a89c5b41e18a06      2        1            -1          -1   \n",
       " \n",
       "     pp_lied  RT_rating win_lose_tie  suspicion_rating  trial  ...  \\\n",
       " 0     False       2996         loss               0.4      1  ...   \n",
       " 1     False       3440          tie               0.2      2  ...   \n",
       " 2     False       2810          tie               0.6      3  ...   \n",
       " 3     False       4045         loss               0.2      4  ...   \n",
       " 4     False       4182          tie               0.2      5  ...   \n",
       " ..      ...        ...          ...               ...    ...  ...   \n",
       " 85    False       5794         loss               0.2     86  ...   \n",
       " 86     True       3109         loss               0.2     87  ...   \n",
       " 87    False       3408          win               0.2     88  ...   \n",
       " 88    False       5657          tie               0.8     89  ...   \n",
       " 89    False       3681         loss               0.4     90  ...   \n",
       " \n",
       "     normed_signed_e_v  normed_unsigned_e_v  cs_signed_e_v  \\\n",
       " 0            0.666667             0.428571       0.285714   \n",
       " 1            0.416667             0.285714       0.142857   \n",
       " 2            0.916667             0.857143       0.857143   \n",
       " 3            0.666667             0.428571       1.142857   \n",
       " 4            0.166667             0.714286       0.571429   \n",
       " ..                ...                  ...            ...   \n",
       " 85           0.833333             0.714286      28.714286   \n",
       " 86           1.000000             1.000000      29.571429   \n",
       " 87           0.000000             1.000000      28.714286   \n",
       " 88           0.666667             0.428571      29.000000   \n",
       " 89           0.666667             0.428571      29.285714   \n",
       " \n",
       "     normed_cs_signed_e_v  cs_unsigned_e_v  normed_cs_unsigned_e_v  \\\n",
       " 0               0.014423         0.285714                0.013115   \n",
       " 1               0.009615         0.428571                0.016393   \n",
       " 2               0.033654         1.142857                0.032787   \n",
       " 3               0.043269         1.428571                0.039344   \n",
       " 4               0.024038         2.000000                0.052459   \n",
       " ..                   ...              ...                     ...   \n",
       " 85              0.971154        41.000000                0.947541   \n",
       " 86              1.000000        41.857143                0.967213   \n",
       " 87              0.971154        42.714286                0.986885   \n",
       " 88              0.980769        43.000000                0.993443   \n",
       " 89              0.990385        43.285714                1.000000   \n",
       " \n",
       "     n_reported_colour_opp  n_consec_colour  normed_signed_colour_count  \\\n",
       " 0                       1                1                    0.307692   \n",
       " 1                       1                1                    0.153846   \n",
       " 2                       2                1                    0.307692   \n",
       " 3                       3                2                    0.384615   \n",
       " 4                       2                1                    0.153846   \n",
       " ..                    ...              ...                         ...   \n",
       " 85                     66                1                    0.307692   \n",
       " 86                     67                2                    0.384615   \n",
       " 87                     21                1                    0.153846   \n",
       " 88                     68                1                    0.307692   \n",
       " 89                     69                2                    0.384615   \n",
       " \n",
       "     normed_unsigned_colour_count  \n",
       " 0                       0.181818  \n",
       " 1                       0.181818  \n",
       " 2                       0.181818  \n",
       " 3                       0.272727  \n",
       " 4                       0.181818  \n",
       " ..                           ...  \n",
       " 85                      0.181818  \n",
       " 86                      0.272727  \n",
       " 87                      0.181818  \n",
       " 88                      0.181818  \n",
       " 89                      0.272727  \n",
       " \n",
       " [90 rows x 22 columns],\n",
       " '61533356ce435e5a4a4addd0':                          PID  n_red  outcome  col_reported  col_picked  \\\n",
       " 0   61533356ce435e5a4a4addd0      6        1            -1          -1   \n",
       " 1   61533356ce435e5a4a4addd0      3       -1             1           1   \n",
       " 2   61533356ce435e5a4a4addd0      5       -1             1          -1   \n",
       " 3   61533356ce435e5a4a4addd0      5        1             1          -1   \n",
       " 4   61533356ce435e5a4a4addd0      4        1             1           1   \n",
       " ..                       ...    ...      ...           ...         ...   \n",
       " 85  61533356ce435e5a4a4addd0      6        1             1          -1   \n",
       " 86  61533356ce435e5a4a4addd0      2        1             1           1   \n",
       " 87  61533356ce435e5a4a4addd0      2        1             1          -1   \n",
       " 88  61533356ce435e5a4a4addd0      3       -1             1           1   \n",
       " 89  61533356ce435e5a4a4addd0      6       -1             1          -1   \n",
       " \n",
       "     pp_lied  RT_rating win_lose_tie  suspicion_rating  trial  ...  \\\n",
       " 0      True       2948         loss               0.4      1  ...   \n",
       " 1     False       2166          win               0.4      2  ...   \n",
       " 2     False       2868          win               0.4      3  ...   \n",
       " 3      True       1879          tie               0.4      4  ...   \n",
       " 4     False       2015          tie               0.4      5  ...   \n",
       " ..      ...        ...          ...               ...    ...  ...   \n",
       " 85     True       1795          tie               0.4     86  ...   \n",
       " 86    False       2474          tie               0.4     87  ...   \n",
       " 87    False       2490          tie               0.4     88  ...   \n",
       " 88    False       1750          win               0.0     89  ...   \n",
       " 89    False       1702          win               0.0     90  ...   \n",
       " \n",
       "     normed_signed_e_v  normed_unsigned_e_v  cs_signed_e_v  \\\n",
       " 0            1.000000             1.000000   8.571429e-01   \n",
       " 1            0.090909             0.714286   2.857143e-01   \n",
       " 2            0.272727             0.428571   1.110223e-16   \n",
       " 3            0.909091             0.857143   7.142857e-01   \n",
       " 4            0.818182             0.714286   1.285714e+00   \n",
       " ..                ...                  ...            ...   \n",
       " 85           1.000000             1.000000   2.585714e+01   \n",
       " 86           0.636364             0.428571   2.614286e+01   \n",
       " 87           0.636364             0.428571   2.642857e+01   \n",
       " 88           0.090909             0.714286   2.585714e+01   \n",
       " 89           0.363636             0.285714   2.571429e+01   \n",
       " \n",
       "     normed_cs_signed_e_v  cs_unsigned_e_v  normed_cs_unsigned_e_v  \\\n",
       " 0           3.243243e-02         0.857143                0.041096   \n",
       " 1           1.081081e-02         1.428571                0.054795   \n",
       " 2           8.401688e-18         1.714286                0.061644   \n",
       " 3           2.702703e-02         2.428571                0.078767   \n",
       " 4           4.864865e-02         3.000000                0.092466   \n",
       " ..                   ...              ...                     ...   \n",
       " 85          9.783784e-01        39.571429                0.969178   \n",
       " 86          9.891892e-01        39.857143                0.976027   \n",
       " 87          1.000000e+00        40.142857                0.982877   \n",
       " 88          9.783784e-01        40.714286                0.996575   \n",
       " 89          9.729730e-01        40.857143                1.000000   \n",
       " \n",
       "     n_reported_colour_opp  n_consec_colour  normed_signed_colour_count  \\\n",
       " 0                       1                1                    0.333333   \n",
       " 1                       1                1                    0.200000   \n",
       " 2                       2                2                    0.133333   \n",
       " 3                       2                1                    0.333333   \n",
       " 4                       3                2                    0.400000   \n",
       " ..                    ...              ...                         ...   \n",
       " 85                     61                1                    0.333333   \n",
       " 86                     62                2                    0.400000   \n",
       " 87                     63                3                    0.466667   \n",
       " 88                     26                1                    0.200000   \n",
       " 89                     27                2                    0.133333   \n",
       " \n",
       "     normed_unsigned_colour_count  \n",
       " 0                       0.166667  \n",
       " 1                       0.166667  \n",
       " 2                       0.250000  \n",
       " 3                       0.166667  \n",
       " 4                       0.250000  \n",
       " ..                           ...  \n",
       " 85                      0.166667  \n",
       " 86                      0.250000  \n",
       " 87                      0.333333  \n",
       " 88                      0.166667  \n",
       " 89                      0.250000  \n",
       " \n",
       " [90 rows x 22 columns],\n",
       " '6154284fc5154abb9a264b0c':                          PID  n_red  outcome  col_reported  col_picked  \\\n",
       " 0   6154284fc5154abb9a264b0c      5        1             1           1   \n",
       " 1   6154284fc5154abb9a264b0c      2       -1             1           1   \n",
       " 2   6154284fc5154abb9a264b0c      5       -1            -1          -1   \n",
       " 3   6154284fc5154abb9a264b0c      2        1             1          -1   \n",
       " 4   6154284fc5154abb9a264b0c      5        1             1          -1   \n",
       " ..                       ...    ...      ...           ...         ...   \n",
       " 85  6154284fc5154abb9a264b0c      4       -1            -1          -1   \n",
       " 86  6154284fc5154abb9a264b0c      3        1            -1          -1   \n",
       " 87  6154284fc5154abb9a264b0c      5        1            -1          -1   \n",
       " 88  6154284fc5154abb9a264b0c      4       -1            -1          -1   \n",
       " 89  6154284fc5154abb9a264b0c      4        1             1           1   \n",
       " \n",
       "     pp_lied  RT_rating win_lose_tie  suspicion_rating  trial  ...  \\\n",
       " 0      True       5973          tie               0.2      1  ...   \n",
       " 1     False       3340          win               0.8      2  ...   \n",
       " 2     False       5062          tie               0.4      3  ...   \n",
       " 3     False       5419          tie               0.8      4  ...   \n",
       " 4     False       2682          tie               0.6      5  ...   \n",
       " ..      ...        ...          ...               ...    ...  ...   \n",
       " 85    False       1906          tie               0.2     86  ...   \n",
       " 86    False       4413         loss               1.0     87  ...   \n",
       " 87    False       2352         loss               1.0     88  ...   \n",
       " 88    False       1898          tie               0.2     89  ...   \n",
       " 89     True       2362          tie               0.0     90  ...   \n",
       " \n",
       "     normed_signed_e_v  normed_unsigned_e_v  cs_signed_e_v  \\\n",
       " 0            0.916667             0.857143       0.714286   \n",
       " 1            0.083333             0.857143       0.000000   \n",
       " 2            0.333333             0.428571      -0.285714   \n",
       " 3            0.666667             0.428571       0.000000   \n",
       " 4            0.916667             0.857143       0.714286   \n",
       " ..                ...                  ...            ...   \n",
       " 85           0.250000             0.571429       6.000000   \n",
       " 86           0.750000             0.571429       6.428571   \n",
       " 87           0.916667             0.857143       7.142857   \n",
       " 88           0.250000             0.571429       6.714286   \n",
       " 89           0.833333             0.714286       7.285714   \n",
       " \n",
       "     normed_cs_signed_e_v  cs_unsigned_e_v  normed_cs_unsigned_e_v  \\\n",
       " 0               0.120690         0.714286                0.038760   \n",
       " 1               0.034483         1.428571                0.058140   \n",
       " 2               0.000000         1.714286                0.065891   \n",
       " 3               0.034483         2.000000                0.073643   \n",
       " 4               0.120690         2.714286                0.093023   \n",
       " ..                   ...              ...                     ...   \n",
       " 85              0.758621        34.000000                0.941860   \n",
       " 86              0.810345        34.428571                0.953488   \n",
       " 87              0.896552        35.142857                0.972868   \n",
       " 88              0.844828        35.571429                0.984496   \n",
       " 89              0.913793        36.142857                1.000000   \n",
       " \n",
       "     n_reported_colour_opp  n_consec_colour  normed_signed_colour_count  \\\n",
       " 0                       1                1                    0.545455   \n",
       " 1                       1                1                    0.363636   \n",
       " 2                       2                2                    0.272727   \n",
       " 3                       2                1                    0.545455   \n",
       " 4                       3                2                    0.636364   \n",
       " ..                    ...              ...                         ...   \n",
       " 85                     42                1                    0.363636   \n",
       " 86                     45                1                    0.545455   \n",
       " 87                     46                2                    0.636364   \n",
       " 88                     43                1                    0.363636   \n",
       " 89                     47                1                    0.545455   \n",
       " \n",
       "     normed_unsigned_colour_count  \n",
       " 0                       0.285714  \n",
       " 1                       0.285714  \n",
       " 2                       0.428571  \n",
       " 3                       0.285714  \n",
       " 4                       0.428571  \n",
       " ..                           ...  \n",
       " 85                      0.285714  \n",
       " 86                      0.285714  \n",
       " 87                      0.428571  \n",
       " 88                      0.285714  \n",
       " 89                      0.285714  \n",
       " \n",
       " [90 rows x 22 columns],\n",
       " '6156ee007bdef87eb5b4aeb0':                          PID  n_red  outcome  col_reported  col_picked  \\\n",
       " 0   6156ee007bdef87eb5b4aeb0      6        1             1          -1   \n",
       " 1   6156ee007bdef87eb5b4aeb0      4        1             1          -1   \n",
       " 2   6156ee007bdef87eb5b4aeb0      5        1             1          -1   \n",
       " 3   6156ee007bdef87eb5b4aeb0      5        1             1           1   \n",
       " 4   6156ee007bdef87eb5b4aeb0      6       -1             1          -1   \n",
       " ..                       ...    ...      ...           ...         ...   \n",
       " 85  6156ee007bdef87eb5b4aeb0      5       -1             1          -1   \n",
       " 86  6156ee007bdef87eb5b4aeb0      4        1             1          -1   \n",
       " 87  6156ee007bdef87eb5b4aeb0      5        1             1          -1   \n",
       " 88  6156ee007bdef87eb5b4aeb0      4        1             1           1   \n",
       " 89  6156ee007bdef87eb5b4aeb0      4        1             1          -1   \n",
       " \n",
       "     pp_lied  RT_rating win_lose_tie  suspicion_rating  trial  ...  \\\n",
       " 0     False       3923          tie               0.0      1  ...   \n",
       " 1      True       2877          tie               0.0      2  ...   \n",
       " 2      True       3636          tie               0.0      3  ...   \n",
       " 3     False       3147          tie               0.0      4  ...   \n",
       " 4     False       3002          win               0.0      5  ...   \n",
       " ..      ...        ...          ...               ...    ...  ...   \n",
       " 85    False       3494          win               0.4     86  ...   \n",
       " 86     True       3592          tie               0.4     87  ...   \n",
       " 87     True      14036          tie               0.6     88  ...   \n",
       " 88    False      83157          tie               0.6     89  ...   \n",
       " 89     True      39191          tie               0.6     90  ...   \n",
       " \n",
       "     normed_signed_e_v  normed_unsigned_e_v  cs_signed_e_v  \\\n",
       " 0            1.000000             1.000000       0.857143   \n",
       " 1            0.818182             0.714286       1.428571   \n",
       " 2            0.909091             0.857143       2.142857   \n",
       " 3            0.909091             0.857143       2.857143   \n",
       " 4            0.363636             0.285714       2.714286   \n",
       " ..                ...                  ...            ...   \n",
       " 85           0.272727             0.428571      29.857143   \n",
       " 86           0.818182             0.714286      30.428571   \n",
       " 87           0.909091             0.857143      31.142857   \n",
       " 88           0.818182             0.714286      31.714286   \n",
       " 89           0.818182             0.714286      32.285714   \n",
       " \n",
       "     normed_cs_signed_e_v  cs_unsigned_e_v  normed_cs_unsigned_e_v  \\\n",
       " 0               0.051724         0.857143                0.037267   \n",
       " 1               0.068966         1.428571                0.049689   \n",
       " 2               0.090517         2.142857                0.065217   \n",
       " 3               0.112069         2.857143                0.080745   \n",
       " 4               0.107759         3.000000                0.083851   \n",
       " ..                   ...              ...                     ...   \n",
       " 85              0.926724        42.714286                0.947205   \n",
       " 86              0.943966        43.285714                0.959627   \n",
       " 87              0.965517        44.000000                0.975155   \n",
       " 88              0.982759        44.571429                0.987578   \n",
       " 89              1.000000        45.142857                1.000000   \n",
       " \n",
       "     n_reported_colour_opp  n_consec_colour  normed_signed_colour_count  \\\n",
       " 0                       1                1                    0.307692   \n",
       " 1                       2                2                    0.384615   \n",
       " 2                       3                3                    0.461538   \n",
       " 3                       4                4                    0.538462   \n",
       " 4                       1                1                    0.153846   \n",
       " ..                    ...              ...                         ...   \n",
       " 85                     22                1                    0.153846   \n",
       " 86                     65                1                    0.307692   \n",
       " 87                     66                2                    0.384615   \n",
       " 88                     67                3                    0.461538   \n",
       " 89                     68                4                    0.538462   \n",
       " \n",
       "     normed_unsigned_colour_count  \n",
       " 0                       0.181818  \n",
       " 1                       0.272727  \n",
       " 2                       0.363636  \n",
       " 3                       0.454545  \n",
       " 4                       0.181818  \n",
       " ..                           ...  \n",
       " 85                      0.181818  \n",
       " 86                      0.181818  \n",
       " 87                      0.272727  \n",
       " 88                      0.363636  \n",
       " 89                      0.454545  \n",
       " \n",
       " [90 rows x 22 columns],\n",
       " '615d9f86fdd5e127d783e850':                          PID  n_red  outcome  col_reported  col_picked  \\\n",
       " 0   615d9f86fdd5e127d783e850      5        1            -1          -1   \n",
       " 1   615d9f86fdd5e127d783e850      4       -1            -1          -1   \n",
       " 2   615d9f86fdd5e127d783e850      6       -1            -1          -1   \n",
       " 3   615d9f86fdd5e127d783e850      6        1            -1          -1   \n",
       " 4   615d9f86fdd5e127d783e850      6       -1            -1          -1   \n",
       " ..                       ...    ...      ...           ...         ...   \n",
       " 85  615d9f86fdd5e127d783e850      3        1            -1          -1   \n",
       " 86  615d9f86fdd5e127d783e850      4        1             1           1   \n",
       " 87  615d9f86fdd5e127d783e850      5       -1             1          -1   \n",
       " 88  615d9f86fdd5e127d783e850      5        1            -1          -1   \n",
       " 89  615d9f86fdd5e127d783e850      5        1             1          -1   \n",
       " \n",
       "     pp_lied  RT_rating win_lose_tie  suspicion_rating  trial  ...  \\\n",
       " 0     False       4953         loss               0.4      1  ...   \n",
       " 1     False       2441          tie               0.2      2  ...   \n",
       " 2     False       2332          tie               0.0      3  ...   \n",
       " 3     False       2198         loss               0.2      4  ...   \n",
       " 4     False       2113          tie               0.0      5  ...   \n",
       " ..      ...        ...          ...               ...    ...  ...   \n",
       " 85     True       2944         loss               0.6     86  ...   \n",
       " 86    False       3387          tie               0.6     87  ...   \n",
       " 87    False       2943          win               0.4     88  ...   \n",
       " 88     True       4298         loss               0.6     89  ...   \n",
       " 89     True       3207          tie               0.8     90  ...   \n",
       " \n",
       "     normed_signed_e_v  normed_unsigned_e_v  cs_signed_e_v  \\\n",
       " 0            0.916667             0.857143       0.714286   \n",
       " 1            0.250000             0.571429       0.285714   \n",
       " 2            0.416667             0.285714       0.142857   \n",
       " 3            1.000000             1.000000       1.000000   \n",
       " 4            0.416667             0.285714       0.857143   \n",
       " ..                ...                  ...            ...   \n",
       " 85           0.750000             0.571429      28.857143   \n",
       " 86           0.833333             0.714286      29.428571   \n",
       " 87           0.333333             0.428571      29.142857   \n",
       " 88           0.916667             0.857143      29.857143   \n",
       " 89           0.916667             0.857143      30.571429   \n",
       " \n",
       "     normed_cs_signed_e_v  cs_unsigned_e_v  normed_cs_unsigned_e_v  \\\n",
       " 0               0.027907         0.714286                0.034602   \n",
       " 1               0.013953         1.142857                0.044983   \n",
       " 2               0.009302         1.285714                0.048443   \n",
       " 3               0.037209         2.142857                0.069204   \n",
       " 4               0.032558         2.285714                0.072664   \n",
       " ..                   ...              ...                     ...   \n",
       " 85              0.944186        38.285714                0.944637   \n",
       " 86              0.962791        38.857143                0.958478   \n",
       " 87              0.953488        39.142857                0.965398   \n",
       " 88              0.976744        39.857143                0.982699   \n",
       " 89              1.000000        40.571429                1.000000   \n",
       " \n",
       "     n_reported_colour_opp  n_consec_colour  normed_signed_colour_count  \\\n",
       " 0                       1                1                    0.210526   \n",
       " 1                       1                1                    0.105263   \n",
       " 2                       2                2                    0.052632   \n",
       " 3                       2                1                    0.210526   \n",
       " 4                       3                1                    0.105263   \n",
       " ..                    ...              ...                         ...   \n",
       " 85                     67               11                    0.736842   \n",
       " 86                     68               12                    0.789474   \n",
       " 87                     20                1                    0.105263   \n",
       " 88                     69                1                    0.210526   \n",
       " 89                     70                2                    0.263158   \n",
       " \n",
       "     normed_unsigned_colour_count  \n",
       " 0                       0.117647  \n",
       " 1                       0.117647  \n",
       " 2                       0.176471  \n",
       " 3                       0.117647  \n",
       " 4                       0.117647  \n",
       " ..                           ...  \n",
       " 85                      0.705882  \n",
       " 86                      0.764706  \n",
       " 87                      0.117647  \n",
       " 88                      0.117647  \n",
       " 89                      0.176471  \n",
       " \n",
       " [90 rows x 22 columns],\n",
       " '615ec4f34cb81d7e58fa144c':                          PID  n_red  outcome  col_reported  col_picked  \\\n",
       " 0   615ec4f34cb81d7e58fa144c      6       -1            -1          -1   \n",
       " 1   615ec4f34cb81d7e58fa144c      1        1            -1          -1   \n",
       " 2   615ec4f34cb81d7e58fa144c      2       -1             1           1   \n",
       " 3   615ec4f34cb81d7e58fa144c      3       -1             1           1   \n",
       " 4   615ec4f34cb81d7e58fa144c      5       -1            -1          -1   \n",
       " ..                       ...    ...      ...           ...         ...   \n",
       " 85  615ec4f34cb81d7e58fa144c      5       -1            -1          -1   \n",
       " 86  615ec4f34cb81d7e58fa144c      1        1             1           1   \n",
       " 87  615ec4f34cb81d7e58fa144c      2        1             1           1   \n",
       " 88  615ec4f34cb81d7e58fa144c      5        1            -1          -1   \n",
       " 89  615ec4f34cb81d7e58fa144c      4        1             1           1   \n",
       " \n",
       "     pp_lied  RT_rating win_lose_tie  suspicion_rating  trial  ...  \\\n",
       " 0     False       2619          tie               0.2      1  ...   \n",
       " 1      True       3284         loss               0.2      2  ...   \n",
       " 2     False       2175          win               0.2      3  ...   \n",
       " 3     False       3204          win               0.2      4  ...   \n",
       " 4     False       3852          tie               0.2      5  ...   \n",
       " ..      ...        ...          ...               ...    ...  ...   \n",
       " 85    False       1674          tie               0.4     86  ...   \n",
       " 86    False       1601          tie               0.2     87  ...   \n",
       " 87    False       1767          tie               0.2     88  ...   \n",
       " 88    False       1728         loss               0.4     89  ...   \n",
       " 89    False       2106          tie               0.4     90  ...   \n",
       " \n",
       "     normed_signed_e_v  normed_unsigned_e_v  cs_signed_e_v  \\\n",
       " 0            0.416667             0.285714      -0.142857   \n",
       " 1            0.583333             0.285714       0.000000   \n",
       " 2            0.083333             0.857143      -0.714286   \n",
       " 3            0.166667             0.714286      -1.285714   \n",
       " 4            0.333333             0.428571      -1.571429   \n",
       " ..                ...                  ...            ...   \n",
       " 85           0.333333             0.428571       8.714286   \n",
       " 86           0.583333             0.285714       8.857143   \n",
       " 87           0.666667             0.428571       9.142857   \n",
       " 88           0.916667             0.857143       9.857143   \n",
       " 89           0.833333             0.714286      10.428571   \n",
       " \n",
       "     normed_cs_signed_e_v  cs_unsigned_e_v  normed_cs_unsigned_e_v  \\\n",
       " 0               0.149425         0.142857                0.008130   \n",
       " 1               0.160920         0.285714                0.012195   \n",
       " 2               0.103448         1.000000                0.032520   \n",
       " 3               0.057471         1.571429                0.048780   \n",
       " 4               0.034483         1.857143                0.056911   \n",
       " ..                   ...              ...                     ...   \n",
       " 85              0.862069        33.285714                0.951220   \n",
       " 86              0.873563        33.428571                0.955285   \n",
       " 87              0.896552        33.714286                0.963415   \n",
       " 88              0.954023        34.428571                0.983740   \n",
       " 89              1.000000        35.000000                1.000000   \n",
       " \n",
       "     n_reported_colour_opp  n_consec_colour  normed_signed_colour_count  \\\n",
       " 0                       1                1                    0.363636   \n",
       " 1                       1                1                    0.545455   \n",
       " 2                       2                1                    0.363636   \n",
       " 3                       3                2                    0.272727   \n",
       " 4                       4                3                    0.181818   \n",
       " ..                    ...              ...                         ...   \n",
       " 85                     42                4                    0.090909   \n",
       " 86                     45                1                    0.545455   \n",
       " 87                     46                2                    0.636364   \n",
       " 88                     47                3                    0.727273   \n",
       " 89                     48                4                    0.818182   \n",
       " \n",
       "     normed_unsigned_colour_count  \n",
       " 0                       0.285714  \n",
       " 1                       0.285714  \n",
       " 2                       0.285714  \n",
       " 3                       0.428571  \n",
       " 4                       0.571429  \n",
       " ..                           ...  \n",
       " 85                      0.714286  \n",
       " 86                      0.285714  \n",
       " 87                      0.428571  \n",
       " 88                      0.571429  \n",
       " 89                      0.714286  \n",
       " \n",
       " [90 rows x 22 columns],\n",
       " '615f0726cbd12330a2d82556':                          PID  n_red  outcome  col_reported  col_picked  \\\n",
       " 0   615f0726cbd12330a2d82556      1        1            -1          -1   \n",
       " 1   615f0726cbd12330a2d82556      5       -1             1           1   \n",
       " 2   615f0726cbd12330a2d82556      5        1            -1          -1   \n",
       " 3   615f0726cbd12330a2d82556      4       -1             1           1   \n",
       " 4   615f0726cbd12330a2d82556      5        1             1           1   \n",
       " ..                       ...    ...      ...           ...         ...   \n",
       " 85  615f0726cbd12330a2d82556      1        1             1           1   \n",
       " 86  615f0726cbd12330a2d82556      6       -1            -1          -1   \n",
       " 87  615f0726cbd12330a2d82556      4        1             1           1   \n",
       " 88  615f0726cbd12330a2d82556      5        1            -1          -1   \n",
       " 89  615f0726cbd12330a2d82556      6       -1            -1          -1   \n",
       " \n",
       "     pp_lied  RT_rating win_lose_tie  suspicion_rating  trial  ...  \\\n",
       " 0     False       4744         loss               0.4      1  ...   \n",
       " 1     False       5467          win               0.2      2  ...   \n",
       " 2      True       3129         loss               0.6      3  ...   \n",
       " 3     False       6880          win               0.4      4  ...   \n",
       " 4     False      10413          tie               0.8      5  ...   \n",
       " ..      ...        ...          ...               ...    ...  ...   \n",
       " 85    False       5572          tie               0.8     86  ...   \n",
       " 86    False       2105          tie               0.0     87  ...   \n",
       " 87     True       2511          tie               0.6     88  ...   \n",
       " 88    False       1480         loss               0.6     89  ...   \n",
       " 89    False       1745          tie               0.0     90  ...   \n",
       " \n",
       "     normed_signed_e_v  normed_unsigned_e_v  cs_signed_e_v  \\\n",
       " 0            0.583333             0.285714       0.142857   \n",
       " 1            0.333333             0.428571      -0.142857   \n",
       " 2            0.916667             0.857143       0.571429   \n",
       " 3            0.250000             0.571429       0.142857   \n",
       " 4            0.916667             0.857143       0.857143   \n",
       " ..                ...                  ...            ...   \n",
       " 85           0.583333             0.285714      31.571429   \n",
       " 86           0.416667             0.285714      31.428571   \n",
       " 87           0.833333             0.714286      32.000000   \n",
       " 88           0.916667             0.857143      32.714286   \n",
       " 89           0.416667             0.285714      32.571429   \n",
       " \n",
       "     normed_cs_signed_e_v  cs_unsigned_e_v  normed_cs_unsigned_e_v  \\\n",
       " 0               0.008696         0.142857                0.006557   \n",
       " 1               0.000000         0.428571                0.013115   \n",
       " 2               0.021739         1.142857                0.029508   \n",
       " 3               0.008696         1.571429                0.039344   \n",
       " 4               0.030435         2.285714                0.055738   \n",
       " ..                   ...              ...                     ...   \n",
       " 85              0.965217        41.857143                0.963934   \n",
       " 86              0.960870        42.000000                0.967213   \n",
       " 87              0.978261        42.571429                0.980328   \n",
       " 88              1.000000        43.285714                0.996721   \n",
       " 89              0.995652        43.428571                1.000000   \n",
       " \n",
       "     n_reported_colour_opp  n_consec_colour  normed_signed_colour_count  \\\n",
       " 0                       1                1                        0.25   \n",
       " 1                       1                1                        0.15   \n",
       " 2                       2                1                        0.25   \n",
       " 3                       2                1                        0.15   \n",
       " 4                       3                1                        0.25   \n",
       " ..                    ...              ...                         ...   \n",
       " 85                     71                2                        0.30   \n",
       " 86                     16                1                        0.15   \n",
       " 87                     72                1                        0.25   \n",
       " 88                     73                2                        0.30   \n",
       " 89                     17                1                        0.15   \n",
       " \n",
       "     normed_unsigned_colour_count  \n",
       " 0                       0.117647  \n",
       " 1                       0.117647  \n",
       " 2                       0.117647  \n",
       " 3                       0.117647  \n",
       " 4                       0.117647  \n",
       " ..                           ...  \n",
       " 85                      0.176471  \n",
       " 86                      0.117647  \n",
       " 87                      0.117647  \n",
       " 88                      0.176471  \n",
       " 89                      0.117647  \n",
       " \n",
       " [90 rows x 22 columns],\n",
       " '615f1500b60d25e2660e8644':                          PID  n_red  outcome  col_reported  col_picked  \\\n",
       " 0   615f1500b60d25e2660e8644      1        1             1           1   \n",
       " 1   615f1500b60d25e2660e8644      2        1            -1          -1   \n",
       " 2   615f1500b60d25e2660e8644      6        1            -1          -1   \n",
       " 3   615f1500b60d25e2660e8644      5        1             1           1   \n",
       " 4   615f1500b60d25e2660e8644      2        1             1          -1   \n",
       " ..                       ...    ...      ...           ...         ...   \n",
       " 85  615f1500b60d25e2660e8644      2       -1             1           1   \n",
       " 86  615f1500b60d25e2660e8644      4       -1             1           1   \n",
       " 87  615f1500b60d25e2660e8644      1        1            -1          -1   \n",
       " 88  615f1500b60d25e2660e8644      3        1             1           1   \n",
       " 89  615f1500b60d25e2660e8644      2        1            -1          -1   \n",
       " \n",
       "     pp_lied  RT_rating win_lose_tie  suspicion_rating  trial  ...  \\\n",
       " 0     False       4106          tie               0.2      1  ...   \n",
       " 1     False       6114         loss               0.8      2  ...   \n",
       " 2     False       3199         loss               0.8      3  ...   \n",
       " 3     False       3937          tie               0.2      4  ...   \n",
       " 4     False       2944          tie               0.2      5  ...   \n",
       " ..      ...        ...          ...               ...    ...  ...   \n",
       " 85    False       1635          win               0.0     86  ...   \n",
       " 86    False       2134          win               0.0     87  ...   \n",
       " 87    False       4460         loss               0.2     88  ...   \n",
       " 88     True       1687          tie               0.6     89  ...   \n",
       " 89    False       1822         loss               0.4     90  ...   \n",
       " \n",
       "     normed_signed_e_v  normed_unsigned_e_v  cs_signed_e_v  \\\n",
       " 0            0.583333             0.285714       0.142857   \n",
       " 1            0.666667             0.428571       0.428571   \n",
       " 2            1.000000             1.000000       1.285714   \n",
       " 3            0.916667             0.857143       2.000000   \n",
       " 4            0.666667             0.428571       2.285714   \n",
       " ..                ...                  ...            ...   \n",
       " 85           0.083333             0.857143       9.857143   \n",
       " 86           0.250000             0.571429       9.428571   \n",
       " 87           0.583333             0.285714       9.571429   \n",
       " 88           0.750000             0.571429      10.000000   \n",
       " 89           0.666667             0.428571      10.285714   \n",
       " \n",
       "     normed_cs_signed_e_v  cs_unsigned_e_v  normed_cs_unsigned_e_v  \\\n",
       " 0               0.025316         0.142857                0.008439   \n",
       " 1               0.050633         0.428571                0.016878   \n",
       " 2               0.126582         1.285714                0.042194   \n",
       " 3               0.189873         2.000000                0.063291   \n",
       " 4               0.215190         2.285714                0.071730   \n",
       " ..                   ...              ...                     ...   \n",
       " 85              0.886076        32.428571                0.962025   \n",
       " 86              0.848101        32.857143                0.974684   \n",
       " 87              0.860759        33.000000                0.978903   \n",
       " 88              0.898734        33.428571                0.991561   \n",
       " 89              0.924051        33.714286                1.000000   \n",
       " \n",
       "     n_reported_colour_opp  n_consec_colour  normed_signed_colour_count  \\\n",
       " 0                       1                1                    0.545455   \n",
       " 1                       2                2                    0.636364   \n",
       " 2                       3                3                    0.727273   \n",
       " 3                       4                4                    0.818182   \n",
       " 4                       5                5                    0.909091   \n",
       " ..                    ...              ...                         ...   \n",
       " 85                     37                1                    0.363636   \n",
       " 86                     38                2                    0.272727   \n",
       " 87                     50                1                    0.545455   \n",
       " 88                     51                2                    0.636364   \n",
       " 89                     52                3                    0.727273   \n",
       " \n",
       "     normed_unsigned_colour_count  \n",
       " 0                       0.285714  \n",
       " 1                       0.428571  \n",
       " 2                       0.571429  \n",
       " 3                       0.714286  \n",
       " 4                       0.857143  \n",
       " ..                           ...  \n",
       " 85                      0.285714  \n",
       " 86                      0.428571  \n",
       " 87                      0.285714  \n",
       " 88                      0.428571  \n",
       " 89                      0.571429  \n",
       " \n",
       " [90 rows x 22 columns],\n",
       " '6160011304f5319ece189bfa':                          PID  n_red  outcome  col_reported  col_picked  \\\n",
       " 0   6160011304f5319ece189bfa      1        1             1           1   \n",
       " 1   6160011304f5319ece189bfa      5       -1            -1          -1   \n",
       " 2   6160011304f5319ece189bfa      5        1            -1          -1   \n",
       " 3   6160011304f5319ece189bfa      4       -1             1           1   \n",
       " 4   6160011304f5319ece189bfa      5        1             1           1   \n",
       " ..                       ...    ...      ...           ...         ...   \n",
       " 85  6160011304f5319ece189bfa      1        1            -1          -1   \n",
       " 86  6160011304f5319ece189bfa      6       -1            -1          -1   \n",
       " 87  6160011304f5319ece189bfa      4        1             1           1   \n",
       " 88  6160011304f5319ece189bfa      5        1            -1          -1   \n",
       " 89  6160011304f5319ece189bfa      6       -1            -1          -1   \n",
       " \n",
       "     pp_lied  RT_rating win_lose_tie  suspicion_rating  trial  ...  \\\n",
       " 0     False       1984          tie               0.2      1  ...   \n",
       " 1     False       1492          tie               0.2      2  ...   \n",
       " 2      True       1720         loss               0.2      3  ...   \n",
       " 3     False       1896          win               0.2      4  ...   \n",
       " 4     False       1667          tie               0.2      5  ...   \n",
       " ..      ...        ...          ...               ...    ...  ...   \n",
       " 85    False       6153         loss               0.2     86  ...   \n",
       " 86    False       6361          tie               0.2     87  ...   \n",
       " 87     True       1250          tie               0.2     88  ...   \n",
       " 88    False       5413         loss               0.2     89  ...   \n",
       " 89    False       1581          tie               0.2     90  ...   \n",
       " \n",
       "     normed_signed_e_v  normed_unsigned_e_v  cs_signed_e_v  \\\n",
       " 0            0.583333             0.285714       0.142857   \n",
       " 1            0.333333             0.428571      -0.142857   \n",
       " 2            0.916667             0.857143       0.571429   \n",
       " 3            0.250000             0.571429       0.142857   \n",
       " 4            0.916667             0.857143       0.857143   \n",
       " ..                ...                  ...            ...   \n",
       " 85           0.583333             0.285714      31.571429   \n",
       " 86           0.416667             0.285714      31.428571   \n",
       " 87           0.833333             0.714286      32.000000   \n",
       " 88           0.916667             0.857143      32.714286   \n",
       " 89           0.416667             0.285714      32.571429   \n",
       " \n",
       "     normed_cs_signed_e_v  cs_unsigned_e_v  normed_cs_unsigned_e_v  \\\n",
       " 0               0.008696         0.142857                0.006557   \n",
       " 1               0.000000         0.428571                0.013115   \n",
       " 2               0.021739         1.142857                0.029508   \n",
       " 3               0.008696         1.571429                0.039344   \n",
       " 4               0.030435         2.285714                0.055738   \n",
       " ..                   ...              ...                     ...   \n",
       " 85              0.965217        41.857143                0.963934   \n",
       " 86              0.960870        42.000000                0.967213   \n",
       " 87              0.978261        42.571429                0.980328   \n",
       " 88              1.000000        43.285714                0.996721   \n",
       " 89              0.995652        43.428571                1.000000   \n",
       " \n",
       "     n_reported_colour_opp  n_consec_colour  normed_signed_colour_count  \\\n",
       " 0                       1                1                        0.25   \n",
       " 1                       1                1                        0.15   \n",
       " 2                       2                1                        0.25   \n",
       " 3                       2                1                        0.15   \n",
       " 4                       3                1                        0.25   \n",
       " ..                    ...              ...                         ...   \n",
       " 85                     71                2                        0.30   \n",
       " 86                     16                1                        0.15   \n",
       " 87                     72                1                        0.25   \n",
       " 88                     73                2                        0.30   \n",
       " 89                     17                1                        0.15   \n",
       " \n",
       "     normed_unsigned_colour_count  \n",
       " 0                       0.117647  \n",
       " 1                       0.117647  \n",
       " 2                       0.117647  \n",
       " 3                       0.117647  \n",
       " 4                       0.117647  \n",
       " ..                           ...  \n",
       " 85                      0.176471  \n",
       " 86                      0.117647  \n",
       " 87                      0.117647  \n",
       " 88                      0.176471  \n",
       " 89                      0.117647  \n",
       " \n",
       " [90 rows x 22 columns],\n",
       " '6160403f5164508979e6358d':                          PID  n_red  outcome  col_reported  col_picked  \\\n",
       " 0   6160403f5164508979e6358d      6        1            -1          -1   \n",
       " 1   6160403f5164508979e6358d      3       -1             1           1   \n",
       " 2   6160403f5164508979e6358d      5       -1            -1          -1   \n",
       " 3   6160403f5164508979e6358d      5        1             1           1   \n",
       " 4   6160403f5164508979e6358d      4        1             1           1   \n",
       " ..                       ...    ...      ...           ...         ...   \n",
       " 85  6160403f5164508979e6358d      6        1            -1          -1   \n",
       " 86  6160403f5164508979e6358d      2        1            -1          -1   \n",
       " 87  6160403f5164508979e6358d      2        1             1           1   \n",
       " 88  6160403f5164508979e6358d      3       -1            -1          -1   \n",
       " 89  6160403f5164508979e6358d      6       -1            -1          -1   \n",
       " \n",
       "     pp_lied  RT_rating win_lose_tie  suspicion_rating  trial  ...  \\\n",
       " 0      True       2527         loss               0.8      1  ...   \n",
       " 1     False       2974          win               0.2      2  ...   \n",
       " 2     False       2404          tie               0.0      3  ...   \n",
       " 3      True       2278          tie               0.2      4  ...   \n",
       " 4     False       2250          tie               0.2      5  ...   \n",
       " ..      ...        ...          ...               ...    ...  ...   \n",
       " 85     True       9261         loss               0.0     86  ...   \n",
       " 86    False       3067         loss               0.2     87  ...   \n",
       " 87    False       4808          tie               0.2     88  ...   \n",
       " 88    False       3079          tie               0.0     89  ...   \n",
       " 89    False       3593          tie               0.0     90  ...   \n",
       " \n",
       "     normed_signed_e_v  normed_unsigned_e_v  cs_signed_e_v  \\\n",
       " 0            1.000000             1.000000   8.571429e-01   \n",
       " 1            0.090909             0.714286   2.857143e-01   \n",
       " 2            0.272727             0.428571   1.110223e-16   \n",
       " 3            0.909091             0.857143   7.142857e-01   \n",
       " 4            0.818182             0.714286   1.285714e+00   \n",
       " ..                ...                  ...            ...   \n",
       " 85           1.000000             1.000000   2.585714e+01   \n",
       " 86           0.636364             0.428571   2.614286e+01   \n",
       " 87           0.636364             0.428571   2.642857e+01   \n",
       " 88           0.090909             0.714286   2.585714e+01   \n",
       " 89           0.363636             0.285714   2.571429e+01   \n",
       " \n",
       "     normed_cs_signed_e_v  cs_unsigned_e_v  normed_cs_unsigned_e_v  \\\n",
       " 0           3.243243e-02         0.857143                0.041096   \n",
       " 1           1.081081e-02         1.428571                0.054795   \n",
       " 2           8.401688e-18         1.714286                0.061644   \n",
       " 3           2.702703e-02         2.428571                0.078767   \n",
       " 4           4.864865e-02         3.000000                0.092466   \n",
       " ..                   ...              ...                     ...   \n",
       " 85          9.783784e-01        39.571429                0.969178   \n",
       " 86          9.891892e-01        39.857143                0.976027   \n",
       " 87          1.000000e+00        40.142857                0.982877   \n",
       " 88          9.783784e-01        40.714286                0.996575   \n",
       " 89          9.729730e-01        40.857143                1.000000   \n",
       " \n",
       "     n_reported_colour_opp  n_consec_colour  normed_signed_colour_count  \\\n",
       " 0                       1                1                    0.333333   \n",
       " 1                       1                1                    0.200000   \n",
       " 2                       2                2                    0.133333   \n",
       " 3                       2                1                    0.333333   \n",
       " 4                       3                2                    0.400000   \n",
       " ..                    ...              ...                         ...   \n",
       " 85                     61                1                    0.333333   \n",
       " 86                     62                2                    0.400000   \n",
       " 87                     63                3                    0.466667   \n",
       " 88                     26                1                    0.200000   \n",
       " 89                     27                2                    0.133333   \n",
       " \n",
       "     normed_unsigned_colour_count  \n",
       " 0                       0.166667  \n",
       " 1                       0.166667  \n",
       " 2                       0.250000  \n",
       " 3                       0.166667  \n",
       " 4                       0.250000  \n",
       " ..                           ...  \n",
       " 85                      0.166667  \n",
       " 86                      0.250000  \n",
       " 87                      0.333333  \n",
       " 88                      0.166667  \n",
       " 89                      0.250000  \n",
       " \n",
       " [90 rows x 22 columns]}"
      ]
     },
     "execution_count": 7,
     "metadata": {},
     "output_type": "execute_result"
    }
   ],
   "source": [
    "processed_trials"
   ]
  },
  {
   "cell_type": "code",
   "execution_count": 8,
   "metadata": {},
   "outputs": [],
   "source": [
    "from skopt.space import Real\n",
    "\n",
    "param_search_space = [Real(0, 1, name='prior'), Real(0, 1, name='alpha')]"
   ]
  },
  {
   "cell_type": "code",
   "execution_count": 9,
   "metadata": {},
   "outputs": [],
   "source": [
    "def single_model_fit(uuids, stat: str):\n",
    "    results = {}\n",
    "    \n",
    "    for uuid in uuids:\n",
    "        print(uuid)\n",
    "        trials = dfs[uuid]\n",
    "        hrs = trials['suspicion_rating'].values\n",
    "        results[uuid] = skopt_fit_single_model_single_response(hrs, trials, param_search_space, stat)\n",
    "\n",
    "    return results"
   ]
  },
  {
   "cell_type": "code",
   "execution_count": 10,
   "metadata": {},
   "outputs": [
    {
     "data": {
      "text/plain": [
       "{0.19999999999999996, 0.4, 0.6, 0.8, 1.0}"
      ]
     },
     "execution_count": 10,
     "metadata": {},
     "output_type": "execute_result"
    }
   ],
   "source": [
    "set(dfs['56210effed6e5a000ac7f3a5'].suspicion_rating)"
   ]
  },
  {
   "cell_type": "code",
   "execution_count": 11,
   "metadata": {},
   "outputs": [
    {
     "name": "stdout",
     "output_type": "stream",
     "text": [
      "56210effed6e5a000ac7f3a5\n",
      "Best parameter estimates: prior = (0.5071798524427317, 'alpha =', 0.551234403095659)\n",
      "R2: 0.28950501970266784\n",
      "90 0.03231085567189201 2\n",
      "BIC: -299.9120621268514\n",
      "AIC: -304.911681467512\n",
      "====================================================================================================\n",
      "57313ba2070de6000f43384e\n",
      "Best parameter estimates: prior = (0.24889415303600915, 'alpha =', 0.0016420187147239739)\n",
      "R2: 1.1400385041215877e-05\n",
      "90 0.01627635765101681 2\n",
      "BIC: -361.624131404785\n",
      "AIC: -366.62375074544553\n",
      "====================================================================================================\n",
      "5af196e1e1b5b8000148ac76\n",
      "Best parameter estimates: prior = (0.3270624352895676, 'alpha =', 0.3131184682923498)\n",
      "R2: 0.0677873041296303\n",
      "90 0.06399352437182228 2\n",
      "BIC: -238.40798507821538\n",
      "AIC: -243.4076044188759\n",
      "====================================================================================================\n",
      "5cd5fe480f0de600018e7251\n",
      "Best parameter estimates: prior = (0.1417093320242386, 'alpha =', 0.36700365388761436)\n",
      "R2: 0.3547440074975119\n",
      "90 0.011930066350268229 2\n",
      "BIC: -389.58279397237106\n",
      "AIC: -394.58241331303157\n",
      "====================================================================================================\n",
      "5fec7577ad8fbadf15cd5607\n",
      "Best parameter estimates: prior = (0.053903106190794074, 'alpha =', 0.50510976659527)\n",
      "R2: 0.1778697538159475\n",
      "90 0.04992056052878572 2\n",
      "BIC: -260.7593900391756\n",
      "AIC: -265.75900937983613\n",
      "====================================================================================================\n",
      "60f44f7a57468d4e9f87fa5b\n",
      "Best parameter estimates: prior = (0.4950543175730504, 'alpha =', 0.03094646107802302)\n",
      "R2: 0.003315697672147566\n",
      "90 0.016089683873134565 2\n",
      "BIC: -362.66230756183234\n",
      "AIC: -367.66192690249284\n",
      "====================================================================================================\n",
      "61085b8ec672d0e88151d5ae\n",
      "Best parameter estimates: prior = (0.08098986273235066, 'alpha =', 0.6567345120348622)\n",
      "R2: 0.18237410522679443\n",
      "90 0.09680690594114753 2\n",
      "BIC: -201.15370569828067\n",
      "AIC: -206.1533250389412\n",
      "====================================================================================================\n",
      "6110e7ae08023ecb9207b05e\n",
      "Best parameter estimates: prior = (0.012165023626982789, 'alpha =', 0.722155316983173)\n",
      "R2: 0.4533176137857715\n",
      "90 0.02516088809637833 2\n",
      "BIC: -322.4221901435526\n",
      "AIC: -327.42180948421316\n",
      "====================================================================================================\n",
      "6147d726fa94eb7d5c2de156\n",
      "Best parameter estimates: prior = (0.03488509025943853, 'alpha =', 0.41385148402872857)\n",
      "R2: 0.21064047980861955\n",
      "90 0.03617800349084544 2\n",
      "BIC: -289.7377391484072\n",
      "AIC: -294.7373584890677\n",
      "====================================================================================================\n",
      "614f23537aab4e64abfd53ae\n",
      "Best parameter estimates: prior = (0.3264338771484537, 'alpha =', 0.26715764544417364)\n",
      "R2: 0.13403187479482426\n",
      "90 0.023267815156747453 2\n",
      "BIC: -329.4619583949491\n",
      "AIC: -334.46157773560964\n",
      "====================================================================================================\n",
      "6152218517a89c5b41e18a06\n",
      "Best parameter estimates: prior = (0.2331746066127054, 'alpha =', 0.4431218752625832)\n",
      "R2: 0.13211999659113172\n",
      "90 0.05393284919949234 2\n",
      "BIC: -253.80177922241901\n",
      "AIC: -258.80139856307954\n",
      "====================================================================================================\n",
      "61533356ce435e5a4a4addd0\n",
      "Best parameter estimates: prior = (0.07724454069429403, 'alpha =', 0.6066776893810426)\n",
      "R2: 0.23001902474098745\n",
      "90 0.04931300379325499 2\n",
      "BIC: -261.8614524273007\n",
      "AIC: -266.8610717679613\n",
      "====================================================================================================\n",
      "6154284fc5154abb9a264b0c\n",
      "Best parameter estimates: prior = (0.35875583002688216, 'alpha =', 0.18054417097884937)\n",
      "R2: 0.011197850367297923\n",
      "90 0.11293829589557909 2\n",
      "BIC: -187.28261036831063\n",
      "AIC: -192.28222970897116\n",
      "====================================================================================================\n",
      "6156ee007bdef87eb5b4aeb0\n",
      "Best parameter estimates: prior = (0.4598080877377846, 'alpha =', 0.0)\n",
      "R2: -1.024328947885067e-06\n",
      "90 0.03595559238587195 2\n",
      "BIC: -290.2927388718432\n",
      "AIC: -295.2923582125037\n",
      "====================================================================================================\n",
      "615d9f86fdd5e127d783e850\n",
      "Best parameter estimates: prior = (0.2742401800951968, 'alpha =', 0.5363212718147431)\n",
      "R2: 0.4122982374850559\n",
      "90 0.02079158235386202 2\n",
      "BIC: -339.5890168433888\n",
      "AIC: -344.5886361840493\n",
      "====================================================================================================\n",
      "615ec4f34cb81d7e58fa144c\n",
      "Best parameter estimates: prior = (0.31552801253812607, 'alpha =', 0.10038191568268504)\n",
      "R2: 0.03273546790623483\n",
      "90 0.011946314048229668 2\n",
      "BIC: -389.4603053021591\n",
      "AIC: -394.4599246428196\n",
      "====================================================================================================\n",
      "615f0726cbd12330a2d82556\n",
      "Best parameter estimates: prior = (0.27075243744040023, 'alpha =', 0.5748723362431313)\n",
      "R2: 0.1719001985513129\n",
      "90 0.07156826975384432 2\n",
      "BIC: -228.33969233855535\n",
      "AIC: -233.33931167921588\n",
      "====================================================================================================\n",
      "615f1500b60d25e2660e8644\n",
      "Best parameter estimates: prior = (0.0, 'alpha =', 0.74103505248405)\n",
      "R2: 0.3635263230789981\n",
      "90 0.06946206548125503 2\n",
      "BIC: -231.02808528486523\n",
      "AIC: -236.02770462552576\n",
      "====================================================================================================\n",
      "6160011304f5319ece189bfa\n",
      "Best parameter estimates: prior = (0.20809597769618948, 'alpha =', 0.14478560703510882)\n",
      "R2: 0.04043097369383386\n",
      "90 0.022029809398999345 2\n",
      "BIC: -334.38266996736184\n",
      "AIC: -339.3822893080224\n",
      "====================================================================================================\n",
      "6160403f5164508979e6358d\n",
      "Best parameter estimates: prior = (0.01947126173607585, 'alpha =', 0.6122568274267266)\n",
      "R2: 0.2733681506208998\n",
      "90 0.039557479049655314 2\n",
      "BIC: -281.7004255683303\n",
      "AIC: -286.70004490899083\n",
      "====================================================================================================\n"
     ]
    }
   ],
   "source": [
    "res_sig_colour_count = single_model_fit(uuids, 'normed_signed_colour_count')"
   ]
  },
  {
   "cell_type": "code",
   "execution_count": 27,
   "metadata": {},
   "outputs": [
    {
     "name": "stdout",
     "output_type": "stream",
     "text": [
      "-299.9120621268514\n",
      "-361.624131404785\n",
      "-238.40798507821538\n",
      "-389.58279397237106\n",
      "-260.7593900391756\n",
      "-362.66230756183234\n",
      "-201.15370569828067\n",
      "-322.4221901435526\n",
      "-289.7377391484072\n",
      "-329.4619583949491\n",
      "-253.80177922241901\n",
      "-261.8614524273007\n",
      "-187.28261036831063\n",
      "-290.2927388718432\n",
      "-339.5890168433888\n",
      "-389.4603053021591\n",
      "-228.33969233855535\n",
      "-231.02808528486523\n",
      "-334.38266996736184\n",
      "-281.7004255683303\n"
     ]
    }
   ],
   "source": [
    "for uuid in uuids:\n",
    "    print(res_sig_colour_count[uuid]['BIC'])"
   ]
  },
  {
   "cell_type": "code",
   "execution_count": 12,
   "metadata": {
    "scrolled": true
   },
   "outputs": [
    {
     "name": "stdout",
     "output_type": "stream",
     "text": [
      "56210effed6e5a000ac7f3a5\n",
      "Best parameter estimates: prior = (0.6038109058769995, 'alpha =', 0.33509867342754324)\n",
      "R2: 0.09059465829389324\n",
      "90 0.04135661131739031 2\n",
      "BIC: -277.69744917760136\n",
      "AIC: -282.6970685182619\n",
      "====================================================================================================\n",
      "57313ba2070de6000f43384e\n",
      "Best parameter estimates: prior = (0.2490435654346693, 'alpha =', 0.0)\n",
      "R2: -1.4698964951875837e-06\n",
      "90 0.01627656713471036 2\n",
      "BIC: -361.62297307369533\n",
      "AIC: -366.62259241435584\n",
      "====================================================================================================\n",
      "5af196e1e1b5b8000148ac76\n",
      "Best parameter estimates: prior = (0.35153122024644495, 'alpha =', 0.23252857676277577)\n",
      "R2: 0.03003387207603392\n",
      "90 0.06658518095936324 2\n",
      "BIC: -234.83497174742547\n",
      "AIC: -239.834591088086\n",
      "====================================================================================================\n",
      "5cd5fe480f0de600018e7251\n",
      "Best parameter estimates: prior = (0.2702508538347027, 'alpha =', 0.10797007420408859)\n",
      "R2: 0.017444880434732912\n",
      "90 0.01816635243285117 2\n",
      "BIC: -351.7369553657801\n",
      "AIC: -356.73657470644065\n",
      "====================================================================================================\n",
      "5fec7577ad8fbadf15cd5607\n",
      "Best parameter estimates: prior = (0.16695196156998335, 'alpha =', 0.23855502604856)\n",
      "R2: 0.02425347417721624\n",
      "90 0.05924829274823184 2\n",
      "BIC: -245.342028897548\n",
      "AIC: -250.34164823820853\n",
      "====================================================================================================\n",
      "60f44f7a57468d4e9f87fa5b\n",
      "Best parameter estimates: prior = (0.45946251566492907, 'alpha =', 0.10455245826197627)\n",
      "R2: 0.0187748925575284\n",
      "90 0.015840122845577478 2\n",
      "BIC: -364.0692030094375\n",
      "AIC: -369.068822350098\n",
      "====================================================================================================\n",
      "61085b8ec672d0e88151d5ae\n",
      "Best parameter estimates: prior = (0.12524300166810387, 'alpha =', 0.6066579005483482)\n",
      "R2: 0.14686045888063926\n",
      "90 0.1010117216685323 2\n",
      "BIC: -197.32706480691024\n",
      "AIC: -202.32668414757077\n",
      "====================================================================================================\n",
      "6110e7ae08023ecb9207b05e\n",
      "Best parameter estimates: prior = (0.2655103792763088, 'alpha =', 0.19823116967419538)\n",
      "R2: 0.024789523145601122\n",
      "90 0.04488376120633581 2\n",
      "BIC: -270.33151004839385\n",
      "AIC: -275.3311293890544\n",
      "====================================================================================================\n",
      "6147d726fa94eb7d5c2de156\n",
      "Best parameter estimates: prior = (0.22893809241388768, 'alpha =', 0.0)\n",
      "R2: -5.2822954677012035e-08\n",
      "90 0.04583210118641898 2\n",
      "BIC: -268.44972872927406\n",
      "AIC: -273.4493480699346\n",
      "====================================================================================================\n",
      "614f23537aab4e64abfd53ae\n",
      "Best parameter estimates: prior = (0.3584127952019271, 'alpha =', 0.19711916380199782)\n",
      "R2: 0.07043059203324231\n",
      "90 0.024976726660479637 2\n",
      "BIC: -323.0833545747673\n",
      "AIC: -328.0829739154279\n",
      "====================================================================================================\n",
      "6152218517a89c5b41e18a06\n",
      "Best parameter estimates: prior = (0.2949939865617328, 'alpha =', 0.3375341440159433)\n",
      "R2: 0.06593976818038516\n",
      "90 0.05804550102329893 2\n",
      "BIC: -247.1879074627643\n",
      "AIC: -252.18752680342482\n",
      "====================================================================================================\n",
      "61533356ce435e5a4a4addd0\n",
      "Best parameter estimates: prior = (0.17868220366646106, 'alpha =', 0.43402883553277605)\n",
      "R2: 0.10088890917764703\n",
      "90 0.05758307030555604 2\n",
      "BIC: -247.90778121035495\n",
      "AIC: -252.90740055101548\n",
      "====================================================================================================\n",
      "6154284fc5154abb9a264b0c\n",
      "Best parameter estimates: prior = (0.26051415756972174, 'alpha =', 0.4421079098281098)\n",
      "R2: 0.043481027986579934\n",
      "90 0.10925099903060935 2\n",
      "BIC: -190.27003771363746\n",
      "AIC: -195.269657054298\n",
      "====================================================================================================\n",
      "6156ee007bdef87eb5b4aeb0\n",
      "Best parameter estimates: prior = (0.44146441693918126, 'alpha =', 0.05178091932789519)\n",
      "R2: 0.003259349254843724\n",
      "90 0.03583836384234806 2\n",
      "BIC: -290.58665158673045\n",
      "AIC: -295.586270927391\n",
      "====================================================================================================\n",
      "615d9f86fdd5e127d783e850\n",
      "Best parameter estimates: prior = (0.2983590821083641, 'alpha =', 0.5344041865582992)\n",
      "R2: 0.39879177644376007\n",
      "90 0.02126941093114519 2\n",
      "BIC: -337.5440617070958\n",
      "AIC: -342.54368104775637\n",
      "====================================================================================================\n",
      "615ec4f34cb81d7e58fa144c\n",
      "Best parameter estimates: prior = (0.3372518450124711, 'alpha =', 0.05903687499680505)\n",
      "R2: 0.007865066872661863\n",
      "90 0.012253478853093698 2\n",
      "BIC: -387.17546614640366\n",
      "AIC: -392.1750854870642\n",
      "====================================================================================================\n",
      "615f0726cbd12330a2d82556\n",
      "Best parameter estimates: prior = (0.3787710275941115, 'alpha =', 0.3705268314963655)\n",
      "R2: 0.0749555106113382\n",
      "90 0.07994668448785665 2\n",
      "BIC: -218.37595859376447\n",
      "AIC: -223.375577934425\n",
      "====================================================================================================\n",
      "615f1500b60d25e2660e8644\n",
      "Best parameter estimates: prior = (0.25610423434807905, 'alpha =', 0.22430025797565087)\n",
      "R2: 0.01651418125299342\n",
      "90 0.10733351404596962 2\n",
      "BIC: -191.8636711197633\n",
      "AIC: -196.86329046042383\n",
      "====================================================================================================\n",
      "6160011304f5319ece189bfa\n",
      "Best parameter estimates: prior = (0.23399288322964087, 'alpha =', 0.09532242166244483)\n",
      "R2: 0.018982055682944865\n",
      "90 0.022522234188296245 2\n",
      "BIC: -332.393085099719\n",
      "AIC: -337.39270444037953\n",
      "====================================================================================================\n",
      "6160403f5164508979e6358d\n",
      "Best parameter estimates: prior = (0.13849832292008393, 'alpha =', 0.38512723491383327)\n",
      "R2: 0.09368017728741607\n",
      "90 0.049339603583128534 2\n",
      "BIC: -261.8129188667533\n",
      "AIC: -266.81253820741387\n",
      "====================================================================================================\n"
     ]
    }
   ],
   "source": [
    "res_usig_colour_count = single_model_fit(uuids, 'normed_unsigned_colour_count')"
   ]
  },
  {
   "cell_type": "code",
   "execution_count": 31,
   "metadata": {},
   "outputs": [
    {
     "name": "stdout",
     "output_type": "stream",
     "text": [
      "0.09059465829389324\n",
      "-1.4698964951875837e-06\n",
      "0.03003387207603392\n",
      "0.017444880434732912\n",
      "0.02425347417721624\n",
      "0.0187748925575284\n",
      "0.14686045888063926\n",
      "0.024789523145601122\n",
      "-5.2822954677012035e-08\n",
      "0.07043059203324231\n",
      "0.06593976818038516\n",
      "0.10088890917764703\n",
      "0.043481027986579934\n",
      "0.003259349254843724\n",
      "0.39879177644376007\n",
      "0.007865066872661863\n",
      "0.0749555106113382\n",
      "0.01651418125299342\n",
      "0.018982055682944865\n",
      "0.09368017728741607\n"
     ]
    }
   ],
   "source": [
    "for uuid in uuids:\n",
    "    print(res_usig_colour_count[uuid]['R2'])"
   ]
  },
  {
   "cell_type": "code",
   "execution_count": 13,
   "metadata": {},
   "outputs": [
    {
     "name": "stdout",
     "output_type": "stream",
     "text": [
      "56210effed6e5a000ac7f3a5\n",
      "Best parameter estimates: prior = (0.7088759300324671, 'alpha =', 0.0)\n",
      "R2: -3.692716132874807e-09\n",
      "90 0.045476543377808515 2\n",
      "BIC: -269.1506561096577\n",
      "AIC: -274.15027545031825\n",
      "====================================================================================================\n",
      "57313ba2070de6000f43384e\n",
      "Best parameter estimates: prior = (0.20451144650921133, 'alpha =', 0.07526168531480108)\n",
      "R2: 0.03248001199456785\n",
      "90 0.015747880891189652 2\n",
      "BIC: -364.5948329011844\n",
      "AIC: -369.5944522418449\n",
      "====================================================================================================\n",
      "5af196e1e1b5b8000148ac76\n",
      "Best parameter estimates: prior = (0.3810837566040234, 'alpha =', 0.07180027113063138)\n",
      "R2: 0.006415568027684948\n",
      "90 0.06820650463628224 2\n",
      "BIC: -232.6697615097326\n",
      "AIC: -237.66938085039314\n",
      "====================================================================================================\n",
      "5cd5fe480f0de600018e7251\n",
      "Best parameter estimates: prior = (0.3012520744152173, 'alpha =', 0.041971863940952)\n",
      "R2: 0.007595317454465178\n",
      "90 0.018348459908397452 2\n",
      "BIC: -350.8392479624704\n",
      "AIC: -355.8388673031309\n",
      "====================================================================================================\n",
      "5fec7577ad8fbadf15cd5607\n",
      "Best parameter estimates: prior = (0.22639863112734154, 'alpha =', 0.04900425267779029)\n",
      "R2: 0.0031403947669875754\n",
      "90 0.060530299782445035 2\n",
      "BIC: -243.41539014118197\n",
      "AIC: -248.4150094818425\n",
      "====================================================================================================\n",
      "60f44f7a57468d4e9f87fa5b\n",
      "Best parameter estimates: prior = (0.4783560733592271, 'alpha =', 0.05599544330291051)\n",
      "R2: 0.017342185157305567\n",
      "90 0.01586325134183095 2\n",
      "BIC: -363.9378879626677\n",
      "AIC: -368.93750730332823\n",
      "====================================================================================================\n",
      "61085b8ec672d0e88151d5ae\n",
      "Best parameter estimates: prior = (0.21343045289486248, 'alpha =', 0.19310257586103163)\n",
      "R2: 0.03214610391391981\n",
      "90 0.11459390129659187 2\n",
      "BIC: -185.97284306757285\n",
      "AIC: -190.97246240823338\n",
      "====================================================================================================\n",
      "6110e7ae08023ecb9207b05e\n",
      "Best parameter estimates: prior = (0.3084849252579633, 'alpha =', 0.07896693410281375)\n",
      "R2: 0.00939448809725918\n",
      "90 0.04559231294288172 2\n",
      "BIC: -268.9218343831059\n",
      "AIC: -273.92145372376643\n",
      "====================================================================================================\n",
      "6147d726fa94eb7d5c2de156\n",
      "Best parameter estimates: prior = (0.10974406365416253, 'alpha =', 0.22701529192296577)\n",
      "R2: 0.11448711284481206\n",
      "90 0.0405849141021595 2\n",
      "BIC: -279.39267763305895\n",
      "AIC: -284.3922969737195\n",
      "====================================================================================================\n",
      "614f23537aab4e64abfd53ae\n",
      "Best parameter estimates: prior = (0.3995987486274242, 'alpha =', 0.03256497194008045)\n",
      "R2: 0.0030332977333339395\n",
      "90 0.02678763371374285 2\n",
      "BIC: -316.78372404865434\n",
      "AIC: -321.7833433893149\n",
      "====================================================================================================\n",
      "6152218517a89c5b41e18a06\n",
      "Best parameter estimates: prior = (0.40871200561292426, 'alpha =', 0.0)\n",
      "R2: -5.034772645462482e-07\n",
      "90 0.06214324116423653 2\n",
      "BIC: -241.04857021755262\n",
      "AIC: -246.04818955821315\n",
      "====================================================================================================\n",
      "61533356ce435e5a4a4addd0\n",
      "Best parameter estimates: prior = (0.3133270187518915, 'alpha =', 0.0)\n",
      "R2: -6.225979731766529e-10\n",
      "90 0.0640444444843184 2\n",
      "BIC: -238.33639990067468\n",
      "AIC: -243.3360192413352\n",
      "====================================================================================================\n",
      "6154284fc5154abb9a264b0c\n",
      "Best parameter estimates: prior = (0.44230632245013124, 'alpha =', 0.0)\n",
      "R2: -6.19245013044889e-08\n",
      "90 0.11421729102346563 2\n",
      "BIC: -186.2691131481254\n",
      "AIC: -191.26873248878593\n",
      "====================================================================================================\n",
      "6156ee007bdef87eb5b4aeb0\n",
      "Best parameter estimates: prior = (0.2858664686751989, 'alpha =', 0.3414695976937104)\n",
      "R2: 0.208449690086302\n",
      "90 0.028460631143119183 2\n",
      "BIC: -311.3313965655327\n",
      "AIC: -316.3310159061932\n",
      "====================================================================================================\n",
      "615d9f86fdd5e127d783e850\n",
      "Best parameter estimates: prior = (0.3998616436491368, 'alpha =', 0.10946243688092461)\n",
      "R2: 0.02575054208466243\n",
      "90 0.034466780822249264 2\n",
      "BIC: -294.0987170764887\n",
      "AIC: -299.09833641714926\n",
      "====================================================================================================\n",
      "615ec4f34cb81d7e58fa144c\n",
      "Best parameter estimates: prior = (0.25473834358607167, 'alpha =', 0.199198994202652)\n",
      "R2: 0.2328219290443646\n",
      "90 0.009475122743012567 2\n",
      "BIC: -410.3180822914301\n",
      "AIC: -415.31770163209063\n",
      "====================================================================================================\n",
      "615f0726cbd12330a2d82556\n",
      "Best parameter estimates: prior = (0.48752837498562546, 'alpha =', 0.015542389020825751)\n",
      "R2: 0.00022703494710940575\n",
      "90 0.08640506993279329 2\n",
      "BIC: -211.3841839197811\n",
      "AIC: -216.38380326044162\n",
      "====================================================================================================\n",
      "615f1500b60d25e2660e8644\n",
      "Best parameter estimates: prior = (0.3555730161789582, 'alpha =', 0.0)\n",
      "R2: -2.7935229685027707e-09\n",
      "90 0.10913580277400917 2\n",
      "BIC: -190.3649854299822\n",
      "AIC: -195.36460477064273\n",
      "====================================================================================================\n",
      "6160011304f5319ece189bfa\n",
      "Best parameter estimates: prior = (0.26445513646088104, 'alpha =', 0.0)\n",
      "R2: -4.9794881551434855e-09\n",
      "90 0.02295802480567724 2\n",
      "BIC: -330.66827715661873\n",
      "AIC: -335.66789649727923\n",
      "====================================================================================================\n",
      "6160403f5164508979e6358d\n",
      "Best parameter estimates: prior = (0.25779527526983553, 'alpha =', 0.0)\n",
      "R2: -5.623897791906529e-09\n",
      "90 0.05443950647900173 2\n",
      "BIC: -252.96024565796486\n",
      "AIC: -257.9598649986254\n",
      "====================================================================================================\n"
     ]
    }
   ],
   "source": [
    "res_cs_sig_ev = single_model_fit(uuids, 'normed_cs_signed_e_v')"
   ]
  },
  {
   "cell_type": "code",
   "execution_count": 35,
   "metadata": {},
   "outputs": [
    {
     "name": "stdout",
     "output_type": "stream",
     "text": [
      "-269.1506561096577\n",
      "-364.5948329011844\n",
      "-232.6697615097326\n",
      "-350.8392479624704\n",
      "-243.41539014118197\n",
      "-363.9378879626677\n",
      "-185.97284306757285\n",
      "-268.9218343831059\n",
      "-279.39267763305895\n",
      "-316.78372404865434\n",
      "-241.04857021755262\n",
      "-238.33639990067468\n",
      "-186.2691131481254\n",
      "-311.3313965655327\n",
      "-294.0987170764887\n",
      "-410.3180822914301\n",
      "-211.3841839197811\n",
      "-190.3649854299822\n",
      "-330.66827715661873\n",
      "-252.96024565796486\n"
     ]
    }
   ],
   "source": [
    "for uuid in uuids:\n",
    "    print(res_cs_sig_ev[uuid]['BIC'])"
   ]
  },
  {
   "cell_type": "code",
   "execution_count": 14,
   "metadata": {},
   "outputs": [
    {
     "name": "stdout",
     "output_type": "stream",
     "text": [
      "56210effed6e5a000ac7f3a5\n",
      "Best parameter estimates: prior = (0.7089066845330607, 'alpha =', 0.0)\n",
      "R2: -6.9636989508126135e-09\n",
      "90 0.045476543526561504 2\n",
      "BIC: -269.15065581526926\n",
      "AIC: -274.1502751559298\n",
      "====================================================================================================\n",
      "57313ba2070de6000f43384e\n",
      "Best parameter estimates: prior = (0.21264824711542107, 'alpha =', 0.07196563626144897)\n",
      "R2: 0.028526122019480016\n",
      "90 0.015812236552216266 2\n",
      "BIC: -364.22778626197316\n",
      "AIC: -369.22740560263367\n",
      "====================================================================================================\n",
      "5af196e1e1b5b8000148ac76\n",
      "Best parameter estimates: prior = (0.37680591447676276, 'alpha =', 0.07700986203480642)\n",
      "R2: 0.007146486070646274\n",
      "90 0.06815632936855283 2\n",
      "BIC: -232.7359932558297\n",
      "AIC: -237.73561259649023\n",
      "====================================================================================================\n",
      "5cd5fe480f0de600018e7251\n",
      "Best parameter estimates: prior = (0.30950607762342325, 'alpha =', 0.020239995606993366)\n",
      "R2: 0.0018869518902747684\n",
      "90 0.018454001245050925 2\n",
      "BIC: -350.32304627155656\n",
      "AIC: -355.32266561221707\n",
      "====================================================================================================\n",
      "5fec7577ad8fbadf15cd5607\n",
      "Best parameter estimates: prior = (0.23784373135220388, 'alpha =', 0.02216698966240657)\n",
      "R2: 0.0006308445662501772\n",
      "90 0.06068268214920191 2\n",
      "BIC: -243.18910381418308\n",
      "AIC: -248.18872315484361\n",
      "====================================================================================================\n",
      "60f44f7a57468d4e9f87fa5b\n",
      "Best parameter estimates: prior = (0.4966959870859009, 'alpha =', 0.023626774492574477)\n",
      "R2: 0.0031164689091827125\n",
      "90 0.016092900064868552 2\n",
      "BIC: -362.644319120781\n",
      "AIC: -367.6439384614415\n",
      "====================================================================================================\n",
      "61085b8ec672d0e88151d5ae\n",
      "Best parameter estimates: prior = (0.24112046861969622, 'alpha =', 0.13164591472624845)\n",
      "R2: 0.01301654758088\n",
      "90 0.11685884076642379 2\n",
      "BIC: -184.2113512172208\n",
      "AIC: -189.21097055788132\n",
      "====================================================================================================\n",
      "6110e7ae08023ecb9207b05e\n",
      "Best parameter estimates: prior = (0.3555778684885569, 'alpha =', 0.0)\n",
      "R2: -1.0817388318429266e-08\n",
      "90 0.046024691855891676 2\n",
      "BIC: -268.0723328921929\n",
      "AIC: -273.07195223285345\n",
      "====================================================================================================\n",
      "6147d726fa94eb7d5c2de156\n",
      "Best parameter estimates: prior = (0.11640585230548146, 'alpha =', 0.22405620134882212)\n",
      "R2: 0.0904093282688575\n",
      "90 0.041688449502897455 2\n",
      "BIC: -276.9781867589428\n",
      "AIC: -281.9778060996033\n",
      "====================================================================================================\n",
      "614f23537aab4e64abfd53ae\n",
      "Best parameter estimates: prior = (0.4037413599358921, 'alpha =', 0.02269759226281468)\n",
      "R2: 0.0013883053597171235\n",
      "90 0.026831833237223587 2\n",
      "BIC: -316.63534666855423\n",
      "AIC: -321.63496600921474\n",
      "====================================================================================================\n",
      "6152218517a89c5b41e18a06\n",
      "Best parameter estimates: prior = (0.4088700225496559, 'alpha =', 0.0)\n",
      "R2: -5.7277176335190916e-09\n",
      "90 0.062143210232481975 2\n",
      "BIC: -241.04861501500042\n",
      "AIC: -246.04823435566095\n",
      "====================================================================================================\n",
      "61533356ce435e5a4a4addd0\n",
      "Best parameter estimates: prior = (0.3133437358198228, 'alpha =', 0.0)\n",
      "R2: -1.6896346544115204e-09\n",
      "90 0.06404444455265616 2\n",
      "BIC: -238.3363998046414\n",
      "AIC: -243.33601914530192\n",
      "====================================================================================================\n",
      "6154284fc5154abb9a264b0c\n",
      "Best parameter estimates: prior = (0.44219196862175203, 'alpha =', 0.0)\n",
      "R2: -8.013501195947015e-09\n",
      "90 0.11421728486589762 2\n",
      "BIC: -186.26911800011524\n",
      "AIC: -191.26873734077577\n",
      "====================================================================================================\n",
      "6156ee007bdef87eb5b4aeb0\n",
      "Best parameter estimates: prior = (0.2942789723490298, 'alpha =', 0.3182039868376173)\n",
      "R2: 0.21100548760134896\n",
      "90 0.028368736023578162 2\n",
      "BIC: -311.62246325797287\n",
      "AIC: -316.62208259863337\n",
      "====================================================================================================\n",
      "615d9f86fdd5e127d783e850\n",
      "Best parameter estimates: prior = (0.40070813341042777, 'alpha =', 0.10163391339488591)\n",
      "R2: 0.02065746595832052\n",
      "90 0.0346469625376523 2\n",
      "BIC: -293.62945031891365\n",
      "AIC: -298.62906965957416\n",
      "====================================================================================================\n",
      "615ec4f34cb81d7e58fa144c\n",
      "Best parameter estimates: prior = (0.2795773677815686, 'alpha =', 0.16329024974794742)\n",
      "R2: 0.1768007240040046\n",
      "90 0.01016701920625178 2\n",
      "BIC: -403.97493943453776\n",
      "AIC: -408.9745587751983\n",
      "====================================================================================================\n",
      "615f0726cbd12330a2d82556\n",
      "Best parameter estimates: prior = (0.4952701111564875, 'alpha =', 0.0)\n",
      "R2: -9.427688276719692e-07\n",
      "90 0.08642477283652966 2\n",
      "BIC: -211.36366360551656\n",
      "AIC: -216.3632829461771\n",
      "====================================================================================================\n",
      "615f1500b60d25e2660e8644\n",
      "Best parameter estimates: prior = (0.35564220894107923, 'alpha =', 0.0)\n",
      "R2: -6.880243752505066e-08\n",
      "90 0.10913580997794504 2\n",
      "BIC: -190.36497948918012\n",
      "AIC: -195.36459882984065\n",
      "====================================================================================================\n",
      "6160011304f5319ece189bfa\n",
      "Best parameter estimates: prior = (0.26438202550883977, 'alpha =', 0.0)\n",
      "R2: -1.69706391384139e-07\n",
      "90 0.02295802858748155 2\n",
      "BIC: -330.66826233119866\n",
      "AIC: -335.6678816718592\n",
      "====================================================================================================\n",
      "6160403f5164508979e6358d\n",
      "Best parameter estimates: prior = (0.25767165225150923, 'alpha =', 0.0)\n",
      "R2: -2.0688334867458025e-07\n",
      "90 0.05443951743546685 2\n",
      "BIC: -252.96022754461623\n",
      "AIC: -257.95984688527676\n",
      "====================================================================================================\n"
     ]
    }
   ],
   "source": [
    "res_cs_usig_ev = single_model_fit(uuids, 'normed_cs_unsigned_e_v')"
   ]
  },
  {
   "cell_type": "code",
   "execution_count": 39,
   "metadata": {},
   "outputs": [
    {
     "name": "stdout",
     "output_type": "stream",
     "text": [
      "0.7089066845330607\n",
      "0.21264824711542107\n",
      "0.37680591447676276\n",
      "0.30950607762342325\n",
      "0.23784373135220388\n",
      "0.4966959870859009\n",
      "0.24112046861969622\n",
      "0.3555778684885569\n",
      "0.11640585230548146\n",
      "0.4037413599358921\n",
      "0.4088700225496559\n",
      "0.3133437358198228\n",
      "0.44219196862175203\n",
      "0.2942789723490298\n",
      "0.40070813341042777\n",
      "0.2795773677815686\n",
      "0.4952701111564875\n",
      "0.35564220894107923\n",
      "0.26438202550883977\n",
      "0.25767165225150923\n"
     ]
    }
   ],
   "source": [
    "for uuid in uuids:\n",
    "    print(res_cs_usig_ev[uuid]['est_prior'])"
   ]
  },
  {
   "cell_type": "code",
   "execution_count": 15,
   "metadata": {},
   "outputs": [
    {
     "name": "stdout",
     "output_type": "stream",
     "text": [
      "56210effed6e5a000ac7f3a5\n",
      "Best parameter estimates: prior = (0.3446650558434364, 'alpha =', 0.5349277104073303)\n",
      "R2: 0.43532632176723374\n",
      "90 0.02567940692763232 2\n",
      "BIC: -320.5863112224283\n",
      "AIC: -325.5859305630888\n",
      "====================================================================================================\n",
      "57313ba2070de6000f43384e\n",
      "Best parameter estimates: prior = (0.14504681637155084, 'alpha =', 0.1570892280531529)\n",
      "R2: 0.10832179646790319\n",
      "90 0.014513438809095265 2\n",
      "BIC: -371.9416026519682\n",
      "AIC: -376.9412219926287\n",
      "====================================================================================================\n",
      "5af196e1e1b5b8000148ac76\n",
      "Best parameter estimates: prior = (0.007797932829104502, 'alpha =', 0.6658791447701794)\n",
      "R2: 0.5101849623191221\n",
      "90 0.03362429056198461 2\n",
      "BIC: -296.32596924233394\n",
      "AIC: -301.32558858299444\n",
      "====================================================================================================\n",
      "5cd5fe480f0de600018e7251\n",
      "Best parameter estimates: prior = (0.08646028541837154, 'alpha =', 0.4104107703944812)\n",
      "R2: 0.5332479055607413\n",
      "90 0.00862972761274363 2\n",
      "BIC: -418.72919100903107\n",
      "AIC: -423.72881034969157\n",
      "====================================================================================================\n",
      "5fec7577ad8fbadf15cd5607\n",
      "Best parameter estimates: prior = (0.05144631766990591, 'alpha =', 0.37355424472868753)\n",
      "R2: 0.19601004146680134\n",
      "90 0.048819064346292386 2\n",
      "BIC: -262.7674748213624\n",
      "AIC: -267.7670941620229\n",
      "====================================================================================================\n",
      "60f44f7a57468d4e9f87fa5b\n",
      "Best parameter estimates: prior = (0.48595837088076926, 'alpha =', 0.0391620071834755)\n",
      "R2: 0.0062701536241946965\n",
      "90 0.016041989470629663 2\n",
      "BIC: -362.92948937536767\n",
      "AIC: -367.9291087160282\n",
      "====================================================================================================\n",
      "61085b8ec672d0e88151d5ae\n",
      "Best parameter estimates: prior = (0.0, 'alpha =', 0.5023678831521958)\n",
      "R2: 0.19407449315212177\n",
      "90 0.09542158001078876 2\n",
      "BIC: -202.4509275083619\n",
      "AIC: -207.45054684902243\n",
      "====================================================================================================\n",
      "6110e7ae08023ecb9207b05e\n",
      "Best parameter estimates: prior = (0.19093106628245815, 'alpha =', 0.3156840099018267)\n",
      "R2: 0.14501129140086788\n",
      "90 0.03935059142787118 2\n",
      "BIC: -282.1723653462026\n",
      "AIC: -287.17198468686314\n",
      "====================================================================================================\n",
      "6147d726fa94eb7d5c2de156\n",
      "Best parameter estimates: prior = (0.0, 'alpha =', 0.42278909388201663)\n",
      "R2: 0.35704280074389505\n",
      "90 0.029468077858251406 2\n",
      "BIC: -308.2006743826031\n",
      "AIC: -313.20029372326366\n",
      "====================================================================================================\n",
      "614f23537aab4e64abfd53ae\n",
      "Best parameter estimates: prior = (0.07227246734716666, 'alpha =', 0.49116454432583273)\n",
      "R2: 0.4821982995637769\n",
      "90 0.013912884207770313 2\n",
      "BIC: -375.74497586679865\n",
      "AIC: -380.7445952074592\n",
      "====================================================================================================\n",
      "6152218517a89c5b41e18a06\n",
      "Best parameter estimates: prior = (0.2711483433672446, 'alpha =', 0.1988235458108263)\n",
      "R2: 0.04108738787806032\n",
      "90 0.05958990770835797 2\n",
      "BIC: -244.824595429501\n",
      "AIC: -249.82421477016152\n",
      "====================================================================================================\n",
      "61533356ce435e5a4a4addd0\n",
      "Best parameter estimates: prior = (0.013715420887919213, 'alpha =', 0.47060196814652366)\n",
      "R2: 0.2748937103672898\n",
      "90 0.04643902948269936 2\n",
      "BIC: -267.265732520195\n",
      "AIC: -272.26535186085556\n",
      "====================================================================================================\n",
      "6154284fc5154abb9a264b0c\n",
      "Best parameter estimates: prior = (0.2423682954876181, 'alpha =', 0.36463468214310246)\n",
      "R2: 0.0829860516569082\n",
      "90 0.1047388425245796 2\n",
      "BIC: -194.06605236117642\n",
      "AIC: -199.06567170183695\n",
      "====================================================================================================\n",
      "6156ee007bdef87eb5b4aeb0\n",
      "Best parameter estimates: prior = (0.45996613649716034, 'alpha =', 0.0)\n",
      "R2: -3.18931752119056e-08\n",
      "90 0.035955556702292384 2\n",
      "BIC: -290.2928281910156\n",
      "AIC: -295.2924475316761\n",
      "====================================================================================================\n",
      "615d9f86fdd5e127d783e850\n",
      "Best parameter estimates: prior = (0.252414483679823, 'alpha =', 0.28777129091709047)\n",
      "R2: 0.1242945461180256\n",
      "90 0.03098051294622451 2\n",
      "BIC: -303.6961004709733\n",
      "AIC: -308.6957198116338\n",
      "====================================================================================================\n",
      "615ec4f34cb81d7e58fa144c\n",
      "Best parameter estimates: prior = (0.3111500940630891, 'alpha =', 0.08878736925822084)\n",
      "R2: 0.039398179217914886\n",
      "90 0.01186402545074566 2\n",
      "BIC: -390.0823882640277\n",
      "AIC: -395.0820076046882\n",
      "====================================================================================================\n",
      "615f0726cbd12330a2d82556\n",
      "Best parameter estimates: prior = (0.0, 'alpha =', 0.7093595204572193)\n",
      "R2: 0.4311417021341978\n",
      "90 0.049163402819503245 2\n",
      "BIC: -262.1349006258778\n",
      "AIC: -267.1345199665383\n",
      "====================================================================================================\n",
      "615f1500b60d25e2660e8644\n",
      "Best parameter estimates: prior = (0.0, 'alpha =', 0.6776047863581292)\n",
      "R2: 0.4641398784357629\n",
      "90 0.05848152437812168 2\n",
      "BIC: -246.5143764094091\n",
      "AIC: -251.51399575006963\n",
      "====================================================================================================\n",
      "6160011304f5319ece189bfa\n",
      "Best parameter estimates: prior = (0.032013090612134656, 'alpha =', 0.3268320308681591)\n",
      "R2: 0.2678510648086794\n",
      "90 0.016808693331873827 2\n",
      "BIC: -358.72769661542395\n",
      "AIC: -363.72731595608445\n",
      "====================================================================================================\n",
      "6160403f5164508979e6358d\n",
      "Best parameter estimates: prior = (0.0, 'alpha =', 0.4367316430083965)\n",
      "R2: 0.4762915642398653\n",
      "90 0.028510428621331983 2\n",
      "BIC: -311.1740614484022\n",
      "AIC: -316.17368078906276\n",
      "====================================================================================================\n"
     ]
    }
   ],
   "source": [
    "res_sig_ev = single_model_fit(uuids, 'normed_signed_e_v')"
   ]
  },
  {
   "cell_type": "code",
   "execution_count": 43,
   "metadata": {},
   "outputs": [
    {
     "name": "stdout",
     "output_type": "stream",
     "text": [
      "0.5349277104073303\n",
      "0.1570892280531529\n",
      "0.6658791447701794\n",
      "0.4104107703944812\n",
      "0.37355424472868753\n",
      "0.0391620071834755\n",
      "0.5023678831521958\n",
      "0.3156840099018267\n",
      "0.42278909388201663\n",
      "0.49116454432583273\n",
      "0.1988235458108263\n",
      "0.47060196814652366\n",
      "0.36463468214310246\n",
      "0.0\n",
      "0.28777129091709047\n",
      "0.08878736925822084\n",
      "0.7093595204572193\n",
      "0.6776047863581292\n",
      "0.3268320308681591\n",
      "0.4367316430083965\n"
     ]
    }
   ],
   "source": [
    "for uuid in uuids:\n",
    "    print(res_sig_ev[uuid]['est_alpha'])"
   ]
  },
  {
   "cell_type": "code",
   "execution_count": 16,
   "metadata": {},
   "outputs": [
    {
     "name": "stdout",
     "output_type": "stream",
     "text": [
      "56210effed6e5a000ac7f3a5\n",
      "Best parameter estimates: prior = (0.5853784843782368, 'alpha =', 0.1989809225265304)\n",
      "R2: 0.060915225392757844\n",
      "90 0.042706329330163426 2\n",
      "BIC: -274.8071134266984\n",
      "AIC: -279.80673276735894\n",
      "====================================================================================================\n",
      "57313ba2070de6000f43384e\n",
      "Best parameter estimates: prior = (0.14111503565008954, 'alpha =', 0.17577809839799224)\n",
      "R2: 0.11313176629145283\n",
      "90 0.014435149127424057 2\n",
      "BIC: -372.4284028056911\n",
      "AIC: -377.4280221463516\n",
      "====================================================================================================\n",
      "5af196e1e1b5b8000148ac76\n",
      "Best parameter estimates: prior = (0.0, 'alpha =', 0.7446722026146146)\n",
      "R2: 0.6731696725224412\n",
      "90 0.022435893245755786 2\n",
      "BIC: -332.73877095567025\n",
      "AIC: -337.73839029633075\n",
      "====================================================================================================\n",
      "5cd5fe480f0de600018e7251\n",
      "Best parameter estimates: prior = (0.12905009958808286, 'alpha =', 0.37192515762444867)\n",
      "R2: 0.35453325757295695\n",
      "90 0.011933962882206668 2\n",
      "BIC: -389.5534034722036\n",
      "AIC: -394.5530228128642\n",
      "====================================================================================================\n",
      "5fec7577ad8fbadf15cd5607\n",
      "Best parameter estimates: prior = (0.00030008561328607715, 'alpha =', 0.45272517382227345)\n",
      "R2: 0.2024455418146116\n",
      "90 0.04842829440912362 2\n",
      "BIC: -263.4907743348449\n",
      "AIC: -268.49039367550546\n",
      "====================================================================================================\n",
      "60f44f7a57468d4e9f87fa5b\n",
      "Best parameter estimates: prior = (0.4789227548455303, 'alpha =', 0.05433395461730066)\n",
      "R2: 0.011213496712311088\n",
      "90 0.01596218804566644 2\n",
      "BIC: -363.3783147281067\n",
      "AIC: -368.3779340687672\n",
      "====================================================================================================\n",
      "61085b8ec672d0e88151d5ae\n",
      "Best parameter estimates: prior = (0.0, 'alpha =', 0.5532249649121039)\n",
      "R2: 0.17278238067945872\n",
      "90 0.09794256612755207 2\n",
      "BIC: -200.10404354246668\n",
      "AIC: -205.1036628831272\n",
      "====================================================================================================\n",
      "6110e7ae08023ecb9207b05e\n",
      "Best parameter estimates: prior = (0.35567367135551947, 'alpha =', 8.36793615693795e-05)\n",
      "R2: -4.292284423668136e-06\n",
      "90 0.046024888909090525 2\n",
      "BIC: -268.07194756098886\n",
      "AIC: -273.07156690164936\n",
      "====================================================================================================\n",
      "6147d726fa94eb7d5c2de156\n",
      "Best parameter estimates: prior = (0.09271958452048595, 'alpha =', 0.24670736832876372)\n",
      "R2: 0.0917042299099945\n",
      "90 0.04162910144298934 2\n",
      "BIC: -277.1064028727019\n",
      "AIC: -282.10602221336245\n",
      "====================================================================================================\n",
      "614f23537aab4e64abfd53ae\n",
      "Best parameter estimates: prior = (0.2179174955060722, 'alpha =', 0.3317145926375823)\n",
      "R2: 0.2856421141525255\n",
      "90 0.019194179046400528 2\n",
      "BIC: -346.7837205116988\n",
      "AIC: -351.78333985235935\n",
      "====================================================================================================\n",
      "6152218517a89c5b41e18a06\n",
      "Best parameter estimates: prior = (0.4088360687636085, 'alpha =', 0.0)\n",
      "R2: -4.4895744011341776e-08\n",
      "90 0.06214321266650885 2\n",
      "BIC: -241.04861148987814\n",
      "AIC: -246.04823083053867\n",
      "====================================================================================================\n",
      "61533356ce435e5a4a4addd0\n",
      "Best parameter estimates: prior = (0.10913433999123978, 'alpha =', 0.3418069445786237)\n",
      "R2: 0.13032809957424563\n",
      "90 0.05569765371171166 2\n",
      "BIC: -250.90393375367964\n",
      "AIC: -255.90355309434017\n",
      "====================================================================================================\n",
      "6154284fc5154abb9a264b0c\n",
      "Best parameter estimates: prior = (0.1262416833965875, 'alpha =', 0.5801806160170133)\n",
      "R2: 0.16094446863604295\n",
      "90 0.09583464387613315 2\n",
      "BIC: -202.06217356428127\n",
      "AIC: -207.0617929049418\n",
      "====================================================================================================\n",
      "6156ee007bdef87eb5b4aeb0\n",
      "Best parameter estimates: prior = (0.45996967295258684, 'alpha =', 0.0)\n",
      "R2: -2.5579629525651626e-08\n",
      "90 0.035955556475285345 2\n",
      "BIC: -290.2928287592347\n",
      "AIC: -295.2924480998952\n",
      "====================================================================================================\n",
      "615d9f86fdd5e127d783e850\n",
      "Best parameter estimates: prior = (0.3888154055015202, 'alpha =', 0.10848904840539332)\n",
      "R2: 0.024025637921634924\n",
      "90 0.03452780409841682 2\n",
      "BIC: -293.93951338554655\n",
      "AIC: -298.9391327262071\n",
      "====================================================================================================\n",
      "615ec4f34cb81d7e58fa144c\n",
      "Best parameter estimates: prior = (0.3003830723352953, 'alpha =', 0.1166205706405441)\n",
      "R2: 0.06362502566062056\n",
      "90 0.011564808942334762 2\n",
      "BIC: -392.3813459985869\n",
      "AIC: -397.3809653392474\n",
      "====================================================================================================\n",
      "615f0726cbd12330a2d82556\n",
      "Best parameter estimates: prior = (0.12250025449436783, 'alpha =', 0.5969410155384708)\n",
      "R2: 0.2623145890919748\n",
      "90 0.0637542339570437 2\n",
      "BIC: -238.74515205162723\n",
      "AIC: -243.74477139228776\n",
      "====================================================================================================\n",
      "615f1500b60d25e2660e8644\n",
      "Best parameter estimates: prior = (0.00171435080873755, 'alpha =', 0.6842507290746416)\n",
      "R2: 0.25937968672834466\n",
      "90 0.08082819221384487 2\n",
      "BIC: -217.38903212896133\n",
      "AIC: -222.38865146962186\n",
      "====================================================================================================\n",
      "6160011304f5319ece189bfa\n",
      "Best parameter estimates: prior = (0.06492659643757846, 'alpha =', 0.3200991364074176)\n",
      "R2: 0.2823988799624316\n",
      "90 0.016474704232368673 2\n",
      "BIC: -360.5340042733226\n",
      "AIC: -365.53362361398314\n",
      "====================================================================================================\n",
      "6160403f5164508979e6358d\n",
      "Best parameter estimates: prior = (0.0, 'alpha =', 0.4446002907485942)\n",
      "R2: 0.3325470580886001\n",
      "90 0.03633580855126555 2\n",
      "BIC: -289.3460212822995\n",
      "AIC: -294.34564062296005\n",
      "====================================================================================================\n"
     ]
    }
   ],
   "source": [
    "res_usig_ev = single_model_fit(uuids, 'normed_unsigned_e_v')"
   ]
  },
  {
   "cell_type": "code",
   "execution_count": 47,
   "metadata": {},
   "outputs": [
    {
     "name": "stdout",
     "output_type": "stream",
     "text": [
      "-274.8071134266984\n",
      "-372.4284028056911\n",
      "-332.73877095567025\n",
      "-389.5534034722036\n",
      "-263.4907743348449\n",
      "-363.3783147281067\n",
      "-200.10404354246668\n",
      "-268.07194756098886\n",
      "-277.1064028727019\n",
      "-346.7837205116988\n",
      "-241.04861148987814\n",
      "-250.90393375367964\n",
      "-202.06217356428127\n",
      "-290.2928287592347\n",
      "-293.93951338554655\n",
      "-392.3813459985869\n",
      "-238.74515205162723\n",
      "-217.38903212896133\n",
      "-360.5340042733226\n",
      "-289.3460212822995\n"
     ]
    }
   ],
   "source": [
    "for uuid in uuids:\n",
    "    print(res_usig_ev[uuid]['BIC'])"
   ]
  },
  {
   "cell_type": "code",
   "execution_count": 48,
   "metadata": {},
   "outputs": [],
   "source": [
    "with open(\"./data/fr/fr_batch1_fit_sig_col_count.json\", \"w\", encoding=\"utf-8\") as f:\n",
    "    json.dump(res_sig_colour_count, f)"
   ]
  },
  {
   "cell_type": "code",
   "execution_count": 49,
   "metadata": {},
   "outputs": [],
   "source": [
    "with open(\"./data/fr/fr_batch1_fit_unsig_col_count.json\", \"w\", encoding=\"utf-8\") as f:\n",
    "    json.dump(res_usig_colour_count, f)"
   ]
  },
  {
   "cell_type": "code",
   "execution_count": 50,
   "metadata": {},
   "outputs": [],
   "source": [
    "with open(\"./data/fr/fr_batch1_fit_sig_ev_noup.json\", \"w\", encoding=\"utf-8\") as f:\n",
    "    json.dump(res_sig_ev, f)"
   ]
  },
  {
   "cell_type": "code",
   "execution_count": 51,
   "metadata": {},
   "outputs": [],
   "source": [
    "with open(\"./data/fr/fr_batch1_fit_unsig_ev_noup.json\", \"w\", encoding=\"utf-8\") as f:\n",
    "    json.dump(res_usig_ev, f)"
   ]
  },
  {
   "cell_type": "code",
   "execution_count": 52,
   "metadata": {},
   "outputs": [],
   "source": [
    "with open(\"./data/fr/fr_batch1_fit_sig_ev_up.json\", \"w\", encoding=\"utf-8\") as f:\n",
    "    json.dump(res_cs_sig_ev, f)"
   ]
  },
  {
   "cell_type": "code",
   "execution_count": 53,
   "metadata": {},
   "outputs": [],
   "source": [
    "with open(\"./data/fr/fr_batch1_fit_unsig_ev_up.json\", \"w\", encoding=\"utf-8\") as f:\n",
    "    json.dump(res_cs_usig_ev, f)"
   ]
  },
  {
   "cell_type": "markdown",
   "metadata": {},
   "source": [
    "## Weighted model fits, concatenated blocks"
   ]
  },
  {
   "cell_type": "code",
   "execution_count": 17,
   "metadata": {},
   "outputs": [],
   "source": [
    "param_search_space = [Real(0, 1, name='prior'), Real(0, 1, name='alpha1'), Real(0, 1, name='alpha2'), Real(0, 1, name='weight')]"
   ]
  },
  {
   "cell_type": "code",
   "execution_count": 18,
   "metadata": {},
   "outputs": [],
   "source": [
    "def combi_model_fit(uuids, stat1: str, stat2: str):\n",
    "    results = {}\n",
    "    \n",
    "    for uuid in uuids:\n",
    "        trials = dfs[uuid]\n",
    "        hrs = trials['suspicion_rating'].values\n",
    "        result = skopt_fit_weighted_model_single_response(hrs, trials, param_search_space, stat1, stat2)\n",
    "        results[uuid] = result\n",
    "\n",
    "    return results"
   ]
  },
  {
   "cell_type": "code",
   "execution_count": 19,
   "metadata": {
    "scrolled": true
   },
   "outputs": [
    {
     "name": "stdout",
     "output_type": "stream",
     "text": [
      "Best parameter estimates: prior = 0.31983859173510404 alpha 1 = 0.42697455573297244 alpha 2 = 0.2689455586321337\n",
      "R2: 0.4847112188715861\n",
      "BIC: -319.82353868906847\n",
      "AIC: -329.82277737038953\n",
      "====================================================================================================\n",
      "Best parameter estimates: prior = 0.14427648400735796 alpha 1 = 0.15809229966877542 alpha 2 = 0.0\n",
      "R2: 0.10831778324948216\n",
      "BIC: -362.94157824494664\n",
      "AIC: -372.9408169262677\n",
      "====================================================================================================\n",
      "Best parameter estimates: prior = 0.008122841775569292 alpha 1 = 0.6654431708361153 alpha 2 = 0.0\n",
      "R2: 0.5101833320872017\n",
      "BIC: -287.3260503587493\n",
      "AIC: -297.32528904007034\n",
      "====================================================================================================\n",
      "Best parameter estimates: prior = 0.08000729213920967 alpha 1 = 0.3592804418454781 alpha 2 = 0.07581242705162276\n",
      "R2: 0.5389437338759462\n",
      "BIC: -410.83460803180026\n",
      "AIC: -420.8338467131213\n",
      "====================================================================================================\n",
      "Best parameter estimates: prior = 0.016160308174177972 alpha 1 = 0.2467442912630637 alpha 2 = 0.2681814849702235\n",
      "R2: 0.22278932498100623\n",
      "BIC: -256.8166349176961\n",
      "AIC: -266.81587359901715\n",
      "====================================================================================================\n",
      "Best parameter estimates: prior = 0.48619446944586864 alpha 1 = 0.03798215542894766 alpha 2 = 0.0\n",
      "R2: 0.006288992616867328\n",
      "BIC: -353.9315762584042\n",
      "AIC: -363.9308149397253\n",
      "====================================================================================================\n",
      "Best parameter estimates: prior = 0.0 alpha 1 = 0.29397010777345345 alpha 2 = 0.400953293061147\n",
      "R2: 0.2514711065117372\n",
      "BIC: -200.10064406772818\n",
      "AIC: -210.09988274904924\n",
      "====================================================================================================\n",
      "Best parameter estimates: prior = 0.013358852990495286 alpha 1 = 0.0 alpha 2 = 0.7216778831607288\n",
      "R2: 0.45329612845075706\n",
      "BIC: -313.41903375431883\n",
      "AIC: -323.4182724356399\n",
      "====================================================================================================\n",
      "Best parameter estimates: prior = 0.0 alpha 1 = 0.41936841611277664 alpha 2 = 0.003255257549275078\n",
      "R2: 0.3570816491129394\n",
      "BIC: -299.20649313152234\n",
      "AIC: -309.2057318128434\n",
      "====================================================================================================\n",
      "Best parameter estimates: prior = 0.07110327645476114 alpha 1 = 0.48673123999195134 alpha 2 = 0.013272020623899157\n",
      "R2: 0.48226224556938047\n",
      "BIC: -366.75647177719804\n",
      "AIC: -376.7557104585191\n",
      "====================================================================================================\n",
      "Best parameter estimates: prior = 0.23235947988015423 alpha 1 = 0.0 alpha 2 = 0.4448522853233252\n",
      "R2: 0.1321179259757571\n",
      "BIC: -244.8019451571875\n",
      "AIC: -254.80118383850856\n",
      "====================================================================================================\n",
      "Best parameter estimates: prior = 0.0 alpha 1 = 0.30249099937050283 alpha 2 = 0.32475818463302225\n",
      "R2: 0.3255036989183533\n",
      "BIC: -264.7777984722005\n",
      "AIC: -274.7770371535216\n",
      "====================================================================================================\n",
      "Best parameter estimates: prior = 0.24149568926472859 alpha 1 = 0.3661201190842026 alpha 2 = 0.0\n",
      "R2: 0.08298497654754666\n",
      "BIC: -185.06632750436097\n",
      "AIC: -195.06556618568203\n",
      "====================================================================================================\n",
      "Best parameter estimates: prior = 0.46006291876289135 alpha 1 = 0.0 alpha 2 = 0.0\n",
      "R2: -1.1010178124770675e-07\n",
      "BIC: -281.29320181158096\n",
      "AIC: -291.292440492902\n",
      "====================================================================================================\n",
      "Best parameter estimates: prior = 0.2629310659278948 alpha 1 = 0.026523053913836442 alpha 2 = 0.5194731893869758\n",
      "R2: 0.4128366787321075\n",
      "BIC: -330.6718915972356\n",
      "AIC: -340.67113027855663\n",
      "====================================================================================================\n",
      "Best parameter estimates: prior = 0.3095930753934862 alpha 1 = 0.06419822767683668 alpha 2 = 0.03710508110979775\n",
      "R2: 0.04252198367704563\n",
      "BIC: -381.37591902530573\n",
      "AIC: -391.3751577066268\n",
      "====================================================================================================\n",
      "Best parameter estimates: prior = 0.0 alpha 1 = 0.6149994697627477 alpha 2 = 0.1756427117898928\n",
      "R2: 0.4449036246974961\n",
      "BIC: -255.33934691456557\n",
      "AIC: -265.3385855958866\n",
      "====================================================================================================\n",
      "Best parameter estimates: prior = 0.0 alpha 1 = 0.5799202559656328 alpha 2 = 0.11621103899053097\n",
      "R2: 0.4672990278270983\n",
      "BIC: -238.04691994699203\n",
      "AIC: -248.0461586283131\n",
      "====================================================================================================\n",
      "Best parameter estimates: prior = 0.02926502933150194 alpha 1 = 0.3315344454968086 alpha 2 = 0.0\n",
      "R2: 0.2678632011794283\n",
      "BIC: -349.7295691603183\n",
      "AIC: -359.72880784163937\n",
      "====================================================================================================\n",
      "Best parameter estimates: prior = 0.0 alpha 1 = 0.3793898557173858 alpha 2 = 0.09979284606116114\n",
      "R2: 0.4821148647800749\n",
      "BIC: -303.180789542714\n",
      "AIC: -313.1800282240351\n",
      "====================================================================================================\n"
     ]
    }
   ],
   "source": [
    "res_weighted_sigev_sigcolourt = combi_model_fit(uuids, 'normed_signed_e_v', 'normed_signed_colour_count')"
   ]
  },
  {
   "cell_type": "code",
   "execution_count": 60,
   "metadata": {},
   "outputs": [
    {
     "name": "stdout",
     "output_type": "stream",
     "text": [
      "0.42697455573297244\n",
      "0.15809229966877542\n",
      "0.6654431708361153\n",
      "0.3592804418454781\n",
      "0.2467442912630637\n",
      "0.03798215542894766\n",
      "0.29397010777345345\n",
      "0.0\n",
      "0.41936841611277664\n",
      "0.48673123999195134\n",
      "0.0\n",
      "0.30249099937050283\n",
      "0.3661201190842026\n",
      "0.0\n",
      "0.026523053913836442\n",
      "0.06419822767683668\n",
      "0.6149994697627477\n",
      "0.5799202559656328\n",
      "0.3315344454968086\n",
      "0.3793898557173858\n"
     ]
    }
   ],
   "source": [
    "for uuid in uuids:\n",
    "    print(res_weighted_sigev_sigcolourt[uuid]['est_alpha'])"
   ]
  },
  {
   "cell_type": "markdown",
   "metadata": {},
   "source": [
    "### add parameter for sensitivity to congruency of other player report and subject pick"
   ]
  },
  {
   "cell_type": "code",
   "execution_count": 397,
   "metadata": {},
   "outputs": [],
   "source": [
    "def skopt_fit_weighted_model_single_response(response, trials, param_search_space, stat1: str, stat2: str):\n",
    "    ss_tot = np.sum((response - np.mean(response)) ** 2)\n",
    "    gp_result = gp_minimize(partial(objective_weighted, response=response, trials=trials, stat1=stat1, stat2=stat2),\n",
    "                            param_search_space, random_state=42)\n",
    "    optimal_ss_res = gp_result.fun\n",
    "    \n",
    "    r2 = 1 - np.divide(optimal_ss_res, ss_tot)\n",
    "\n",
    "    print(\"Best parameter estimates: prior =\", gp_result.x[0], \"alpha 1 =\", gp_result.x[1], \"alpha 2 =\", gp_result.x[2])\n",
    "    print(\"R2:\", r2)\n",
    "\n",
    "    pred = gp_result.x[0] + gp_result.x[1] * trials[stat1] + gp_result.x[2] * trials[stat2]\n",
    "\n",
    "    mse = mean_squared_error(response, pred)\n",
    "    bic = calculate_bic(len(response), mse, len(param_search_space))\n",
    "    aic = calculate_aic(len(response), mse, len(param_search_space))\n",
    "\n",
    "    print(\"BIC:\", bic)\n",
    "    print(\"AIC:\", aic)\n",
    "    print(\"=\" * 100)\n",
    "    \n",
    "    return {\"ss_total\": ss_tot, \"est_prior\": gp_result.x[0], \"est_alpha1\": gp_result.x[1], \"est_alpha2\": gp_result.x[2], \"mean_squared_error\": mse, \"R2\": r2, \"BIC\": bic, \"AIC\": aic}"
   ]
  },
  {
   "cell_type": "code",
   "execution_count": 398,
   "metadata": {},
   "outputs": [],
   "source": [
    "def combi_model_fit_edt(uuids, stat1: str, stat2: str):\n",
    "    results = {}\n",
    "    \n",
    "    for uuid in uuids:\n",
    "        df = dfs_long[dfs_long['PID']==uuid]\n",
    "        hrs = df['suspicion_rating'].values\n",
    "        result = skopt_fit_weighted_model_single_response(hrs, df, param_search_space, stat1, stat2)\n",
    "        results[uuid] = result\n",
    "\n",
    "    return results"
   ]
  },
  {
   "cell_type": "code",
   "execution_count": 399,
   "metadata": {},
   "outputs": [],
   "source": [
    "param_search_space = [Real(0, 1, name='prior'), Real(-1, 1, name='alpha1'), Real(0, 1, name='alpha2')]"
   ]
  },
  {
   "cell_type": "code",
   "execution_count": 400,
   "metadata": {
    "scrolled": true
   },
   "outputs": [
    {
     "name": "stdout",
     "output_type": "stream",
     "text": [
      "Best parameter estimates: prior = 0.32442257952507436 alpha 1 = 0.022602743122774438 alpha 2 = 0.5494409065331345\n",
      "R2: 0.4377962685664215\n",
      "BIC: -316.4810352715696\n",
      "AIC: -323.98046428256043\n",
      "====================================================================================================\n",
      "Best parameter estimates: prior = 0.1874975703591306 alpha 1 = -0.040522074233138805 alpha 2 = 0.12908613872868446\n",
      "R2: 0.1306452739365982\n",
      "BIC: -369.7236589973766\n",
      "AIC: -377.2230880083674\n",
      "====================================================================================================\n",
      "Best parameter estimates: prior = 0.05141824036401036 alpha 1 = -0.03872847480244601 alpha 2 = 0.6347021773295753\n",
      "R2: 0.5140129684409673\n",
      "BIC: -292.53229113118886\n",
      "AIC: -300.03172014217967\n",
      "====================================================================================================\n",
      "Best parameter estimates: prior = 0.10513662932207223 alpha 1 = -0.02234903144885958 alpha 2 = 0.4023176846232952\n",
      "R2: 0.5397227902044116\n",
      "BIC: -415.4866211943624\n",
      "AIC: -422.9860502053532\n",
      "====================================================================================================\n",
      "Best parameter estimates: prior = 0.10812921834696726 alpha 1 = -0.08501025266197082 alpha 2 = 0.3561743956325454\n",
      "R2: 0.2260377336504532\n",
      "BIC: -261.69339444298197\n",
      "AIC: -269.1928234539728\n",
      "====================================================================================================\n",
      "Best parameter estimates: prior = 0.5167259046190342 alpha 1 = -0.032510327631141256 alpha 2 = 0.017404747879050306\n",
      "R2: 0.021559030744824237\n",
      "BIC: -359.8251232396505\n",
      "AIC: -367.3245522506413\n",
      "====================================================================================================\n",
      "Best parameter estimates: prior = 0.09733653934781633 alpha 1 = -0.17054978920487085 alpha 2 = 0.46536253770756403\n",
      "R2: 0.2517939084550217\n",
      "BIC: -204.63927447203815\n",
      "AIC: -212.13870348302896\n",
      "====================================================================================================\n",
      "Best parameter estimates: prior = 0.20232942728183617 alpha 1 = -0.011701372859250436 alpha 2 = 0.31124073382356165\n",
      "R2: 0.1455799899367317\n",
      "BIC: -277.7324393883599\n",
      "AIC: -285.23186839935073\n",
      "====================================================================================================\n",
      "Best parameter estimates: prior = 0.003375365292362504 alpha 1 = -0.007523559434428506 alpha 2 = 0.42128632698414525\n",
      "R2: 0.35752892230224964\n",
      "BIC: -303.7689368764255\n",
      "AIC: -311.26836588741634\n",
      "====================================================================================================\n",
      "Best parameter estimates: prior = 0.10045517770459826 alpha 1 = -0.027564459867158275 alpha 2 = 0.4702990062068918\n",
      "R2: 0.48921907790388075\n",
      "BIC: -372.4738081158845\n",
      "AIC: -379.9732371268753\n",
      "====================================================================================================\n",
      "Best parameter estimates: prior = 0.03149612400536145 alpha 1 = 0.23916331439831895 alpha 2 = 0.3795315583174203\n",
      "R2: 0.23439675193774645\n",
      "BIC: -260.58701353137997\n",
      "AIC: -268.0864425423708\n",
      "====================================================================================================\n",
      "Best parameter estimates: prior = 0.006110277642773664 alpha 1 = 0.006716971364963964 alpha 2 = 0.47596375837941035\n",
      "R2: 0.2750437503190777\n",
      "BIC: -262.7845476958186\n",
      "AIC: -270.2839767068094\n",
      "====================================================================================================\n",
      "Best parameter estimates: prior = 0.6871447449531654 alpha 1 = -0.5673335794871043 alpha 2 = 0.19714259807208723\n",
      "R2: 0.7266005863439755\n",
      "BIC: -298.4832439909153\n",
      "AIC: -305.9826730019061\n",
      "====================================================================================================\n",
      "Best parameter estimates: prior = 0.41829874164770053 alpha 1 = 0.08165117223311613 alpha 2 = 0.0\n",
      "R2: 0.046521859586125536\n",
      "BIC: -290.08051157597606\n",
      "AIC: -297.57994058696687\n",
      "====================================================================================================\n",
      "Best parameter estimates: prior = 0.31899612694294727 alpha 1 = -0.045747207597433226 alpha 2 = 0.23047718196138242\n",
      "R2: 0.133243424981081\n",
      "BIC: -300.1207369756811\n",
      "AIC: -307.6201659866719\n",
      "====================================================================================================\n",
      "Best parameter estimates: prior = 0.3347009194070871 alpha 1 = -0.019441731630592818 alpha 2 = 0.06969542084922774\n",
      "R2: 0.045703383034288\n",
      "BIC: -386.17526840232506\n",
      "AIC: -393.67469741331587\n",
      "====================================================================================================\n",
      "Best parameter estimates: prior = 0.0 alpha 1 = -0.03701989368508518 alpha 2 = 0.7301855679186385\n",
      "R2: 0.43623735233287686\n",
      "BIC: -258.44491460209997\n",
      "AIC: -265.9443436130908\n",
      "====================================================================================================\n",
      "Best parameter estimates: prior = 0.0 alpha 1 = -0.18001775678390763 alpha 2 = 0.8278546197361879\n",
      "R2: 0.5598639158669048\n",
      "BIC: -259.72559461010036\n",
      "AIC: -267.22502362109117\n",
      "====================================================================================================\n",
      "Best parameter estimates: prior = 0.07455615283214259 alpha 1 = -0.04953513995456138 alpha 2 = 0.30938100383724443\n",
      "R2: 0.29401917034630043\n",
      "BIC: -357.5035155134738\n",
      "AIC: -365.0029445244646\n",
      "====================================================================================================\n",
      "Best parameter estimates: prior = 0.0 alpha 1 = -0.08775257569572159 alpha 2 = 0.4918590504602624\n",
      "R2: 0.5264520303433823\n",
      "BIC: -315.73562214708875\n",
      "AIC: -323.23505115807956\n",
      "====================================================================================================\n"
     ]
    }
   ],
   "source": [
    "res_combi_signed_ev_col_congr = combi_model_fit_edt(uuids, 'outcome_same_as_pick', 'normed_signed_e_v')"
   ]
  },
  {
   "cell_type": "code",
   "execution_count": 419,
   "metadata": {},
   "outputs": [
    {
     "name": "stdout",
     "output_type": "stream",
     "text": [
      "0.022602743122774438\n",
      "-0.040522074233138805\n",
      "-0.03872847480244601\n",
      "-0.02234903144885958\n",
      "-0.08501025266197082\n",
      "-0.032510327631141256\n",
      "-0.17054978920487085\n",
      "-0.011701372859250436\n",
      "-0.007523559434428506\n",
      "-0.027564459867158275\n",
      "0.23916331439831895\n",
      "0.006716971364963964\n",
      "-0.5673335794871043\n",
      "0.08165117223311613\n",
      "-0.045747207597433226\n",
      "-0.019441731630592818\n",
      "-0.03701989368508518\n",
      "-0.18001775678390763\n",
      "-0.04953513995456138\n",
      "-0.08775257569572159\n"
     ]
    }
   ],
   "source": [
    "tmp_alpha = {}\n",
    "for uuid in uuids:\n",
    "    print(res_combi_signed_ev_col_congr[uuid]['est_alpha1'])\n",
    "    tmp_alpha[uuid] = res_combi_signed_ev_col_congr[uuid]['est_alpha1']"
   ]
  },
  {
   "cell_type": "code",
   "execution_count": 424,
   "metadata": {},
   "outputs": [],
   "source": [
    "exclude = [\"60f44f7a57468d4e9f87fa5b\", \n",
    "                \"6154284fc5154abb9a264b0c\",\n",
    "                \"615d9f86fdd5e127d783e850\"]"
   ]
  },
  {
   "cell_type": "code",
   "execution_count": 429,
   "metadata": {},
   "outputs": [],
   "source": [
    "uuids_keep = [uuid for uuid in uuids if uuid not in exclude]"
   ]
  },
  {
   "cell_type": "code",
   "execution_count": 431,
   "metadata": {},
   "outputs": [
    {
     "data": {
      "text/plain": [
       "17"
      ]
     },
     "execution_count": 431,
     "metadata": {},
     "output_type": "execute_result"
    }
   ],
   "source": [
    "len(uuids_keep)"
   ]
  },
  {
   "cell_type": "code",
   "execution_count": 426,
   "metadata": {},
   "outputs": [
    {
     "data": {
      "text/plain": [
       "(-0.5486527042669609, 0.06471424790362121)"
      ]
     },
     "execution_count": 426,
     "metadata": {},
     "output_type": "execute_result"
    }
   ],
   "source": [
    "pearsonr([tmp_alpha[uuid] for uuid in i_paranoia.keys() if uuid not in exclude], [i_paranoia[uuid] for uuid in i_paranoia.keys() if uuid not in exclude])"
   ]
  },
  {
   "cell_type": "code",
   "execution_count": 439,
   "metadata": {},
   "outputs": [
    {
     "data": {
      "text/plain": [
       "(-0.16092500469112464, 0.5372254021952884)"
      ]
     },
     "execution_count": 439,
     "metadata": {},
     "output_type": "execute_result"
    }
   ],
   "source": [
    "pearsonr([tmp_alpha[uuid] for uuid in uuids_keep], [aq[uuid] for uuid in uuids_keep])"
   ]
  },
  {
   "cell_type": "code",
   "execution_count": 401,
   "metadata": {
    "scrolled": true
   },
   "outputs": [
    {
     "name": "stdout",
     "output_type": "stream",
     "text": [
      "Best parameter estimates: prior = 0.3631317094833367 alpha 1 = -0.05029952902894663 alpha 2 = 0.5548035752454948\n",
      "R2: 0.44792939935325793\n",
      "BIC: -318.11798747617587\n",
      "AIC: -325.6174164871667\n",
      "====================================================================================================\n",
      "Best parameter estimates: prior = 0.14101030466809278 alpha 1 = 0.00873101281529265 alpha 2 = 0.16035509634736259\n",
      "R2: 0.1089914023756231\n",
      "BIC: -367.5094038872551\n",
      "AIC: -375.0088328982459\n",
      "====================================================================================================\n",
      "Best parameter estimates: prior = 0.0 alpha 1 = 0.0659699570630834 alpha 2 = 0.6581334360994635\n",
      "R2: 0.5226224484750215\n",
      "BIC: -294.1409735475934\n",
      "AIC: -301.6404025585842\n",
      "====================================================================================================\n",
      "Best parameter estimates: prior = 0.09159313627157652 alpha 1 = -0.014542455548978817 alpha 2 = 0.4110661149671382\n",
      "R2: 0.5354988251801889\n",
      "BIC: -414.6644577394091\n",
      "AIC: -422.1638867503999\n",
      "====================================================================================================\n",
      "Best parameter estimates: prior = 0.042815424250210454 alpha 1 = 0.05646132080212163 alpha 2 = 0.36415402685333165\n",
      "R2: 0.20549024789269266\n",
      "BIC: -259.3352018872667\n",
      "AIC: -266.8346308982575\n",
      "====================================================================================================\n",
      "Best parameter estimates: prior = 0.4693992101547877 alpha 1 = 0.031245450856550727 alpha 2 = 0.03370760682983967\n",
      "R2: 0.021152832745319428\n",
      "BIC: -359.78776765587276\n",
      "AIC: -367.28719666686357\n",
      "====================================================================================================\n",
      "Best parameter estimates: prior = 0.0 alpha 1 = 0.22818017684164915 alpha 2 = 0.43945264651583826\n",
      "R2: 0.27100603254591404\n",
      "BIC: -206.9804450663595\n",
      "AIC: -214.4798740773503\n",
      "====================================================================================================\n",
      "Best parameter estimates: prior = 0.17711155281991017 alpha 1 = 0.2129750411749025 alpha 2 = 0.33251660115978027\n",
      "R2: 0.1686003150132026\n",
      "BIC: -280.1905409906972\n",
      "AIC: -287.689970001688\n",
      "====================================================================================================\n",
      "Best parameter estimates: prior = 0.024941752897541178 alpha 1 = -0.06843147914598036 alpha 2 = 0.40673081913984876\n",
      "R2: 0.37529624415774543\n",
      "BIC: -306.2929197170582\n",
      "AIC: -313.79234872804903\n",
      "====================================================================================================\n",
      "Best parameter estimates: prior = 0.07488412395557718 alpha 1 = 0.03489343197354389 alpha 2 = 0.48935647072272787\n",
      "R2: 0.4826881443277885\n",
      "BIC: -371.3303472508403\n",
      "AIC: -378.8297762618311\n",
      "====================================================================================================\n",
      "Best parameter estimates: prior = 0.27645580852180984 alpha 1 = -0.11408494067775621 alpha 2 = 0.20998357192156478\n",
      "R2: 0.06165873489893792\n",
      "BIC: -242.2765475268023\n",
      "AIC: -249.77597653779307\n",
      "====================================================================================================\n",
      "Best parameter estimates: prior = 0.04174438306407035 alpha 1 = -0.06290903915388413 alpha 2 = 0.4763681159229655\n",
      "R2: 0.29062448793749096\n",
      "BIC: -264.73991336799395\n",
      "AIC: -272.23934237898476\n",
      "====================================================================================================\n",
      "Best parameter estimates: prior = 0.24414856010444846 alpha 1 = 0.16901556027539333 alpha 2 = 0.32058954815859175\n",
      "R2: 0.11052525935229329\n",
      "BIC: -192.31048430849114\n",
      "AIC: -199.80991331948195\n",
      "====================================================================================================\n",
      "Best parameter estimates: prior = 0.4576217891345398 alpha 1 = 0.0035356254608733817 alpha 2 = 0.0\n",
      "R2: 5.250483824836838e-05\n",
      "BIC: -285.7977469505718\n",
      "AIC: -293.29717596156263\n",
      "====================================================================================================\n",
      "Best parameter estimates: prior = 0.23011656095370567 alpha 1 = 0.13964033494050554 alpha 2 = 0.2914133376229747\n",
      "R2: 0.19236550130546093\n",
      "BIC: -306.4791080317357\n",
      "AIC: -313.9785370427265\n",
      "====================================================================================================\n",
      "Best parameter estimates: prior = 0.31493106699385665 alpha 1 = -0.3759378518662063 alpha 2 = 0.08318624557893184\n",
      "R2: 0.03946151143397447\n",
      "BIC: -385.58851246476314\n",
      "AIC: -393.08794147575395\n",
      "====================================================================================================\n",
      "Best parameter estimates: prior = 0.0 alpha 1 = 0.07043143538629737 alpha 2 = 0.6952147527211893\n",
      "R2: 0.43842222602622705\n",
      "BIC: -258.7943890823509\n",
      "AIC: -266.2938180933417\n",
      "====================================================================================================\n",
      "Best parameter estimates: prior = 0.0 alpha 1 = -0.14230818716458116 alpha 2 = 0.7267687642740349\n",
      "R2: 0.500886783635742\n",
      "BIC: -248.40818503282446\n",
      "AIC: -255.90761404381527\n",
      "====================================================================================================\n",
      "Best parameter estimates: prior = 0.03097628693324717 alpha 1 = -0.04218824041820801 alpha 2 = 0.3301313013083106\n",
      "R2: 0.2703565749583067\n",
      "BIC: -354.53640700638454\n",
      "AIC: -362.03583601737535\n",
      "====================================================================================================\n",
      "Best parameter estimates: prior = 0.0 alpha 1 = 0.022120853286100584 alpha 2 = 0.4359020159120181\n",
      "R2: 0.476493764530899\n",
      "BIC: -306.70900688019026\n",
      "AIC: -314.20843589118107\n",
      "====================================================================================================\n"
     ]
    }
   ],
   "source": [
    "res_combi_signed_ev_subj_lied = combi_model_fit_edt(uuids, 'subject_lied', 'normed_signed_e_v')"
   ]
  },
  {
   "cell_type": "code",
   "execution_count": 412,
   "metadata": {},
   "outputs": [
    {
     "name": "stdout",
     "output_type": "stream",
     "text": [
      "-0.05029952902894663\n",
      "0.00873101281529265\n",
      "0.0659699570630834\n",
      "-0.014542455548978817\n",
      "0.05646132080212163\n",
      "0.031245450856550727\n",
      "0.22818017684164915\n",
      "0.2129750411749025\n",
      "-0.06843147914598036\n",
      "0.03489343197354389\n",
      "-0.11408494067775621\n",
      "-0.06290903915388413\n",
      "0.16901556027539333\n",
      "0.0035356254608733817\n",
      "0.13964033494050554\n",
      "-0.3759378518662063\n",
      "0.07043143538629737\n",
      "-0.14230818716458116\n",
      "-0.04218824041820801\n",
      "0.022120853286100584\n"
     ]
    }
   ],
   "source": [
    "for uuid in uuids:\n",
    "    print(res_combi_signed_ev_subj_lied[uuid]['est_alpha1'])"
   ]
  },
  {
   "cell_type": "markdown",
   "metadata": {},
   "source": [
    "## Compute subjects' lie detection accuracy"
   ]
  },
  {
   "cell_type": "code",
   "execution_count": 21,
   "metadata": {},
   "outputs": [],
   "source": [
    "lie_detection = {}\n",
    "\n",
    "for uuid in uuids:\n",
    "    df = dfs[uuid]\n",
    "    detected_deception = [1 if float(r) > 0.5 else 0 for r in df['suspicion_rating'].values]\n",
    "    \n",
    "    tp = [1 if (x==1) & (y==1) else 0 for x, y in zip(df['pp_lied'], detected_deception)]\n",
    "    tp = sum(tp)\n",
    "    \n",
    "    fp = [1 if (x==0) & (y==1) else 0 for x, y in zip(df['pp_lied'], detected_deception)]\n",
    "    fp = sum(fp)\n",
    "    \n",
    "    tn = [1 if (x==0) & (y==0) else 0 for x, y in zip(df['pp_lied'], detected_deception)]\n",
    "    tn = sum(tn)\n",
    "    \n",
    "    fn = [1 if (x==1) & (y==0) else 0 for x, y in zip(df['pp_lied'], detected_deception)]\n",
    "    fn = sum(fn)\n",
    "    \n",
    "    accuracy = (tp + tn)/len(df)\n",
    "    \n",
    "    precision = tp/(tp+fp)\n",
    "    \n",
    "    recall = tp/(tp+fn)\n",
    "    \n",
    "    f1 = tp/(tp+0.5*(fp+fn))\n",
    "    \n",
    "    lie_detection[uuid] = {\"n_subjective_detection\": sum(detected_deception), \n",
    "                           \"tp\": tp, \n",
    "                           \"fp\": fp, \n",
    "                           \"tn\": tn, \n",
    "                           \"fn\": fn, \n",
    "                           \"precision\": precision, \n",
    "                           \"recall\": recall, \n",
    "                           \"accuracy\": accuracy, \n",
    "                           \"f1\": f1}"
   ]
  },
  {
   "cell_type": "code",
   "execution_count": 22,
   "metadata": {},
   "outputs": [],
   "source": [
    "with open(\"./data/fr/fr_batch1_lie_detection_accuracy.json\", \"w\", encoding=\"utf-8\") as f:\n",
    "    json.dump(lie_detection, f)"
   ]
  },
  {
   "cell_type": "markdown",
   "metadata": {},
   "source": [
    "## Correlations"
   ]
  },
  {
   "cell_type": "code",
   "execution_count": 75,
   "metadata": {},
   "outputs": [],
   "source": [
    "best_model_alpha = []\n",
    "best_model_prior = []\n",
    "precision = []\n",
    "recall = []\n",
    "accuracy = []\n",
    "\n",
    "for uuid in uuids:\n",
    "    best_model_alpha.append(res_sig_ev[uuid]['est_alpha'])\n",
    "    best_model_prior.append(res_sig_ev[uuid]['est_prior'])\n",
    "    precision.append(lie_detection[uuid]['precision'])\n",
    "    recall.append(lie_detection[uuid]['recall'])\n",
    "    accuracy.append(lie_detection[uuid]['accuracy'])"
   ]
  },
  {
   "cell_type": "code",
   "execution_count": 70,
   "metadata": {},
   "outputs": [],
   "source": [
    "from scipy.stats import pearsonr, spearmanr"
   ]
  },
  {
   "cell_type": "code",
   "execution_count": 71,
   "metadata": {},
   "outputs": [
    {
     "data": {
      "text/plain": [
       "(0.2924359708605697, 0.21087029798664766)"
      ]
     },
     "execution_count": 71,
     "metadata": {},
     "output_type": "execute_result"
    }
   ],
   "source": [
    "pearsonr(best_model_alpha, precision)"
   ]
  },
  {
   "cell_type": "code",
   "execution_count": 72,
   "metadata": {},
   "outputs": [
    {
     "data": {
      "text/plain": [
       "SpearmanrResult(correlation=0.30549293824936163, pvalue=0.19025884632166445)"
      ]
     },
     "execution_count": 72,
     "metadata": {},
     "output_type": "execute_result"
    }
   ],
   "source": [
    "spearmanr(best_model_alpha, precision)"
   ]
  },
  {
   "cell_type": "code",
   "execution_count": 74,
   "metadata": {},
   "outputs": [
    {
     "data": {
      "text/plain": [
       "<AxesSubplot:>"
      ]
     },
     "execution_count": 74,
     "metadata": {},
     "output_type": "execute_result"
    },
    {
     "data": {
      "image/png": "[encoded data removed]",
      "text/plain": [
       "<Figure size 432x288 with 1 Axes>"
      ]
     },
     "metadata": {
      "needs_background": "light"
     },
     "output_type": "display_data"
    }
   ],
   "source": [
    "sns.regplot(x=best_model_alpha, y=precision)"
   ]
  },
  {
   "cell_type": "code",
   "execution_count": 76,
   "metadata": {
    "scrolled": true
   },
   "outputs": [
    {
     "data": {
      "text/plain": [
       "(0.3477494842075636, 0.13299501875662617)"
      ]
     },
     "execution_count": 76,
     "metadata": {},
     "output_type": "execute_result"
    }
   ],
   "source": [
    "pearsonr(best_model_alpha, accuracy)"
   ]
  },
  {
   "cell_type": "code",
   "execution_count": 77,
   "metadata": {},
   "outputs": [
    {
     "data": {
      "text/plain": [
       "(-0.7106371008735017, 0.0004453558817865587)"
      ]
     },
     "execution_count": 77,
     "metadata": {},
     "output_type": "execute_result"
    }
   ],
   "source": [
    "pearsonr(best_model_prior, accuracy)"
   ]
  },
  {
   "cell_type": "code",
   "execution_count": 78,
   "metadata": {},
   "outputs": [
    {
     "data": {
      "text/plain": [
       "SpearmanrResult(correlation=0.2723196609392373, pvalue=0.24541788929767974)"
      ]
     },
     "execution_count": 78,
     "metadata": {},
     "output_type": "execute_result"
    }
   ],
   "source": [
    "spearmanr(best_model_alpha, accuracy)"
   ]
  },
  {
   "cell_type": "code",
   "execution_count": 79,
   "metadata": {},
   "outputs": [
    {
     "data": {
      "text/plain": [
       "SpearmanrResult(correlation=-0.5221042651609074, pvalue=0.01820636922357635)"
      ]
     },
     "execution_count": 79,
     "metadata": {},
     "output_type": "execute_result"
    }
   ],
   "source": [
    "spearmanr(best_model_prior, accuracy)"
   ]
  },
  {
   "cell_type": "code",
   "execution_count": 80,
   "metadata": {},
   "outputs": [
    {
     "data": {
      "text/plain": [
       "SpearmanrResult(correlation=0.5227529515978905, pvalue=0.01803725311275405)"
      ]
     },
     "execution_count": 80,
     "metadata": {},
     "output_type": "execute_result"
    }
   ],
   "source": [
    "spearmanr(best_model_alpha, recall)"
   ]
  },
  {
   "cell_type": "code",
   "execution_count": 81,
   "metadata": {},
   "outputs": [
    {
     "data": {
      "text/plain": [
       "SpearmanrResult(correlation=-0.08791436649011379, pvalue=0.7124525483099965)"
      ]
     },
     "execution_count": 81,
     "metadata": {},
     "output_type": "execute_result"
    }
   ],
   "source": [
    "spearmanr(best_model_prior, recall)"
   ]
  },
  {
   "cell_type": "code",
   "execution_count": 82,
   "metadata": {},
   "outputs": [
    {
     "data": {
      "text/plain": [
       "(0.5766665637208379, 0.007774895793164098)"
      ]
     },
     "execution_count": 82,
     "metadata": {},
     "output_type": "execute_result"
    }
   ],
   "source": [
    "pearsonr(best_model_alpha, recall)"
   ]
  },
  {
   "cell_type": "code",
   "execution_count": 83,
   "metadata": {},
   "outputs": [
    {
     "data": {
      "text/plain": [
       "(-0.016339514307665174, 0.9454898283333961)"
      ]
     },
     "execution_count": 83,
     "metadata": {},
     "output_type": "execute_result"
    }
   ],
   "source": [
    "pearsonr(best_model_prior, recall)"
   ]
  },
  {
   "cell_type": "code",
   "execution_count": 211,
   "metadata": {},
   "outputs": [],
   "source": [
    "with open(\"./data/fr/fr_batch1_crt.json\", \"r\", encoding=\"utf-8\") as f:\n",
    "    crt = json.load(f)"
   ]
  },
  {
   "cell_type": "code",
   "execution_count": 93,
   "metadata": {},
   "outputs": [],
   "source": [
    "with open(\"./data/fr/fr_batch1_aq_score.json\", \"r\", encoding=\"utf-8\") as f:\n",
    "    aq = json.load(f)"
   ]
  },
  {
   "cell_type": "code",
   "execution_count": 98,
   "metadata": {},
   "outputs": [],
   "source": [
    "with open(\"./data/fr/fr_batch1_sd3_psycho.json\", \"r\", encoding=\"utf-8\") as f:\n",
    "    psycho = json.load(f)"
   ]
  },
  {
   "cell_type": "code",
   "execution_count": 96,
   "metadata": {},
   "outputs": [],
   "source": [
    "with open(\"./data/fr/fr_batch1_sd3_machia.json\", \"r\", encoding=\"utf-8\") as f:\n",
    "    machia = json.load(f)"
   ]
  },
  {
   "cell_type": "code",
   "execution_count": 99,
   "metadata": {},
   "outputs": [],
   "source": [
    "with open(\"./data/fr/fr_batch1_sd3_narcis.json\", \"r\", encoding=\"utf-8\") as f:\n",
    "    narcis = json.load(f)"
   ]
  },
  {
   "cell_type": "code",
   "execution_count": 100,
   "metadata": {},
   "outputs": [],
   "source": [
    "with open(\"./data/fr/fr_batch1_eq.json\", \"r\", encoding=\"utf-8\") as f:\n",
    "    eq = json.load(f)"
   ]
  },
  {
   "cell_type": "code",
   "execution_count": 101,
   "metadata": {},
   "outputs": [],
   "source": [
    "with open(\"./data/fr/fr_batch1_rgpts.json\", \"r\", encoding=\"utf-8\") as f:\n",
    "    paranoia = json.load(f)"
   ]
  },
  {
   "cell_type": "code",
   "execution_count": 114,
   "metadata": {},
   "outputs": [],
   "source": [
    "eq_score = {}\n",
    "\n",
    "for uuid in uuids:\n",
    "    resp = eq[uuid]\n",
    "    eq_score[uuid] = sum(resp)/len(resp)"
   ]
  },
  {
   "cell_type": "code",
   "execution_count": 375,
   "metadata": {},
   "outputs": [],
   "source": [
    "# with open(\"./data/fr/fr_batch1_eq_score.json\", \"w\", encoding=\"utf-8\") as f:\n",
    "#     json.dump(eq_score, f)"
   ]
  },
  {
   "cell_type": "code",
   "execution_count": 121,
   "metadata": {},
   "outputs": [
    {
     "data": {
      "text/plain": [
       "True"
      ]
     },
     "execution_count": 121,
     "metadata": {},
     "output_type": "execute_result"
    }
   ],
   "source": [
    "len(best_model_prior) == len(eq_score)"
   ]
  },
  {
   "cell_type": "code",
   "execution_count": 123,
   "metadata": {},
   "outputs": [],
   "source": [
    "psycho_score = {}\n",
    "\n",
    "for uuid in uuids:\n",
    "    resp = psycho[uuid]\n",
    "    psycho_score[uuid] = sum(resp)/len(resp)"
   ]
  },
  {
   "cell_type": "code",
   "execution_count": 124,
   "metadata": {},
   "outputs": [],
   "source": [
    "machia_score = {}\n",
    "\n",
    "for uuid in uuids:\n",
    "    resp = machia[uuid]\n",
    "    machia_score[uuid] = sum(resp)/len(resp)"
   ]
  },
  {
   "cell_type": "code",
   "execution_count": 125,
   "metadata": {},
   "outputs": [],
   "source": [
    "narcis_score = {}\n",
    "\n",
    "for uuid in uuids:\n",
    "    resp = narcis[uuid]\n",
    "    narcis_score[uuid] = sum(resp)/len(resp)"
   ]
  },
  {
   "cell_type": "code",
   "execution_count": 129,
   "metadata": {},
   "outputs": [
    {
     "data": {
      "text/plain": [
       "20"
      ]
     },
     "execution_count": 129,
     "metadata": {},
     "output_type": "execute_result"
    }
   ],
   "source": [
    "len(machia_score)"
   ]
  },
  {
   "cell_type": "code",
   "execution_count": 132,
   "metadata": {},
   "outputs": [
    {
     "data": {
      "text/plain": [
       "15"
      ]
     },
     "execution_count": 132,
     "metadata": {},
     "output_type": "execute_result"
    }
   ],
   "source": [
    "len(paranoia)"
   ]
  },
  {
   "cell_type": "code",
   "execution_count": 137,
   "metadata": {},
   "outputs": [],
   "source": [
    "i_paranoia = {}\n",
    "i_best_alpha = {}\n",
    "i_best_prior = {}\n",
    "\n",
    "for uuid in paranoia.keys():\n",
    "    resp = paranoia[uuid]\n",
    "    i_paranoia[uuid] = (sum(resp)/len(resp))\n",
    "    i_best_alpha[uuid] = res_sig_ev[uuid]['est_alpha']\n",
    "    i_best_prior[uuid] = res_sig_ev[uuid]['est_prior']"
   ]
  },
  {
   "cell_type": "code",
   "execution_count": 378,
   "metadata": {},
   "outputs": [],
   "source": [
    "# with open(\"./data/fr/fr_batch1_rgpts_score.json\", \"w\", encoding=\"utf-8\") as f:\n",
    "#     json.dump(i_paranoia, f)"
   ]
  },
  {
   "cell_type": "code",
   "execution_count": 156,
   "metadata": {},
   "outputs": [
    {
     "data": {
      "text/plain": [
       "[True,\n",
       " True,\n",
       " True,\n",
       " True,\n",
       " True,\n",
       " True,\n",
       " True,\n",
       " True,\n",
       " True,\n",
       " True,\n",
       " True,\n",
       " True,\n",
       " True,\n",
       " True,\n",
       " True]"
      ]
     },
     "execution_count": 156,
     "metadata": {},
     "output_type": "execute_result"
    }
   ],
   "source": [
    "# # sanity check\n",
    "\n",
    "# [x==y for x,y in zip(i_paranoia.keys(), i_best_alpha)]"
   ]
  },
  {
   "cell_type": "code",
   "execution_count": 169,
   "metadata": {},
   "outputs": [],
   "source": [
    "with open(\"./data/fr/fr_batch1_mean_honesty_rating.json\", \"r\", encoding=\"utf-8\") as f:\n",
    "    avg_honesty_rating = json.load(f)"
   ]
  },
  {
   "cell_type": "code",
   "execution_count": 177,
   "metadata": {},
   "outputs": [],
   "source": [
    "with open(\"./data/fr/fr_batch1_lie_prop.json\", \"r\", encoding=\"utf-8\") as f:\n",
    "    lie_prop = json.load(f)"
   ]
  },
  {
   "cell_type": "code",
   "execution_count": 171,
   "metadata": {},
   "outputs": [],
   "source": [
    "mean_rating = {}\n",
    "\n",
    "for uuid in uuids:\n",
    "    mean_rating[uuid] = dfs[uuid]['suspicion_rating'].mean()"
   ]
  },
  {
   "cell_type": "code",
   "execution_count": 172,
   "metadata": {},
   "outputs": [
    {
     "data": {
      "text/plain": [
       "{'56210effed6e5a000ac7f3a5': 0.7088888888888889,\n",
       " '57313ba2070de6000f43384e': 0.24888888888888888,\n",
       " '5af196e1e1b5b8000148ac76': 0.41555555555555557,\n",
       " '5cd5fe480f0de600018e7251': 0.31999999999999995,\n",
       " '5fec7577ad8fbadf15cd5607': 0.24888888888888888,\n",
       " '60f44f7a57468d4e9f87fa5b': 0.5088888888888888,\n",
       " '61085b8ec672d0e88151d5ae': 0.30666666666666664,\n",
       " '6110e7ae08023ecb9207b05e': 0.35555555555555557,\n",
       " '6147d726fa94eb7d5c2de156': 0.2288888888888889,\n",
       " '614f23537aab4e64abfd53ae': 0.4155555555555556,\n",
       " '6152218517a89c5b41e18a06': 0.4088888888888889,\n",
       " '61533356ce435e5a4a4addd0': 0.31333333333333335,\n",
       " '6154284fc5154abb9a264b0c': 0.4422222222222223,\n",
       " '6156ee007bdef87eb5b4aeb0': 0.4600000000000001,\n",
       " '615d9f86fdd5e127d783e850': 0.4533333333333333,\n",
       " '615ec4f34cb81d7e58fa144c': 0.36222222222222217,\n",
       " '615f0726cbd12330a2d82556': 0.4955555555555556,\n",
       " '615f1500b60d25e2660e8644': 0.35555555555555557,\n",
       " '6160011304f5319ece189bfa': 0.2644444444444444,\n",
       " '6160403f5164508979e6358d': 0.2577777777777778}"
      ]
     },
     "execution_count": 172,
     "metadata": {},
     "output_type": "execute_result"
    }
   ],
   "source": [
    "mean_rating"
   ]
  },
  {
   "cell_type": "code",
   "execution_count": 215,
   "metadata": {
    "scrolled": true
   },
   "outputs": [
    {
     "data": {
      "text/plain": [
       "(-0.2001414877088935, 0.4744950251234955)"
      ]
     },
     "execution_count": 215,
     "metadata": {},
     "output_type": "execute_result"
    }
   ],
   "source": [
    "pearsonr([crt[key] for key in i_paranoia.keys()], [i_paranoia[key] for key in i_paranoia.keys()])"
   ]
  },
  {
   "cell_type": "code",
   "execution_count": 226,
   "metadata": {},
   "outputs": [
    {
     "data": {
      "text/plain": [
       "(0.45774629372660236, 0.08620996185122101)"
      ]
     },
     "execution_count": 226,
     "metadata": {},
     "output_type": "execute_result"
    }
   ],
   "source": [
    "pearsonr([psycho_score[key] for key in i_paranoia.keys()], [i_paranoia[key] for key in i_paranoia.keys()])"
   ]
  },
  {
   "cell_type": "code",
   "execution_count": 184,
   "metadata": {
    "scrolled": true
   },
   "outputs": [
    {
     "data": {
      "text/plain": [
       "(0.06372621957151967, 0.8214916490156163)"
      ]
     },
     "execution_count": 184,
     "metadata": {},
     "output_type": "execute_result"
    }
   ],
   "source": [
    "pearsonr([lie_detection[key]['accuracy'] for key in i_paranoia.keys()], [i_paranoia[key] for key in i_paranoia.keys()])"
   ]
  },
  {
   "cell_type": "code",
   "execution_count": 153,
   "metadata": {},
   "outputs": [
    {
     "data": {
      "text/plain": [
       "SpearmanrResult(correlation=-0.05366734884263648, pvalue=0.8493434956697786)"
      ]
     },
     "execution_count": 153,
     "metadata": {},
     "output_type": "execute_result"
    }
   ],
   "source": [
    "spearmanr([avg_honesty_rating[key] for key in i_paranoia.keys()], [i_paranoia[key] for key in i_paranoia.keys()])"
   ]
  },
  {
   "cell_type": "code",
   "execution_count": 321,
   "metadata": {},
   "outputs": [
    {
     "data": {
      "text/plain": [
       "(-0.1620751653443488, 0.4948048242015847)"
      ]
     },
     "execution_count": 321,
     "metadata": {},
     "output_type": "execute_result"
    }
   ],
   "source": [
    "pearsonr([lie_prop[uuid] for uuid in uuids], [res_sig_ev[uuid]['est_alpha'] for uuid in uuids])"
   ]
  },
  {
   "cell_type": "code",
   "execution_count": 258,
   "metadata": {},
   "outputs": [
    {
     "data": {
      "text/plain": [
       "(-0.10213107209070384, 0.6683177199425849)"
      ]
     },
     "execution_count": 258,
     "metadata": {},
     "output_type": "execute_result"
    }
   ],
   "source": [
    "pearsonr([crt[uuid] for uuid in uuids], [res_sig_ev[uuid]['est_prior'] for uuid in uuids])"
   ]
  },
  {
   "cell_type": "code",
   "execution_count": 261,
   "metadata": {},
   "outputs": [
    {
     "data": {
      "text/plain": [
       "(0.2559924188739665, 0.275978064032704)"
      ]
     },
     "execution_count": 261,
     "metadata": {},
     "output_type": "execute_result"
    }
   ],
   "source": [
    "pearsonr([lie_detection[uuid]['precision'] for uuid in uuids], [crt[uuid] for uuid in uuids])"
   ]
  },
  {
   "cell_type": "code",
   "execution_count": 262,
   "metadata": {},
   "outputs": [
    {
     "data": {
      "text/plain": [
       "(0.7264809368049483, 0.0002861667255846356)"
      ]
     },
     "execution_count": 262,
     "metadata": {},
     "output_type": "execute_result"
    }
   ],
   "source": [
    "pearsonr([eq_score[uuid] for uuid in uuids], [narcis_score[uuid] for uuid in uuids])"
   ]
  },
  {
   "cell_type": "code",
   "execution_count": 143,
   "metadata": {},
   "outputs": [
    {
     "data": {
      "text/plain": [
       "SpearmanrResult(correlation=-0.16428571428571426, pvalue=0.5584973732486012)"
      ]
     },
     "execution_count": 143,
     "metadata": {},
     "output_type": "execute_result"
    }
   ],
   "source": [
    "spearmanr([i_best_alpha[key] for key in i_paranoia.keys()], [i_paranoia[key] for key in i_paranoia.keys()])"
   ]
  },
  {
   "cell_type": "code",
   "execution_count": 263,
   "metadata": {},
   "outputs": [
    {
     "data": {
      "text/plain": [
       "<AxesSubplot:>"
      ]
     },
     "execution_count": 263,
     "metadata": {},
     "output_type": "execute_result"
    },
    {
     "data": {
      "image/png": "[encoded data removed]",
      "text/plain": [
       "<Figure size 432x288 with 1 Axes>"
      ]
     },
     "metadata": {
      "needs_background": "light"
     },
     "output_type": "display_data"
    }
   ],
   "source": [
    "sns.regplot(x=[eq_score[uuid] for uuid in uuids], y=[narcis_score[uuid] for uuid in uuids])"
   ]
  },
  {
   "cell_type": "code",
   "execution_count": 145,
   "metadata": {},
   "outputs": [
    {
     "data": {
      "text/plain": [
       "SpearmanrResult(correlation=0.09369749612033813, pvalue=0.73978476053342)"
      ]
     },
     "execution_count": 145,
     "metadata": {},
     "output_type": "execute_result"
    }
   ],
   "source": [
    "spearmanr([i_best_prior[key] for key in i_paranoia.keys()], [i_paranoia[key] for key in i_paranoia.keys()])"
   ]
  },
  {
   "cell_type": "code",
   "execution_count": 165,
   "metadata": {},
   "outputs": [
    {
     "data": {
      "text/plain": [
       "[False,\n",
       " False,\n",
       " False,\n",
       " False,\n",
       " False,\n",
       " True,\n",
       " False,\n",
       " False,\n",
       " False,\n",
       " False,\n",
       " False,\n",
       " False,\n",
       " False,\n",
       " False,\n",
       " False,\n",
       " False,\n",
       " False,\n",
       " False,\n",
       " False,\n",
       " False]"
      ]
     },
     "execution_count": 165,
     "metadata": {},
     "output_type": "execute_result"
    }
   ],
   "source": [
    "# # sanity check\n",
    "\n",
    "[x==y for x,y in zip(avg_honesty_rating.keys(), eq_score.keys())]"
   ]
  },
  {
   "cell_type": "code",
   "execution_count": 173,
   "metadata": {},
   "outputs": [
    {
     "data": {
      "text/plain": [
       "[True,\n",
       " True,\n",
       " True,\n",
       " True,\n",
       " True,\n",
       " True,\n",
       " True,\n",
       " True,\n",
       " True,\n",
       " True,\n",
       " True,\n",
       " True,\n",
       " True,\n",
       " True,\n",
       " True,\n",
       " True,\n",
       " True,\n",
       " True,\n",
       " True,\n",
       " True]"
      ]
     },
     "execution_count": 173,
     "metadata": {},
     "output_type": "execute_result"
    }
   ],
   "source": [
    "[x==y for x,y in zip(mean_rating.keys(), eq_score.keys())]"
   ]
  },
  {
   "cell_type": "code",
   "execution_count": 385,
   "metadata": {},
   "outputs": [],
   "source": [
    "dfs_n = []\n",
    "agg_df = []\n",
    "\n",
    "for uuid in uuids:    \n",
    "    dfs_n.append(dfs[uuid])\n",
    "    agg_df.append({\n",
    "        \"PID\": uuid,\n",
    "        \"crt\": crt[uuid],\n",
    "        \"aq\": aq[uuid],\n",
    "        \"lie_prop\": lie_prop[uuid],\n",
    "        \"sd3_psycho\": psycho_score[uuid],\n",
    "        \"sd3_machia\": machia_score[uuid],\n",
    "        \"sd3_narcis\": narcis_score[uuid],\n",
    "        \"eq\": eq_score[uuid],\n",
    "#         \"rgpts\": paranoia[uuid],\n",
    "        \"signed_ev_alpha\": res_sig_ev[uuid]['est_alpha'],\n",
    "        \"signed_ev_prior\": res_sig_ev[uuid]['est_prior'],\n",
    "        \"mean_honesty_rating\": avg_honesty_rating[uuid]\n",
    "    })"
   ]
  },
  {
   "cell_type": "code",
   "execution_count": 267,
   "metadata": {},
   "outputs": [],
   "source": [
    "dfs_long = pd.concat(dfs_n)"
   ]
  },
  {
   "cell_type": "code",
   "execution_count": 386,
   "metadata": {},
   "outputs": [
    {
     "data": {
      "text/plain": [
       "[{'PID': '56210effed6e5a000ac7f3a5',\n",
       "  'crt': 4,\n",
       "  'aq': 0.2,\n",
       "  'lie_prop': 0.6222222222222222,\n",
       "  'sd3_psycho': 2.857142857142857,\n",
       "  'sd3_machia': 3.5555555555555554,\n",
       "  'sd3_narcis': 3.25,\n",
       "  'eq': 5.181818181818182,\n",
       "  'signed_ev_alpha': 0.5349277104073303,\n",
       "  'signed_ev_prior': 0.3446650558434364,\n",
       "  'mean_honesty_rating': 1.4555555555555555},\n",
       " {'PID': '57313ba2070de6000f43384e',\n",
       "  'crt': 3,\n",
       "  'aq': 0.6,\n",
       "  'lie_prop': 0.2111111111111111,\n",
       "  'sd3_psycho': 2.7142857142857144,\n",
       "  'sd3_machia': 3.3333333333333335,\n",
       "  'sd3_narcis': 3.125,\n",
       "  'eq': 4.954545454545454,\n",
       "  'signed_ev_alpha': 0.1570892280531529,\n",
       "  'signed_ev_prior': 0.14504681637155084,\n",
       "  'mean_honesty_rating': 3.7555555555555555},\n",
       " {'PID': '5af196e1e1b5b8000148ac76',\n",
       "  'crt': 2,\n",
       "  'aq': 0.4,\n",
       "  'lie_prop': 0.2222222222222222,\n",
       "  'sd3_psycho': 1.7142857142857142,\n",
       "  'sd3_machia': 3.3333333333333335,\n",
       "  'sd3_narcis': 2.5,\n",
       "  'eq': 5.136363636363637,\n",
       "  'signed_ev_alpha': 0.6658791447701794,\n",
       "  'signed_ev_prior': 0.007797932829104502,\n",
       "  'mean_honesty_rating': 2.922222222222222},\n",
       " {'PID': '5cd5fe480f0de600018e7251',\n",
       "  'crt': 1,\n",
       "  'aq': 0.3,\n",
       "  'lie_prop': 0.4111111111111111,\n",
       "  'sd3_psycho': 2.7142857142857144,\n",
       "  'sd3_machia': 3.2222222222222223,\n",
       "  'sd3_narcis': 2.75,\n",
       "  'eq': 4.681818181818182,\n",
       "  'signed_ev_alpha': 0.4104107703944812,\n",
       "  'signed_ev_prior': 0.08646028541837154,\n",
       "  'mean_honesty_rating': 3.4},\n",
       " {'PID': '5fec7577ad8fbadf15cd5607',\n",
       "  'crt': 4,\n",
       "  'aq': 0.2,\n",
       "  'lie_prop': 0.23333333333333334,\n",
       "  'sd3_psycho': 2.2857142857142856,\n",
       "  'sd3_machia': 2.3333333333333335,\n",
       "  'sd3_narcis': 2.375,\n",
       "  'eq': 4.5,\n",
       "  'signed_ev_alpha': 0.37355424472868753,\n",
       "  'signed_ev_prior': 0.05144631766990591,\n",
       "  'mean_honesty_rating': 3.7555555555555555},\n",
       " {'PID': '60f44f7a57468d4e9f87fa5b',\n",
       "  'crt': 4,\n",
       "  'aq': 0.5,\n",
       "  'lie_prop': 0.6,\n",
       "  'sd3_psycho': 2.7142857142857144,\n",
       "  'sd3_machia': 2.6666666666666665,\n",
       "  'sd3_narcis': 3.125,\n",
       "  'eq': 3.772727272727273,\n",
       "  'signed_ev_alpha': 0.0391620071834755,\n",
       "  'signed_ev_prior': 0.48595837088076926,\n",
       "  'mean_honesty_rating': 2.4555555555555557},\n",
       " {'PID': '61085b8ec672d0e88151d5ae',\n",
       "  'crt': 1,\n",
       "  'aq': 0.2,\n",
       "  'lie_prop': 0.2111111111111111,\n",
       "  'sd3_psycho': 3.2857142857142856,\n",
       "  'sd3_machia': 3.0,\n",
       "  'sd3_narcis': 3.5,\n",
       "  'eq': 5.7727272727272725,\n",
       "  'signed_ev_alpha': 0.5023678831521958,\n",
       "  'signed_ev_prior': 0.0,\n",
       "  'mean_honesty_rating': 3.466666666666667},\n",
       " {'PID': '6110e7ae08023ecb9207b05e',\n",
       "  'crt': 0,\n",
       "  'aq': 0.7,\n",
       "  'lie_prop': 0.022222222222222223,\n",
       "  'sd3_psycho': 2.857142857142857,\n",
       "  'sd3_machia': 3.6666666666666665,\n",
       "  'sd3_narcis': 2.75,\n",
       "  'eq': 4.409090909090909,\n",
       "  'signed_ev_alpha': 0.3156840099018267,\n",
       "  'signed_ev_prior': 0.19093106628245815,\n",
       "  'mean_honesty_rating': 3.2222222222222223},\n",
       " {'PID': '6147d726fa94eb7d5c2de156',\n",
       "  'crt': 4,\n",
       "  'aq': 0.5,\n",
       "  'lie_prop': 0.25555555555555554,\n",
       "  'sd3_psycho': 2.4285714285714284,\n",
       "  'sd3_machia': 3.111111111111111,\n",
       "  'sd3_narcis': 2.5,\n",
       "  'eq': 4.363636363636363,\n",
       "  'signed_ev_alpha': 0.42278909388201663,\n",
       "  'signed_ev_prior': 0.0,\n",
       "  'mean_honesty_rating': 3.8555555555555556},\n",
       " {'PID': '614f23537aab4e64abfd53ae',\n",
       "  'crt': 4,\n",
       "  'aq': 0.9,\n",
       "  'lie_prop': 0.011111111111111112,\n",
       "  'sd3_psycho': 3.4285714285714284,\n",
       "  'sd3_machia': 3.2222222222222223,\n",
       "  'sd3_narcis': 2.625,\n",
       "  'eq': 3.6363636363636362,\n",
       "  'signed_ev_alpha': 0.49116454432583273,\n",
       "  'signed_ev_prior': 0.07227246734716666,\n",
       "  'mean_honesty_rating': 2.922222222222222},\n",
       " {'PID': '6152218517a89c5b41e18a06',\n",
       "  'crt': 3,\n",
       "  'aq': 0.2,\n",
       "  'lie_prop': 0.1111111111111111,\n",
       "  'sd3_psycho': 2.142857142857143,\n",
       "  'sd3_machia': 3.5555555555555554,\n",
       "  'sd3_narcis': 3.875,\n",
       "  'eq': 5.954545454545454,\n",
       "  'signed_ev_alpha': 0.1988235458108263,\n",
       "  'signed_ev_prior': 0.2711483433672446,\n",
       "  'mean_honesty_rating': 2.9555555555555557},\n",
       " {'PID': '61533356ce435e5a4a4addd0',\n",
       "  'crt': 4,\n",
       "  'aq': 0.3,\n",
       "  'lie_prop': 0.5111111111111111,\n",
       "  'sd3_psycho': 2.4285714285714284,\n",
       "  'sd3_machia': 3.111111111111111,\n",
       "  'sd3_narcis': 2.75,\n",
       "  'eq': 5.318181818181818,\n",
       "  'signed_ev_alpha': 0.47060196814652366,\n",
       "  'signed_ev_prior': 0.013715420887919213,\n",
       "  'mean_honesty_rating': 3.433333333333333},\n",
       " {'PID': '6154284fc5154abb9a264b0c',\n",
       "  'crt': 3,\n",
       "  'aq': 0.8,\n",
       "  'lie_prop': 0.13333333333333333,\n",
       "  'sd3_psycho': 2.7142857142857144,\n",
       "  'sd3_machia': 3.5555555555555554,\n",
       "  'sd3_narcis': 1.75,\n",
       "  'eq': 3.0,\n",
       "  'signed_ev_alpha': 0.36463468214310246,\n",
       "  'signed_ev_prior': 0.2423682954876181,\n",
       "  'mean_honesty_rating': 2.7888888888888888},\n",
       " {'PID': '6156ee007bdef87eb5b4aeb0',\n",
       "  'crt': 0,\n",
       "  'aq': 0.5,\n",
       "  'lie_prop': 0.6555555555555556,\n",
       "  'sd3_psycho': 2.5714285714285716,\n",
       "  'sd3_machia': 3.0,\n",
       "  'sd3_narcis': 2.875,\n",
       "  'eq': 3.772727272727273,\n",
       "  'signed_ev_alpha': 0.0,\n",
       "  'signed_ev_prior': 0.45996613649716034,\n",
       "  'mean_honesty_rating': 2.7},\n",
       " {'PID': '615d9f86fdd5e127d783e850',\n",
       "  'crt': 1,\n",
       "  'aq': 0.4,\n",
       "  'lie_prop': 0.14444444444444443,\n",
       "  'sd3_psycho': 2.0,\n",
       "  'sd3_machia': 1.4444444444444444,\n",
       "  'sd3_narcis': 2.875,\n",
       "  'eq': 4.5,\n",
       "  'signed_ev_alpha': 0.28777129091709047,\n",
       "  'signed_ev_prior': 0.252414483679823,\n",
       "  'mean_honesty_rating': 2.7333333333333334},\n",
       " {'PID': '615ec4f34cb81d7e58fa144c',\n",
       "  'crt': 1,\n",
       "  'aq': 0.3,\n",
       "  'lie_prop': 0.0,\n",
       "  'sd3_psycho': 1.7142857142857142,\n",
       "  'sd3_machia': 2.3333333333333335,\n",
       "  'sd3_narcis': 2.375,\n",
       "  'eq': 5.363636363636363,\n",
       "  'signed_ev_alpha': 0.08878736925822084,\n",
       "  'signed_ev_prior': 0.3111500940630891,\n",
       "  'mean_honesty_rating': 3.188888888888889},\n",
       " {'PID': '615f0726cbd12330a2d82556',\n",
       "  'crt': 2,\n",
       "  'aq': 0.5,\n",
       "  'lie_prop': 0.14444444444444443,\n",
       "  'sd3_psycho': 2.2857142857142856,\n",
       "  'sd3_machia': 3.111111111111111,\n",
       "  'sd3_narcis': 3.0,\n",
       "  'eq': 4.409090909090909,\n",
       "  'signed_ev_alpha': 0.7093595204572193,\n",
       "  'signed_ev_prior': 0.0,\n",
       "  'mean_honesty_rating': 2.522222222222222},\n",
       " {'PID': '615f1500b60d25e2660e8644',\n",
       "  'crt': 0,\n",
       "  'aq': 0.6,\n",
       "  'lie_prop': 0.24444444444444444,\n",
       "  'sd3_psycho': 2.0,\n",
       "  'sd3_machia': 3.0,\n",
       "  'sd3_narcis': 2.0,\n",
       "  'eq': 3.1818181818181817,\n",
       "  'signed_ev_alpha': 0.6776047863581292,\n",
       "  'signed_ev_prior': 0.0,\n",
       "  'mean_honesty_rating': 3.2222222222222223},\n",
       " {'PID': '6160011304f5319ece189bfa',\n",
       "  'crt': 4,\n",
       "  'aq': 0.5,\n",
       "  'lie_prop': 0.03333333333333333,\n",
       "  'sd3_psycho': 2.857142857142857,\n",
       "  'sd3_machia': 2.4444444444444446,\n",
       "  'sd3_narcis': 2.5,\n",
       "  'eq': 4.409090909090909,\n",
       "  'signed_ev_alpha': 0.3268320308681591,\n",
       "  'signed_ev_prior': 0.032013090612134656,\n",
       "  'mean_honesty_rating': 3.6777777777777776},\n",
       " {'PID': '6160403f5164508979e6358d',\n",
       "  'crt': 3,\n",
       "  'aq': 0.4,\n",
       "  'lie_prop': 0.022222222222222223,\n",
       "  'sd3_psycho': 1.8571428571428572,\n",
       "  'sd3_machia': 3.2222222222222223,\n",
       "  'sd3_narcis': 1.625,\n",
       "  'eq': 2.909090909090909,\n",
       "  'signed_ev_alpha': 0.4367316430083965,\n",
       "  'signed_ev_prior': 0.0,\n",
       "  'mean_honesty_rating': 3.7111111111111112}]"
      ]
     },
     "execution_count": 386,
     "metadata": {},
     "output_type": "execute_result"
    }
   ],
   "source": [
    "agg_df"
   ]
  },
  {
   "cell_type": "code",
   "execution_count": 387,
   "metadata": {},
   "outputs": [],
   "source": [
    "agg_df = pd.DataFrame(agg_df)\n",
    "# agg_df.to_feather(\"./data/fr/aggregate_scores.feather\")"
   ]
  },
  {
   "cell_type": "code",
   "execution_count": 287,
   "metadata": {},
   "outputs": [
    {
     "name": "stdout",
     "output_type": "stream",
     "text": [
      "0.6222222222222222\n",
      "0.2111111111111111\n",
      "0.2222222222222222\n",
      "0.4111111111111111\n",
      "0.23333333333333334\n",
      "0.6\n",
      "0.2111111111111111\n",
      "0.022222222222222223\n",
      "0.25555555555555554\n",
      "0.011111111111111112\n",
      "0.1111111111111111\n",
      "0.5111111111111111\n",
      "0.13333333333333333\n",
      "0.6555555555555556\n",
      "0.14444444444444443\n",
      "0.0\n",
      "0.14444444444444443\n",
      "0.24444444444444444\n",
      "0.03333333333333333\n",
      "0.022222222222222223\n"
     ]
    }
   ],
   "source": [
    "for uuid in uuids:\n",
    "    print(sum(dfs[uuid]['col_picked'] != dfs[uuid]['col_reported'])/len(dfs[uuid]))"
   ]
  },
  {
   "cell_type": "code",
   "execution_count": 276,
   "metadata": {},
   "outputs": [
    {
     "data": {
      "text/html": [
       "<div>\n",
       "<style scoped>\n",
       "    .dataframe tbody tr th:only-of-type {\n",
       "        vertical-align: middle;\n",
       "    }\n",
       "\n",
       "    .dataframe tbody tr th {\n",
       "        vertical-align: top;\n",
       "    }\n",
       "\n",
       "    .dataframe thead th {\n",
       "        text-align: right;\n",
       "    }\n",
       "</style>\n",
       "<table border=\"1\" class=\"dataframe\">\n",
       "  <thead>\n",
       "    <tr style=\"text-align: right;\">\n",
       "      <th></th>\n",
       "      <th>crt</th>\n",
       "      <th>aq</th>\n",
       "      <th>lie_prop</th>\n",
       "      <th>sd3_psycho</th>\n",
       "      <th>sd3_machia</th>\n",
       "      <th>sd3_narcis</th>\n",
       "      <th>eq</th>\n",
       "      <th>signed_ev_alpha</th>\n",
       "      <th>signed_ev_prior</th>\n",
       "      <th>mean_honesty_rating</th>\n",
       "    </tr>\n",
       "  </thead>\n",
       "  <tbody>\n",
       "    <tr>\n",
       "      <th>0</th>\n",
       "      <td>4</td>\n",
       "      <td>0.2</td>\n",
       "      <td>0.622222</td>\n",
       "      <td>2.857143</td>\n",
       "      <td>3.555556</td>\n",
       "      <td>3.250</td>\n",
       "      <td>5.181818</td>\n",
       "      <td>0.534928</td>\n",
       "      <td>0.344665</td>\n",
       "      <td>1.455556</td>\n",
       "    </tr>\n",
       "    <tr>\n",
       "      <th>1</th>\n",
       "      <td>3</td>\n",
       "      <td>0.6</td>\n",
       "      <td>0.211111</td>\n",
       "      <td>2.714286</td>\n",
       "      <td>3.333333</td>\n",
       "      <td>3.125</td>\n",
       "      <td>4.954545</td>\n",
       "      <td>0.157089</td>\n",
       "      <td>0.145047</td>\n",
       "      <td>3.755556</td>\n",
       "    </tr>\n",
       "    <tr>\n",
       "      <th>2</th>\n",
       "      <td>2</td>\n",
       "      <td>0.4</td>\n",
       "      <td>0.222222</td>\n",
       "      <td>1.714286</td>\n",
       "      <td>3.333333</td>\n",
       "      <td>2.500</td>\n",
       "      <td>5.136364</td>\n",
       "      <td>0.665879</td>\n",
       "      <td>0.007798</td>\n",
       "      <td>2.922222</td>\n",
       "    </tr>\n",
       "    <tr>\n",
       "      <th>3</th>\n",
       "      <td>1</td>\n",
       "      <td>0.3</td>\n",
       "      <td>0.411111</td>\n",
       "      <td>2.714286</td>\n",
       "      <td>3.222222</td>\n",
       "      <td>2.750</td>\n",
       "      <td>4.681818</td>\n",
       "      <td>0.410411</td>\n",
       "      <td>0.086460</td>\n",
       "      <td>3.400000</td>\n",
       "    </tr>\n",
       "    <tr>\n",
       "      <th>4</th>\n",
       "      <td>4</td>\n",
       "      <td>0.2</td>\n",
       "      <td>0.233333</td>\n",
       "      <td>2.285714</td>\n",
       "      <td>2.333333</td>\n",
       "      <td>2.375</td>\n",
       "      <td>4.500000</td>\n",
       "      <td>0.373554</td>\n",
       "      <td>0.051446</td>\n",
       "      <td>3.755556</td>\n",
       "    </tr>\n",
       "  </tbody>\n",
       "</table>\n",
       "</div>"
      ],
      "text/plain": [
       "   crt   aq  lie_prop  sd3_psycho  sd3_machia  sd3_narcis        eq  \\\n",
       "0    4  0.2  0.622222    2.857143    3.555556       3.250  5.181818   \n",
       "1    3  0.6  0.211111    2.714286    3.333333       3.125  4.954545   \n",
       "2    2  0.4  0.222222    1.714286    3.333333       2.500  5.136364   \n",
       "3    1  0.3  0.411111    2.714286    3.222222       2.750  4.681818   \n",
       "4    4  0.2  0.233333    2.285714    2.333333       2.375  4.500000   \n",
       "\n",
       "   signed_ev_alpha  signed_ev_prior  mean_honesty_rating  \n",
       "0         0.534928         0.344665             1.455556  \n",
       "1         0.157089         0.145047             3.755556  \n",
       "2         0.665879         0.007798             2.922222  \n",
       "3         0.410411         0.086460             3.400000  \n",
       "4         0.373554         0.051446             3.755556  "
      ]
     },
     "execution_count": 276,
     "metadata": {},
     "output_type": "execute_result"
    }
   ],
   "source": [
    "agg_df.head()"
   ]
  },
  {
   "cell_type": "code",
   "execution_count": 288,
   "metadata": {},
   "outputs": [],
   "source": [
    "agg_df['high_liar'] = [1 if v > median(agg_df['lie_prop']) else 0 for v in agg_df['lie_prop']]\n",
    "\n",
    "agg_df['high_alpha'] = [1 if v > median(agg_df['signed_ev_alpha']) else 0 for v in agg_df['signed_ev_alpha']]\n",
    "\n",
    "agg_df['high_prior'] = [1 if v > median(agg_df['signed_ev_prior']) else 0 for v in agg_df['signed_ev_prior']]"
   ]
  },
  {
   "cell_type": "code",
   "execution_count": 277,
   "metadata": {},
   "outputs": [],
   "source": [
    "from statistics import median"
   ]
  },
  {
   "cell_type": "code",
   "execution_count": 379,
   "metadata": {},
   "outputs": [
    {
     "data": {
      "text/plain": [
       "<AxesSubplot:xlabel='suspicion_rating', ylabel='Count'>"
      ]
     },
     "execution_count": 379,
     "metadata": {},
     "output_type": "execute_result"
    },
    {
     "data": {
      "image/png": "[encoded data removed]",
      "text/plain": [
       "<Figure size 432x288 with 1 Axes>"
      ]
     },
     "metadata": {
      "needs_background": "light"
     },
     "output_type": "display_data"
    }
   ],
   "source": [
    "sns.histplot(data=dfs_long, x=\"suspicion_rating\")"
   ]
  },
  {
   "cell_type": "code",
   "execution_count": 380,
   "metadata": {},
   "outputs": [
    {
     "data": {
      "text/plain": [
       "<AxesSubplot:xlabel='RT_rating', ylabel='Count'>"
      ]
     },
     "execution_count": 380,
     "metadata": {},
     "output_type": "execute_result"
    },
    {
     "data": {
      "image/png": "[encoded data removed]",
      "text/plain": [
       "<Figure size 432x288 with 1 Axes>"
      ]
     },
     "metadata": {
      "needs_background": "light"
     },
     "output_type": "display_data"
    }
   ],
   "source": [
    "sns.histplot(data=dfs_long, x=\"RT_rating\")"
   ]
  },
  {
   "cell_type": "code",
   "execution_count": 382,
   "metadata": {},
   "outputs": [],
   "source": [
    "tmp = dfs_long[dfs_long['PID'] != \"60f44f7a57468d4e9f87fa5b\"]"
   ]
  },
  {
   "cell_type": "code",
   "execution_count": 383,
   "metadata": {},
   "outputs": [
    {
     "data": {
      "text/plain": [
       "<AxesSubplot:xlabel='RT_rating', ylabel='Count'>"
      ]
     },
     "execution_count": 383,
     "metadata": {},
     "output_type": "execute_result"
    },
    {
     "data": {
      "image/png": "[encoded data removed]",
      "text/plain": [
       "<Figure size 432x288 with 1 Axes>"
      ]
     },
     "metadata": {
      "needs_background": "light"
     },
     "output_type": "display_data"
    }
   ],
   "source": [
    "sns.histplot(data=tmp, x=\"RT_rating\")"
   ]
  },
  {
   "cell_type": "code",
   "execution_count": 285,
   "metadata": {},
   "outputs": [
    {
     "data": {
      "text/plain": [
       "<AxesSubplot:xlabel='high_liar', ylabel='mean_honesty_rating'>"
      ]
     },
     "execution_count": 285,
     "metadata": {},
     "output_type": "execute_result"
    },
    {
     "data": {
      "image/png": "[encoded data removed]",
      "text/plain": [
       "<Figure size 432x288 with 1 Axes>"
      ]
     },
     "metadata": {
      "needs_background": "light"
     },
     "output_type": "display_data"
    }
   ],
   "source": [
    "p = sns.barplot(data=agg_df, x=\"high_liar\", y=\"mean_honesty_rating\")"
   ]
  },
  {
   "cell_type": "code",
   "execution_count": 356,
   "metadata": {},
   "outputs": [
    {
     "data": {
      "text/plain": [
       "Text(0, 0.5, 'EV sensitivity (alpha)')"
      ]
     },
     "execution_count": 356,
     "metadata": {},
     "output_type": "execute_result"
    },
    {
     "data": {
      "image/png": "[encoded data removed]",
      "text/plain": [
       "<Figure size 432x288 with 1 Axes>"
      ]
     },
     "metadata": {
      "needs_background": "light"
     },
     "output_type": "display_data"
    }
   ],
   "source": [
    "p = sns.barplot(data=agg_df, x=\"high_liar\", y=\"signed_ev_alpha\")\n",
    "p.set_xlabel(\"\")\n",
    "p.set_xticklabels([\"lied < median\", \"lied > median\"])\n",
    "p.set_ylabel(\"EV sensitivity (alpha)\")"
   ]
  },
  {
   "cell_type": "code",
   "execution_count": 357,
   "metadata": {},
   "outputs": [
    {
     "data": {
      "text/plain": [
       "Text(0, 0.5, 'baseline suspicion (prior)')"
      ]
     },
     "execution_count": 357,
     "metadata": {},
     "output_type": "execute_result"
    },
    {
     "data": {
      "image/png": "[encoded data removed]",
      "text/plain": [
       "<Figure size 432x288 with 1 Axes>"
      ]
     },
     "metadata": {
      "needs_background": "light"
     },
     "output_type": "display_data"
    }
   ],
   "source": [
    "p = sns.barplot(data=agg_df, x=\"high_liar\", y=\"signed_ev_prior\")\n",
    "p.set_xlabel(\"\")\n",
    "p.set_xticklabels([\"lied < median\", \"lied > median\"])\n",
    "p.set_ylabel(\"baseline suspicion (prior)\")"
   ]
  },
  {
   "cell_type": "code",
   "execution_count": 291,
   "metadata": {},
   "outputs": [
    {
     "data": {
      "text/plain": [
       "<AxesSubplot:xlabel='high_alpha', ylabel='mean_honesty_rating'>"
      ]
     },
     "execution_count": 291,
     "metadata": {},
     "output_type": "execute_result"
    },
    {
     "data": {
      "image/png": "[encoded data removed]",
      "text/plain": [
       "<Figure size 432x288 with 1 Axes>"
      ]
     },
     "metadata": {
      "needs_background": "light"
     },
     "output_type": "display_data"
    }
   ],
   "source": [
    "sns.barplot(data=agg_df, x=\"high_alpha\", y=\"mean_honesty_rating\")"
   ]
  },
  {
   "cell_type": "code",
   "execution_count": 292,
   "metadata": {},
   "outputs": [
    {
     "data": {
      "text/plain": [
       "<AxesSubplot:xlabel='high_prior', ylabel='mean_honesty_rating'>"
      ]
     },
     "execution_count": 292,
     "metadata": {},
     "output_type": "execute_result"
    },
    {
     "data": {
      "image/png": "[encoded data removed]",
      "text/plain": [
       "<Figure size 432x288 with 1 Axes>"
      ]
     },
     "metadata": {
      "needs_background": "light"
     },
     "output_type": "display_data"
    }
   ],
   "source": [
    "sns.barplot(data=agg_df, x=\"high_prior\", y=\"mean_honesty_rating\")"
   ]
  },
  {
   "cell_type": "code",
   "execution_count": 293,
   "metadata": {},
   "outputs": [
    {
     "data": {
      "text/plain": [
       "<AxesSubplot:xlabel='high_alpha', ylabel='crt'>"
      ]
     },
     "execution_count": 293,
     "metadata": {},
     "output_type": "execute_result"
    },
    {
     "data": {
      "image/png": "[encoded data removed]",
      "text/plain": [
       "<Figure size 432x288 with 1 Axes>"
      ]
     },
     "metadata": {
      "needs_background": "light"
     },
     "output_type": "display_data"
    }
   ],
   "source": [
    "sns.barplot(data=agg_df, x=\"high_alpha\", y=\"crt\")"
   ]
  },
  {
   "cell_type": "code",
   "execution_count": 308,
   "metadata": {},
   "outputs": [
    {
     "data": {
      "text/plain": [
       "<AxesSubplot:ylabel='signed_ev_alpha'>"
      ]
     },
     "execution_count": 308,
     "metadata": {},
     "output_type": "execute_result"
    },
    {
     "data": {
      "image/png": "[encoded data removed]",
      "text/plain": [
       "<Figure size 432x288 with 1 Axes>"
      ]
     },
     "metadata": {
      "needs_background": "light"
     },
     "output_type": "display_data"
    }
   ],
   "source": [
    "sns.boxplot(data=agg_df, y=\"signed_ev_alpha\")"
   ]
  },
  {
   "cell_type": "code",
   "execution_count": 309,
   "metadata": {},
   "outputs": [
    {
     "data": {
      "text/plain": [
       "<AxesSubplot:ylabel='signed_ev_prior'>"
      ]
     },
     "execution_count": 309,
     "metadata": {},
     "output_type": "execute_result"
    },
    {
     "data": {
      "image/png": "[encoded data removed]",
      "text/plain": [
       "<Figure size 432x288 with 1 Axes>"
      ]
     },
     "metadata": {
      "needs_background": "light"
     },
     "output_type": "display_data"
    }
   ],
   "source": [
    "sns.boxplot(data=agg_df, y=\"signed_ev_prior\")"
   ]
  },
  {
   "cell_type": "code",
   "execution_count": 324,
   "metadata": {},
   "outputs": [],
   "source": [
    "dfs_long['outcome_same_as_pick'] = dfs_long['outcome'] == dfs_long['col_picked']"
   ]
  },
  {
   "cell_type": "code",
   "execution_count": 352,
   "metadata": {},
   "outputs": [],
   "source": [
    "dfs_long['subject_lied'] = dfs_long['col_reported'] != dfs_long['col_picked']"
   ]
  },
  {
   "cell_type": "code",
   "execution_count": 333,
   "metadata": {},
   "outputs": [],
   "source": [
    "dfs_long['t_cond'] = dfs_long['outcome'] * dfs_long['n_red']"
   ]
  },
  {
   "cell_type": "code",
   "execution_count": 348,
   "metadata": {},
   "outputs": [],
   "source": [
    "dfs_long['signed_n_consec_colour'] = dfs_long['outcome'] * dfs_long['n_consec_colour']"
   ]
  },
  {
   "cell_type": "code",
   "execution_count": 329,
   "metadata": {},
   "outputs": [
    {
     "data": {
      "image/png": "[encoded data removed]",
      "text/plain": [
       "<Figure size 432x288 with 1 Axes>"
      ]
     },
     "metadata": {
      "needs_background": "light"
     },
     "output_type": "display_data"
    }
   ],
   "source": [
    "p = sns.pointplot(data=dfs_long, x=\"outcome_same_as_pick\", y=\"suspicion_rating\", hue=\"PID\")\n",
    "p.set(xlabel=\"\", ylabel=\"suspicion\")\n",
    "p.set_xticklabels([\"not the same colour\", \"same colour\"])\n",
    "# p.set_title(\"Suspicion when other player's reported colour was the same as the subject's random card pick or not\")\n",
    "p.legend_.remove()"
   ]
  },
  {
   "cell_type": "code",
   "execution_count": 354,
   "metadata": {},
   "outputs": [
    {
     "data": {
      "image/png": "[encoded data removed]",
      "text/plain": [
       "<Figure size 432x288 with 1 Axes>"
      ]
     },
     "metadata": {
      "needs_background": "light"
     },
     "output_type": "display_data"
    }
   ],
   "source": [
    "p = sns.pointplot(data=dfs_long, x=\"subject_lied\", y=\"suspicion_rating\", hue=\"PID\")\n",
    "p.set(xlabel=\"\", ylabel=\"suspicion\")\n",
    "p.set_xticklabels([\"did not lie\", \"subject lied\"])\n",
    "p.set_title(\"Suspicion when subjects lied vs when they did not\")\n",
    "p.legend_.remove()"
   ]
  },
  {
   "cell_type": "code",
   "execution_count": 350,
   "metadata": {},
   "outputs": [
    {
     "data": {
      "image/png": "[encoded data removed]",
      "text/plain": [
       "<Figure size 432x288 with 1 Axes>"
      ]
     },
     "metadata": {
      "needs_background": "light"
     },
     "output_type": "display_data"
    }
   ],
   "source": [
    "p = sns.pointplot(x=\"signed_n_consec_colour\", y=\"suspicion_rating\", hue=\"PID\", data=dfs_long)\n",
    "p.set(xlabel=\"signed consecutive colours count\", ylabel=\"suspicion\")\n",
    "p.legend_.remove()"
   ]
  },
  {
   "cell_type": "code",
   "execution_count": 334,
   "metadata": {},
   "outputs": [
    {
     "data": {
      "image/png": "[encoded data removed]",
      "text/plain": [
       "<Figure size 432x288 with 1 Axes>"
      ]
     },
     "metadata": {
      "needs_background": "light"
     },
     "output_type": "display_data"
    }
   ],
   "source": [
    "p = sns.pointplot(data=dfs_long, x=\"t_cond\", y=\"suspicion_rating\", hue=\"PID\")\n",
    "p.set(xlabel=\"# red cards * other player's card colour\", ylabel=\"suspicion rating\")\n",
    "p.legend_.remove()"
   ]
  },
  {
   "cell_type": "code",
   "execution_count": 344,
   "metadata": {},
   "outputs": [
    {
     "data": {
      "image/png": "[encoded data removed]",
      "text/plain": [
       "<Figure size 432x288 with 1 Axes>"
      ]
     },
     "metadata": {
      "needs_background": "light"
     },
     "output_type": "display_data"
    }
   ],
   "source": [
    "p = sns.lineplot(data=dfs_long, x=\"suspicion_rating\", y=\"RT_rating\", hue=\"PID\")\n",
    "p.set(ylim=(0,15000))\n",
    "p.set_xlabel(\"suspicion\")\n",
    "p.set_ylabel(\"rating RT (ms)\")\n",
    "p.legend_.remove()"
   ]
  },
  {
   "cell_type": "code",
   "execution_count": 335,
   "metadata": {},
   "outputs": [
    {
     "name": "stderr",
     "output_type": "stream",
     "text": [
      "C:\\Users\\Sarah Zheng\\.conda\\envs\\sim-test\\lib\\site-packages\\seaborn\\categorical.py:3714: UserWarning: The `factorplot` function has been renamed to `catplot`. The original name will be removed in a future release. Please update your code. Note that the default `kind` in `factorplot` (`'point'`) has changed `'strip'` in `catplot`.\n",
      "  warnings.warn(msg)\n"
     ]
    },
    {
     "data": {
      "image/png": "[encoded data removed]",
      "text/plain": [
       "<Figure size 411.5x360 with 1 Axes>"
      ]
     },
     "metadata": {
      "needs_background": "light"
     },
     "output_type": "display_data"
    }
   ],
   "source": [
    "col_dict = {-1: \"r\", 1: \"b\"}\n",
    "\n",
    "p = sns.factorplot(x=\"win_lose_tie\", hue=\"outcome\", y=\"suspicion_rating\", data=dfs_long, kind=\"box\", palette=col_dict)\n",
    "\n",
    "p.set(xlabel=\"\", ylabel=\"suspicion rating\")\n",
    "\n",
    "p._legend.set_title(\"other player outcome\")\n",
    "\n",
    "new_labels = ['red', 'blue']\n",
    "for t, l in zip(p._legend.texts, new_labels):\n",
    "    t.set_text(l)"
   ]
  },
  {
   "cell_type": "code",
   "execution_count": 367,
   "metadata": {},
   "outputs": [
    {
     "data": {
      "text/plain": [
       "{'ss_total': 5.764000000000001,\n",
       " 'est_prior': 0.013715420887919213,\n",
       " 'est_alpha': 0.47060196814652366,\n",
       " 'mean_squared_error': 0.04643902948269936,\n",
       " 'R2': 0.2748937103672898,\n",
       " 'BIC': -267.265732520195,\n",
       " 'AIC': -272.26535186085556}"
      ]
     },
     "execution_count": 367,
     "metadata": {},
     "output_type": "execute_result"
    }
   ],
   "source": [
    "res_sig_ev['61533356ce435e5a4a4addd0']"
   ]
  },
  {
   "cell_type": "code",
   "execution_count": 366,
   "metadata": {},
   "outputs": [
    {
     "data": {
      "text/plain": [
       "{'ss_total': 6.178222222222223,\n",
       " 'est_prior': 0.007797932829104502,\n",
       " 'est_alpha': 0.6658791447701794,\n",
       " 'mean_squared_error': 0.03362429056198461,\n",
       " 'R2': 0.5101849623191221,\n",
       " 'BIC': -296.32596924233394,\n",
       " 'AIC': -301.32558858299444}"
      ]
     },
     "execution_count": 366,
     "metadata": {},
     "output_type": "execute_result"
    }
   ],
   "source": [
    "res_sig_ev['5af196e1e1b5b8000148ac76']"
   ]
  },
  {
   "cell_type": "code",
   "execution_count": 365,
   "metadata": {},
   "outputs": [
    {
     "data": {
      "text/plain": [
       "{'ss_total': 9.822222222222223,\n",
       " 'est_prior': 0.0,\n",
       " 'est_alpha': 0.6776047863581292,\n",
       " 'mean_squared_error': 0.05848152437812168,\n",
       " 'R2': 0.4641398784357629,\n",
       " 'BIC': -246.5143764094091,\n",
       " 'AIC': -251.51399575006963}"
      ]
     },
     "execution_count": 365,
     "metadata": {},
     "output_type": "execute_result"
    }
   ],
   "source": [
    "res_sig_ev['615f1500b60d25e2660e8644']"
   ]
  },
  {
   "cell_type": "code",
   "execution_count": 368,
   "metadata": {},
   "outputs": [
    {
     "data": {
      "text/plain": [
       "{'ss_total': 1.464888888888889,\n",
       " 'est_prior': 0.14504681637155084,\n",
       " 'est_alpha': 0.1570892280531529,\n",
       " 'mean_squared_error': 0.014513438809095265,\n",
       " 'R2': 0.10832179646790319,\n",
       " 'BIC': -371.9416026519682,\n",
       " 'AIC': -376.9412219926287}"
      ]
     },
     "execution_count": 368,
     "metadata": {},
     "output_type": "execute_result"
    }
   ],
   "source": [
    "res_sig_ev['57313ba2070de6000f43384e']"
   ]
  },
  {
   "cell_type": "code",
   "execution_count": 369,
   "metadata": {},
   "outputs": [],
   "source": [
    "with open(\"./data/fr/fr_batch1_howmany.json\", \"r\", encoding=\"utf-8\") as f:\n",
    "    howmany = json.load(f)"
   ]
  },
  {
   "cell_type": "code",
   "execution_count": 370,
   "metadata": {},
   "outputs": [
    {
     "data": {
      "text/plain": [
       "(0.46670445161560503, 0.05087948023768001)"
      ]
     },
     "execution_count": 370,
     "metadata": {},
     "output_type": "execute_result"
    }
   ],
   "source": [
    "pearsonr([res_sig_ev[uuid]['est_alpha'] for uuid in howmany.keys()], [howmany[uuid] for uuid in howmany.keys()])"
   ]
  },
  {
   "cell_type": "code",
   "execution_count": 373,
   "metadata": {},
   "outputs": [
    {
     "data": {
      "text/plain": [
       "Text(0.5, 0, 'EV sensitivity (alpha)')"
      ]
     },
     "execution_count": 373,
     "metadata": {},
     "output_type": "execute_result"
    },
    {
     "data": {
      "image/png": "[encoded data removed]",
      "text/plain": [
       "<Figure size 432x288 with 1 Axes>"
      ]
     },
     "metadata": {
      "needs_background": "light"
     },
     "output_type": "display_data"
    }
   ],
   "source": [
    "p = sns.regplot(x=[res_sig_ev[uuid]['est_alpha'] for uuid in howmany.keys()], y=[howmany[uuid] for uuid in howmany.keys()])\n",
    "p.set_ylabel(\"# other players indicated by subject\")\n",
    "p.set_xlabel(\"EV sensitivity (alpha)\")"
   ]
  },
  {
   "cell_type": "code",
   "execution_count": 374,
   "metadata": {},
   "outputs": [
    {
     "data": {
      "text/plain": [
       "dict_keys(['56210effed6e5a000ac7f3a5', '57313ba2070de6000f43384e', '5af196e1e1b5b8000148ac76', '5cd5fe480f0de600018e7251', '5fec7577ad8fbadf15cd5607', '60f44f7a57468d4e9f87fa5b', '61085b8ec672d0e88151d5ae', '6110e7ae08023ecb9207b05e', '6147d726fa94eb7d5c2de156', '614f23537aab4e64abfd53ae', '6152218517a89c5b41e18a06', '61533356ce435e5a4a4addd0', '6154284fc5154abb9a264b0c', '6156ee007bdef87eb5b4aeb0', '615d9f86fdd5e127d783e850', '615ec4f34cb81d7e58fa144c', '615f0726cbd12330a2d82556', '615f1500b60d25e2660e8644', '6160011304f5319ece189bfa', '6160403f5164508979e6358d'])"
      ]
     },
     "execution_count": 374,
     "metadata": {},
     "output_type": "execute_result"
    }
   ],
   "source": [
    "for i in enumerate(uuids.keys()):\n",
    "    if (i ==)"
   ]
  },
  {
   "cell_type": "code",
   "execution_count": 360,
   "metadata": {},
   "outputs": [],
   "source": [
    "# dfs_long.reset_index().to_feather(\"./data/fr/all_data_long.feather\")"
   ]
  },
  {
   "cell_type": "markdown",
   "metadata": {},
   "source": [
    "## Check responses"
   ]
  },
  {
   "cell_type": "code",
   "execution_count": null,
   "metadata": {},
   "outputs": [],
   "source": [
    "tmp = [ratings['611be41c1e9cca41ae48582a'][key] for key in ratings['611be41c1e9cca41ae48582a'].keys()]"
   ]
  },
  {
   "cell_type": "code",
   "execution_count": null,
   "metadata": {},
   "outputs": [],
   "source": [
    "trials = process_trials(pd.concat([bs11, as31, bs02]).reset_index(), 7)"
   ]
  },
  {
   "cell_type": "code",
   "execution_count": null,
   "metadata": {},
   "outputs": [],
   "source": [
    "# sns.lineplot(data=[t*0.66+0.16 for t in trials.normed_cs_signed_e_v])\n",
    "sns.lineplot(data=tmp)\n",
    "sns.lineplot(data=trials.normed_unsigned_colour_count)"
   ]
  },
  {
   "cell_type": "code",
   "execution_count": null,
   "metadata": {},
   "outputs": [],
   "source": [
    "del trials['level_0']\n",
    "del trials['index']"
   ]
  },
  {
   "cell_type": "code",
   "execution_count": null,
   "metadata": {},
   "outputs": [],
   "source": [
    "trials['trial'] = trials.index + 1"
   ]
  },
  {
   "cell_type": "code",
   "execution_count": null,
   "metadata": {},
   "outputs": [],
   "source": [
    "trials['normed_suspicion_ratings'] = tmp"
   ]
  },
  {
   "cell_type": "code",
   "execution_count": null,
   "metadata": {},
   "outputs": [],
   "source": [
    "df_subject = trials"
   ]
  },
  {
   "cell_type": "code",
   "execution_count": null,
   "metadata": {},
   "outputs": [],
   "source": [
    "from matplotlib import ticker\n",
    "\n",
    "sns.set(rc={'figure.figsize':(16,7)})\n",
    "p = sns.lineplot(data=df_subject, x='trial', y='normed_suspicion_ratings')\n",
    "p.set(ylim=(-0.25,1.2), xlim=(0, 91))\n",
    "p.set_ylabel('actual normalized reversed honesty ratings')\n",
    "p.set_title('Cards game progression')\n",
    "\n",
    "markers2 = {\"loss\": \"X\", \"win\": \"o\", \"tie\": \"D\"}\n",
    "colors = {-1: 'red', 1: 'blue'}\n",
    "\n",
    "p2 = sns.lineplot(data=df_subject, x='trial', y='normed_unsigned_e_v')\n",
    "# s = sns.scatterplot(data=df_subject, x='trial',y='subject_pick', c=[colors[x] for x in df_subject.random_pick_colour])\n",
    "# s1 = sns.scatterplot(data=df_subject, x='trial',y='plot_subject_report', c=[colors[x] for x in df_subject.reported_pick_colour])\n",
    "s2 = sns.scatterplot(data=df_subject, x='trial',y=1, c=[colors[x] for x in df_subject.outcome])\n",
    "\n",
    "# s3 = sns.scatterplot(data=df_subject, x='trial',y='trial_result', markers=markers2, style=df_subject.trial_result)\n",
    "s2.xaxis.set_major_locator(ticker.MultipleLocator(5))\n",
    "# s4 = sns.scatterplot(data=df_subject, x='trial', y=[-0.2 if x else None for x in df_subject.lied])"
   ]
  },
  {
   "cell_type": "code",
   "execution_count": null,
   "metadata": {},
   "outputs": [],
   "source": [
    "# df_subject['fit_suspicion'] = [t * 0.58 + 0.19 for t in df_subject.normed_cs_unsigned_e_v ]"
   ]
  },
  {
   "cell_type": "code",
   "execution_count": null,
   "metadata": {},
   "outputs": [],
   "source": [
    "max(df_subject['normed_suspicion_ratings'] - df_subject['fit_suspicion'])"
   ]
  },
  {
   "cell_type": "code",
   "execution_count": null,
   "metadata": {},
   "outputs": [],
   "source": [
    "max(trials.n_consec_colour)"
   ]
  },
  {
   "cell_type": "code",
   "execution_count": null,
   "metadata": {},
   "outputs": [],
   "source": [
    "max(process_trials(as31, 7).n_consec_colour)"
   ]
  },
  {
   "cell_type": "code",
   "execution_count": null,
   "metadata": {},
   "outputs": [],
   "source": [
    "min(process_trials(as31, 7).signed_n_consec_colour)"
   ]
  },
  {
   "cell_type": "code",
   "execution_count": null,
   "metadata": {},
   "outputs": [],
   "source": [
    "max(process_trials(bs02, 7).n_consec_colour)"
   ]
  },
  {
   "cell_type": "code",
   "execution_count": null,
   "metadata": {},
   "outputs": [],
   "source": [
    "min(process_trials(bs02, 7).signed_n_consec_colour)"
   ]
  },
  {
   "cell_type": "code",
   "execution_count": null,
   "metadata": {},
   "outputs": [],
   "source": [
    "max(process_trials(bs11,7).n_consec_colour)"
   ]
  },
  {
   "cell_type": "code",
   "execution_count": null,
   "metadata": {},
   "outputs": [],
   "source": [
    "min(process_trials(bs11, 7).signed_n_consec_colour)"
   ]
  },
  {
   "cell_type": "code",
   "execution_count": null,
   "metadata": {},
   "outputs": [],
   "source": [
    "# sort by expectation violation level and plot honesty ratings"
   ]
  },
  {
   "cell_type": "code",
   "execution_count": null,
   "metadata": {},
   "outputs": [],
   "source": [
    "sorted_trials = trials.sort_values('e_v')"
   ]
  },
  {
   "cell_type": "code",
   "execution_count": null,
   "metadata": {},
   "outputs": [],
   "source": [
    "from scipy.stats import spearmanr\n",
    "\n",
    "spearmanr(sorted_trials.normed_suspicion_ratings, sorted_trials.e_v)"
   ]
  },
  {
   "cell_type": "code",
   "execution_count": null,
   "metadata": {},
   "outputs": [],
   "source": [
    "list(zip(sorted_trials.normed_suspicion_ratings, sorted_trials.e_v))"
   ]
  },
  {
   "cell_type": "code",
   "execution_count": null,
   "metadata": {},
   "outputs": [],
   "source": []
  },
  {
   "cell_type": "code",
   "execution_count": null,
   "metadata": {},
   "outputs": [],
   "source": [
    "from collections import Counter\n",
    "from statistics import variance"
   ]
  },
  {
   "cell_type": "code",
   "execution_count": null,
   "metadata": {},
   "outputs": [],
   "source": [
    "for uid in uuids:\n",
    "    r = ratings[uid]\n",
    "    r = [r[v] for v in r.keys()]\n",
    "    print(variance(r))"
   ]
  },
  {
   "cell_type": "code",
   "execution_count": null,
   "metadata": {},
   "outputs": [],
   "source": [
    "ratings"
   ]
  }
 ],
 "metadata": {
  "kernelspec": {
   "display_name": "Python 3",
   "language": "python",
   "name": "python3"
  },
  "language_info": {
   "codemirror_mode": {
    "name": "ipython",
    "version": 3
   },
   "file_extension": ".py",
   "mimetype": "text/x-python",
   "name": "python",
   "nbconvert_exporter": "python",
   "pygments_lexer": "ipython3",
   "version": "3.8.5"
  }
 },
 "nbformat": 4,
 "nbformat_minor": 4
}
