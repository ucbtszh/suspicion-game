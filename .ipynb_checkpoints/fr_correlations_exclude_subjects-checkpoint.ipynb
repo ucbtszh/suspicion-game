{
 "cells": [
  {
   "cell_type": "code",
   "execution_count": 2,
   "metadata": {},
   "outputs": [],
   "source": [
    "from scipy.stats import pearsonr, spearmanr\n",
    "\n",
    "import json\n",
    "import pandas as pd\n",
    "import seaborn as sns"
   ]
  },
  {
   "cell_type": "code",
   "execution_count": 77,
   "metadata": {},
   "outputs": [],
   "source": [
    "exclude_game = [\"60f44f7a57468d4e9f87fa5b\", \n",
    "                \"6154284fc5154abb9a264b0c\", \n",
    "#                 \"6160403f5164508979e6358d\", \n",
    "                \"615d9f86fdd5e127d783e850\"]\n",
    "\n",
    "exclude_traits = [\"60f44f7a57468d4e9f87fa5b\"]"
   ]
  },
  {
   "cell_type": "code",
   "execution_count": 16,
   "metadata": {},
   "outputs": [],
   "source": [
    "with open(\"./data/fr/fr_batch1_lie_detection_accuracy.json\", \"r\", encoding=\"utf-8\") as f:\n",
    "    lie_detection = json.load(f)"
   ]
  },
  {
   "cell_type": "code",
   "execution_count": 58,
   "metadata": {},
   "outputs": [],
   "source": [
    "lie_detection_acc = []\n",
    "\n",
    "for uuid in df_traits['PID']:\n",
    "    lie_detection_acc.append(lie_detection[uuid]['accuracy'])"
   ]
  },
  {
   "cell_type": "code",
   "execution_count": 83,
   "metadata": {},
   "outputs": [],
   "source": [
    "lie_detection_acc = []\n",
    "\n",
    "for uuid in df_game['PID']:\n",
    "    lie_detection_acc.append(lie_detection[uuid]['accuracy'])"
   ]
  },
  {
   "cell_type": "code",
   "execution_count": 60,
   "metadata": {},
   "outputs": [
    {
     "name": "stderr",
     "output_type": "stream",
     "text": [
      "<ipython-input-60-534374616b80>:1: SettingWithCopyWarning: \n",
      "A value is trying to be set on a copy of a slice from a DataFrame.\n",
      "Try using .loc[row_indexer,col_indexer] = value instead\n",
      "\n",
      "See the caveats in the documentation: https://pandas.pydata.org/pandas-docs/stable/user_guide/indexing.html#returning-a-view-versus-a-copy\n",
      "  df_traits['lie_detection_accuracy'] = lie_detection_acc\n"
     ]
    }
   ],
   "source": [
    "df_traits['lie_detection_accuracy'] = lie_detection_acc"
   ]
  },
  {
   "cell_type": "code",
   "execution_count": 84,
   "metadata": {},
   "outputs": [
    {
     "name": "stderr",
     "output_type": "stream",
     "text": [
      "<ipython-input-84-870016a1ec49>:1: SettingWithCopyWarning: \n",
      "A value is trying to be set on a copy of a slice from a DataFrame.\n",
      "Try using .loc[row_indexer,col_indexer] = value instead\n",
      "\n",
      "See the caveats in the documentation: https://pandas.pydata.org/pandas-docs/stable/user_guide/indexing.html#returning-a-view-versus-a-copy\n",
      "  df_game['lie_detection_accuracy'] = lie_detection_acc\n"
     ]
    }
   ],
   "source": [
    "df_game['lie_detection_accuracy'] = lie_detection_acc"
   ]
  },
  {
   "cell_type": "code",
   "execution_count": 19,
   "metadata": {},
   "outputs": [],
   "source": [
    "df = pd.read_feather(\"./data/fr/aggregate_scores.feather\")"
   ]
  },
  {
   "cell_type": "code",
   "execution_count": 24,
   "metadata": {},
   "outputs": [],
   "source": [
    "df_traits = df[~df['PID'].isin(exclude_traits)]"
   ]
  },
  {
   "cell_type": "code",
   "execution_count": 78,
   "metadata": {},
   "outputs": [],
   "source": [
    "df_game = df[~df['PID'].isin(exclude_game)]"
   ]
  },
  {
   "cell_type": "code",
   "execution_count": 88,
   "metadata": {
    "scrolled": true
   },
   "outputs": [
    {
     "data": {
      "text/plain": [
       "(-0.4977733472508802, 0.04202210603053113)"
      ]
     },
     "execution_count": 88,
     "metadata": {},
     "output_type": "execute_result"
    }
   ],
   "source": [
    "pearsonr(df_game['lie_prop'].values, df_game['lie_detection_accuracy'].values)"
   ]
  },
  {
   "cell_type": "code",
   "execution_count": 119,
   "metadata": {},
   "outputs": [
    {
     "data": {
      "text/plain": [
       "(0.002752075848079384, 0.99107858622362)"
      ]
     },
     "execution_count": 119,
     "metadata": {},
     "output_type": "execute_result"
    }
   ],
   "source": [
    "pearsonr(df_traits['crt'].values, df_traits['lie_detection_accuracy'].values)"
   ]
  },
  {
   "cell_type": "code",
   "execution_count": 72,
   "metadata": {},
   "outputs": [
    {
     "data": {
      "text/plain": [
       "(0.05569143905803683, 0.8208528864531871)"
      ]
     },
     "execution_count": 72,
     "metadata": {},
     "output_type": "execute_result"
    }
   ],
   "source": [
    "pearsonr(df_traits['eq'].values, df_traits['lie_detection_accuracy'].values)"
   ]
  },
  {
   "cell_type": "code",
   "execution_count": 75,
   "metadata": {},
   "outputs": [
    {
     "data": {
      "text/plain": [
       "<AxesSubplot:xlabel='lie_prop', ylabel='mean_honesty_rating'>"
      ]
     },
     "execution_count": 75,
     "metadata": {},
     "output_type": "execute_result"
    },
    {
     "data": {
      "image/png": "[encoded data removed]",
      "text/plain": [
       "<Figure size 432x288 with 1 Axes>"
      ]
     },
     "metadata": {
      "needs_background": "light"
     },
     "output_type": "display_data"
    }
   ],
   "source": [
    "sns.regplot(x=df_game['lie_prop'], y=df_game['mean_honesty_rating'])"
   ]
  },
  {
   "cell_type": "code",
   "execution_count": 120,
   "metadata": {},
   "outputs": [],
   "source": [
    "dfs = pd.read_feather(\"./data/fr/all_data_long.feather\")"
   ]
  },
  {
   "cell_type": "code",
   "execution_count": 123,
   "metadata": {},
   "outputs": [],
   "source": [
    "uuids = set(dfs['PID'])"
   ]
  },
  {
   "cell_type": "code",
   "execution_count": 128,
   "metadata": {},
   "outputs": [],
   "source": [
    "lie_prop_per_trial_setup = {}\n",
    "\n",
    "for uuid in uuids:\n",
    "    df = dfs[dfs['PID']==uuid]\n",
    "    \n",
    "    nred_lie_prop = {}\n",
    "    for n in range(1,7):\n",
    "#         print(n)\n",
    "        tmp = df[df['n_red']==n]\n",
    "        nred_lie_prop[n] = len(tmp[(tmp['col_reported']==1) & (tmp['col_picked']==-1)])/len(tmp)\n",
    "    \n",
    "    lie_prop_per_trial_setup[uuid] = nred_lie_prop"
   ]
  },
  {
   "cell_type": "code",
   "execution_count": 130,
   "metadata": {},
   "outputs": [
    {
     "name": "stdout",
     "output_type": "stream",
     "text": [
      "0.25\n",
      "0.0\n",
      "0.0\n",
      "0.1111111111111111\n",
      "0.07692307692307693\n",
      "0.0\n",
      "0.0\n",
      "0.14285714285714285\n",
      "0.2857142857142857\n",
      "0.09090909090909091\n",
      "0.0\n",
      "0.125\n",
      "0.14285714285714285\n",
      "0.0\n",
      "0.0\n",
      "0.0\n",
      "0.0\n",
      "0.0\n",
      "0.16666666666666666\n",
      "0.0\n"
     ]
    }
   ],
   "source": [
    "for uuid in uuids:\n",
    "    print(lie_prop_per_trial_setup[uuid][1])"
   ]
  },
  {
   "cell_type": "code",
   "execution_count": 132,
   "metadata": {},
   "outputs": [
    {
     "data": {
      "text/plain": [
       "{'5cd5fe480f0de600018e7251': {1: 0.25,\n",
       "  2: 0.3157894736842105,\n",
       "  3: 0.3,\n",
       "  4: 0.5,\n",
       "  5: 0.5,\n",
       "  6: 0.42857142857142855},\n",
       " '614f23537aab4e64abfd53ae': {1: 0.0,\n",
       "  2: 0.0,\n",
       "  3: 0.0,\n",
       "  4: 0.0,\n",
       "  5: 0.0,\n",
       "  6: 0.037037037037037035},\n",
       " '615f1500b60d25e2660e8644': {1: 0.0,\n",
       "  2: 0.1111111111111111,\n",
       "  3: 0.0,\n",
       "  4: 0.125,\n",
       "  5: 0.2631578947368421,\n",
       "  6: 0.5833333333333334},\n",
       " '6147d726fa94eb7d5c2de156': {1: 0.1111111111111111,\n",
       "  2: 0.29411764705882354,\n",
       "  3: 0.0,\n",
       "  4: 0.5555555555555556,\n",
       "  5: 0.2777777777777778,\n",
       "  6: 0.21875},\n",
       " '61533356ce435e5a4a4addd0': {1: 0.07692307692307693,\n",
       "  2: 0.3,\n",
       "  3: 0.2857142857142857,\n",
       "  4: 0.3333333333333333,\n",
       "  5: 0.7142857142857143,\n",
       "  6: 0.7777777777777778},\n",
       " '615ec4f34cb81d7e58fa144c': {1: 0.0, 2: 0.0, 3: 0.0, 4: 0.0, 5: 0.0, 6: 0.0},\n",
       " '6110e7ae08023ecb9207b05e': {1: 0.0,\n",
       "  2: 0.0,\n",
       "  3: 0.16666666666666666,\n",
       "  4: 0.0,\n",
       "  5: 0.0,\n",
       "  6: 0.034482758620689655},\n",
       " '5af196e1e1b5b8000148ac76': {1: 0.14285714285714285,\n",
       "  2: 0.0,\n",
       "  3: 0.375,\n",
       "  4: 0.36363636363636365,\n",
       "  5: 0.35294117647058826,\n",
       "  6: 0.17857142857142858},\n",
       " '6156ee007bdef87eb5b4aeb0': {1: 0.2857142857142857,\n",
       "  2: 0.45454545454545453,\n",
       "  3: 0.2727272727272727,\n",
       "  4: 0.7333333333333333,\n",
       "  5: 0.6111111111111112,\n",
       "  6: 0.8928571428571429},\n",
       " '615f0726cbd12330a2d82556': {1: 0.09090909090909091,\n",
       "  2: 0.1111111111111111,\n",
       "  3: 0.3333333333333333,\n",
       "  4: 0.2,\n",
       "  5: 0.14285714285714285,\n",
       "  6: 0.11764705882352941},\n",
       " '57313ba2070de6000f43384e': {1: 0.0,\n",
       "  2: 0.07142857142857142,\n",
       "  3: 0.09090909090909091,\n",
       "  4: 0.14285714285714285,\n",
       "  5: 0.4090909090909091,\n",
       "  6: 0.2777777777777778},\n",
       " '61085b8ec672d0e88151d5ae': {1: 0.125,\n",
       "  2: 0.17647058823529413,\n",
       "  3: 0.5384615384615384,\n",
       "  4: 0.1111111111111111,\n",
       "  5: 0.1111111111111111,\n",
       "  6: 0.23529411764705882},\n",
       " '56210effed6e5a000ac7f3a5': {1: 0.14285714285714285,\n",
       "  2: 0.5,\n",
       "  3: 0.5625,\n",
       "  4: 0.5,\n",
       "  5: 0.6666666666666666,\n",
       "  6: 0.9615384615384616},\n",
       " '60f44f7a57468d4e9f87fa5b': {1: 0.0,\n",
       "  2: 0.35294117647058826,\n",
       "  3: 0.8333333333333334,\n",
       "  4: 0.6153846153846154,\n",
       "  5: 0.6666666666666666,\n",
       "  6: 0.8461538461538461},\n",
       " '6160011304f5319ece189bfa': {1: 0.0,\n",
       "  2: 0.0,\n",
       "  3: 0.0,\n",
       "  4: 0.0,\n",
       "  5: 0.07142857142857142,\n",
       "  6: 0.0},\n",
       " '6160403f5164508979e6358d': {1: 0.0,\n",
       "  2: 0.0,\n",
       "  3: 0.14285714285714285,\n",
       "  4: 0.0,\n",
       "  5: 0.0,\n",
       "  6: 0.0},\n",
       " '6152218517a89c5b41e18a06': {1: 0.0,\n",
       "  2: 0.058823529411764705,\n",
       "  3: 0.0,\n",
       "  4: 0.14285714285714285,\n",
       "  5: 0.05263157894736842,\n",
       "  6: 0.2608695652173913},\n",
       " '6154284fc5154abb9a264b0c': {1: 0.0,\n",
       "  2: 0.08333333333333333,\n",
       "  3: 0.0,\n",
       "  4: 0.15384615384615385,\n",
       "  5: 0.07142857142857142,\n",
       "  6: 0.058823529411764705},\n",
       " '5fec7577ad8fbadf15cd5607': {1: 0.16666666666666666,\n",
       "  2: 0.2,\n",
       "  3: 0.2857142857142857,\n",
       "  4: 0.2727272727272727,\n",
       "  5: 0.21739130434782608,\n",
       "  6: 0.2727272727272727},\n",
       " '615d9f86fdd5e127d783e850': {1: 0.0,\n",
       "  2: 0.1111111111111111,\n",
       "  3: 0.0,\n",
       "  4: 0.18181818181818182,\n",
       "  5: 0.1875,\n",
       "  6: 0.14814814814814814}}"
      ]
     },
     "execution_count": 132,
     "metadata": {},
     "output_type": "execute_result"
    }
   ],
   "source": [
    "lie_prop_per_trial_setup"
   ]
  },
  {
   "cell_type": "code",
   "execution_count": null,
   "metadata": {},
   "outputs": [],
   "source": []
  }
 ],
 "metadata": {
  "kernelspec": {
   "display_name": "Python 3",
   "language": "python",
   "name": "python3"
  },
  "language_info": {
   "codemirror_mode": {
    "name": "ipython",
    "version": 3
   },
   "file_extension": ".py",
   "mimetype": "text/x-python",
   "name": "python",
   "nbconvert_exporter": "python",
   "pygments_lexer": "ipython3",
   "version": "3.8.5"
  }
 },
 "nbformat": 4,
 "nbformat_minor": 4
}
