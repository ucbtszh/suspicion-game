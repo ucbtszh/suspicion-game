{
 "cells": [
  {
   "cell_type": "markdown",
   "metadata": {},
   "source": [
    "### check which model fit best for each subject"
   ]
  },
  {
   "cell_type": "code",
   "execution_count": 5,
   "metadata": {},
   "outputs": [
    {
     "name": "stdout",
     "output_type": "stream",
     "text": [
      "['./data/fr/fr100_fit_combi_signed_ev_col_congr.json', './data/fr/fr100_fit_combi_signed_ev_subj_lied.json', './data/fr/fr100_fit_signed_ev_colcongr_subjlied.json', './data/fr/fr100_fit_sig_col_count.json', './data/fr/fr100_fit_sig_ev_noup.json', './data/fr/fr100_fit_sig_ev_up.json', './data/fr/fr100_fit_unsig_col_count.json', './data/fr/fr100_fit_unsig_ev_noup.json', './data/fr/fr100_fit_unsig_ev_up.json', './data/fr/fr100_fit_weighted_sigev_sigcolourt.json']\n"
     ]
    }
   ],
   "source": [
    "import os\n",
    "\n",
    "files = os.listdir('./data/fr/')\n",
    "\n",
    "# print(files)\n",
    "\n",
    "foi = []\n",
    "for file in files:\n",
    "    if file.endswith(\".json\") & file.startswith(\"fr100_fit\"):\n",
    "        foi.append(os.path.join(\"./data/fr/\", file))\n",
    "    else:\n",
    "        continue\n",
    "\n",
    "print(foi)"
   ]
  },
  {
   "cell_type": "code",
   "execution_count": 7,
   "metadata": {},
   "outputs": [
    {
     "data": {
      "text/plain": [
       "10"
      ]
     },
     "execution_count": 7,
     "metadata": {},
     "output_type": "execute_result"
    }
   ],
   "source": [
    "len(foi)"
   ]
  },
  {
   "cell_type": "code",
   "execution_count": 1,
   "metadata": {},
   "outputs": [],
   "source": [
    "import pandas as pd\n",
    "import regex as re"
   ]
  },
  {
   "cell_type": "code",
   "execution_count": 88,
   "metadata": {},
   "outputs": [],
   "source": [
    "# get all DF filenames from data/fr folder\n",
    "\n",
    "def data_to_df(files: list):\n",
    "    ''' provide list of json data file pathnames '''\n",
    "    dfs = {}  # features of interest\n",
    "    for path in files:\n",
    "        try:\n",
    "            print(path)\n",
    "            df = pd.read_json(path)\n",
    "            model = re.findall(r'(?<=fr100_fit_).*(?=\\.json)', path)[0]\n",
    "            dfs[model] = df.transpose()['BIC']\n",
    "        except PermissionError:\n",
    "            continue\n",
    "    return dfs"
   ]
  },
  {
   "cell_type": "code",
   "execution_count": 89,
   "metadata": {},
   "outputs": [
    {
     "name": "stdout",
     "output_type": "stream",
     "text": [
      "./data/fr/fr100_fit_combi_signed_ev_col_congr.json\n",
      "./data/fr/fr100_fit_combi_signed_ev_subj_lied.json\n",
      "./data/fr/fr100_fit_signed_ev_colcongr_subjlied.json\n",
      "./data/fr/fr100_fit_sig_col_count.json\n",
      "./data/fr/fr100_fit_sig_ev_noup.json\n",
      "./data/fr/fr100_fit_sig_ev_up.json\n",
      "./data/fr/fr100_fit_unsig_col_count.json\n",
      "./data/fr/fr100_fit_unsig_ev_noup.json\n",
      "./data/fr/fr100_fit_unsig_ev_up.json\n",
      "./data/fr/fr100_fit_weighted_sigev_sigcolourt.json\n"
     ]
    }
   ],
   "source": [
    "dfs = data_to_df(foi)"
   ]
  },
  {
   "cell_type": "code",
   "execution_count": 90,
   "metadata": {},
   "outputs": [
    {
     "data": {
      "text/plain": [
       "10"
      ]
     },
     "execution_count": 90,
     "metadata": {},
     "output_type": "execute_result"
    }
   ],
   "source": [
    "len(dfs)"
   ]
  },
  {
   "cell_type": "code",
   "execution_count": 97,
   "metadata": {},
   "outputs": [],
   "source": [
    "uuids = dfs['combi_signed_ev_col_congr'].index"
   ]
  },
  {
   "cell_type": "code",
   "execution_count": 100,
   "metadata": {},
   "outputs": [
    {
     "data": {
      "text/plain": [
       "{'combi_signed_ev_col_congr': 56210effed6e5a000ac7f3a5   -316.481035\n",
       " 57313ba2070de6000f43384e   -369.723659\n",
       " 5af196e1e1b5b8000148ac76   -292.532291\n",
       " 5cd5fe480f0de600018e7251   -415.486621\n",
       " 5fec7577ad8fbadf15cd5607   -261.693394\n",
       "                                ...    \n",
       " 61661cac7d3cc02b3fc1b52b   -602.483179\n",
       " 61671a9d42eb53946faa44c2   -705.269624\n",
       " 616ec0185d61b5fa0b62b42a   -642.127387\n",
       " 616f35805cb9047a629edb71   -468.139772\n",
       " 61702b890e755075af3a5423   -886.467004\n",
       " Name: BIC, Length: 100, dtype: float64,\n",
       " 'combi_signed_ev_subj_lied': 56210effed6e5a000ac7f3a5   -318.117987\n",
       " 57313ba2070de6000f43384e   -367.509404\n",
       " 5af196e1e1b5b8000148ac76   -294.140974\n",
       " 5cd5fe480f0de600018e7251   -414.664458\n",
       " 5fec7577ad8fbadf15cd5607   -259.335202\n",
       "                                ...    \n",
       " 61661cac7d3cc02b3fc1b52b   -599.474451\n",
       " 61671a9d42eb53946faa44c2   -630.555258\n",
       " 616ec0185d61b5fa0b62b42a   -639.793617\n",
       " 616f35805cb9047a629edb71   -480.419118\n",
       " 61702b890e755075af3a5423   -885.006242\n",
       " Name: BIC, Length: 100, dtype: float64,\n",
       " 'signed_ev_colcongr_subjlied': 56210effed6e5a000ac7f3a5   -313.405255\n",
       " 57313ba2070de6000f43384e   -365.233336\n",
       " 5af196e1e1b5b8000148ac76   -289.948509\n",
       " 5cd5fe480f0de600018e7251   -411.877238\n",
       " 5fec7577ad8fbadf15cd5607   -257.712133\n",
       "                                ...    \n",
       " 61661cac7d3cc02b3fc1b52b   -622.929812\n",
       " 61671a9d42eb53946faa44c2   -716.562272\n",
       " 616ec0185d61b5fa0b62b42a   -636.935110\n",
       " 616f35805cb9047a629edb71   -477.636231\n",
       " 61702b890e755075af3a5423   -881.362963\n",
       " Name: BIC, Length: 100, dtype: float64,\n",
       " 'sig_col_count': 56210effed6e5a000ac7f3a5   -299.912062\n",
       " 57313ba2070de6000f43384e   -361.624131\n",
       " 5af196e1e1b5b8000148ac76   -238.407985\n",
       " 5cd5fe480f0de600018e7251   -389.582794\n",
       " 5fec7577ad8fbadf15cd5607   -260.759390\n",
       "                                ...    \n",
       " 61661cac7d3cc02b3fc1b52b   -263.981829\n",
       " 61671a9d42eb53946faa44c2   -301.959359\n",
       " 616ec0185d61b5fa0b62b42a   -281.176570\n",
       " 616f35805cb9047a629edb71   -205.251165\n",
       " 61702b890e755075af3a5423   -441.028504\n",
       " Name: BIC, Length: 101, dtype: float64,\n",
       " 'sig_ev_noup': 56210effed6e5a000ac7f3a5   -320.586311\n",
       " 57313ba2070de6000f43384e   -371.941603\n",
       " 5af196e1e1b5b8000148ac76   -296.325969\n",
       " 5cd5fe480f0de600018e7251   -418.729191\n",
       " 5fec7577ad8fbadf15cd5607   -262.767475\n",
       "                                ...    \n",
       " 61661cac7d3cc02b3fc1b52b   -284.669465\n",
       " 61671a9d42eb53946faa44c2   -311.778050\n",
       " 616ec0185d61b5fa0b62b42a   -318.686596\n",
       " 616f35805cb9047a629edb71   -231.723322\n",
       " 61702b890e755075af3a5423   -441.027252\n",
       " Name: BIC, Length: 101, dtype: float64,\n",
       " 'sig_ev_up': 56210effed6e5a000ac7f3a5   -269.150656\n",
       " 57313ba2070de6000f43384e   -364.594833\n",
       " 5af196e1e1b5b8000148ac76   -232.669762\n",
       " 5cd5fe480f0de600018e7251   -350.839248\n",
       " 5fec7577ad8fbadf15cd5607   -243.415390\n",
       "                                ...    \n",
       " 61661cac7d3cc02b3fc1b52b   -226.718481\n",
       " 61671a9d42eb53946faa44c2   -296.966956\n",
       " 616ec0185d61b5fa0b62b42a   -238.093835\n",
       " 616f35805cb9047a629edb71   -195.893131\n",
       " 61702b890e755075af3a5423   -464.155973\n",
       " Name: BIC, Length: 101, dtype: float64,\n",
       " 'unsig_col_count': 56210effed6e5a000ac7f3a5   -277.697449\n",
       " 57313ba2070de6000f43384e   -361.622973\n",
       " 5af196e1e1b5b8000148ac76   -234.834972\n",
       " 5cd5fe480f0de600018e7251   -351.736955\n",
       " 5fec7577ad8fbadf15cd5607   -245.342029\n",
       "                                ...    \n",
       " 61661cac7d3cc02b3fc1b52b   -238.399694\n",
       " 61671a9d42eb53946faa44c2   -295.297288\n",
       " 616ec0185d61b5fa0b62b42a   -247.494885\n",
       " 616f35805cb9047a629edb71   -195.411187\n",
       " 61702b890e755075af3a5423   -441.029026\n",
       " Name: BIC, Length: 101, dtype: float64,\n",
       " 'unsig_ev_noup': 56210effed6e5a000ac7f3a5   -274.807113\n",
       " 57313ba2070de6000f43384e   -372.428403\n",
       " 5af196e1e1b5b8000148ac76   -332.738771\n",
       " 5cd5fe480f0de600018e7251   -389.553403\n",
       " 5fec7577ad8fbadf15cd5607   -263.490774\n",
       "                                ...    \n",
       " 61661cac7d3cc02b3fc1b52b   -263.098364\n",
       " 61671a9d42eb53946faa44c2   -311.312237\n",
       " 616ec0185d61b5fa0b62b42a   -268.242304\n",
       " 616f35805cb9047a629edb71   -219.889828\n",
       " 61702b890e755075af3a5423   -441.305334\n",
       " Name: BIC, Length: 101, dtype: float64,\n",
       " 'unsig_ev_up': 56210effed6e5a000ac7f3a5   -269.150656\n",
       " 57313ba2070de6000f43384e   -364.227786\n",
       " 5af196e1e1b5b8000148ac76   -232.735993\n",
       " 5cd5fe480f0de600018e7251   -350.323046\n",
       " 5fec7577ad8fbadf15cd5607   -243.189104\n",
       "                                ...    \n",
       " 61661cac7d3cc02b3fc1b52b   -226.718467\n",
       " 61671a9d42eb53946faa44c2   -296.836106\n",
       " 616ec0185d61b5fa0b62b42a   -238.093838\n",
       " 616f35805cb9047a629edb71   -194.562129\n",
       " 61702b890e755075af3a5423   -462.235471\n",
       " Name: BIC, Length: 101, dtype: float64,\n",
       " 'weighted_sigev_sigcolourt': 56210effed6e5a000ac7f3a5   -319.823539\n",
       " 57313ba2070de6000f43384e   -362.941578\n",
       " 5af196e1e1b5b8000148ac76   -287.326050\n",
       " 5cd5fe480f0de600018e7251   -410.834608\n",
       " 5fec7577ad8fbadf15cd5607   -256.816635\n",
       "                                ...    \n",
       " 61661cac7d3cc02b3fc1b52b   -277.566934\n",
       " 61671a9d42eb53946faa44c2   -302.778624\n",
       " 616ec0185d61b5fa0b62b42a   -311.020436\n",
       " 616f35805cb9047a629edb71   -222.723092\n",
       " 61702b890e755075af3a5423   -432.029410\n",
       " Name: BIC, Length: 101, dtype: float64}"
      ]
     },
     "execution_count": 100,
     "metadata": {},
     "output_type": "execute_result"
    }
   ],
   "source": [
    "dfs"
   ]
  },
  {
   "cell_type": "code",
   "execution_count": 2,
   "metadata": {},
   "outputs": [],
   "source": [
    "import numpy as np"
   ]
  },
  {
   "cell_type": "code",
   "execution_count": 108,
   "metadata": {
    "scrolled": true
   },
   "outputs": [],
   "source": [
    "best_model = {}\n",
    "\n",
    "for uuid in uuids:\n",
    "    tmp = []\n",
    "    for i, model in enumerate(dfs):\n",
    "        tmp.append(dfs[model][uuid])\n",
    "    best_model[uuid] = list(dfs)[np.argmin(tmp)]"
   ]
  },
  {
   "cell_type": "code",
   "execution_count": 115,
   "metadata": {},
   "outputs": [],
   "source": [
    "pd.Series(best_model).to_clipboard()"
   ]
  },
  {
   "cell_type": "code",
   "execution_count": 3,
   "metadata": {},
   "outputs": [],
   "source": [
    "df = pd.read_feather(\"./data/fr/fr100_aggregate_scores.feather\")"
   ]
  },
  {
   "cell_type": "code",
   "execution_count": 4,
   "metadata": {},
   "outputs": [],
   "source": [
    "df = df.set_index('PID')"
   ]
  },
  {
   "cell_type": "code",
   "execution_count": 122,
   "metadata": {},
   "outputs": [],
   "source": [
    "df['best_model_fit'] = pd.Series(best_model)"
   ]
  },
  {
   "cell_type": "code",
   "execution_count": 123,
   "metadata": {},
   "outputs": [
    {
     "data": {
      "text/html": [
       "<div>\n",
       "<style scoped>\n",
       "    .dataframe tbody tr th:only-of-type {\n",
       "        vertical-align: middle;\n",
       "    }\n",
       "\n",
       "    .dataframe tbody tr th {\n",
       "        vertical-align: top;\n",
       "    }\n",
       "\n",
       "    .dataframe thead th {\n",
       "        text-align: right;\n",
       "    }\n",
       "</style>\n",
       "<table border=\"1\" class=\"dataframe\">\n",
       "  <thead>\n",
       "    <tr style=\"text-align: right;\">\n",
       "      <th></th>\n",
       "      <th>crt</th>\n",
       "      <th>aq</th>\n",
       "      <th>lie_prop</th>\n",
       "      <th>eq</th>\n",
       "      <th>rgpts</th>\n",
       "      <th>signed_ev_alpha</th>\n",
       "      <th>col_congruency_alpha</th>\n",
       "      <th>signed_ev_prior</th>\n",
       "      <th>mean_honesty_rating</th>\n",
       "      <th>lie_detect_precision</th>\n",
       "      <th>lie_detect_recall</th>\n",
       "      <th>lie_detect_accuracy</th>\n",
       "      <th>age</th>\n",
       "      <th>gender</th>\n",
       "      <th>ed_lev</th>\n",
       "      <th>high_liar</th>\n",
       "      <th>high_alpha</th>\n",
       "      <th>high_col_congruency_alpha</th>\n",
       "      <th>high_prior</th>\n",
       "      <th>best_model_fit</th>\n",
       "    </tr>\n",
       "    <tr>\n",
       "      <th>PID</th>\n",
       "      <th></th>\n",
       "      <th></th>\n",
       "      <th></th>\n",
       "      <th></th>\n",
       "      <th></th>\n",
       "      <th></th>\n",
       "      <th></th>\n",
       "      <th></th>\n",
       "      <th></th>\n",
       "      <th></th>\n",
       "      <th></th>\n",
       "      <th></th>\n",
       "      <th></th>\n",
       "      <th></th>\n",
       "      <th></th>\n",
       "      <th></th>\n",
       "      <th></th>\n",
       "      <th></th>\n",
       "      <th></th>\n",
       "      <th></th>\n",
       "    </tr>\n",
       "  </thead>\n",
       "  <tbody>\n",
       "    <tr>\n",
       "      <th>56210effed6e5a000ac7f3a5</th>\n",
       "      <td>4</td>\n",
       "      <td>0.2</td>\n",
       "      <td>0.622222</td>\n",
       "      <td>5.181818</td>\n",
       "      <td>1.777778</td>\n",
       "      <td>0.549441</td>\n",
       "      <td>0.022603</td>\n",
       "      <td>0.324423</td>\n",
       "      <td>1.455556</td>\n",
       "      <td>0.391892</td>\n",
       "      <td>0.966667</td>\n",
       "      <td>0.488889</td>\n",
       "      <td>38</td>\n",
       "      <td>0</td>\n",
       "      <td>5</td>\n",
       "      <td>True</td>\n",
       "      <td>1</td>\n",
       "      <td>1</td>\n",
       "      <td>1</td>\n",
       "      <td>sig_ev_noup</td>\n",
       "    </tr>\n",
       "    <tr>\n",
       "      <th>57313ba2070de6000f43384e</th>\n",
       "      <td>3</td>\n",
       "      <td>0.6</td>\n",
       "      <td>0.211111</td>\n",
       "      <td>4.954545</td>\n",
       "      <td>1.944444</td>\n",
       "      <td>0.129086</td>\n",
       "      <td>-0.040522</td>\n",
       "      <td>0.187498</td>\n",
       "      <td>3.755556</td>\n",
       "      <td>0.750000</td>\n",
       "      <td>0.107143</td>\n",
       "      <td>0.711111</td>\n",
       "      <td>38</td>\n",
       "      <td>1</td>\n",
       "      <td>1</td>\n",
       "      <td>True</td>\n",
       "      <td>0</td>\n",
       "      <td>1</td>\n",
       "      <td>1</td>\n",
       "      <td>unsig_ev_noup</td>\n",
       "    </tr>\n",
       "    <tr>\n",
       "      <th>5af196e1e1b5b8000148ac76</th>\n",
       "      <td>2</td>\n",
       "      <td>0.4</td>\n",
       "      <td>0.222222</td>\n",
       "      <td>5.136364</td>\n",
       "      <td>2.500000</td>\n",
       "      <td>0.634702</td>\n",
       "      <td>-0.038728</td>\n",
       "      <td>0.051418</td>\n",
       "      <td>2.922222</td>\n",
       "      <td>0.692308</td>\n",
       "      <td>0.692308</td>\n",
       "      <td>0.822222</td>\n",
       "      <td>31</td>\n",
       "      <td>0</td>\n",
       "      <td>9</td>\n",
       "      <td>True</td>\n",
       "      <td>1</td>\n",
       "      <td>1</td>\n",
       "      <td>0</td>\n",
       "      <td>unsig_ev_noup</td>\n",
       "    </tr>\n",
       "    <tr>\n",
       "      <th>5cd5fe480f0de600018e7251</th>\n",
       "      <td>1</td>\n",
       "      <td>0.3</td>\n",
       "      <td>0.411111</td>\n",
       "      <td>4.681818</td>\n",
       "      <td>2.722222</td>\n",
       "      <td>0.402318</td>\n",
       "      <td>-0.022349</td>\n",
       "      <td>0.105137</td>\n",
       "      <td>3.400000</td>\n",
       "      <td>0.000000</td>\n",
       "      <td>0.000000</td>\n",
       "      <td>0.855556</td>\n",
       "      <td>28</td>\n",
       "      <td>1</td>\n",
       "      <td>3</td>\n",
       "      <td>True</td>\n",
       "      <td>1</td>\n",
       "      <td>1</td>\n",
       "      <td>0</td>\n",
       "      <td>sig_ev_noup</td>\n",
       "    </tr>\n",
       "    <tr>\n",
       "      <th>5fec7577ad8fbadf15cd5607</th>\n",
       "      <td>4</td>\n",
       "      <td>0.2</td>\n",
       "      <td>0.233333</td>\n",
       "      <td>4.500000</td>\n",
       "      <td>NaN</td>\n",
       "      <td>0.356174</td>\n",
       "      <td>-0.085010</td>\n",
       "      <td>0.108129</td>\n",
       "      <td>3.755556</td>\n",
       "      <td>0.230769</td>\n",
       "      <td>0.272727</td>\n",
       "      <td>0.800000</td>\n",
       "      <td>25</td>\n",
       "      <td>0</td>\n",
       "      <td>6</td>\n",
       "      <td>True</td>\n",
       "      <td>0</td>\n",
       "      <td>0</td>\n",
       "      <td>0</td>\n",
       "      <td>unsig_ev_noup</td>\n",
       "    </tr>\n",
       "    <tr>\n",
       "      <th>...</th>\n",
       "      <td>...</td>\n",
       "      <td>...</td>\n",
       "      <td>...</td>\n",
       "      <td>...</td>\n",
       "      <td>...</td>\n",
       "      <td>...</td>\n",
       "      <td>...</td>\n",
       "      <td>...</td>\n",
       "      <td>...</td>\n",
       "      <td>...</td>\n",
       "      <td>...</td>\n",
       "      <td>...</td>\n",
       "      <td>...</td>\n",
       "      <td>...</td>\n",
       "      <td>...</td>\n",
       "      <td>...</td>\n",
       "      <td>...</td>\n",
       "      <td>...</td>\n",
       "      <td>...</td>\n",
       "      <td>...</td>\n",
       "    </tr>\n",
       "    <tr>\n",
       "      <th>61661cac7d3cc02b3fc1b52b</th>\n",
       "      <td>1</td>\n",
       "      <td>0.4</td>\n",
       "      <td>0.244444</td>\n",
       "      <td>5.909091</td>\n",
       "      <td>0.888889</td>\n",
       "      <td>0.651838</td>\n",
       "      <td>-0.138006</td>\n",
       "      <td>0.000000</td>\n",
       "      <td>3.422222</td>\n",
       "      <td>0.454545</td>\n",
       "      <td>0.500000</td>\n",
       "      <td>0.755556</td>\n",
       "      <td>47</td>\n",
       "      <td>1</td>\n",
       "      <td>5</td>\n",
       "      <td>True</td>\n",
       "      <td>1</td>\n",
       "      <td>0</td>\n",
       "      <td>0</td>\n",
       "      <td>signed_ev_colcongr_subjlied</td>\n",
       "    </tr>\n",
       "    <tr>\n",
       "      <th>61671a9d42eb53946faa44c2</th>\n",
       "      <td>2</td>\n",
       "      <td>0.5</td>\n",
       "      <td>0.088889</td>\n",
       "      <td>4.318182</td>\n",
       "      <td>0.722222</td>\n",
       "      <td>0.129569</td>\n",
       "      <td>-0.218272</td>\n",
       "      <td>0.434725</td>\n",
       "      <td>3.055556</td>\n",
       "      <td>0.406250</td>\n",
       "      <td>0.520000</td>\n",
       "      <td>0.655556</td>\n",
       "      <td>40</td>\n",
       "      <td>0</td>\n",
       "      <td>5</td>\n",
       "      <td>False</td>\n",
       "      <td>0</td>\n",
       "      <td>0</td>\n",
       "      <td>1</td>\n",
       "      <td>signed_ev_colcongr_subjlied</td>\n",
       "    </tr>\n",
       "    <tr>\n",
       "      <th>616ec0185d61b5fa0b62b42a</th>\n",
       "      <td>4</td>\n",
       "      <td>0.2</td>\n",
       "      <td>0.000000</td>\n",
       "      <td>5.000000</td>\n",
       "      <td>0.777778</td>\n",
       "      <td>0.584536</td>\n",
       "      <td>-0.031980</td>\n",
       "      <td>0.000000</td>\n",
       "      <td>3.288889</td>\n",
       "      <td>0.560000</td>\n",
       "      <td>0.583333</td>\n",
       "      <td>0.766667</td>\n",
       "      <td>58</td>\n",
       "      <td>1</td>\n",
       "      <td>6</td>\n",
       "      <td>False</td>\n",
       "      <td>1</td>\n",
       "      <td>1</td>\n",
       "      <td>0</td>\n",
       "      <td>combi_signed_ev_col_congr</td>\n",
       "    </tr>\n",
       "    <tr>\n",
       "      <th>616f35805cb9047a629edb71</th>\n",
       "      <td>4</td>\n",
       "      <td>0.3</td>\n",
       "      <td>0.088889</td>\n",
       "      <td>4.954545</td>\n",
       "      <td>1.666667</td>\n",
       "      <td>0.735956</td>\n",
       "      <td>0.064929</td>\n",
       "      <td>0.089528</td>\n",
       "      <td>2.044444</td>\n",
       "      <td>0.380000</td>\n",
       "      <td>0.826087</td>\n",
       "      <td>0.611111</td>\n",
       "      <td>19</td>\n",
       "      <td>0</td>\n",
       "      <td>2</td>\n",
       "      <td>False</td>\n",
       "      <td>1</td>\n",
       "      <td>1</td>\n",
       "      <td>0</td>\n",
       "      <td>combi_signed_ev_subj_lied</td>\n",
       "    </tr>\n",
       "    <tr>\n",
       "      <th>61702b890e755075af3a5423</th>\n",
       "      <td>0</td>\n",
       "      <td>0.4</td>\n",
       "      <td>0.500000</td>\n",
       "      <td>4.954545</td>\n",
       "      <td>0.277778</td>\n",
       "      <td>0.000000</td>\n",
       "      <td>-0.018261</td>\n",
       "      <td>0.575774</td>\n",
       "      <td>2.177778</td>\n",
       "      <td>0.219178</td>\n",
       "      <td>0.800000</td>\n",
       "      <td>0.322222</td>\n",
       "      <td>20</td>\n",
       "      <td>1</td>\n",
       "      <td>3</td>\n",
       "      <td>True</td>\n",
       "      <td>0</td>\n",
       "      <td>1</td>\n",
       "      <td>1</td>\n",
       "      <td>combi_signed_ev_col_congr</td>\n",
       "    </tr>\n",
       "  </tbody>\n",
       "</table>\n",
       "<p>100 rows × 20 columns</p>\n",
       "</div>"
      ],
      "text/plain": [
       "                          crt   aq  lie_prop        eq     rgpts  \\\n",
       "PID                                                                \n",
       "56210effed6e5a000ac7f3a5    4  0.2  0.622222  5.181818  1.777778   \n",
       "57313ba2070de6000f43384e    3  0.6  0.211111  4.954545  1.944444   \n",
       "5af196e1e1b5b8000148ac76    2  0.4  0.222222  5.136364  2.500000   \n",
       "5cd5fe480f0de600018e7251    1  0.3  0.411111  4.681818  2.722222   \n",
       "5fec7577ad8fbadf15cd5607    4  0.2  0.233333  4.500000       NaN   \n",
       "...                       ...  ...       ...       ...       ...   \n",
       "61661cac7d3cc02b3fc1b52b    1  0.4  0.244444  5.909091  0.888889   \n",
       "61671a9d42eb53946faa44c2    2  0.5  0.088889  4.318182  0.722222   \n",
       "616ec0185d61b5fa0b62b42a    4  0.2  0.000000  5.000000  0.777778   \n",
       "616f35805cb9047a629edb71    4  0.3  0.088889  4.954545  1.666667   \n",
       "61702b890e755075af3a5423    0  0.4  0.500000  4.954545  0.277778   \n",
       "\n",
       "                          signed_ev_alpha  col_congruency_alpha  \\\n",
       "PID                                                               \n",
       "56210effed6e5a000ac7f3a5         0.549441              0.022603   \n",
       "57313ba2070de6000f43384e         0.129086             -0.040522   \n",
       "5af196e1e1b5b8000148ac76         0.634702             -0.038728   \n",
       "5cd5fe480f0de600018e7251         0.402318             -0.022349   \n",
       "5fec7577ad8fbadf15cd5607         0.356174             -0.085010   \n",
       "...                                   ...                   ...   \n",
       "61661cac7d3cc02b3fc1b52b         0.651838             -0.138006   \n",
       "61671a9d42eb53946faa44c2         0.129569             -0.218272   \n",
       "616ec0185d61b5fa0b62b42a         0.584536             -0.031980   \n",
       "616f35805cb9047a629edb71         0.735956              0.064929   \n",
       "61702b890e755075af3a5423         0.000000             -0.018261   \n",
       "\n",
       "                          signed_ev_prior  mean_honesty_rating  \\\n",
       "PID                                                              \n",
       "56210effed6e5a000ac7f3a5         0.324423             1.455556   \n",
       "57313ba2070de6000f43384e         0.187498             3.755556   \n",
       "5af196e1e1b5b8000148ac76         0.051418             2.922222   \n",
       "5cd5fe480f0de600018e7251         0.105137             3.400000   \n",
       "5fec7577ad8fbadf15cd5607         0.108129             3.755556   \n",
       "...                                   ...                  ...   \n",
       "61661cac7d3cc02b3fc1b52b         0.000000             3.422222   \n",
       "61671a9d42eb53946faa44c2         0.434725             3.055556   \n",
       "616ec0185d61b5fa0b62b42a         0.000000             3.288889   \n",
       "616f35805cb9047a629edb71         0.089528             2.044444   \n",
       "61702b890e755075af3a5423         0.575774             2.177778   \n",
       "\n",
       "                          lie_detect_precision  lie_detect_recall  \\\n",
       "PID                                                                 \n",
       "56210effed6e5a000ac7f3a5              0.391892           0.966667   \n",
       "57313ba2070de6000f43384e              0.750000           0.107143   \n",
       "5af196e1e1b5b8000148ac76              0.692308           0.692308   \n",
       "5cd5fe480f0de600018e7251              0.000000           0.000000   \n",
       "5fec7577ad8fbadf15cd5607              0.230769           0.272727   \n",
       "...                                        ...                ...   \n",
       "61661cac7d3cc02b3fc1b52b              0.454545           0.500000   \n",
       "61671a9d42eb53946faa44c2              0.406250           0.520000   \n",
       "616ec0185d61b5fa0b62b42a              0.560000           0.583333   \n",
       "616f35805cb9047a629edb71              0.380000           0.826087   \n",
       "61702b890e755075af3a5423              0.219178           0.800000   \n",
       "\n",
       "                          lie_detect_accuracy  age  gender  ed_lev  high_liar  \\\n",
       "PID                                                                             \n",
       "56210effed6e5a000ac7f3a5             0.488889   38       0       5       True   \n",
       "57313ba2070de6000f43384e             0.711111   38       1       1       True   \n",
       "5af196e1e1b5b8000148ac76             0.822222   31       0       9       True   \n",
       "5cd5fe480f0de600018e7251             0.855556   28       1       3       True   \n",
       "5fec7577ad8fbadf15cd5607             0.800000   25       0       6       True   \n",
       "...                                       ...  ...     ...     ...        ...   \n",
       "61661cac7d3cc02b3fc1b52b             0.755556   47       1       5       True   \n",
       "61671a9d42eb53946faa44c2             0.655556   40       0       5      False   \n",
       "616ec0185d61b5fa0b62b42a             0.766667   58       1       6      False   \n",
       "616f35805cb9047a629edb71             0.611111   19       0       2      False   \n",
       "61702b890e755075af3a5423             0.322222   20       1       3       True   \n",
       "\n",
       "                          high_alpha  high_col_congruency_alpha  high_prior  \\\n",
       "PID                                                                           \n",
       "56210effed6e5a000ac7f3a5           1                          1           1   \n",
       "57313ba2070de6000f43384e           0                          1           1   \n",
       "5af196e1e1b5b8000148ac76           1                          1           0   \n",
       "5cd5fe480f0de600018e7251           1                          1           0   \n",
       "5fec7577ad8fbadf15cd5607           0                          0           0   \n",
       "...                              ...                        ...         ...   \n",
       "61661cac7d3cc02b3fc1b52b           1                          0           0   \n",
       "61671a9d42eb53946faa44c2           0                          0           1   \n",
       "616ec0185d61b5fa0b62b42a           1                          1           0   \n",
       "616f35805cb9047a629edb71           1                          1           0   \n",
       "61702b890e755075af3a5423           0                          1           1   \n",
       "\n",
       "                                       best_model_fit  \n",
       "PID                                                    \n",
       "56210effed6e5a000ac7f3a5                  sig_ev_noup  \n",
       "57313ba2070de6000f43384e                unsig_ev_noup  \n",
       "5af196e1e1b5b8000148ac76                unsig_ev_noup  \n",
       "5cd5fe480f0de600018e7251                  sig_ev_noup  \n",
       "5fec7577ad8fbadf15cd5607                unsig_ev_noup  \n",
       "...                                               ...  \n",
       "61661cac7d3cc02b3fc1b52b  signed_ev_colcongr_subjlied  \n",
       "61671a9d42eb53946faa44c2  signed_ev_colcongr_subjlied  \n",
       "616ec0185d61b5fa0b62b42a    combi_signed_ev_col_congr  \n",
       "616f35805cb9047a629edb71    combi_signed_ev_subj_lied  \n",
       "61702b890e755075af3a5423    combi_signed_ev_col_congr  \n",
       "\n",
       "[100 rows x 20 columns]"
      ]
     },
     "execution_count": 123,
     "metadata": {},
     "output_type": "execute_result"
    }
   ],
   "source": [
    "df"
   ]
  },
  {
   "cell_type": "code",
   "execution_count": 125,
   "metadata": {},
   "outputs": [
    {
     "data": {
      "text/plain": [
       "Counter({'sig_ev_noup': 18,\n",
       "         'unsig_ev_noup': 13,\n",
       "         'unsig_col_count': 3,\n",
       "         'signed_ev_colcongr_subjlied': 11,\n",
       "         'sig_col_count': 5,\n",
       "         'combi_signed_ev_col_congr': 37,\n",
       "         'unsig_ev_up': 1,\n",
       "         'sig_ev_up': 3,\n",
       "         'weighted_sigev_sigcolourt': 3,\n",
       "         'combi_signed_ev_subj_lied': 6})"
      ]
     },
     "execution_count": 125,
     "metadata": {},
     "output_type": "execute_result"
    }
   ],
   "source": [
    "from collections import Counter\n",
    "\n",
    "Counter(df['best_model_fit'])"
   ]
  },
  {
   "cell_type": "code",
   "execution_count": 136,
   "metadata": {},
   "outputs": [
    {
     "data": {
      "text/html": [
       "<div>\n",
       "<style scoped>\n",
       "    .dataframe tbody tr th:only-of-type {\n",
       "        vertical-align: middle;\n",
       "    }\n",
       "\n",
       "    .dataframe tbody tr th {\n",
       "        vertical-align: top;\n",
       "    }\n",
       "\n",
       "    .dataframe thead th {\n",
       "        text-align: right;\n",
       "    }\n",
       "</style>\n",
       "<table border=\"1\" class=\"dataframe\">\n",
       "  <thead>\n",
       "    <tr style=\"text-align: right;\">\n",
       "      <th>best_model_fit</th>\n",
       "      <th>combi_signed_ev_col_congr</th>\n",
       "      <th>combi_signed_ev_subj_lied</th>\n",
       "      <th>sig_col_count</th>\n",
       "      <th>sig_ev_noup</th>\n",
       "      <th>sig_ev_up</th>\n",
       "      <th>signed_ev_colcongr_subjlied</th>\n",
       "      <th>unsig_col_count</th>\n",
       "      <th>unsig_ev_noup</th>\n",
       "      <th>unsig_ev_up</th>\n",
       "      <th>weighted_sigev_sigcolourt</th>\n",
       "    </tr>\n",
       "  </thead>\n",
       "  <tbody>\n",
       "    <tr>\n",
       "      <th>count</th>\n",
       "      <td>37.000000</td>\n",
       "      <td>6.000000</td>\n",
       "      <td>5.000000</td>\n",
       "      <td>18.000000</td>\n",
       "      <td>3.000000</td>\n",
       "      <td>11.000000</td>\n",
       "      <td>3.000000</td>\n",
       "      <td>13.000000</td>\n",
       "      <td>1.000000</td>\n",
       "      <td>3.000000</td>\n",
       "    </tr>\n",
       "    <tr>\n",
       "      <th>mean</th>\n",
       "      <td>0.441645</td>\n",
       "      <td>0.350106</td>\n",
       "      <td>0.201180</td>\n",
       "      <td>0.529234</td>\n",
       "      <td>0.232576</td>\n",
       "      <td>0.440785</td>\n",
       "      <td>0.301852</td>\n",
       "      <td>0.477450</td>\n",
       "      <td>0.404762</td>\n",
       "      <td>0.370174</td>\n",
       "    </tr>\n",
       "    <tr>\n",
       "      <th>std</th>\n",
       "      <td>0.141387</td>\n",
       "      <td>0.274957</td>\n",
       "      <td>0.154677</td>\n",
       "      <td>0.235797</td>\n",
       "      <td>0.036951</td>\n",
       "      <td>0.169241</td>\n",
       "      <td>0.184620</td>\n",
       "      <td>0.218258</td>\n",
       "      <td>NaN</td>\n",
       "      <td>0.042045</td>\n",
       "    </tr>\n",
       "    <tr>\n",
       "      <th>min</th>\n",
       "      <td>0.117647</td>\n",
       "      <td>0.000000</td>\n",
       "      <td>0.000000</td>\n",
       "      <td>0.000000</td>\n",
       "      <td>0.200000</td>\n",
       "      <td>0.190476</td>\n",
       "      <td>0.088889</td>\n",
       "      <td>0.000000</td>\n",
       "      <td>0.404762</td>\n",
       "      <td>0.325000</td>\n",
       "    </tr>\n",
       "    <tr>\n",
       "      <th>25%</th>\n",
       "      <td>0.384615</td>\n",
       "      <td>0.190476</td>\n",
       "      <td>0.100000</td>\n",
       "      <td>0.400000</td>\n",
       "      <td>0.212500</td>\n",
       "      <td>0.314171</td>\n",
       "      <td>0.244444</td>\n",
       "      <td>0.406250</td>\n",
       "      <td>0.404762</td>\n",
       "      <td>0.351179</td>\n",
       "    </tr>\n",
       "    <tr>\n",
       "      <th>50%</th>\n",
       "      <td>0.435897</td>\n",
       "      <td>0.356667</td>\n",
       "      <td>0.245902</td>\n",
       "      <td>0.500000</td>\n",
       "      <td>0.225000</td>\n",
       "      <td>0.434783</td>\n",
       "      <td>0.400000</td>\n",
       "      <td>0.476190</td>\n",
       "      <td>0.404762</td>\n",
       "      <td>0.377358</td>\n",
       "    </tr>\n",
       "    <tr>\n",
       "      <th>75%</th>\n",
       "      <td>0.538462</td>\n",
       "      <td>0.428333</td>\n",
       "      <td>0.260000</td>\n",
       "      <td>0.621032</td>\n",
       "      <td>0.248864</td>\n",
       "      <td>0.575455</td>\n",
       "      <td>0.408333</td>\n",
       "      <td>0.629630</td>\n",
       "      <td>0.404762</td>\n",
       "      <td>0.392761</td>\n",
       "    </tr>\n",
       "    <tr>\n",
       "      <th>max</th>\n",
       "      <td>0.800000</td>\n",
       "      <td>0.800000</td>\n",
       "      <td>0.400000</td>\n",
       "      <td>1.000000</td>\n",
       "      <td>0.272727</td>\n",
       "      <td>0.678571</td>\n",
       "      <td>0.416667</td>\n",
       "      <td>0.750000</td>\n",
       "      <td>0.404762</td>\n",
       "      <td>0.408163</td>\n",
       "    </tr>\n",
       "  </tbody>\n",
       "</table>\n",
       "</div>"
      ],
      "text/plain": [
       "best_model_fit  combi_signed_ev_col_congr  combi_signed_ev_subj_lied  \\\n",
       "count                           37.000000                   6.000000   \n",
       "mean                             0.441645                   0.350106   \n",
       "std                              0.141387                   0.274957   \n",
       "min                              0.117647                   0.000000   \n",
       "25%                              0.384615                   0.190476   \n",
       "50%                              0.435897                   0.356667   \n",
       "75%                              0.538462                   0.428333   \n",
       "max                              0.800000                   0.800000   \n",
       "\n",
       "best_model_fit  sig_col_count  sig_ev_noup  sig_ev_up  \\\n",
       "count                5.000000    18.000000   3.000000   \n",
       "mean                 0.201180     0.529234   0.232576   \n",
       "std                  0.154677     0.235797   0.036951   \n",
       "min                  0.000000     0.000000   0.200000   \n",
       "25%                  0.100000     0.400000   0.212500   \n",
       "50%                  0.245902     0.500000   0.225000   \n",
       "75%                  0.260000     0.621032   0.248864   \n",
       "max                  0.400000     1.000000   0.272727   \n",
       "\n",
       "best_model_fit  signed_ev_colcongr_subjlied  unsig_col_count  unsig_ev_noup  \\\n",
       "count                             11.000000         3.000000      13.000000   \n",
       "mean                               0.440785         0.301852       0.477450   \n",
       "std                                0.169241         0.184620       0.218258   \n",
       "min                                0.190476         0.088889       0.000000   \n",
       "25%                                0.314171         0.244444       0.406250   \n",
       "50%                                0.434783         0.400000       0.476190   \n",
       "75%                                0.575455         0.408333       0.629630   \n",
       "max                                0.678571         0.416667       0.750000   \n",
       "\n",
       "best_model_fit  unsig_ev_up  weighted_sigev_sigcolourt  \n",
       "count              1.000000                   3.000000  \n",
       "mean               0.404762                   0.370174  \n",
       "std                     NaN                   0.042045  \n",
       "min                0.404762                   0.325000  \n",
       "25%                0.404762                   0.351179  \n",
       "50%                0.404762                   0.377358  \n",
       "75%                0.404762                   0.392761  \n",
       "max                0.404762                   0.408163  "
      ]
     },
     "execution_count": 136,
     "metadata": {},
     "output_type": "execute_result"
    }
   ],
   "source": [
    "df.pivot(columns=\"best_model_fit\", values=\"lie_detect_precision\").describe()"
   ]
  },
  {
   "cell_type": "code",
   "execution_count": 137,
   "metadata": {},
   "outputs": [],
   "source": [
    "tmp = pd.read_feather(\"./data/fr/fr100_lie_detect_model_optimalprob.feather\")"
   ]
  },
  {
   "cell_type": "code",
   "execution_count": 141,
   "metadata": {},
   "outputs": [],
   "source": [
    "tmp.join(df, on=\"uuid\").to_clipboard()"
   ]
  },
  {
   "cell_type": "code",
   "execution_count": 2,
   "metadata": {},
   "outputs": [],
   "source": [
    "import pandas as pd"
   ]
  },
  {
   "cell_type": "code",
   "execution_count": 9,
   "metadata": {},
   "outputs": [],
   "source": [
    "df = pd.read_feather(\"./data/fr/fr100_aggregate_scores.feather\")"
   ]
  },
  {
   "cell_type": "code",
   "execution_count": 10,
   "metadata": {},
   "outputs": [
    {
     "data": {
      "text/plain": [
       "['PID',\n",
       " 'crt',\n",
       " 'aq',\n",
       " 'lie_prop',\n",
       " 'eq',\n",
       " 'rgpts',\n",
       " 'signed_ev_alpha',\n",
       " 'col_congruency_alpha',\n",
       " 'signed_ev_prior',\n",
       " 'mean_honesty_rating',\n",
       " 'lie_detect_precision',\n",
       " 'lie_detect_recall',\n",
       " 'lie_detect_accuracy',\n",
       " 'age',\n",
       " 'gender',\n",
       " 'ed_lev',\n",
       " 'high_liar',\n",
       " 'high_alpha',\n",
       " 'high_col_congruency_alpha',\n",
       " 'high_prior']"
      ]
     },
     "execution_count": 10,
     "metadata": {},
     "output_type": "execute_result"
    }
   ],
   "source": [
    "list(df)"
   ]
  },
  {
   "cell_type": "code",
   "execution_count": 11,
   "metadata": {},
   "outputs": [
    {
     "data": {
      "text/plain": [
       "(100, 20)"
      ]
     },
     "execution_count": 11,
     "metadata": {},
     "output_type": "execute_result"
    }
   ],
   "source": [
    "df.shape"
   ]
  },
  {
   "cell_type": "code",
   "execution_count": 12,
   "metadata": {},
   "outputs": [],
   "source": [
    "exclude = [\n",
    "    \"60f44f7a57468d4e9f87fa5b\",\n",
    "\"6154284fc5154abb9a264b0c\",\n",
    "\"6160403f5164508979e6358d\",\n",
    "\"615d9f86fdd5e127d783e850\",\n",
    "\"612812ff639db35356dff7c5\",\n",
    "\"5962eb69241f8d0001064bd3\",\n",
    "\"61617a80475c4e619cbed83e\",\n",
    "\"616deadcefd7197b84ab677c\",\n",
    "\"616f43682df7bc3f99f95411\",\n",
    "\"6162a881b823e80dfcf94792\",\n",
    "\"616f6a2135e569c0b4861b01\",\n",
    "\"5cb08ecee11a890001a478ad\",\n",
    "\"5b2caaa75b5c0900018b4724\",\n",
    "\"61702b890e755075af3a5423\",\n",
    "\"616ec0185d61b5fa0b62b42a\"\n",
    "]"
   ]
  },
  {
   "cell_type": "code",
   "execution_count": 13,
   "metadata": {},
   "outputs": [],
   "source": [
    "df = df[~df['PID'].isin(exclude)]"
   ]
  },
  {
   "cell_type": "code",
   "execution_count": 15,
   "metadata": {},
   "outputs": [],
   "source": [
    "from scipy.stats import ttest_ind"
   ]
  },
  {
   "cell_type": "code",
   "execution_count": 16,
   "metadata": {},
   "outputs": [],
   "source": [
    "from statistics import median"
   ]
  },
  {
   "cell_type": "code",
   "execution_count": 17,
   "metadata": {},
   "outputs": [],
   "source": [
    "df['high_alpha'] = df['signed_ev_alpha'] > median(df['signed_ev_alpha'])"
   ]
  },
  {
   "cell_type": "code",
   "execution_count": 20,
   "metadata": {},
   "outputs": [],
   "source": [
    "df['high_prior'] = df['signed_ev_prior'] > median(df['signed_ev_prior'])"
   ]
  },
  {
   "cell_type": "code",
   "execution_count": 23,
   "metadata": {},
   "outputs": [],
   "source": [
    "df['high_liar'] = df['lie_prop'] > median(df['lie_prop'])"
   ]
  },
  {
   "cell_type": "code",
   "execution_count": 25,
   "metadata": {},
   "outputs": [],
   "source": [
    "df['high_col_congruency_alpha'] = df['col_congruency_alpha'] > median(df['col_congruency_alpha'])"
   ]
  },
  {
   "cell_type": "code",
   "execution_count": 31,
   "metadata": {},
   "outputs": [
    {
     "data": {
      "text/plain": [
       "Ttest_indResult(statistic=-1.3935094890854625, pvalue=0.16718615017144908)"
      ]
     },
     "execution_count": 31,
     "metadata": {},
     "output_type": "execute_result"
    }
   ],
   "source": [
    "ttest_ind(df['signed_ev_prior'][df['high_liar'] == 1], df['signed_ev_prior'][df['high_liar'] == 0])"
   ]
  },
  {
   "cell_type": "code",
   "execution_count": 32,
   "metadata": {},
   "outputs": [
    {
     "data": {
      "text/plain": [
       "Ttest_indResult(statistic=2.1006852707126784, pvalue=0.03870299388913831)"
      ]
     },
     "execution_count": 32,
     "metadata": {},
     "output_type": "execute_result"
    }
   ],
   "source": [
    "ttest_ind(df['signed_ev_alpha'][df['high_liar'] == 1], df['signed_ev_alpha'][df['high_liar'] == 0])"
   ]
  },
  {
   "cell_type": "code",
   "execution_count": 33,
   "metadata": {},
   "outputs": [
    {
     "data": {
      "text/plain": [
       "Ttest_indResult(statistic=-0.18522394982712237, pvalue=0.8535052603407842)"
      ]
     },
     "execution_count": 33,
     "metadata": {},
     "output_type": "execute_result"
    }
   ],
   "source": [
    "ttest_ind(df['col_congruency_alpha'][df['high_liar'] == 1], df['col_congruency_alpha'][df['high_liar'] == 0])"
   ]
  },
  {
   "cell_type": "code",
   "execution_count": 34,
   "metadata": {},
   "outputs": [
    {
     "data": {
      "text/plain": [
       "Ttest_indResult(statistic=-3.43090695579243, pvalue=0.0009398706686064522)"
      ]
     },
     "execution_count": 34,
     "metadata": {},
     "output_type": "execute_result"
    }
   ],
   "source": [
    "ttest_ind(df['mean_honesty_rating'][df['high_prior'] == 1], df['mean_honesty_rating'][df['high_prior'] == 0])"
   ]
  },
  {
   "cell_type": "code",
   "execution_count": 35,
   "metadata": {},
   "outputs": [
    {
     "data": {
      "text/plain": [
       "Ttest_indResult(statistic=-1.1623715500389726, pvalue=0.24841594428092825)"
      ]
     },
     "execution_count": 35,
     "metadata": {},
     "output_type": "execute_result"
    }
   ],
   "source": [
    "ttest_ind(df['mean_honesty_rating'][df['high_alpha'] == 1], df['mean_honesty_rating'][df['high_alpha'] == 0])"
   ]
  },
  {
   "cell_type": "code",
   "execution_count": 36,
   "metadata": {},
   "outputs": [
    {
     "data": {
      "text/plain": [
       "Ttest_indResult(statistic=-0.8797489581305712, pvalue=0.3815353979612802)"
      ]
     },
     "execution_count": 36,
     "metadata": {},
     "output_type": "execute_result"
    }
   ],
   "source": [
    "ttest_ind(df['mean_honesty_rating'][df['high_col_congruency_alpha'] == 1], df['mean_honesty_rating'][df['high_col_congruency_alpha'] == 0])"
   ]
  },
  {
   "cell_type": "code",
   "execution_count": 37,
   "metadata": {},
   "outputs": [
    {
     "data": {
      "text/plain": [
       "Ttest_indResult(statistic=0.41518049238017685, pvalue=0.6790810792580704)"
      ]
     },
     "execution_count": 37,
     "metadata": {},
     "output_type": "execute_result"
    }
   ],
   "source": [
    "ttest_ind(df['aq'][df['high_prior'] == 1], df['aq'][df['high_prior'] == 0])"
   ]
  },
  {
   "cell_type": "code",
   "execution_count": 38,
   "metadata": {},
   "outputs": [
    {
     "data": {
      "text/plain": [
       "Ttest_indResult(statistic=-3.16014067823222, pvalue=0.0022010496410649026)"
      ]
     },
     "execution_count": 38,
     "metadata": {},
     "output_type": "execute_result"
    }
   ],
   "source": [
    "ttest_ind(df['crt'][df['high_prior'] == 1], df['crt'][df['high_prior'] == 0])"
   ]
  },
  {
   "cell_type": "code",
   "execution_count": 39,
   "metadata": {},
   "outputs": [
    {
     "data": {
      "text/plain": [
       "Ttest_indResult(statistic=-1.0429274670834938, pvalue=0.3000100967730214)"
      ]
     },
     "execution_count": 39,
     "metadata": {},
     "output_type": "execute_result"
    }
   ],
   "source": [
    "ttest_ind(df['rgpts'][df['high_prior'] == 1].notna(), df['rgpts'][df['high_prior'] == 0].notna())"
   ]
  },
  {
   "cell_type": "code",
   "execution_count": 40,
   "metadata": {},
   "outputs": [
    {
     "data": {
      "text/plain": [
       "Ttest_indResult(statistic=-2.137069444635568, pvalue=0.035535438860104684)"
      ]
     },
     "execution_count": 40,
     "metadata": {},
     "output_type": "execute_result"
    }
   ],
   "source": [
    "ttest_ind(df['age'][df['high_prior'] == 1], df['age'][df['high_prior'] == 0])"
   ]
  },
  {
   "cell_type": "code",
   "execution_count": 41,
   "metadata": {},
   "outputs": [
    {
     "data": {
      "text/plain": [
       "Ttest_indResult(statistic=1.5254989383209512, pvalue=0.13093635168197273)"
      ]
     },
     "execution_count": 41,
     "metadata": {},
     "output_type": "execute_result"
    }
   ],
   "source": [
    "ttest_ind(df['crt'][df['high_alpha'] == 1], df['crt'][df['high_alpha'] == 0])"
   ]
  },
  {
   "cell_type": "code",
   "execution_count": 42,
   "metadata": {},
   "outputs": [
    {
     "data": {
      "text/plain": [
       "Ttest_indResult(statistic=0.16386014258887194, pvalue=0.8702396041233884)"
      ]
     },
     "execution_count": 42,
     "metadata": {},
     "output_type": "execute_result"
    }
   ],
   "source": [
    "ttest_ind(df['aq'][df['high_alpha'] == 1], df['aq'][df['high_alpha'] == 0])"
   ]
  },
  {
   "cell_type": "code",
   "execution_count": 43,
   "metadata": {},
   "outputs": [
    {
     "data": {
      "text/plain": [
       "Ttest_indResult(statistic=0.28294669829172736, pvalue=0.7779221698752179)"
      ]
     },
     "execution_count": 43,
     "metadata": {},
     "output_type": "execute_result"
    }
   ],
   "source": [
    "ttest_ind(df['eq'][df['high_alpha'] == 1], df['eq'][df['high_alpha'] == 0])"
   ]
  },
  {
   "cell_type": "code",
   "execution_count": 44,
   "metadata": {},
   "outputs": [
    {
     "data": {
      "text/plain": [
       "Ttest_indResult(statistic=0.00948596868430856, pvalue=0.9924541690374475)"
      ]
     },
     "execution_count": 44,
     "metadata": {},
     "output_type": "execute_result"
    }
   ],
   "source": [
    "ttest_ind(df['eq'][df['high_col_congruency_alpha'] == 1], df['eq'][df['high_col_congruency_alpha'] == 0])"
   ]
  },
  {
   "cell_type": "code",
   "execution_count": 45,
   "metadata": {},
   "outputs": [
    {
     "data": {
      "text/plain": [
       "Ttest_indResult(statistic=-0.9737485090804819, pvalue=0.3330108230902471)"
      ]
     },
     "execution_count": 45,
     "metadata": {},
     "output_type": "execute_result"
    }
   ],
   "source": [
    "ttest_ind(df['gender'][df['high_col_congruency_alpha'] == 1], df['gender'][df['high_col_congruency_alpha'] == 0])"
   ]
  },
  {
   "cell_type": "code",
   "execution_count": 46,
   "metadata": {},
   "outputs": [
    {
     "data": {
      "text/plain": [
       "Ttest_indResult(statistic=0.8429256686321575, pvalue=0.4016925939676368)"
      ]
     },
     "execution_count": 46,
     "metadata": {},
     "output_type": "execute_result"
    }
   ],
   "source": [
    "ttest_ind(df['crt'][df['high_col_congruency_alpha'] == 1], df['crt'][df['high_col_congruency_alpha'] == 0])"
   ]
  },
  {
   "cell_type": "code",
   "execution_count": 49,
   "metadata": {},
   "outputs": [],
   "source": [
    "from scipy.stats import pearsonr"
   ]
  },
  {
   "cell_type": "code",
   "execution_count": 50,
   "metadata": {},
   "outputs": [
    {
     "data": {
      "text/plain": [
       "(0.27072272266173936, 0.012211625273245074)"
      ]
     },
     "execution_count": 50,
     "metadata": {},
     "output_type": "execute_result"
    }
   ],
   "source": [
    "pearsonr(df['crt'], df['signed_ev_alpha'])"
   ]
  },
  {
   "cell_type": "code",
   "execution_count": 51,
   "metadata": {},
   "outputs": [
    {
     "data": {
      "text/plain": [
       "(-0.18781698082513004, 0.08519592606696781)"
      ]
     },
     "execution_count": 51,
     "metadata": {},
     "output_type": "execute_result"
    }
   ],
   "source": [
    "pearsonr(df['crt'], df['signed_ev_prior'])"
   ]
  },
  {
   "cell_type": "code",
   "execution_count": 52,
   "metadata": {},
   "outputs": [
    {
     "data": {
      "text/plain": [
       "(-0.021718561005154655, 0.843597685322344)"
      ]
     },
     "execution_count": 52,
     "metadata": {},
     "output_type": "execute_result"
    }
   ],
   "source": [
    "pearsonr(df['crt'], df['col_congruency_alpha'])"
   ]
  },
  {
   "cell_type": "code",
   "execution_count": 53,
   "metadata": {},
   "outputs": [
    {
     "data": {
      "text/plain": [
       "(0.0905653232810778, 0.40976686012670555)"
      ]
     },
     "execution_count": 53,
     "metadata": {},
     "output_type": "execute_result"
    }
   ],
   "source": [
    "pearsonr(df['crt'], df['age'])"
   ]
  },
  {
   "cell_type": "code",
   "execution_count": 54,
   "metadata": {},
   "outputs": [
    {
     "data": {
      "text/plain": [
       "(-0.26349341195251047, 0.014828341211807136)"
      ]
     },
     "execution_count": 54,
     "metadata": {},
     "output_type": "execute_result"
    }
   ],
   "source": [
    "pearsonr(df['crt'], df['gender'])"
   ]
  },
  {
   "cell_type": "code",
   "execution_count": 57,
   "metadata": {},
   "outputs": [
    {
     "data": {
      "text/plain": [
       "(0.06884873065596202, 0.5312499278117667)"
      ]
     },
     "execution_count": 57,
     "metadata": {},
     "output_type": "execute_result"
    }
   ],
   "source": [
    "pearsonr(df['crt'], df['ed_lev'])"
   ]
  },
  {
   "cell_type": "code",
   "execution_count": 58,
   "metadata": {},
   "outputs": [
    {
     "data": {
      "text/plain": [
       "(-0.09087597376106686, 0.4081559066876236)"
      ]
     },
     "execution_count": 58,
     "metadata": {},
     "output_type": "execute_result"
    }
   ],
   "source": [
    "pearsonr(df['crt'], df['lie_detect_accuracy'])"
   ]
  },
  {
   "cell_type": "code",
   "execution_count": 59,
   "metadata": {},
   "outputs": [
    {
     "data": {
      "text/plain": [
       "(0.15686721462619813, 0.15165119618045977)"
      ]
     },
     "execution_count": 59,
     "metadata": {},
     "output_type": "execute_result"
    }
   ],
   "source": [
    "pearsonr(df['crt'], df['lie_detect_precision'])"
   ]
  },
  {
   "cell_type": "code",
   "execution_count": 68,
   "metadata": {},
   "outputs": [
    {
     "data": {
      "text/plain": [
       "(0.01371728651778143, 0.9008398691747077)"
      ]
     },
     "execution_count": 68,
     "metadata": {},
     "output_type": "execute_result"
    }
   ],
   "source": [
    "pearsonr(df['crt'], df['lie_prop'])"
   ]
  },
  {
   "cell_type": "code",
   "execution_count": 60,
   "metadata": {},
   "outputs": [
    {
     "data": {
      "text/plain": [
       "(0.03248221522205378, 0.7679060112522306)"
      ]
     },
     "execution_count": 60,
     "metadata": {},
     "output_type": "execute_result"
    }
   ],
   "source": [
    "pearsonr(df['eq'], df['signed_ev_alpha'])"
   ]
  },
  {
   "cell_type": "code",
   "execution_count": 61,
   "metadata": {},
   "outputs": [
    {
     "data": {
      "text/plain": [
       "(-0.05079299996265569, 0.6443302866982781)"
      ]
     },
     "execution_count": 61,
     "metadata": {},
     "output_type": "execute_result"
    }
   ],
   "source": [
    "pearsonr(df['eq'], df['signed_ev_prior'])"
   ]
  },
  {
   "cell_type": "code",
   "execution_count": 62,
   "metadata": {},
   "outputs": [
    {
     "data": {
      "text/plain": [
       "(0.15925799571440338, 0.14543250417271902)"
      ]
     },
     "execution_count": 62,
     "metadata": {},
     "output_type": "execute_result"
    }
   ],
   "source": [
    "pearsonr(df['eq'], df['col_congruency_alpha'])"
   ]
  },
  {
   "cell_type": "code",
   "execution_count": 63,
   "metadata": {},
   "outputs": [
    {
     "data": {
      "text/plain": [
       "(-0.04637405177977972, 0.6734308470155519)"
      ]
     },
     "execution_count": 63,
     "metadata": {},
     "output_type": "execute_result"
    }
   ],
   "source": [
    "pearsonr(df['eq'], df['age'])"
   ]
  },
  {
   "cell_type": "code",
   "execution_count": 64,
   "metadata": {},
   "outputs": [
    {
     "data": {
      "text/plain": [
       "(0.1755732810860965, 0.10799947713809903)"
      ]
     },
     "execution_count": 64,
     "metadata": {},
     "output_type": "execute_result"
    }
   ],
   "source": [
    "pearsonr(df['eq'], df['gender'])"
   ]
  },
  {
   "cell_type": "code",
   "execution_count": 65,
   "metadata": {},
   "outputs": [
    {
     "data": {
      "text/plain": [
       "(-0.0465121502750464, 0.6725138237968786)"
      ]
     },
     "execution_count": 65,
     "metadata": {},
     "output_type": "execute_result"
    }
   ],
   "source": [
    "pearsonr(df['eq'], df['ed_lev'])"
   ]
  },
  {
   "cell_type": "code",
   "execution_count": 66,
   "metadata": {},
   "outputs": [
    {
     "data": {
      "text/plain": [
       "(0.02652180890850029, 0.8096009022475452)"
      ]
     },
     "execution_count": 66,
     "metadata": {},
     "output_type": "execute_result"
    }
   ],
   "source": [
    "pearsonr(df['eq'], df['lie_detect_accuracy'])"
   ]
  },
  {
   "cell_type": "code",
   "execution_count": 67,
   "metadata": {},
   "outputs": [
    {
     "data": {
      "text/plain": [
       "(-0.054162003028778896, 0.6224952145537076)"
      ]
     },
     "execution_count": 67,
     "metadata": {},
     "output_type": "execute_result"
    }
   ],
   "source": [
    "pearsonr(df['eq'], df['lie_detect_precision'])"
   ]
  },
  {
   "cell_type": "code",
   "execution_count": 69,
   "metadata": {},
   "outputs": [
    {
     "data": {
      "text/plain": [
       "(-0.16899601225668295, 0.12207063165046679)"
      ]
     },
     "execution_count": 69,
     "metadata": {},
     "output_type": "execute_result"
    }
   ],
   "source": [
    "pearsonr(df['eq'], df['lie_prop'])"
   ]
  },
  {
   "cell_type": "code",
   "execution_count": null,
   "metadata": {},
   "outputs": [],
   "source": []
  },
  {
   "cell_type": "code",
   "execution_count": 72,
   "metadata": {},
   "outputs": [
    {
     "data": {
      "text/plain": [
       "(-0.034893335703994416, 0.7512178012186946)"
      ]
     },
     "execution_count": 72,
     "metadata": {},
     "output_type": "execute_result"
    }
   ],
   "source": [
    "pearsonr(df['aq'], df['signed_ev_alpha'])"
   ]
  },
  {
   "cell_type": "code",
   "execution_count": 73,
   "metadata": {},
   "outputs": [
    {
     "data": {
      "text/plain": [
       "(0.11197364491708947, 0.3075987380532877)"
      ]
     },
     "execution_count": 73,
     "metadata": {},
     "output_type": "execute_result"
    }
   ],
   "source": [
    "pearsonr(df['aq'], df['signed_ev_prior'])"
   ]
  },
  {
   "cell_type": "code",
   "execution_count": 74,
   "metadata": {},
   "outputs": [
    {
     "data": {
      "text/plain": [
       "(-0.12013348828963853, 0.27345149899422366)"
      ]
     },
     "execution_count": 74,
     "metadata": {},
     "output_type": "execute_result"
    }
   ],
   "source": [
    "pearsonr(df['aq'], df['col_congruency_alpha'])"
   ]
  },
  {
   "cell_type": "code",
   "execution_count": 75,
   "metadata": {},
   "outputs": [
    {
     "data": {
      "text/plain": [
       "(-0.25559416773170374, 0.018229134059191247)"
      ]
     },
     "execution_count": 75,
     "metadata": {},
     "output_type": "execute_result"
    }
   ],
   "source": [
    "pearsonr(df['aq'], df['age'])"
   ]
  },
  {
   "cell_type": "code",
   "execution_count": 76,
   "metadata": {},
   "outputs": [
    {
     "data": {
      "text/plain": [
       "(0.008191870867270627, 0.9406855086465389)"
      ]
     },
     "execution_count": 76,
     "metadata": {},
     "output_type": "execute_result"
    }
   ],
   "source": [
    "pearsonr(df['aq'], df['gender'])"
   ]
  },
  {
   "cell_type": "code",
   "execution_count": 77,
   "metadata": {},
   "outputs": [
    {
     "data": {
      "text/plain": [
       "(-0.15595468895805642, 0.15407648833671836)"
      ]
     },
     "execution_count": 77,
     "metadata": {},
     "output_type": "execute_result"
    }
   ],
   "source": [
    "pearsonr(df['aq'], df['ed_lev'])"
   ]
  },
  {
   "cell_type": "code",
   "execution_count": 78,
   "metadata": {},
   "outputs": [
    {
     "data": {
      "text/plain": [
       "(-0.046536243486047, 0.6723538852310438)"
      ]
     },
     "execution_count": 78,
     "metadata": {},
     "output_type": "execute_result"
    }
   ],
   "source": [
    "pearsonr(df['aq'], df['lie_detect_accuracy'])"
   ]
  },
  {
   "cell_type": "code",
   "execution_count": 79,
   "metadata": {},
   "outputs": [
    {
     "data": {
      "text/plain": [
       "(0.11427754581429246, 0.2976883703966047)"
      ]
     },
     "execution_count": 79,
     "metadata": {},
     "output_type": "execute_result"
    }
   ],
   "source": [
    "pearsonr(df['aq'], df['lie_detect_precision'])"
   ]
  },
  {
   "cell_type": "code",
   "execution_count": 80,
   "metadata": {},
   "outputs": [
    {
     "data": {
      "text/plain": [
       "(0.006700922293628907, 0.9514664114551934)"
      ]
     },
     "execution_count": 80,
     "metadata": {},
     "output_type": "execute_result"
    }
   ],
   "source": [
    "pearsonr(df['aq'], df['lie_prop'])"
   ]
  },
  {
   "cell_type": "code",
   "execution_count": null,
   "metadata": {},
   "outputs": [],
   "source": []
  },
  {
   "cell_type": "code",
   "execution_count": 81,
   "metadata": {},
   "outputs": [
    {
     "data": {
      "text/plain": [
       "(-0.14210753544968002, 0.19450624463356622)"
      ]
     },
     "execution_count": 81,
     "metadata": {},
     "output_type": "execute_result"
    }
   ],
   "source": [
    "pearsonr(df['mean_honesty_rating'], df['signed_ev_alpha'])"
   ]
  },
  {
   "cell_type": "code",
   "execution_count": 82,
   "metadata": {},
   "outputs": [
    {
     "data": {
      "text/plain": [
       "(-0.485029556467969, 2.5468827756887953e-06)"
      ]
     },
     "execution_count": 82,
     "metadata": {},
     "output_type": "execute_result"
    }
   ],
   "source": [
    "pearsonr(df['mean_honesty_rating'], df['signed_ev_prior'])"
   ]
  },
  {
   "cell_type": "code",
   "execution_count": 83,
   "metadata": {},
   "outputs": [
    {
     "data": {
      "text/plain": [
       "(-0.07975252699796065, 0.4681134694945836)"
      ]
     },
     "execution_count": 83,
     "metadata": {},
     "output_type": "execute_result"
    }
   ],
   "source": [
    "pearsonr(df['mean_honesty_rating'], df['col_congruency_alpha'])"
   ]
  },
  {
   "cell_type": "code",
   "execution_count": 84,
   "metadata": {},
   "outputs": [
    {
     "data": {
      "text/plain": [
       "(0.2126809479177371, 0.05067655774864207)"
      ]
     },
     "execution_count": 84,
     "metadata": {},
     "output_type": "execute_result"
    }
   ],
   "source": [
    "pearsonr(df['mean_honesty_rating'], df['age'])"
   ]
  },
  {
   "cell_type": "code",
   "execution_count": 85,
   "metadata": {},
   "outputs": [
    {
     "data": {
      "text/plain": [
       "(0.19396669791764495, 0.07528222186789564)"
      ]
     },
     "execution_count": 85,
     "metadata": {},
     "output_type": "execute_result"
    }
   ],
   "source": [
    "pearsonr(df['mean_honesty_rating'], df['gender'])"
   ]
  },
  {
   "cell_type": "code",
   "execution_count": 86,
   "metadata": {},
   "outputs": [
    {
     "data": {
      "text/plain": [
       "(-0.00302573328090084, 0.9780745764243761)"
      ]
     },
     "execution_count": 86,
     "metadata": {},
     "output_type": "execute_result"
    }
   ],
   "source": [
    "pearsonr(df['mean_honesty_rating'], df['ed_lev'])"
   ]
  },
  {
   "cell_type": "code",
   "execution_count": 87,
   "metadata": {},
   "outputs": [
    {
     "data": {
      "text/plain": [
       "(0.667702795922596, 2.9624575063534386e-12)"
      ]
     },
     "execution_count": 87,
     "metadata": {},
     "output_type": "execute_result"
    }
   ],
   "source": [
    "pearsonr(df['mean_honesty_rating'], df['lie_detect_accuracy'])"
   ]
  },
  {
   "cell_type": "code",
   "execution_count": 88,
   "metadata": {},
   "outputs": [
    {
     "data": {
      "text/plain": [
       "(0.23995827008355064, 0.0269683832421646)"
      ]
     },
     "execution_count": 88,
     "metadata": {},
     "output_type": "execute_result"
    }
   ],
   "source": [
    "pearsonr(df['mean_honesty_rating'], df['lie_detect_precision'])"
   ]
  },
  {
   "cell_type": "code",
   "execution_count": 89,
   "metadata": {},
   "outputs": [
    {
     "data": {
      "text/plain": [
       "(-0.17317050715291837, 0.11298598594088721)"
      ]
     },
     "execution_count": 89,
     "metadata": {},
     "output_type": "execute_result"
    }
   ],
   "source": [
    "pearsonr(df['mean_honesty_rating'], df['lie_prop'])"
   ]
  },
  {
   "cell_type": "code",
   "execution_count": null,
   "metadata": {},
   "outputs": [],
   "source": []
  },
  {
   "cell_type": "code",
   "execution_count": 90,
   "metadata": {},
   "outputs": [
    {
     "data": {
      "text/plain": [
       "(0.16955944397801934, 0.1208127465060942)"
      ]
     },
     "execution_count": 90,
     "metadata": {},
     "output_type": "execute_result"
    }
   ],
   "source": [
    "pearsonr(df['lie_prop'], df['signed_ev_alpha'])"
   ]
  },
  {
   "cell_type": "code",
   "execution_count": 91,
   "metadata": {},
   "outputs": [
    {
     "data": {
      "text/plain": [
       "(-0.038188482798904216, 0.7285958282272061)"
      ]
     },
     "execution_count": 91,
     "metadata": {},
     "output_type": "execute_result"
    }
   ],
   "source": [
    "pearsonr(df['lie_prop'], df['signed_ev_prior'])"
   ]
  },
  {
   "cell_type": "code",
   "execution_count": 92,
   "metadata": {},
   "outputs": [
    {
     "data": {
      "text/plain": [
       "(0.035621745860813556, 0.7461982138153932)"
      ]
     },
     "execution_count": 92,
     "metadata": {},
     "output_type": "execute_result"
    }
   ],
   "source": [
    "pearsonr(df['lie_prop'], df['col_congruency_alpha'])"
   ]
  },
  {
   "cell_type": "code",
   "execution_count": 93,
   "metadata": {},
   "outputs": [
    {
     "data": {
      "text/plain": [
       "(0.11386811818759582, 0.29943406441514053)"
      ]
     },
     "execution_count": 93,
     "metadata": {},
     "output_type": "execute_result"
    }
   ],
   "source": [
    "pearsonr(df['lie_prop'], df['age'])"
   ]
  },
  {
   "cell_type": "code",
   "execution_count": 94,
   "metadata": {},
   "outputs": [
    {
     "data": {
      "text/plain": [
       "(-0.2260855369446349, 0.03747379822954507)"
      ]
     },
     "execution_count": 94,
     "metadata": {},
     "output_type": "execute_result"
    }
   ],
   "source": [
    "pearsonr(df['lie_prop'], df['gender'])"
   ]
  },
  {
   "cell_type": "code",
   "execution_count": 95,
   "metadata": {},
   "outputs": [
    {
     "data": {
      "text/plain": [
       "(0.1576748327551374, 0.14952863697318225)"
      ]
     },
     "execution_count": 95,
     "metadata": {},
     "output_type": "execute_result"
    }
   ],
   "source": [
    "pearsonr(df['lie_prop'], df['ed_lev'])"
   ]
  },
  {
   "cell_type": "code",
   "execution_count": 96,
   "metadata": {},
   "outputs": [
    {
     "data": {
      "text/plain": [
       "(-0.28009706824852265, 0.009422718166601252)"
      ]
     },
     "execution_count": 96,
     "metadata": {},
     "output_type": "execute_result"
    }
   ],
   "source": [
    "pearsonr(df['lie_prop'], df['lie_detect_accuracy'])"
   ]
  },
  {
   "cell_type": "code",
   "execution_count": 97,
   "metadata": {},
   "outputs": [
    {
     "data": {
      "text/plain": [
       "(-0.15539961866998672, 0.15556583135848684)"
      ]
     },
     "execution_count": 97,
     "metadata": {},
     "output_type": "execute_result"
    }
   ],
   "source": [
    "pearsonr(df['lie_prop'], df['lie_detect_precision'])"
   ]
  },
  {
   "cell_type": "code",
   "execution_count": null,
   "metadata": {},
   "outputs": [],
   "source": []
  },
  {
   "cell_type": "code",
   "execution_count": 100,
   "metadata": {},
   "outputs": [],
   "source": [
    "tmp = df.dropna()"
   ]
  },
  {
   "cell_type": "code",
   "execution_count": 102,
   "metadata": {},
   "outputs": [
    {
     "data": {
      "text/plain": [
       "(0.02043281355155123, 0.8563236635572647)"
      ]
     },
     "execution_count": 102,
     "metadata": {},
     "output_type": "execute_result"
    }
   ],
   "source": [
    "pearsonr(tmp['rgpts'], tmp['signed_ev_alpha'])"
   ]
  },
  {
   "cell_type": "code",
   "execution_count": 103,
   "metadata": {},
   "outputs": [
    {
     "data": {
      "text/plain": [
       "(0.155607748750594, 0.16539043531338093)"
      ]
     },
     "execution_count": 103,
     "metadata": {},
     "output_type": "execute_result"
    }
   ],
   "source": [
    "pearsonr(tmp['rgpts'], tmp['signed_ev_prior'])"
   ]
  },
  {
   "cell_type": "code",
   "execution_count": 104,
   "metadata": {},
   "outputs": [
    {
     "data": {
      "text/plain": [
       "(-0.05053035568070325, 0.6541596088712202)"
      ]
     },
     "execution_count": 104,
     "metadata": {},
     "output_type": "execute_result"
    }
   ],
   "source": [
    "pearsonr(tmp['rgpts'], tmp['col_congruency_alpha'])"
   ]
  },
  {
   "cell_type": "code",
   "execution_count": 105,
   "metadata": {},
   "outputs": [
    {
     "data": {
      "text/plain": [
       "(0.0029957294841294535, 0.978824587858383)"
      ]
     },
     "execution_count": 105,
     "metadata": {},
     "output_type": "execute_result"
    }
   ],
   "source": [
    "pearsonr(tmp['rgpts'], tmp['lie_prop'])"
   ]
  },
  {
   "cell_type": "code",
   "execution_count": 106,
   "metadata": {},
   "outputs": [
    {
     "data": {
      "text/plain": [
       "(0.0005408510350955005, 0.9961765507583759)"
      ]
     },
     "execution_count": 106,
     "metadata": {},
     "output_type": "execute_result"
    }
   ],
   "source": [
    "pearsonr(tmp['rgpts'], tmp['lie_detect_accuracy'])"
   ]
  },
  {
   "cell_type": "code",
   "execution_count": 107,
   "metadata": {},
   "outputs": [
    {
     "data": {
      "text/plain": [
       "(-0.1291643056729343, 0.25046024906670794)"
      ]
     },
     "execution_count": 107,
     "metadata": {},
     "output_type": "execute_result"
    }
   ],
   "source": [
    "pearsonr(tmp['rgpts'], tmp['lie_detect_precision'])"
   ]
  },
  {
   "cell_type": "code",
   "execution_count": 108,
   "metadata": {},
   "outputs": [
    {
     "data": {
      "text/plain": [
       "(0.17804309386202274, 0.11178611394773154)"
      ]
     },
     "execution_count": 108,
     "metadata": {},
     "output_type": "execute_result"
    }
   ],
   "source": [
    "pearsonr(tmp['rgpts'], tmp['lie_detect_recall'])"
   ]
  },
  {
   "cell_type": "code",
   "execution_count": 109,
   "metadata": {},
   "outputs": [
    {
     "data": {
      "text/plain": [
       "(0.07029412616223087, 0.5328994293663265)"
      ]
     },
     "execution_count": 109,
     "metadata": {},
     "output_type": "execute_result"
    }
   ],
   "source": [
    "pearsonr(tmp['rgpts'], tmp['gender'])"
   ]
  },
  {
   "cell_type": "code",
   "execution_count": 110,
   "metadata": {},
   "outputs": [
    {
     "data": {
      "text/plain": [
       "(-0.39426048196913316, 0.00027064821924026083)"
      ]
     },
     "execution_count": 110,
     "metadata": {},
     "output_type": "execute_result"
    }
   ],
   "source": [
    "pearsonr(tmp['rgpts'], tmp['age'])"
   ]
  },
  {
   "cell_type": "code",
   "execution_count": 111,
   "metadata": {},
   "outputs": [
    {
     "data": {
      "text/plain": [
       "(-0.13159350666266018, 0.24158504248631776)"
      ]
     },
     "execution_count": 111,
     "metadata": {},
     "output_type": "execute_result"
    }
   ],
   "source": [
    "pearsonr(tmp['rgpts'], tmp['ed_lev'])"
   ]
  },
  {
   "cell_type": "code",
   "execution_count": null,
   "metadata": {},
   "outputs": [],
   "source": []
  }
 ],
 "metadata": {
  "kernelspec": {
   "display_name": "Python 3",
   "language": "python",
   "name": "python3"
  },
  "language_info": {
   "codemirror_mode": {
    "name": "ipython",
    "version": 3
   },
   "file_extension": ".py",
   "mimetype": "text/x-python",
   "name": "python",
   "nbconvert_exporter": "python",
   "pygments_lexer": "ipython3",
   "version": "3.8.5"
  }
 },
 "nbformat": 4,
 "nbformat_minor": 4
}
