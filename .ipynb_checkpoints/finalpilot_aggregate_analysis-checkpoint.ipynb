{
 "cells": [
  {
   "cell_type": "code",
   "execution_count": null,
   "metadata": {},
   "outputs": [],
   "source": [
    "import numpy as np\n",
    "import json\n",
    "import pandas as pd\n",
    "import matplotlib as plt\n",
    "import seaborn as sns\n",
    "\n",
    "from itertools import product\n",
    "from collections import Counter"
   ]
  },
  {
   "cell_type": "code",
   "execution_count": null,
   "metadata": {},
   "outputs": [],
   "source": [
    "from scripts.data_processing import GameResponses, Demographics"
   ]
  },
  {
   "cell_type": "code",
   "execution_count": null,
   "metadata": {},
   "outputs": [],
   "source": [
    "import firebase_admin\n",
    "from firebase_admin import credentials\n",
    "from firebase_admin import firestore\n",
    "\n",
    "# Use a service account\n",
    "cred = credentials.Certificate('E:/Behavioural cybersecurity/project-notes/cards-dd-game-61b9b7f26a6e.json')\n",
    "firebase_admin.initialize_app(cred)\n",
    "\n",
    "db = firestore.client()\n",
    "\n",
    "subjects_ref = db.collection(u'subjects')"
   ]
  },
  {
   "cell_type": "code",
   "execution_count": 4,
   "metadata": {},
   "outputs": [],
   "source": [
    "# ########### TMP ###############\n",
    "# uuids = [\n",
    "#     '6108512871ec370e525ef4f0', # 32\n",
    "# '611e717148e6b271f0b70d6f', # 31\n",
    "# '5f415bea2ba0682e7fc98fbf', # 31\n",
    "# '611e6e0371738becff3551d8', # 22\n",
    "# '6112b4cdd72db936075c0db8', # 21\n",
    "# '611e4e160f41977f737035ef', # 21\n",
    "# '60ff0201788cef38c8695833', # 12\n",
    "# '6115e7dcd6cecc981dde3ed6', # 12\n",
    "# '611e28b12a630ff00cc467a8' # 11\n",
    "# ]"
   ]
  },
  {
   "cell_type": "code",
   "execution_count": 69,
   "metadata": {},
   "outputs": [],
   "source": [
    "# uuids = [ # corrected same players condition\n",
    "#     '54b9acd9fdf99b34ce2578f9',\n",
    "#     '61017dbbf8b1afba48b7822e',\n",
    "#     '6116aa4d3c4d9eae26b66171',\n",
    "#     '6109b8238588407db4764ec1',\n",
    "#     '611841738f4e8342f5ba3765',\n",
    "#     '6108649840bf2b927ef3905c',\n",
    "#     '5f4f8e8f9213e9056223e128',\n",
    "#     '613290e8a4520dd8d0cc061a',\n",
    "#     '61217de916b53da848302312',\n",
    "#     '61338d61ed3f2e3d196fa7c7'\n",
    "# ]\n",
    "\n",
    "uuids = [ # different players condition\n",
    "    '61005d2e9b8bac27eba5b984',\n",
    "'610995bd91de0e899effd73d',\n",
    "'599186630675b100014daddd',\n",
    "'6119884fd696463d717432c9',\n",
    "'610bb05be2e705f3e47e87fb',\n",
    "'610824959b488e57fa8a4a33',\n",
    "'60f0937892bd49086d6e2a77',\n",
    "'5cf656e90acc8f000147f643',\n",
    "'5fe292a28fd71dea34d04453',\n",
    "'5d341b57a48ae7000114152a'\n",
    "]"
   ]
  },
  {
   "cell_type": "code",
   "execution_count": null,
   "metadata": {},
   "outputs": [],
   "source": [
    "uuids = [\n",
    "    \"6110e7ae08023ecb9207b05e\",\n",
    "\"5fec7577ad8fbadf15cd5607\",\n",
    "\"615f1500b60d25e2660e8644\",\n",
    "\"615ec4f34cb81d7e58fa144c\",\n",
    "\"5cd5fe480f0de600018e7251\",\n",
    "\"60f44f7a57468d4e9f87fa5b\",\n",
    "\"6160011304f5319ece189bfa\",\n",
    "\"5af196e1e1b5b8000148ac76\",\n",
    "\"6154284fc5154abb9a264b0c\",\n",
    "\"6147d726fa94eb7d5c2de156\",\n",
    "\"6160403f5164508979e6358d\",\n",
    "\"56210effed6e5a000ac7f3a5\",\n",
    "\"6156ee007bdef87eb5b4aeb0\",\n",
    "\"61085b8ec672d0e88151d5ae\",\n",
    "    \"57313ba2070de6000f43384e\"\n",
    "]"
   ]
  },
  {
   "cell_type": "code",
   "execution_count": null,
   "metadata": {},
   "outputs": [],
   "source": [
    "len(uuids) == len(set(uuids))"
   ]
  },
  {
   "cell_type": "markdown",
   "metadata": {},
   "source": [
    "### inspect main game responses"
   ]
  },
  {
   "cell_type": "code",
   "execution_count": 20,
   "metadata": {},
   "outputs": [],
   "source": [
    "ttt = []\n",
    "\n",
    "for uuid in uuids:\n",
    "    ttt.append(subjects_ref.document(uuid).get())"
   ]
  },
  {
   "cell_type": "code",
   "execution_count": 21,
   "metadata": {},
   "outputs": [],
   "source": [
    "condition = {}\n",
    "\n",
    "for i, uuid in enumerate(uuids):\n",
    "    cond = ttt[i].to_dict()['condition']\n",
    "    condition[uuids[i]] = cond"
   ]
  },
  {
   "cell_type": "code",
   "execution_count": 22,
   "metadata": {},
   "outputs": [
    {
     "data": {
      "text/plain": [
       "{'6110e7ae08023ecb9207b05e': 't1',\n",
       " '5fec7577ad8fbadf15cd5607': 't3',\n",
       " '615f1500b60d25e2660e8644': 't5',\n",
       " '615ec4f34cb81d7e58fa144c': 't6',\n",
       " '5cd5fe480f0de600018e7251': 't7',\n",
       " '60f44f7a57468d4e9f87fa5b': 't8',\n",
       " '6160011304f5319ece189bfa': 't10',\n",
       " '5af196e1e1b5b8000148ac76': 't9',\n",
       " '6154284fc5154abb9a264b0c': 't2',\n",
       " '6147d726fa94eb7d5c2de156': 't4',\n",
       " '6160403f5164508979e6358d': 't11',\n",
       " '56210effed6e5a000ac7f3a5': 't13',\n",
       " '6156ee007bdef87eb5b4aeb0': 't14',\n",
       " '61085b8ec672d0e88151d5ae': 't15'}"
      ]
     },
     "execution_count": 22,
     "metadata": {},
     "output_type": "execute_result"
    }
   ],
   "source": [
    "condition"
   ]
  },
  {
   "cell_type": "code",
   "execution_count": 23,
   "metadata": {},
   "outputs": [],
   "source": [
    "# game task responses query reference\n",
    "refs_block1 = []\n",
    "\n",
    "for uuid in uuids:\n",
    "    refs_block1.append(subjects_ref.document(uuid).collection(u'responses').document('game_block1').get())"
   ]
  },
  {
   "cell_type": "code",
   "execution_count": 24,
   "metadata": {},
   "outputs": [],
   "source": [
    "# game task responses query reference\n",
    "refs_block2 = []\n",
    "\n",
    "for uuid in uuids:\n",
    "    refs_block2.append(subjects_ref.document(uuid).collection(u'responses').document('game_block2').get())"
   ]
  },
  {
   "cell_type": "code",
   "execution_count": 25,
   "metadata": {},
   "outputs": [],
   "source": [
    "# game task responses query reference\n",
    "refs_block3 = []\n",
    "\n",
    "for uuid in uuids:\n",
    "    refs_block3.append(subjects_ref.document(uuid).collection(u'responses').document('game_block3').get())"
   ]
  },
  {
   "cell_type": "code",
   "execution_count": 26,
   "metadata": {},
   "outputs": [],
   "source": [
    "# card values\n",
    "transdict = {'blue': 1, 'red': -1}"
   ]
  },
  {
   "cell_type": "markdown",
   "metadata": {},
   "source": [
    "### process main response data per user"
   ]
  },
  {
   "cell_type": "code",
   "execution_count": 27,
   "metadata": {},
   "outputs": [
    {
     "name": "stdout",
     "output_type": "stream",
     "text": [
      "0\n",
      "1\n",
      "2\n",
      "3\n",
      "4\n",
      "5\n",
      "6\n",
      "7\n",
      "8\n",
      "9\n",
      "10\n",
      "11\n",
      "12\n",
      "13\n"
     ]
    }
   ],
   "source": [
    "honesty_ratings = []\n",
    "RT_ratings = []\n",
    "\n",
    "rand_pick_col = []\n",
    "reported_col = []\n",
    "\n",
    "pp_lied = []\n",
    "\n",
    "n_red = []\n",
    "other_outcome = []\n",
    "\n",
    "trial_result = []\n",
    "\n",
    "catch_ratings = []\n",
    "\n",
    "for i in range(len(uuids)):\n",
    "    print(i)\n",
    "    block1_resp = GameResponses.from_dict(refs_block1[i].to_dict())\n",
    "    block2_resp = GameResponses.from_dict(refs_block2[i].to_dict())\n",
    "    block3_resp = GameResponses.from_dict(refs_block3[i].to_dict())\n",
    "    \n",
    "    i_catch = [int(numeric_string) for numeric_string in block1_resp.catchRating]\n",
    "    i_catch.extend([int(numeric_string) for numeric_string in block2_resp.catchRating])\n",
    "    i_catch.extend([int(numeric_string) for numeric_string in block3_resp.catchRating])\n",
    "    catch_ratings.append(i_catch)\n",
    "    \n",
    "    i_honesty_ratings = [int(numeric_string) for numeric_string in block1_resp.honestyRating]\n",
    "    i_honesty_ratings.extend([int(numeric_string) for numeric_string in block2_resp.honestyRating])\n",
    "    i_honesty_ratings.extend([int(numeric_string) for numeric_string in block3_resp.honestyRating])\n",
    "    honesty_ratings.append(i_honesty_ratings)\n",
    "    \n",
    "    i_pick = [transdict[x] for x in block1_resp.randomPickColour]\n",
    "    i_pick.extend([transdict[x] for x in block2_resp.randomPickColour])\n",
    "    i_pick.extend([transdict[x] for x in block3_resp.randomPickColour])\n",
    "    rand_pick_col.append(i_pick)\n",
    "    \n",
    "    i_report = [x for x in block1_resp.reportColour]\n",
    "    i_report.extend([x for x in block2_resp.reportColour])\n",
    "    i_report.extend([x for x in block3_resp.reportColour])\n",
    "    reported_col.append(i_report)\n",
    "    \n",
    "    i_nred = [x for x in block1_resp.nRed]\n",
    "    i_nred.extend([x for x in block2_resp.nRed])\n",
    "    i_nred.extend([x for x in block3_resp.nRed])\n",
    "    n_red.append(i_nred)\n",
    "    \n",
    "    i_outcome = [x for x in block1_resp.otherReport]\n",
    "    i_outcome.extend([x for x in block2_resp.otherReport])\n",
    "    i_outcome.extend([x for x in block3_resp.otherReport])\n",
    "    other_outcome.append(i_outcome)\n",
    "    \n",
    "    i_pplied = [x for x in block1_resp.ppLied]\n",
    "    i_pplied.extend([x for x in block2_resp.ppLied])\n",
    "    i_pplied.extend([x for x in block3_resp.ppLied])\n",
    "    pp_lied.append(i_pplied)\n",
    "    \n",
    "    i_RT_ratings = [int(numeric_string) for numeric_string in block1_resp.RThonesty]\n",
    "    i_RT_ratings.extend([int(numeric_string) for numeric_string in block2_resp.RThonesty])\n",
    "    i_RT_ratings.extend([int(numeric_string) for numeric_string in block3_resp.RThonesty])\n",
    "    RT_ratings.append(i_RT_ratings)\n",
    "    \n",
    "    i_win = [x for x in block1_resp.results]\n",
    "    i_win.extend([x for x in block2_resp.results])\n",
    "    i_win.extend([x for x in block3_resp.results])\n",
    "    trial_result.append(i_win)"
   ]
  },
  {
   "cell_type": "code",
   "execution_count": 28,
   "metadata": {},
   "outputs": [
    {
     "data": {
      "text/plain": [
       "[[4, 3, 0, 4, 3, 0, 4, 3, 0],\n",
       " [4, 3, 0, 4, 3, 0, 4, 3, 0],\n",
       " [4, 3, 0, 4, 3, 0, 4, 3, 0],\n",
       " [4, 3, 0, 3, 3, 0, 4, 3, 0],\n",
       " [4, 3, 0, 4, 3, 0, 4, 3, 0],\n",
       " [1, 1, 0, 1, 2, 3, 0, 3, 3],\n",
       " [4, 3, 1, 4, 3, 0, 4, 3, 0],\n",
       " [4, 3, 0, 4, 3, 0, 4, 3, 0],\n",
       " [1, 2, 4, 1, 2, 5, 1, 2, 5],\n",
       " [4, 3, 0, 4, 3, 4, 4, 3, 0],\n",
       " [4, 3, 2, 5, 3, 0, 2, 3, 0],\n",
       " [4, 3, 0, 4, 3, 0, 4, 3, 0],\n",
       " [4, 3, 0, 4, 3, 0, 4, 3, 0],\n",
       " [4, 3, 0, 4, 3, 0, 4, 3, 0]]"
      ]
     },
     "execution_count": 28,
     "metadata": {},
     "output_type": "execute_result"
    }
   ],
   "source": [
    "catch_ratings"
   ]
  },
  {
   "cell_type": "code",
   "execution_count": 29,
   "metadata": {},
   "outputs": [],
   "source": [
    "when_lied = {}\n",
    "\n",
    "for i, uuid in enumerate(uuids):\n",
    "    lies = [1 if x!=y else 0 for x, y in zip(rand_pick_col[i], reported_col[i])]\n",
    "    when_lied[uuid] = lies"
   ]
  },
  {
   "cell_type": "code",
   "execution_count": 30,
   "metadata": {},
   "outputs": [
    {
     "data": {
      "text/plain": [
       "{'6110e7ae08023ecb9207b05e': [0,\n",
       "  0,\n",
       "  0,\n",
       "  1,\n",
       "  0,\n",
       "  0,\n",
       "  0,\n",
       "  0,\n",
       "  0,\n",
       "  0,\n",
       "  0,\n",
       "  0,\n",
       "  0,\n",
       "  0,\n",
       "  0,\n",
       "  0,\n",
       "  0,\n",
       "  0,\n",
       "  0,\n",
       "  0,\n",
       "  0,\n",
       "  0,\n",
       "  0,\n",
       "  0,\n",
       "  0,\n",
       "  0,\n",
       "  1,\n",
       "  0,\n",
       "  0,\n",
       "  0,\n",
       "  0,\n",
       "  0,\n",
       "  0,\n",
       "  0,\n",
       "  0,\n",
       "  0,\n",
       "  0,\n",
       "  0,\n",
       "  0,\n",
       "  0,\n",
       "  0,\n",
       "  0,\n",
       "  0,\n",
       "  0,\n",
       "  0,\n",
       "  0,\n",
       "  0,\n",
       "  0,\n",
       "  0,\n",
       "  0,\n",
       "  0,\n",
       "  0,\n",
       "  0,\n",
       "  0,\n",
       "  0,\n",
       "  0,\n",
       "  0,\n",
       "  0,\n",
       "  0,\n",
       "  0,\n",
       "  0,\n",
       "  0,\n",
       "  0,\n",
       "  0,\n",
       "  0,\n",
       "  0,\n",
       "  0,\n",
       "  0,\n",
       "  0,\n",
       "  0,\n",
       "  0,\n",
       "  0,\n",
       "  0,\n",
       "  0,\n",
       "  0,\n",
       "  0,\n",
       "  0,\n",
       "  0,\n",
       "  0,\n",
       "  0,\n",
       "  0,\n",
       "  0,\n",
       "  0,\n",
       "  0,\n",
       "  0,\n",
       "  0,\n",
       "  0,\n",
       "  0,\n",
       "  0,\n",
       "  0],\n",
       " '5fec7577ad8fbadf15cd5607': [1,\n",
       "  0,\n",
       "  1,\n",
       "  0,\n",
       "  1,\n",
       "  0,\n",
       "  0,\n",
       "  1,\n",
       "  1,\n",
       "  1,\n",
       "  0,\n",
       "  0,\n",
       "  0,\n",
       "  0,\n",
       "  0,\n",
       "  0,\n",
       "  1,\n",
       "  0,\n",
       "  0,\n",
       "  0,\n",
       "  0,\n",
       "  0,\n",
       "  0,\n",
       "  0,\n",
       "  0,\n",
       "  0,\n",
       "  0,\n",
       "  0,\n",
       "  0,\n",
       "  0,\n",
       "  1,\n",
       "  0,\n",
       "  0,\n",
       "  0,\n",
       "  0,\n",
       "  0,\n",
       "  1,\n",
       "  0,\n",
       "  0,\n",
       "  0,\n",
       "  1,\n",
       "  1,\n",
       "  1,\n",
       "  0,\n",
       "  0,\n",
       "  0,\n",
       "  0,\n",
       "  1,\n",
       "  0,\n",
       "  0,\n",
       "  0,\n",
       "  0,\n",
       "  1,\n",
       "  0,\n",
       "  0,\n",
       "  0,\n",
       "  0,\n",
       "  0,\n",
       "  1,\n",
       "  1,\n",
       "  0,\n",
       "  0,\n",
       "  0,\n",
       "  0,\n",
       "  0,\n",
       "  1,\n",
       "  0,\n",
       "  0,\n",
       "  0,\n",
       "  0,\n",
       "  1,\n",
       "  0,\n",
       "  0,\n",
       "  0,\n",
       "  0,\n",
       "  1,\n",
       "  0,\n",
       "  1,\n",
       "  0,\n",
       "  1,\n",
       "  0,\n",
       "  0,\n",
       "  0,\n",
       "  0,\n",
       "  0,\n",
       "  0,\n",
       "  0,\n",
       "  0,\n",
       "  0,\n",
       "  0],\n",
       " '615f1500b60d25e2660e8644': [0,\n",
       "  0,\n",
       "  0,\n",
       "  0,\n",
       "  1,\n",
       "  1,\n",
       "  0,\n",
       "  1,\n",
       "  0,\n",
       "  0,\n",
       "  0,\n",
       "  0,\n",
       "  0,\n",
       "  0,\n",
       "  0,\n",
       "  0,\n",
       "  0,\n",
       "  0,\n",
       "  0,\n",
       "  0,\n",
       "  0,\n",
       "  0,\n",
       "  0,\n",
       "  0,\n",
       "  0,\n",
       "  0,\n",
       "  1,\n",
       "  0,\n",
       "  0,\n",
       "  0,\n",
       "  0,\n",
       "  0,\n",
       "  1,\n",
       "  0,\n",
       "  0,\n",
       "  0,\n",
       "  0,\n",
       "  0,\n",
       "  1,\n",
       "  0,\n",
       "  0,\n",
       "  1,\n",
       "  0,\n",
       "  1,\n",
       "  0,\n",
       "  0,\n",
       "  0,\n",
       "  1,\n",
       "  0,\n",
       "  1,\n",
       "  0,\n",
       "  0,\n",
       "  1,\n",
       "  0,\n",
       "  0,\n",
       "  1,\n",
       "  0,\n",
       "  1,\n",
       "  0,\n",
       "  1,\n",
       "  1,\n",
       "  0,\n",
       "  0,\n",
       "  0,\n",
       "  0,\n",
       "  0,\n",
       "  0,\n",
       "  0,\n",
       "  1,\n",
       "  1,\n",
       "  1,\n",
       "  0,\n",
       "  0,\n",
       "  0,\n",
       "  0,\n",
       "  0,\n",
       "  0,\n",
       "  0,\n",
       "  0,\n",
       "  0,\n",
       "  1,\n",
       "  1,\n",
       "  1,\n",
       "  1,\n",
       "  0,\n",
       "  0,\n",
       "  0,\n",
       "  0,\n",
       "  0,\n",
       "  0],\n",
       " '615ec4f34cb81d7e58fa144c': [0,\n",
       "  0,\n",
       "  0,\n",
       "  0,\n",
       "  0,\n",
       "  0,\n",
       "  0,\n",
       "  0,\n",
       "  0,\n",
       "  0,\n",
       "  0,\n",
       "  0,\n",
       "  0,\n",
       "  0,\n",
       "  0,\n",
       "  0,\n",
       "  0,\n",
       "  0,\n",
       "  0,\n",
       "  0,\n",
       "  0,\n",
       "  0,\n",
       "  0,\n",
       "  0,\n",
       "  0,\n",
       "  0,\n",
       "  0,\n",
       "  0,\n",
       "  0,\n",
       "  0,\n",
       "  0,\n",
       "  0,\n",
       "  0,\n",
       "  0,\n",
       "  0,\n",
       "  0,\n",
       "  0,\n",
       "  0,\n",
       "  0,\n",
       "  0,\n",
       "  0,\n",
       "  0,\n",
       "  0,\n",
       "  0,\n",
       "  0,\n",
       "  0,\n",
       "  0,\n",
       "  0,\n",
       "  0,\n",
       "  0,\n",
       "  0,\n",
       "  0,\n",
       "  0,\n",
       "  0,\n",
       "  0,\n",
       "  0,\n",
       "  0,\n",
       "  0,\n",
       "  0,\n",
       "  0,\n",
       "  0,\n",
       "  0,\n",
       "  0,\n",
       "  0,\n",
       "  0,\n",
       "  0,\n",
       "  0,\n",
       "  0,\n",
       "  0,\n",
       "  0,\n",
       "  0,\n",
       "  0,\n",
       "  0,\n",
       "  0,\n",
       "  0,\n",
       "  0,\n",
       "  0,\n",
       "  0,\n",
       "  0,\n",
       "  0,\n",
       "  0,\n",
       "  0,\n",
       "  0,\n",
       "  0,\n",
       "  0,\n",
       "  0,\n",
       "  0,\n",
       "  0,\n",
       "  0,\n",
       "  0],\n",
       " '5cd5fe480f0de600018e7251': [0,\n",
       "  0,\n",
       "  0,\n",
       "  0,\n",
       "  0,\n",
       "  0,\n",
       "  0,\n",
       "  0,\n",
       "  0,\n",
       "  0,\n",
       "  0,\n",
       "  0,\n",
       "  0,\n",
       "  0,\n",
       "  0,\n",
       "  0,\n",
       "  0,\n",
       "  0,\n",
       "  0,\n",
       "  1,\n",
       "  0,\n",
       "  0,\n",
       "  1,\n",
       "  0,\n",
       "  0,\n",
       "  1,\n",
       "  0,\n",
       "  0,\n",
       "  0,\n",
       "  0,\n",
       "  0,\n",
       "  0,\n",
       "  1,\n",
       "  1,\n",
       "  1,\n",
       "  1,\n",
       "  0,\n",
       "  0,\n",
       "  0,\n",
       "  1,\n",
       "  0,\n",
       "  1,\n",
       "  0,\n",
       "  0,\n",
       "  1,\n",
       "  0,\n",
       "  1,\n",
       "  1,\n",
       "  0,\n",
       "  0,\n",
       "  1,\n",
       "  0,\n",
       "  1,\n",
       "  1,\n",
       "  0,\n",
       "  1,\n",
       "  1,\n",
       "  1,\n",
       "  0,\n",
       "  1,\n",
       "  0,\n",
       "  0,\n",
       "  0,\n",
       "  1,\n",
       "  0,\n",
       "  0,\n",
       "  1,\n",
       "  1,\n",
       "  1,\n",
       "  0,\n",
       "  1,\n",
       "  0,\n",
       "  1,\n",
       "  1,\n",
       "  1,\n",
       "  1,\n",
       "  1,\n",
       "  0,\n",
       "  1,\n",
       "  0,\n",
       "  1,\n",
       "  0,\n",
       "  1,\n",
       "  1,\n",
       "  0,\n",
       "  1,\n",
       "  1,\n",
       "  1,\n",
       "  1,\n",
       "  0],\n",
       " '60f44f7a57468d4e9f87fa5b': [0,\n",
       "  0,\n",
       "  0,\n",
       "  1,\n",
       "  1,\n",
       "  1,\n",
       "  0,\n",
       "  0,\n",
       "  0,\n",
       "  1,\n",
       "  0,\n",
       "  1,\n",
       "  1,\n",
       "  1,\n",
       "  1,\n",
       "  1,\n",
       "  0,\n",
       "  1,\n",
       "  1,\n",
       "  0,\n",
       "  1,\n",
       "  1,\n",
       "  0,\n",
       "  0,\n",
       "  1,\n",
       "  0,\n",
       "  0,\n",
       "  1,\n",
       "  0,\n",
       "  0,\n",
       "  0,\n",
       "  0,\n",
       "  0,\n",
       "  1,\n",
       "  1,\n",
       "  0,\n",
       "  0,\n",
       "  1,\n",
       "  1,\n",
       "  1,\n",
       "  1,\n",
       "  1,\n",
       "  1,\n",
       "  0,\n",
       "  1,\n",
       "  0,\n",
       "  1,\n",
       "  1,\n",
       "  1,\n",
       "  1,\n",
       "  1,\n",
       "  1,\n",
       "  0,\n",
       "  1,\n",
       "  1,\n",
       "  1,\n",
       "  1,\n",
       "  1,\n",
       "  1,\n",
       "  1,\n",
       "  1,\n",
       "  0,\n",
       "  0,\n",
       "  0,\n",
       "  0,\n",
       "  1,\n",
       "  1,\n",
       "  1,\n",
       "  1,\n",
       "  1,\n",
       "  1,\n",
       "  1,\n",
       "  0,\n",
       "  0,\n",
       "  1,\n",
       "  1,\n",
       "  0,\n",
       "  1,\n",
       "  1,\n",
       "  1,\n",
       "  0,\n",
       "  1,\n",
       "  0,\n",
       "  0,\n",
       "  1,\n",
       "  0,\n",
       "  1,\n",
       "  0,\n",
       "  0,\n",
       "  1],\n",
       " '6160011304f5319ece189bfa': [0,\n",
       "  0,\n",
       "  0,\n",
       "  0,\n",
       "  0,\n",
       "  0,\n",
       "  0,\n",
       "  0,\n",
       "  0,\n",
       "  0,\n",
       "  0,\n",
       "  0,\n",
       "  0,\n",
       "  0,\n",
       "  0,\n",
       "  0,\n",
       "  0,\n",
       "  0,\n",
       "  0,\n",
       "  0,\n",
       "  0,\n",
       "  0,\n",
       "  1,\n",
       "  0,\n",
       "  0,\n",
       "  0,\n",
       "  0,\n",
       "  0,\n",
       "  0,\n",
       "  0,\n",
       "  0,\n",
       "  0,\n",
       "  0,\n",
       "  0,\n",
       "  0,\n",
       "  0,\n",
       "  0,\n",
       "  0,\n",
       "  0,\n",
       "  0,\n",
       "  0,\n",
       "  0,\n",
       "  0,\n",
       "  0,\n",
       "  0,\n",
       "  1,\n",
       "  0,\n",
       "  1,\n",
       "  0,\n",
       "  0,\n",
       "  0,\n",
       "  0,\n",
       "  0,\n",
       "  0,\n",
       "  0,\n",
       "  0,\n",
       "  0,\n",
       "  0,\n",
       "  0,\n",
       "  0,\n",
       "  0,\n",
       "  0,\n",
       "  0,\n",
       "  0,\n",
       "  0,\n",
       "  0,\n",
       "  0,\n",
       "  0,\n",
       "  0,\n",
       "  0,\n",
       "  0,\n",
       "  0,\n",
       "  0,\n",
       "  0,\n",
       "  0,\n",
       "  0,\n",
       "  0,\n",
       "  0,\n",
       "  0,\n",
       "  0,\n",
       "  0,\n",
       "  0,\n",
       "  0,\n",
       "  0,\n",
       "  0,\n",
       "  0,\n",
       "  0,\n",
       "  0,\n",
       "  0,\n",
       "  0],\n",
       " '5af196e1e1b5b8000148ac76': [0,\n",
       "  0,\n",
       "  0,\n",
       "  0,\n",
       "  0,\n",
       "  0,\n",
       "  0,\n",
       "  0,\n",
       "  0,\n",
       "  0,\n",
       "  0,\n",
       "  1,\n",
       "  1,\n",
       "  1,\n",
       "  0,\n",
       "  1,\n",
       "  0,\n",
       "  0,\n",
       "  0,\n",
       "  1,\n",
       "  0,\n",
       "  0,\n",
       "  1,\n",
       "  0,\n",
       "  0,\n",
       "  0,\n",
       "  1,\n",
       "  0,\n",
       "  0,\n",
       "  0,\n",
       "  0,\n",
       "  1,\n",
       "  0,\n",
       "  1,\n",
       "  1,\n",
       "  0,\n",
       "  0,\n",
       "  0,\n",
       "  0,\n",
       "  1,\n",
       "  0,\n",
       "  0,\n",
       "  1,\n",
       "  0,\n",
       "  1,\n",
       "  0,\n",
       "  0,\n",
       "  0,\n",
       "  0,\n",
       "  1,\n",
       "  0,\n",
       "  0,\n",
       "  0,\n",
       "  1,\n",
       "  1,\n",
       "  0,\n",
       "  0,\n",
       "  0,\n",
       "  0,\n",
       "  1,\n",
       "  0,\n",
       "  0,\n",
       "  0,\n",
       "  0,\n",
       "  0,\n",
       "  1,\n",
       "  0,\n",
       "  0,\n",
       "  0,\n",
       "  0,\n",
       "  0,\n",
       "  0,\n",
       "  0,\n",
       "  0,\n",
       "  0,\n",
       "  0,\n",
       "  0,\n",
       "  0,\n",
       "  0,\n",
       "  0,\n",
       "  0,\n",
       "  1,\n",
       "  0,\n",
       "  0,\n",
       "  0,\n",
       "  0,\n",
       "  0,\n",
       "  1,\n",
       "  0,\n",
       "  0],\n",
       " '6154284fc5154abb9a264b0c': [0,\n",
       "  0,\n",
       "  0,\n",
       "  1,\n",
       "  1,\n",
       "  0,\n",
       "  0,\n",
       "  0,\n",
       "  0,\n",
       "  1,\n",
       "  0,\n",
       "  1,\n",
       "  1,\n",
       "  1,\n",
       "  0,\n",
       "  0,\n",
       "  0,\n",
       "  0,\n",
       "  1,\n",
       "  0,\n",
       "  0,\n",
       "  0,\n",
       "  1,\n",
       "  0,\n",
       "  0,\n",
       "  0,\n",
       "  0,\n",
       "  0,\n",
       "  0,\n",
       "  0,\n",
       "  0,\n",
       "  0,\n",
       "  0,\n",
       "  0,\n",
       "  0,\n",
       "  0,\n",
       "  0,\n",
       "  0,\n",
       "  0,\n",
       "  0,\n",
       "  0,\n",
       "  0,\n",
       "  0,\n",
       "  0,\n",
       "  1,\n",
       "  0,\n",
       "  1,\n",
       "  0,\n",
       "  0,\n",
       "  0,\n",
       "  0,\n",
       "  0,\n",
       "  0,\n",
       "  0,\n",
       "  0,\n",
       "  0,\n",
       "  1,\n",
       "  0,\n",
       "  0,\n",
       "  0,\n",
       "  0,\n",
       "  0,\n",
       "  0,\n",
       "  0,\n",
       "  0,\n",
       "  0,\n",
       "  0,\n",
       "  0,\n",
       "  0,\n",
       "  0,\n",
       "  0,\n",
       "  0,\n",
       "  0,\n",
       "  0,\n",
       "  0,\n",
       "  0,\n",
       "  0,\n",
       "  0,\n",
       "  0,\n",
       "  0,\n",
       "  0,\n",
       "  0,\n",
       "  1,\n",
       "  0,\n",
       "  0,\n",
       "  0,\n",
       "  0,\n",
       "  0,\n",
       "  0,\n",
       "  0],\n",
       " '6147d726fa94eb7d5c2de156': [0,\n",
       "  0,\n",
       "  1,\n",
       "  1,\n",
       "  0,\n",
       "  0,\n",
       "  0,\n",
       "  0,\n",
       "  1,\n",
       "  0,\n",
       "  1,\n",
       "  1,\n",
       "  0,\n",
       "  0,\n",
       "  0,\n",
       "  0,\n",
       "  0,\n",
       "  0,\n",
       "  0,\n",
       "  0,\n",
       "  0,\n",
       "  0,\n",
       "  0,\n",
       "  0,\n",
       "  0,\n",
       "  0,\n",
       "  0,\n",
       "  0,\n",
       "  0,\n",
       "  0,\n",
       "  0,\n",
       "  0,\n",
       "  0,\n",
       "  0,\n",
       "  1,\n",
       "  1,\n",
       "  1,\n",
       "  1,\n",
       "  0,\n",
       "  0,\n",
       "  0,\n",
       "  0,\n",
       "  0,\n",
       "  0,\n",
       "  1,\n",
       "  1,\n",
       "  0,\n",
       "  0,\n",
       "  0,\n",
       "  0,\n",
       "  0,\n",
       "  1,\n",
       "  1,\n",
       "  0,\n",
       "  0,\n",
       "  0,\n",
       "  0,\n",
       "  0,\n",
       "  0,\n",
       "  0,\n",
       "  1,\n",
       "  1,\n",
       "  1,\n",
       "  0,\n",
       "  0,\n",
       "  0,\n",
       "  1,\n",
       "  1,\n",
       "  0,\n",
       "  0,\n",
       "  1,\n",
       "  0,\n",
       "  0,\n",
       "  1,\n",
       "  1,\n",
       "  0,\n",
       "  0,\n",
       "  0,\n",
       "  0,\n",
       "  0,\n",
       "  0,\n",
       "  1,\n",
       "  0,\n",
       "  0,\n",
       "  0,\n",
       "  0,\n",
       "  0,\n",
       "  0,\n",
       "  0,\n",
       "  1],\n",
       " '6160403f5164508979e6358d': [0,\n",
       "  0,\n",
       "  0,\n",
       "  0,\n",
       "  0,\n",
       "  0,\n",
       "  0,\n",
       "  1,\n",
       "  0,\n",
       "  0,\n",
       "  0,\n",
       "  0,\n",
       "  0,\n",
       "  0,\n",
       "  0,\n",
       "  0,\n",
       "  0,\n",
       "  0,\n",
       "  0,\n",
       "  0,\n",
       "  0,\n",
       "  0,\n",
       "  0,\n",
       "  0,\n",
       "  0,\n",
       "  0,\n",
       "  0,\n",
       "  0,\n",
       "  0,\n",
       "  0,\n",
       "  0,\n",
       "  0,\n",
       "  0,\n",
       "  0,\n",
       "  0,\n",
       "  0,\n",
       "  0,\n",
       "  0,\n",
       "  0,\n",
       "  0,\n",
       "  0,\n",
       "  0,\n",
       "  0,\n",
       "  0,\n",
       "  0,\n",
       "  0,\n",
       "  0,\n",
       "  0,\n",
       "  0,\n",
       "  0,\n",
       "  0,\n",
       "  0,\n",
       "  0,\n",
       "  0,\n",
       "  0,\n",
       "  0,\n",
       "  0,\n",
       "  0,\n",
       "  0,\n",
       "  0,\n",
       "  0,\n",
       "  0,\n",
       "  0,\n",
       "  0,\n",
       "  0,\n",
       "  0,\n",
       "  0,\n",
       "  0,\n",
       "  0,\n",
       "  0,\n",
       "  1,\n",
       "  0,\n",
       "  0,\n",
       "  0,\n",
       "  0,\n",
       "  0,\n",
       "  0,\n",
       "  0,\n",
       "  0,\n",
       "  0,\n",
       "  0,\n",
       "  0,\n",
       "  0,\n",
       "  0,\n",
       "  0,\n",
       "  0,\n",
       "  0,\n",
       "  0,\n",
       "  0,\n",
       "  0],\n",
       " '56210effed6e5a000ac7f3a5': [0,\n",
       "  1,\n",
       "  1,\n",
       "  0,\n",
       "  0,\n",
       "  1,\n",
       "  1,\n",
       "  1,\n",
       "  1,\n",
       "  1,\n",
       "  1,\n",
       "  1,\n",
       "  1,\n",
       "  1,\n",
       "  0,\n",
       "  1,\n",
       "  1,\n",
       "  1,\n",
       "  0,\n",
       "  0,\n",
       "  1,\n",
       "  1,\n",
       "  0,\n",
       "  0,\n",
       "  1,\n",
       "  1,\n",
       "  1,\n",
       "  0,\n",
       "  0,\n",
       "  1,\n",
       "  0,\n",
       "  1,\n",
       "  0,\n",
       "  0,\n",
       "  1,\n",
       "  1,\n",
       "  0,\n",
       "  0,\n",
       "  0,\n",
       "  0,\n",
       "  1,\n",
       "  1,\n",
       "  0,\n",
       "  0,\n",
       "  1,\n",
       "  0,\n",
       "  1,\n",
       "  1,\n",
       "  1,\n",
       "  1,\n",
       "  1,\n",
       "  1,\n",
       "  1,\n",
       "  1,\n",
       "  1,\n",
       "  1,\n",
       "  0,\n",
       "  0,\n",
       "  1,\n",
       "  0,\n",
       "  0,\n",
       "  1,\n",
       "  1,\n",
       "  0,\n",
       "  1,\n",
       "  0,\n",
       "  1,\n",
       "  0,\n",
       "  1,\n",
       "  0,\n",
       "  1,\n",
       "  1,\n",
       "  1,\n",
       "  0,\n",
       "  0,\n",
       "  1,\n",
       "  1,\n",
       "  0,\n",
       "  0,\n",
       "  1,\n",
       "  1,\n",
       "  1,\n",
       "  0,\n",
       "  1,\n",
       "  1,\n",
       "  1,\n",
       "  1,\n",
       "  1,\n",
       "  1,\n",
       "  0],\n",
       " '6156ee007bdef87eb5b4aeb0': [1,\n",
       "  1,\n",
       "  1,\n",
       "  0,\n",
       "  1,\n",
       "  1,\n",
       "  0,\n",
       "  1,\n",
       "  1,\n",
       "  1,\n",
       "  1,\n",
       "  1,\n",
       "  0,\n",
       "  1,\n",
       "  1,\n",
       "  1,\n",
       "  1,\n",
       "  1,\n",
       "  0,\n",
       "  1,\n",
       "  1,\n",
       "  1,\n",
       "  1,\n",
       "  0,\n",
       "  0,\n",
       "  1,\n",
       "  0,\n",
       "  0,\n",
       "  0,\n",
       "  1,\n",
       "  1,\n",
       "  0,\n",
       "  1,\n",
       "  1,\n",
       "  1,\n",
       "  1,\n",
       "  1,\n",
       "  1,\n",
       "  0,\n",
       "  1,\n",
       "  1,\n",
       "  1,\n",
       "  1,\n",
       "  1,\n",
       "  0,\n",
       "  0,\n",
       "  0,\n",
       "  1,\n",
       "  1,\n",
       "  0,\n",
       "  1,\n",
       "  1,\n",
       "  0,\n",
       "  0,\n",
       "  0,\n",
       "  0,\n",
       "  0,\n",
       "  1,\n",
       "  0,\n",
       "  1,\n",
       "  1,\n",
       "  1,\n",
       "  1,\n",
       "  0,\n",
       "  1,\n",
       "  1,\n",
       "  1,\n",
       "  0,\n",
       "  1,\n",
       "  0,\n",
       "  1,\n",
       "  1,\n",
       "  1,\n",
       "  0,\n",
       "  0,\n",
       "  0,\n",
       "  1,\n",
       "  1,\n",
       "  1,\n",
       "  1,\n",
       "  0,\n",
       "  0,\n",
       "  0,\n",
       "  1,\n",
       "  1,\n",
       "  1,\n",
       "  1,\n",
       "  1,\n",
       "  0,\n",
       "  1],\n",
       " '61085b8ec672d0e88151d5ae': [1,\n",
       "  0,\n",
       "  0,\n",
       "  0,\n",
       "  0,\n",
       "  0,\n",
       "  0,\n",
       "  0,\n",
       "  0,\n",
       "  0,\n",
       "  0,\n",
       "  0,\n",
       "  0,\n",
       "  0,\n",
       "  0,\n",
       "  0,\n",
       "  0,\n",
       "  0,\n",
       "  1,\n",
       "  0,\n",
       "  1,\n",
       "  0,\n",
       "  0,\n",
       "  0,\n",
       "  0,\n",
       "  0,\n",
       "  0,\n",
       "  0,\n",
       "  0,\n",
       "  0,\n",
       "  0,\n",
       "  0,\n",
       "  0,\n",
       "  0,\n",
       "  0,\n",
       "  1,\n",
       "  0,\n",
       "  0,\n",
       "  0,\n",
       "  0,\n",
       "  1,\n",
       "  0,\n",
       "  0,\n",
       "  0,\n",
       "  1,\n",
       "  1,\n",
       "  1,\n",
       "  1,\n",
       "  0,\n",
       "  1,\n",
       "  0,\n",
       "  0,\n",
       "  1,\n",
       "  0,\n",
       "  1,\n",
       "  0,\n",
       "  0,\n",
       "  0,\n",
       "  1,\n",
       "  0,\n",
       "  0,\n",
       "  0,\n",
       "  0,\n",
       "  0,\n",
       "  0,\n",
       "  1,\n",
       "  0,\n",
       "  0,\n",
       "  0,\n",
       "  0,\n",
       "  0,\n",
       "  1,\n",
       "  1,\n",
       "  1,\n",
       "  0,\n",
       "  0,\n",
       "  0,\n",
       "  0,\n",
       "  0,\n",
       "  0,\n",
       "  0,\n",
       "  0,\n",
       "  0,\n",
       "  0,\n",
       "  0,\n",
       "  0,\n",
       "  1,\n",
       "  1,\n",
       "  0,\n",
       "  0]}"
      ]
     },
     "execution_count": 30,
     "metadata": {},
     "output_type": "execute_result"
    }
   ],
   "source": [
    "when_lied"
   ]
  },
  {
   "cell_type": "code",
   "execution_count": 31,
   "metadata": {},
   "outputs": [],
   "source": [
    "RT_hr = {}\n",
    "\n",
    "for i, uuid in enumerate(uuids):\n",
    "    RT_hr[uuid] = RT_ratings[i]"
   ]
  },
  {
   "cell_type": "code",
   "execution_count": 32,
   "metadata": {},
   "outputs": [
    {
     "name": "stdout",
     "output_type": "stream",
     "text": [
      "SpearmanrResult(correlation=-0.29864519321528843, pvalue=0.0042477973904126685)\n",
      "SpearmanrResult(correlation=-0.15754101955602315, pvalue=0.13808741437091063)\n",
      "SpearmanrResult(correlation=-0.028357892108100927, pvalue=0.7907634514739853)\n",
      "SpearmanrResult(correlation=0.18414933920099494, pvalue=0.08230499747432378)\n",
      "SpearmanrResult(correlation=0.037355256737444636, pvalue=0.7266753963343557)\n",
      "SpearmanrResult(correlation=-0.3637911169492974, pvalue=0.00042418382015095834)\n",
      "SpearmanrResult(correlation=0.1561896228349588, pvalue=0.14154253510084847)\n",
      "SpearmanrResult(correlation=-0.21106227193424112, pvalue=0.045838302325468434)\n",
      "SpearmanrResult(correlation=0.030834429040935123, pvalue=0.772963505830236)\n",
      "SpearmanrResult(correlation=-0.2521746639233051, pvalue=0.01649448251074156)\n",
      "SpearmanrResult(correlation=0.00044810508398698904, pvalue=0.9966555380891089)\n",
      "SpearmanrResult(correlation=0.016396316509380233, pvalue=0.8780946191652081)\n",
      "SpearmanrResult(correlation=-0.2189051517296139, pvalue=0.0381815689500034)\n",
      "SpearmanrResult(correlation=-0.10801848388606025, pvalue=0.3108702523859606)\n"
     ]
    }
   ],
   "source": [
    "from scipy.stats import spearmanr, pearsonr\n",
    "\n",
    "for i, uuid in enumerate(uuids):\n",
    "    print(spearmanr(honesty_ratings[i], RT_hr[uuid]))"
   ]
  },
  {
   "cell_type": "code",
   "execution_count": 33,
   "metadata": {},
   "outputs": [
    {
     "data": {
      "text/plain": [
       "(-0.05507724849600965, 0.05063128328805706)"
      ]
     },
     "execution_count": 33,
     "metadata": {},
     "output_type": "execute_result"
    }
   ],
   "source": [
    "pearsonr([i for r in RT_ratings for i in r], [i for r in honesty_ratings for i in r])"
   ]
  },
  {
   "cell_type": "code",
   "execution_count": 34,
   "metadata": {},
   "outputs": [
    {
     "data": {
      "text/plain": [
       "<AxesSubplot:>"
      ]
     },
     "execution_count": 34,
     "metadata": {},
     "output_type": "execute_result"
    },
    {
     "data": {
      "image/png": "[encoded data removed]",
      "text/plain": [
       "<Figure size 432x288 with 1 Axes>"
      ]
     },
     "metadata": {
      "needs_background": "light"
     },
     "output_type": "display_data"
    }
   ],
   "source": [
    "sns.regplot(x=[i for r in RT_ratings for i in r], y=[i for r in honesty_ratings for i in r])"
   ]
  },
  {
   "cell_type": "code",
   "execution_count": 21,
   "metadata": {},
   "outputs": [],
   "source": [
    "# with open('fr_batch1_RT_honesty_rating.json', 'w') as f:\n",
    "#     json.dump(RT_hr, f)"
   ]
  },
  {
   "cell_type": "code",
   "execution_count": 22,
   "metadata": {},
   "outputs": [],
   "source": [
    "# with open('fr_batch1_RT_honesty_rating.json', 'w') as f:\n",
    "#     json.dump(RT_hr, f)"
   ]
  },
  {
   "cell_type": "code",
   "execution_count": 23,
   "metadata": {},
   "outputs": [],
   "source": [
    "# with open('fr_batch1_when_lied.json', 'w') as f:\n",
    "#     json.dump(when_lied, f)"
   ]
  },
  {
   "cell_type": "code",
   "execution_count": 35,
   "metadata": {},
   "outputs": [],
   "source": [
    "colour_report = {}\n",
    "\n",
    "for i, uuid in enumerate(uuids):\n",
    "    colour_report[uuid] = reported_col[i]"
   ]
  },
  {
   "cell_type": "code",
   "execution_count": 36,
   "metadata": {},
   "outputs": [],
   "source": [
    "colour_picked = {}\n",
    "\n",
    "for i, uuid in enumerate(uuids):\n",
    "    colour_picked[uuid] = rand_pick_col[i]"
   ]
  },
  {
   "cell_type": "code",
   "execution_count": 37,
   "metadata": {},
   "outputs": [],
   "source": [
    "pp_lies = {}\n",
    "\n",
    "for i, uuid in enumerate(uuids):\n",
    "    pp_lies[uuid] = pp_lied[i]"
   ]
  },
  {
   "cell_type": "code",
   "execution_count": 38,
   "metadata": {},
   "outputs": [],
   "source": [
    "win_lose_tie = {}\n",
    "\n",
    "for i, uuid in enumerate(uuids):\n",
    "    win_lose_tie[uuid] = trial_result[i]"
   ]
  },
  {
   "cell_type": "code",
   "execution_count": 39,
   "metadata": {},
   "outputs": [],
   "source": [
    "other_reports = {}\n",
    "\n",
    "for i, uuid in enumerate(uuids):\n",
    "    other_reports[uuid] = other_outcome[i]"
   ]
  },
  {
   "cell_type": "code",
   "execution_count": 27,
   "metadata": {},
   "outputs": [],
   "source": [
    "# with open('fr_batch1_win_lose_tie.json', 'w') as f:\n",
    "#     json.dump(win_lose_tie, f)"
   ]
  },
  {
   "cell_type": "code",
   "execution_count": 28,
   "metadata": {},
   "outputs": [],
   "source": [
    "# with open('fr_batch1_reported_col.json', 'w') as f:\n",
    "#     json.dump(colour_report, f)"
   ]
  },
  {
   "cell_type": "code",
   "execution_count": 29,
   "metadata": {},
   "outputs": [],
   "source": [
    "# with open('fr_batch1_picked_col.json', 'w') as f:\n",
    "#     json.dump(colour_picked, f)"
   ]
  },
  {
   "cell_type": "code",
   "execution_count": 34,
   "metadata": {},
   "outputs": [],
   "source": [
    "# with open('fr_batch1_pp_lies.json', 'w') as f:\n",
    "#     json.dump(pp_lies, f)"
   ]
  },
  {
   "cell_type": "code",
   "execution_count": 16,
   "metadata": {},
   "outputs": [],
   "source": [
    "# with open('fr_batch1_other_reports.json', 'w') as f:\n",
    "#     json.dump(other_reports, f)"
   ]
  },
  {
   "cell_type": "code",
   "execution_count": 40,
   "metadata": {},
   "outputs": [
    {
     "name": "stdout",
     "output_type": "stream",
     "text": [
      "0.022222222222222223 3.2222222222222223\n",
      "0.23333333333333334 3.7555555555555555\n",
      "0.24444444444444444 3.2222222222222223\n",
      "0.0 3.188888888888889\n",
      "0.4111111111111111 3.4\n",
      "0.6 2.4555555555555557\n",
      "0.03333333333333333 3.6777777777777776\n",
      "0.2222222222222222 2.922222222222222\n",
      "0.13333333333333333 2.7888888888888888\n",
      "0.25555555555555554 3.8555555555555556\n",
      "0.022222222222222223 3.7111111111111112\n",
      "0.6222222222222222 1.4555555555555555\n",
      "0.6555555555555556 2.7\n",
      "0.2111111111111111 3.466666666666667\n"
     ]
    }
   ],
   "source": [
    "# lie proportion per user\n",
    "lie_prop = []\n",
    "avg_honesty_rating = []\n",
    "\n",
    "for i in range(len(uuids)):\n",
    "    i_lie_prop = sum([x != y for x, y in zip(rand_pick_col[i], reported_col[i])])/90\n",
    "    i_avg_rating = sum(honesty_ratings[i])/len(honesty_ratings[i])\n",
    "    print(i_lie_prop, i_avg_rating)\n",
    "    lie_prop.append(i_lie_prop) \n",
    "    avg_honesty_rating.append(i_avg_rating)"
   ]
  },
  {
   "cell_type": "code",
   "execution_count": 41,
   "metadata": {},
   "outputs": [
    {
     "data": {
      "text/plain": [
       "<AxesSubplot:>"
      ]
     },
     "execution_count": 41,
     "metadata": {},
     "output_type": "execute_result"
    },
    {
     "data": {
      "image/png": "[encoded data removed]",
      "text/plain": [
       "<Figure size 432x288 with 1 Axes>"
      ]
     },
     "metadata": {
      "needs_background": "light"
     },
     "output_type": "display_data"
    }
   ],
   "source": [
    "sns.boxplot(data=avg_honesty_rating)"
   ]
  },
  {
   "cell_type": "code",
   "execution_count": 42,
   "metadata": {},
   "outputs": [
    {
     "name": "stdout",
     "output_type": "stream",
     "text": [
      "0.06666666666666667 3.1666666666666665\n",
      "0.23333333333333334 3.8666666666666667\n",
      "0.13333333333333333 3.1333333333333333\n",
      "0.0 3.533333333333333\n",
      "0.1 3.466666666666667\n",
      "0.5 2.7666666666666666\n",
      "0.03333333333333333 3.433333333333333\n",
      "0.23333333333333334 3.2\n",
      "0.26666666666666666 2.466666666666667\n",
      "0.16666666666666666 4.233333333333333\n",
      "0.03333333333333333 3.533333333333333\n",
      "0.6666666666666666 1.4\n",
      "0.7 3.4\n",
      "0.1 4.4\n"
     ]
    }
   ],
   "source": [
    "# lie proportion per user\n",
    "lie_prop_b1 = []\n",
    "avg_honesty_rating_b1 = []\n",
    "\n",
    "for i in range(len(uuids)):\n",
    "    i_lie_prop = sum([x != y for x, y in zip(rand_pick_col[i][:30], reported_col[i][:30])])/30\n",
    "    i_avg_rating = sum(honesty_ratings[i][:30])/len(honesty_ratings[i][:30])\n",
    "    print(i_lie_prop, i_avg_rating)\n",
    "    \n",
    "    lie_prop_b1.append(i_lie_prop)\n",
    "    avg_honesty_rating_b1.append(i_avg_rating)"
   ]
  },
  {
   "cell_type": "code",
   "execution_count": 43,
   "metadata": {},
   "outputs": [
    {
     "name": "stdout",
     "output_type": "stream",
     "text": [
      "0.0 3.033333333333333\n",
      "0.3 3.5\n",
      "0.3333333333333333 2.7666666666666666\n",
      "0.0 3.0\n",
      "0.5333333333333333 3.3333333333333335\n",
      "0.7333333333333333 1.9666666666666666\n",
      "0.06666666666666667 3.9\n",
      "0.3333333333333333 2.6666666666666665\n",
      "0.1 2.533333333333333\n",
      "0.26666666666666666 3.9\n",
      "0.0 3.7333333333333334\n",
      "0.5666666666666667 1.3333333333333333\n",
      "0.6 2.2\n",
      "0.3333333333333333 1.9\n"
     ]
    }
   ],
   "source": [
    "# lie proportion per user\n",
    "lie_prop_b2 = []\n",
    "avg_honesty_rating_b2 = []\n",
    "\n",
    "for i in range(len(uuids)):\n",
    "    i_lie_prop = sum([x != y for x, y in zip(rand_pick_col[i][30:60], reported_col[i][30:60])])/30\n",
    "    i_avg_rating = sum(honesty_ratings[i][30:60])/len(honesty_ratings[i][30:60])\n",
    "    print(i_lie_prop, i_avg_rating)\n",
    "    \n",
    "    lie_prop_b2.append(i_lie_prop)\n",
    "    avg_honesty_rating_b2.append(i_avg_rating)"
   ]
  },
  {
   "cell_type": "code",
   "execution_count": 44,
   "metadata": {},
   "outputs": [
    {
     "name": "stdout",
     "output_type": "stream",
     "text": [
      "0.0 3.466666666666667\n",
      "0.16666666666666666 3.9\n",
      "0.26666666666666666 3.7666666666666666\n",
      "0.0 3.033333333333333\n",
      "0.6 3.4\n",
      "0.5666666666666667 2.6333333333333333\n",
      "0.0 3.7\n",
      "0.1 2.9\n",
      "0.03333333333333333 3.3666666666666667\n",
      "0.3333333333333333 3.433333333333333\n",
      "0.03333333333333333 3.8666666666666667\n",
      "0.6333333333333333 1.6333333333333333\n",
      "0.6666666666666666 2.5\n",
      "0.2 4.1\n"
     ]
    }
   ],
   "source": [
    "# lie proportion per user\n",
    "lie_prop_b3 = []\n",
    "avg_honesty_rating_b3 = []\n",
    "\n",
    "for i in range(len(uuids)):\n",
    "    i_lie_prop = sum([x != y for x, y in zip(rand_pick_col[i][60:], reported_col[i][60:])])/30\n",
    "    i_avg_rating = sum(honesty_ratings[i][60:])/len(honesty_ratings[i][60:])\n",
    "    print(i_lie_prop, i_avg_rating)\n",
    "    \n",
    "    lie_prop_b3.append(i_lie_prop)\n",
    "    avg_honesty_rating_b3.append(i_avg_rating)"
   ]
  },
  {
   "cell_type": "code",
   "execution_count": 45,
   "metadata": {},
   "outputs": [],
   "source": [
    "from scipy.stats import spearmanr, pearsonr"
   ]
  },
  {
   "cell_type": "code",
   "execution_count": 46,
   "metadata": {},
   "outputs": [
    {
     "data": {
      "text/plain": [
       "SpearmanrResult(correlation=-0.49558619647968716, pvalue=0.07153232261445913)"
      ]
     },
     "execution_count": 46,
     "metadata": {},
     "output_type": "execute_result"
    }
   ],
   "source": [
    "spearmanr(lie_prop_b1, avg_honesty_rating_b1)"
   ]
  },
  {
   "cell_type": "code",
   "execution_count": 47,
   "metadata": {},
   "outputs": [
    {
     "data": {
      "text/plain": [
       "SpearmanrResult(correlation=-0.628209858541431, pvalue=0.016133994525178916)"
      ]
     },
     "execution_count": 47,
     "metadata": {},
     "output_type": "execute_result"
    }
   ],
   "source": [
    "spearmanr(lie_prop_b2, avg_honesty_rating_b2)"
   ]
  },
  {
   "cell_type": "code",
   "execution_count": 48,
   "metadata": {},
   "outputs": [
    {
     "data": {
      "text/plain": [
       "SpearmanrResult(correlation=-0.4176859328030314, pvalue=0.13726335247455823)"
      ]
     },
     "execution_count": 48,
     "metadata": {},
     "output_type": "execute_result"
    }
   ],
   "source": [
    "spearmanr(lie_prop_b3, avg_honesty_rating_b3)"
   ]
  },
  {
   "cell_type": "code",
   "execution_count": 49,
   "metadata": {},
   "outputs": [
    {
     "data": {
      "text/plain": [
       "SpearmanrResult(correlation=-0.3711453744493392, pvalue=0.19138597434672777)"
      ]
     },
     "execution_count": 49,
     "metadata": {},
     "output_type": "execute_result"
    }
   ],
   "source": [
    "spearmanr(lie_prop, avg_honesty_rating)"
   ]
  },
  {
   "cell_type": "code",
   "execution_count": 50,
   "metadata": {},
   "outputs": [
    {
     "data": {
      "text/plain": [
       "(-0.6556910748003643, 0.010896609379513532)"
      ]
     },
     "execution_count": 50,
     "metadata": {},
     "output_type": "execute_result"
    }
   ],
   "source": [
    "pearsonr(lie_prop, avg_honesty_rating)"
   ]
  },
  {
   "cell_type": "code",
   "execution_count": 51,
   "metadata": {},
   "outputs": [],
   "source": [
    "norm_honesty_ratings = []\n",
    "\n",
    "for ratings in honesty_ratings:\n",
    "    normed = [(v/6) for v in ratings]\n",
    "    norm_honesty_ratings.append(normed)"
   ]
  },
  {
   "cell_type": "code",
   "execution_count": 52,
   "metadata": {},
   "outputs": [],
   "source": [
    "tmp = {uuids[i]: ratings for i, ratings in enumerate(honesty_ratings)}"
   ]
  },
  {
   "cell_type": "code",
   "execution_count": 53,
   "metadata": {},
   "outputs": [],
   "source": [
    "import numexpr\n",
    "\n",
    "norm_suspicion_ratings = numexpr.evaluate('(1 - norm_honesty_ratings)')"
   ]
  },
  {
   "cell_type": "code",
   "execution_count": 54,
   "metadata": {},
   "outputs": [
    {
     "data": {
      "text/plain": [
       "array([[0.5       , 0.5       , 0.5       , ..., 0.16666667, 0.33333333,\n",
       "        0.33333333],\n",
       "       [0.16666667, 0.16666667, 0.33333333, ..., 0.33333333, 0.33333333,\n",
       "        0.33333333],\n",
       "       [0.33333333, 0.83333333, 0.83333333, ..., 0.33333333, 0.66666667,\n",
       "        0.5       ],\n",
       "       ...,\n",
       "       [0.83333333, 1.        , 1.        , ..., 1.        , 1.        ,\n",
       "        0.33333333],\n",
       "       [0.16666667, 0.16666667, 0.16666667, ..., 0.66666667, 0.66666667,\n",
       "        0.66666667],\n",
       "       [0.5       , 0.16666667, 0.5       , ..., 0.16666667, 0.16666667,\n",
       "        0.33333333]])"
      ]
     },
     "execution_count": 54,
     "metadata": {},
     "output_type": "execute_result"
    }
   ],
   "source": [
    "norm_suspicion_ratings"
   ]
  },
  {
   "cell_type": "code",
   "execution_count": 50,
   "metadata": {},
   "outputs": [],
   "source": [
    "tmp = {uuids[i]: ratings for i, ratings in enumerate(norm_suspicion_ratings)}\n",
    "\n",
    "# pd.DataFrame(tmp).to_json('fr_batch1_normalized_suspicion_ratings.json')"
   ]
  },
  {
   "cell_type": "code",
   "execution_count": 138,
   "metadata": {},
   "outputs": [
    {
     "data": {
      "text/plain": [
       "{'54b9acd9fdf99b34ce2578f9': array([0.        , 0.        , 0.16666667, 0.5       , 0.16666667,\n",
       "        0.33333333, 0.5       , 0.5       , 0.16666667, 0.        ,\n",
       "        0.        , 0.        , 0.16666667, 0.        , 0.        ,\n",
       "        0.5       , 0.16666667, 0.        , 0.16666667, 0.5       ,\n",
       "        0.        , 0.        , 0.        , 0.33333333, 0.33333333,\n",
       "        0.16666667, 0.16666667, 0.16666667, 0.16666667, 0.33333333,\n",
       "        0.5       , 0.16666667, 0.16666667, 0.16666667, 0.16666667,\n",
       "        0.16666667, 0.16666667, 0.5       , 0.        , 0.16666667,\n",
       "        0.        , 0.16666667, 0.16666667, 0.33333333, 0.5       ,\n",
       "        0.33333333, 0.33333333, 0.        , 0.16666667, 0.16666667,\n",
       "        0.16666667, 0.33333333, 0.33333333, 0.33333333, 0.16666667,\n",
       "        0.33333333, 0.        , 0.33333333, 0.5       , 0.5       ,\n",
       "        0.16666667, 0.5       , 0.16666667, 0.16666667, 0.33333333,\n",
       "        0.33333333, 0.5       , 0.33333333, 0.33333333, 0.5       ,\n",
       "        0.66666667, 0.5       , 0.66666667, 0.16666667, 0.5       ,\n",
       "        0.5       , 0.5       , 0.66666667, 0.66666667, 0.33333333,\n",
       "        0.83333333, 0.66666667, 0.83333333, 0.66666667, 1.        ,\n",
       "        0.66666667, 1.        , 1.        , 1.        , 1.        ]),\n",
       " '61017dbbf8b1afba48b7822e': array([0.        , 0.        , 0.        , 0.33333333, 0.5       ,\n",
       "        0.33333333, 0.5       , 0.5       , 0.        , 0.        ,\n",
       "        0.        , 0.        , 0.16666667, 0.        , 0.        ,\n",
       "        0.33333333, 0.        , 0.        , 0.16666667, 0.16666667,\n",
       "        0.        , 0.        , 0.        , 0.16666667, 0.16666667,\n",
       "        0.        , 0.16666667, 0.        , 0.16666667, 0.5       ,\n",
       "        0.        , 0.33333333, 0.        , 0.16666667, 0.16666667,\n",
       "        0.16666667, 0.16666667, 0.16666667, 0.16666667, 0.5       ,\n",
       "        0.66666667, 0.66666667, 0.66666667, 0.        , 0.5       ,\n",
       "        0.5       , 0.5       , 0.5       , 0.5       , 0.5       ,\n",
       "        0.5       , 0.5       , 0.5       , 0.5       , 0.66666667,\n",
       "        0.66666667, 0.        , 0.5       , 0.5       , 0.83333333,\n",
       "        0.5       , 0.        , 0.5       , 0.5       , 0.5       ,\n",
       "        0.16666667, 0.        , 0.5       , 0.        , 0.        ,\n",
       "        0.        , 0.33333333, 0.5       , 0.5       , 0.5       ,\n",
       "        0.5       , 0.5       , 0.5       , 0.5       , 0.5       ,\n",
       "        0.5       , 0.5       , 0.5       , 0.5       , 0.        ,\n",
       "        0.33333333, 0.        , 0.5       , 0.5       , 0.5       ]),\n",
       " '6116aa4d3c4d9eae26b66171': array([0.16666667, 0.16666667, 0.16666667, 0.16666667, 0.16666667,\n",
       "        0.16666667, 0.16666667, 0.33333333, 0.16666667, 0.16666667,\n",
       "        0.16666667, 0.16666667, 0.16666667, 0.16666667, 0.66666667,\n",
       "        0.16666667, 0.33333333, 0.33333333, 0.33333333, 0.16666667,\n",
       "        0.16666667, 0.5       , 0.66666667, 0.33333333, 0.16666667,\n",
       "        0.66666667, 0.16666667, 0.16666667, 0.16666667, 0.33333333,\n",
       "        0.16666667, 0.16666667, 0.16666667, 0.16666667, 0.16666667,\n",
       "        0.16666667, 0.33333333, 0.33333333, 0.16666667, 0.16666667,\n",
       "        0.16666667, 0.16666667, 0.16666667, 0.16666667, 0.16666667,\n",
       "        0.16666667, 0.16666667, 0.16666667, 0.16666667, 0.16666667,\n",
       "        0.16666667, 0.16666667, 0.16666667, 0.16666667, 0.16666667,\n",
       "        0.16666667, 0.16666667, 0.16666667, 0.16666667, 0.16666667,\n",
       "        0.16666667, 0.33333333, 0.16666667, 0.16666667, 0.33333333,\n",
       "        0.33333333, 0.33333333, 0.33333333, 0.33333333, 0.33333333,\n",
       "        0.16666667, 0.16666667, 0.33333333, 0.16666667, 0.33333333,\n",
       "        0.33333333, 0.16666667, 0.16666667, 0.33333333, 0.33333333,\n",
       "        0.33333333, 0.33333333, 0.33333333, 0.33333333, 0.33333333,\n",
       "        0.33333333, 0.33333333, 0.33333333, 0.33333333, 0.33333333]),\n",
       " '6109b8238588407db4764ec1': array([0.5       , 0.5       , 0.33333333, 0.33333333, 0.16666667,\n",
       "        0.5       , 0.16666667, 0.33333333, 0.33333333, 0.5       ,\n",
       "        0.5       , 0.5       , 0.5       , 0.66666667, 0.83333333,\n",
       "        0.66666667, 0.83333333, 0.33333333, 0.5       , 0.33333333,\n",
       "        0.33333333, 0.66666667, 0.66666667, 0.66666667, 0.33333333,\n",
       "        0.66666667, 0.33333333, 0.5       , 0.16666667, 0.5       ,\n",
       "        0.16666667, 0.16666667, 0.33333333, 0.5       , 0.5       ,\n",
       "        0.5       , 0.5       , 0.66666667, 0.16666667, 0.33333333,\n",
       "        0.33333333, 0.16666667, 0.5       , 0.16666667, 0.33333333,\n",
       "        0.33333333, 0.16666667, 0.16666667, 0.16666667, 0.33333333,\n",
       "        0.16666667, 0.16666667, 0.16666667, 0.33333333, 0.33333333,\n",
       "        0.16666667, 0.33333333, 0.        , 0.        , 0.16666667,\n",
       "        0.33333333, 0.5       , 0.16666667, 0.16666667, 0.5       ,\n",
       "        0.5       , 0.83333333, 0.16666667, 0.66666667, 0.83333333,\n",
       "        0.5       , 0.83333333, 0.83333333, 0.16666667, 0.16666667,\n",
       "        0.16666667, 0.16666667, 0.5       , 0.66666667, 0.66666667,\n",
       "        0.83333333, 0.33333333, 0.83333333, 0.66666667, 0.83333333,\n",
       "        0.33333333, 0.        , 0.33333333, 0.83333333, 0.5       ]),\n",
       " '611841738f4e8342f5ba3765': array([0.5       , 0.        , 0.33333333, 0.5       , 0.33333333,\n",
       "        0.66666667, 0.        , 0.66666667, 0.        , 0.        ,\n",
       "        0.        , 0.66666667, 0.83333333, 1.        , 1.        ,\n",
       "        0.5       , 0.66666667, 0.        , 0.5       , 0.        ,\n",
       "        0.        , 0.83333333, 0.83333333, 0.83333333, 0.        ,\n",
       "        0.5       , 0.        , 1.        , 1.        , 0.66666667,\n",
       "        0.5       , 0.5       , 0.16666667, 0.66666667, 0.5       ,\n",
       "        0.66666667, 0.66666667, 0.5       , 0.5       , 0.        ,\n",
       "        0.5       , 0.5       , 0.83333333, 0.        , 0.        ,\n",
       "        0.33333333, 0.33333333, 0.        , 0.83333333, 0.83333333,\n",
       "        0.33333333, 0.5       , 0.        , 0.5       , 0.66666667,\n",
       "        0.        , 0.66666667, 0.        , 0.5       , 0.66666667,\n",
       "        0.        , 0.5       , 0.        , 0.66666667, 0.5       ,\n",
       "        0.5       , 0.5       , 0.5       , 0.66666667, 0.66666667,\n",
       "        0.66666667, 0.83333333, 1.        , 0.5       , 0.5       ,\n",
       "        1.        , 1.        , 1.        , 1.        , 1.        ,\n",
       "        0.83333333, 0.83333333, 0.83333333, 0.83333333, 0.83333333,\n",
       "        0.83333333, 0.16666667, 0.5       , 1.        , 0.83333333]),\n",
       " '6108649840bf2b927ef3905c': array([0.        , 0.        , 0.5       , 0.5       , 0.66666667,\n",
       "        0.66666667, 0.66666667, 0.66666667, 0.33333333, 0.        ,\n",
       "        0.        , 0.        , 0.16666667, 0.16666667, 0.        ,\n",
       "        0.16666667, 0.        , 0.        , 0.33333333, 0.5       ,\n",
       "        0.        , 0.16666667, 0.        , 0.16666667, 0.16666667,\n",
       "        0.33333333, 0.33333333, 0.16666667, 0.        , 0.16666667,\n",
       "        0.5       , 0.33333333, 0.5       , 0.66666667, 0.66666667,\n",
       "        0.66666667, 0.33333333, 0.66666667, 0.33333333, 0.33333333,\n",
       "        0.33333333, 0.33333333, 0.33333333, 0.66666667, 0.66666667,\n",
       "        0.83333333, 0.83333333, 0.66666667, 0.66666667, 0.33333333,\n",
       "        0.5       , 0.5       , 0.5       , 0.66666667, 0.33333333,\n",
       "        0.5       , 0.5       , 0.66666667, 0.66666667, 0.66666667,\n",
       "        0.16666667, 0.5       , 0.33333333, 0.5       , 0.66666667,\n",
       "        0.5       , 0.66666667, 0.66666667, 0.83333333, 0.83333333,\n",
       "        0.83333333, 1.        , 1.        , 0.83333333, 0.83333333,\n",
       "        0.66666667, 0.83333333, 1.        , 1.        , 1.        ,\n",
       "        1.        , 1.        , 1.        , 1.        , 1.        ,\n",
       "        1.        , 1.        , 1.        , 1.        , 1.        ]),\n",
       " '5f4f8e8f9213e9056223e128': array([0.5       , 0.        , 0.5       , 0.5       , 0.33333333,\n",
       "        0.5       , 0.5       , 0.5       , 0.        , 0.        ,\n",
       "        0.        , 0.5       , 0.5       , 0.83333333, 0.66666667,\n",
       "        0.5       , 0.5       , 0.        , 0.5       , 0.        ,\n",
       "        0.33333333, 0.5       , 0.66666667, 0.5       , 0.        ,\n",
       "        0.5       , 0.        , 0.5       , 0.16666667, 0.5       ,\n",
       "        0.        , 0.5       , 0.        , 0.5       , 0.5       ,\n",
       "        0.5       , 0.66666667, 0.33333333, 0.5       , 0.66666667,\n",
       "        0.83333333, 0.83333333, 1.        , 0.        , 0.5       ,\n",
       "        0.5       , 0.83333333, 1.        , 1.        , 1.        ,\n",
       "        1.        , 0.5       , 1.        , 0.5       , 0.5       ,\n",
       "        0.5       , 0.        , 0.5       , 0.5       , 0.66666667,\n",
       "        0.        , 0.        , 0.5       , 0.5       , 0.33333333,\n",
       "        0.5       , 0.5       , 0.5       , 0.        , 0.        ,\n",
       "        0.        , 0.        , 0.16666667, 0.        , 0.        ,\n",
       "        0.16666667, 0.        , 0.        , 0.        , 0.16666667,\n",
       "        0.        , 0.        , 0.        , 0.16666667, 0.16666667,\n",
       "        0.        , 0.16666667, 0.        , 0.        , 0.16666667]),\n",
       " '613290e8a4520dd8d0cc061a': array([0.        , 0.        , 0.        , 0.        , 0.        ,\n",
       "        0.        , 0.83333333, 0.        , 0.        , 0.        ,\n",
       "        0.83333333, 0.83333333, 1.        , 0.        , 0.        ,\n",
       "        0.        , 0.83333333, 0.83333333, 0.83333333, 0.83333333,\n",
       "        0.        , 0.        , 0.        , 0.        , 0.        ,\n",
       "        0.        , 0.        , 0.83333333, 0.83333333, 0.83333333,\n",
       "        0.        , 0.        , 0.        , 0.        , 0.        ,\n",
       "        0.        , 0.        , 0.        , 0.        , 0.        ,\n",
       "        0.        , 0.        , 0.        , 0.        , 0.        ,\n",
       "        0.        , 0.        , 0.        , 0.        , 0.        ,\n",
       "        0.        , 0.        , 0.        , 0.        , 0.        ,\n",
       "        0.        , 0.        , 0.        , 0.        , 0.        ,\n",
       "        0.        , 0.        , 0.        , 0.        , 0.        ,\n",
       "        0.        , 0.        , 0.        , 0.        , 0.        ,\n",
       "        0.        , 0.        , 0.        , 0.        , 0.        ,\n",
       "        0.        , 0.        , 0.        , 0.        , 0.        ,\n",
       "        0.        , 0.        , 0.16666667, 0.83333333, 0.        ,\n",
       "        0.16666667, 0.        , 0.        , 0.        , 0.        ]),\n",
       " '61217de916b53da848302312': array([0.16666667, 0.16666667, 0.16666667, 0.16666667, 0.16666667,\n",
       "        0.16666667, 0.5       , 0.5       , 0.5       , 0.5       ,\n",
       "        0.5       , 0.5       , 0.5       , 0.5       , 0.5       ,\n",
       "        0.5       , 0.5       , 0.5       , 0.66666667, 0.5       ,\n",
       "        0.66666667, 0.66666667, 0.66666667, 0.66666667, 0.83333333,\n",
       "        0.83333333, 0.5       , 0.5       , 0.5       , 0.66666667,\n",
       "        0.5       , 0.5       , 0.5       , 0.5       , 0.5       ,\n",
       "        0.5       , 0.5       , 0.5       , 0.5       , 0.5       ,\n",
       "        0.5       , 0.5       , 0.5       , 0.5       , 0.5       ,\n",
       "        0.5       , 0.5       , 0.5       , 0.5       , 0.5       ,\n",
       "        0.5       , 0.5       , 0.5       , 0.5       , 0.5       ,\n",
       "        0.5       , 0.5       , 0.5       , 0.5       , 0.5       ,\n",
       "        0.5       , 0.5       , 0.5       , 0.5       , 0.5       ,\n",
       "        0.5       , 0.5       , 0.5       , 0.5       , 0.5       ,\n",
       "        0.5       , 0.5       , 0.5       , 0.5       , 0.5       ,\n",
       "        0.5       , 0.5       , 0.5       , 0.5       , 0.5       ,\n",
       "        0.5       , 0.5       , 0.5       , 0.5       , 0.5       ,\n",
       "        0.5       , 0.5       , 0.5       , 0.5       , 0.5       ]),\n",
       " '61338d61ed3f2e3d196fa7c7': array([0.        , 0.5       , 0.        , 0.16666667, 0.5       ,\n",
       "        0.5       , 0.66666667, 0.        , 0.66666667, 0.83333333,\n",
       "        0.83333333, 0.33333333, 1.        , 0.        , 0.        ,\n",
       "        0.        , 1.        , 1.        , 0.83333333, 1.        ,\n",
       "        1.        , 0.16666667, 1.        , 0.83333333, 0.66666667,\n",
       "        0.5       , 0.        , 0.16666667, 0.5       , 0.83333333,\n",
       "        0.        , 0.        , 0.16666667, 0.16666667, 0.        ,\n",
       "        0.        , 0.33333333, 0.66666667, 0.        , 0.        ,\n",
       "        0.        , 0.        , 0.16666667, 0.        , 0.        ,\n",
       "        0.16666667, 0.        , 0.        , 0.        , 0.16666667,\n",
       "        0.        , 0.        , 0.        , 0.        , 0.16666667,\n",
       "        0.        , 0.16666667, 0.        , 0.        , 0.        ,\n",
       "        0.83333333, 0.16666667, 0.16666667, 0.16666667, 0.        ,\n",
       "        0.16666667, 0.        , 0.5       , 0.        , 0.        ,\n",
       "        0.        , 0.16666667, 0.16666667, 0.66666667, 1.        ,\n",
       "        0.16666667, 0.5       , 0.        , 0.16666667, 0.        ,\n",
       "        0.        , 0.5       , 0.66666667, 0.33333333, 0.        ,\n",
       "        0.66666667, 0.        , 0.        , 0.        , 0.33333333])}"
      ]
     },
     "execution_count": 138,
     "metadata": {},
     "output_type": "execute_result"
    }
   ],
   "source": [
    "tmp"
   ]
  },
  {
   "cell_type": "code",
   "execution_count": 55,
   "metadata": {},
   "outputs": [
    {
     "data": {
      "image/png": "[encoded data removed]",
      "text/plain": [
       "<Figure size 432x288 with 1 Axes>"
      ]
     },
     "metadata": {
      "needs_background": "light"
     },
     "output_type": "display_data"
    }
   ],
   "source": [
    "for i in range(len(uuids)):\n",
    "    p=sns.lineplot(x=norm_suspicion_ratings[i], y=RT_ratings[i])\n",
    "    p.set(xlabel=\"normalized suspicion rating\", ylabel=\"RT honesty rating\")"
   ]
  },
  {
   "cell_type": "code",
   "execution_count": 140,
   "metadata": {},
   "outputs": [],
   "source": [
    "diff_s_ev_alpha = [\n",
    "    0.74,\n",
    "0.3,\n",
    "0,\n",
    "0.33,\n",
    "0.05,\n",
    "0.3,\n",
    "0.34,\n",
    "0.36,\n",
    "0.6,\n",
    "0.67]\n",
    "\n",
    "diff_s_ev_prior = [\n",
    "    0,\n",
    "0.11,\n",
    "0.48,\n",
    "0.18,\n",
    "0.42,\n",
    "0.05,\n",
    "0.25,\n",
    "0,\n",
    "0,\n",
    "0]"
   ]
  },
  {
   "cell_type": "code",
   "execution_count": 56,
   "metadata": {},
   "outputs": [],
   "source": [
    "from statistics import median"
   ]
  },
  {
   "cell_type": "code",
   "execution_count": 141,
   "metadata": {},
   "outputs": [],
   "source": [
    "s_ev_alpha_hmedian = [1 if v > median(diff_s_ev_alpha) else 0 for v in diff_s_ev_alpha]"
   ]
  },
  {
   "cell_type": "code",
   "execution_count": 142,
   "metadata": {},
   "outputs": [],
   "source": [
    "s_ev_prior_hmedian = [1 if v > median(diff_s_ev_prior) else 0 for v in diff_s_ev_prior]"
   ]
  },
  {
   "cell_type": "code",
   "execution_count": 57,
   "metadata": {},
   "outputs": [],
   "source": [
    "mean_hrs = []\n",
    "\n",
    "for ratings in norm_suspicion_ratings:\n",
    "    mean_hrs.append(sum(ratings)/len(ratings))"
   ]
  },
  {
   "cell_type": "code",
   "execution_count": 144,
   "metadata": {},
   "outputs": [],
   "source": [
    "tmp = pd.DataFrame({\"higher_than_median\": s_ev_alpha_hmedian, \n",
    "                    \"mean_normed_suspicion_rating\": mean_hrs,\n",
    "                    \"lied_more\": [v > median(lie_prop) for v in lie_prop],\n",
    "                    \"diff_s_ev_alpha\": diff_s_ev_alpha, \"diff_s_ev_prior\": diff_s_ev_prior, \"s_ev_prior_hmedian\": s_ev_prior_hmedian, \"lie_prop\": lie_prop})"
   ]
  },
  {
   "cell_type": "code",
   "execution_count": 58,
   "metadata": {},
   "outputs": [
    {
     "data": {
      "text/plain": [
       "[Text(0.5, 0, 'lied more than median lie proportion'),\n",
       " Text(0, 0.5, 'mean suspicion')]"
      ]
     },
     "execution_count": 58,
     "metadata": {},
     "output_type": "execute_result"
    },
    {
     "data": {
      "image/png": "[encoded data removed]",
      "text/plain": [
       "<Figure size 432x288 with 1 Axes>"
      ]
     },
     "metadata": {
      "needs_background": "light"
     },
     "output_type": "display_data"
    }
   ],
   "source": [
    "tmp = [v > median(lie_prop) for v in lie_prop]\n",
    "p = sns.barplot(x=tmp, y=mean_hrs)\n",
    "p.set(xlabel=\"lied more than median lie proportion\", ylabel=\"mean suspicion\")\n",
    "# p.set_title(\"SAME condition: liars and mean suspicion\")"
   ]
  },
  {
   "cell_type": "code",
   "execution_count": 59,
   "metadata": {},
   "outputs": [
    {
     "data": {
      "text/plain": [
       "Text(0.5, 1.0, 'DIFF condition signed EV model w/o update rule: high vs low alpha and lie proportion')"
      ]
     },
     "execution_count": 59,
     "metadata": {},
     "output_type": "execute_result"
    },
    {
     "data": {
      "image/png": "[encoded data removed]",
      "text/plain": [
       "<Figure size 432x288 with 1 Axes>"
      ]
     },
     "metadata": {
      "needs_background": "light"
     },
     "output_type": "display_data"
    }
   ],
   "source": [
    "p = sns.barplot(data=tmp, y=\"lie_prop\", x=\"higher_than_median\")\n",
    "p.set(xlabel=\"alpha higher than median (1) or not (0)\", ylabel=\"lie proportion\")\n",
    "p.set_title(\"DIFF condition signed EV model w/o update rule: high vs low alpha and lie proportion\")"
   ]
  },
  {
   "cell_type": "code",
   "execution_count": 60,
   "metadata": {},
   "outputs": [
    {
     "data": {
      "text/plain": [
       "Text(0.5, 1.0, 'DIFF condition signed EV model w/o update rule: high vs low prior and lying')"
      ]
     },
     "execution_count": 60,
     "metadata": {},
     "output_type": "execute_result"
    },
    {
     "data": {
      "image/png": "[encoded data removed]",
      "text/plain": [
       "<Figure size 432x288 with 1 Axes>"
      ]
     },
     "metadata": {
      "needs_background": "light"
     },
     "output_type": "display_data"
    }
   ],
   "source": [
    "p = sns.barplot(data=tmp, y=\"lie_prop\", x=\"s_ev_prior_hmedian\")\n",
    "p.set(xlabel=\"baseline suspicion (prior) higher than median (1) or not (0)\", ylabel=\"lie proportion\")\n",
    "p.set_title(\"DIFF condition signed EV model w/o update rule: high vs low prior and lying\")"
   ]
  },
  {
   "cell_type": "code",
   "execution_count": 59,
   "metadata": {
    "scrolled": true
   },
   "outputs": [
    {
     "data": {
      "text/plain": [
       "[Text(0.5, 0, 'lie proportion'), Text(0, 0.5, 'mean honesty rating')]"
      ]
     },
     "execution_count": 59,
     "metadata": {},
     "output_type": "execute_result"
    },
    {
     "data": {
      "image/png": "[encoded data removed]",
      "text/plain": [
       "<Figure size 432x288 with 1 Axes>"
      ]
     },
     "metadata": {
      "needs_background": "light"
     },
     "output_type": "display_data"
    }
   ],
   "source": [
    "tmp = pd.DataFrame({'lie_prop': lie_prop, 'avg_hr': avg_honesty_rating})\n",
    "\n",
    "p = sns.scatterplot(data=tmp, x='lie_prop', y='avg_hr')\n",
    "p.set(xlabel=\"lie proportion\", ylabel=\"mean honesty rating\")\n",
    "# p.set_title(\"DIFF condition\")"
   ]
  },
  {
   "cell_type": "code",
   "execution_count": 60,
   "metadata": {},
   "outputs": [],
   "source": [
    "# inspect block order effects\n",
    "\n",
    "def mean(x):\n",
    "    return sum(x)/len(x)"
   ]
  },
  {
   "cell_type": "code",
   "execution_count": 61,
   "metadata": {},
   "outputs": [],
   "source": [
    "avg_nolie_block_ratings = []\n",
    "avg_lie33_block_ratings = []\n",
    "avg_lie50_block_ratings = []\n",
    "\n",
    "sd_nolie_block_ratings = []\n",
    "sd_lie33_block_ratings = []\n",
    "sd_lie50_block_ratings = []\n",
    "\n",
    "for i, uuid in enumerate(uuids):\n",
    "    if condition[uuid] == \"11\":\n",
    "        nolie = tmp[uuid][:30]\n",
    "        avg_nolie_block_ratings.append(mean(nolie))\n",
    "        sd_nolie_block_ratings.append(np.std(nolie))\n",
    "#         print(i, \"mean honesty rating\", mean(nolie))\n",
    "#         print(i, \"SD honesty rating\", np.std(nolie))\n",
    "        \n",
    "        lie33 = tmp[uuid][30:60]\n",
    "        avg_lie33_block_ratings.append(mean(lie33))\n",
    "        sd_lie33_block_ratings.append(np.std(lie33))\n",
    "        \n",
    "        lie50 = tmp[uuid][60:]\n",
    "        avg_lie50_block_ratings.append(mean(lie50))\n",
    "        sd_lie50_block_ratings.append(np.std(lie50))\n",
    "        \n",
    "    if condition[uuid] == \"12\":\n",
    "        nolie = tmp[uuid][:30]\n",
    "        avg_nolie_block_ratings.append(mean(nolie))\n",
    "        sd_nolie_block_ratings.append(np.std(nolie))\n",
    "#         print(i, \"mean honesty rating\", mean(nolie))\n",
    "#         print(i, \"SD honesty rating\", np.std(nolie))\n",
    "        \n",
    "        lie33 = tmp[uuid][60:]\n",
    "        avg_lie33_block_ratings.append(mean(lie33))\n",
    "        sd_lie33_block_ratings.append(np.std(lie33))\n",
    "        \n",
    "        lie50 = tmp[uuid][30:60]\n",
    "        avg_lie50_block_ratings.append(mean(lie50))\n",
    "        sd_lie50_block_ratings.append(np.std(lie50))\n",
    "        \n",
    "    if condition[uuid] == \"21\":\n",
    "        nolie = tmp[uuid][30:60]\n",
    "        avg_nolie_block_ratings.append(mean(nolie))\n",
    "        sd_nolie_block_ratings.append(np.std(nolie))\n",
    "#         print(i, \"mean honesty rating\", mean(nolie))\n",
    "#         print(i, \"SD honesty rating\", np.std(nolie))\n",
    "        \n",
    "        lie33 = tmp[uuid][:30]\n",
    "        avg_lie33_block_ratings.append(mean(lie33))\n",
    "        sd_lie33_block_ratings.append(np.std(lie33))\n",
    "        \n",
    "        lie50 = tmp[uuid][60:]\n",
    "        avg_lie50_block_ratings.append(mean(lie50))\n",
    "        sd_lie50_block_ratings.append(np.std(lie50))\n",
    "        \n",
    "    if condition[uuid] == \"22\":\n",
    "        nolie = tmp[uuid][60:]\n",
    "        avg_nolie_block_ratings.append(mean(nolie))\n",
    "        sd_nolie_block_ratings.append(np.std(nolie))\n",
    "#         print(i, \"mean honesty rating\", mean(nolie))\n",
    "#         print(i, \"SD honesty rating\", np.std(nolie))\n",
    "        \n",
    "        lie33 = tmp[uuid][:30]\n",
    "        avg_lie33_block_ratings.append(mean(lie33))\n",
    "        sd_lie33_block_ratings.append(np.std(lie33))\n",
    "        \n",
    "        lie50 = tmp[uuid][30:60]\n",
    "        avg_lie50_block_ratings.append(mean(lie50))\n",
    "        sd_lie50_block_ratings.append(np.std(lie50))\n",
    "        \n",
    "    if condition[uuid] == \"31\":\n",
    "        nolie = tmp[uuid][30:60]\n",
    "        avg_nolie_block_ratings.append(mean(nolie))\n",
    "        sd_nolie_block_ratings.append(np.std(nolie))\n",
    "#         print(i, \"mean honesty rating\", mean(nolie))\n",
    "#         print(i, \"SD honesty rating\", np.std(nolie))\n",
    "        \n",
    "        lie33 = tmp[uuid][60:]\n",
    "        avg_lie33_block_ratings.append(mean(lie33))\n",
    "        sd_lie33_block_ratings.append(np.std(lie33))\n",
    "        \n",
    "        lie50 = tmp[uuid][:30]\n",
    "        avg_lie50_block_ratings.append(mean(lie50))\n",
    "        sd_lie50_block_ratings.append(np.std(lie50))\n",
    "    if condition[uuid] == \"32\":\n",
    "        nolie = tmp[uuid][60:]\n",
    "        avg_nolie_block_ratings.append(mean(nolie))\n",
    "        sd_nolie_block_ratings.append(np.std(nolie))\n",
    "#         print(i, \"mean honesty rating\", mean(nolie))\n",
    "#         print(i, \"SD honesty rating\", np.std(nolie))\n",
    "                \n",
    "        lie33 = tmp[uuid][30:60]\n",
    "        avg_lie33_block_ratings.append(mean(lie33))\n",
    "        sd_lie33_block_ratings.append(np.std(lie33))\n",
    "        \n",
    "        lie50 = tmp[uuid][:30]\n",
    "        avg_lie50_block_ratings.append(mean(lie50))\n",
    "        sd_lie50_block_ratings.append(np.std(lie50))\n",
    "    else:\n",
    "        pass"
   ]
  },
  {
   "cell_type": "code",
   "execution_count": 60,
   "metadata": {},
   "outputs": [],
   "source": [
    "block_lieorder_avg_ratings = list(zip(avg_nolie_block_ratings, avg_lie33_block_ratings, avg_lie50_block_ratings))"
   ]
  },
  {
   "cell_type": "code",
   "execution_count": 61,
   "metadata": {},
   "outputs": [],
   "source": [
    "block_lieorder_sd_ratings = list(zip(sd_nolie_block_ratings, sd_lie33_block_ratings, sd_lie50_block_ratings))"
   ]
  },
  {
   "cell_type": "code",
   "execution_count": 62,
   "metadata": {},
   "outputs": [],
   "source": [
    "from scipy.stats import chisquare"
   ]
  },
  {
   "cell_type": "code",
   "execution_count": 63,
   "metadata": {},
   "outputs": [
    {
     "name": "stderr",
     "output_type": "stream",
     "text": [
      "C:\\Users\\Sarah Zheng\\.conda\\envs\\sim-test\\lib\\site-packages\\scipy\\stats\\stats.py:5975: RuntimeWarning: Mean of empty slice.\n",
      "  f_exp = f_obs.mean(axis=axis, keepdims=True)\n"
     ]
    },
    {
     "data": {
      "text/plain": [
       "Power_divergenceResult(statistic=0.0, pvalue=nan)"
      ]
     },
     "execution_count": 63,
     "metadata": {},
     "output_type": "execute_result"
    }
   ],
   "source": [
    "chisquare(avg_nolie_block_ratings)"
   ]
  },
  {
   "cell_type": "code",
   "execution_count": 64,
   "metadata": {},
   "outputs": [
    {
     "data": {
      "text/plain": [
       "Power_divergenceResult(statistic=0.0, pvalue=nan)"
      ]
     },
     "execution_count": 64,
     "metadata": {},
     "output_type": "execute_result"
    }
   ],
   "source": [
    "chisquare(avg_lie33_block_ratings)"
   ]
  },
  {
   "cell_type": "code",
   "execution_count": 65,
   "metadata": {},
   "outputs": [
    {
     "data": {
      "text/plain": [
       "Power_divergenceResult(statistic=0.0, pvalue=nan)"
      ]
     },
     "execution_count": 65,
     "metadata": {},
     "output_type": "execute_result"
    }
   ],
   "source": [
    "chisquare(avg_lie50_block_ratings)"
   ]
  },
  {
   "cell_type": "code",
   "execution_count": 66,
   "metadata": {},
   "outputs": [
    {
     "data": {
      "text/plain": [
       "[]"
      ]
     },
     "execution_count": 66,
     "metadata": {},
     "output_type": "execute_result"
    }
   ],
   "source": [
    "avg_nolie_block_ratings"
   ]
  },
  {
   "cell_type": "code",
   "execution_count": 39,
   "metadata": {},
   "outputs": [],
   "source": [
    "#     i_report_honesty = np.array([transdict[x] for x in block1_resp.randomPickColour]) != block1_resp.reportColour\n",
    "#     i_report_honesty.extend(np.array([transdict[x] for x in block2_resp.randomPickColour]) != block2_resp.reportColour)\n",
    "#     i_report_honesty.extend(np.array([transdict[x] for x in block3_resp.randomPickColour]) != block3_resp.reportColour)\n",
    "#     if_lied.append(i_report_honesty)"
   ]
  },
  {
   "cell_type": "markdown",
   "metadata": {},
   "source": [
    "### inspect demographics data"
   ]
  },
  {
   "cell_type": "code",
   "execution_count": 62,
   "metadata": {},
   "outputs": [],
   "source": [
    "# demographics survey query reference\n",
    "refs_demographics = []\n",
    "for uuid in uuids:\n",
    "    refs_demographics.append(subjects_ref.document(uuid).collection(u'responses').document('demographics').get())"
   ]
  },
  {
   "cell_type": "code",
   "execution_count": 63,
   "metadata": {},
   "outputs": [
    {
     "name": "stdout",
     "output_type": "stream",
     "text": [
      "0 3\n",
      "1 6\n",
      "2 5\n",
      "3 3\n",
      "4 3\n",
      "5 5\n",
      "6 3\n",
      "7 9\n",
      "8 5\n",
      "9 2\n",
      "10 3\n",
      "11 5\n",
      "12 6\n",
      "13 8\n"
     ]
    }
   ],
   "source": [
    "edlev = []\n",
    "\n",
    "for i, feedback in enumerate(refs_demographics):\n",
    "    if feedback.to_dict() is None:\n",
    "        continue\n",
    "    print(i, feedback.to_dict()['edlev'])\n",
    "    edlev.append(int(feedback.to_dict()['edlev']))"
   ]
  },
  {
   "cell_type": "code",
   "execution_count": 64,
   "metadata": {},
   "outputs": [
    {
     "name": "stdout",
     "output_type": "stream",
     "text": [
      "0 22\n",
      "1 25\n",
      "2 28\n",
      "3 24\n",
      "4 28\n",
      "5 20\n",
      "6 23\n",
      "7 31\n",
      "8 28\n",
      "9 23\n",
      "10 19\n",
      "11 38\n",
      "12 41\n",
      "13 23\n"
     ]
    }
   ],
   "source": [
    "age = []\n",
    "\n",
    "for i, feedback in enumerate(refs_demographics):\n",
    "    if feedback.to_dict() is None:\n",
    "        continue\n",
    "    print(i, feedback.to_dict()['age'])\n",
    "    age.append(int(feedback.to_dict()['age']))"
   ]
  },
  {
   "cell_type": "code",
   "execution_count": 65,
   "metadata": {},
   "outputs": [
    {
     "data": {
      "text/plain": [
       "26.642857142857142"
      ]
     },
     "execution_count": 65,
     "metadata": {},
     "output_type": "execute_result"
    }
   ],
   "source": [
    "sum(age)/len(age)"
   ]
  },
  {
   "cell_type": "code",
   "execution_count": 66,
   "metadata": {},
   "outputs": [
    {
     "name": "stdout",
     "output_type": "stream",
     "text": [
      "0 female\n",
      "1 male\n",
      "2 male\n",
      "3 male\n",
      "4 female\n",
      "5 female\n",
      "6 female\n",
      "7 male\n",
      "8 male\n",
      "9 male\n",
      "10 male\n",
      "11 male\n",
      "12 male\n",
      "13 female\n"
     ]
    }
   ],
   "source": [
    "gender = []\n",
    "\n",
    "for i, feedback in enumerate(refs_demographics):\n",
    "    print(i, feedback.to_dict()['gender'])\n",
    "    gender.append(feedback.to_dict()['gender'])"
   ]
  },
  {
   "cell_type": "markdown",
   "metadata": {},
   "source": [
    "### inspect EQ scores"
   ]
  },
  {
   "cell_type": "code",
   "execution_count": 67,
   "metadata": {},
   "outputs": [],
   "source": [
    "# EQ survey query reference\n",
    "refs_eq = []\n",
    "\n",
    "for uuid in uuids:\n",
    "    refs_eq.append(subjects_ref.document(uuid).collection(u'responses').document('EQ').get())"
   ]
  },
  {
   "cell_type": "code",
   "execution_count": 68,
   "metadata": {},
   "outputs": [],
   "source": [
    "eq_items_r = [\n",
    "    \"I find it hard to know what to do in a social situation\",\n",
    "    \"I often find it difficult to judge if something is rude or polite\",\n",
    "    \"In a conversation I tend to focus on my own thoughts rather than on what my listener might be thinking\",\n",
    "    \"It is hard for me to see why some things upset people so much\", \n",
    "    \"I can’t always see why someone should have felt offended by a remark\",\n",
    "    \"Other people often say that I am insensitive though I don’t always see why\"\n",
    "]\n",
    "\n",
    "eq_items = [\"I can easily tell if someone else wants to enter a conversation\",\n",
    "            \"I really enjoy caring for other people\",\n",
    "            \"I can pick up quickly if someone says one thing but means another\",\n",
    "            \"I find it easy to put myself in somebody else’s shoes\",\n",
    "            \"I am good at predicting how someone will feel\",\n",
    "            \"I am quick to spot when someone in a group is feeling awkward or uncomfortable\",\n",
    "            \"I don’t tend to find social situations confusing\",\n",
    "            \"Other people tell me I am good at understanding how they are feeling and what they are thinking\",\n",
    "            \"I can easily tell if someone else is interested or bored with what I am saying\",\n",
    "            \"Friends usually talk to me about their problems as they say that I am very understanding\",\n",
    "            \"I can sense if I am intruding even if the other person doesn’t tell me\",\n",
    "            \"I can tune into how someone else feels rapidly and intuitively\",\n",
    "            \"I can easily work out what another person might want to talk about\",\n",
    "            \"I can tell if someone is masking their true emotion\",\n",
    "            \"I am good at predicting what someone will do\",\n",
    "            \"I tend to get emotionally involved with a friend’s problem\"\n",
    "           ]\n",
    "\n",
    "eq_catch = [\n",
    "#     \"Please select the middle answer option\",\n",
    "    \"Please select the first answer option\",\n",
    "    \"Please select the last answer option\"\n",
    "]"
   ]
  },
  {
   "cell_type": "code",
   "execution_count": 69,
   "metadata": {},
   "outputs": [],
   "source": [
    "eq_responses = []\n",
    "\n",
    "for uuid in uuids:\n",
    "    for i, resp in enumerate(refs_eq):\n",
    "        i_eq = []\n",
    "        if resp.to_dict() is None:\n",
    "            continue\n",
    "        for it in eq_items:\n",
    "            i_eq.append(resp.to_dict()[it])\n",
    "        for jt in eq_items_r:\n",
    "            ar = resp.to_dict()[jt]\n",
    "            ar = numexpr.evaluate(f'(7 - ar)')\n",
    "            i_eq.append(ar.item())\n",
    "        eq_responses.append(i_eq)"
   ]
  },
  {
   "cell_type": "code",
   "execution_count": 70,
   "metadata": {},
   "outputs": [
    {
     "data": {
      "text/plain": [
       "196"
      ]
     },
     "execution_count": 70,
     "metadata": {},
     "output_type": "execute_result"
    }
   ],
   "source": [
    "len(eq_responses)"
   ]
  },
  {
   "cell_type": "code",
   "execution_count": 71,
   "metadata": {},
   "outputs": [],
   "source": [
    "eq_responses = eq_responses[:len(uuids)]"
   ]
  },
  {
   "cell_type": "code",
   "execution_count": 72,
   "metadata": {},
   "outputs": [
    {
     "data": {
      "text/plain": [
       "[[5, 6, 5, 3, 5, 7, 3, 4, 6, 7, 6, 5, 4, 4, 5, 5, 0, 3, 2, 2, 5, 5],\n",
       " [5, 6, 6, 4, 5, 7, 4, 4, 7, 4, 6, 4, 5, 5, 5, 5, 2, 5, 2, 3, 2, 3],\n",
       " [6, 5, 2, 2, 2, 3, 2, 2, 5, 3, 3, 3, 3, 3, 4, 6, 2, 5, 2, 1, 1, 5],\n",
       " [6, 7, 6, 6, 6, 6, 3, 7, 6, 6, 7, 6, 6, 6, 4, 6, 1, 5, 3, 5, 5, 5],\n",
       " [5, 6, 5, 5, 6, 5, 4, 5, 5, 6, 5, 5, 5, 5, 5, 5, 3, 3, 3, 4, 4, 4],\n",
       " [3, 3, 2, 4, 4, 4, 5, 4, 4, 5, 5, 4, 3, 7, 5, 2, 2, 4, 4, 4, 2, 3],\n",
       " [1, 1, 5, 4, 5, 6, 6, 6, 5, 6, 6, 5, 5, 5, 4, 6, 4, 6, 3, 2, 2, 4],\n",
       " [6, 3, 7, 6, 5, 7, 6, 5, 7, 4, 6, 6, 5, 7, 5, 2, 2, 6, 3, 5, 5, 5],\n",
       " [5, 7, 5, 3, 3, 2, 2, 3, 2, 5, 1, 3, 5, 3, 5, 6, 2, 1, 1, 1, 0, 1],\n",
       " [2, 5, 5, 6, 4, 6, 2, 5, 6, 4, 6, 5, 2, 6, 5, 7, 1, 2, 6, 4, 2, 5],\n",
       " [2, 4, 5, 3, 3, 3, 2, 4, 5, 4, 3, 2, 3, 4, 2, 5, 0, 1, 2, 2, 2, 3],\n",
       " [5, 2, 6, 5, 6, 6, 4, 5, 7, 5, 6, 6, 7, 5, 6, 4, 6, 6, 2, 5, 5, 5],\n",
       " [6, 6, 5, 4, 1, 3, 4, 5, 5, 5, 6, 4, 4, 3, 4, 3, 2, 3, 4, 1, 2, 3],\n",
       " [1, 7, 7, 7, 7, 7, 6, 7, 7, 7, 5, 7, 7, 7, 6, 5, 5, 6, 4, 1, 5, 6]]"
      ]
     },
     "execution_count": 72,
     "metadata": {},
     "output_type": "execute_result"
    }
   ],
   "source": [
    "eq_responses"
   ]
  },
  {
   "cell_type": "code",
   "execution_count": 73,
   "metadata": {},
   "outputs": [],
   "source": [
    "avg_eq_nr = [mean(r) for r in eq_responses]"
   ]
  },
  {
   "cell_type": "code",
   "execution_count": 74,
   "metadata": {},
   "outputs": [
    {
     "data": {
      "text/plain": [
       "[4.409090909090909,\n",
       " 4.5,\n",
       " 3.1818181818181817,\n",
       " 5.363636363636363,\n",
       " 4.681818181818182,\n",
       " 3.772727272727273,\n",
       " 4.409090909090909,\n",
       " 5.136363636363637,\n",
       " 3.0,\n",
       " 4.363636363636363,\n",
       " 2.909090909090909,\n",
       " 5.181818181818182,\n",
       " 3.772727272727273,\n",
       " 5.7727272727272725]"
      ]
     },
     "execution_count": 74,
     "metadata": {},
     "output_type": "execute_result"
    }
   ],
   "source": [
    "avg_eq_nr"
   ]
  },
  {
   "cell_type": "code",
   "execution_count": 178,
   "metadata": {},
   "outputs": [],
   "source": [
    "# SAME cond\n",
    "alpha = [0.426, 0.589,0.191,0.463,0.749,0.567,0.628,0.247,0.205,0.574]\n",
    "prior = [0.083,\n",
    "0.053,\n",
    "0.158,\n",
    "0.143,\n",
    "0.082,\n",
    "0.294,\n",
    "0,\n",
    "0,\n",
    "0.479,\n",
    "0]\n",
    "\n",
    "# DIFF cond\n",
    "# alpha = [0.74,\n",
    "# 0.3,\n",
    "# 0,\n",
    "# 0.33,\n",
    "# 0.05,\n",
    "# 0.3,\n",
    "# 0.34,\n",
    "# 0.36,\n",
    "# 0.6,\n",
    "# 0.67\n",
    "# ]"
   ]
  },
  {
   "cell_type": "code",
   "execution_count": 166,
   "metadata": {},
   "outputs": [
    {
     "data": {
      "text/plain": [
       "[0.426, 0.589, 0.191, 0.463, 0.749, 0.567, 0.628, 0.247, 0.205, 0.574]"
      ]
     },
     "execution_count": 166,
     "metadata": {},
     "output_type": "execute_result"
    }
   ],
   "source": [
    "alpha"
   ]
  },
  {
   "cell_type": "code",
   "execution_count": 167,
   "metadata": {},
   "outputs": [
    {
     "data": {
      "text/plain": [
       "SpearmanrResult(correlation=-0.2561023219940237, pvalue=0.47509694061174745)"
      ]
     },
     "execution_count": 167,
     "metadata": {},
     "output_type": "execute_result"
    }
   ],
   "source": [
    "spearmanr(alpha, avg_eq_nr)"
   ]
  },
  {
   "cell_type": "code",
   "execution_count": 168,
   "metadata": {},
   "outputs": [
    {
     "data": {
      "text/plain": [
       "SpearmanrResult(correlation=0.18902790432892227, pvalue=0.60096233836)"
      ]
     },
     "execution_count": 168,
     "metadata": {},
     "output_type": "execute_result"
    }
   ],
   "source": [
    "spearmanr(avg_eq_nr, lie_prop)"
   ]
  },
  {
   "cell_type": "code",
   "execution_count": 180,
   "metadata": {},
   "outputs": [
    {
     "data": {
      "text/plain": [
       "(-0.17817089972986666, 0.6223898056501148)"
      ]
     },
     "execution_count": 180,
     "metadata": {},
     "output_type": "execute_result"
    }
   ],
   "source": [
    "pearsonr(avg_eq_nr, alpha)"
   ]
  },
  {
   "cell_type": "code",
   "execution_count": 179,
   "metadata": {},
   "outputs": [
    {
     "data": {
      "text/plain": [
       "SpearmanrResult(correlation=0.4321069980017209, pvalue=0.21236346025711839)"
      ]
     },
     "execution_count": 179,
     "metadata": {},
     "output_type": "execute_result"
    }
   ],
   "source": [
    "spearmanr(prior, avg_eq_nr)"
   ]
  },
  {
   "cell_type": "code",
   "execution_count": 181,
   "metadata": {},
   "outputs": [
    {
     "data": {
      "text/plain": [
       "(0.25975248293005926, 0.46860215403571875)"
      ]
     },
     "execution_count": 181,
     "metadata": {},
     "output_type": "execute_result"
    }
   ],
   "source": [
    "pearsonr(prior, avg_eq_nr)"
   ]
  },
  {
   "cell_type": "code",
   "execution_count": 176,
   "metadata": {},
   "outputs": [
    {
     "data": {
      "text/plain": [
       "[Text(0.5, 0, 'signed EV alpha'), Text(0, 0.5, 'EQ score')]"
      ]
     },
     "execution_count": 176,
     "metadata": {},
     "output_type": "execute_result"
    },
    {
     "data": {
      "image/png": "[encoded data removed]",
      "text/plain": [
       "<Figure size 432x288 with 1 Axes>"
      ]
     },
     "metadata": {
      "needs_background": "light"
     },
     "output_type": "display_data"
    }
   ],
   "source": [
    "p = sns.regplot(x=alpha, y=avg_eq_nr)\n",
    "p.set(xlabel=\"signed EV alpha\", ylabel=\"EQ score\")"
   ]
  },
  {
   "cell_type": "code",
   "execution_count": 182,
   "metadata": {},
   "outputs": [
    {
     "data": {
      "text/plain": [
       "[Text(0.5, 0, 'signed EV prior'), Text(0, 0.5, 'EQ score')]"
      ]
     },
     "execution_count": 182,
     "metadata": {},
     "output_type": "execute_result"
    },
    {
     "data": {
      "image/png": "[encoded data removed]",
      "text/plain": [
       "<Figure size 432x288 with 1 Axes>"
      ]
     },
     "metadata": {
      "needs_background": "light"
     },
     "output_type": "display_data"
    }
   ],
   "source": [
    "p = sns.regplot(x=prior, y=avg_eq_nr)\n",
    "p.set(xlabel=\"signed EV prior\", ylabel=\"EQ score\")"
   ]
  },
  {
   "cell_type": "code",
   "execution_count": 94,
   "metadata": {},
   "outputs": [
    {
     "data": {
      "text/plain": [
       "[Text(0.5, 0, 'signed EV alpha'), Text(0, 0.5, 'EQ score')]"
      ]
     },
     "execution_count": 94,
     "metadata": {},
     "output_type": "execute_result"
    },
    {
     "data": {
      "image/png": "[encoded data removed]",
      "text/plain": [
       "<Figure size 432x288 with 1 Axes>"
      ]
     },
     "metadata": {
      "needs_background": "light"
     },
     "output_type": "display_data"
    }
   ],
   "source": [
    "p = sns.regplot(x=diff_s_ev_alpha, y=avg_eq_nr)\n",
    "p.set(xlabel=\"signed EV alpha\", ylabel=\"EQ score\")"
   ]
  },
  {
   "cell_type": "code",
   "execution_count": 95,
   "metadata": {},
   "outputs": [
    {
     "data": {
      "text/plain": [
       "[Text(0.5, 0, 'signed EV prior'), Text(0, 0.5, 'EQ score')]"
      ]
     },
     "execution_count": 95,
     "metadata": {},
     "output_type": "execute_result"
    },
    {
     "data": {
      "image/png": "[encoded data removed]",
      "text/plain": [
       "<Figure size 432x288 with 1 Axes>"
      ]
     },
     "metadata": {
      "needs_background": "light"
     },
     "output_type": "display_data"
    }
   ],
   "source": [
    "p = sns.regplot(x=diff_s_ev_prior, y=avg_eq_nr)\n",
    "p.set(xlabel=\"signed EV prior\", ylabel=\"EQ score\")"
   ]
  },
  {
   "cell_type": "code",
   "execution_count": 89,
   "metadata": {},
   "outputs": [
    {
     "data": {
      "text/plain": [
       "[Text(0.5, 0, 'mean EQ score'), Text(0, 0.5, 'lie proportion')]"
      ]
     },
     "execution_count": 89,
     "metadata": {},
     "output_type": "execute_result"
    },
    {
     "data": {
      "image/png": "[encoded data removed]",
      "text/plain": [
       "<Figure size 432x288 with 1 Axes>"
      ]
     },
     "metadata": {
      "needs_background": "light"
     },
     "output_type": "display_data"
    }
   ],
   "source": [
    "p = sns.regplot(x=avg_eq_nr, y=lie_prop)\n",
    "p.set(xlabel=\"mean EQ score\", ylabel=\"lie proportion\")"
   ]
  },
  {
   "cell_type": "code",
   "execution_count": 83,
   "metadata": {},
   "outputs": [],
   "source": [
    "eq_catch_resp = []\n",
    "\n",
    "for uuid in uuids:\n",
    "    for i, resp in enumerate(refs_eq):\n",
    "        if resp.to_dict() is None:\n",
    "            continue\n",
    "        i_eq = []\n",
    "        for it in eq_catch:\n",
    "            i_eq.append(resp.to_dict()[it])\n",
    "        eq_catch_resp.append(i_eq)"
   ]
  },
  {
   "cell_type": "code",
   "execution_count": 84,
   "metadata": {},
   "outputs": [
    {
     "data": {
      "text/plain": [
       "[[1, 7],\n",
       " [1, 7],\n",
       " [1, 7],\n",
       " [1, 7],\n",
       " [1, 7],\n",
       " [2, 6],\n",
       " [1, 7],\n",
       " [1, 7],\n",
       " [1, 7],\n",
       " [1, 7]]"
      ]
     },
     "execution_count": 84,
     "metadata": {},
     "output_type": "execute_result"
    }
   ],
   "source": [
    "# check if people succeeded at all catch questions\n",
    "\n",
    "eq_catch_resp[:len(uuids)]"
   ]
  },
  {
   "cell_type": "code",
   "execution_count": 85,
   "metadata": {},
   "outputs": [
    {
     "data": {
      "text/plain": [
       "SpearmanrResult(correlation=0.18211264438226807, pvalue=0.6145797547146987)"
      ]
     },
     "execution_count": 85,
     "metadata": {},
     "output_type": "execute_result"
    }
   ],
   "source": [
    "spearmanr(age, avg_eq_nr)"
   ]
  },
  {
   "cell_type": "code",
   "execution_count": 86,
   "metadata": {},
   "outputs": [
    {
     "data": {
      "text/plain": [
       "SpearmanrResult(correlation=-0.09259964968589902, pvalue=0.7991662536065858)"
      ]
     },
     "execution_count": 86,
     "metadata": {},
     "output_type": "execute_result"
    }
   ],
   "source": [
    "spearmanr(age, avg_honesty_rating)"
   ]
  },
  {
   "cell_type": "code",
   "execution_count": 87,
   "metadata": {},
   "outputs": [
    {
     "data": {
      "text/plain": [
       "SpearmanrResult(correlation=0.0, pvalue=1.0)"
      ]
     },
     "execution_count": 87,
     "metadata": {},
     "output_type": "execute_result"
    }
   ],
   "source": [
    "spearmanr(gender, avg_eq_nr)"
   ]
  },
  {
   "cell_type": "code",
   "execution_count": 88,
   "metadata": {},
   "outputs": [
    {
     "data": {
      "text/plain": [
       "SpearmanrResult(correlation=-0.025418480997564552, pvalue=0.9444329838987481)"
      ]
     },
     "execution_count": 88,
     "metadata": {},
     "output_type": "execute_result"
    }
   ],
   "source": [
    "spearmanr(edlev, avg_eq_nr)"
   ]
  },
  {
   "cell_type": "markdown",
   "metadata": {},
   "source": [
    "### RTs"
   ]
  },
  {
   "cell_type": "code",
   "execution_count": 89,
   "metadata": {},
   "outputs": [
    {
     "name": "stdout",
     "output_type": "stream",
     "text": [
      "SpearmanrResult(correlation=-0.29864519321528843, pvalue=0.0042477973904126685)\n",
      "SpearmanrResult(correlation=-0.15754101955602315, pvalue=0.13808741437091063)\n",
      "SpearmanrResult(correlation=-0.028357892108100927, pvalue=0.7907634514739853)\n",
      "SpearmanrResult(correlation=0.18414933920099494, pvalue=0.08230499747432378)\n",
      "SpearmanrResult(correlation=0.037355256737444636, pvalue=0.7266753963343557)\n",
      "SpearmanrResult(correlation=-0.36379111694929733, pvalue=0.00042418382015095915)\n",
      "SpearmanrResult(correlation=0.15618962283495882, pvalue=0.14154253510084833)\n",
      "SpearmanrResult(correlation=-0.21106227193424112, pvalue=0.045838302325468434)\n",
      "SpearmanrResult(correlation=0.030834429040935127, pvalue=0.7729635058302359)\n",
      "SpearmanrResult(correlation=-0.2521746639233051, pvalue=0.01649448251074156)\n"
     ]
    }
   ],
   "source": [
    "for i, uuid in enumerate(uuids):\n",
    "    print(spearmanr(RT_ratings[i], honesty_ratings[i]))"
   ]
  },
  {
   "cell_type": "code",
   "execution_count": 90,
   "metadata": {},
   "outputs": [
    {
     "data": {
      "text/plain": [
       "SpearmanrResult(correlation=-0.13939393939393938, pvalue=0.7009318849100584)"
      ]
     },
     "execution_count": 90,
     "metadata": {},
     "output_type": "execute_result"
    }
   ],
   "source": [
    "avg_RT_ratings = [sum(rt)/len(rt) for rt in RT_ratings]\n",
    "spearmanr(avg_RT_ratings, lie_prop)"
   ]
  },
  {
   "cell_type": "code",
   "execution_count": 58,
   "metadata": {},
   "outputs": [],
   "source": [
    "# lied trials vs. not lied trials honesty rating RT\n",
    "\n"
   ]
  },
  {
   "cell_type": "code",
   "execution_count": null,
   "metadata": {},
   "outputs": [],
   "source": []
  },
  {
   "cell_type": "markdown",
   "metadata": {},
   "source": [
    "## Autism (AQ) scores"
   ]
  },
  {
   "cell_type": "code",
   "execution_count": 75,
   "metadata": {},
   "outputs": [],
   "source": [
    "with open(\"../cards-deception/cards-game/src/assets/AQ.json\", \"r\", encoding=\"utf-8\") as f:\n",
    "    aq_items = json.load(f)"
   ]
  },
  {
   "cell_type": "code",
   "execution_count": 80,
   "metadata": {},
   "outputs": [
    {
     "name": "stdout",
     "output_type": "stream",
     "text": [
      "I often notice small sounds when others do not.\n",
      "I usually concentrate more on the whole picture, rather than the small details.\n",
      "I find it easy to do more than one thing at once.\n",
      "Please select the first answer option.\n",
      "If there is an interruption, I can switch back to what I was doing very quickly.\n",
      "I find it easy to ‘read between the lines’ when someone is talking to me.\n",
      "I know how to tell if someone listening to me is getting bored.\n",
      "When I’m reading a story I find it difficult to work out the characters’ intentions.\n",
      "I like to collect information about categories of things (e.g., types of car, types of bird, types of train, types of plant, etc).\n",
      "I find it easy to work out what someone is thinking or feeling just by looking at their face.\n",
      "I find it difficult to work out people’s intentions.\n"
     ]
    }
   ],
   "source": [
    "for a in aq_items:\n",
    "    print(a['item'])"
   ]
  },
  {
   "cell_type": "code",
   "execution_count": 84,
   "metadata": {},
   "outputs": [],
   "source": [
    "catch = [\"Please select the first answer option.\"]\n",
    "\n",
    "aq_items = [\n",
    "    \"I often notice small sounds when others do not.\",\n",
    "\"When I’m reading a story I find it difficult to work out the characters’ intentions.\",\n",
    "\"I like to collect information about categories of things (e.g., types of car, types of bird, types of train, types of plant, etc).\",\n",
    "\"I find it easy to work out what someone is thinking or feeling just by looking at their face.\",\n",
    "\"I find it difficult to work out people’s intentions.\"\n",
    "]\n",
    "\n",
    "aq_items_r = [\n",
    "    \"I usually concentrate more on the whole picture, rather than the small details.\",\n",
    "\"I find it easy to do more than one thing at once.\",\n",
    "\"If there is an interruption, I can switch back to what I was doing very quickly.\",\n",
    "\"I find it easy to ‘read between the lines’ when someone is talking to me.\",\n",
    "\"I know how to tell if someone listening to me is getting bored.\"\n",
    "]"
   ]
  },
  {
   "cell_type": "code",
   "execution_count": 83,
   "metadata": {},
   "outputs": [],
   "source": [
    "refs_aq = []\n",
    "\n",
    "for uuid in uuids:\n",
    "    refs_aq.append(subjects_ref.document(uuid).collection(u'responses').document('AQ').get())"
   ]
  },
  {
   "cell_type": "code",
   "execution_count": 85,
   "metadata": {},
   "outputs": [],
   "source": [
    "aq_responses = []\n",
    "\n",
    "for uuid in uuids:\n",
    "    for i, resp in enumerate(refs_aq):\n",
    "        i_aq = []\n",
    "        if resp.to_dict() is None:\n",
    "            continue\n",
    "        for it in aq_items:\n",
    "            i_aq.append(resp.to_dict()[it])\n",
    "        for jt in aq_items_r:\n",
    "            ar = resp.to_dict()[jt]\n",
    "            ar = numexpr.evaluate(f'(4 - ar)')\n",
    "            i_aq.append(ar.item())\n",
    "        aq_responses.append(i_aq)"
   ]
  },
  {
   "cell_type": "code",
   "execution_count": 88,
   "metadata": {},
   "outputs": [],
   "source": [
    "aq_responses = aq_responses[:len(uuids)]"
   ]
  },
  {
   "cell_type": "code",
   "execution_count": 89,
   "metadata": {},
   "outputs": [
    {
     "data": {
      "text/plain": [
       "[[4, 1, 3, 3, 3, 2, 1, 2, 3, 0],\n",
       " [2, 2, 3, 2, 3, 1, 1, 0, 0, 0],\n",
       " [3, 1, 2, 1, 4, 1, 3, 2, 3, 2],\n",
       " [4, 1, 3, 3, 2, 0, 1, 1, 0, 0],\n",
       " [4, 2, 2, 3, 2, 2, 0, 1, 1, 1],\n",
       " [2, 3, 3, 3, 2, 1, 1, 2, 2, 1],\n",
       " [3, 3, 3, 3, 3, 0, 1, 1, 1, 1],\n",
       " [2, 2, 3, 4, 2, 1, 3, 2, 0, 1],\n",
       " [3, 2, 3, 2, 4, 2, 2, 2, 3, 2],\n",
       " [4, 2, 1, 3, 3, 2, 1, 2, 1, 0],\n",
       " [2, 2, 4, 2, 3, 1, 3, 1, 3, 1],\n",
       " [1, 4, 1, 3, 1, 0, 1, 0, 0, 1],\n",
       " [3, 2, 3, 2, 2, 1, 2, 2, 1, 2],\n",
       " [4, 2, 1, 3, 1, 1, 0, 0, 0, 0]]"
      ]
     },
     "execution_count": 89,
     "metadata": {},
     "output_type": "execute_result"
    }
   ],
   "source": [
    "aq_responses"
   ]
  },
  {
   "cell_type": "code",
   "execution_count": null,
   "metadata": {},
   "outputs": [],
   "source": []
  },
  {
   "cell_type": "code",
   "execution_count": null,
   "metadata": {},
   "outputs": [],
   "source": []
  },
  {
   "cell_type": "code",
   "execution_count": null,
   "metadata": {},
   "outputs": [],
   "source": []
  },
  {
   "cell_type": "markdown",
   "metadata": {},
   "source": [
    "## CRT scores"
   ]
  },
  {
   "cell_type": "code",
   "execution_count": null,
   "metadata": {},
   "outputs": [],
   "source": []
  },
  {
   "cell_type": "code",
   "execution_count": null,
   "metadata": {},
   "outputs": [],
   "source": []
  },
  {
   "cell_type": "code",
   "execution_count": null,
   "metadata": {},
   "outputs": [],
   "source": []
  },
  {
   "cell_type": "code",
   "execution_count": null,
   "metadata": {},
   "outputs": [],
   "source": []
  },
  {
   "cell_type": "code",
   "execution_count": null,
   "metadata": {},
   "outputs": [],
   "source": []
  },
  {
   "cell_type": "markdown",
   "metadata": {},
   "source": [
    "## R-GPTS paranoia scores"
   ]
  },
  {
   "cell_type": "code",
   "execution_count": 81,
   "metadata": {},
   "outputs": [],
   "source": [
    "with open(\"../cards-deception/cards-game/src/assets/RGPTS.json\", \"r\", encoding=\"utf-8\") as f:\n",
    "    rgpts_items = json.load(f)"
   ]
  },
  {
   "cell_type": "code",
   "execution_count": 90,
   "metadata": {},
   "outputs": [
    {
     "name": "stdout",
     "output_type": "stream",
     "text": [
      "I spent time thinking about friends gossiping about me.\n",
      "I often heard people referring to me.\n",
      "I have been upset by friends and colleagues judging me critically.\n",
      "People definitely laughed at me behind my back.\n",
      "I have been thinking a lot about people avoiding me.\n",
      "People have been dropping hints for me.\n",
      "I believed that certain people were not what they seemed.\n",
      "Please select the last answer option.\n",
      "People talking about me behind my back upset me.\n",
      "Certain individuals have had it in for me.\n",
      "People wanted me to feel threatened, so they stared at me.\n",
      "I was certain people did things in order to annoy me.\n",
      "Please select the second answer option.\n",
      "I was convinced there was a conspiracy against me.\n",
      "I was sure someone wanted to hurt me.\n",
      "I couldn’t stop thinking about people wanting to confuse me.\n",
      "I was distressed by being persecuted.\n",
      "It was difficult to stop thinking about people wanting to make me feel bad.\n",
      "People have been hostile towards me on purpose.\n",
      "I was angry that someone wanted to hurt me.\n"
     ]
    }
   ],
   "source": [
    "for a in rgpts_items:\n",
    "    print(a['item'])"
   ]
  },
  {
   "cell_type": "code",
   "execution_count": 100,
   "metadata": {},
   "outputs": [],
   "source": [
    "rgpts_items = [\n",
    "    \"I spent time thinking about friends gossiping about me.\",\n",
    "\"I often heard people referring to me.\",\n",
    "\"I have been upset by friends and colleagues judging me critically.\",\n",
    "\"People definitely laughed at me behind my back.\",\n",
    "\"I have been thinking a lot about people avoiding me.\",\n",
    "\"People have been dropping hints for me.\",\n",
    "\"I believed that certain people were not what they seemed.\",\n",
    "\"People talking about me behind my back upset me.\",\n",
    "\"Certain individuals have had it in for me.\",\n",
    "\"People wanted me to feel threatened, so they stared at me.\",\n",
    "\"I was certain people did things in order to annoy me.\",\n",
    "\"I was convinced there was a conspiracy against me.\",\n",
    "\"I was sure someone wanted to hurt me.\",\n",
    "\"I couldn’t stop thinking about people wanting to confuse me.\",\n",
    "\"I was distressed by being persecuted.\",\n",
    "\"It was difficult to stop thinking about people wanting to make me feel bad.\",\n",
    "\"People have been hostile towards me on purpose.\",\n",
    "\"I was angry that someone wanted to hurt me.\"\n",
    "]\n",
    "\n",
    "catch = [\n",
    "    \"Please select the last answer option.\",\n",
    "    \"Please select the second answer option.\"\n",
    "]"
   ]
  },
  {
   "cell_type": "code",
   "execution_count": 97,
   "metadata": {},
   "outputs": [],
   "source": [
    "refs_rgpts = []\n",
    "\n",
    "for uuid in uuids:\n",
    "    refs_rgpts.append(subjects_ref.document(uuid).collection(u'responses').document('RGPTS').get())"
   ]
  },
  {
   "cell_type": "code",
   "execution_count": null,
   "metadata": {},
   "outputs": [],
   "source": []
  },
  {
   "cell_type": "code",
   "execution_count": 104,
   "metadata": {},
   "outputs": [
    {
     "ename": "KeyError",
     "evalue": "'I was convinced there was a conspiracy against me.'",
     "output_type": "error",
     "traceback": [
      "\u001b[1;31m---------------------------------------------------------------------------\u001b[0m",
      "\u001b[1;31mKeyError\u001b[0m                                  Traceback (most recent call last)",
      "\u001b[1;32m<ipython-input-104-954e2b76cf06>\u001b[0m in \u001b[0;36m<module>\u001b[1;34m\u001b[0m\n\u001b[0;32m      4\u001b[0m     \u001b[0mi_rgpts\u001b[0m \u001b[1;33m=\u001b[0m \u001b[1;33m[\u001b[0m\u001b[1;33m]\u001b[0m\u001b[1;33m\u001b[0m\u001b[1;33m\u001b[0m\u001b[0m\n\u001b[0;32m      5\u001b[0m     \u001b[1;32mfor\u001b[0m \u001b[0mkey\u001b[0m \u001b[1;32min\u001b[0m \u001b[0mrgpts_items\u001b[0m\u001b[1;33m:\u001b[0m\u001b[1;33m\u001b[0m\u001b[1;33m\u001b[0m\u001b[0m\n\u001b[1;32m----> 6\u001b[1;33m         \u001b[0mi_rgpts\u001b[0m\u001b[1;33m.\u001b[0m\u001b[0mappend\u001b[0m\u001b[1;33m(\u001b[0m\u001b[0mresp\u001b[0m\u001b[1;33m.\u001b[0m\u001b[0mto_dict\u001b[0m\u001b[1;33m(\u001b[0m\u001b[1;33m)\u001b[0m\u001b[1;33m[\u001b[0m\u001b[0mkey\u001b[0m\u001b[1;33m]\u001b[0m\u001b[1;33m)\u001b[0m\u001b[1;33m\u001b[0m\u001b[1;33m\u001b[0m\u001b[0m\n\u001b[0m\u001b[0;32m      7\u001b[0m     \u001b[0mrgpts_responses\u001b[0m\u001b[1;33m.\u001b[0m\u001b[0mappend\u001b[0m\u001b[1;33m(\u001b[0m\u001b[0mi_rgpts\u001b[0m\u001b[1;33m)\u001b[0m\u001b[1;33m\u001b[0m\u001b[1;33m\u001b[0m\u001b[0m\n",
      "\u001b[1;31mKeyError\u001b[0m: 'I was convinced there was a conspiracy against me.'"
     ]
    }
   ],
   "source": [
    "rgpts_responses = []\n",
    "\n",
    "for i, resp in enumerate(refs_rgpts):\n",
    "    i_rgpts = []\n",
    "    for key in rgpts_items:\n",
    "        i_rgpts.append(resp.to_dict()[key])\n",
    "    rgpts_responses.append(i_rgpts)"
   ]
  },
  {
   "cell_type": "code",
   "execution_count": null,
   "metadata": {},
   "outputs": [],
   "source": []
  },
  {
   "cell_type": "code",
   "execution_count": null,
   "metadata": {},
   "outputs": [],
   "source": []
  },
  {
   "cell_type": "code",
   "execution_count": null,
   "metadata": {},
   "outputs": [],
   "source": []
  },
  {
   "cell_type": "markdown",
   "metadata": {},
   "source": [
    "## Dark triad (SD3) scores"
   ]
  },
  {
   "cell_type": "code",
   "execution_count": 82,
   "metadata": {},
   "outputs": [],
   "source": [
    "with open(\"../cards-deception/cards-game/src/assets/SD3.json\", \"r\", encoding=\"utf-8\") as f:\n",
    "    sd3_items = json.load(f)"
   ]
  },
  {
   "cell_type": "code",
   "execution_count": 106,
   "metadata": {},
   "outputs": [
    {
     "name": "stdout",
     "output_type": "stream",
     "text": [
      "It’s not wise to tell your secrets.\n",
      "I like to use clever manipulation to get my way.\n",
      "Whatever it takes, you must get the important people on your side.\n",
      "Please select the third answer option.\n",
      "Avoid direct conflict with others because they may be useful in the future.\n",
      "It’s wise to keep track of information that you can use against people later.\n",
      "You should wait for the right time to get back at people.\n",
      "There are things you should hide from other people to preserve your reputation.\n",
      "Make sure your plans benefit yourself, not others.\n",
      "Most people can be manipulated.\n",
      "People see me as a natural leader.\n",
      "I hate being the center of attention.\n",
      "Many group activities tend to be dull without me.\n",
      "I know that I am special because everyone keeps telling me so.\n",
      "I like to get acquainted with important people.\n",
      "I feel embarrassed if someone compliments me.\n",
      "I have been compared to famous people.\n",
      "I am an average person.\n",
      "I insist on getting the respect I deserve.\n",
      "I like to get revenge on authorities.\n",
      "Please select the last answer option.\n",
      "I avoid dangerous situations.\n",
      "Payback needs to be quick and nasty.\n",
      "People often say I’m out of control.\n",
      "It’s true that I can be mean to others.\n",
      "People who mess with me always regret it\n"
     ]
    }
   ],
   "source": [
    "for i in sd3_items:\n",
    "    print(i['item'])"
   ]
  },
  {
   "cell_type": "code",
   "execution_count": null,
   "metadata": {},
   "outputs": [],
   "source": [
    "narcis_items = [\n",
    "    It’s not wise to tell your secrets.\n",
    "I like to use clever manipulation to get my way.\n",
    "Whatever it takes, you must get the important people on your side.\n",
    "Please select the third answer option.\n",
    "Avoid direct conflict with others because they may be useful in the future.\n",
    "It’s wise to keep track of information that you can use against people later.\n",
    "You should wait for the right time to get back at people.\n",
    "There are things you should hide from other people to preserve your reputation.\n",
    "]\n",
    "\n",
    "machia_items = [\n",
    "    Make sure your plans benefit yourself, not others.\n",
    "Most people can be manipulated.\n",
    "People see me as a natural leader.\n",
    "I hate being the center of attention.\n",
    "Many group activities tend to be dull without me.\n",
    "I know that I am special because everyone keeps telling me so.\n",
    "I like to get acquainted with important people.\n",
    "I feel embarrassed if someone compliments me.\n",
    "I have been compared to famous people.\n",
    "]\n",
    "\n",
    "psycho_items = [\n",
    "    I am an average person.\n",
    "I insist on getting the respect I deserve.\n",
    "I like to get revenge on authorities.\n",
    "I avoid dangerous situations.\n",
    "Payback needs to be quick and nasty.\n",
    "People often say I’m out of control.\n",
    "It’s true that I can be mean to others.\n",
    "People who mess with me always regret it\n",
    "]\n",
    "\n",
    "catch = [\"Please select the last answer option.\"]"
   ]
  },
  {
   "cell_type": "code",
   "execution_count": 105,
   "metadata": {},
   "outputs": [],
   "source": [
    "refs_sd3 = []\n",
    "\n",
    "for uuid in uuids:\n",
    "    refs_sd3.append(subjects_ref.document(uuid).collection(u'responses').document('SD3').get())"
   ]
  },
  {
   "cell_type": "code",
   "execution_count": null,
   "metadata": {},
   "outputs": [],
   "source": []
  },
  {
   "cell_type": "code",
   "execution_count": null,
   "metadata": {},
   "outputs": [],
   "source": []
  },
  {
   "cell_type": "code",
   "execution_count": null,
   "metadata": {},
   "outputs": [],
   "source": []
  },
  {
   "cell_type": "code",
   "execution_count": null,
   "metadata": {},
   "outputs": [],
   "source": []
  },
  {
   "cell_type": "code",
   "execution_count": null,
   "metadata": {},
   "outputs": [],
   "source": []
  },
  {
   "cell_type": "code",
   "execution_count": null,
   "metadata": {},
   "outputs": [],
   "source": []
  },
  {
   "cell_type": "markdown",
   "metadata": {},
   "source": [
    "### inspect feedback and debrief question responses"
   ]
  },
  {
   "cell_type": "code",
   "execution_count": 91,
   "metadata": {},
   "outputs": [],
   "source": [
    "refs_feedback = []\n",
    "\n",
    "for uuid in uuids:\n",
    "    refs_feedback.append(subjects_ref.document(uuid).collection(u'responses').document('feedback').get())"
   ]
  },
  {
   "cell_type": "code",
   "execution_count": 92,
   "metadata": {},
   "outputs": [
    {
     "name": "stdout",
     "output_type": "stream",
     "text": [
      "6110e7ae08023ecb9207b05e It could be on how my mind operates, or when I pick and choose to be truthful to others who don't even know me, or if I wish to expose myself an be vulnerable with the truth to others.\n",
      "5fec7577ad8fbadf15cd5607 Identify how certain incentives can change the decisions of people.\n",
      "615f1500b60d25e2660e8644 to collect information on how well participants can read each other's emotions and intentions. \n",
      "615ec4f34cb81d7e58fa144c To discern honesty and dishonesty \n",
      "5cd5fe480f0de600018e7251 Possibly to see if someone would truthfully answer and not manipulate the results to benefit them.\n",
      "60f44f7a57468d4e9f87fa5b no idea but it was interesting\n",
      "6160011304f5319ece189bfa To see if people answer correctly despite whether they win or lose\n",
      "5af196e1e1b5b8000148ac76 To gauge whether people's honesty is based on certain personality traits when financial gain is involved.\n",
      "6154284fc5154abb9a264b0c To judge another person's character by measuring their honesty and to see if individuals can predict what someone is going to do based on their actions.\n",
      "6147d726fa94eb7d5c2de156 To determine whether people will care about the non-meaningful game enough to be honest, or if they will simply try to maximise profit.\n"
     ]
    }
   ],
   "source": [
    "for i, feedback in enumerate(refs_feedback):\n",
    "    print(uuids[i], feedback.to_dict()['studyPurpose'])"
   ]
  },
  {
   "cell_type": "code",
   "execution_count": 93,
   "metadata": {},
   "outputs": [
    {
     "name": "stdout",
     "output_type": "stream",
     "text": [
      "5\n",
      "6\n",
      "6\n",
      "6\n",
      "0\n",
      "4\n",
      "5\n",
      "4\n",
      "4\n",
      "6\n"
     ]
    }
   ],
   "source": [
    "for i, feedback in enumerate(refs_feedback):\n",
    "    print( feedback.to_dict()['understoodTask']) #uuids[i],"
   ]
  },
  {
   "cell_type": "code",
   "execution_count": 95,
   "metadata": {
    "scrolled": true
   },
   "outputs": [
    {
     "name": "stdout",
     "output_type": "stream",
     "text": [
      "6110e7ae08023ecb9207b05e No I do not, it was explained very well, the first 3 practice runs helped understand the game a lot better and efficiently. \n",
      "5fec7577ad8fbadf15cd5607 No, not really.\n",
      "615f1500b60d25e2660e8644 None\n",
      "615ec4f34cb81d7e58fa144c No.\n",
      "5cd5fe480f0de600018e7251 None at all.\n",
      "60f44f7a57468d4e9f87fa5b no\n",
      "6160011304f5319ece189bfa No\n",
      "5af196e1e1b5b8000148ac76 I wasn't sure whether I was required to be honest or not when reporting the cards.\n",
      "6154284fc5154abb9a264b0c The attention questions for the card game, I think I got them all wrong because sometimes I mix up my lefts and rights so I believe I did it the other way round so I apologize for that!\n",
      "6147d726fa94eb7d5c2de156 Yes, I have no idea why I should ever be picking red.\n"
     ]
    }
   ],
   "source": [
    "for i, feedback in enumerate(refs_feedback):\n",
    "    print(uuids[i], feedback.to_dict()['concerns'])"
   ]
  },
  {
   "cell_type": "code",
   "execution_count": 96,
   "metadata": {},
   "outputs": [
    {
     "name": "stdout",
     "output_type": "stream",
     "text": [
      "6110e7ae08023ecb9207b05e To try to tell the truth as much as possible, without feeling judged.\n",
      "5fec7577ad8fbadf15cd5607 Mixture of winning and being honest.\n",
      "615f1500b60d25e2660e8644 to win and yet be mainly honest. \n",
      "615ec4f34cb81d7e58fa144c To have fun and earn some money \n",
      "5cd5fe480f0de600018e7251 To correctly choose the result the computer-generated and also try to win the game against other players.\n",
      "60f44f7a57468d4e9f87fa5b fun and interesting \n",
      "6160011304f5319ece189bfa Tell the correct colour I got\n",
      "5af196e1e1b5b8000148ac76 To complete the study and see if being dishonest would make any difference to winning or losing points.\n",
      "6154284fc5154abb9a264b0c To be as honest as possible, however, when the opponent starting being dishonest, it made me be dishonest to try and score more points.\n",
      "6147d726fa94eb7d5c2de156 I have no idea, I was torn between making profit and feeling bad about being dishonest with my answers. I guess my goal was to make a tiny profit whilst remaining somewhat honest.\n"
     ]
    }
   ],
   "source": [
    "for i, feedback in enumerate(refs_feedback):\n",
    "    print(uuids[i], feedback.to_dict()['yourGoal'])"
   ]
  },
  {
   "cell_type": "code",
   "execution_count": 97,
   "metadata": {},
   "outputs": [
    {
     "name": "stdout",
     "output_type": "stream",
     "text": [
      "6110e7ae08023ecb9207b05e they may have had the same goals as me during the game, or they could've just played the game for money or to just play it. \n",
      "5fec7577ad8fbadf15cd5607 Similar to mine, even though at times it felt like certain players valued honesty more.\n",
      "615f1500b60d25e2660e8644 To win completely or to be completely honest. \n",
      "615ec4f34cb81d7e58fa144c to earn some money and help sciene. \n",
      "5cd5fe480f0de600018e7251 It's possible that their goal is to win the game against other players too.\n",
      "60f44f7a57468d4e9f87fa5b probably the same \n",
      "6160011304f5319ece189bfa To win each card selection\n",
      "5af196e1e1b5b8000148ac76 Perhaps similar to my own\n",
      "6154284fc5154abb9a264b0c To try and score as many points as possible whilst seeming honest.\n",
      "6147d726fa94eb7d5c2de156 I think all players had their own goals, despite me saying I only faced 1 other person, I think that person had the same strategy as me. Some people weren't really playing a game and were just being honest whereas others only cared about money.\n"
     ]
    }
   ],
   "source": [
    "for i, feedback in enumerate(refs_feedback):\n",
    "    print(uuids[i], feedback.to_dict()['othersGoal'])"
   ]
  },
  {
   "cell_type": "code",
   "execution_count": 98,
   "metadata": {},
   "outputs": [
    {
     "name": "stdout",
     "output_type": "stream",
     "text": [
      "6110e7ae08023ecb9207b05e 4\n",
      "5fec7577ad8fbadf15cd5607 3\n",
      "615f1500b60d25e2660e8644 5\n",
      "615ec4f34cb81d7e58fa144c 2\n",
      "5cd5fe480f0de600018e7251 4\n",
      "60f44f7a57468d4e9f87fa5b 2\n",
      "6160011304f5319ece189bfa 4\n",
      "5af196e1e1b5b8000148ac76 4\n",
      "6154284fc5154abb9a264b0c 1\n",
      "6147d726fa94eb7d5c2de156 1\n"
     ]
    }
   ],
   "source": [
    "for i, feedback in enumerate(refs_feedback):\n",
    "    print(uuids[i], feedback.to_dict()['goodDetection'])"
   ]
  },
  {
   "cell_type": "code",
   "execution_count": 99,
   "metadata": {},
   "outputs": [
    {
     "name": "stdout",
     "output_type": "stream",
     "text": [
      "6110e7ae08023ecb9207b05e 5\n",
      "5fec7577ad8fbadf15cd5607 4\n",
      "615f1500b60d25e2660e8644 4\n",
      "615ec4f34cb81d7e58fa144c 6\n",
      "5cd5fe480f0de600018e7251 2\n",
      "60f44f7a57468d4e9f87fa5b 3\n",
      "6160011304f5319ece189bfa 5\n",
      "5af196e1e1b5b8000148ac76 2\n",
      "6154284fc5154abb9a264b0c 4\n",
      "6147d726fa94eb7d5c2de156 3\n"
     ]
    }
   ],
   "source": [
    "for i, feedback in enumerate(refs_feedback):\n",
    "    print(uuids[i], feedback.to_dict()['howHonest'])"
   ]
  },
  {
   "cell_type": "code",
   "execution_count": 100,
   "metadata": {},
   "outputs": [
    {
     "name": "stdout",
     "output_type": "stream",
     "text": [
      "6110e7ae08023ecb9207b05e 4\n",
      "5fec7577ad8fbadf15cd5607 3\n",
      "615f1500b60d25e2660e8644 10\n",
      "615ec4f34cb81d7e58fa144c 3\n",
      "5cd5fe480f0de600018e7251 3\n",
      "60f44f7a57468d4e9f87fa5b 3\n",
      "6160011304f5319ece189bfa 3\n",
      "5af196e1e1b5b8000148ac76 90\n",
      "6154284fc5154abb9a264b0c 3\n",
      "6147d726fa94eb7d5c2de156 1\n"
     ]
    }
   ],
   "source": [
    "for i, feedback in enumerate(refs_feedback):\n",
    "    print(uuids[i], feedback.to_dict()['howMany'])"
   ]
  },
  {
   "cell_type": "code",
   "execution_count": 101,
   "metadata": {},
   "outputs": [
    {
     "name": "stdout",
     "output_type": "stream",
     "text": [
      "6110e7ae08023ecb9207b05e 1\n",
      "5fec7577ad8fbadf15cd5607 1\n",
      "615f1500b60d25e2660e8644 1\n",
      "615ec4f34cb81d7e58fa144c 1\n",
      "5cd5fe480f0de600018e7251 1\n",
      "60f44f7a57468d4e9f87fa5b 1\n",
      "6160011304f5319ece189bfa 1\n",
      "5af196e1e1b5b8000148ac76 1\n",
      "6154284fc5154abb9a264b0c 1\n",
      "6147d726fa94eb7d5c2de156 1\n"
     ]
    }
   ],
   "source": [
    "for i, feedback in enumerate(refs_feedback):\n",
    "    print(uuids[i], feedback.to_dict()['playAgain'])"
   ]
  },
  {
   "cell_type": "code",
   "execution_count": null,
   "metadata": {},
   "outputs": [],
   "source": []
  }
 ],
 "metadata": {
  "kernelspec": {
   "display_name": "Python 3",
   "language": "python",
   "name": "python3"
  },
  "language_info": {
   "codemirror_mode": {
    "name": "ipython",
    "version": 3
   },
   "file_extension": ".py",
   "mimetype": "text/x-python",
   "name": "python",
   "nbconvert_exporter": "python",
   "pygments_lexer": "ipython3",
   "version": "3.8.5"
  }
 },
 "nbformat": 4,
 "nbformat_minor": 4
}
