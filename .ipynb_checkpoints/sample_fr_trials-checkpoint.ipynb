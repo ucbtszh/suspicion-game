{
 "cells": [
  {
   "cell_type": "code",
   "execution_count": 1,
   "metadata": {},
   "outputs": [],
   "source": [
    "import numpy as np\n",
    "import json\n",
    "import pandas as pd\n",
    "import matplotlib as plt\n",
    "import seaborn as sns\n",
    "import feather"
   ]
  },
  {
   "cell_type": "code",
   "execution_count": 13,
   "metadata": {},
   "outputs": [],
   "source": [
    "uuids = [ #SAME\n",
    "    '61017dbbf8b1afba48b7822e',\n",
    "'6116aa4d3c4d9eae26b66171',\n",
    "'6109b8238588407db4764ec1',\n",
    "'611841738f4e8342f5ba3765',\n",
    "'6108649840bf2b927ef3905c',\n",
    "'5f4f8e8f9213e9056223e128',\n",
    "'613290e8a4520dd8d0cc061a',\n",
    "'61217de916b53da848302312',\n",
    "'61338d61ed3f2e3d196fa7c7',\n",
    "         \n",
    "         #DIFF\n",
    "'610995bd91de0e899effd73d',\n",
    "'599186630675b100014daddd',\n",
    "'6119884fd696463d717432c9',\n",
    "'610bb05be2e705f3e47e87fb',\n",
    "'60f0937892bd49086d6e2a77',\n",
    "'5cf656e90acc8f000147f643',\n",
    "'5fe292a28fd71dea34d04453',\n",
    "'5d341b57a48ae7000114152a',\n",
    "    \n",
    "    #batch1\n",
    "    \"6110e7ae08023ecb9207b05e\",\n",
    "\"5fec7577ad8fbadf15cd5607\",\n",
    "\"615f1500b60d25e2660e8644\",\n",
    "\"615ec4f34cb81d7e58fa144c\",\n",
    "\"5cd5fe480f0de600018e7251\",\n",
    "\"60f44f7a57468d4e9f87fa5b\",\n",
    "\"6160011304f5319ece189bfa\",\n",
    "\"5af196e1e1b5b8000148ac76\",\n",
    "\"6154284fc5154abb9a264b0c\",\n",
    "\"6147d726fa94eb7d5c2de156\",\n",
    "\"6160403f5164508979e6358d\",\n",
    "\"56210effed6e5a000ac7f3a5\",\n",
    "\"6156ee007bdef87eb5b4aeb0\",\n",
    "\"61085b8ec672d0e88151d5ae\",\n",
    "    \"57313ba2070de6000f43384e\",\n",
    "    \"615d9f86fdd5e127d783e850\",\n",
    "\"614f23537aab4e64abfd53ae\",\n",
    "\"61533356ce435e5a4a4addd0\",\n",
    "\"6152218517a89c5b41e18a06\",\n",
    "\"615f0726cbd12330a2d82556\"\n",
    "    \n",
    "    #batch2\n",
    "    \n",
    "    \n",
    "    #batch3\n",
    "    \n",
    "    \n",
    "    #batch4\n",
    "    \n",
    "    \n",
    "    #batch5\n",
    "    \n",
    "]"
   ]
  },
  {
   "cell_type": "code",
   "execution_count": null,
   "metadata": {},
   "outputs": [],
   "source": []
  },
  {
   "cell_type": "markdown",
   "metadata": {},
   "source": [
    "## Sample final pilot's DIFF players trials"
   ]
  },
  {
   "cell_type": "code",
   "execution_count": 7,
   "metadata": {},
   "outputs": [],
   "source": [
    "with open(\"./data/archive/diff_picked_col.json\", \"r\", encoding='utf-8') as f:\n",
    "    diff_col_pick = json.load(f)"
   ]
  },
  {
   "cell_type": "code",
   "execution_count": 8,
   "metadata": {},
   "outputs": [],
   "source": [
    "with open(\"./data/archive/diff_reported_col.json\", \"r\", encoding='utf-8') as f:\n",
    "    diff_col_report = json.load(f)"
   ]
  },
  {
   "cell_type": "code",
   "execution_count": 9,
   "metadata": {},
   "outputs": [],
   "source": [
    "with open(\"./data/archive/diff_n_red.json\", \"r\", encoding='utf-8') as f:\n",
    "    diff_n_red = json.load(f)"
   ]
  },
  {
   "cell_type": "code",
   "execution_count": 10,
   "metadata": {},
   "outputs": [
    {
     "data": {
      "text/plain": [
       "True"
      ]
     },
     "execution_count": 10,
     "metadata": {},
     "output_type": "execute_result"
    }
   ],
   "source": [
    "diff_n_red.keys() == diff_col_pick.keys()"
   ]
  },
  {
   "cell_type": "code",
   "execution_count": 14,
   "metadata": {},
   "outputs": [],
   "source": [
    "dfs = []\n",
    "\n",
    "for uuid in uuids:\n",
    "    if uuid not in diff_col_pick:\n",
    "        continue\n",
    "    pick = diff_col_pick[uuid]\n",
    "    outcome = diff_col_report[uuid]\n",
    "    n_red = diff_n_red[uuid]\n",
    "    dfs.append(pd.DataFrame({\"pick\": pick, \"outcome\": outcome, \"n_red\": n_red}))"
   ]
  },
  {
   "cell_type": "code",
   "execution_count": 15,
   "metadata": {},
   "outputs": [],
   "source": [
    "agg_df = pd.concat(dfs)\n",
    "agg_df['lied'] = agg_df['pick'] != agg_df['outcome']"
   ]
  },
  {
   "cell_type": "code",
   "execution_count": null,
   "metadata": {},
   "outputs": [],
   "source": [
    "# agg_df.reset_index().to_feather(\"finalpilot_diff_batch1_trials.feather\")"
   ]
  },
  {
   "cell_type": "code",
   "execution_count": 17,
   "metadata": {},
   "outputs": [],
   "source": [
    "agg_df = pd.read_feather(\"./data/finalpilot_diff_batch1_trials.feather\")"
   ]
  },
  {
   "cell_type": "code",
   "execution_count": null,
   "metadata": {
    "scrolled": true
   },
   "outputs": [],
   "source": [
    "for i in range(8):\n",
    "    print(i)\n",
    "    t_sample = agg_df.sample(90) #, random_state=0)\n",
    "    print(sum(t_sample['lied']))\n",
    "    t_sample[['n_red', 'outcome', 'lied']].iloc[:30].to_json('trials_diff'+str(i)+'_1.json', orient='records')\n",
    "    t_sample[['n_red', 'outcome', 'lied']].iloc[30:60].to_json('trials_diff'+str(i)+'_2.json', orient='records')\n",
    "    t_sample[['n_red', 'outcome', 'lied']].iloc[60:90].to_json('trials_diff'+str(i)+'_3.json', orient='records')"
   ]
  },
  {
   "cell_type": "markdown",
   "metadata": {},
   "source": [
    "## Sample final pilot's SAME players trials"
   ]
  },
  {
   "cell_type": "code",
   "execution_count": null,
   "metadata": {},
   "outputs": [],
   "source": [
    "with open(\"./data/archive/same_picked_col.json\", \"r\", encoding='utf-8') as f:\n",
    "    same_col_pick = json.load(f)"
   ]
  },
  {
   "cell_type": "code",
   "execution_count": null,
   "metadata": {},
   "outputs": [],
   "source": [
    "with open(\"./data/archive/same_reported_col.json\", \"r\", encoding='utf-8') as f:\n",
    "    same_col_report = json.load(f)"
   ]
  },
  {
   "cell_type": "code",
   "execution_count": null,
   "metadata": {},
   "outputs": [],
   "source": [
    "with open(\"./data/archive/same_n_red.json\", \"r\", encoding='utf-8') as f:\n",
    "    same_n_red = json.load(f)"
   ]
  },
  {
   "cell_type": "code",
   "execution_count": null,
   "metadata": {},
   "outputs": [],
   "source": [
    "same_col_pick.keys() == same_n_red.keys()"
   ]
  },
  {
   "cell_type": "code",
   "execution_count": null,
   "metadata": {},
   "outputs": [],
   "source": [
    "dfs = []\n",
    "\n",
    "for uuid in uuids:\n",
    "    if uuid not in same_col_pick:\n",
    "        continue\n",
    "    pick = same_col_pick[uuid]\n",
    "    outcome = same_col_report[uuid]\n",
    "    n_red = same_n_red[uuid]\n",
    "    dfs.append(pd.DataFrame({\"pick\": pick, \"outcome\": outcome, \"n_red\": n_red}))"
   ]
  },
  {
   "cell_type": "code",
   "execution_count": null,
   "metadata": {},
   "outputs": [],
   "source": [
    "agg_df = pd.concat(dfs)\n",
    "agg_df['lied'] = agg_df['pick'] != agg_df['outcome']"
   ]
  },
  {
   "cell_type": "code",
   "execution_count": null,
   "metadata": {},
   "outputs": [],
   "source": [
    "agg_df_s = pd.concat(dfs)"
   ]
  },
  {
   "cell_type": "code",
   "execution_count": null,
   "metadata": {},
   "outputs": [],
   "source": [
    "agg_df_s['lied'] = agg_df_s['pick'] != agg_df_s['outcome']"
   ]
  },
  {
   "cell_type": "code",
   "execution_count": null,
   "metadata": {},
   "outputs": [],
   "source": [
    "# agg_df_s.reset_index().to_feather(\"./data/finalpilot_same_batch1_trials.feather\")"
   ]
  },
  {
   "cell_type": "code",
   "execution_count": null,
   "metadata": {
    "scrolled": true
   },
   "outputs": [],
   "source": [
    "for i in range(len(dfs)):\n",
    "    print(i)\n",
    "    t_sample = agg_df.sample(90) #, random_state=0)\n",
    "    print(sum(t_sample['lied']))\n",
    "    t_sample[['n_red', 'outcome', 'lied']].iloc[:30].to_json('trials_same'+str(i)+'_1.json', orient='records')\n",
    "    t_sample[['n_red', 'outcome', 'lied']].iloc[30:60].to_json('trials_same'+str(i)+'_2.json', orient='records')\n",
    "    t_sample[['n_red', 'outcome', 'lied']].iloc[60:90].to_json('trials_same'+str(i)+'_3.json', orient='records')"
   ]
  },
  {
   "cell_type": "markdown",
   "metadata": {},
   "source": [
    "## Combine all past participant trials thus far and sample"
   ]
  },
  {
   "cell_type": "code",
   "execution_count": 2,
   "metadata": {},
   "outputs": [],
   "source": [
    "fr_batch1 = pd.read_feather(\"./data/fr/all_data_long.feather\")"
   ]
  },
  {
   "cell_type": "code",
   "execution_count": 19,
   "metadata": {},
   "outputs": [],
   "source": [
    "prev = pd.read_feather('./data/trials_diffsamefrbatch1.feather')"
   ]
  },
  {
   "cell_type": "code",
   "execution_count": 31,
   "metadata": {},
   "outputs": [
    {
     "data": {
      "text/html": [
       "<div>\n",
       "<style scoped>\n",
       "    .dataframe tbody tr th:only-of-type {\n",
       "        vertical-align: middle;\n",
       "    }\n",
       "\n",
       "    .dataframe tbody tr th {\n",
       "        vertical-align: top;\n",
       "    }\n",
       "\n",
       "    .dataframe thead th {\n",
       "        text-align: right;\n",
       "    }\n",
       "</style>\n",
       "<table border=\"1\" class=\"dataframe\">\n",
       "  <thead>\n",
       "    <tr style=\"text-align: right;\">\n",
       "      <th></th>\n",
       "      <th>pick</th>\n",
       "      <th>outcome</th>\n",
       "      <th>n_red</th>\n",
       "      <th>lied</th>\n",
       "    </tr>\n",
       "  </thead>\n",
       "  <tbody>\n",
       "    <tr>\n",
       "      <th>0</th>\n",
       "      <td>-1</td>\n",
       "      <td>-1</td>\n",
       "      <td>5</td>\n",
       "      <td>False</td>\n",
       "    </tr>\n",
       "    <tr>\n",
       "      <th>1</th>\n",
       "      <td>-1</td>\n",
       "      <td>-1</td>\n",
       "      <td>5</td>\n",
       "      <td>False</td>\n",
       "    </tr>\n",
       "    <tr>\n",
       "      <th>2</th>\n",
       "      <td>-1</td>\n",
       "      <td>-1</td>\n",
       "      <td>6</td>\n",
       "      <td>False</td>\n",
       "    </tr>\n",
       "    <tr>\n",
       "      <th>3</th>\n",
       "      <td>-1</td>\n",
       "      <td>-1</td>\n",
       "      <td>6</td>\n",
       "      <td>False</td>\n",
       "    </tr>\n",
       "    <tr>\n",
       "      <th>4</th>\n",
       "      <td>-1</td>\n",
       "      <td>-1</td>\n",
       "      <td>6</td>\n",
       "      <td>False</td>\n",
       "    </tr>\n",
       "    <tr>\n",
       "      <th>...</th>\n",
       "      <td>...</td>\n",
       "      <td>...</td>\n",
       "      <td>...</td>\n",
       "      <td>...</td>\n",
       "    </tr>\n",
       "    <tr>\n",
       "      <th>3325</th>\n",
       "      <td>-1</td>\n",
       "      <td>-1</td>\n",
       "      <td>6</td>\n",
       "      <td>False</td>\n",
       "    </tr>\n",
       "    <tr>\n",
       "      <th>3326</th>\n",
       "      <td>-1</td>\n",
       "      <td>-1</td>\n",
       "      <td>2</td>\n",
       "      <td>False</td>\n",
       "    </tr>\n",
       "    <tr>\n",
       "      <th>3327</th>\n",
       "      <td>1</td>\n",
       "      <td>1</td>\n",
       "      <td>2</td>\n",
       "      <td>False</td>\n",
       "    </tr>\n",
       "    <tr>\n",
       "      <th>3328</th>\n",
       "      <td>-1</td>\n",
       "      <td>-1</td>\n",
       "      <td>3</td>\n",
       "      <td>False</td>\n",
       "    </tr>\n",
       "    <tr>\n",
       "      <th>3329</th>\n",
       "      <td>-1</td>\n",
       "      <td>-1</td>\n",
       "      <td>6</td>\n",
       "      <td>False</td>\n",
       "    </tr>\n",
       "  </tbody>\n",
       "</table>\n",
       "<p>3330 rows × 4 columns</p>\n",
       "</div>"
      ],
      "text/plain": [
       "      pick  outcome  n_red   lied\n",
       "0       -1       -1      5  False\n",
       "1       -1       -1      5  False\n",
       "2       -1       -1      6  False\n",
       "3       -1       -1      6  False\n",
       "4       -1       -1      6  False\n",
       "...    ...      ...    ...    ...\n",
       "3325    -1       -1      6  False\n",
       "3326    -1       -1      2  False\n",
       "3327     1        1      2  False\n",
       "3328    -1       -1      3  False\n",
       "3329    -1       -1      6  False\n",
       "\n",
       "[3330 rows x 4 columns]"
      ]
     },
     "execution_count": 31,
     "metadata": {},
     "output_type": "execute_result"
    }
   ],
   "source": [
    "prev"
   ]
  },
  {
   "cell_type": "code",
   "execution_count": 20,
   "metadata": {},
   "outputs": [],
   "source": [
    "fr = pd.read_feather(\"./data/fr/fr_batch2_data_long.feather\")"
   ]
  },
  {
   "cell_type": "code",
   "execution_count": 40,
   "metadata": {},
   "outputs": [],
   "source": [
    "# master_df.reset_index().to_feather(\"./data/trials_diffsamefrbatch12.feather\")"
   ]
  },
  {
   "cell_type": "code",
   "execution_count": 2,
   "metadata": {},
   "outputs": [],
   "source": [
    "master_df = pd.read_feather(\"./data/trials_diffsamefrbatch12.feather\")"
   ]
  },
  {
   "cell_type": "code",
   "execution_count": 13,
   "metadata": {},
   "outputs": [
    {
     "data": {
      "text/html": [
       "<div>\n",
       "<style scoped>\n",
       "    .dataframe tbody tr th:only-of-type {\n",
       "        vertical-align: middle;\n",
       "    }\n",
       "\n",
       "    .dataframe tbody tr th {\n",
       "        vertical-align: top;\n",
       "    }\n",
       "\n",
       "    .dataframe thead th {\n",
       "        text-align: right;\n",
       "    }\n",
       "</style>\n",
       "<table border=\"1\" class=\"dataframe\">\n",
       "  <thead>\n",
       "    <tr style=\"text-align: right;\">\n",
       "      <th></th>\n",
       "      <th>pick</th>\n",
       "      <th>outcome</th>\n",
       "      <th>n_red</th>\n",
       "      <th>lied</th>\n",
       "    </tr>\n",
       "  </thead>\n",
       "  <tbody>\n",
       "    <tr>\n",
       "      <th>0</th>\n",
       "      <td>-1</td>\n",
       "      <td>-1</td>\n",
       "      <td>5</td>\n",
       "      <td>False</td>\n",
       "    </tr>\n",
       "    <tr>\n",
       "      <th>1</th>\n",
       "      <td>-1</td>\n",
       "      <td>-1</td>\n",
       "      <td>5</td>\n",
       "      <td>False</td>\n",
       "    </tr>\n",
       "    <tr>\n",
       "      <th>2</th>\n",
       "      <td>-1</td>\n",
       "      <td>-1</td>\n",
       "      <td>6</td>\n",
       "      <td>False</td>\n",
       "    </tr>\n",
       "    <tr>\n",
       "      <th>3</th>\n",
       "      <td>-1</td>\n",
       "      <td>-1</td>\n",
       "      <td>6</td>\n",
       "      <td>False</td>\n",
       "    </tr>\n",
       "    <tr>\n",
       "      <th>4</th>\n",
       "      <td>-1</td>\n",
       "      <td>-1</td>\n",
       "      <td>6</td>\n",
       "      <td>False</td>\n",
       "    </tr>\n",
       "    <tr>\n",
       "      <th>...</th>\n",
       "      <td>...</td>\n",
       "      <td>...</td>\n",
       "      <td>...</td>\n",
       "      <td>...</td>\n",
       "    </tr>\n",
       "    <tr>\n",
       "      <th>5125</th>\n",
       "      <td>1</td>\n",
       "      <td>1</td>\n",
       "      <td>5</td>\n",
       "      <td>False</td>\n",
       "    </tr>\n",
       "    <tr>\n",
       "      <th>5126</th>\n",
       "      <td>-1</td>\n",
       "      <td>-1</td>\n",
       "      <td>1</td>\n",
       "      <td>False</td>\n",
       "    </tr>\n",
       "    <tr>\n",
       "      <th>5127</th>\n",
       "      <td>-1</td>\n",
       "      <td>-1</td>\n",
       "      <td>4</td>\n",
       "      <td>False</td>\n",
       "    </tr>\n",
       "    <tr>\n",
       "      <th>5128</th>\n",
       "      <td>-1</td>\n",
       "      <td>-1</td>\n",
       "      <td>2</td>\n",
       "      <td>False</td>\n",
       "    </tr>\n",
       "    <tr>\n",
       "      <th>5129</th>\n",
       "      <td>-1</td>\n",
       "      <td>-1</td>\n",
       "      <td>5</td>\n",
       "      <td>False</td>\n",
       "    </tr>\n",
       "  </tbody>\n",
       "</table>\n",
       "<p>5130 rows × 4 columns</p>\n",
       "</div>"
      ],
      "text/plain": [
       "      pick  outcome  n_red   lied\n",
       "0       -1       -1      5  False\n",
       "1       -1       -1      5  False\n",
       "2       -1       -1      6  False\n",
       "3       -1       -1      6  False\n",
       "4       -1       -1      6  False\n",
       "...    ...      ...    ...    ...\n",
       "5125     1        1      5  False\n",
       "5126    -1       -1      1  False\n",
       "5127    -1       -1      4  False\n",
       "5128    -1       -1      2  False\n",
       "5129    -1       -1      5  False\n",
       "\n",
       "[5130 rows x 4 columns]"
      ]
     },
     "execution_count": 13,
     "metadata": {},
     "output_type": "execute_result"
    }
   ],
   "source": [
    "master_df"
   ]
  },
  {
   "cell_type": "code",
   "execution_count": 12,
   "metadata": {},
   "outputs": [],
   "source": [
    "del master_df['level_0']"
   ]
  },
  {
   "cell_type": "code",
   "execution_count": 21,
   "metadata": {},
   "outputs": [],
   "source": [
    "fr = pd.read_feather(\"./data/fr/fr_batch4_data_long.feather\")"
   ]
  },
  {
   "cell_type": "code",
   "execution_count": 4,
   "metadata": {},
   "outputs": [],
   "source": [
    "fr = pd.read_feather(\"./data/fr/fr_batch6_data_long.feather\")"
   ]
  },
  {
   "cell_type": "code",
   "execution_count": 6,
   "metadata": {},
   "outputs": [],
   "source": [
    "fr2 = pd.read_feather(\"./data/fr/fr100_data_long.feather\")"
   ]
  },
  {
   "cell_type": "code",
   "execution_count": 13,
   "metadata": {},
   "outputs": [],
   "source": [
    "df = pd.concat([fr, fr2[list(fr)]])"
   ]
  },
  {
   "cell_type": "code",
   "execution_count": 25,
   "metadata": {},
   "outputs": [],
   "source": [
    "fr = pd.DataFrame({\"pick\": df['col_picked'],\n",
    "             \"outcome\": df['col_reported'],\n",
    "                    \"n_red\": df['n_red'],\n",
    "             \"lied\": df['col_reported']!=df['col_picked']})"
   ]
  },
  {
   "cell_type": "code",
   "execution_count": 26,
   "metadata": {},
   "outputs": [
    {
     "data": {
      "text/html": [
       "<div>\n",
       "<style scoped>\n",
       "    .dataframe tbody tr th:only-of-type {\n",
       "        vertical-align: middle;\n",
       "    }\n",
       "\n",
       "    .dataframe tbody tr th {\n",
       "        vertical-align: top;\n",
       "    }\n",
       "\n",
       "    .dataframe thead th {\n",
       "        text-align: right;\n",
       "    }\n",
       "</style>\n",
       "<table border=\"1\" class=\"dataframe\">\n",
       "  <thead>\n",
       "    <tr style=\"text-align: right;\">\n",
       "      <th></th>\n",
       "      <th>pick</th>\n",
       "      <th>outcome</th>\n",
       "      <th>n_red</th>\n",
       "      <th>lied</th>\n",
       "    </tr>\n",
       "  </thead>\n",
       "  <tbody>\n",
       "    <tr>\n",
       "      <th>0</th>\n",
       "      <td>1</td>\n",
       "      <td>-1</td>\n",
       "      <td>6</td>\n",
       "      <td>True</td>\n",
       "    </tr>\n",
       "    <tr>\n",
       "      <th>1</th>\n",
       "      <td>1</td>\n",
       "      <td>1</td>\n",
       "      <td>5</td>\n",
       "      <td>False</td>\n",
       "    </tr>\n",
       "    <tr>\n",
       "      <th>2</th>\n",
       "      <td>-1</td>\n",
       "      <td>-1</td>\n",
       "      <td>2</td>\n",
       "      <td>False</td>\n",
       "    </tr>\n",
       "    <tr>\n",
       "      <th>3</th>\n",
       "      <td>-1</td>\n",
       "      <td>-1</td>\n",
       "      <td>3</td>\n",
       "      <td>False</td>\n",
       "    </tr>\n",
       "    <tr>\n",
       "      <th>4</th>\n",
       "      <td>1</td>\n",
       "      <td>1</td>\n",
       "      <td>3</td>\n",
       "      <td>False</td>\n",
       "    </tr>\n",
       "    <tr>\n",
       "      <th>...</th>\n",
       "      <td>...</td>\n",
       "      <td>...</td>\n",
       "      <td>...</td>\n",
       "      <td>...</td>\n",
       "    </tr>\n",
       "    <tr>\n",
       "      <th>8995</th>\n",
       "      <td>1</td>\n",
       "      <td>1</td>\n",
       "      <td>3</td>\n",
       "      <td>False</td>\n",
       "    </tr>\n",
       "    <tr>\n",
       "      <th>8996</th>\n",
       "      <td>1</td>\n",
       "      <td>1</td>\n",
       "      <td>6</td>\n",
       "      <td>False</td>\n",
       "    </tr>\n",
       "    <tr>\n",
       "      <th>8997</th>\n",
       "      <td>-1</td>\n",
       "      <td>1</td>\n",
       "      <td>4</td>\n",
       "      <td>True</td>\n",
       "    </tr>\n",
       "    <tr>\n",
       "      <th>8998</th>\n",
       "      <td>-1</td>\n",
       "      <td>1</td>\n",
       "      <td>2</td>\n",
       "      <td>True</td>\n",
       "    </tr>\n",
       "    <tr>\n",
       "      <th>8999</th>\n",
       "      <td>-1</td>\n",
       "      <td>1</td>\n",
       "      <td>4</td>\n",
       "      <td>True</td>\n",
       "    </tr>\n",
       "  </tbody>\n",
       "</table>\n",
       "<p>10530 rows × 4 columns</p>\n",
       "</div>"
      ],
      "text/plain": [
       "      pick  outcome  n_red   lied\n",
       "0        1       -1      6   True\n",
       "1        1        1      5  False\n",
       "2       -1       -1      2  False\n",
       "3       -1       -1      3  False\n",
       "4        1        1      3  False\n",
       "...    ...      ...    ...    ...\n",
       "8995     1        1      3  False\n",
       "8996     1        1      6  False\n",
       "8997    -1        1      4   True\n",
       "8998    -1        1      2   True\n",
       "8999    -1        1      4   True\n",
       "\n",
       "[10530 rows x 4 columns]"
      ]
     },
     "execution_count": 26,
     "metadata": {},
     "output_type": "execute_result"
    }
   ],
   "source": [
    "fr"
   ]
  },
  {
   "cell_type": "code",
   "execution_count": 28,
   "metadata": {},
   "outputs": [
    {
     "data": {
      "text/plain": [
       "True"
      ]
     },
     "execution_count": 28,
     "metadata": {},
     "output_type": "execute_result"
    }
   ],
   "source": [
    "df.shape[0] == fr.shape[0]"
   ]
  },
  {
   "cell_type": "code",
   "execution_count": 29,
   "metadata": {},
   "outputs": [],
   "source": [
    "df_lies = fr[fr['lied']==True]\n",
    "df_honest = fr[fr['lied']==False]"
   ]
  },
  {
   "cell_type": "code",
   "execution_count": 30,
   "metadata": {},
   "outputs": [
    {
     "data": {
      "text/plain": [
       "(2511, 4)"
      ]
     },
     "execution_count": 30,
     "metadata": {},
     "output_type": "execute_result"
    }
   ],
   "source": [
    "df_lies.shape"
   ]
  },
  {
   "cell_type": "code",
   "execution_count": 31,
   "metadata": {},
   "outputs": [
    {
     "data": {
      "text/plain": [
       "(8019, 4)"
      ]
     },
     "execution_count": 31,
     "metadata": {},
     "output_type": "execute_result"
    }
   ],
   "source": [
    "df_honest.shape"
   ]
  },
  {
   "cell_type": "code",
   "execution_count": 35,
   "metadata": {},
   "outputs": [
    {
     "data": {
      "text/plain": [
       "'rbatch1'"
      ]
     },
     "execution_count": 35,
     "metadata": {},
     "output_type": "execute_result"
    }
   ],
   "source": [
    "batch"
   ]
  },
  {
   "cell_type": "code",
   "execution_count": 36,
   "metadata": {},
   "outputs": [],
   "source": [
    "for i in range(20):\n",
    "    sample_l = df_lies.sample(45)\n",
    "    sample_h = df_honest.sample(45)\n",
    "    t_sample = pd.concat([sample_l, sample_h])\n",
    "    t_sample = t_sample.sample(frac=1).reset_index(drop=True)\n",
    "#     print(t_sample)\n",
    "    t_sample[['n_red', 'outcome', 'lied']].iloc[:30].to_json('./trial_setups/trials_'+batch+'_'+str(i)+'_1.json', orient='records')\n",
    "    t_sample[['n_red', 'outcome', 'lied']].iloc[30:60].to_json('./trial_setups/trials_'+batch+'_'+str(i)+'_2.json', orient='records')\n",
    "    t_sample[['n_red', 'outcome', 'lied']].iloc[60:90].to_json('./trial_setups/trials_'+batch+'_'+str(i)+'_3.json', orient='records')"
   ]
  },
  {
   "cell_type": "code",
   "execution_count": null,
   "metadata": {},
   "outputs": [],
   "source": []
  },
  {
   "cell_type": "code",
   "execution_count": null,
   "metadata": {},
   "outputs": [],
   "source": []
  },
  {
   "cell_type": "markdown",
   "metadata": {},
   "source": [
    "### OLD BELOW"
   ]
  },
  {
   "cell_type": "code",
   "execution_count": 16,
   "metadata": {},
   "outputs": [],
   "source": [
    "tmp = pd.DataFrame({\"pick\": fr['col_picked'],\n",
    "             \"outcome\": fr['col_reported'],\n",
    "                    \"n_red\": fr['n_red'],\n",
    "             \"lied\": fr['col_reported']!=fr['col_picked']})"
   ]
  },
  {
   "cell_type": "code",
   "execution_count": 16,
   "metadata": {},
   "outputs": [],
   "source": [
    "new_master = pd.concat([master_df, tmp]).reset_index(drop=True)"
   ]
  },
  {
   "cell_type": "code",
   "execution_count": 26,
   "metadata": {},
   "outputs": [],
   "source": [
    "new_master = pd.concat([new_master, tmp])"
   ]
  },
  {
   "cell_type": "code",
   "execution_count": 32,
   "metadata": {},
   "outputs": [
    {
     "data": {
      "text/html": [
       "<div>\n",
       "<style scoped>\n",
       "    .dataframe tbody tr th:only-of-type {\n",
       "        vertical-align: middle;\n",
       "    }\n",
       "\n",
       "    .dataframe tbody tr th {\n",
       "        vertical-align: top;\n",
       "    }\n",
       "\n",
       "    .dataframe thead th {\n",
       "        text-align: right;\n",
       "    }\n",
       "</style>\n",
       "<table border=\"1\" class=\"dataframe\">\n",
       "  <thead>\n",
       "    <tr style=\"text-align: right;\">\n",
       "      <th></th>\n",
       "      <th>pick</th>\n",
       "      <th>outcome</th>\n",
       "      <th>n_red</th>\n",
       "      <th>lied</th>\n",
       "    </tr>\n",
       "  </thead>\n",
       "  <tbody>\n",
       "    <tr>\n",
       "      <th>0</th>\n",
       "      <td>-1</td>\n",
       "      <td>-1</td>\n",
       "      <td>5</td>\n",
       "      <td>False</td>\n",
       "    </tr>\n",
       "    <tr>\n",
       "      <th>1</th>\n",
       "      <td>-1</td>\n",
       "      <td>-1</td>\n",
       "      <td>5</td>\n",
       "      <td>False</td>\n",
       "    </tr>\n",
       "    <tr>\n",
       "      <th>2</th>\n",
       "      <td>-1</td>\n",
       "      <td>-1</td>\n",
       "      <td>6</td>\n",
       "      <td>False</td>\n",
       "    </tr>\n",
       "    <tr>\n",
       "      <th>3</th>\n",
       "      <td>-1</td>\n",
       "      <td>-1</td>\n",
       "      <td>6</td>\n",
       "      <td>False</td>\n",
       "    </tr>\n",
       "    <tr>\n",
       "      <th>4</th>\n",
       "      <td>-1</td>\n",
       "      <td>-1</td>\n",
       "      <td>6</td>\n",
       "      <td>False</td>\n",
       "    </tr>\n",
       "  </tbody>\n",
       "</table>\n",
       "</div>"
      ],
      "text/plain": [
       "   pick  outcome  n_red   lied\n",
       "0    -1       -1      5  False\n",
       "1    -1       -1      5  False\n",
       "2    -1       -1      6  False\n",
       "3    -1       -1      6  False\n",
       "4    -1       -1      6  False"
      ]
     },
     "execution_count": 32,
     "metadata": {},
     "output_type": "execute_result"
    }
   ],
   "source": [
    "new_master.head()"
   ]
  },
  {
   "cell_type": "code",
   "execution_count": 29,
   "metadata": {},
   "outputs": [],
   "source": [
    "new_master.reset_index(drop=True).to_feather(\"./data/trials_diffsamefrbatch1234.feather\")"
   ]
  },
  {
   "cell_type": "code",
   "execution_count": 17,
   "metadata": {},
   "outputs": [],
   "source": [
    "# for which data collection batch are we sampling:\n",
    "\n",
    "batch = 'rbatch1'"
   ]
  },
  {
   "cell_type": "code",
   "execution_count": 33,
   "metadata": {},
   "outputs": [
    {
     "name": "stdout",
     "output_type": "stream",
     "text": [
      "sample 0\n",
      "25\n",
      "sample 1\n",
      "22\n",
      "sample 2\n",
      "20\n",
      "sample 3\n",
      "20\n",
      "sample 4\n",
      "25\n",
      "sample 5\n",
      "21\n",
      "sample 6\n",
      "21\n",
      "sample 7\n",
      "20\n",
      "sample 8\n",
      "11\n",
      "sample 9\n",
      "23\n",
      "sample 10\n",
      "16\n",
      "sample 11\n",
      "20\n",
      "sample 12\n",
      "19\n",
      "sample 13\n",
      "16\n",
      "sample 14\n",
      "25\n",
      "sample 15\n",
      "24\n",
      "sample 16\n",
      "25\n",
      "sample 17\n",
      "23\n",
      "sample 18\n",
      "24\n",
      "sample 19\n",
      "25\n"
     ]
    }
   ],
   "source": [
    "for i in range(20):\n",
    "    print(\"sample\", i)\n",
    "    t_sample = new_master.sample(90) #, random_state=0)\n",
    "    print(sum(t_sample['lied']))\n",
    "    t_sample[['n_red', 'outcome', 'lied']].iloc[:30].to_json('./trial_setups/trials_'+batch+'_'+str(i)+'_1.json', orient='records')\n",
    "    t_sample[['n_red', 'outcome', 'lied']].iloc[30:60].to_json('./trial_setups/trials_'+batch+'_'+str(i)+'_2.json', orient='records')\n",
    "    t_sample[['n_red', 'outcome', 'lied']].iloc[60:90].to_json('./trial_setups/trials_'+batch+'_'+str(i)+'_3.json', orient='records')"
   ]
  },
  {
   "cell_type": "code",
   "execution_count": null,
   "metadata": {},
   "outputs": [],
   "source": [
    "from collections import Counter\n",
    "\n",
    "for uuid in uuids:\n",
    "    df = fr_batch1[fr_batch1['PID'] == uuid]\n",
    "    print(Counter(df['outcome']))"
   ]
  },
  {
   "cell_type": "code",
   "execution_count": null,
   "metadata": {},
   "outputs": [],
   "source": []
  }
 ],
 "metadata": {
  "kernelspec": {
   "display_name": "Python 3 (ipykernel)",
   "language": "python",
   "name": "python3"
  },
  "language_info": {
   "codemirror_mode": {
    "name": "ipython",
    "version": 3
   },
   "file_extension": ".py",
   "mimetype": "text/x-python",
   "name": "python",
   "nbconvert_exporter": "python",
   "pygments_lexer": "ipython3",
   "version": "3.9.7"
  }
 },
 "nbformat": 4,
 "nbformat_minor": 4
}
