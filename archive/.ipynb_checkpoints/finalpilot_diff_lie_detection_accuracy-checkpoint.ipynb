{
 "cells": [
  {
   "cell_type": "code",
   "execution_count": 1,
   "metadata": {},
   "outputs": [],
   "source": [
    "import json\n",
    "import numpy as np\n",
    "import pandas as pd\n",
    "import seaborn as sns\n",
    "\n",
    "from scripts.analysis import normalize\n",
    "from scripts.data_processing import process_trials_from_df"
   ]
  },
  {
   "cell_type": "code",
   "execution_count": 2,
   "metadata": {},
   "outputs": [],
   "source": [
    "# set1 SAME players condition actual past participant lies\n",
    "\n",
    "with open('data/as31_lies.json', 'r', encoding='utf-8') as f:\n",
    "    as31_lies = json.load(f)\n",
    "    \n",
    "with open('data/bs02_lies.json', 'r', encoding='utf-8') as f:\n",
    "    bs02_lies = json.load(f)"
   ]
  },
  {
   "cell_type": "code",
   "execution_count": 3,
   "metadata": {},
   "outputs": [],
   "source": [
    "# set1 SAME players condition block trials: p2b_s11, p2a_s31, p2b_s02\n",
    "\n",
    "with open('./trial_setups/p2b_s11.json', 'r') as f:\n",
    "    bs11 = json.load(f)\n",
    "    bs11 = pd.DataFrame.from_dict(bs11)\n",
    "    bs11 = process_trials_from_df(bs11, 7)\n",
    "\n",
    "with open('./trial_setups/p2b_s02.json', 'r') as f:\n",
    "    bs02 = json.load(f)\n",
    "    bs02 = pd.DataFrame.from_dict(bs02)\n",
    "    bs02 = process_trials_from_df(bs02, 7)\n",
    "    \n",
    "with open('./trial_setups/p2a_s31.json', 'r') as f:\n",
    "    as31 = json.load(f)\n",
    "    as31 = pd.DataFrame.from_dict(as31)\n",
    "    as31 = process_trials_from_df(as31, 7)"
   ]
  },
  {
   "cell_type": "code",
   "execution_count": 4,
   "metadata": {},
   "outputs": [],
   "source": [
    "as31['pp_lied'] = as31_lies"
   ]
  },
  {
   "cell_type": "code",
   "execution_count": 5,
   "metadata": {},
   "outputs": [],
   "source": [
    "bs02['pp_lied'] = bs02_lies"
   ]
  },
  {
   "cell_type": "code",
   "execution_count": 6,
   "metadata": {},
   "outputs": [],
   "source": [
    "bs11['pp_lied'] = 0"
   ]
  },
  {
   "cell_type": "code",
   "execution_count": 7,
   "metadata": {},
   "outputs": [],
   "source": [
    "# load normalized reverse-coded honesty ratings, i.e. normalized suspicion ratings\n",
    "\n",
    "with open('final_pilot_sameplayer_normalized_suspicion_ratings.json', 'r') as f:\n",
    "    ratings = json.load(f)"
   ]
  },
  {
   "cell_type": "code",
   "execution_count": 8,
   "metadata": {},
   "outputs": [],
   "source": [
    "uuids = ratings.keys()"
   ]
  },
  {
   "cell_type": "code",
   "execution_count": 9,
   "metadata": {},
   "outputs": [],
   "source": [
    "# load same player condition block order assignment labels\n",
    "\n",
    "with open('same_conditions.json', 'r') as f:\n",
    "    conditions = json.load(f)"
   ]
  },
  {
   "cell_type": "code",
   "execution_count": 10,
   "metadata": {},
   "outputs": [],
   "source": [
    "def get_same_cond_trials(uuid, conditions):\n",
    "#     print(uuid)\n",
    "\n",
    "    if conditions[uuid] == \"11\":\n",
    "        trials = pd.concat([bs11, as31, bs02]).reset_index()\n",
    "    elif conditions[uuid] == \"12\":\n",
    "        trials = pd.concat([bs11, bs02, as31]).reset_index()\n",
    "    elif conditions[uuid] == \"21\":\n",
    "        trials = pd.concat([as31, bs11, bs02]).reset_index()\n",
    "    elif conditions[uuid] == \"22\":\n",
    "        trials = pd.concat([as31, bs02, bs11]).reset_index()\n",
    "    elif conditions[uuid] == \"31\":\n",
    "        trials = pd.concat([bs02, bs11, as31]).reset_index()\n",
    "    elif conditions[uuid] == \"32\":\n",
    "        trials = pd.concat([bs02, as31, bs11]).reset_index()\n",
    "    else:\n",
    "        print('no applicable trials associated with subject condition found')\n",
    "    \n",
    "    return trials"
   ]
  },
  {
   "cell_type": "code",
   "execution_count": 11,
   "metadata": {},
   "outputs": [],
   "source": [
    "with open('same_when_lied.json', 'r') as f:\n",
    "    when_lied = json.load(f)\n",
    "    \n",
    "with open('same_picked_col.json', 'r') as f:\n",
    "    col_pick = json.load(f)\n",
    "    \n",
    "with open('same_reported_col.json', 'r') as f:\n",
    "    reported_col = json.load(f)\n",
    "    \n",
    "with open('same_RT_honesty_rating.json', 'r') as f:\n",
    "    RT_hr = json.load(f)"
   ]
  },
  {
   "cell_type": "code",
   "execution_count": 12,
   "metadata": {},
   "outputs": [],
   "source": [
    "from scipy.stats import pearsonr, spearmanr, zscore, mannwhitneyu, wilcoxon"
   ]
  },
  {
   "cell_type": "code",
   "execution_count": 32,
   "metadata": {},
   "outputs": [
    {
     "name": "stdout",
     "output_type": "stream",
     "text": [
      "0.9014084507042254\n",
      "0.9577464788732394\n",
      "0.9859154929577465\n",
      "0.8873239436619719\n",
      "0.6338028169014085\n",
      "0.6338028169014085\n",
      "0.9577464788732394\n",
      "0.9436619718309859\n",
      "0.9295774647887324\n",
      "0.9154929577464789\n"
     ]
    }
   ],
   "source": [
    "agg_f1 = []\n",
    "agg_df = []\n",
    "\n",
    "subject = []\n",
    "t_conds = []\n",
    "n_hrs = []\n",
    "s_ev = []\n",
    "us_ev = []\n",
    "\n",
    "hits = []\n",
    "false_alarm = []\n",
    "\n",
    "for i, uuid in enumerate(uuids):\n",
    "    trials = get_same_cond_trials(uuid, conditions)\n",
    "    trials['trial_cond'] = trials['n_red'] * trials['outcome']\n",
    "\n",
    "    rating = [ratings[uuid][k] for k in ratings[uuid].keys()]\n",
    "    \n",
    "    subject.extend([i] * len(trials))\n",
    "    t_conds.extend(trials['trial_cond'].values)\n",
    "    n_hrs.extend(rating)\n",
    "    \n",
    "    #todo: pass trials with honesty rating 0.5 for lie detection accuracy    \n",
    "    detected_deception = [1 if float(r) > 0.5 else 0 for r in rating]\n",
    "#     print(pearsonr(trials['trial_cond'], rating))\n",
    "    \n",
    "    lies = when_lied[uuid]    \n",
    "\n",
    "    s_ev.extend(trials['normed_signed_e_v'].values)\n",
    "    us_ev.extend(trials['normed_unsigned_e_v'].values)\n",
    "    \n",
    "    df = pd.DataFrame({'n_red': trials['n_red'], 't_cond': trials['trial_cond'], 'signed_ev': trials['normed_signed_e_v'], 'unsigned_ev': trials['normed_unsigned_e_v'], 'hr': rating, 'pp_lied': trials['pp_lied'], 'lied': lies, 'reported_col': reported_col[uuid], 'picked_col': col_pick[uuid], 'RT_hr': RT_hr[uuid]})\n",
    "    agg_df.append(df)\n",
    "    \n",
    "    tp = [1 if (x==1) & (y==1) else 0 for x, y in zip(trials['pp_lied'], detected_deception)]\n",
    "    tp = sum(tp)\n",
    "    \n",
    "    fp = [1 if (x==0) & (y==1) else 0 for x, y in zip(trials['pp_lied'], detected_deception)]\n",
    "    fp = sum(fp)\n",
    "    \n",
    "    tn = [1 if (x==0) & (y==0) else 0 for x, y in zip(trials['pp_lied'], detected_deception)]\n",
    "    tn = sum(tn)\n",
    "    \n",
    "    fn = [1 if (x==1) & (y==0) else 0 for x, y in zip(trials['pp_lied'], detected_deception)]\n",
    "    fn = sum(fn)\n",
    "    \n",
    "    hits.append(tp)\n",
    "    false_alarm.append(fp)\n",
    "    \n",
    "    accuracy = (tp + tn)/len(trials)\n",
    "    \n",
    "    f1 = tp/(tp+0.5*(fp+fn))\n",
    "    agg_f1.append(f1)\n",
    "    \n",
    "    specificity = tn/(fp+tn)\n",
    "    print(specificity)\n",
    "#    print(accuracy)\n",
    "    #     precision = tp/(tp+fp)\n",
    "#     recall = tp/(tp+fn)\n",
    "#     print(2*(precision*recall)/(precision+recall))\n",
    "#     print(tp/(tp+fp)) # \"lie detection precision\", \n",
    "#     print(tp/(tp+fn)) # \"lie detection recall\", "
   ]
  },
  {
   "cell_type": "code",
   "execution_count": 100,
   "metadata": {},
   "outputs": [],
   "source": [
    "df = pd.DataFrame({'subject': subject, 'ev': t_conds, 'normed_suspicion': n_hrs, 's_ev': s_ev, 'us_ev': us_ev})"
   ]
  },
  {
   "cell_type": "code",
   "execution_count": 31,
   "metadata": {},
   "outputs": [],
   "source": [
    "# df.to_json('same_long_ev_normed_hr.json')\n",
    "# df.to_feather('same_long_ev_normed_hr.feather')"
   ]
  },
  {
   "cell_type": "code",
   "execution_count": 15,
   "metadata": {},
   "outputs": [],
   "source": [
    "import statsmodels.formula.api as smf"
   ]
  },
  {
   "cell_type": "code",
   "execution_count": 16,
   "metadata": {},
   "outputs": [
    {
     "name": "stdout",
     "output_type": "stream",
     "text": [
      "            Mixed Linear Model Regression Results\n",
      "==============================================================\n",
      "Model:            MixedLM Dependent Variable: normed_suspicion\n",
      "No. Observations: 900     Method:             REML            \n",
      "No. Groups:       10      Scale:              0.0403          \n",
      "Min. group size:  90      Log-Likelihood:     130.2803        \n",
      "Max. group size:  90      Converged:          Yes             \n",
      "Mean group size:  90.0                                        \n",
      "---------------------------------------------------------------\n",
      "                  Coef.  Std.Err.    z    P>|z|  [0.025  0.975]\n",
      "---------------------------------------------------------------\n",
      "Intercept         0.327     0.042  7.828  0.000   0.245   0.409\n",
      "ev                0.037     0.006  6.052  0.000   0.025   0.050\n",
      "Group Var         0.017     0.041                              \n",
      "Group x ev Cov    0.000     0.004                              \n",
      "ev Var            0.000     0.001                              \n",
      "==============================================================\n",
      "\n"
     ]
    },
    {
     "name": "stderr",
     "output_type": "stream",
     "text": [
      "C:\\Users\\Sarah Zheng\\.conda\\envs\\sim-test\\lib\\site-packages\\statsmodels\\regression\\mixed_linear_model.py:2237: ConvergenceWarning: The MLE may be on the boundary of the parameter space.\n",
      "  warnings.warn(msg, ConvergenceWarning)\n"
     ]
    }
   ],
   "source": [
    "md = smf.mixedlm(\"normed_suspicion ~ ev\", df, groups=df[\"subject\"], re_formula=\"~ev\")\n",
    "mdf = md.fit(method=[\"lbfgs\"])\n",
    "print(mdf.summary())"
   ]
  },
  {
   "cell_type": "code",
   "execution_count": 101,
   "metadata": {},
   "outputs": [
    {
     "data": {
      "text/plain": [
       "<AxesSubplot:xlabel='ev', ylabel='normed_suspicion'>"
      ]
     },
     "execution_count": 101,
     "metadata": {},
     "output_type": "execute_result"
    },
    {
     "data": {
      "image/png": "[encoded data removed]",
      "text/plain": [
       "<Figure size 432x288 with 1 Axes>"
      ]
     },
     "metadata": {
      "needs_background": "light"
     },
     "output_type": "display_data"
    }
   ],
   "source": [
    "sns.boxplot(data=df, x='ev', y='normed_suspicion')"
   ]
  },
  {
   "cell_type": "code",
   "execution_count": 104,
   "metadata": {},
   "outputs": [
    {
     "data": {
      "text/plain": [
       "<AxesSubplot:xlabel='ev', ylabel='s_ev'>"
      ]
     },
     "execution_count": 104,
     "metadata": {},
     "output_type": "execute_result"
    },
    {
     "data": {
      "image/png": "[encoded data removed]",
      "text/plain": [
       "<Figure size 432x288 with 1 Axes>"
      ]
     },
     "metadata": {
      "needs_background": "light"
     },
     "output_type": "display_data"
    }
   ],
   "source": [
    "sns.lineplot(data=df, x='ev', y='s_ev')"
   ]
  },
  {
   "cell_type": "code",
   "execution_count": 44,
   "metadata": {},
   "outputs": [
    {
     "data": {
      "text/html": [
       "<div>\n",
       "<style scoped>\n",
       "    .dataframe tbody tr th:only-of-type {\n",
       "        vertical-align: middle;\n",
       "    }\n",
       "\n",
       "    .dataframe tbody tr th {\n",
       "        vertical-align: top;\n",
       "    }\n",
       "\n",
       "    .dataframe thead th {\n",
       "        text-align: right;\n",
       "    }\n",
       "</style>\n",
       "<table border=\"1\" class=\"dataframe\">\n",
       "  <thead>\n",
       "    <tr style=\"text-align: right;\">\n",
       "      <th></th>\n",
       "      <th>n_red</th>\n",
       "      <th>outcome</th>\n",
       "      <th>trial</th>\n",
       "      <th>n_blue</th>\n",
       "      <th>e_v</th>\n",
       "      <th>normed_signed_e_v</th>\n",
       "      <th>normed_unsigned_e_v</th>\n",
       "      <th>cs_signed_e_v</th>\n",
       "      <th>normed_cs_signed_e_v</th>\n",
       "      <th>cs_unsigned_e_v</th>\n",
       "      <th>normed_cs_unsigned_e_v</th>\n",
       "      <th>n_reported_colour_opp</th>\n",
       "      <th>n_consec_colour</th>\n",
       "      <th>normed_signed_colour_count</th>\n",
       "      <th>normed_unsigned_colour_count</th>\n",
       "      <th>pp_lied</th>\n",
       "    </tr>\n",
       "  </thead>\n",
       "  <tbody>\n",
       "    <tr>\n",
       "      <th>0</th>\n",
       "      <td>6</td>\n",
       "      <td>1</td>\n",
       "      <td>1</td>\n",
       "      <td>1</td>\n",
       "      <td>0.857143</td>\n",
       "      <td>1.000000</td>\n",
       "      <td>1.000000</td>\n",
       "      <td>0.857143</td>\n",
       "      <td>0.192982</td>\n",
       "      <td>0.857143</td>\n",
       "      <td>0.130435</td>\n",
       "      <td>1</td>\n",
       "      <td>1</td>\n",
       "      <td>0.444444</td>\n",
       "      <td>0.285714</td>\n",
       "      <td>0</td>\n",
       "    </tr>\n",
       "    <tr>\n",
       "      <th>1</th>\n",
       "      <td>6</td>\n",
       "      <td>-1</td>\n",
       "      <td>2</td>\n",
       "      <td>1</td>\n",
       "      <td>-0.142857</td>\n",
       "      <td>0.222222</td>\n",
       "      <td>0.285714</td>\n",
       "      <td>0.714286</td>\n",
       "      <td>0.175439</td>\n",
       "      <td>1.000000</td>\n",
       "      <td>0.141304</td>\n",
       "      <td>1</td>\n",
       "      <td>1</td>\n",
       "      <td>0.222222</td>\n",
       "      <td>0.285714</td>\n",
       "      <td>0</td>\n",
       "    </tr>\n",
       "    <tr>\n",
       "      <th>2</th>\n",
       "      <td>2</td>\n",
       "      <td>1</td>\n",
       "      <td>3</td>\n",
       "      <td>5</td>\n",
       "      <td>0.285714</td>\n",
       "      <td>0.555556</td>\n",
       "      <td>0.428571</td>\n",
       "      <td>1.000000</td>\n",
       "      <td>0.210526</td>\n",
       "      <td>1.285714</td>\n",
       "      <td>0.163043</td>\n",
       "      <td>2</td>\n",
       "      <td>1</td>\n",
       "      <td>0.444444</td>\n",
       "      <td>0.285714</td>\n",
       "      <td>0</td>\n",
       "    </tr>\n",
       "    <tr>\n",
       "      <th>3</th>\n",
       "      <td>3</td>\n",
       "      <td>1</td>\n",
       "      <td>4</td>\n",
       "      <td>4</td>\n",
       "      <td>0.428571</td>\n",
       "      <td>0.666667</td>\n",
       "      <td>0.571429</td>\n",
       "      <td>1.428571</td>\n",
       "      <td>0.263158</td>\n",
       "      <td>1.714286</td>\n",
       "      <td>0.195652</td>\n",
       "      <td>3</td>\n",
       "      <td>2</td>\n",
       "      <td>0.555556</td>\n",
       "      <td>0.428571</td>\n",
       "      <td>0</td>\n",
       "    </tr>\n",
       "    <tr>\n",
       "      <th>4</th>\n",
       "      <td>1</td>\n",
       "      <td>1</td>\n",
       "      <td>5</td>\n",
       "      <td>6</td>\n",
       "      <td>0.142857</td>\n",
       "      <td>0.444444</td>\n",
       "      <td>0.285714</td>\n",
       "      <td>1.571429</td>\n",
       "      <td>0.280702</td>\n",
       "      <td>1.857143</td>\n",
       "      <td>0.206522</td>\n",
       "      <td>4</td>\n",
       "      <td>3</td>\n",
       "      <td>0.666667</td>\n",
       "      <td>0.571429</td>\n",
       "      <td>0</td>\n",
       "    </tr>\n",
       "    <tr>\n",
       "      <th>5</th>\n",
       "      <td>2</td>\n",
       "      <td>1</td>\n",
       "      <td>6</td>\n",
       "      <td>5</td>\n",
       "      <td>0.285714</td>\n",
       "      <td>0.555556</td>\n",
       "      <td>0.428571</td>\n",
       "      <td>1.857143</td>\n",
       "      <td>0.315789</td>\n",
       "      <td>2.142857</td>\n",
       "      <td>0.228261</td>\n",
       "      <td>5</td>\n",
       "      <td>4</td>\n",
       "      <td>0.777778</td>\n",
       "      <td>0.714286</td>\n",
       "      <td>0</td>\n",
       "    </tr>\n",
       "    <tr>\n",
       "      <th>6</th>\n",
       "      <td>4</td>\n",
       "      <td>-1</td>\n",
       "      <td>7</td>\n",
       "      <td>3</td>\n",
       "      <td>-0.428571</td>\n",
       "      <td>0.000000</td>\n",
       "      <td>0.571429</td>\n",
       "      <td>1.428571</td>\n",
       "      <td>0.263158</td>\n",
       "      <td>2.571429</td>\n",
       "      <td>0.260870</td>\n",
       "      <td>2</td>\n",
       "      <td>1</td>\n",
       "      <td>0.222222</td>\n",
       "      <td>0.285714</td>\n",
       "      <td>0</td>\n",
       "    </tr>\n",
       "    <tr>\n",
       "      <th>7</th>\n",
       "      <td>5</td>\n",
       "      <td>1</td>\n",
       "      <td>8</td>\n",
       "      <td>2</td>\n",
       "      <td>0.714286</td>\n",
       "      <td>0.888889</td>\n",
       "      <td>0.857143</td>\n",
       "      <td>2.142857</td>\n",
       "      <td>0.350877</td>\n",
       "      <td>3.285714</td>\n",
       "      <td>0.315217</td>\n",
       "      <td>6</td>\n",
       "      <td>1</td>\n",
       "      <td>0.444444</td>\n",
       "      <td>0.285714</td>\n",
       "      <td>0</td>\n",
       "    </tr>\n",
       "    <tr>\n",
       "      <th>8</th>\n",
       "      <td>6</td>\n",
       "      <td>-1</td>\n",
       "      <td>9</td>\n",
       "      <td>1</td>\n",
       "      <td>-0.142857</td>\n",
       "      <td>0.222222</td>\n",
       "      <td>0.285714</td>\n",
       "      <td>2.000000</td>\n",
       "      <td>0.333333</td>\n",
       "      <td>3.428571</td>\n",
       "      <td>0.326087</td>\n",
       "      <td>3</td>\n",
       "      <td>1</td>\n",
       "      <td>0.222222</td>\n",
       "      <td>0.285714</td>\n",
       "      <td>0</td>\n",
       "    </tr>\n",
       "    <tr>\n",
       "      <th>9</th>\n",
       "      <td>6</td>\n",
       "      <td>-1</td>\n",
       "      <td>10</td>\n",
       "      <td>1</td>\n",
       "      <td>-0.142857</td>\n",
       "      <td>0.222222</td>\n",
       "      <td>0.285714</td>\n",
       "      <td>1.857143</td>\n",
       "      <td>0.315789</td>\n",
       "      <td>3.571429</td>\n",
       "      <td>0.336957</td>\n",
       "      <td>4</td>\n",
       "      <td>2</td>\n",
       "      <td>0.111111</td>\n",
       "      <td>0.428571</td>\n",
       "      <td>0</td>\n",
       "    </tr>\n",
       "    <tr>\n",
       "      <th>10</th>\n",
       "      <td>6</td>\n",
       "      <td>-1</td>\n",
       "      <td>11</td>\n",
       "      <td>1</td>\n",
       "      <td>-0.142857</td>\n",
       "      <td>0.222222</td>\n",
       "      <td>0.285714</td>\n",
       "      <td>1.714286</td>\n",
       "      <td>0.298246</td>\n",
       "      <td>3.714286</td>\n",
       "      <td>0.347826</td>\n",
       "      <td>5</td>\n",
       "      <td>3</td>\n",
       "      <td>0.000000</td>\n",
       "      <td>0.571429</td>\n",
       "      <td>0</td>\n",
       "    </tr>\n",
       "    <tr>\n",
       "      <th>11</th>\n",
       "      <td>3</td>\n",
       "      <td>1</td>\n",
       "      <td>12</td>\n",
       "      <td>4</td>\n",
       "      <td>0.428571</td>\n",
       "      <td>0.666667</td>\n",
       "      <td>0.571429</td>\n",
       "      <td>2.142857</td>\n",
       "      <td>0.350877</td>\n",
       "      <td>4.142857</td>\n",
       "      <td>0.380435</td>\n",
       "      <td>7</td>\n",
       "      <td>1</td>\n",
       "      <td>0.444444</td>\n",
       "      <td>0.285714</td>\n",
       "      <td>0</td>\n",
       "    </tr>\n",
       "    <tr>\n",
       "      <th>12</th>\n",
       "      <td>2</td>\n",
       "      <td>1</td>\n",
       "      <td>13</td>\n",
       "      <td>5</td>\n",
       "      <td>0.285714</td>\n",
       "      <td>0.555556</td>\n",
       "      <td>0.428571</td>\n",
       "      <td>2.428571</td>\n",
       "      <td>0.385965</td>\n",
       "      <td>4.428571</td>\n",
       "      <td>0.402174</td>\n",
       "      <td>8</td>\n",
       "      <td>2</td>\n",
       "      <td>0.555556</td>\n",
       "      <td>0.428571</td>\n",
       "      <td>0</td>\n",
       "    </tr>\n",
       "    <tr>\n",
       "      <th>13</th>\n",
       "      <td>6</td>\n",
       "      <td>1</td>\n",
       "      <td>14</td>\n",
       "      <td>1</td>\n",
       "      <td>0.857143</td>\n",
       "      <td>1.000000</td>\n",
       "      <td>1.000000</td>\n",
       "      <td>3.285714</td>\n",
       "      <td>0.491228</td>\n",
       "      <td>5.285714</td>\n",
       "      <td>0.467391</td>\n",
       "      <td>9</td>\n",
       "      <td>3</td>\n",
       "      <td>0.666667</td>\n",
       "      <td>0.571429</td>\n",
       "      <td>1</td>\n",
       "    </tr>\n",
       "    <tr>\n",
       "      <th>14</th>\n",
       "      <td>6</td>\n",
       "      <td>1</td>\n",
       "      <td>15</td>\n",
       "      <td>1</td>\n",
       "      <td>0.857143</td>\n",
       "      <td>1.000000</td>\n",
       "      <td>1.000000</td>\n",
       "      <td>4.142857</td>\n",
       "      <td>0.596491</td>\n",
       "      <td>6.142857</td>\n",
       "      <td>0.532609</td>\n",
       "      <td>10</td>\n",
       "      <td>4</td>\n",
       "      <td>0.777778</td>\n",
       "      <td>0.714286</td>\n",
       "      <td>1</td>\n",
       "    </tr>\n",
       "    <tr>\n",
       "      <th>15</th>\n",
       "      <td>2</td>\n",
       "      <td>1</td>\n",
       "      <td>16</td>\n",
       "      <td>5</td>\n",
       "      <td>0.285714</td>\n",
       "      <td>0.555556</td>\n",
       "      <td>0.428571</td>\n",
       "      <td>4.428571</td>\n",
       "      <td>0.631579</td>\n",
       "      <td>6.428571</td>\n",
       "      <td>0.554348</td>\n",
       "      <td>11</td>\n",
       "      <td>5</td>\n",
       "      <td>0.888889</td>\n",
       "      <td>0.857143</td>\n",
       "      <td>0</td>\n",
       "    </tr>\n",
       "    <tr>\n",
       "      <th>16</th>\n",
       "      <td>4</td>\n",
       "      <td>1</td>\n",
       "      <td>17</td>\n",
       "      <td>3</td>\n",
       "      <td>0.571429</td>\n",
       "      <td>0.777778</td>\n",
       "      <td>0.714286</td>\n",
       "      <td>5.000000</td>\n",
       "      <td>0.701754</td>\n",
       "      <td>7.000000</td>\n",
       "      <td>0.597826</td>\n",
       "      <td>12</td>\n",
       "      <td>6</td>\n",
       "      <td>1.000000</td>\n",
       "      <td>1.000000</td>\n",
       "      <td>1</td>\n",
       "    </tr>\n",
       "    <tr>\n",
       "      <th>17</th>\n",
       "      <td>5</td>\n",
       "      <td>-1</td>\n",
       "      <td>18</td>\n",
       "      <td>2</td>\n",
       "      <td>-0.285714</td>\n",
       "      <td>0.111111</td>\n",
       "      <td>0.428571</td>\n",
       "      <td>4.714286</td>\n",
       "      <td>0.666667</td>\n",
       "      <td>7.285714</td>\n",
       "      <td>0.619565</td>\n",
       "      <td>6</td>\n",
       "      <td>1</td>\n",
       "      <td>0.222222</td>\n",
       "      <td>0.285714</td>\n",
       "      <td>0</td>\n",
       "    </tr>\n",
       "    <tr>\n",
       "      <th>18</th>\n",
       "      <td>2</td>\n",
       "      <td>1</td>\n",
       "      <td>19</td>\n",
       "      <td>5</td>\n",
       "      <td>0.285714</td>\n",
       "      <td>0.555556</td>\n",
       "      <td>0.428571</td>\n",
       "      <td>5.000000</td>\n",
       "      <td>0.701754</td>\n",
       "      <td>7.571429</td>\n",
       "      <td>0.641304</td>\n",
       "      <td>13</td>\n",
       "      <td>1</td>\n",
       "      <td>0.444444</td>\n",
       "      <td>0.285714</td>\n",
       "      <td>0</td>\n",
       "    </tr>\n",
       "    <tr>\n",
       "      <th>19</th>\n",
       "      <td>4</td>\n",
       "      <td>-1</td>\n",
       "      <td>20</td>\n",
       "      <td>3</td>\n",
       "      <td>-0.428571</td>\n",
       "      <td>0.000000</td>\n",
       "      <td>0.571429</td>\n",
       "      <td>4.571429</td>\n",
       "      <td>0.649123</td>\n",
       "      <td>8.000000</td>\n",
       "      <td>0.673913</td>\n",
       "      <td>7</td>\n",
       "      <td>1</td>\n",
       "      <td>0.222222</td>\n",
       "      <td>0.285714</td>\n",
       "      <td>0</td>\n",
       "    </tr>\n",
       "    <tr>\n",
       "      <th>20</th>\n",
       "      <td>1</td>\n",
       "      <td>1</td>\n",
       "      <td>21</td>\n",
       "      <td>6</td>\n",
       "      <td>0.142857</td>\n",
       "      <td>0.444444</td>\n",
       "      <td>0.285714</td>\n",
       "      <td>4.714286</td>\n",
       "      <td>0.666667</td>\n",
       "      <td>8.142857</td>\n",
       "      <td>0.684783</td>\n",
       "      <td>14</td>\n",
       "      <td>1</td>\n",
       "      <td>0.444444</td>\n",
       "      <td>0.285714</td>\n",
       "      <td>0</td>\n",
       "    </tr>\n",
       "    <tr>\n",
       "      <th>21</th>\n",
       "      <td>5</td>\n",
       "      <td>1</td>\n",
       "      <td>22</td>\n",
       "      <td>2</td>\n",
       "      <td>0.714286</td>\n",
       "      <td>0.888889</td>\n",
       "      <td>0.857143</td>\n",
       "      <td>5.428571</td>\n",
       "      <td>0.754386</td>\n",
       "      <td>8.857143</td>\n",
       "      <td>0.739130</td>\n",
       "      <td>15</td>\n",
       "      <td>2</td>\n",
       "      <td>0.555556</td>\n",
       "      <td>0.428571</td>\n",
       "      <td>0</td>\n",
       "    </tr>\n",
       "    <tr>\n",
       "      <th>22</th>\n",
       "      <td>5</td>\n",
       "      <td>1</td>\n",
       "      <td>23</td>\n",
       "      <td>2</td>\n",
       "      <td>0.714286</td>\n",
       "      <td>0.888889</td>\n",
       "      <td>0.857143</td>\n",
       "      <td>6.142857</td>\n",
       "      <td>0.842105</td>\n",
       "      <td>9.571429</td>\n",
       "      <td>0.793478</td>\n",
       "      <td>16</td>\n",
       "      <td>3</td>\n",
       "      <td>0.666667</td>\n",
       "      <td>0.571429</td>\n",
       "      <td>1</td>\n",
       "    </tr>\n",
       "    <tr>\n",
       "      <th>23</th>\n",
       "      <td>3</td>\n",
       "      <td>1</td>\n",
       "      <td>24</td>\n",
       "      <td>4</td>\n",
       "      <td>0.428571</td>\n",
       "      <td>0.666667</td>\n",
       "      <td>0.571429</td>\n",
       "      <td>6.571429</td>\n",
       "      <td>0.894737</td>\n",
       "      <td>10.000000</td>\n",
       "      <td>0.826087</td>\n",
       "      <td>17</td>\n",
       "      <td>4</td>\n",
       "      <td>0.777778</td>\n",
       "      <td>0.714286</td>\n",
       "      <td>0</td>\n",
       "    </tr>\n",
       "    <tr>\n",
       "      <th>24</th>\n",
       "      <td>5</td>\n",
       "      <td>-1</td>\n",
       "      <td>25</td>\n",
       "      <td>2</td>\n",
       "      <td>-0.285714</td>\n",
       "      <td>0.111111</td>\n",
       "      <td>0.428571</td>\n",
       "      <td>6.285714</td>\n",
       "      <td>0.859649</td>\n",
       "      <td>10.285714</td>\n",
       "      <td>0.847826</td>\n",
       "      <td>8</td>\n",
       "      <td>1</td>\n",
       "      <td>0.222222</td>\n",
       "      <td>0.285714</td>\n",
       "      <td>0</td>\n",
       "    </tr>\n",
       "    <tr>\n",
       "      <th>25</th>\n",
       "      <td>5</td>\n",
       "      <td>1</td>\n",
       "      <td>26</td>\n",
       "      <td>2</td>\n",
       "      <td>0.714286</td>\n",
       "      <td>0.888889</td>\n",
       "      <td>0.857143</td>\n",
       "      <td>7.000000</td>\n",
       "      <td>0.947368</td>\n",
       "      <td>11.000000</td>\n",
       "      <td>0.902174</td>\n",
       "      <td>18</td>\n",
       "      <td>1</td>\n",
       "      <td>0.444444</td>\n",
       "      <td>0.285714</td>\n",
       "      <td>0</td>\n",
       "    </tr>\n",
       "    <tr>\n",
       "      <th>26</th>\n",
       "      <td>4</td>\n",
       "      <td>-1</td>\n",
       "      <td>27</td>\n",
       "      <td>3</td>\n",
       "      <td>-0.428571</td>\n",
       "      <td>0.000000</td>\n",
       "      <td>0.571429</td>\n",
       "      <td>6.571429</td>\n",
       "      <td>0.894737</td>\n",
       "      <td>11.428571</td>\n",
       "      <td>0.934783</td>\n",
       "      <td>9</td>\n",
       "      <td>1</td>\n",
       "      <td>0.222222</td>\n",
       "      <td>0.285714</td>\n",
       "      <td>0</td>\n",
       "    </tr>\n",
       "    <tr>\n",
       "      <th>27</th>\n",
       "      <td>2</td>\n",
       "      <td>1</td>\n",
       "      <td>28</td>\n",
       "      <td>5</td>\n",
       "      <td>0.285714</td>\n",
       "      <td>0.555556</td>\n",
       "      <td>0.428571</td>\n",
       "      <td>6.857143</td>\n",
       "      <td>0.929825</td>\n",
       "      <td>11.714286</td>\n",
       "      <td>0.956522</td>\n",
       "      <td>19</td>\n",
       "      <td>1</td>\n",
       "      <td>0.444444</td>\n",
       "      <td>0.285714</td>\n",
       "      <td>0</td>\n",
       "    </tr>\n",
       "    <tr>\n",
       "      <th>28</th>\n",
       "      <td>1</td>\n",
       "      <td>1</td>\n",
       "      <td>29</td>\n",
       "      <td>6</td>\n",
       "      <td>0.142857</td>\n",
       "      <td>0.444444</td>\n",
       "      <td>0.285714</td>\n",
       "      <td>7.000000</td>\n",
       "      <td>0.947368</td>\n",
       "      <td>11.857143</td>\n",
       "      <td>0.967391</td>\n",
       "      <td>20</td>\n",
       "      <td>2</td>\n",
       "      <td>0.555556</td>\n",
       "      <td>0.428571</td>\n",
       "      <td>0</td>\n",
       "    </tr>\n",
       "    <tr>\n",
       "      <th>29</th>\n",
       "      <td>3</td>\n",
       "      <td>1</td>\n",
       "      <td>30</td>\n",
       "      <td>4</td>\n",
       "      <td>0.428571</td>\n",
       "      <td>0.666667</td>\n",
       "      <td>0.571429</td>\n",
       "      <td>7.428571</td>\n",
       "      <td>1.000000</td>\n",
       "      <td>12.285714</td>\n",
       "      <td>1.000000</td>\n",
       "      <td>21</td>\n",
       "      <td>3</td>\n",
       "      <td>0.666667</td>\n",
       "      <td>0.571429</td>\n",
       "      <td>0</td>\n",
       "    </tr>\n",
       "  </tbody>\n",
       "</table>\n",
       "</div>"
      ],
      "text/plain": [
       "    n_red  outcome  trial  n_blue       e_v  normed_signed_e_v  \\\n",
       "0       6        1      1       1  0.857143           1.000000   \n",
       "1       6       -1      2       1 -0.142857           0.222222   \n",
       "2       2        1      3       5  0.285714           0.555556   \n",
       "3       3        1      4       4  0.428571           0.666667   \n",
       "4       1        1      5       6  0.142857           0.444444   \n",
       "5       2        1      6       5  0.285714           0.555556   \n",
       "6       4       -1      7       3 -0.428571           0.000000   \n",
       "7       5        1      8       2  0.714286           0.888889   \n",
       "8       6       -1      9       1 -0.142857           0.222222   \n",
       "9       6       -1     10       1 -0.142857           0.222222   \n",
       "10      6       -1     11       1 -0.142857           0.222222   \n",
       "11      3        1     12       4  0.428571           0.666667   \n",
       "12      2        1     13       5  0.285714           0.555556   \n",
       "13      6        1     14       1  0.857143           1.000000   \n",
       "14      6        1     15       1  0.857143           1.000000   \n",
       "15      2        1     16       5  0.285714           0.555556   \n",
       "16      4        1     17       3  0.571429           0.777778   \n",
       "17      5       -1     18       2 -0.285714           0.111111   \n",
       "18      2        1     19       5  0.285714           0.555556   \n",
       "19      4       -1     20       3 -0.428571           0.000000   \n",
       "20      1        1     21       6  0.142857           0.444444   \n",
       "21      5        1     22       2  0.714286           0.888889   \n",
       "22      5        1     23       2  0.714286           0.888889   \n",
       "23      3        1     24       4  0.428571           0.666667   \n",
       "24      5       -1     25       2 -0.285714           0.111111   \n",
       "25      5        1     26       2  0.714286           0.888889   \n",
       "26      4       -1     27       3 -0.428571           0.000000   \n",
       "27      2        1     28       5  0.285714           0.555556   \n",
       "28      1        1     29       6  0.142857           0.444444   \n",
       "29      3        1     30       4  0.428571           0.666667   \n",
       "\n",
       "    normed_unsigned_e_v  cs_signed_e_v  normed_cs_signed_e_v  cs_unsigned_e_v  \\\n",
       "0              1.000000       0.857143              0.192982         0.857143   \n",
       "1              0.285714       0.714286              0.175439         1.000000   \n",
       "2              0.428571       1.000000              0.210526         1.285714   \n",
       "3              0.571429       1.428571              0.263158         1.714286   \n",
       "4              0.285714       1.571429              0.280702         1.857143   \n",
       "5              0.428571       1.857143              0.315789         2.142857   \n",
       "6              0.571429       1.428571              0.263158         2.571429   \n",
       "7              0.857143       2.142857              0.350877         3.285714   \n",
       "8              0.285714       2.000000              0.333333         3.428571   \n",
       "9              0.285714       1.857143              0.315789         3.571429   \n",
       "10             0.285714       1.714286              0.298246         3.714286   \n",
       "11             0.571429       2.142857              0.350877         4.142857   \n",
       "12             0.428571       2.428571              0.385965         4.428571   \n",
       "13             1.000000       3.285714              0.491228         5.285714   \n",
       "14             1.000000       4.142857              0.596491         6.142857   \n",
       "15             0.428571       4.428571              0.631579         6.428571   \n",
       "16             0.714286       5.000000              0.701754         7.000000   \n",
       "17             0.428571       4.714286              0.666667         7.285714   \n",
       "18             0.428571       5.000000              0.701754         7.571429   \n",
       "19             0.571429       4.571429              0.649123         8.000000   \n",
       "20             0.285714       4.714286              0.666667         8.142857   \n",
       "21             0.857143       5.428571              0.754386         8.857143   \n",
       "22             0.857143       6.142857              0.842105         9.571429   \n",
       "23             0.571429       6.571429              0.894737        10.000000   \n",
       "24             0.428571       6.285714              0.859649        10.285714   \n",
       "25             0.857143       7.000000              0.947368        11.000000   \n",
       "26             0.571429       6.571429              0.894737        11.428571   \n",
       "27             0.428571       6.857143              0.929825        11.714286   \n",
       "28             0.285714       7.000000              0.947368        11.857143   \n",
       "29             0.571429       7.428571              1.000000        12.285714   \n",
       "\n",
       "    normed_cs_unsigned_e_v  n_reported_colour_opp  n_consec_colour  \\\n",
       "0                 0.130435                      1                1   \n",
       "1                 0.141304                      1                1   \n",
       "2                 0.163043                      2                1   \n",
       "3                 0.195652                      3                2   \n",
       "4                 0.206522                      4                3   \n",
       "5                 0.228261                      5                4   \n",
       "6                 0.260870                      2                1   \n",
       "7                 0.315217                      6                1   \n",
       "8                 0.326087                      3                1   \n",
       "9                 0.336957                      4                2   \n",
       "10                0.347826                      5                3   \n",
       "11                0.380435                      7                1   \n",
       "12                0.402174                      8                2   \n",
       "13                0.467391                      9                3   \n",
       "14                0.532609                     10                4   \n",
       "15                0.554348                     11                5   \n",
       "16                0.597826                     12                6   \n",
       "17                0.619565                      6                1   \n",
       "18                0.641304                     13                1   \n",
       "19                0.673913                      7                1   \n",
       "20                0.684783                     14                1   \n",
       "21                0.739130                     15                2   \n",
       "22                0.793478                     16                3   \n",
       "23                0.826087                     17                4   \n",
       "24                0.847826                      8                1   \n",
       "25                0.902174                     18                1   \n",
       "26                0.934783                      9                1   \n",
       "27                0.956522                     19                1   \n",
       "28                0.967391                     20                2   \n",
       "29                1.000000                     21                3   \n",
       "\n",
       "    normed_signed_colour_count  normed_unsigned_colour_count  pp_lied  \n",
       "0                     0.444444                      0.285714        0  \n",
       "1                     0.222222                      0.285714        0  \n",
       "2                     0.444444                      0.285714        0  \n",
       "3                     0.555556                      0.428571        0  \n",
       "4                     0.666667                      0.571429        0  \n",
       "5                     0.777778                      0.714286        0  \n",
       "6                     0.222222                      0.285714        0  \n",
       "7                     0.444444                      0.285714        0  \n",
       "8                     0.222222                      0.285714        0  \n",
       "9                     0.111111                      0.428571        0  \n",
       "10                    0.000000                      0.571429        0  \n",
       "11                    0.444444                      0.285714        0  \n",
       "12                    0.555556                      0.428571        0  \n",
       "13                    0.666667                      0.571429        1  \n",
       "14                    0.777778                      0.714286        1  \n",
       "15                    0.888889                      0.857143        0  \n",
       "16                    1.000000                      1.000000        1  \n",
       "17                    0.222222                      0.285714        0  \n",
       "18                    0.444444                      0.285714        0  \n",
       "19                    0.222222                      0.285714        0  \n",
       "20                    0.444444                      0.285714        0  \n",
       "21                    0.555556                      0.428571        0  \n",
       "22                    0.666667                      0.571429        1  \n",
       "23                    0.777778                      0.714286        0  \n",
       "24                    0.222222                      0.285714        0  \n",
       "25                    0.444444                      0.285714        0  \n",
       "26                    0.222222                      0.285714        0  \n",
       "27                    0.444444                      0.285714        0  \n",
       "28                    0.555556                      0.428571        0  \n",
       "29                    0.666667                      0.571429        0  "
      ]
     },
     "execution_count": 44,
     "metadata": {},
     "output_type": "execute_result"
    }
   ],
   "source": [
    "as31"
   ]
  },
  {
   "cell_type": "code",
   "execution_count": 50,
   "metadata": {},
   "outputs": [
    {
     "data": {
      "text/html": [
       "<div>\n",
       "<style scoped>\n",
       "    .dataframe tbody tr th:only-of-type {\n",
       "        vertical-align: middle;\n",
       "    }\n",
       "\n",
       "    .dataframe tbody tr th {\n",
       "        vertical-align: top;\n",
       "    }\n",
       "\n",
       "    .dataframe thead th {\n",
       "        text-align: right;\n",
       "    }\n",
       "</style>\n",
       "<table border=\"1\" class=\"dataframe\">\n",
       "  <thead>\n",
       "    <tr style=\"text-align: right;\">\n",
       "      <th>pp_lied</th>\n",
       "      <th>0</th>\n",
       "      <th>1</th>\n",
       "    </tr>\n",
       "    <tr>\n",
       "      <th>n_red</th>\n",
       "      <th></th>\n",
       "      <th></th>\n",
       "    </tr>\n",
       "  </thead>\n",
       "  <tbody>\n",
       "    <tr>\n",
       "      <th>1</th>\n",
       "      <td>3</td>\n",
       "      <td>0</td>\n",
       "    </tr>\n",
       "    <tr>\n",
       "      <th>2</th>\n",
       "      <td>6</td>\n",
       "      <td>0</td>\n",
       "    </tr>\n",
       "    <tr>\n",
       "      <th>3</th>\n",
       "      <td>4</td>\n",
       "      <td>0</td>\n",
       "    </tr>\n",
       "    <tr>\n",
       "      <th>4</th>\n",
       "      <td>3</td>\n",
       "      <td>1</td>\n",
       "    </tr>\n",
       "    <tr>\n",
       "      <th>5</th>\n",
       "      <td>5</td>\n",
       "      <td>1</td>\n",
       "    </tr>\n",
       "    <tr>\n",
       "      <th>6</th>\n",
       "      <td>5</td>\n",
       "      <td>2</td>\n",
       "    </tr>\n",
       "  </tbody>\n",
       "</table>\n",
       "</div>"
      ],
      "text/plain": [
       "pp_lied  0  1\n",
       "n_red        \n",
       "1        3  0\n",
       "2        6  0\n",
       "3        4  0\n",
       "4        3  1\n",
       "5        5  1\n",
       "6        5  2"
      ]
     },
     "execution_count": 50,
     "metadata": {},
     "output_type": "execute_result"
    }
   ],
   "source": [
    "pd.crosstab(as31['n_red'], as31['pp_lied'])"
   ]
  },
  {
   "cell_type": "code",
   "execution_count": 58,
   "metadata": {},
   "outputs": [
    {
     "data": {
      "text/html": [
       "<div>\n",
       "<style scoped>\n",
       "    .dataframe tbody tr th:only-of-type {\n",
       "        vertical-align: middle;\n",
       "    }\n",
       "\n",
       "    .dataframe tbody tr th {\n",
       "        vertical-align: top;\n",
       "    }\n",
       "\n",
       "    .dataframe thead th {\n",
       "        text-align: right;\n",
       "    }\n",
       "</style>\n",
       "<table border=\"1\" class=\"dataframe\">\n",
       "  <thead>\n",
       "    <tr style=\"text-align: right;\">\n",
       "      <th>outcome</th>\n",
       "      <th>-1</th>\n",
       "      <th>1</th>\n",
       "    </tr>\n",
       "    <tr>\n",
       "      <th>n_red</th>\n",
       "      <th></th>\n",
       "      <th></th>\n",
       "    </tr>\n",
       "  </thead>\n",
       "  <tbody>\n",
       "    <tr>\n",
       "      <th>1</th>\n",
       "      <td>0</td>\n",
       "      <td>3</td>\n",
       "    </tr>\n",
       "    <tr>\n",
       "      <th>2</th>\n",
       "      <td>0</td>\n",
       "      <td>6</td>\n",
       "    </tr>\n",
       "    <tr>\n",
       "      <th>3</th>\n",
       "      <td>0</td>\n",
       "      <td>4</td>\n",
       "    </tr>\n",
       "    <tr>\n",
       "      <th>4</th>\n",
       "      <td>3</td>\n",
       "      <td>1</td>\n",
       "    </tr>\n",
       "    <tr>\n",
       "      <th>5</th>\n",
       "      <td>2</td>\n",
       "      <td>4</td>\n",
       "    </tr>\n",
       "    <tr>\n",
       "      <th>6</th>\n",
       "      <td>4</td>\n",
       "      <td>3</td>\n",
       "    </tr>\n",
       "  </tbody>\n",
       "</table>\n",
       "</div>"
      ],
      "text/plain": [
       "outcome  -1   1\n",
       "n_red          \n",
       "1         0   3\n",
       "2         0   6\n",
       "3         0   4\n",
       "4         3   1\n",
       "5         2   4\n",
       "6         4   3"
      ]
     },
     "execution_count": 58,
     "metadata": {},
     "output_type": "execute_result"
    }
   ],
   "source": [
    "pd.crosstab(as31['n_red'], as31['outcome'])"
   ]
  },
  {
   "cell_type": "code",
   "execution_count": 51,
   "metadata": {},
   "outputs": [
    {
     "data": {
      "text/plain": [
       "<AxesSubplot:xlabel='n_red', ylabel='Count'>"
      ]
     },
     "execution_count": 51,
     "metadata": {},
     "output_type": "execute_result"
    },
    {
     "data": {
      "image/png": "[encoded data removed]",
      "text/plain": [
       "<Figure size 432x288 with 1 Axes>"
      ]
     },
     "metadata": {
      "needs_background": "light"
     },
     "output_type": "display_data"
    }
   ],
   "source": [
    "sns.histplot(data=as31, x='n_red', hue='pp_lied')"
   ]
  },
  {
   "cell_type": "code",
   "execution_count": 54,
   "metadata": {},
   "outputs": [
    {
     "data": {
      "text/html": [
       "<div>\n",
       "<style scoped>\n",
       "    .dataframe tbody tr th:only-of-type {\n",
       "        vertical-align: middle;\n",
       "    }\n",
       "\n",
       "    .dataframe tbody tr th {\n",
       "        vertical-align: top;\n",
       "    }\n",
       "\n",
       "    .dataframe thead th {\n",
       "        text-align: right;\n",
       "    }\n",
       "</style>\n",
       "<table border=\"1\" class=\"dataframe\">\n",
       "  <thead>\n",
       "    <tr style=\"text-align: right;\">\n",
       "      <th>pp_lied</th>\n",
       "      <th>0</th>\n",
       "      <th>1</th>\n",
       "    </tr>\n",
       "    <tr>\n",
       "      <th>n_red</th>\n",
       "      <th></th>\n",
       "      <th></th>\n",
       "    </tr>\n",
       "  </thead>\n",
       "  <tbody>\n",
       "    <tr>\n",
       "      <th>1</th>\n",
       "      <td>4</td>\n",
       "      <td>1</td>\n",
       "    </tr>\n",
       "    <tr>\n",
       "      <th>2</th>\n",
       "      <td>2</td>\n",
       "      <td>0</td>\n",
       "    </tr>\n",
       "    <tr>\n",
       "      <th>3</th>\n",
       "      <td>2</td>\n",
       "      <td>0</td>\n",
       "    </tr>\n",
       "    <tr>\n",
       "      <th>4</th>\n",
       "      <td>0</td>\n",
       "      <td>2</td>\n",
       "    </tr>\n",
       "    <tr>\n",
       "      <th>5</th>\n",
       "      <td>5</td>\n",
       "      <td>5</td>\n",
       "    </tr>\n",
       "    <tr>\n",
       "      <th>6</th>\n",
       "      <td>2</td>\n",
       "      <td>7</td>\n",
       "    </tr>\n",
       "  </tbody>\n",
       "</table>\n",
       "</div>"
      ],
      "text/plain": [
       "pp_lied  0  1\n",
       "n_red        \n",
       "1        4  1\n",
       "2        2  0\n",
       "3        2  0\n",
       "4        0  2\n",
       "5        5  5\n",
       "6        2  7"
      ]
     },
     "execution_count": 54,
     "metadata": {},
     "output_type": "execute_result"
    }
   ],
   "source": [
    "pd.crosstab(bs02['n_red'], bs02['pp_lied'])"
   ]
  },
  {
   "cell_type": "code",
   "execution_count": 55,
   "metadata": {},
   "outputs": [
    {
     "data": {
      "text/html": [
       "<div>\n",
       "<style scoped>\n",
       "    .dataframe tbody tr th:only-of-type {\n",
       "        vertical-align: middle;\n",
       "    }\n",
       "\n",
       "    .dataframe tbody tr th {\n",
       "        vertical-align: top;\n",
       "    }\n",
       "\n",
       "    .dataframe thead th {\n",
       "        text-align: right;\n",
       "    }\n",
       "</style>\n",
       "<table border=\"1\" class=\"dataframe\">\n",
       "  <thead>\n",
       "    <tr style=\"text-align: right;\">\n",
       "      <th>outcome</th>\n",
       "      <th>-1</th>\n",
       "      <th>1</th>\n",
       "    </tr>\n",
       "    <tr>\n",
       "      <th>n_red</th>\n",
       "      <th></th>\n",
       "      <th></th>\n",
       "    </tr>\n",
       "  </thead>\n",
       "  <tbody>\n",
       "    <tr>\n",
       "      <th>1</th>\n",
       "      <td>0</td>\n",
       "      <td>5</td>\n",
       "    </tr>\n",
       "    <tr>\n",
       "      <th>2</th>\n",
       "      <td>0</td>\n",
       "      <td>2</td>\n",
       "    </tr>\n",
       "    <tr>\n",
       "      <th>3</th>\n",
       "      <td>0</td>\n",
       "      <td>2</td>\n",
       "    </tr>\n",
       "    <tr>\n",
       "      <th>4</th>\n",
       "      <td>0</td>\n",
       "      <td>2</td>\n",
       "    </tr>\n",
       "    <tr>\n",
       "      <th>5</th>\n",
       "      <td>2</td>\n",
       "      <td>8</td>\n",
       "    </tr>\n",
       "    <tr>\n",
       "      <th>6</th>\n",
       "      <td>2</td>\n",
       "      <td>7</td>\n",
       "    </tr>\n",
       "  </tbody>\n",
       "</table>\n",
       "</div>"
      ],
      "text/plain": [
       "outcome  -1   1\n",
       "n_red          \n",
       "1         0   5\n",
       "2         0   2\n",
       "3         0   2\n",
       "4         0   2\n",
       "5         2   8\n",
       "6         2   7"
      ]
     },
     "execution_count": 55,
     "metadata": {},
     "output_type": "execute_result"
    }
   ],
   "source": [
    "pd.crosstab(bs02['n_red'], bs02['outcome'])"
   ]
  },
  {
   "cell_type": "code",
   "execution_count": 52,
   "metadata": {},
   "outputs": [
    {
     "data": {
      "text/plain": [
       "<AxesSubplot:xlabel='n_red', ylabel='Count'>"
      ]
     },
     "execution_count": 52,
     "metadata": {},
     "output_type": "execute_result"
    },
    {
     "data": {
      "image/png": "[encoded data removed]",
      "text/plain": [
       "<Figure size 432x288 with 1 Axes>"
      ]
     },
     "metadata": {
      "needs_background": "light"
     },
     "output_type": "display_data"
    }
   ],
   "source": [
    "sns.histplot(data=bs02, x='n_red', hue='pp_lied')"
   ]
  },
  {
   "cell_type": "code",
   "execution_count": 53,
   "metadata": {},
   "outputs": [
    {
     "data": {
      "text/plain": [
       "<AxesSubplot:xlabel='n_red', ylabel='Count'>"
      ]
     },
     "execution_count": 53,
     "metadata": {},
     "output_type": "execute_result"
    },
    {
     "data": {
      "image/png": "[encoded data removed]",
      "text/plain": [
       "<Figure size 432x288 with 1 Axes>"
      ]
     },
     "metadata": {
      "needs_background": "light"
     },
     "output_type": "display_data"
    }
   ],
   "source": [
    "sns.histplot(data=bs11, x='n_red', hue='pp_lied')"
   ]
  },
  {
   "cell_type": "code",
   "execution_count": 57,
   "metadata": {},
   "outputs": [
    {
     "data": {
      "text/html": [
       "<div>\n",
       "<style scoped>\n",
       "    .dataframe tbody tr th:only-of-type {\n",
       "        vertical-align: middle;\n",
       "    }\n",
       "\n",
       "    .dataframe tbody tr th {\n",
       "        vertical-align: top;\n",
       "    }\n",
       "\n",
       "    .dataframe thead th {\n",
       "        text-align: right;\n",
       "    }\n",
       "</style>\n",
       "<table border=\"1\" class=\"dataframe\">\n",
       "  <thead>\n",
       "    <tr style=\"text-align: right;\">\n",
       "      <th>outcome</th>\n",
       "      <th>-1</th>\n",
       "      <th>1</th>\n",
       "    </tr>\n",
       "    <tr>\n",
       "      <th>n_red</th>\n",
       "      <th></th>\n",
       "      <th></th>\n",
       "    </tr>\n",
       "  </thead>\n",
       "  <tbody>\n",
       "    <tr>\n",
       "      <th>1</th>\n",
       "      <td>1</td>\n",
       "      <td>2</td>\n",
       "    </tr>\n",
       "    <tr>\n",
       "      <th>2</th>\n",
       "      <td>1</td>\n",
       "      <td>5</td>\n",
       "    </tr>\n",
       "    <tr>\n",
       "      <th>3</th>\n",
       "      <td>1</td>\n",
       "      <td>3</td>\n",
       "    </tr>\n",
       "    <tr>\n",
       "      <th>4</th>\n",
       "      <td>1</td>\n",
       "      <td>3</td>\n",
       "    </tr>\n",
       "    <tr>\n",
       "      <th>5</th>\n",
       "      <td>4</td>\n",
       "      <td>2</td>\n",
       "    </tr>\n",
       "    <tr>\n",
       "      <th>6</th>\n",
       "      <td>7</td>\n",
       "      <td>0</td>\n",
       "    </tr>\n",
       "  </tbody>\n",
       "</table>\n",
       "</div>"
      ],
      "text/plain": [
       "outcome  -1   1\n",
       "n_red          \n",
       "1         1   2\n",
       "2         1   5\n",
       "3         1   3\n",
       "4         1   3\n",
       "5         4   2\n",
       "6         7   0"
      ]
     },
     "execution_count": 57,
     "metadata": {},
     "output_type": "execute_result"
    }
   ],
   "source": [
    "pd.crosstab(bs11['n_red'], bs11['outcome'])"
   ]
  },
  {
   "cell_type": "code",
   "execution_count": 59,
   "metadata": {},
   "outputs": [],
   "source": [
    "import matplotlib\n",
    "import matplotlib.pyplot as plt"
   ]
  },
  {
   "cell_type": "markdown",
   "metadata": {},
   "source": [
    "## Fit GLM per individual, suspicion <- signed EV without update"
   ]
  },
  {
   "cell_type": "code",
   "execution_count": 113,
   "metadata": {},
   "outputs": [
    {
     "name": "stdout",
     "output_type": "stream",
     "text": [
      "SUBJECT 0\n",
      "                 Generalized Linear Model Regression Results                  \n",
      "==============================================================================\n",
      "Dep. Variable:                     hr   No. Observations:                   90\n",
      "Model:                            GLM   Df Residuals:                       88\n",
      "Model Family:                Gaussian   Df Model:                            1\n",
      "Link Function:               identity   Scale:                        0.055269\n",
      "Method:                          IRLS   Log-Likelihood:                 3.6062\n",
      "Date:                Sat, 18 Sep 2021   Deviance:                       4.8637\n",
      "Time:                        17:51:02   Pearson chi2:                     4.86\n",
      "No. Iterations:                     3                                         \n",
      "Covariance Type:            nonrobust                                         \n",
      "==============================================================================\n",
      "                 coef    std err          z      P>|z|      [0.025      0.975]\n",
      "------------------------------------------------------------------------------\n",
      "const          0.0825      0.054      1.534      0.125      -0.023       0.188\n",
      "signed_ev      0.4265      0.081      5.253      0.000       0.267       0.586\n",
      "==============================================================================\n",
      "SUBJECT 1\n",
      "                 Generalized Linear Model Regression Results                  \n",
      "==============================================================================\n",
      "Dep. Variable:                     hr   No. Observations:                   90\n",
      "Model:                            GLM   Df Residuals:                       88\n",
      "Model Family:                Gaussian   Df Model:                            1\n",
      "Link Function:               identity   Scale:                        0.041385\n",
      "Method:                          IRLS   Log-Likelihood:                 16.625\n",
      "Date:                Sat, 18 Sep 2021   Deviance:                       3.6418\n",
      "Time:                        17:51:02   Pearson chi2:                     3.64\n",
      "No. Iterations:                     3                                         \n",
      "Covariance Type:            nonrobust                                         \n",
      "==============================================================================\n",
      "                 coef    std err          z      P>|z|      [0.025      0.975]\n",
      "------------------------------------------------------------------------------\n",
      "const          0.0529      0.047      1.137      0.256      -0.038       0.144\n",
      "signed_ev      0.4202      0.070      5.981      0.000       0.282       0.558\n",
      "==============================================================================\n",
      "SUBJECT 2\n",
      "                 Generalized Linear Model Regression Results                  \n",
      "==============================================================================\n",
      "Dep. Variable:                     hr   No. Observations:                   90\n",
      "Model:                            GLM   Df Residuals:                       88\n",
      "Model Family:                Gaussian   Df Model:                            1\n",
      "Link Function:               identity   Scale:                        0.011407\n",
      "Method:                          IRLS   Log-Likelihood:                 74.615\n",
      "Date:                Sat, 18 Sep 2021   Deviance:                       1.0038\n",
      "Time:                        17:51:02   Pearson chi2:                     1.00\n",
      "No. Iterations:                     3                                         \n",
      "Covariance Type:            nonrobust                                         \n",
      "==============================================================================\n",
      "                 coef    std err          z      P>|z|      [0.025      0.975]\n",
      "------------------------------------------------------------------------------\n",
      "const          0.1584      0.024      6.483      0.000       0.111       0.206\n",
      "signed_ev      0.1431      0.037      3.881      0.000       0.071       0.215\n",
      "==============================================================================\n",
      "SUBJECT 3\n",
      "                 Generalized Linear Model Regression Results                  \n",
      "==============================================================================\n",
      "Dep. Variable:                     hr   No. Observations:                   90\n",
      "Model:                            GLM   Df Residuals:                       88\n",
      "Model Family:                Gaussian   Df Model:                            1\n",
      "Link Function:               identity   Scale:                        0.032991\n",
      "Method:                          IRLS   Log-Likelihood:                 26.825\n",
      "Date:                Sat, 18 Sep 2021   Deviance:                       2.9032\n",
      "Time:                        17:51:02   Pearson chi2:                     2.90\n",
      "No. Iterations:                     3                                         \n",
      "Covariance Type:            nonrobust                                         \n",
      "==============================================================================\n",
      "                 coef    std err          z      P>|z|      [0.025      0.975]\n",
      "------------------------------------------------------------------------------\n",
      "const          0.1441      0.042      3.467      0.001       0.063       0.226\n",
      "signed_ev      0.4604      0.063      7.339      0.000       0.337       0.583\n",
      "==============================================================================\n",
      "SUBJECT 4\n",
      "                 Generalized Linear Model Regression Results                  \n",
      "==============================================================================\n",
      "Dep. Variable:                     hr   No. Observations:                   90\n",
      "Model:                            GLM   Df Residuals:                       88\n",
      "Model Family:                Gaussian   Df Model:                            1\n",
      "Link Function:               identity   Scale:                        0.058782\n",
      "Method:                          IRLS   Log-Likelihood:                0.83339\n",
      "Date:                Sat, 18 Sep 2021   Deviance:                       5.1728\n",
      "Time:                        17:51:02   Pearson chi2:                     5.17\n",
      "No. Iterations:                     3                                         \n",
      "Covariance Type:            nonrobust                                         \n",
      "==============================================================================\n",
      "                 coef    std err          z      P>|z|      [0.025      0.975]\n",
      "------------------------------------------------------------------------------\n",
      "const          0.0807      0.055      1.454      0.146      -0.028       0.189\n",
      "signed_ev      0.7508      0.084      8.968      0.000       0.587       0.915\n",
      "==============================================================================\n",
      "SUBJECT 5\n",
      "                 Generalized Linear Model Regression Results                  \n",
      "==============================================================================\n",
      "Dep. Variable:                     hr   No. Observations:                   90\n",
      "Model:                            GLM   Df Residuals:                       88\n",
      "Model Family:                Gaussian   Df Model:                            1\n",
      "Link Function:               identity   Scale:                        0.089899\n",
      "Method:                          IRLS   Log-Likelihood:                -18.285\n",
      "Date:                Sat, 18 Sep 2021   Deviance:                       7.9111\n",
      "Time:                        17:51:02   Pearson chi2:                     7.91\n",
      "No. Iterations:                     3                                         \n",
      "Covariance Type:            nonrobust                                         \n",
      "==============================================================================\n",
      "                 coef    std err          z      P>|z|      [0.025      0.975]\n",
      "------------------------------------------------------------------------------\n",
      "const          0.2943      0.069      4.289      0.000       0.160       0.429\n",
      "signed_ev      0.4002      0.104      3.865      0.000       0.197       0.603\n",
      "==============================================================================\n",
      "SUBJECT 6\n",
      "                 Generalized Linear Model Regression Results                  \n",
      "==============================================================================\n",
      "Dep. Variable:                     hr   No. Observations:                   90\n",
      "Model:                            GLM   Df Residuals:                       88\n",
      "Model Family:                Gaussian   Df Model:                            1\n",
      "Link Function:               identity   Scale:                        0.051368\n",
      "Method:                          IRLS   Log-Likelihood:                 6.9000\n",
      "Date:                Sat, 18 Sep 2021   Deviance:                       4.5204\n",
      "Time:                        17:51:02   Pearson chi2:                     4.52\n",
      "No. Iterations:                     3                                         \n",
      "Covariance Type:            nonrobust                                         \n",
      "==============================================================================\n",
      "                 coef    std err          z      P>|z|      [0.025      0.975]\n",
      "------------------------------------------------------------------------------\n",
      "const         -0.0484      0.052     -0.934      0.350      -0.150       0.053\n",
      "signed_ev      0.6933      0.078      8.858      0.000       0.540       0.847\n",
      "==============================================================================\n",
      "SUBJECT 7\n",
      "                 Generalized Linear Model Regression Results                  \n",
      "==============================================================================\n",
      "Dep. Variable:                     hr   No. Observations:                   90\n",
      "Model:                            GLM   Df Residuals:                       88\n",
      "Model Family:                Gaussian   Df Model:                            1\n",
      "Link Function:               identity   Scale:                        0.073758\n",
      "Method:                          IRLS   Log-Likelihood:                -9.3800\n",
      "Date:                Sat, 18 Sep 2021   Deviance:                       6.4907\n",
      "Time:                        17:51:02   Pearson chi2:                     6.49\n",
      "No. Iterations:                     3                                         \n",
      "Covariance Type:            nonrobust                                         \n",
      "==============================================================================\n",
      "                 coef    std err          z      P>|z|      [0.025      0.975]\n",
      "------------------------------------------------------------------------------\n",
      "const         -0.0842      0.062     -1.356      0.175      -0.206       0.038\n",
      "signed_ev      0.3416      0.094      3.643      0.000       0.158       0.525\n",
      "==============================================================================\n",
      "SUBJECT 8\n",
      "                 Generalized Linear Model Regression Results                  \n",
      "==============================================================================\n",
      "Dep. Variable:                     hr   No. Observations:                   90\n",
      "Model:                            GLM   Df Residuals:                       88\n",
      "Model Family:                Gaussian   Df Model:                            1\n",
      "Link Function:               identity   Scale:                        0.011890\n",
      "Method:                          IRLS   Log-Likelihood:                 72.748\n",
      "Date:                Sat, 18 Sep 2021   Deviance:                       1.0464\n",
      "Time:                        17:51:02   Pearson chi2:                     1.05\n",
      "No. Iterations:                     3                                         \n",
      "Covariance Type:            nonrobust                                         \n",
      "==============================================================================\n",
      "                 coef    std err          z      P>|z|      [0.025      0.975]\n",
      "------------------------------------------------------------------------------\n",
      "const          0.4782      0.025     19.165      0.000       0.429       0.527\n",
      "signed_ev      0.0308      0.038      0.819      0.413      -0.043       0.105\n",
      "==============================================================================\n",
      "SUBJECT 9\n",
      "                 Generalized Linear Model Regression Results                  \n",
      "==============================================================================\n",
      "Dep. Variable:                     hr   No. Observations:                   90\n",
      "Model:                            GLM   Df Residuals:                       88\n",
      "Model Family:                Gaussian   Df Model:                            1\n",
      "Link Function:               identity   Scale:                        0.055183\n",
      "Method:                          IRLS   Log-Likelihood:                 3.6761\n",
      "Date:                Sat, 18 Sep 2021   Deviance:                       4.8561\n",
      "Time:                        17:51:02   Pearson chi2:                     4.86\n",
      "No. Iterations:                     3                                         \n",
      "Covariance Type:            nonrobust                                         \n",
      "==============================================================================\n",
      "                 coef    std err          z      P>|z|      [0.025      0.975]\n",
      "------------------------------------------------------------------------------\n",
      "const         -0.1951      0.054     -3.630      0.000      -0.300      -0.090\n",
      "signed_ev      0.8041      0.081      9.912      0.000       0.645       0.963\n",
      "==============================================================================\n"
     ]
    }
   ],
   "source": [
    "import statsmodels.api as sm\n",
    "\n",
    "i_coef = []\n",
    "\n",
    "for i, df in enumerate(agg_df):\n",
    "    print(\"SUBJECT\", i)\n",
    "    df['subject'] = i\n",
    "    df['const'] = 1\n",
    "    model = sm.GLM(df['hr'], df[['const', 'signed_ev']])\n",
    "    result = model.fit()\n",
    "    print(result.summary())\n",
    "    i_coef.append(result.params)"
   ]
  },
  {
   "cell_type": "code",
   "execution_count": 114,
   "metadata": {},
   "outputs": [],
   "source": [
    "intercept = [i['const'] for i in i_coef]\n",
    "s_ev_coef = [i['signed_ev'] for i in i_coef]"
   ]
  },
  {
   "cell_type": "code",
   "execution_count": 115,
   "metadata": {},
   "outputs": [
    {
     "data": {
      "text/plain": [
       "Text(0.5, 1.0, 'SAME GLM coefficient, signed EV')"
      ]
     },
     "execution_count": 115,
     "metadata": {},
     "output_type": "execute_result"
    },
    {
     "data": {
      "image/png": "[encoded data removed]",
      "text/plain": [
       "<Figure size 432x288 with 1 Axes>"
      ]
     },
     "metadata": {
      "needs_background": "light"
     },
     "output_type": "display_data"
    }
   ],
   "source": [
    "p = sns.boxplot(y=s_ev_coef)\n",
    "p.set(xlabel=\"coef\", ylim=(0,1))\n",
    "p.set_title(\"SAME GLM coefficient, signed EV\")"
   ]
  },
  {
   "cell_type": "code",
   "execution_count": 117,
   "metadata": {},
   "outputs": [],
   "source": [
    "dfs = pd.concat(agg_df)"
   ]
  },
  {
   "cell_type": "code",
   "execution_count": 131,
   "metadata": {},
   "outputs": [
    {
     "data": {
      "text/plain": [
       "[Text(0.5, 0, 'signed expectation violation'),\n",
       " Text(0, 0.5, 'suspicion rating')]"
      ]
     },
     "execution_count": 131,
     "metadata": {},
     "output_type": "execute_result"
    },
    {
     "data": {
      "image/png": "[encoded data removed]",
      "text/plain": [
       "<Figure size 432x288 with 1 Axes>"
      ]
     },
     "metadata": {
      "needs_background": "light"
     },
     "output_type": "display_data"
    }
   ],
   "source": [
    "p = sns.pointplot(data=dfs, x=\"t_cond\", y=\"hr\", hue=\"subject\")\n",
    "p.set(xlabel=\"signed expectation violation\", ylabel=\"suspicion rating\")"
   ]
  },
  {
   "cell_type": "code",
   "execution_count": 129,
   "metadata": {},
   "outputs": [
    {
     "name": "stderr",
     "output_type": "stream",
     "text": [
      "C:\\Users\\Sarah Zheng\\.conda\\envs\\sim-test\\lib\\site-packages\\seaborn\\axisgrid.py:643: UserWarning: Using the pointplot function without specifying `order` is likely to produce an incorrect plot.\n",
      "  warnings.warn(warning)\n"
     ]
    },
    {
     "data": {
      "text/plain": [
       "<seaborn.axisgrid.FacetGrid at 0x288364d2e20>"
      ]
     },
     "execution_count": 129,
     "metadata": {},
     "output_type": "execute_result"
    },
    {
     "data": {
      "image/png": "[encoded data removed]",
      "text/plain": [
       "<Figure size 1080x1440 with 10 Axes>"
      ]
     },
     "metadata": {
      "needs_background": "light"
     },
     "output_type": "display_data"
    }
   ],
   "source": [
    "g = sns.FacetGrid(dfs, col=\"subject\", col_wrap=3, height=5, ylim=(0, 1))\n",
    "g.map(sns.pointplot, \"t_cond\", \"hr\")"
   ]
  },
  {
   "cell_type": "code",
   "execution_count": 118,
   "metadata": {},
   "outputs": [
    {
     "data": {
      "text/plain": [
       "['n_red',\n",
       " 't_cond',\n",
       " 'signed_ev',\n",
       " 'unsigned_ev',\n",
       " 'hr',\n",
       " 'pp_lied',\n",
       " 'lied',\n",
       " 'reported_col',\n",
       " 'picked_col',\n",
       " 'RT_hr',\n",
       " 'const',\n",
       " 'subject']"
      ]
     },
     "execution_count": 118,
     "metadata": {},
     "output_type": "execute_result"
    }
   ],
   "source": [
    "list(dfs)"
   ]
  },
  {
   "cell_type": "code",
   "execution_count": null,
   "metadata": {},
   "outputs": [],
   "source": []
  },
  {
   "cell_type": "code",
   "execution_count": 33,
   "metadata": {},
   "outputs": [
    {
     "name": "stdout",
     "output_type": "stream",
     "text": [
      "0.07178526841210987\n",
      "0.0575530586760799\n",
      "0.013209182961466222\n",
      "0.05258704396881953\n",
      "0.1112359550544819\n",
      "0.10398113469258982\n",
      "0.09607435150371757\n",
      "0.08392634206657927\n",
      "0.011846303230850324\n",
      "0.11548064918639202\n"
     ]
    }
   ],
   "source": [
    "from statistics import variance\n",
    "\n",
    "for i in range(len(uuids)):\n",
    "    print(variance(agg_df[i]['hr']))"
   ]
  },
  {
   "cell_type": "code",
   "execution_count": 114,
   "metadata": {},
   "outputs": [
    {
     "data": {
      "text/plain": [
       "[Text(0.5, 0, '# red cards x outcome colour value'), (-7.0, 7.0)]"
      ]
     },
     "execution_count": 114,
     "metadata": {},
     "output_type": "execute_result"
    },
    {
     "data": {
      "image/png": "[encoded data removed]",
      "text/plain": [
       "<Figure size 432x288 with 1 Axes>"
      ]
     },
     "metadata": {
      "needs_background": "light"
     },
     "output_type": "display_data"
    }
   ],
   "source": [
    "# plot normalized suspicion for each level of expectation violation    \n",
    "p = sns.kdeplot(data=agg_df[0], x='trial_cond', hue='hr')\n",
    "p.set(xlabel=\"# red cards x outcome colour value\", xlim=(-7,7))\n",
    "# p.legend(bbox_to_anchor=(1.05, 1), loc=2, borderaxespad=0.)"
   ]
  },
  {
   "cell_type": "code",
   "execution_count": 120,
   "metadata": {},
   "outputs": [
    {
     "name": "stderr",
     "output_type": "stream",
     "text": [
      "C:\\Users\\Sarah Zheng\\.conda\\envs\\sim-test\\lib\\site-packages\\seaborn\\distributions.py:306: UserWarning: Dataset has 0 variance; skipping density estimate.\n",
      "  warnings.warn(msg, UserWarning)\n"
     ]
    },
    {
     "data": {
      "text/plain": [
       "Text(0.5, 1.0, 'Subject 7')"
      ]
     },
     "execution_count": 120,
     "metadata": {},
     "output_type": "execute_result"
    },
    {
     "data": {
      "image/png": "[encoded data removed]",
      "text/plain": [
       "<Figure size 432x288 with 1 Axes>"
      ]
     },
     "metadata": {
      "needs_background": "light"
     },
     "output_type": "display_data"
    }
   ],
   "source": [
    "# plot normalized suspicion for each level of expectation violation    \n",
    "p = sns.kdeplot(data=agg_df[6], x='trial_cond', hue='hr')\n",
    "p.set(xlabel=\"# red cards x outcome colour value\", xlim=(-7,7))\n",
    "# p.legend(bbox_to_anchor=(1.05, 1), loc=2, borderaxespad=0.)\n",
    "p.set_title(\"Subject 7\")"
   ]
  },
  {
   "cell_type": "code",
   "execution_count": 277,
   "metadata": {
    "scrolled": true
   },
   "outputs": [
    {
     "data": {
      "text/plain": [
       "Text(0.5, 1.0, 'Subject 9')"
      ]
     },
     "execution_count": 277,
     "metadata": {},
     "output_type": "execute_result"
    },
    {
     "data": {
      "image/png": "[encoded data removed]",
      "text/plain": [
       "<Figure size 432x288 with 1 Axes>"
      ]
     },
     "metadata": {
      "needs_background": "light"
     },
     "output_type": "display_data"
    }
   ],
   "source": [
    "# plot normalized suspicion for each level of expectation violation    \n",
    "p = sns.kdeplot(data=agg_df[8], x='t_cond', hue='hr')\n",
    "p.set(xlabel=\"# red cards x outcome colour value\", xlim=(-7,7))\n",
    "# p.legend(bbox_to_anchor=(1.05, 1), loc=2, borderaxespad=0.)\n",
    "p.set_title(\"Subject 9\")"
   ]
  },
  {
   "cell_type": "code",
   "execution_count": 17,
   "metadata": {},
   "outputs": [],
   "source": [
    "df2 = df"
   ]
  },
  {
   "cell_type": "code",
   "execution_count": 28,
   "metadata": {},
   "outputs": [],
   "source": [
    "# df2 = df[df['subject'] != 8]\n",
    "df2 = df[df['subject'] != 2]"
   ]
  },
  {
   "cell_type": "code",
   "execution_count": 29,
   "metadata": {},
   "outputs": [
    {
     "name": "stdout",
     "output_type": "stream",
     "text": [
      "            Mixed Linear Model Regression Results\n",
      "==============================================================\n",
      "Model:            MixedLM Dependent Variable: normed_suspicion\n",
      "No. Observations: 810     Method:             REML            \n",
      "No. Groups:       9       Scale:              0.0437          \n",
      "Min. group size:  90      Log-Likelihood:     85.7790         \n",
      "Max. group size:  90      Converged:          Yes             \n",
      "Mean group size:  90.0                                        \n",
      "---------------------------------------------------------------\n",
      "                 Coef.   Std.Err.    z    P>|z|  [0.025  0.975]\n",
      "---------------------------------------------------------------\n",
      "Intercept         0.338     0.045  7.474  0.000   0.249   0.426\n",
      "ev                0.040     0.006  6.504  0.000   0.028   0.052\n",
      "Group Var         0.018     0.044                              \n",
      "Group x ev Cov   -0.000     0.004                              \n",
      "ev Var            0.000     0.001                              \n",
      "==============================================================\n",
      "\n"
     ]
    },
    {
     "name": "stderr",
     "output_type": "stream",
     "text": [
      "C:\\Users\\Sarah Zheng\\.conda\\envs\\sim-test\\lib\\site-packages\\statsmodels\\regression\\mixed_linear_model.py:2237: ConvergenceWarning: The MLE may be on the boundary of the parameter space.\n",
      "  warnings.warn(msg, ConvergenceWarning)\n"
     ]
    }
   ],
   "source": [
    "md = smf.mixedlm(\"normed_suspicion ~ ev\", df2, groups=df2[\"subject\"], re_formula=\"~ev\")\n",
    "mdf = md.fit(method=[\"lbfgs\"])\n",
    "print(mdf.summary())"
   ]
  },
  {
   "cell_type": "code",
   "execution_count": 22,
   "metadata": {},
   "outputs": [],
   "source": [
    "import warnings\n",
    "\n",
    "with warnings.catch_warnings():\n",
    "    warnings.filterwarnings(\"ignore\")\n",
    "    likev = mdf.profile_re(0, 're', dist_low=0, dist_high=0.1)"
   ]
  },
  {
   "cell_type": "code",
   "execution_count": 26,
   "metadata": {},
   "outputs": [],
   "source": [
    "from statsmodels.tools.sm_exceptions import ConvergenceWarning\n",
    "\n",
    "import matplotlib.pyplot as plt"
   ]
  },
  {
   "cell_type": "code",
   "execution_count": 27,
   "metadata": {},
   "outputs": [
    {
     "data": {
      "image/png": "[encoded data removed]",
      "text/plain": [
       "<Figure size 720x576 with 1 Axes>"
      ]
     },
     "metadata": {
      "needs_background": "light"
     },
     "output_type": "display_data"
    }
   ],
   "source": [
    "re = mdf.cov_re.iloc[1, 1]\n",
    "with warnings.catch_warnings():\n",
    "    # Parameter is often on the boundary\n",
    "    warnings.simplefilter(\"ignore\", ConvergenceWarning)\n",
    "    likev = mdf.profile_re(1, 're', dist_low=.5*re, dist_high=0.8*re)\n",
    "\n",
    "plt.figure(figsize=(10, 8))\n",
    "plt.plot(likev[:,0], 2*likev[:,1])\n",
    "plt.xlabel(\"Variance of random slope\", size=17)\n",
    "lbl = plt.ylabel(\"-2 times profile log likelihood\", size=17)"
   ]
  },
  {
   "cell_type": "code",
   "execution_count": null,
   "metadata": {},
   "outputs": [],
   "source": []
  },
  {
   "cell_type": "code",
   "execution_count": null,
   "metadata": {},
   "outputs": [],
   "source": []
  },
  {
   "cell_type": "code",
   "execution_count": null,
   "metadata": {},
   "outputs": [],
   "source": []
  },
  {
   "cell_type": "code",
   "execution_count": 270,
   "metadata": {},
   "outputs": [],
   "source": [
    "z_false_alarm = zscore(false_alarm)"
   ]
  },
  {
   "cell_type": "code",
   "execution_count": 271,
   "metadata": {},
   "outputs": [],
   "source": [
    "z_hits = zscore(hits)"
   ]
  },
  {
   "cell_type": "code",
   "execution_count": 272,
   "metadata": {},
   "outputs": [],
   "source": [
    "d_prime = np.subtract(z_hits, z_false_alarm)"
   ]
  },
  {
   "cell_type": "code",
   "execution_count": 273,
   "metadata": {},
   "outputs": [
    {
     "data": {
      "text/plain": [
       "[(-0.4824752523663835, -0.40901359304656315),\n",
       " (0.07422696190252062, 0.06905424298188732),\n",
       " (-2.3381492999293974, -1.3120306166558584),\n",
       " (0.44536177141512334, -0.09030170236092949),\n",
       " (0.8164965809277261, 0.9720712665911827),\n",
       " (0.8164965809277261, 0.5471220790103378),\n",
       " (0.8164965809277261, 0.17529153987709856),\n",
       " (-1.224744871391589, -1.2057933197606472),\n",
       " (0.44536177141512334, 2.140681532438506),\n",
       " (0.6309291761714247, -0.8870814290750136)]"
      ]
     },
     "execution_count": 273,
     "metadata": {},
     "output_type": "execute_result"
    }
   ],
   "source": [
    "list(zip(z_hits, z_false_alarm))"
   ]
  },
  {
   "cell_type": "code",
   "execution_count": 81,
   "metadata": {},
   "outputs": [
    {
     "name": "stdout",
     "output_type": "stream",
     "text": [
      "t_cond         -6      -5     -4   -3        -2   -1        1              2  \\\n",
      "pp_lied         0       0      0    0         0    0        0    1         0   \n",
      "hr       0.064103  0.1875  0.125  0.0  0.166667  0.0  0.37037  0.5  0.294872   \n",
      "\n",
      "t_cond          3         4                   5              6            \n",
      "pp_lied         0         0         1         0         1    0         1  \n",
      "hr       0.388889  0.388889  0.555556  0.541667  0.472222  0.5  0.592593  \n",
      "t_cond    -6      -5     -4   -3   -2   -1         1              2         3  \\\n",
      "pp_lied    0       0      0    0    0    0         0    1         0         0   \n",
      "hr       0.0  0.0625  0.125  0.0  0.0  0.0  0.444444  0.5  0.333333  0.444444   \n",
      "\n",
      "t_cond          4                   5              6            \n",
      "pp_lied         0         1         0         1    0         1  \n",
      "hr       0.277778  0.444444  0.458333  0.472222  0.5  0.444444  \n",
      "t_cond         -6        -5        -4        -3        -2        -1         1  \\\n",
      "pp_lied         0         0         0         0         0         0         0   \n",
      "hr       0.166667  0.208333  0.166667  0.166667  0.166667  0.166667  0.240741   \n",
      "\n",
      "t_cond                    2         3         4                5            \\\n",
      "pp_lied         1         0         0         0         1      0         1   \n",
      "hr       0.333333  0.192308  0.222222  0.222222  0.333333  0.375  0.361111   \n",
      "\n",
      "t_cond          6            \n",
      "pp_lied         0         1  \n",
      "hr       0.166667  0.314815  \n",
      "t_cond         -6      -5    -4        -3   -2        -1         1            \\\n",
      "pp_lied         0       0     0         0    0         0         0         1   \n",
      "hr       0.307692  0.1875  0.25  0.166667  0.0  0.166667  0.240741  0.166667   \n",
      "\n",
      "t_cond          2    3         4                 5              6            \n",
      "pp_lied         0    0         0         1       0         1    0         1  \n",
      "hr       0.410256  0.5  0.388889  0.722222  0.5625  0.666667  0.5  0.666667  \n",
      "t_cond         -6        -5        -4   -3   -2        -1         1       \\\n",
      "pp_lied         0         0         0    0    0         0         0    1   \n",
      "hr       0.192308  0.083333  0.083333  0.5  0.0  0.333333  0.611111  0.5   \n",
      "\n",
      "t_cond          2         3         4                   5              6  \\\n",
      "pp_lied         0         0         0         1         0         1    0   \n",
      "hr       0.602564  0.685185  0.722222  0.666667  0.666667  0.805556  0.5   \n",
      "\n",
      "t_cond            \n",
      "pp_lied        1  \n",
      "hr       0.87037  \n",
      "t_cond         -6        -5        -4   -3        -2   -1         1            \\\n",
      "pp_lied         0         0         0    0         0    0         0         1   \n",
      "hr       0.217949  0.354167  0.291667  0.0  0.166667  0.0  0.648148  0.833333   \n",
      "\n",
      "t_cond          2         3    4                5              6            \n",
      "pp_lied         0         0    0         1      0         1    0         1  \n",
      "hr       0.538462  0.574074  0.5  0.777778  0.625  0.833333  0.5  0.833333  \n",
      "t_cond    -6   -5     -4   -3   -2   -1         1              2         3  \\\n",
      "pp_lied    0    0      0    0    0    0         0    1         0         0   \n",
      "hr       0.0  0.0  0.125  0.0  0.0  0.0  0.333333  0.5  0.410256  0.462963   \n",
      "\n",
      "t_cond          4              5              6            \n",
      "pp_lied         0    1         0         1    0         1  \n",
      "hr       0.277778  0.5  0.541667  0.777778  0.5  0.777778  \n",
      "t_cond    -6   -5   -4   -3   -2   -1    1              2         3    4       \\\n",
      "pp_lied    0    0    0    0    0    0    0    1         0         0    0    1   \n",
      "hr       0.0  0.0  0.0  0.0  0.0  0.0  0.0  0.0  0.064103  0.185185  0.0  0.0   \n",
      "\n",
      "t_cond       5              6            \n",
      "pp_lied      0         1    0         1  \n",
      "hr       0.125  0.444444  0.0  0.481481  \n",
      "t_cond         -6        -5   -4   -3   -2   -1         1              2  \\\n",
      "pp_lied         0         0    0    0    0    0         0    1         0   \n",
      "hr       0.474359  0.458333  0.5  0.5  0.5  0.5  0.555556  0.5  0.474359   \n",
      "\n",
      "t_cond          3    4         5              6            \n",
      "pp_lied         0    0    1    0         1    0         1  \n",
      "hr       0.518519  0.5  0.5  0.5  0.527778  0.5  0.481481  \n",
      "t_cond         -6   -5   -4   -3   -2   -1         1              2         3  \\\n",
      "pp_lied         0    0    0    0    0    0         0    1         0         0   \n",
      "hr       0.012821  0.0  0.0  0.0  0.0  0.0  0.074074  0.0  0.128205  0.259259   \n",
      "\n",
      "t_cond          4                   5                   6            \n",
      "pp_lied         0         1         0         1         0         1  \n",
      "hr       0.222222  0.555556  0.604167  0.805556  0.833333  0.814815  \n"
     ]
    }
   ],
   "source": [
    "for i in range(len(uuids)):\n",
    "    print(agg_df[i].pivot_table(columns=[\"t_cond\", \"pp_lied\"], values=\"hr\"))"
   ]
  },
  {
   "cell_type": "code",
   "execution_count": 141,
   "metadata": {},
   "outputs": [],
   "source": [
    "tmp = agg_df[1].pivot_table(index=agg_df[1].index, columns=\"lied\", values=\"RT_hr\")"
   ]
  },
  {
   "cell_type": "code",
   "execution_count": 274,
   "metadata": {},
   "outputs": [
    {
     "data": {
      "text/plain": [
       "8980.275"
      ]
     },
     "execution_count": 274,
     "metadata": {},
     "output_type": "execute_result"
    }
   ],
   "source": [
    "i=1\n",
    "agg_df[i][agg_df[i]['lied'] == 1]['RT_hr'].mean()"
   ]
  },
  {
   "cell_type": "code",
   "execution_count": 40,
   "metadata": {},
   "outputs": [],
   "source": [
    "from collections import Counter"
   ]
  },
  {
   "cell_type": "code",
   "execution_count": 194,
   "metadata": {},
   "outputs": [
    {
     "name": "stdout",
     "output_type": "stream",
     "text": [
      "MannwhitneyuResult(statistic=12.0, pvalue=0.10901811354129248)\n",
      "MannwhitneyuResult(statistic=929.5, pvalue=0.2848766253229316)\n",
      "MannwhitneyuResult(statistic=798.5, pvalue=0.04796291426195817)\n",
      "MannwhitneyuResult(statistic=914.5, pvalue=0.22022846750544955)\n",
      "MannwhitneyuResult(statistic=510.0, pvalue=0.1948654668904417)\n",
      "MannwhitneyuResult(statistic=744.0, pvalue=0.404964412478957)\n",
      "MannwhitneyuResult(statistic=844.5, pvalue=0.14777897586968536)\n",
      "MannwhitneyuResult(statistic=122.0, pvalue=0.01809827810261586)\n",
      "MannwhitneyuResult(statistic=843.0, pvalue=0.1449474127787474)\n",
      "MannwhitneyuResult(statistic=595.0, pvalue=0.15524146083520923)\n"
     ]
    }
   ],
   "source": [
    "for i in range(len(uuids)):\n",
    "#     print(\"subject\", i)\n",
    "    tmp = agg_df[i].pivot_table(index=agg_df[i].index, columns=\"lied\", values=\"RT_hr\")\n",
    "    lie = tmp[[1]].to_numpy().flatten()\n",
    "    no_lie = tmp[[0]].to_numpy().flatten()\n",
    "    \n",
    "    lie = [v for v in lie if not np.isnan(v)]\n",
    "    no_lie = [v for v in no_lie if not np.isnan(v)]\n",
    "\n",
    "#     print(tmp[[0]].mean(), tmp[[1]].mean())\n",
    "    print(mannwhitneyu(lie, no_lie))\n",
    "#     print(tmp[[0]].values)"
   ]
  },
  {
   "cell_type": "code",
   "execution_count": 284,
   "metadata": {},
   "outputs": [
    {
     "data": {
      "image/png": "[encoded data removed]",
      "text/plain": [
       "<Figure size 432x288 with 1 Axes>"
      ]
     },
     "metadata": {
      "needs_background": "light"
     },
     "output_type": "display_data"
    }
   ],
   "source": [
    "# plot RTs for various EV levels\n",
    "for i in range(len(uuids)):\n",
    "    p = sns.lineplot(data=agg_df[i], x='hr', y='RT_hr')\n",
    "    p.set(xlabel=\"normalized suspicion rating\", ylabel=\"RT honesty rating\")"
   ]
  },
  {
   "cell_type": "code",
   "execution_count": 266,
   "metadata": {},
   "outputs": [
    {
     "data": {
      "text/html": [
       "<div>\n",
       "<style scoped>\n",
       "    .dataframe tbody tr th:only-of-type {\n",
       "        vertical-align: middle;\n",
       "    }\n",
       "\n",
       "    .dataframe tbody tr th {\n",
       "        vertical-align: top;\n",
       "    }\n",
       "\n",
       "    .dataframe thead th {\n",
       "        text-align: right;\n",
       "    }\n",
       "</style>\n",
       "<table border=\"1\" class=\"dataframe\">\n",
       "  <thead>\n",
       "    <tr style=\"text-align: right;\">\n",
       "      <th></th>\n",
       "      <th>n_red</th>\n",
       "      <th>t_cond</th>\n",
       "      <th>hr</th>\n",
       "      <th>pp_lied</th>\n",
       "      <th>lied</th>\n",
       "      <th>reported_col</th>\n",
       "      <th>picked_col</th>\n",
       "      <th>RT_hr</th>\n",
       "    </tr>\n",
       "  </thead>\n",
       "  <tbody>\n",
       "    <tr>\n",
       "      <th>0</th>\n",
       "      <td>6</td>\n",
       "      <td>-6</td>\n",
       "      <td>0.000000</td>\n",
       "      <td>0</td>\n",
       "      <td>0</td>\n",
       "      <td>-1</td>\n",
       "      <td>-1</td>\n",
       "      <td>3284</td>\n",
       "    </tr>\n",
       "    <tr>\n",
       "      <th>1</th>\n",
       "      <td>6</td>\n",
       "      <td>-6</td>\n",
       "      <td>0.000000</td>\n",
       "      <td>0</td>\n",
       "      <td>0</td>\n",
       "      <td>-1</td>\n",
       "      <td>-1</td>\n",
       "      <td>3309</td>\n",
       "    </tr>\n",
       "    <tr>\n",
       "      <th>2</th>\n",
       "      <td>2</td>\n",
       "      <td>2</td>\n",
       "      <td>0.166667</td>\n",
       "      <td>0</td>\n",
       "      <td>0</td>\n",
       "      <td>1</td>\n",
       "      <td>1</td>\n",
       "      <td>2851</td>\n",
       "    </tr>\n",
       "    <tr>\n",
       "      <th>3</th>\n",
       "      <td>3</td>\n",
       "      <td>3</td>\n",
       "      <td>0.500000</td>\n",
       "      <td>0</td>\n",
       "      <td>0</td>\n",
       "      <td>-1</td>\n",
       "      <td>-1</td>\n",
       "      <td>34148</td>\n",
       "    </tr>\n",
       "    <tr>\n",
       "      <th>4</th>\n",
       "      <td>1</td>\n",
       "      <td>1</td>\n",
       "      <td>0.166667</td>\n",
       "      <td>0</td>\n",
       "      <td>0</td>\n",
       "      <td>1</td>\n",
       "      <td>1</td>\n",
       "      <td>4211</td>\n",
       "    </tr>\n",
       "    <tr>\n",
       "      <th>...</th>\n",
       "      <td>...</td>\n",
       "      <td>...</td>\n",
       "      <td>...</td>\n",
       "      <td>...</td>\n",
       "      <td>...</td>\n",
       "      <td>...</td>\n",
       "      <td>...</td>\n",
       "      <td>...</td>\n",
       "    </tr>\n",
       "    <tr>\n",
       "      <th>85</th>\n",
       "      <td>1</td>\n",
       "      <td>1</td>\n",
       "      <td>0.666667</td>\n",
       "      <td>0</td>\n",
       "      <td>0</td>\n",
       "      <td>1</td>\n",
       "      <td>1</td>\n",
       "      <td>2223</td>\n",
       "    </tr>\n",
       "    <tr>\n",
       "      <th>86</th>\n",
       "      <td>5</td>\n",
       "      <td>-5</td>\n",
       "      <td>1.000000</td>\n",
       "      <td>0</td>\n",
       "      <td>0</td>\n",
       "      <td>1</td>\n",
       "      <td>1</td>\n",
       "      <td>3372</td>\n",
       "    </tr>\n",
       "    <tr>\n",
       "      <th>87</th>\n",
       "      <td>2</td>\n",
       "      <td>2</td>\n",
       "      <td>1.000000</td>\n",
       "      <td>0</td>\n",
       "      <td>0</td>\n",
       "      <td>1</td>\n",
       "      <td>1</td>\n",
       "      <td>2445</td>\n",
       "    </tr>\n",
       "    <tr>\n",
       "      <th>88</th>\n",
       "      <td>6</td>\n",
       "      <td>6</td>\n",
       "      <td>1.000000</td>\n",
       "      <td>1</td>\n",
       "      <td>0</td>\n",
       "      <td>-1</td>\n",
       "      <td>-1</td>\n",
       "      <td>2195</td>\n",
       "    </tr>\n",
       "    <tr>\n",
       "      <th>89</th>\n",
       "      <td>5</td>\n",
       "      <td>5</td>\n",
       "      <td>1.000000</td>\n",
       "      <td>0</td>\n",
       "      <td>0</td>\n",
       "      <td>1</td>\n",
       "      <td>1</td>\n",
       "      <td>2343</td>\n",
       "    </tr>\n",
       "  </tbody>\n",
       "</table>\n",
       "<p>90 rows × 8 columns</p>\n",
       "</div>"
      ],
      "text/plain": [
       "    n_red  t_cond        hr  pp_lied  lied  reported_col  picked_col  RT_hr\n",
       "0       6      -6  0.000000        0     0            -1          -1   3284\n",
       "1       6      -6  0.000000        0     0            -1          -1   3309\n",
       "2       2       2  0.166667        0     0             1           1   2851\n",
       "3       3       3  0.500000        0     0            -1          -1  34148\n",
       "4       1       1  0.166667        0     0             1           1   4211\n",
       "..    ...     ...       ...      ...   ...           ...         ...    ...\n",
       "85      1       1  0.666667        0     0             1           1   2223\n",
       "86      5      -5  1.000000        0     0             1           1   3372\n",
       "87      2       2  1.000000        0     0             1           1   2445\n",
       "88      6       6  1.000000        1     0            -1          -1   2195\n",
       "89      5       5  1.000000        0     0             1           1   2343\n",
       "\n",
       "[90 rows x 8 columns]"
      ]
     },
     "execution_count": 266,
     "metadata": {},
     "output_type": "execute_result"
    }
   ],
   "source": [
    "agg_df[0]"
   ]
  },
  {
   "cell_type": "code",
   "execution_count": 58,
   "metadata": {},
   "outputs": [
    {
     "data": {
      "text/plain": [
       "SpearmanrResult(correlation=-0.38012007355450833, pvalue=0.2785759433625851)"
      ]
     },
     "execution_count": 58,
     "metadata": {},
     "output_type": "execute_result"
    }
   ],
   "source": [
    "spearmanr(d_prime, [3, 3, 5, 3, 4, 4,2, 0, 4,4])"
   ]
  },
  {
   "cell_type": "code",
   "execution_count": 190,
   "metadata": {},
   "outputs": [
    {
     "data": {
      "text/html": [
       "<div>\n",
       "<style scoped>\n",
       "    .dataframe tbody tr th:only-of-type {\n",
       "        vertical-align: middle;\n",
       "    }\n",
       "\n",
       "    .dataframe tbody tr th {\n",
       "        vertical-align: top;\n",
       "    }\n",
       "\n",
       "    .dataframe thead th {\n",
       "        text-align: right;\n",
       "    }\n",
       "</style>\n",
       "<table border=\"1\" class=\"dataframe\">\n",
       "  <thead>\n",
       "    <tr style=\"text-align: right;\">\n",
       "      <th>reported_col</th>\n",
       "      <th>-1</th>\n",
       "      <th>1</th>\n",
       "    </tr>\n",
       "    <tr>\n",
       "      <th>picked_col</th>\n",
       "      <th></th>\n",
       "      <th></th>\n",
       "    </tr>\n",
       "  </thead>\n",
       "  <tbody>\n",
       "    <tr>\n",
       "      <th>-1</th>\n",
       "      <td>2</td>\n",
       "      <td>43</td>\n",
       "    </tr>\n",
       "    <tr>\n",
       "      <th>1</th>\n",
       "      <td>0</td>\n",
       "      <td>45</td>\n",
       "    </tr>\n",
       "  </tbody>\n",
       "</table>\n",
       "</div>"
      ],
      "text/plain": [
       "reported_col  -1   1\n",
       "picked_col          \n",
       "-1             2  43\n",
       " 1             0  45"
      ]
     },
     "execution_count": 190,
     "metadata": {},
     "output_type": "execute_result"
    }
   ],
   "source": [
    "i=3\n",
    "pd.crosstab(index=agg_df[i]['picked_col'], columns=agg_df[i]['reported_col'])"
   ]
  },
  {
   "cell_type": "code",
   "execution_count": 199,
   "metadata": {},
   "outputs": [
    {
     "data": {
      "text/plain": [
       "n_red  picked_col  reported_col\n",
       "1      -1           1               1\n",
       "        1           1              10\n",
       "2      -1           1               4\n",
       "        1           1              10\n",
       "3      -1           1               4\n",
       "        1           1               6\n",
       "4      -1          -1               4\n",
       "                    1               4\n",
       "        1           1               2\n",
       "5      -1          -1              10\n",
       "                    1               5\n",
       "        1           1               7\n",
       "6      -1          -1              20\n",
       "                    1               2\n",
       "        1           1               1\n",
       "dtype: int64"
      ]
     },
     "execution_count": 199,
     "metadata": {},
     "output_type": "execute_result"
    }
   ],
   "source": [
    "agg_df[9].groupby(['n_red', 'picked_col', 'reported_col']).size()"
   ]
  },
  {
   "cell_type": "code",
   "execution_count": 226,
   "metadata": {},
   "outputs": [
    {
     "name": "stdout",
     "output_type": "stream",
     "text": [
      "SpearmanrResult(correlation=0.026274250759045752, pvalue=0.8080115159827843)\n",
      "SpearmanrResult(correlation=0.10025075229139972, pvalue=0.3527166429744848)\n",
      "SpearmanrResult(correlation=0.024374297575820665, pvalue=0.8216561812120813)\n",
      "SpearmanrResult(correlation=-0.032993029304988486, pvalue=0.760244449613966)\n",
      "SpearmanrResult(correlation=0.16030143332257435, pvalue=0.13571858546132434)\n",
      "SpearmanrResult(correlation=-0.04562863955939704, pvalue=0.6729269131461015)\n",
      "SpearmanrResult(correlation=0.12142994311282412, pvalue=0.2597412911411045)\n",
      "SpearmanrResult(correlation=0.06649055812186473, pvalue=0.5382245225031439)\n",
      "SpearmanrResult(correlation=0.012641522258727436, pvalue=0.9069416441383802)\n",
      "SpearmanrResult(correlation=-0.02476160143234385, pvalue=0.8188702812643511)\n"
     ]
    }
   ],
   "source": [
    "for i in range(len(uuids)):\n",
    "    print(spearmanr(agg_df[i]['hr'].diff()[1:-1], agg_df[1]['lied'][2:]))"
   ]
  },
  {
   "cell_type": "code",
   "execution_count": 230,
   "metadata": {},
   "outputs": [
    {
     "name": "stdout",
     "output_type": "stream",
     "text": [
      "0\n",
      "lied\n",
      "0    0.335206\n",
      "1    0.166667\n",
      "Name: hr, dtype: float64\n",
      "1\n",
      "lied\n",
      "0    0.273333\n",
      "1    0.333333\n",
      "Name: hr, dtype: float64\n",
      "2\n",
      "lied\n",
      "0    0.238095\n",
      "1    0.247967\n",
      "Name: hr, dtype: float64\n",
      "3\n",
      "lied\n",
      "0    0.411348\n",
      "1    0.418605\n",
      "Name: hr, dtype: float64\n",
      "4\n",
      "lied\n",
      "0    0.472973\n",
      "1    0.750000\n",
      "Name: hr, dtype: float64\n",
      "5\n",
      "lied\n",
      "0    0.492537\n",
      "1    0.637681\n",
      "Name: hr, dtype: float64\n",
      "6\n",
      "lied\n",
      "0    0.430556\n",
      "1    0.311728\n",
      "Name: hr, dtype: float64\n",
      "7\n",
      "lied\n",
      "0    0.105159\n",
      "1    0.277778\n",
      "Name: hr, dtype: float64\n",
      "8\n",
      "lied\n",
      "0    0.490741\n",
      "1    0.504630\n",
      "Name: hr, dtype: float64\n",
      "9\n",
      "lied\n",
      "0    0.238095\n",
      "1    0.416667\n",
      "Name: hr, dtype: float64\n"
     ]
    }
   ],
   "source": [
    "for i in range(len(uuids)):\n",
    "    print(i)\n",
    "    print(agg_df[i].groupby('lied')['hr'].mean())"
   ]
  },
  {
   "cell_type": "code",
   "execution_count": 197,
   "metadata": {},
   "outputs": [],
   "source": [
    "alpha = [0.426, 0.589,0.191,0.463,0.749,0.567,0.628,0.247,0.205,0.574]"
   ]
  },
  {
   "cell_type": "code",
   "execution_count": 195,
   "metadata": {},
   "outputs": [
    {
     "data": {
      "text/plain": [
       "array([-0.07346166,  0.00517272, -1.02611868,  0.53566347, -0.15557469,\n",
       "        0.2693745 ,  0.64120504, -0.01895155, -1.69531976,  1.51801061])"
      ]
     },
     "execution_count": 195,
     "metadata": {},
     "output_type": "execute_result"
    }
   ],
   "source": [
    "d_prime"
   ]
  },
  {
   "cell_type": "code",
   "execution_count": 199,
   "metadata": {},
   "outputs": [
    {
     "data": {
      "text/plain": [
       "(0.6381421922266934, 0.047096692201402814)"
      ]
     },
     "execution_count": 199,
     "metadata": {},
     "output_type": "execute_result"
    }
   ],
   "source": [
    "pearsonr(alpha, d_prime)"
   ]
  },
  {
   "cell_type": "code",
   "execution_count": 213,
   "metadata": {},
   "outputs": [
    {
     "name": "stderr",
     "output_type": "stream",
     "text": [
      "C:\\Users\\Sarah Zheng\\.conda\\envs\\sim-test\\lib\\site-packages\\seaborn\\_decorators.py:36: FutureWarning: Pass the following variables as keyword args: x, y. From version 0.12, the only valid positional argument will be `data`, and passing other arguments without an explicit keyword will result in an error or misinterpretation.\n",
      "  warnings.warn(\n"
     ]
    },
    {
     "data": {
      "text/plain": [
       "[Text(0.5, 0, 'alpha estimate'), Text(0, 0.5, \"lie detection D'\")]"
      ]
     },
     "execution_count": 213,
     "metadata": {},
     "output_type": "execute_result"
    },
    {
     "data": {
      "image/png": "[encoded data removed]",
      "text/plain": [
       "<Figure size 432x288 with 1 Axes>"
      ]
     },
     "metadata": {
      "needs_background": "light"
     },
     "output_type": "display_data"
    }
   ],
   "source": [
    "p = sns.regplot(alpha, d_prime)\n",
    "p.set(xlabel=\"alpha estimate\", ylabel=\"lie detection D'\")"
   ]
  },
  {
   "cell_type": "code",
   "execution_count": 200,
   "metadata": {},
   "outputs": [],
   "source": [
    "rt_lie = [3606,\n",
    "8980.275,\n",
    "3427.293,\n",
    "2479.047,\n",
    "2390.938,\n",
    "2375.609,\n",
    "2420.222,\n",
    "4083.833,\n",
    "2616.194,\n",
    "2176.9]\n",
    "\n",
    "rt_nolie = [\n",
    "    3204.079,\n",
    "3019.02,\n",
    "3120.204,\n",
    "2223.83,\n",
    "4817.405,\n",
    "2472.343,\n",
    "2318.667,\n",
    "3502.714,\n",
    "2756.13,\n",
    "1987.286]"
   ]
  },
  {
   "cell_type": "code",
   "execution_count": 214,
   "metadata": {},
   "outputs": [
    {
     "data": {
      "text/plain": [
       "Text(0.5, 1.0, 'SAME subjects seem slower at rating honesty after they lied themselves')"
      ]
     },
     "execution_count": 214,
     "metadata": {},
     "output_type": "execute_result"
    },
    {
     "data": {
      "image/png": "[encoded data removed]",
      "text/plain": [
       "<Figure size 432x288 with 1 Axes>"
      ]
     },
     "metadata": {
      "needs_background": "light"
     },
     "output_type": "display_data"
    }
   ],
   "source": [
    "p = sns.regplot(x=rt_lie, y=rt_nolie)\n",
    "p.set(xlim=(0,10000), ylim=(0,10000), xlabel=\"mean honesty rating RT when lied\", ylabel=\"mean honesty rating RT when not lied\")\n",
    "p.plot(p.get_xlim(), p.get_ylim(), ls=\"--\", c=\".3\")\n",
    "p.set_title(\"SAME subjects seem slower at rating honesty after they lied themselves\")"
   ]
  },
  {
   "cell_type": "code",
   "execution_count": 215,
   "metadata": {},
   "outputs": [],
   "source": [
    "s_ev_alpha = [0.426,\n",
    "0.42,\n",
    "0.143,\n",
    "0.463,\n",
    "0.749,\n",
    "0.4,\n",
    "0.628,\n",
    "0.229,\n",
    "0.031,\n",
    "0.543]"
   ]
  },
  {
   "cell_type": "code",
   "execution_count": 221,
   "metadata": {},
   "outputs": [],
   "source": [
    "s_ev_prior = [0.083,\n",
    "0.053,\n",
    "0.158,\n",
    "0.143,\n",
    "0.082,\n",
    "0.294,\n",
    "0,\n",
    "0,\n",
    "0.479,\n",
    "0]"
   ]
  },
  {
   "cell_type": "code",
   "execution_count": 226,
   "metadata": {},
   "outputs": [],
   "source": [
    "lie_prop = []\n",
    "for uuid in uuids:\n",
    "    lie_prop.append(sum(when_lied[uuid])/len(when_lied[uuid]))"
   ]
  },
  {
   "cell_type": "code",
   "execution_count": 222,
   "metadata": {},
   "outputs": [],
   "source": [
    "from statistics import median"
   ]
  },
  {
   "cell_type": "code",
   "execution_count": 223,
   "metadata": {},
   "outputs": [
    {
     "data": {
      "text/plain": [
       "0.423"
      ]
     },
     "execution_count": 223,
     "metadata": {},
     "output_type": "execute_result"
    }
   ],
   "source": [
    "median(s_ev_alpha)"
   ]
  },
  {
   "cell_type": "code",
   "execution_count": 224,
   "metadata": {},
   "outputs": [],
   "source": [
    "s_ev_alpha_hmedian = [1 if v > median(s_ev_alpha) else 0 for v in s_ev_alpha]"
   ]
  },
  {
   "cell_type": "code",
   "execution_count": 235,
   "metadata": {},
   "outputs": [],
   "source": [
    "s_ev_prior_hmedian = [1 if v > median(s_ev_prior) else 0 for v in s_ev_prior]"
   ]
  },
  {
   "cell_type": "code",
   "execution_count": 225,
   "metadata": {},
   "outputs": [
    {
     "data": {
      "text/plain": [
       "[1, 0, 0, 1, 1, 0, 1, 0, 0, 1]"
      ]
     },
     "execution_count": 225,
     "metadata": {},
     "output_type": "execute_result"
    }
   ],
   "source": [
    "s_ev_alpha_hmedian"
   ]
  },
  {
   "cell_type": "code",
   "execution_count": 255,
   "metadata": {},
   "outputs": [],
   "source": [
    "hrs = []\n",
    "for uuid in uuids:\n",
    "    r = [ratings[uuid][k] for k in ratings[uuid].keys()]\n",
    "    hrs.append(sum(r)/len(r))"
   ]
  },
  {
   "cell_type": "code",
   "execution_count": 256,
   "metadata": {},
   "outputs": [
    {
     "data": {
      "text/plain": [
       "[0.3333333333388889,\n",
       " 0.30000000000444443,\n",
       " 0.24259259260333327,\n",
       " 0.4148148148155553,\n",
       " 0.5222222222211108,\n",
       " 0.5296296296322222,\n",
       " 0.35925925926111113,\n",
       " 0.11666666666333331,\n",
       " 0.4962962963,\n",
       " 0.2777777777833332]"
      ]
     },
     "execution_count": 256,
     "metadata": {},
     "output_type": "execute_result"
    }
   ],
   "source": [
    "hrs"
   ]
  },
  {
   "cell_type": "code",
   "execution_count": 260,
   "metadata": {},
   "outputs": [],
   "source": [
    "tmp = pd.DataFrame({\"higher_than_median\": s_ev_alpha_hmedian, \n",
    "                    \"s_ev_alpha\": s_ev_alpha, \n",
    "                    \"s_ev_prior\": s_ev_prior, \n",
    "                    \"s_ev_prior_hmedian\": s_ev_prior_hmedian, \n",
    "                    \"lie_prop\": lie_prop,\n",
    "                    \"lied_more\": [v > median(lie_prop) for v in lie_prop],\n",
    "                   \"mean_normed_suspicion_rating\": hrs})"
   ]
  },
  {
   "cell_type": "code",
   "execution_count": 265,
   "metadata": {},
   "outputs": [
    {
     "data": {
      "text/plain": [
       "Text(0.5, 1.0, 'SAME condition: liars and mean suspicion')"
      ]
     },
     "execution_count": 265,
     "metadata": {},
     "output_type": "execute_result"
    },
    {
     "data": {
      "image/png": "[encoded data removed]",
      "text/plain": [
       "<Figure size 432x288 with 1 Axes>"
      ]
     },
     "metadata": {
      "needs_background": "light"
     },
     "output_type": "display_data"
    }
   ],
   "source": [
    "p = sns.barplot(data=tmp, x=\"lied_more\", y=\"mean_normed_suspicion_rating\")\n",
    "p.set(xlabel=\"lied more than median lie proportion\", ylabel=\"mean suspicion\")\n",
    "p.set_title(\"SAME condition: liars and mean suspicion\")"
   ]
  },
  {
   "cell_type": "code",
   "execution_count": 234,
   "metadata": {},
   "outputs": [
    {
     "data": {
      "text/plain": [
       "Text(0.5, 1.0, 'SAME condition signed EV model w/o update rule: high vs low alpha and lie proportion')"
      ]
     },
     "execution_count": 234,
     "metadata": {},
     "output_type": "execute_result"
    },
    {
     "data": {
      "image/png": "[encoded data removed]",
      "text/plain": [
       "<Figure size 432x288 with 1 Axes>"
      ]
     },
     "metadata": {
      "needs_background": "light"
     },
     "output_type": "display_data"
    }
   ],
   "source": [
    "p = sns.barplot(data=tmp, y=\"lie_prop\", x=\"higher_than_median\")\n",
    "p.set(xlabel=\"alpha higher than median (1) or not (0)\", ylabel=\"lie proportion\")\n",
    "p.set_title(\"SAME condition signed EV model w/o update rule: high vs low alpha and lie proportion\")"
   ]
  },
  {
   "cell_type": "code",
   "execution_count": 240,
   "metadata": {},
   "outputs": [
    {
     "data": {
      "text/plain": [
       "Text(0.5, 1.0, 'SAME condition signed EV model w/o update rule: high vs low prior and lying')"
      ]
     },
     "execution_count": 240,
     "metadata": {},
     "output_type": "execute_result"
    },
    {
     "data": {
      "image/png": "[encoded data removed]",
      "text/plain": [
       "<Figure size 432x288 with 1 Axes>"
      ]
     },
     "metadata": {
      "needs_background": "light"
     },
     "output_type": "display_data"
    }
   ],
   "source": [
    "p = sns.barplot(data=tmp, y=\"lie_prop\", x=\"s_ev_prior_hmedian\")\n",
    "p.set(xlabel=\"baseline suspicion (prior) higher than median (1) or not (0)\", ylabel=\"lie proportion\")\n",
    "p.set_title(\"SAME condition signed EV model w/o update rule: high vs low prior and lying\")"
   ]
  },
  {
   "cell_type": "code",
   "execution_count": null,
   "metadata": {},
   "outputs": [],
   "source": []
  }
 ],
 "metadata": {
  "kernelspec": {
   "display_name": "Python 3",
   "language": "python",
   "name": "python3"
  },
  "language_info": {
   "codemirror_mode": {
    "name": "ipython",
    "version": 3
   },
   "file_extension": ".py",
   "mimetype": "text/x-python",
   "name": "python",
   "nbconvert_exporter": "python",
   "pygments_lexer": "ipython3",
   "version": "3.8.5"
  }
 },
 "nbformat": 4,
 "nbformat_minor": 4
}
