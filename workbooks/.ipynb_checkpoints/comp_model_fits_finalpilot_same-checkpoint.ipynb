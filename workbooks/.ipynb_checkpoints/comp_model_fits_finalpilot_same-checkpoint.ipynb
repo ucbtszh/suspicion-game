{
 "cells": [
  {
   "cell_type": "code",
   "execution_count": 1,
   "metadata": {},
   "outputs": [],
   "source": [
    "import json\n",
    "import pandas as pd\n",
    "import seaborn\n",
    "\n",
    "from scripts.analysis import *\n",
    "from scripts.data_processing import process_trials_from_df"
   ]
  },
  {
   "cell_type": "code",
   "execution_count": 2,
   "metadata": {},
   "outputs": [],
   "source": [
    "# set1 SAME players condition block trials: p2b_s11, p2a_s31, p2b_s02\n",
    "\n",
    "with open('./trial_setups/p2b_s11.json', 'r') as f:\n",
    "    bs11 = json.load(f)\n",
    "    bs11 = pd.DataFrame.from_dict(bs11)\n",
    "    bs11 = process_trials_from_df(bs11, 7)\n",
    "\n",
    "with open('./trial_setups/p2b_s02.json', 'r') as f:\n",
    "    bs02 = json.load(f)\n",
    "    bs02 = pd.DataFrame.from_dict(bs02)\n",
    "    bs02 = process_trials_from_df(bs02, 7)\n",
    "    \n",
    "with open('./trial_setups/p2a_s31.json', 'r') as f:\n",
    "    as31 = json.load(f)\n",
    "    as31 = pd.DataFrame.from_dict(as31)\n",
    "    as31 = process_trials_from_df(as31, 7)"
   ]
  },
  {
   "cell_type": "code",
   "execution_count": 3,
   "metadata": {},
   "outputs": [],
   "source": [
    "# load normalized reverse-coded honesty ratings, i.e. normalized suspicion ratings\n",
    "\n",
    "with open('final_pilot_sameplayer_normalized_suspicion_ratings.json', 'r') as f:\n",
    "    ratings = json.load(f)"
   ]
  },
  {
   "cell_type": "code",
   "execution_count": 12,
   "metadata": {},
   "outputs": [],
   "source": [
    "uuids = ratings.keys()"
   ]
  },
  {
   "cell_type": "code",
   "execution_count": 19,
   "metadata": {},
   "outputs": [
    {
     "data": {
      "text/plain": [
       "10"
      ]
     },
     "execution_count": 19,
     "metadata": {},
     "output_type": "execute_result"
    }
   ],
   "source": [
    "len(condition)"
   ]
  },
  {
   "cell_type": "code",
   "execution_count": 15,
   "metadata": {},
   "outputs": [],
   "source": [
    "import firebase_admin\n",
    "from firebase_admin import credentials\n",
    "from firebase_admin import firestore\n",
    "\n",
    "# Use a service account\n",
    "cred = credentials.Certificate('E:/Behavioural cybersecurity/project-notes/cards-dd-game-61b9b7f26a6e.json')\n",
    "firebase_admin.initialize_app(cred)\n",
    "\n",
    "db = firestore.client()\n",
    "\n",
    "subjects_ref = db.collection(u'subjects')"
   ]
  },
  {
   "cell_type": "code",
   "execution_count": 16,
   "metadata": {},
   "outputs": [],
   "source": [
    "tmp = []\n",
    "\n",
    "for uuid in uuids:\n",
    "    tmp.append(subjects_ref.document(uuid).get())"
   ]
  },
  {
   "cell_type": "code",
   "execution_count": 17,
   "metadata": {},
   "outputs": [],
   "source": [
    "condition = {}\n",
    "\n",
    "for i, uuid in enumerate(uuids):\n",
    "#     print(i)\n",
    "    cond = tmp[i].to_dict()['condition']\n",
    "    condition[uuid] = cond"
   ]
  },
  {
   "cell_type": "code",
   "execution_count": 8,
   "metadata": {},
   "outputs": [],
   "source": [
    "# with open('same_conditions.json', 'w', encoding='utf-8') as f:\n",
    "#     json.dump(condition, f)"
   ]
  },
  {
   "cell_type": "code",
   "execution_count": 4,
   "metadata": {},
   "outputs": [],
   "source": [
    "# get saved uuid conditions\n",
    "\n",
    "with open('same_conditions.json', 'r') as f:\n",
    "    condition = json.load(f)"
   ]
  },
  {
   "cell_type": "code",
   "execution_count": 6,
   "metadata": {},
   "outputs": [],
   "source": [
    "from skopt.space import Real\n",
    "\n",
    "param_search_space = [Real(0, 1, name='prior'), Real(0, 1, name='alpha')]"
   ]
  },
  {
   "cell_type": "code",
   "execution_count": 7,
   "metadata": {},
   "outputs": [],
   "source": [
    "from scripts.analysis import skopt_fit_single_model_single_response"
   ]
  },
  {
   "cell_type": "code",
   "execution_count": 21,
   "metadata": {
    "scrolled": true
   },
   "outputs": [
    {
     "name": "stdout",
     "output_type": "stream",
     "text": [
      "54b9acd9fdf99b34ce2578f9\n",
      "Subject 0\n",
      "Best parameter estimates: prior = (0.16140162703195657, 'alpha =', 0.38962508200661056)\n",
      "R2: 0.143916405483541\n",
      "BIC: -243.0576701916828\n",
      "AIC: -248.05728953234333\n",
      "====================================================================================================\n",
      "61017dbbf8b1afba48b7822e\n",
      "Subject 1\n",
      "Best parameter estimates: prior = (0.039949127885255106, 'alpha =', 0.5885253942997588)\n",
      "R2: 0.40970934989740393\n",
      "BIC: -296.4029186981611\n",
      "AIC: -301.40253803882166\n",
      "====================================================================================================\n",
      "6116aa4d3c4d9eae26b66171\n",
      "Subject 2\n",
      "Best parameter estimates: prior = (0.18679363380945585, 'alpha =', 0.1280586074338733)\n",
      "R2: 0.08296203307845307\n",
      "BIC: -389.21642520194473\n",
      "AIC: -394.2160445426053\n",
      "====================================================================================================\n",
      "6109b8238588407db4764ec1\n",
      "Subject 3\n",
      "Best parameter estimates: prior = (0.19837467349529442, 'alpha =', 0.4919408132024047)\n",
      "R2: 0.3142281296244549\n",
      "BIC: -291.0305960226842\n",
      "AIC: -296.0302153633448\n",
      "====================================================================================================\n",
      "611841738f4e8342f5ba3765\n",
      "Subject 4\n",
      "Best parameter estimates: prior = (0.20250522910900454, 'alpha =', 0.7237693419563693)\n",
      "R2: 0.3182759482094628\n",
      "BIC: -224.13685157225837\n",
      "AIC: -229.1364709129189\n",
      "====================================================================================================\n",
      "6108649840bf2b927ef3905c\n",
      "Subject 5\n",
      "Best parameter estimates: prior = (0.27957852551210743, 'alpha =', 0.5667033032110718)\n",
      "R2: 0.21144740425843367\n",
      "BIC: -217.10515454023295\n",
      "AIC: -222.10477388089348\n",
      "====================================================================================================\n",
      "5f4f8e8f9213e9056223e128\n",
      "Subject 6\n",
      "Best parameter estimates: prior = (0.06993582254006098, 'alpha =', 0.6555365324461768)\n",
      "R2: 0.3038947948787494\n",
      "BIC: -235.44584062955556\n",
      "AIC: -240.4454599702161\n",
      "====================================================================================================\n",
      "613290e8a4520dd8d0cc061a\n",
      "Subject 7\n",
      "Best parameter estimates: prior = (0.07440068504580903, 'alpha =', 0.09690814010991979)\n",
      "R2: 0.007269454672872988\n",
      "BIC: -215.66603529372068\n",
      "AIC: -220.6656546343812\n",
      "====================================================================================================\n",
      "61217de916b53da848302312\n",
      "Subject 8\n",
      "Best parameter estimates: prior = (0.41504711241946396, 'alpha =', 0.1847346882955364)\n",
      "R2: 0.19730950898336308\n",
      "BIC: -411.0032730620097\n",
      "AIC: -416.0028924026702\n",
      "====================================================================================================\n",
      "61338d61ed3f2e3d196fa7c7\n",
      "Subject 9\n",
      "Best parameter estimates: prior = (0.013849461573964631, 'alpha =', 0.5981245236976961)\n",
      "R2: 0.2110858798381131\n",
      "BIC: -207.62348788901735\n",
      "AIC: -212.62310722967788\n",
      "====================================================================================================\n"
     ]
    }
   ],
   "source": [
    "res_sig_colour_count = []\n",
    "\n",
    "for i, uuid in enumerate(uuids):\n",
    "    print(uuid)\n",
    "    print(\"Subject\", i)\n",
    "    \n",
    "    if condition[uuid] == \"11\":\n",
    "        trials = pd.concat([bs11, as31, bs02]).reset_index()\n",
    "    elif condition[uuid] == \"12\":\n",
    "        trials = pd.concat([bs11, bs02, as31]).reset_index()\n",
    "    elif condition[uuid] == \"21\":\n",
    "        trials = pd.concat([as31, bs11, bs02]).reset_index()\n",
    "    elif condition[uuid] == \"22\":\n",
    "        trials = pd.concat([as31, bs02, bs11]).reset_index()\n",
    "    elif condition[uuid] == \"31\":\n",
    "        trials = pd.concat([bs02, bs11, as31]).reset_index()\n",
    "    elif condition[uuid] == \"32\":\n",
    "        trials = pd.concat([bs02, as31, bs11]).reset_index()\n",
    "    else:\n",
    "        print('no applicable subject condition found')\n",
    "        continue\n",
    "    \n",
    "    hrs = [ratings[uuid][key] for key in ratings[uuid].keys()]\n",
    "    result = skopt_fit_single_model_single_response(hrs, trials, param_search_space, 'normed_signed_colour_count')\n",
    "    \n",
    "    res_sig_colour_count.append(result)"
   ]
  },
  {
   "cell_type": "code",
   "execution_count": 22,
   "metadata": {},
   "outputs": [
    {
     "data": {
      "text/plain": [
       "[{'ss_total': 6.388888888677778,\n",
       "  'est_prior': 0.16140162703195657,\n",
       "  'est_alpha': 0.38962508200661056,\n",
       "  'mean_squared_error': 0.06077136627539486,\n",
       "  'BIC': -243.0576701916828,\n",
       "  'AIC': -248.05728953234333},\n",
       " {'ss_total': 5.122222222171111,\n",
       "  'est_prior': 0.039949127885255106,\n",
       "  'est_alpha': 0.5885253942997588,\n",
       "  'mean_squared_error': 0.03359555428328166,\n",
       "  'BIC': -296.4029186981611,\n",
       "  'AIC': -301.40253803882166},\n",
       " {'ss_total': 1.1756172835704937,\n",
       "  'est_prior': 0.18679363380945585,\n",
       "  'est_alpha': 0.1280586074338733,\n",
       "  'mean_squared_error': 0.011978729817814636,\n",
       "  'BIC': -389.21642520194473,\n",
       "  'AIC': -394.2160445426053},\n",
       " {'ss_total': 4.68024691322494,\n",
       "  'est_prior': 0.19837467349529442,\n",
       "  'est_alpha': 0.4919408132024047,\n",
       "  'mean_squared_error': 0.035662018661129315,\n",
       "  'BIC': -291.0305960226842,\n",
       "  'AIC': -296.0302153633448},\n",
       " {'ss_total': 9.89999999984889,\n",
       "  'est_prior': 0.20250522910900454,\n",
       "  'est_alpha': 0.7237693419563693,\n",
       "  'mean_squared_error': 0.07498964569581447,\n",
       "  'BIC': -224.13685157225837,\n",
       "  'AIC': -229.1364709129189},\n",
       " {'ss_total': 9.254320987640494,\n",
       "  'est_prior': 0.27957852551210743,\n",
       "  'est_alpha': 0.5667033032110718,\n",
       "  'mean_squared_error': 0.08108354262921742,\n",
       "  'BIC': -217.10515454023295,\n",
       "  'AIC': -222.10477388089348},\n",
       " {'ss_total': 8.550617283830864,\n",
       "  'est_prior': 0.06993582254006098,\n",
       "  'est_alpha': 0.6555365324461768,\n",
       "  'mean_squared_error': 0.06613476886971549,\n",
       "  'BIC': -235.44584062955556,\n",
       "  'AIC': -240.4454599702161},\n",
       " {'ss_total': 7.469444443925555,\n",
       "  'est_prior': 0.07440068504580903,\n",
       "  'est_alpha': 0.09690814010991979,\n",
       "  'mean_squared_error': 0.08239050729009884,\n",
       "  'BIC': -215.66603529372068,\n",
       "  'AIC': -220.6656546343812},\n",
       " {'ss_total': 1.0543209875456792,\n",
       "  'est_prior': 0.41504711241946396,\n",
       "  'est_alpha': 0.1847346882955364,\n",
       "  'mean_squared_error': 0.009403260346468741,\n",
       "  'BIC': -411.0032730620097,\n",
       "  'AIC': -416.0028924026702},\n",
       " {'ss_total': 10.27777777758889,\n",
       "  'est_prior': 0.013849461573964631,\n",
       "  'est_alpha': 0.5981245236976961,\n",
       "  'mean_squared_error': 0.09009204458473258,\n",
       "  'BIC': -207.62348788901735,\n",
       "  'AIC': -212.62310722967788}]"
      ]
     },
     "execution_count": 22,
     "metadata": {},
     "output_type": "execute_result"
    }
   ],
   "source": [
    "res_sig_colour_count"
   ]
  },
  {
   "cell_type": "code",
   "execution_count": 8,
   "metadata": {},
   "outputs": [],
   "source": [
    "def same_cond_set1_single_model_fit(uuids, stat: str):\n",
    "    results = []\n",
    "    \n",
    "    for i, uuid in enumerate(uuids):\n",
    "        print(uuid)\n",
    "        print(\"Subject\", i)\n",
    "    \n",
    "        if condition[uuid] == \"11\":\n",
    "            trials = pd.concat([bs11, as31, bs02]).reset_index()\n",
    "        elif condition[uuid] == \"12\":\n",
    "            trials = pd.concat([bs11, bs02, as31]).reset_index()\n",
    "        elif condition[uuid] == \"21\":\n",
    "            trials = pd.concat([as31, bs11, bs02]).reset_index()\n",
    "        elif condition[uuid] == \"22\":\n",
    "            trials = pd.concat([as31, bs02, bs11]).reset_index()\n",
    "        elif condition[uuid] == \"31\":\n",
    "            trials = pd.concat([bs02, bs11, as31]).reset_index()\n",
    "        elif condition[uuid] == \"32\":\n",
    "            trials = pd.concat([bs02, as31, bs11]).reset_index()\n",
    "        else:\n",
    "            print('no applicable subject condition found')\n",
    "            continue\n",
    "\n",
    "        hrs = [ratings[uuid][key] for key in ratings[uuid].keys()]\n",
    "        result = skopt_fit_single_model_single_response(hrs, trials, param_search_space, stat)\n",
    "\n",
    "    return results"
   ]
  },
  {
   "cell_type": "code",
   "execution_count": 9,
   "metadata": {},
   "outputs": [
    {
     "name": "stdout",
     "output_type": "stream",
     "text": [
      "54b9acd9fdf99b34ce2578f9\n",
      "Subject 0\n",
      "Best parameter estimates: prior = (0.16140162703195657, 'alpha =', 0.38962508200661056)\n",
      "R2: 0.143916405483541\n",
      "BIC: -243.0576701916828\n",
      "AIC: -248.05728953234333\n",
      "====================================================================================================\n",
      "61017dbbf8b1afba48b7822e\n",
      "Subject 1\n",
      "Best parameter estimates: prior = (0.039949127885255106, 'alpha =', 0.5885253942997588)\n",
      "R2: 0.40970934989740393\n",
      "BIC: -296.4029186981611\n",
      "AIC: -301.40253803882166\n",
      "====================================================================================================\n",
      "6116aa4d3c4d9eae26b66171\n",
      "Subject 2\n",
      "Best parameter estimates: prior = (0.18679363380945585, 'alpha =', 0.1280586074338733)\n",
      "R2: 0.08296203307845307\n",
      "BIC: -389.21642520194473\n",
      "AIC: -394.2160445426053\n",
      "====================================================================================================\n",
      "6109b8238588407db4764ec1\n",
      "Subject 3\n",
      "Best parameter estimates: prior = (0.19837467349529442, 'alpha =', 0.4919408132024047)\n",
      "R2: 0.3142281296244549\n",
      "BIC: -291.0305960226842\n",
      "AIC: -296.0302153633448\n",
      "====================================================================================================\n",
      "611841738f4e8342f5ba3765\n",
      "Subject 4\n",
      "Best parameter estimates: prior = (0.20250522910900454, 'alpha =', 0.7237693419563693)\n",
      "R2: 0.3182759482094628\n",
      "BIC: -224.13685157225837\n",
      "AIC: -229.1364709129189\n",
      "====================================================================================================\n",
      "6108649840bf2b927ef3905c\n",
      "Subject 5\n"
     ]
    },
    {
     "ename": "KeyError",
     "evalue": "'6108649840bf2b927ef3905c'",
     "output_type": "error",
     "traceback": [
      "\u001b[1;31m---------------------------------------------------------------------------\u001b[0m",
      "\u001b[1;31mKeyError\u001b[0m                                  Traceback (most recent call last)",
      "\u001b[1;32m<ipython-input-9-2f75235d8339>\u001b[0m in \u001b[0;36m<module>\u001b[1;34m\u001b[0m\n\u001b[1;32m----> 1\u001b[1;33m \u001b[0mres_sig_colour_count\u001b[0m \u001b[1;33m=\u001b[0m \u001b[0msame_cond_set1_single_model_fit\u001b[0m\u001b[1;33m(\u001b[0m\u001b[0muuids\u001b[0m\u001b[1;33m,\u001b[0m \u001b[1;34m'normed_signed_colour_count'\u001b[0m\u001b[1;33m)\u001b[0m\u001b[1;33m\u001b[0m\u001b[1;33m\u001b[0m\u001b[0m\n\u001b[0m",
      "\u001b[1;32m<ipython-input-8-835850e951d9>\u001b[0m in \u001b[0;36msame_cond_set1_single_model_fit\u001b[1;34m(uuids, stat)\u001b[0m\n\u001b[0;32m      6\u001b[0m         \u001b[0mprint\u001b[0m\u001b[1;33m(\u001b[0m\u001b[1;34m\"Subject\"\u001b[0m\u001b[1;33m,\u001b[0m \u001b[0mi\u001b[0m\u001b[1;33m)\u001b[0m\u001b[1;33m\u001b[0m\u001b[1;33m\u001b[0m\u001b[0m\n\u001b[0;32m      7\u001b[0m \u001b[1;33m\u001b[0m\u001b[0m\n\u001b[1;32m----> 8\u001b[1;33m         \u001b[1;32mif\u001b[0m \u001b[0mcondition\u001b[0m\u001b[1;33m[\u001b[0m\u001b[0muuid\u001b[0m\u001b[1;33m]\u001b[0m \u001b[1;33m==\u001b[0m \u001b[1;34m\"11\"\u001b[0m\u001b[1;33m:\u001b[0m\u001b[1;33m\u001b[0m\u001b[1;33m\u001b[0m\u001b[0m\n\u001b[0m\u001b[0;32m      9\u001b[0m             \u001b[0mtrials\u001b[0m \u001b[1;33m=\u001b[0m \u001b[0mpd\u001b[0m\u001b[1;33m.\u001b[0m\u001b[0mconcat\u001b[0m\u001b[1;33m(\u001b[0m\u001b[1;33m[\u001b[0m\u001b[0mbs11\u001b[0m\u001b[1;33m,\u001b[0m \u001b[0mas31\u001b[0m\u001b[1;33m,\u001b[0m \u001b[0mbs02\u001b[0m\u001b[1;33m]\u001b[0m\u001b[1;33m)\u001b[0m\u001b[1;33m.\u001b[0m\u001b[0mreset_index\u001b[0m\u001b[1;33m(\u001b[0m\u001b[1;33m)\u001b[0m\u001b[1;33m\u001b[0m\u001b[1;33m\u001b[0m\u001b[0m\n\u001b[0;32m     10\u001b[0m         \u001b[1;32melif\u001b[0m \u001b[0mcondition\u001b[0m\u001b[1;33m[\u001b[0m\u001b[0muuid\u001b[0m\u001b[1;33m]\u001b[0m \u001b[1;33m==\u001b[0m \u001b[1;34m\"12\"\u001b[0m\u001b[1;33m:\u001b[0m\u001b[1;33m\u001b[0m\u001b[1;33m\u001b[0m\u001b[0m\n",
      "\u001b[1;31mKeyError\u001b[0m: '6108649840bf2b927ef3905c'"
     ]
    }
   ],
   "source": [
    "res_sig_colour_count = same_cond_set1_single_model_fit(uuids, 'normed_signed_colour_count')"
   ]
  },
  {
   "cell_type": "code",
   "execution_count": null,
   "metadata": {},
   "outputs": [],
   "source": [
    "res_usig_colour_count = same_cond_set1_single_model_fit(uuids, 'normed_unsigned_colour_count')"
   ]
  },
  {
   "cell_type": "code",
   "execution_count": null,
   "metadata": {},
   "outputs": [],
   "source": [
    "res_cs_sig_ev = same_cond_set1_single_model_fit(uuids, 'normed_cs_signed_e_v')"
   ]
  },
  {
   "cell_type": "code",
   "execution_count": null,
   "metadata": {},
   "outputs": [],
   "source": [
    "res_cs_usig_ev = same_cond_set1_single_model_fit(uuids, 'normed_cs_unsigned_e_v')"
   ]
  },
  {
   "cell_type": "code",
   "execution_count": null,
   "metadata": {},
   "outputs": [],
   "source": [
    "res_sig_ev = same_cond_set1_single_model_fit(uuids, 'normed_signed_e_v')"
   ]
  },
  {
   "cell_type": "code",
   "execution_count": null,
   "metadata": {},
   "outputs": [],
   "source": [
    "res_usig_ev = same_cond_set1_single_model_fit(uuids, 'normed_unsigned_e_v')"
   ]
  },
  {
   "cell_type": "markdown",
   "metadata": {},
   "source": [
    "## BLOCK 1 model fits"
   ]
  },
  {
   "cell_type": "code",
   "execution_count": 35,
   "metadata": {},
   "outputs": [
    {
     "name": "stdout",
     "output_type": "stream",
     "text": [
      "54b9acd9fdf99b34ce2578f9\n",
      "Subject 0\n",
      "Best parameter estimates: prior = (0.1812126298691763, 'alpha =', 0.015944685220364498)\n",
      "R2: 9.178227226158686e-05\n",
      "BIC: -89.53726306444109\n",
      "AIC: -95.14205259108971\n",
      "====================================================================================================\n",
      "61017dbbf8b1afba48b7822e\n",
      "Subject 1\n",
      "Best parameter estimates: prior = (0.13882100577463236, 'alpha =', 0.0)\n",
      "R2: -1.45661479766801e-07\n",
      "BIC: -89.99918041056418\n",
      "AIC: -95.6039699372128\n",
      "====================================================================================================\n",
      "6116aa4d3c4d9eae26b66171\n",
      "Subject 2\n",
      "Best parameter estimates: prior = (0.1445917346323646, 'alpha =', 0.6582737705023006)\n",
      "R2: 0.14325168449306458\n",
      "BIC: -101.29526077727209\n",
      "AIC: -106.90005030392071\n",
      "====================================================================================================\n",
      "6109b8238588407db4764ec1\n",
      "Subject 3\n",
      "Best parameter estimates: prior = (0.4094631814982762, 'alpha =', 0.3527803085271091)\n",
      "R2: 0.03304292502855599\n",
      "BIC: -91.00722001022565\n",
      "AIC: -96.61200953687427\n",
      "====================================================================================================\n",
      "611841738f4e8342f5ba3765\n",
      "Subject 4\n",
      "Best parameter estimates: prior = (0.28335612958877854, 'alpha =', 1.0)\n",
      "R2: 0.06525598009124545\n",
      "BIC: -48.173462592340975\n",
      "AIC: -53.7782521189896\n",
      "====================================================================================================\n",
      "6108649840bf2b927ef3905c\n",
      "Subject 5\n",
      "Best parameter estimates: prior = (0.22777622493136535, 'alpha =', 0.0)\n",
      "R2: -4.41644498749838e-11\n",
      "BIC: -73.62753069961441\n",
      "AIC: -79.23232022626303\n",
      "====================================================================================================\n",
      "5f4f8e8f9213e9056223e128\n",
      "Subject 6\n",
      "Best parameter estimates: prior = (0.36667749163875635, 'alpha =', 0.0)\n",
      "R2: -1.9530002060008655e-09\n",
      "BIC: -70.79753191756247\n",
      "AIC: -76.40232144421108\n",
      "====================================================================================================\n",
      "613290e8a4520dd8d0cc061a\n",
      "Subject 7\n",
      "Best parameter estimates: prior = (0.12017813277035087, 'alpha =', 0.9058688897094438)\n",
      "R2: 0.07068864629437066\n",
      "BIC: -42.1038840260523\n",
      "AIC: -47.70867355270092\n",
      "====================================================================================================\n",
      "61217de916b53da848302312\n",
      "Subject 8\n",
      "Best parameter estimates: prior = (0.27831249359014093, 'alpha =', 1.0)\n",
      "R2: 0.626199393339304\n",
      "BIC: -116.4355463814892\n",
      "AIC: -122.04033590813782\n",
      "====================================================================================================\n",
      "61338d61ed3f2e3d196fa7c7\n",
      "Subject 9\n",
      "Best parameter estimates: prior = (0.32592706464133925, 'alpha =', 0.9063136911797465)\n",
      "R2: 0.08377171513353876\n",
      "BIC: -47.707135493248096\n",
      "AIC: -53.31192501989672\n",
      "====================================================================================================\n"
     ]
    }
   ],
   "source": [
    "for i, uuid in enumerate(uuids):\n",
    "    print(uuid)\n",
    "    print(\"Subject\", i)\n",
    "    \n",
    "    if condition[uuid] == \"11\":\n",
    "        trials = process_trials_from_df(pd.concat([bs11, as31, bs02]).reset_index(), 7)\n",
    "    elif condition[uuid] == \"12\":\n",
    "        trials = process_trials_from_df(pd.concat([bs11, bs02, as31]).reset_index(), 7)\n",
    "    elif condition[uuid] == \"21\":\n",
    "        trials = process_trials_from_df(pd.concat([as31, bs11, bs02]).reset_index(), 7)\n",
    "    elif condition[uuid] == \"22\":\n",
    "        trials = process_trials_from_df(pd.concat([as31, bs02, bs11]).reset_index(), 7)\n",
    "    elif condition[uuid] == \"31\":\n",
    "        trials = process_trials_from_df(pd.concat([bs02, bs11, as31]).reset_index(), 7)\n",
    "    elif condition[uuid] == \"32\":\n",
    "        trials = process_trials_from_df(pd.concat([bs02, as31, bs11]).reset_index(), 7)\n",
    "    else:\n",
    "        print('no applicable subject condition found')\n",
    "        continue\n",
    "    \n",
    "    hrs = [ratings[uuid][key] for key in ratings[uuid].keys()][:30]\n",
    "    skopt_fit_single_model_single_response(hrs, trials[:30], param_search_space, 'normed_cs_unsigned_e_v')"
   ]
  },
  {
   "cell_type": "code",
   "execution_count": 36,
   "metadata": {},
   "outputs": [
    {
     "name": "stdout",
     "output_type": "stream",
     "text": [
      "54b9acd9fdf99b34ce2578f9\n",
      "Subject 0\n",
      "Best parameter estimates: prior = (0.127650057395296, 'alpha =', 1.0)\n",
      "R2: 0.07388895211323776\n",
      "BIC: -91.83734335196895\n",
      "AIC: -97.44213287861757\n",
      "====================================================================================================\n",
      "61017dbbf8b1afba48b7822e\n",
      "Subject 1\n",
      "Best parameter estimates: prior = (0.08321285602909886, 'alpha =', 1.0)\n",
      "R2: 0.05895378327603562\n",
      "BIC: -91.82207556414798\n",
      "AIC: -97.4268650907966\n",
      "====================================================================================================\n",
      "6116aa4d3c4d9eae26b66171\n",
      "Subject 2\n",
      "Best parameter estimates: prior = (0.11357401356244558, 'alpha =', 0.763730649900824)\n",
      "R2: 0.19548894404409356\n",
      "BIC: -103.1825453461481\n",
      "AIC: -108.78733487279672\n",
      "====================================================================================================\n",
      "6109b8238588407db4764ec1\n",
      "Subject 3\n",
      "Best parameter estimates: prior = (0.38080429257825704, 'alpha =', 0.47185864871340466)\n",
      "R2: 0.05974283079055942\n",
      "BIC: -91.84724048405201\n",
      "AIC: -97.45203001070062\n",
      "====================================================================================================\n",
      "611841738f4e8342f5ba3765\n",
      "Subject 4\n",
      "Best parameter estimates: prior = (0.2675545762096124, 'alpha =', 1.0)\n",
      "R2: 0.09033174515152176\n",
      "BIC: -48.9892447435523\n",
      "AIC: -54.59403427020092\n",
      "====================================================================================================\n",
      "6108649840bf2b927ef3905c\n",
      "Subject 5\n",
      "Best parameter estimates: prior = (0.17194938755343012, 'alpha =', 1.0)\n",
      "R2: 0.02658427716010725\n",
      "BIC: -74.43585157744752\n",
      "AIC: -80.04064110409614\n",
      "====================================================================================================\n",
      "5f4f8e8f9213e9056223e128\n",
      "Subject 6\n",
      "Best parameter estimates: prior = (0.3438105123544959, 'alpha =', 0.1225607064968591)\n",
      "R2: 0.002005726332747093\n",
      "BIC: -70.85776419101742\n",
      "AIC: -76.46255371766604\n",
      "====================================================================================================\n",
      "613290e8a4520dd8d0cc061a\n",
      "Subject 7\n",
      "Best parameter estimates: prior = (0.13810033587037163, 'alpha =', 0.5562540325008462)\n",
      "R2: 0.06788395315268747\n",
      "BIC: -42.01347936358752\n",
      "AIC: -47.618268890236145\n",
      "====================================================================================================\n",
      "61217de916b53da848302312\n",
      "Subject 8\n",
      "Best parameter estimates: prior = (0.23802986801545806, 'alpha =', 0.831773533784842)\n",
      "R2: 0.6729516110069005\n",
      "BIC: -120.44397776510273\n",
      "AIC: -126.04876729175135\n",
      "====================================================================================================\n",
      "61338d61ed3f2e3d196fa7c7\n",
      "Subject 9\n",
      "Best parameter estimates: prior = (0.3302155951694353, 'alpha =', 0.60044334964423)\n",
      "R2: 0.09274603574100948\n",
      "BIC: -48.002429612064034\n",
      "AIC: -53.60721913871266\n",
      "====================================================================================================\n"
     ]
    }
   ],
   "source": [
    "for i, uuid in enumerate(uuids):\n",
    "    print(uuid)\n",
    "    print(\"Subject\", i)\n",
    "    \n",
    "    if condition[uuid] == \"11\":\n",
    "        trials = process_trials_from_df(pd.concat([bs11, as31, bs02]).reset_index(), 7)\n",
    "    elif condition[uuid] == \"12\":\n",
    "        trials = process_trials_from_df(pd.concat([bs11, bs02, as31]).reset_index(), 7)\n",
    "    elif condition[uuid] == \"21\":\n",
    "        trials = process_trials_from_df(pd.concat([as31, bs11, bs02]).reset_index(), 7)\n",
    "    elif condition[uuid] == \"22\":\n",
    "        trials = process_trials_from_df(pd.concat([as31, bs02, bs11]).reset_index(), 7)\n",
    "    elif condition[uuid] == \"31\":\n",
    "        trials = process_trials_from_df(pd.concat([bs02, bs11, as31]).reset_index(), 7)\n",
    "    elif condition[uuid] == \"32\":\n",
    "        trials = process_trials_from_df(pd.concat([bs02, as31, bs11]).reset_index(), 7)\n",
    "    else:\n",
    "        print('no applicable subject condition found')\n",
    "        continue\n",
    "        \n",
    "    hrs = [ratings[uuid][key] for key in ratings[uuid].keys()][:30]\n",
    "    skopt_fit_single_model_single_response(hrs, trials[:30], param_search_space, 'normed_cs_signed_e_v')"
   ]
  },
  {
   "cell_type": "code",
   "execution_count": 37,
   "metadata": {},
   "outputs": [
    {
     "name": "stdout",
     "output_type": "stream",
     "text": [
      "54b9acd9fdf99b34ce2578f9\n",
      "Subject 0\n",
      "Best parameter estimates: prior = (0.0042882923714396845, 'alpha =', 0.35382263304473366)\n",
      "R2: 0.17087781443872263\n",
      "BIC: -95.15614183822707\n",
      "AIC: -100.76093136487569\n",
      "====================================================================================================\n",
      "61017dbbf8b1afba48b7822e\n",
      "Subject 1\n",
      "Best parameter estimates: prior = (0.0399907292234287, 'alpha =', 0.1955493567700578)\n",
      "R2: 0.052468217554786145\n",
      "BIC: -91.61602875371808\n",
      "AIC: -97.2208182803667\n",
      "====================================================================================================\n",
      "6116aa4d3c4d9eae26b66171\n",
      "Subject 2\n",
      "Best parameter estimates: prior = (0.03235809699138479, 'alpha =', 0.41545934180267985)\n",
      "R2: 0.3673806464854804\n",
      "BIC: -110.39351949530688\n",
      "AIC: -115.99830902195549\n",
      "====================================================================================================\n",
      "6109b8238588407db4764ec1\n",
      "Subject 3\n",
      "Best parameter estimates: prior = (0.24225302292963452, 'alpha =', 0.41592369936699475)\n",
      "R2: 0.2956687771531584\n",
      "BIC: -100.51438117205107\n",
      "AIC: -106.11917069869969\n",
      "====================================================================================================\n",
      "611841738f4e8342f5ba3765\n",
      "Subject 4\n",
      "Best parameter estimates: prior = (0.013753539244711874, 'alpha =', 0.8093330862537319)\n",
      "R2: 0.258935567283881\n",
      "BIC: -55.13901682407771\n",
      "AIC: -60.74380635072633\n",
      "====================================================================================================\n",
      "6108649840bf2b927ef3905c\n",
      "Subject 5\n",
      "Best parameter estimates: prior = (0.11534601778533697, 'alpha =', 0.2246278774237142)\n",
      "R2: 0.039319022451370755\n",
      "BIC: -74.8309175322806\n",
      "AIC: -80.43570705892921\n",
      "====================================================================================================\n",
      "5f4f8e8f9213e9056223e128\n",
      "Subject 6\n",
      "Best parameter estimates: prior = (0.0, 'alpha =', 0.6645502768085902)\n",
      "R2: 0.40729460965882414\n",
      "BIC: -86.48926644647307\n",
      "AIC: -92.09405597312168\n",
      "====================================================================================================\n",
      "613290e8a4520dd8d0cc061a\n",
      "Subject 7\n",
      "Best parameter estimates: prior = (0.0, 'alpha =', 0.506029116683771)\n",
      "R2: 0.22940915976483123\n",
      "BIC: -47.722472617604446\n",
      "AIC: -53.32726214425307\n",
      "====================================================================================================\n",
      "61217de916b53da848302312\n",
      "Subject 8\n",
      "Best parameter estimates: prior = (0.4724105905831367, 'alpha =', 0.025013626719660124)\n",
      "R2: 0.0013273693150396282\n",
      "BIC: -86.95441108278987\n",
      "AIC: -92.55920060943849\n",
      "====================================================================================================\n",
      "61338d61ed3f2e3d196fa7c7\n",
      "Subject 9\n",
      "Best parameter estimates: prior = (0.0, 'alpha =', 0.824285167233414)\n",
      "R2: 0.6522820827087598\n",
      "BIC: -76.77335502321661\n",
      "AIC: -82.37814454986523\n",
      "====================================================================================================\n"
     ]
    }
   ],
   "source": [
    "for i, uuid in enumerate(uuids):\n",
    "    print(uuid)\n",
    "    print(\"Subject\", i)\n",
    "    \n",
    "    if condition[uuid] == \"11\":\n",
    "        trials = process_trials_from_df(pd.concat([bs11, as31, bs02]).reset_index(), 7)\n",
    "    elif condition[uuid] == \"12\":\n",
    "        trials = process_trials_from_df(pd.concat([bs11, bs02, as31]).reset_index(), 7)\n",
    "    elif condition[uuid] == \"21\":\n",
    "        trials = process_trials_from_df(pd.concat([as31, bs11, bs02]).reset_index(), 7)\n",
    "    elif condition[uuid] == \"22\":\n",
    "        trials = process_trials_from_df(pd.concat([as31, bs02, bs11]).reset_index(), 7)\n",
    "    elif condition[uuid] == \"31\":\n",
    "        trials = process_trials_from_df(pd.concat([bs02, bs11, as31]).reset_index(), 7)\n",
    "    elif condition[uuid] == \"32\":\n",
    "        trials = process_trials_from_df(pd.concat([bs02, as31, bs11]).reset_index(), 7)\n",
    "    else:\n",
    "        print('no applicable subject condition found')\n",
    "        continue\n",
    "    \n",
    "    hrs = [ratings[uuid][key] for key in ratings[uuid].keys()][:30]\n",
    "    skopt_fit_single_model_single_response(hrs, trials[:30], param_search_space, 'normed_unsigned_e_v')"
   ]
  },
  {
   "cell_type": "code",
   "execution_count": 38,
   "metadata": {},
   "outputs": [
    {
     "name": "stdout",
     "output_type": "stream",
     "text": [
      "54b9acd9fdf99b34ce2578f9\n",
      "Subject 0\n",
      "Best parameter estimates: prior = (0.0, 'alpha =', 0.38324033357587084)\n",
      "R2: 0.49458862461371944\n",
      "BIC: -110.00598676766042\n",
      "AIC: -115.61077629430903\n",
      "====================================================================================================\n",
      "61017dbbf8b1afba48b7822e\n",
      "Subject 1\n",
      "Best parameter estimates: prior = (0.0, 'alpha =', 0.3076943324806904)\n",
      "R2: 0.3988742964319094\n",
      "BIC: -105.26772104938966\n",
      "AIC: -110.87251057603828\n",
      "====================================================================================================\n",
      "6116aa4d3c4d9eae26b66171\n",
      "Subject 2\n",
      "Best parameter estimates: prior = (0.02305722827036698, 'alpha =', 0.369877727132403)\n",
      "R2: 0.29359451709710893\n",
      "BIC: -107.08390428516081\n",
      "AIC: -112.68869381180943\n",
      "====================================================================================================\n",
      "6109b8238588407db4764ec1\n",
      "Subject 3\n",
      "Best parameter estimates: prior = (0.16289795578168806, 'alpha =', 0.48039263820949885)\n",
      "R2: 0.3984591147181321\n",
      "BIC: -105.24700798809405\n",
      "AIC: -110.85179751474267\n",
      "====================================================================================================\n",
      "611841738f4e8342f5ba3765\n",
      "Subject 4\n",
      "Best parameter estimates: prior = (0.0, 'alpha =', 0.7793390656504631)\n",
      "R2: 0.5332542928814263\n",
      "BIC: -69.00810653183228\n",
      "AIC: -74.6128960584809\n",
      "====================================================================================================\n",
      "6108649840bf2b927ef3905c\n",
      "Subject 5\n",
      "Best parameter estimates: prior = (0.0, 'alpha =', 0.45895426310416465)\n",
      "R2: 0.3490919534996654\n",
      "BIC: -86.50913759191022\n",
      "AIC: -92.11392711855883\n",
      "====================================================================================================\n",
      "5f4f8e8f9213e9056223e128\n",
      "Subject 6\n",
      "Best parameter estimates: prior = (0.0, 'alpha =', 0.6039773334104755)\n",
      "R2: 0.6158623626502795\n",
      "BIC: -99.50016277666491\n",
      "AIC: -105.10495230331352\n",
      "====================================================================================================\n",
      "613290e8a4520dd8d0cc061a\n",
      "Subject 7\n",
      "Best parameter estimates: prior = (0.0, 'alpha =', 0.44185094724315044)\n",
      "R2: 0.17506121894313798\n",
      "BIC: -45.67792362110516\n",
      "AIC: -51.28271314775378\n",
      "====================================================================================================\n",
      "61217de916b53da848302312\n",
      "Subject 8\n",
      "Best parameter estimates: prior = (0.38289246678026917, 'alpha =', 0.13679227173166936)\n",
      "R2: 0.024631714824140172\n",
      "BIC: -87.66276807889486\n",
      "AIC: -93.26755760554347\n",
      "====================================================================================================\n",
      "61338d61ed3f2e3d196fa7c7\n",
      "Subject 9\n",
      "Best parameter estimates: prior = (0.0, 'alpha =', 0.726054001169721)\n",
      "R2: 0.5228106652234313\n",
      "BIC: -67.27770186899109\n",
      "AIC: -72.8824913956397\n",
      "====================================================================================================\n"
     ]
    }
   ],
   "source": [
    "for i, uuid in enumerate(uuids):\n",
    "    print(uuid)\n",
    "    print(\"Subject\", i)\n",
    "    \n",
    "    if condition[uuid] == \"11\":\n",
    "        trials = process_trials_from_df(pd.concat([bs11, as31, bs02]).reset_index(), 7)\n",
    "    elif condition[uuid] == \"12\":\n",
    "        trials = process_trials_from_df(pd.concat([bs11, bs02, as31]).reset_index(), 7)\n",
    "    elif condition[uuid] == \"21\":\n",
    "        trials = process_trials_from_df(pd.concat([as31, bs11, bs02]).reset_index(), 7)\n",
    "    elif condition[uuid] == \"22\":\n",
    "        trials = process_trials_from_df(pd.concat([as31, bs02, bs11]).reset_index(), 7)\n",
    "    elif condition[uuid] == \"31\":\n",
    "        trials = process_trials_from_df(pd.concat([bs02, bs11, as31]).reset_index(), 7)\n",
    "    elif condition[uuid] == \"32\":\n",
    "        trials = process_trials_from_df(pd.concat([bs02, as31, bs11]).reset_index(), 7)\n",
    "    else:\n",
    "        print('no applicable subject condition found')\n",
    "        continue\n",
    "    \n",
    "    hrs = [ratings[uuid][key] for key in ratings[uuid].keys()][:30]\n",
    "    skopt_fit_single_model_single_response(hrs, trials[:30], param_search_space, 'normed_signed_e_v')"
   ]
  },
  {
   "cell_type": "code",
   "execution_count": 39,
   "metadata": {
    "scrolled": false
   },
   "outputs": [
    {
     "name": "stdout",
     "output_type": "stream",
     "text": [
      "54b9acd9fdf99b34ce2578f9\n",
      "Subject 0\n",
      "Best parameter estimates: prior = (0.06431496358874371, 'alpha =', 0.5188964989599238)\n",
      "R2: 0.08298029555220643\n",
      "BIC: -92.13329904017885\n",
      "AIC: -97.73808856682747\n",
      "====================================================================================================\n",
      "61017dbbf8b1afba48b7822e\n",
      "Subject 1\n",
      "Best parameter estimates: prior = (0.0, 'alpha =', 0.6503587082820895)\n",
      "R2: 0.23317047498386445\n",
      "BIC: -97.96390771113882\n",
      "AIC: -103.56869723778743\n",
      "====================================================================================================\n",
      "6116aa4d3c4d9eae26b66171\n",
      "Subject 2\n",
      "Best parameter estimates: prior = (0.18682068640630795, 'alpha =', 0.31522686857206583)\n",
      "R2: 0.044364598631406515\n",
      "BIC: -98.01829278597621\n",
      "AIC: -103.62308231262483\n",
      "====================================================================================================\n",
      "6109b8238588407db4764ec1\n",
      "Subject 3\n",
      "Best parameter estimates: prior = (0.23388552970256432, 'alpha =', 1.0)\n",
      "R2: 0.3624414181483747\n",
      "BIC: -103.50245817007611\n",
      "AIC: -109.10724769672473\n",
      "====================================================================================================\n",
      "611841738f4e8342f5ba3765\n",
      "Subject 4\n",
      "Best parameter estimates: prior = (0.2226354222355434, 'alpha =', 1.0)\n",
      "R2: 0.16044992217879528\n",
      "BIC: -51.395660280558566\n",
      "AIC: -57.00044980720719\n",
      "====================================================================================================\n",
      "6108649840bf2b927ef3905c\n",
      "Subject 5\n"
     ]
    },
    {
     "name": "stderr",
     "output_type": "stream",
     "text": [
      "C:\\Users\\Sarah Zheng\\.conda\\envs\\sim-test\\lib\\site-packages\\skopt\\optimizer\\optimizer.py:449: UserWarning: The objective has been evaluated at this point before.\n",
      "  warnings.warn(\"The objective has been evaluated \"\n",
      "C:\\Users\\Sarah Zheng\\.conda\\envs\\sim-test\\lib\\site-packages\\skopt\\optimizer\\optimizer.py:449: UserWarning: The objective has been evaluated at this point before.\n",
      "  warnings.warn(\"The objective has been evaluated \"\n",
      "C:\\Users\\Sarah Zheng\\.conda\\envs\\sim-test\\lib\\site-packages\\skopt\\optimizer\\optimizer.py:449: UserWarning: The objective has been evaluated at this point before.\n",
      "  warnings.warn(\"The objective has been evaluated \"\n",
      "C:\\Users\\Sarah Zheng\\.conda\\envs\\sim-test\\lib\\site-packages\\skopt\\optimizer\\optimizer.py:449: UserWarning: The objective has been evaluated at this point before.\n",
      "  warnings.warn(\"The objective has been evaluated \"\n",
      "C:\\Users\\Sarah Zheng\\.conda\\envs\\sim-test\\lib\\site-packages\\skopt\\optimizer\\optimizer.py:449: UserWarning: The objective has been evaluated at this point before.\n",
      "  warnings.warn(\"The objective has been evaluated \"\n",
      "C:\\Users\\Sarah Zheng\\.conda\\envs\\sim-test\\lib\\site-packages\\skopt\\optimizer\\optimizer.py:449: UserWarning: The objective has been evaluated at this point before.\n",
      "  warnings.warn(\"The objective has been evaluated \"\n",
      "C:\\Users\\Sarah Zheng\\.conda\\envs\\sim-test\\lib\\site-packages\\skopt\\optimizer\\optimizer.py:449: UserWarning: The objective has been evaluated at this point before.\n",
      "  warnings.warn(\"The objective has been evaluated \"\n",
      "C:\\Users\\Sarah Zheng\\.conda\\envs\\sim-test\\lib\\site-packages\\skopt\\optimizer\\optimizer.py:449: UserWarning: The objective has been evaluated at this point before.\n",
      "  warnings.warn(\"The objective has been evaluated \"\n",
      "C:\\Users\\Sarah Zheng\\.conda\\envs\\sim-test\\lib\\site-packages\\skopt\\optimizer\\optimizer.py:449: UserWarning: The objective has been evaluated at this point before.\n",
      "  warnings.warn(\"The objective has been evaluated \"\n",
      "C:\\Users\\Sarah Zheng\\.conda\\envs\\sim-test\\lib\\site-packages\\skopt\\optimizer\\optimizer.py:449: UserWarning: The objective has been evaluated at this point before.\n",
      "  warnings.warn(\"The objective has been evaluated \"\n",
      "C:\\Users\\Sarah Zheng\\.conda\\envs\\sim-test\\lib\\site-packages\\skopt\\optimizer\\optimizer.py:449: UserWarning: The objective has been evaluated at this point before.\n",
      "  warnings.warn(\"The objective has been evaluated \"\n",
      "C:\\Users\\Sarah Zheng\\.conda\\envs\\sim-test\\lib\\site-packages\\skopt\\optimizer\\optimizer.py:449: UserWarning: The objective has been evaluated at this point before.\n",
      "  warnings.warn(\"The objective has been evaluated \"\n",
      "C:\\Users\\Sarah Zheng\\.conda\\envs\\sim-test\\lib\\site-packages\\skopt\\optimizer\\optimizer.py:449: UserWarning: The objective has been evaluated at this point before.\n",
      "  warnings.warn(\"The objective has been evaluated \"\n",
      "C:\\Users\\Sarah Zheng\\.conda\\envs\\sim-test\\lib\\site-packages\\skopt\\optimizer\\optimizer.py:449: UserWarning: The objective has been evaluated at this point before.\n",
      "  warnings.warn(\"The objective has been evaluated \"\n"
     ]
    },
    {
     "name": "stdout",
     "output_type": "stream",
     "text": [
      "Best parameter estimates: prior = (4.472314124966473e-05, 'alpha =', 0.9952622890614317)\n",
      "R2: 0.19493396222134096\n",
      "BIC: -80.13245981355641\n",
      "AIC: -85.73724934020503\n",
      "====================================================================================================\n",
      "5f4f8e8f9213e9056223e128\n",
      "Subject 6\n",
      "Best parameter estimates: prior = (0.16241859276712103, 'alpha =', 0.855071500215191)\n",
      "R2: 0.1365623986152863\n",
      "BIC: -75.2025413694888\n",
      "AIC: -80.80733089613742\n",
      "====================================================================================================\n",
      "613290e8a4520dd8d0cc061a\n",
      "Subject 7\n",
      "Best parameter estimates: prior = (0.26774151439323873, 'alpha =', 0.09783950829126266)\n",
      "R2: 0.003985281745381819\n",
      "BIC: -40.02433793997477\n",
      "AIC: -45.629127466623395\n",
      "====================================================================================================\n",
      "61217de916b53da848302312\n",
      "Subject 8\n",
      "Best parameter estimates: prior = (0.2763341905552101, 'alpha =', 0.4761554676492026)\n",
      "R2: 0.4612116330228795\n",
      "BIC: -105.46753631008225\n",
      "AIC: -111.07232583673087\n",
      "====================================================================================================\n",
      "61338d61ed3f2e3d196fa7c7\n",
      "Subject 9\n",
      "Best parameter estimates: prior = (0.18485975754356615, 'alpha =', 0.7441837994380579)\n",
      "R2: 0.28023944622784047\n",
      "BIC: -54.94754430577802\n",
      "AIC: -60.55233383242664\n",
      "====================================================================================================\n"
     ]
    }
   ],
   "source": [
    "for i, uuid in enumerate(uuids):\n",
    "    print(uuid)\n",
    "    print(\"Subject\", i)\n",
    "    \n",
    "    if condition[uuid] == \"11\":\n",
    "        trials = process_trials_from_df(pd.concat([bs11, as31, bs02]).reset_index(), 7)\n",
    "    elif condition[uuid] == \"12\":\n",
    "        trials = process_trials_from_df(pd.concat([bs11, bs02, as31]).reset_index(), 7)\n",
    "    elif condition[uuid] == \"21\":\n",
    "        trials = process_trials_from_df(pd.concat([as31, bs11, bs02]).reset_index(), 7)\n",
    "    elif condition[uuid] == \"22\":\n",
    "        trials = process_trials_from_df(pd.concat([as31, bs02, bs11]).reset_index(), 7)\n",
    "    elif condition[uuid] == \"31\":\n",
    "        trials = process_trials_from_df(pd.concat([bs02, bs11, as31]).reset_index(), 7)\n",
    "    elif condition[uuid] == \"32\":\n",
    "        trials = process_trials_from_df(pd.concat([bs02, as31, bs11]).reset_index(), 7)\n",
    "    else:\n",
    "        print('no applicable subject condition found')\n",
    "        continue\n",
    "        \n",
    "    hrs = [ratings[uuid][key] for key in ratings[uuid].keys()][:30]\n",
    "    skopt_fit_single_model_single_response(hrs, trials[:30], param_search_space, 'normed_unsigned_colour_count')"
   ]
  },
  {
   "cell_type": "code",
   "execution_count": 40,
   "metadata": {},
   "outputs": [
    {
     "name": "stdout",
     "output_type": "stream",
     "text": [
      "54b9acd9fdf99b34ce2578f9\n",
      "Subject 0\n",
      "Best parameter estimates: prior = (0.0, 'alpha =', 0.7719533851621141)\n",
      "R2: 0.6385719818353661\n",
      "BIC: -120.06528078251104\n",
      "AIC: -125.67007030915966\n",
      "====================================================================================================\n",
      "61017dbbf8b1afba48b7822e\n",
      "Subject 1\n",
      "Best parameter estimates: prior = (0.0, 'alpha =', 0.6537869844993138)\n",
      "R2: 0.6163666262866729\n",
      "BIC: -118.7412229329803\n",
      "AIC: -124.34601245962892\n",
      "====================================================================================================\n",
      "6116aa4d3c4d9eae26b66171\n",
      "Subject 2\n",
      "Best parameter estimates: prior = (0.13599745262973692, 'alpha =', 0.37806454566834025)\n",
      "R2: 0.10460821289987798\n",
      "BIC: -99.9717454123724\n",
      "AIC: -105.57653493902102\n",
      "====================================================================================================\n",
      "6109b8238588407db4764ec1\n",
      "Subject 3\n",
      "Best parameter estimates: prior = (0.23907611567440115, 'alpha =', 0.7035943158694486)\n",
      "R2: 0.28194252910582074\n",
      "BIC: -99.93535488122212\n",
      "AIC: -105.54014440787074\n",
      "====================================================================================================\n",
      "611841738f4e8342f5ba3765\n",
      "Subject 4\n",
      "Best parameter estimates: prior = (0.12984731347757975, 'alpha =', 1.0)\n",
      "R2: 0.4029171836334934\n",
      "BIC: -61.61996934193112\n",
      "AIC: -67.22475886857974\n",
      "====================================================================================================\n",
      "6108649840bf2b927ef3905c\n",
      "Subject 5\n"
     ]
    },
    {
     "name": "stderr",
     "output_type": "stream",
     "text": [
      "C:\\Users\\Sarah Zheng\\.conda\\envs\\sim-test\\lib\\site-packages\\skopt\\optimizer\\optimizer.py:449: UserWarning: The objective has been evaluated at this point before.\n",
      "  warnings.warn(\"The objective has been evaluated \"\n",
      "C:\\Users\\Sarah Zheng\\.conda\\envs\\sim-test\\lib\\site-packages\\skopt\\optimizer\\optimizer.py:449: UserWarning: The objective has been evaluated at this point before.\n",
      "  warnings.warn(\"The objective has been evaluated \"\n",
      "C:\\Users\\Sarah Zheng\\.conda\\envs\\sim-test\\lib\\site-packages\\skopt\\optimizer\\optimizer.py:449: UserWarning: The objective has been evaluated at this point before.\n",
      "  warnings.warn(\"The objective has been evaluated \"\n",
      "C:\\Users\\Sarah Zheng\\.conda\\envs\\sim-test\\lib\\site-packages\\skopt\\optimizer\\optimizer.py:449: UserWarning: The objective has been evaluated at this point before.\n",
      "  warnings.warn(\"The objective has been evaluated \"\n",
      "C:\\Users\\Sarah Zheng\\.conda\\envs\\sim-test\\lib\\site-packages\\skopt\\optimizer\\optimizer.py:449: UserWarning: The objective has been evaluated at this point before.\n",
      "  warnings.warn(\"The objective has been evaluated \"\n"
     ]
    },
    {
     "name": "stdout",
     "output_type": "stream",
     "text": [
      "Best parameter estimates: prior = (0.0, 'alpha =', 0.9704768969995469)\n",
      "R2: 0.6172379657682051\n",
      "BIC: -102.4377848042805\n",
      "AIC: -108.04257433092911\n",
      "====================================================================================================\n",
      "5f4f8e8f9213e9056223e128\n",
      "Subject 6\n",
      "Best parameter estimates: prior = (0.03543254867675581, 'alpha =', 1.0)\n",
      "R2: 0.5007957133932516\n",
      "BIC: -91.63972822648743\n",
      "AIC: -97.24451775313605\n",
      "====================================================================================================\n",
      "613290e8a4520dd8d0cc061a\n",
      "Subject 7\n",
      "Best parameter estimates: prior = (0.20982518893974925, 'alpha =', 0.1899115989736749)\n",
      "R2: 0.012209818381035631\n",
      "BIC: -40.27308973278668\n",
      "AIC: -45.8778792594353\n",
      "====================================================================================================\n",
      "61217de916b53da848302312\n",
      "Subject 8\n",
      "Best parameter estimates: prior = (0.2041254536285795, 'alpha =', 0.5332317053718638)\n",
      "R2: 0.4576025036406114\n",
      "BIC: -105.26724829798452\n",
      "AIC: -110.87203782463314\n",
      "====================================================================================================\n",
      "61338d61ed3f2e3d196fa7c7\n",
      "Subject 9\n",
      "Best parameter estimates: prior = (0.03165915076367949, 'alpha =', 0.909312527093828)\n",
      "R2: 0.3341305383926625\n",
      "BIC: -57.28229264847122\n",
      "AIC: -62.88708217511984\n",
      "====================================================================================================\n"
     ]
    }
   ],
   "source": [
    "for i, uuid in enumerate(uuids):\n",
    "    print(uuid)\n",
    "    print(\"Subject\", i)\n",
    "    \n",
    "    if condition[uuid] == \"11\":\n",
    "        trials = process_trials_from_df(pd.concat([bs11, as31, bs02]).reset_index(), 7)\n",
    "    elif condition[uuid] == \"12\":\n",
    "        trials = process_trials_from_df(pd.concat([bs11, bs02, as31]).reset_index(), 7)\n",
    "    elif condition[uuid] == \"21\":\n",
    "        trials = process_trials_from_df(pd.concat([as31, bs11, bs02]).reset_index(), 7)\n",
    "    elif condition[uuid] == \"22\":\n",
    "        trials = process_trials_from_df(pd.concat([as31, bs02, bs11]).reset_index(), 7)\n",
    "    elif condition[uuid] == \"31\":\n",
    "        trials = process_trials_from_df(pd.concat([bs02, bs11, as31]).reset_index(), 7)\n",
    "    elif condition[uuid] == \"32\":\n",
    "        trials = process_trials_from_df(pd.concat([bs02, as31, bs11]).reset_index(), 7)\n",
    "    else:\n",
    "        print('no applicable subject condition found')\n",
    "        continue\n",
    "    \n",
    "    hrs = [ratings[uuid][key] for key in ratings[uuid].keys()][:30]\n",
    "    skopt_fit_single_model_single_response(hrs, trials[:30], param_search_space, 'normed_signed_colour_count')"
   ]
  },
  {
   "cell_type": "markdown",
   "metadata": {},
   "source": [
    "## BLOCK 2 model fits"
   ]
  },
  {
   "cell_type": "code",
   "execution_count": 41,
   "metadata": {},
   "outputs": [
    {
     "name": "stdout",
     "output_type": "stream",
     "text": [
      "54b9acd9fdf99b34ce2578f9\n",
      "Subject 0\n",
      "Best parameter estimates: prior = (0.05546934141746201, 'alpha =', 0.42888970463542886)\n",
      "R2: 0.06526927046958975\n",
      "BIC: -100.84049128596328\n",
      "AIC: -106.4452808126119\n",
      "====================================================================================================\n",
      "61017dbbf8b1afba48b7822e\n",
      "Subject 1\n",
      "Best parameter estimates: prior = (0.0, 'alpha =', 0.8392700164041367)\n",
      "R2: 0.32607275159836724\n",
      "BIC: -85.34804723930863\n",
      "AIC: -90.95283676595724\n",
      "====================================================================================================\n",
      "6116aa4d3c4d9eae26b66171\n",
      "Subject 2\n",
      "Best parameter estimates: prior = (0.17803196151764344, 'alpha =', 0.0)\n",
      "R2: -3.738112912277103e-05\n",
      "BIC: -177.21094941579554\n",
      "AIC: -182.81573894244417\n",
      "====================================================================================================\n",
      "6109b8238588407db4764ec1\n",
      "Subject 3\n",
      "Best parameter estimates: prior = (0.2777759731690488, 'alpha =', 0.0)\n",
      "R2: -1.3189338510244397e-10\n",
      "BIC: -97.4342696969694\n",
      "AIC: -103.03905922361801\n",
      "====================================================================================================\n",
      "611841738f4e8342f5ba3765\n",
      "Subject 4\n",
      "Best parameter estimates: prior = (0.42224582473323474, 'alpha =', 0.0)\n",
      "R2: -7.385164924045284e-09\n",
      "BIC: -63.93088169624844\n",
      "AIC: -69.53567122289707\n",
      "====================================================================================================\n",
      "6108649840bf2b927ef3905c\n",
      "Subject 5\n",
      "Best parameter estimates: prior = (0.3616864042319828, 'alpha =', 0.4020582642866587)\n",
      "R2: 0.04979499133966314\n",
      "BIC: -98.1892538082058\n",
      "AIC: -103.79404333485442\n",
      "====================================================================================================\n",
      "5f4f8e8f9213e9056223e128\n",
      "Subject 6\n",
      "Best parameter estimates: prior = (0.21989307931333318, 'alpha =', 0.6718332944204599)\n",
      "R2: 0.06807502209284799\n",
      "BIC: -60.05711158756797\n",
      "AIC: -65.66190111421659\n",
      "====================================================================================================\n",
      "613290e8a4520dd8d0cc061a\n",
      "Subject 7\n"
     ]
    },
    {
     "name": "stderr",
     "output_type": "stream",
     "text": [
      "C:\\Users\\Sarah Zheng\\.conda\\envs\\sim-test\\lib\\site-packages\\skopt\\optimizer\\optimizer.py:449: UserWarning: The objective has been evaluated at this point before.\n",
      "  warnings.warn(\"The objective has been evaluated \"\n",
      "C:\\Users\\Sarah Zheng\\.conda\\envs\\sim-test\\lib\\site-packages\\skopt\\optimizer\\optimizer.py:449: UserWarning: The objective has been evaluated at this point before.\n",
      "  warnings.warn(\"The objective has been evaluated \"\n",
      "C:\\Users\\Sarah Zheng\\.conda\\envs\\sim-test\\lib\\site-packages\\skopt\\optimizer\\optimizer.py:449: UserWarning: The objective has been evaluated at this point before.\n",
      "  warnings.warn(\"The objective has been evaluated \"\n",
      "C:\\Users\\Sarah Zheng\\.conda\\envs\\sim-test\\lib\\site-packages\\skopt\\optimizer\\optimizer.py:449: UserWarning: The objective has been evaluated at this point before.\n",
      "  warnings.warn(\"The objective has been evaluated \"\n",
      "C:\\Users\\Sarah Zheng\\.conda\\envs\\sim-test\\lib\\site-packages\\skopt\\optimizer\\optimizer.py:449: UserWarning: The objective has been evaluated at this point before.\n",
      "  warnings.warn(\"The objective has been evaluated \"\n",
      "C:\\Users\\Sarah Zheng\\.conda\\envs\\sim-test\\lib\\site-packages\\skopt\\optimizer\\optimizer.py:449: UserWarning: The objective has been evaluated at this point before.\n",
      "  warnings.warn(\"The objective has been evaluated \"\n",
      "C:\\Users\\Sarah Zheng\\.conda\\envs\\sim-test\\lib\\site-packages\\skopt\\optimizer\\optimizer.py:449: UserWarning: The objective has been evaluated at this point before.\n",
      "  warnings.warn(\"The objective has been evaluated \"\n",
      "C:\\Users\\Sarah Zheng\\.conda\\envs\\sim-test\\lib\\site-packages\\skopt\\optimizer\\optimizer.py:449: UserWarning: The objective has been evaluated at this point before.\n",
      "  warnings.warn(\"The objective has been evaluated \"\n",
      "C:\\Users\\Sarah Zheng\\.conda\\envs\\sim-test\\lib\\site-packages\\skopt\\optimizer\\optimizer.py:449: UserWarning: The objective has been evaluated at this point before.\n",
      "  warnings.warn(\"The objective has been evaluated \"\n",
      "C:\\Users\\Sarah Zheng\\.conda\\envs\\sim-test\\lib\\site-packages\\skopt\\optimizer\\optimizer.py:449: UserWarning: The objective has been evaluated at this point before.\n",
      "  warnings.warn(\"The objective has been evaluated \"\n",
      "C:\\Users\\Sarah Zheng\\.conda\\envs\\sim-test\\lib\\site-packages\\skopt\\optimizer\\optimizer.py:449: UserWarning: The objective has been evaluated at this point before.\n",
      "  warnings.warn(\"The objective has been evaluated \"\n",
      "C:\\Users\\Sarah Zheng\\.conda\\envs\\sim-test\\lib\\site-packages\\skopt\\optimizer\\optimizer.py:449: UserWarning: The objective has been evaluated at this point before.\n",
      "  warnings.warn(\"The objective has been evaluated \"\n"
     ]
    },
    {
     "name": "stdout",
     "output_type": "stream",
     "text": [
      "Best parameter estimates: prior = (0.0, 'alpha =', 0.0)\n",
      "R2: nan\n",
      "BIC: -inf\n",
      "AIC: -inf\n",
      "====================================================================================================\n",
      "61217de916b53da848302312\n",
      "Subject 8\n"
     ]
    },
    {
     "name": "stderr",
     "output_type": "stream",
     "text": [
      "<ipython-input-10-3c60888ec86d>:10: RuntimeWarning: invalid value encountered in true_divide\n",
      "  print(\"R2:\", 1 - np.divide(optimal_ss_res, ss_tot))\n",
      "C:\\Users\\Sarah Zheng\\dev\\simpy-suspicion-model\\scripts\\analysis.py:36: RuntimeWarning: divide by zero encountered in log\n",
      "  bic = n * np.log(mse) + num_params * np.log(n)\n",
      "C:\\Users\\Sarah Zheng\\dev\\simpy-suspicion-model\\scripts\\analysis.py:31: RuntimeWarning: divide by zero encountered in log\n",
      "  aic = n * np.log(mse) + 2 * num_params\n"
     ]
    },
    {
     "name": "stdout",
     "output_type": "stream",
     "text": [
      "Best parameter estimates: prior = (0.4973149632823595, 'alpha =', 0.0047891231466381376)\n",
      "R2: -inf\n",
      "BIC: -449.32908289112487\n",
      "AIC: -454.9338724177735\n",
      "====================================================================================================\n",
      "61338d61ed3f2e3d196fa7c7\n",
      "Subject 9\n"
     ]
    },
    {
     "name": "stderr",
     "output_type": "stream",
     "text": [
      "<ipython-input-10-3c60888ec86d>:10: RuntimeWarning: divide by zero encountered in true_divide\n",
      "  print(\"R2:\", 1 - np.divide(optimal_ss_res, ss_tot))\n"
     ]
    },
    {
     "name": "stdout",
     "output_type": "stream",
     "text": [
      "Best parameter estimates: prior = (0.07245890126855943, 'alpha =', 0.0)\n",
      "R2: -2.8314348521352173e-06\n",
      "BIC: -104.0816528728676\n",
      "AIC: -109.68644239951621\n",
      "====================================================================================================\n"
     ]
    }
   ],
   "source": [
    "for i, uuid in enumerate(uuids):\n",
    "    print(uuid)\n",
    "    print(\"Subject\", i)\n",
    "    \n",
    "    if condition[uuid] == \"11\":\n",
    "        trials = process_trials_from_df(pd.concat([bs11, as31, bs02]).reset_index(), 7)\n",
    "    elif condition[uuid] == \"12\":\n",
    "        trials = process_trials_from_df(pd.concat([bs11, bs02, as31]).reset_index(), 7)\n",
    "    elif condition[uuid] == \"21\":\n",
    "        trials = process_trials_from_df(pd.concat([as31, bs11, bs02]).reset_index(), 7)\n",
    "    elif condition[uuid] == \"22\":\n",
    "        trials = process_trials_from_df(pd.concat([as31, bs02, bs11]).reset_index(), 7)\n",
    "    elif condition[uuid] == \"31\":\n",
    "        trials = process_trials_from_df(pd.concat([bs02, bs11, as31]).reset_index(), 7)\n",
    "    elif condition[uuid] == \"32\":\n",
    "        trials = process_trials_from_df(pd.concat([bs02, as31, bs11]).reset_index(), 7)\n",
    "    else:\n",
    "        print('no applicable subject condition found')\n",
    "        continue\n",
    "        \n",
    "    hrs = [ratings[uuid][key] for key in ratings[uuid].keys()][30:60]\n",
    "    skopt_fit_single_model_single_response(hrs, trials[30:60], param_search_space, 'normed_cs_unsigned_e_v')"
   ]
  },
  {
   "cell_type": "code",
   "execution_count": 42,
   "metadata": {},
   "outputs": [
    {
     "name": "stdout",
     "output_type": "stream",
     "text": [
      "54b9acd9fdf99b34ce2578f9\n",
      "Subject 0\n",
      "Best parameter estimates: prior = (0.1218782952683426, 'alpha =', 0.5088567621131577)\n",
      "R2: 0.09477110972954006\n",
      "BIC: -101.80261135167277\n",
      "AIC: -107.40740087832138\n",
      "====================================================================================================\n",
      "61017dbbf8b1afba48b7822e\n",
      "Subject 1\n",
      "Best parameter estimates: prior = (0.11773899577161494, 'alpha =', 0.749839168746524)\n",
      "R2: 0.3710023663469667\n",
      "BIC: -87.41788735172622\n",
      "AIC: -93.02267687837484\n",
      "====================================================================================================\n",
      "6116aa4d3c4d9eae26b66171\n",
      "Subject 2\n",
      "Best parameter estimates: prior = (0.000293246763783568, 'alpha =', 0.4602049905796117)\n",
      "R2: 0.11333838976586375\n",
      "BIC: -180.82082688773608\n",
      "AIC: -186.4256164143847\n",
      "====================================================================================================\n",
      "6109b8238588407db4764ec1\n",
      "Subject 3\n",
      "Best parameter estimates: prior = (0.0, 'alpha =', 0.7246598528003181)\n",
      "R2: 0.05401382896634066\n",
      "BIC: -99.10008955276905\n",
      "AIC: -104.70487907941767\n",
      "====================================================================================================\n",
      "611841738f4e8342f5ba3765\n",
      "Subject 4\n",
      "Best parameter estimates: prior = (0.03622500993005684, 'alpha =', 1.0)\n",
      "R2: 0.02230835054816016\n",
      "BIC: -64.6077102833953\n",
      "AIC: -70.21249981004392\n",
      "====================================================================================================\n",
      "6108649840bf2b927ef3905c\n",
      "Subject 5\n",
      "Best parameter estimates: prior = (0.4059368240478894, 'alpha =', 0.5532720269846173)\n",
      "R2: 0.10809772027683573\n",
      "BIC: -100.08888936433617\n",
      "AIC: -105.69367889098478\n",
      "====================================================================================================\n",
      "5f4f8e8f9213e9056223e128\n",
      "Subject 6\n",
      "Best parameter estimates: prior = (0.29198120095273794, 'alpha =', 0.4596739068382575)\n",
      "R2: 0.07448385642704469\n",
      "BIC: -60.26413380838256\n",
      "AIC: -65.86892333503118\n",
      "====================================================================================================\n",
      "613290e8a4520dd8d0cc061a\n",
      "Subject 7\n"
     ]
    },
    {
     "name": "stderr",
     "output_type": "stream",
     "text": [
      "C:\\Users\\Sarah Zheng\\.conda\\envs\\sim-test\\lib\\site-packages\\skopt\\optimizer\\optimizer.py:449: UserWarning: The objective has been evaluated at this point before.\n",
      "  warnings.warn(\"The objective has been evaluated \"\n",
      "C:\\Users\\Sarah Zheng\\.conda\\envs\\sim-test\\lib\\site-packages\\skopt\\optimizer\\optimizer.py:449: UserWarning: The objective has been evaluated at this point before.\n",
      "  warnings.warn(\"The objective has been evaluated \"\n",
      "C:\\Users\\Sarah Zheng\\.conda\\envs\\sim-test\\lib\\site-packages\\skopt\\optimizer\\optimizer.py:449: UserWarning: The objective has been evaluated at this point before.\n",
      "  warnings.warn(\"The objective has been evaluated \"\n",
      "C:\\Users\\Sarah Zheng\\.conda\\envs\\sim-test\\lib\\site-packages\\skopt\\optimizer\\optimizer.py:449: UserWarning: The objective has been evaluated at this point before.\n",
      "  warnings.warn(\"The objective has been evaluated \"\n",
      "C:\\Users\\Sarah Zheng\\.conda\\envs\\sim-test\\lib\\site-packages\\skopt\\optimizer\\optimizer.py:449: UserWarning: The objective has been evaluated at this point before.\n",
      "  warnings.warn(\"The objective has been evaluated \"\n",
      "C:\\Users\\Sarah Zheng\\.conda\\envs\\sim-test\\lib\\site-packages\\skopt\\optimizer\\optimizer.py:449: UserWarning: The objective has been evaluated at this point before.\n",
      "  warnings.warn(\"The objective has been evaluated \"\n",
      "C:\\Users\\Sarah Zheng\\.conda\\envs\\sim-test\\lib\\site-packages\\skopt\\optimizer\\optimizer.py:449: UserWarning: The objective has been evaluated at this point before.\n",
      "  warnings.warn(\"The objective has been evaluated \"\n",
      "C:\\Users\\Sarah Zheng\\.conda\\envs\\sim-test\\lib\\site-packages\\skopt\\optimizer\\optimizer.py:449: UserWarning: The objective has been evaluated at this point before.\n",
      "  warnings.warn(\"The objective has been evaluated \"\n",
      "C:\\Users\\Sarah Zheng\\.conda\\envs\\sim-test\\lib\\site-packages\\skopt\\optimizer\\optimizer.py:449: UserWarning: The objective has been evaluated at this point before.\n",
      "  warnings.warn(\"The objective has been evaluated \"\n",
      "C:\\Users\\Sarah Zheng\\.conda\\envs\\sim-test\\lib\\site-packages\\skopt\\optimizer\\optimizer.py:449: UserWarning: The objective has been evaluated at this point before.\n",
      "  warnings.warn(\"The objective has been evaluated \"\n",
      "C:\\Users\\Sarah Zheng\\.conda\\envs\\sim-test\\lib\\site-packages\\skopt\\optimizer\\optimizer.py:449: UserWarning: The objective has been evaluated at this point before.\n",
      "  warnings.warn(\"The objective has been evaluated \"\n",
      "C:\\Users\\Sarah Zheng\\.conda\\envs\\sim-test\\lib\\site-packages\\skopt\\optimizer\\optimizer.py:449: UserWarning: The objective has been evaluated at this point before.\n",
      "  warnings.warn(\"The objective has been evaluated \"\n",
      "C:\\Users\\Sarah Zheng\\.conda\\envs\\sim-test\\lib\\site-packages\\skopt\\optimizer\\optimizer.py:449: UserWarning: The objective has been evaluated at this point before.\n",
      "  warnings.warn(\"The objective has been evaluated \"\n",
      "C:\\Users\\Sarah Zheng\\.conda\\envs\\sim-test\\lib\\site-packages\\skopt\\optimizer\\optimizer.py:449: UserWarning: The objective has been evaluated at this point before.\n",
      "  warnings.warn(\"The objective has been evaluated \"\n",
      "C:\\Users\\Sarah Zheng\\.conda\\envs\\sim-test\\lib\\site-packages\\skopt\\optimizer\\optimizer.py:449: UserWarning: The objective has been evaluated at this point before.\n",
      "  warnings.warn(\"The objective has been evaluated \"\n"
     ]
    },
    {
     "name": "stdout",
     "output_type": "stream",
     "text": [
      "Best parameter estimates: prior = (0.0, 'alpha =', 0.0)\n",
      "R2: nan\n",
      "BIC: -inf\n",
      "AIC: -inf\n",
      "====================================================================================================\n",
      "61217de916b53da848302312\n",
      "Subject 8\n"
     ]
    },
    {
     "name": "stderr",
     "output_type": "stream",
     "text": [
      "<ipython-input-10-3c60888ec86d>:10: RuntimeWarning: invalid value encountered in true_divide\n",
      "  print(\"R2:\", 1 - np.divide(optimal_ss_res, ss_tot))\n",
      "C:\\Users\\Sarah Zheng\\dev\\simpy-suspicion-model\\scripts\\analysis.py:36: RuntimeWarning: divide by zero encountered in log\n",
      "  bic = n * np.log(mse) + num_params * np.log(n)\n",
      "C:\\Users\\Sarah Zheng\\dev\\simpy-suspicion-model\\scripts\\analysis.py:31: RuntimeWarning: divide by zero encountered in log\n",
      "  aic = n * np.log(mse) + 2 * num_params\n"
     ]
    },
    {
     "name": "stdout",
     "output_type": "stream",
     "text": [
      "Best parameter estimates: prior = (0.497923259555321, 'alpha =', 0.002498949991645461)\n",
      "R2: -inf\n",
      "BIC: -475.61529537739875\n",
      "AIC: -481.2200849040474\n",
      "====================================================================================================\n",
      "61338d61ed3f2e3d196fa7c7\n",
      "Subject 9\n"
     ]
    },
    {
     "name": "stderr",
     "output_type": "stream",
     "text": [
      "<ipython-input-10-3c60888ec86d>:10: RuntimeWarning: divide by zero encountered in true_divide\n",
      "  print(\"R2:\", 1 - np.divide(optimal_ss_res, ss_tot))\n"
     ]
    },
    {
     "name": "stdout",
     "output_type": "stream",
     "text": [
      "Best parameter estimates: prior = (0.0, 'alpha =', 0.11252002912333037)\n",
      "R2: 0.01576304064495959\n",
      "BIC: -104.55839577282813\n",
      "AIC: -110.16318529947675\n",
      "====================================================================================================\n"
     ]
    }
   ],
   "source": [
    "for i, uuid in enumerate(uuids):\n",
    "    print(uuid)\n",
    "    print(\"Subject\", i)\n",
    "    \n",
    "    if condition[uuid] == \"11\":\n",
    "        trials = process_trials_from_df(pd.concat([bs11, as31, bs02]).reset_index(), 7)\n",
    "    elif condition[uuid] == \"12\":\n",
    "        trials = process_trials_from_df(pd.concat([bs11, bs02, as31]).reset_index(), 7)\n",
    "    elif condition[uuid] == \"21\":\n",
    "        trials = process_trials_from_df(pd.concat([as31, bs11, bs02]).reset_index(), 7)\n",
    "    elif condition[uuid] == \"22\":\n",
    "        trials = process_trials_from_df(pd.concat([as31, bs02, bs11]).reset_index(), 7)\n",
    "    elif condition[uuid] == \"31\":\n",
    "        trials = process_trials_from_df(pd.concat([bs02, bs11, as31]).reset_index(), 7)\n",
    "    elif condition[uuid] == \"32\":\n",
    "        trials = process_trials_from_df(pd.concat([bs02, as31, bs11]).reset_index(), 7)\n",
    "    else:\n",
    "        print('no applicable subject condition found')\n",
    "        continue\n",
    "    \n",
    "    hrs = [ratings[uuid][key] for key in ratings[uuid].keys()][30:60]\n",
    "    skopt_fit_single_model_single_response(hrs, trials[30:60], param_search_space, 'normed_cs_signed_e_v')"
   ]
  },
  {
   "cell_type": "code",
   "execution_count": 43,
   "metadata": {},
   "outputs": [
    {
     "name": "stdout",
     "output_type": "stream",
     "text": [
      "54b9acd9fdf99b34ce2578f9\n",
      "Subject 0\n",
      "Best parameter estimates: prior = (0.025074273293343465, 'alpha =', 0.3978327472078457)\n",
      "R2: 0.35664044363197744\n",
      "BIC: -112.0471336182839\n",
      "AIC: -117.65192314493251\n",
      "====================================================================================================\n",
      "61017dbbf8b1afba48b7822e\n",
      "Subject 1\n",
      "Best parameter estimates: prior = (0.23230199810945923, 'alpha =', 0.2504522700285447)\n",
      "R2: 0.08942943110838897\n",
      "BIC: -76.31957013585345\n",
      "AIC: -81.92435966250207\n",
      "====================================================================================================\n",
      "6116aa4d3c4d9eae26b66171\n",
      "Subject 2\n",
      "Best parameter estimates: prior = (0.13839383124321994, 'alpha =', 0.07654835868179873)\n",
      "R2: 0.12981838416465463\n",
      "BIC: -181.38367088728432\n",
      "AIC: -186.98846041393296\n",
      "====================================================================================================\n",
      "6109b8238588407db4764ec1\n",
      "Subject 3\n",
      "Best parameter estimates: prior = (0.23084537665465663, 'alpha =', 0.09398174793469626)\n",
      "R2: 0.016767566219510144\n",
      "BIC: -97.9415616998024\n",
      "AIC: -103.54635122645102\n",
      "====================================================================================================\n",
      "611841738f4e8342f5ba3765\n",
      "Subject 4\n",
      "Best parameter estimates: prior = (0.27756135574844426, 'alpha =', 0.28654950276059815)\n",
      "R2: 0.04626375723434695\n",
      "BIC: -65.35192554325982\n",
      "AIC: -70.95671506990844\n",
      "====================================================================================================\n",
      "6108649840bf2b927ef3905c\n",
      "Subject 5\n",
      "Best parameter estimates: prior = (0.44986986066683043, 'alpha =', 0.16074999583414634)\n",
      "R2: 0.05496442995339712\n",
      "BIC: -98.35290959391362\n",
      "AIC: -103.95769912056224\n",
      "====================================================================================================\n",
      "5f4f8e8f9213e9056223e128\n",
      "Subject 6\n",
      "Best parameter estimates: prior = (0.08408727168549412, 'alpha =', 0.7359790883298123)\n",
      "R2: 0.45850872653457564\n",
      "BIC: -76.34487253188729\n",
      "AIC: -81.9496620585359\n",
      "====================================================================================================\n",
      "613290e8a4520dd8d0cc061a\n",
      "Subject 7\n"
     ]
    },
    {
     "name": "stderr",
     "output_type": "stream",
     "text": [
      "C:\\Users\\Sarah Zheng\\.conda\\envs\\sim-test\\lib\\site-packages\\skopt\\optimizer\\optimizer.py:449: UserWarning: The objective has been evaluated at this point before.\n",
      "  warnings.warn(\"The objective has been evaluated \"\n",
      "C:\\Users\\Sarah Zheng\\.conda\\envs\\sim-test\\lib\\site-packages\\skopt\\optimizer\\optimizer.py:449: UserWarning: The objective has been evaluated at this point before.\n",
      "  warnings.warn(\"The objective has been evaluated \"\n",
      "C:\\Users\\Sarah Zheng\\.conda\\envs\\sim-test\\lib\\site-packages\\skopt\\optimizer\\optimizer.py:449: UserWarning: The objective has been evaluated at this point before.\n",
      "  warnings.warn(\"The objective has been evaluated \"\n",
      "C:\\Users\\Sarah Zheng\\.conda\\envs\\sim-test\\lib\\site-packages\\skopt\\optimizer\\optimizer.py:449: UserWarning: The objective has been evaluated at this point before.\n",
      "  warnings.warn(\"The objective has been evaluated \"\n",
      "C:\\Users\\Sarah Zheng\\.conda\\envs\\sim-test\\lib\\site-packages\\skopt\\optimizer\\optimizer.py:449: UserWarning: The objective has been evaluated at this point before.\n",
      "  warnings.warn(\"The objective has been evaluated \"\n",
      "C:\\Users\\Sarah Zheng\\.conda\\envs\\sim-test\\lib\\site-packages\\skopt\\optimizer\\optimizer.py:449: UserWarning: The objective has been evaluated at this point before.\n",
      "  warnings.warn(\"The objective has been evaluated \"\n",
      "C:\\Users\\Sarah Zheng\\.conda\\envs\\sim-test\\lib\\site-packages\\skopt\\optimizer\\optimizer.py:449: UserWarning: The objective has been evaluated at this point before.\n",
      "  warnings.warn(\"The objective has been evaluated \"\n",
      "C:\\Users\\Sarah Zheng\\.conda\\envs\\sim-test\\lib\\site-packages\\skopt\\optimizer\\optimizer.py:449: UserWarning: The objective has been evaluated at this point before.\n",
      "  warnings.warn(\"The objective has been evaluated \"\n",
      "C:\\Users\\Sarah Zheng\\.conda\\envs\\sim-test\\lib\\site-packages\\skopt\\optimizer\\optimizer.py:449: UserWarning: The objective has been evaluated at this point before.\n",
      "  warnings.warn(\"The objective has been evaluated \"\n",
      "C:\\Users\\Sarah Zheng\\.conda\\envs\\sim-test\\lib\\site-packages\\skopt\\optimizer\\optimizer.py:449: UserWarning: The objective has been evaluated at this point before.\n",
      "  warnings.warn(\"The objective has been evaluated \"\n",
      "C:\\Users\\Sarah Zheng\\.conda\\envs\\sim-test\\lib\\site-packages\\skopt\\optimizer\\optimizer.py:449: UserWarning: The objective has been evaluated at this point before.\n",
      "  warnings.warn(\"The objective has been evaluated \"\n",
      "C:\\Users\\Sarah Zheng\\.conda\\envs\\sim-test\\lib\\site-packages\\skopt\\optimizer\\optimizer.py:449: UserWarning: The objective has been evaluated at this point before.\n",
      "  warnings.warn(\"The objective has been evaluated \"\n",
      "C:\\Users\\Sarah Zheng\\.conda\\envs\\sim-test\\lib\\site-packages\\skopt\\optimizer\\optimizer.py:449: UserWarning: The objective has been evaluated at this point before.\n",
      "  warnings.warn(\"The objective has been evaluated \"\n",
      "C:\\Users\\Sarah Zheng\\.conda\\envs\\sim-test\\lib\\site-packages\\skopt\\optimizer\\optimizer.py:449: UserWarning: The objective has been evaluated at this point before.\n",
      "  warnings.warn(\"The objective has been evaluated \"\n",
      "C:\\Users\\Sarah Zheng\\.conda\\envs\\sim-test\\lib\\site-packages\\skopt\\optimizer\\optimizer.py:449: UserWarning: The objective has been evaluated at this point before.\n",
      "  warnings.warn(\"The objective has been evaluated \"\n",
      "C:\\Users\\Sarah Zheng\\.conda\\envs\\sim-test\\lib\\site-packages\\skopt\\optimizer\\optimizer.py:449: UserWarning: The objective has been evaluated at this point before.\n",
      "  warnings.warn(\"The objective has been evaluated \"\n",
      "C:\\Users\\Sarah Zheng\\.conda\\envs\\sim-test\\lib\\site-packages\\skopt\\optimizer\\optimizer.py:449: UserWarning: The objective has been evaluated at this point before.\n",
      "  warnings.warn(\"The objective has been evaluated \"\n",
      "C:\\Users\\Sarah Zheng\\.conda\\envs\\sim-test\\lib\\site-packages\\skopt\\optimizer\\optimizer.py:449: UserWarning: The objective has been evaluated at this point before.\n",
      "  warnings.warn(\"The objective has been evaluated \"\n",
      "C:\\Users\\Sarah Zheng\\.conda\\envs\\sim-test\\lib\\site-packages\\skopt\\optimizer\\optimizer.py:449: UserWarning: The objective has been evaluated at this point before.\n",
      "  warnings.warn(\"The objective has been evaluated \"\n",
      "C:\\Users\\Sarah Zheng\\.conda\\envs\\sim-test\\lib\\site-packages\\skopt\\optimizer\\optimizer.py:449: UserWarning: The objective has been evaluated at this point before.\n",
      "  warnings.warn(\"The objective has been evaluated \"\n"
     ]
    },
    {
     "name": "stdout",
     "output_type": "stream",
     "text": [
      "Best parameter estimates: prior = (0.0, 'alpha =', 0.0)\n",
      "R2: nan\n",
      "BIC: -inf\n",
      "AIC: -inf\n",
      "====================================================================================================\n",
      "61217de916b53da848302312\n",
      "Subject 8\n"
     ]
    },
    {
     "name": "stderr",
     "output_type": "stream",
     "text": [
      "<ipython-input-10-3c60888ec86d>:10: RuntimeWarning: invalid value encountered in true_divide\n",
      "  print(\"R2:\", 1 - np.divide(optimal_ss_res, ss_tot))\n",
      "C:\\Users\\Sarah Zheng\\dev\\simpy-suspicion-model\\scripts\\analysis.py:36: RuntimeWarning: divide by zero encountered in log\n",
      "  bic = n * np.log(mse) + num_params * np.log(n)\n",
      "C:\\Users\\Sarah Zheng\\dev\\simpy-suspicion-model\\scripts\\analysis.py:31: RuntimeWarning: divide by zero encountered in log\n",
      "  aic = n * np.log(mse) + 2 * num_params\n"
     ]
    },
    {
     "name": "stdout",
     "output_type": "stream",
     "text": [
      "Best parameter estimates: prior = (0.4999129316788012, 'alpha =', 0.0)\n",
      "R2: -inf\n",
      "BIC: -547.3242572550419\n",
      "AIC: -552.9290467816904\n",
      "====================================================================================================\n",
      "61338d61ed3f2e3d196fa7c7\n",
      "Subject 9\n"
     ]
    },
    {
     "name": "stderr",
     "output_type": "stream",
     "text": [
      "<ipython-input-10-3c60888ec86d>:10: RuntimeWarning: divide by zero encountered in true_divide\n",
      "  print(\"R2:\", 1 - np.divide(optimal_ss_res, ss_tot))\n"
     ]
    },
    {
     "name": "stdout",
     "output_type": "stream",
     "text": [
      "Best parameter estimates: prior = (0.0, 'alpha =', 0.16773818575007485)\n",
      "R2: 0.16045127569917916\n",
      "BIC: -109.32846075023288\n",
      "AIC: -114.9332502768815\n",
      "====================================================================================================\n"
     ]
    }
   ],
   "source": [
    "for i, uuid in enumerate(uuids):\n",
    "    print(uuid)\n",
    "    print(\"Subject\", i)\n",
    "    \n",
    "    if condition[uuid] == \"11\":\n",
    "        trials = process_trials_from_df(pd.concat([bs11, as31, bs02]).reset_index(), 7)\n",
    "    elif condition[uuid] == \"12\":\n",
    "        trials = process_trials_from_df(pd.concat([bs11, bs02, as31]).reset_index(), 7)\n",
    "    elif condition[uuid] == \"21\":\n",
    "        trials = process_trials_from_df(pd.concat([as31, bs11, bs02]).reset_index(), 7)\n",
    "    elif condition[uuid] == \"22\":\n",
    "        trials = process_trials_from_df(pd.concat([as31, bs02, bs11]).reset_index(), 7)\n",
    "    elif condition[uuid] == \"31\":\n",
    "        trials = process_trials_from_df(pd.concat([bs02, bs11, as31]).reset_index(), 7)\n",
    "    elif condition[uuid] == \"32\":\n",
    "        trials = process_trials_from_df(pd.concat([bs02, as31, bs11]).reset_index(), 7)\n",
    "    else:\n",
    "        print('no applicable subject condition found')\n",
    "        continue\n",
    "        \n",
    "    hrs = [ratings[uuid][key] for key in ratings[uuid].keys()][30:60]\n",
    "    skopt_fit_single_model_single_response(hrs, trials[30:60], param_search_space, 'normed_unsigned_e_v')"
   ]
  },
  {
   "cell_type": "code",
   "execution_count": 44,
   "metadata": {},
   "outputs": [
    {
     "name": "stdout",
     "output_type": "stream",
     "text": [
      "54b9acd9fdf99b34ce2578f9\n",
      "Subject 0\n",
      "Best parameter estimates: prior = (0.0, 'alpha =', 0.3911405380218981)\n",
      "R2: 0.514655816042145\n",
      "BIC: -120.50249731926284\n",
      "AIC: -126.10728684591146\n",
      "====================================================================================================\n",
      "61017dbbf8b1afba48b7822e\n",
      "Subject 1\n",
      "Best parameter estimates: prior = (0.0, 'alpha =', 0.5179711233253276)\n",
      "R2: 0.24251313502793292\n",
      "BIC: -81.84152627232218\n",
      "AIC: -87.4463157989708\n",
      "====================================================================================================\n",
      "6116aa4d3c4d9eae26b66171\n",
      "Subject 2\n",
      "Best parameter estimates: prior = (0.1419457634260364, 'alpha =', 0.06795376681250546)\n",
      "R2: 0.1471042625424358\n",
      "BIC: -181.9856099099408\n",
      "AIC: -187.59039943658942\n",
      "====================================================================================================\n",
      "6109b8238588407db4764ec1\n",
      "Subject 3\n",
      "Best parameter estimates: prior = (0.053348562614785086, 'alpha =', 0.4253350252086449)\n",
      "R2: 0.42213964897830825\n",
      "BIC: -113.88696110283806\n",
      "AIC: -119.49175062948667\n",
      "====================================================================================================\n",
      "611841738f4e8342f5ba3765\n",
      "Subject 4\n",
      "Best parameter estimates: prior = (0.06092713123821708, 'alpha =', 0.6849792493668447)\n",
      "R2: 0.3649005529394559\n",
      "BIC: -77.55009240202166\n",
      "AIC: -83.15488192867028\n",
      "====================================================================================================\n",
      "6108649840bf2b927ef3905c\n",
      "Subject 5\n",
      "Best parameter estimates: prior = (0.32565966753592596, 'alpha =', 0.3302101415864497)\n",
      "R2: 0.23401898564977197\n",
      "BIC: -104.65486508560745\n",
      "AIC: -110.25965461225607\n",
      "====================================================================================================\n",
      "5f4f8e8f9213e9056223e128\n",
      "Subject 6\n",
      "Best parameter estimates: prior = (0.0, 'alpha =', 0.7741797746639869)\n",
      "R2: 0.5816606571352032\n",
      "BIC: -84.08589321045005\n",
      "AIC: -89.69068273709867\n",
      "====================================================================================================\n",
      "613290e8a4520dd8d0cc061a\n",
      "Subject 7\n"
     ]
    },
    {
     "name": "stderr",
     "output_type": "stream",
     "text": [
      "C:\\Users\\Sarah Zheng\\.conda\\envs\\sim-test\\lib\\site-packages\\skopt\\optimizer\\optimizer.py:449: UserWarning: The objective has been evaluated at this point before.\n",
      "  warnings.warn(\"The objective has been evaluated \"\n",
      "C:\\Users\\Sarah Zheng\\.conda\\envs\\sim-test\\lib\\site-packages\\skopt\\optimizer\\optimizer.py:449: UserWarning: The objective has been evaluated at this point before.\n",
      "  warnings.warn(\"The objective has been evaluated \"\n",
      "C:\\Users\\Sarah Zheng\\.conda\\envs\\sim-test\\lib\\site-packages\\skopt\\optimizer\\optimizer.py:449: UserWarning: The objective has been evaluated at this point before.\n",
      "  warnings.warn(\"The objective has been evaluated \"\n",
      "C:\\Users\\Sarah Zheng\\.conda\\envs\\sim-test\\lib\\site-packages\\skopt\\optimizer\\optimizer.py:449: UserWarning: The objective has been evaluated at this point before.\n",
      "  warnings.warn(\"The objective has been evaluated \"\n",
      "C:\\Users\\Sarah Zheng\\.conda\\envs\\sim-test\\lib\\site-packages\\skopt\\optimizer\\optimizer.py:449: UserWarning: The objective has been evaluated at this point before.\n",
      "  warnings.warn(\"The objective has been evaluated \"\n",
      "C:\\Users\\Sarah Zheng\\.conda\\envs\\sim-test\\lib\\site-packages\\skopt\\optimizer\\optimizer.py:449: UserWarning: The objective has been evaluated at this point before.\n",
      "  warnings.warn(\"The objective has been evaluated \"\n",
      "C:\\Users\\Sarah Zheng\\.conda\\envs\\sim-test\\lib\\site-packages\\skopt\\optimizer\\optimizer.py:449: UserWarning: The objective has been evaluated at this point before.\n",
      "  warnings.warn(\"The objective has been evaluated \"\n",
      "C:\\Users\\Sarah Zheng\\.conda\\envs\\sim-test\\lib\\site-packages\\skopt\\optimizer\\optimizer.py:449: UserWarning: The objective has been evaluated at this point before.\n",
      "  warnings.warn(\"The objective has been evaluated \"\n",
      "C:\\Users\\Sarah Zheng\\.conda\\envs\\sim-test\\lib\\site-packages\\skopt\\optimizer\\optimizer.py:449: UserWarning: The objective has been evaluated at this point before.\n",
      "  warnings.warn(\"The objective has been evaluated \"\n",
      "C:\\Users\\Sarah Zheng\\.conda\\envs\\sim-test\\lib\\site-packages\\skopt\\optimizer\\optimizer.py:449: UserWarning: The objective has been evaluated at this point before.\n",
      "  warnings.warn(\"The objective has been evaluated \"\n",
      "C:\\Users\\Sarah Zheng\\.conda\\envs\\sim-test\\lib\\site-packages\\skopt\\optimizer\\optimizer.py:449: UserWarning: The objective has been evaluated at this point before.\n",
      "  warnings.warn(\"The objective has been evaluated \"\n",
      "C:\\Users\\Sarah Zheng\\.conda\\envs\\sim-test\\lib\\site-packages\\skopt\\optimizer\\optimizer.py:449: UserWarning: The objective has been evaluated at this point before.\n",
      "  warnings.warn(\"The objective has been evaluated \"\n",
      "C:\\Users\\Sarah Zheng\\.conda\\envs\\sim-test\\lib\\site-packages\\skopt\\optimizer\\optimizer.py:449: UserWarning: The objective has been evaluated at this point before.\n",
      "  warnings.warn(\"The objective has been evaluated \"\n"
     ]
    },
    {
     "name": "stdout",
     "output_type": "stream",
     "text": [
      "Best parameter estimates: prior = (0.0, 'alpha =', 0.0)\n",
      "R2: nan\n",
      "BIC: -inf\n",
      "AIC: -inf\n",
      "====================================================================================================\n",
      "61217de916b53da848302312\n",
      "Subject 8\n"
     ]
    },
    {
     "name": "stderr",
     "output_type": "stream",
     "text": [
      "<ipython-input-10-3c60888ec86d>:10: RuntimeWarning: invalid value encountered in true_divide\n",
      "  print(\"R2:\", 1 - np.divide(optimal_ss_res, ss_tot))\n",
      "C:\\Users\\Sarah Zheng\\dev\\simpy-suspicion-model\\scripts\\analysis.py:36: RuntimeWarning: divide by zero encountered in log\n",
      "  bic = n * np.log(mse) + num_params * np.log(n)\n",
      "C:\\Users\\Sarah Zheng\\dev\\simpy-suspicion-model\\scripts\\analysis.py:31: RuntimeWarning: divide by zero encountered in log\n",
      "  aic = n * np.log(mse) + 2 * num_params\n"
     ]
    },
    {
     "name": "stdout",
     "output_type": "stream",
     "text": [
      "Best parameter estimates: prior = (0.5008055317577096, 'alpha =', 0.0)\n",
      "R2: -inf\n",
      "BIC: -413.8356862758573\n",
      "AIC: -419.44047580250594\n",
      "====================================================================================================\n",
      "61338d61ed3f2e3d196fa7c7\n",
      "Subject 9\n"
     ]
    },
    {
     "name": "stderr",
     "output_type": "stream",
     "text": [
      "<ipython-input-10-3c60888ec86d>:10: RuntimeWarning: divide by zero encountered in true_divide\n",
      "  print(\"R2:\", 1 - np.divide(optimal_ss_res, ss_tot))\n"
     ]
    },
    {
     "name": "stdout",
     "output_type": "stream",
     "text": [
      "Best parameter estimates: prior = (0.0, 'alpha =', 0.17585759444094343)\n",
      "R2: 0.2629990723873201\n",
      "BIC: -113.2367216606042\n",
      "AIC: -118.84151118725282\n",
      "====================================================================================================\n"
     ]
    }
   ],
   "source": [
    "for i, uuid in enumerate(uuids):\n",
    "    print(uuid)\n",
    "    print(\"Subject\", i)\n",
    "    \n",
    "    if condition[uuid] == \"11\":\n",
    "        trials = process_trials_from_df(pd.concat([bs11, as31, bs02]).reset_index(), 7)\n",
    "    elif condition[uuid] == \"12\":\n",
    "        trials = process_trials_from_df(pd.concat([bs11, bs02, as31]).reset_index(), 7)\n",
    "    elif condition[uuid] == \"21\":\n",
    "        trials = process_trials_from_df(pd.concat([as31, bs11, bs02]).reset_index(), 7)\n",
    "    elif condition[uuid] == \"22\":\n",
    "        trials = process_trials_from_df(pd.concat([as31, bs02, bs11]).reset_index(), 7)\n",
    "    elif condition[uuid] == \"31\":\n",
    "        trials = process_trials_from_df(pd.concat([bs02, bs11, as31]).reset_index(), 7)\n",
    "    elif condition[uuid] == \"32\":\n",
    "        trials = process_trials_from_df(pd.concat([bs02, as31, bs11]).reset_index(), 7)\n",
    "    else:\n",
    "        print('no applicable subject condition found')\n",
    "        continue\n",
    "    \n",
    "    hrs = [ratings[uuid][key] for key in ratings[uuid].keys()][30:60]\n",
    "    skopt_fit_single_model_single_response(hrs, trials[30:60], param_search_space, 'normed_signed_e_v')"
   ]
  },
  {
   "cell_type": "code",
   "execution_count": 45,
   "metadata": {},
   "outputs": [
    {
     "name": "stdout",
     "output_type": "stream",
     "text": [
      "54b9acd9fdf99b34ce2578f9\n",
      "Subject 0\n",
      "Best parameter estimates: prior = (0.001905986061828294, 'alpha =', 0.7214628218716894)\n",
      "R2: 0.39938286431631376\n",
      "BIC: -114.10951564357865\n",
      "AIC: -119.71430517022726\n",
      "====================================================================================================\n",
      "61017dbbf8b1afba48b7822e\n",
      "Subject 1\n",
      "Best parameter estimates: prior = (0.053931181321619025, 'alpha =', 0.6489783290456521)\n",
      "R2: 0.43878016534591957\n",
      "BIC: -90.83833146339359\n",
      "AIC: -96.4431209900422\n",
      "====================================================================================================\n",
      "6116aa4d3c4d9eae26b66171\n",
      "Subject 2\n",
      "Best parameter estimates: prior = (0.13401048608285934, 'alpha =', 0.1694978514542373)\n",
      "R2: 0.3562349049821797\n",
      "BIC: -190.42471218994152\n",
      "AIC: -196.02950171659015\n",
      "====================================================================================================\n",
      "6109b8238588407db4764ec1\n",
      "Subject 3\n",
      "Best parameter estimates: prior = (0.09102450142297272, 'alpha =', 0.7112110029497024)\n",
      "R2: 0.44986647264768687\n",
      "BIC: -115.36209729743568\n",
      "AIC: -120.9668868240843\n",
      "====================================================================================================\n",
      "611841738f4e8342f5ba3765\n",
      "Subject 4\n",
      "Best parameter estimates: prior = (0.16551816730144278, 'alpha =', 0.9784049734503469)\n",
      "R2: 0.27772962827434267\n",
      "BIC: -73.69155394121314\n",
      "AIC: -79.29634346786176\n",
      "====================================================================================================\n",
      "6108649840bf2b927ef3905c\n",
      "Subject 5\n",
      "Best parameter estimates: prior = (0.24692104103673868, 'alpha =', 0.8729873262981825)\n",
      "R2: 0.558834282488521\n",
      "BIC: -121.20696915938838\n",
      "AIC: -126.811758686037\n",
      "====================================================================================================\n",
      "5f4f8e8f9213e9056223e128\n",
      "Subject 6\n",
      "Best parameter estimates: prior = (0.18614891722237534, 'alpha =', 0.7344437982722624)\n",
      "R2: 0.3338809621303537\n",
      "BIC: -70.1306293534304\n",
      "AIC: -75.73541888007901\n",
      "====================================================================================================\n",
      "613290e8a4520dd8d0cc061a\n",
      "Subject 7\n"
     ]
    },
    {
     "name": "stderr",
     "output_type": "stream",
     "text": [
      "C:\\Users\\Sarah Zheng\\.conda\\envs\\sim-test\\lib\\site-packages\\skopt\\optimizer\\optimizer.py:449: UserWarning: The objective has been evaluated at this point before.\n",
      "  warnings.warn(\"The objective has been evaluated \"\n",
      "C:\\Users\\Sarah Zheng\\.conda\\envs\\sim-test\\lib\\site-packages\\skopt\\optimizer\\optimizer.py:449: UserWarning: The objective has been evaluated at this point before.\n",
      "  warnings.warn(\"The objective has been evaluated \"\n",
      "C:\\Users\\Sarah Zheng\\.conda\\envs\\sim-test\\lib\\site-packages\\skopt\\optimizer\\optimizer.py:449: UserWarning: The objective has been evaluated at this point before.\n",
      "  warnings.warn(\"The objective has been evaluated \"\n",
      "C:\\Users\\Sarah Zheng\\.conda\\envs\\sim-test\\lib\\site-packages\\skopt\\optimizer\\optimizer.py:449: UserWarning: The objective has been evaluated at this point before.\n",
      "  warnings.warn(\"The objective has been evaluated \"\n",
      "C:\\Users\\Sarah Zheng\\.conda\\envs\\sim-test\\lib\\site-packages\\skopt\\optimizer\\optimizer.py:449: UserWarning: The objective has been evaluated at this point before.\n",
      "  warnings.warn(\"The objective has been evaluated \"\n",
      "C:\\Users\\Sarah Zheng\\.conda\\envs\\sim-test\\lib\\site-packages\\skopt\\optimizer\\optimizer.py:449: UserWarning: The objective has been evaluated at this point before.\n",
      "  warnings.warn(\"The objective has been evaluated \"\n",
      "C:\\Users\\Sarah Zheng\\.conda\\envs\\sim-test\\lib\\site-packages\\skopt\\optimizer\\optimizer.py:449: UserWarning: The objective has been evaluated at this point before.\n",
      "  warnings.warn(\"The objective has been evaluated \"\n",
      "C:\\Users\\Sarah Zheng\\.conda\\envs\\sim-test\\lib\\site-packages\\skopt\\optimizer\\optimizer.py:449: UserWarning: The objective has been evaluated at this point before.\n",
      "  warnings.warn(\"The objective has been evaluated \"\n",
      "C:\\Users\\Sarah Zheng\\.conda\\envs\\sim-test\\lib\\site-packages\\skopt\\optimizer\\optimizer.py:449: UserWarning: The objective has been evaluated at this point before.\n",
      "  warnings.warn(\"The objective has been evaluated \"\n",
      "C:\\Users\\Sarah Zheng\\.conda\\envs\\sim-test\\lib\\site-packages\\skopt\\optimizer\\optimizer.py:449: UserWarning: The objective has been evaluated at this point before.\n",
      "  warnings.warn(\"The objective has been evaluated \"\n",
      "C:\\Users\\Sarah Zheng\\.conda\\envs\\sim-test\\lib\\site-packages\\skopt\\optimizer\\optimizer.py:449: UserWarning: The objective has been evaluated at this point before.\n",
      "  warnings.warn(\"The objective has been evaluated \"\n",
      "C:\\Users\\Sarah Zheng\\.conda\\envs\\sim-test\\lib\\site-packages\\skopt\\optimizer\\optimizer.py:449: UserWarning: The objective has been evaluated at this point before.\n",
      "  warnings.warn(\"The objective has been evaluated \"\n",
      "C:\\Users\\Sarah Zheng\\.conda\\envs\\sim-test\\lib\\site-packages\\skopt\\optimizer\\optimizer.py:449: UserWarning: The objective has been evaluated at this point before.\n",
      "  warnings.warn(\"The objective has been evaluated \"\n",
      "C:\\Users\\Sarah Zheng\\.conda\\envs\\sim-test\\lib\\site-packages\\skopt\\optimizer\\optimizer.py:449: UserWarning: The objective has been evaluated at this point before.\n",
      "  warnings.warn(\"The objective has been evaluated \"\n",
      "C:\\Users\\Sarah Zheng\\.conda\\envs\\sim-test\\lib\\site-packages\\skopt\\optimizer\\optimizer.py:449: UserWarning: The objective has been evaluated at this point before.\n",
      "  warnings.warn(\"The objective has been evaluated \"\n",
      "C:\\Users\\Sarah Zheng\\.conda\\envs\\sim-test\\lib\\site-packages\\skopt\\optimizer\\optimizer.py:449: UserWarning: The objective has been evaluated at this point before.\n",
      "  warnings.warn(\"The objective has been evaluated \"\n",
      "C:\\Users\\Sarah Zheng\\.conda\\envs\\sim-test\\lib\\site-packages\\skopt\\optimizer\\optimizer.py:449: UserWarning: The objective has been evaluated at this point before.\n",
      "  warnings.warn(\"The objective has been evaluated \"\n",
      "C:\\Users\\Sarah Zheng\\.conda\\envs\\sim-test\\lib\\site-packages\\skopt\\optimizer\\optimizer.py:449: UserWarning: The objective has been evaluated at this point before.\n",
      "  warnings.warn(\"The objective has been evaluated \"\n",
      "C:\\Users\\Sarah Zheng\\.conda\\envs\\sim-test\\lib\\site-packages\\skopt\\optimizer\\optimizer.py:449: UserWarning: The objective has been evaluated at this point before.\n",
      "  warnings.warn(\"The objective has been evaluated \"\n",
      "C:\\Users\\Sarah Zheng\\.conda\\envs\\sim-test\\lib\\site-packages\\skopt\\optimizer\\optimizer.py:449: UserWarning: The objective has been evaluated at this point before.\n",
      "  warnings.warn(\"The objective has been evaluated \"\n"
     ]
    },
    {
     "name": "stdout",
     "output_type": "stream",
     "text": [
      "Best parameter estimates: prior = (0.0, 'alpha =', 0.0)\n",
      "R2: nan\n",
      "BIC: -inf\n",
      "AIC: -inf\n",
      "====================================================================================================\n",
      "61217de916b53da848302312\n",
      "Subject 8\n"
     ]
    },
    {
     "name": "stderr",
     "output_type": "stream",
     "text": [
      "<ipython-input-10-3c60888ec86d>:10: RuntimeWarning: invalid value encountered in true_divide\n",
      "  print(\"R2:\", 1 - np.divide(optimal_ss_res, ss_tot))\n",
      "C:\\Users\\Sarah Zheng\\dev\\simpy-suspicion-model\\scripts\\analysis.py:36: RuntimeWarning: divide by zero encountered in log\n",
      "  bic = n * np.log(mse) + num_params * np.log(n)\n",
      "C:\\Users\\Sarah Zheng\\dev\\simpy-suspicion-model\\scripts\\analysis.py:31: RuntimeWarning: divide by zero encountered in log\n",
      "  aic = n * np.log(mse) + 2 * num_params\n"
     ]
    },
    {
     "name": "stdout",
     "output_type": "stream",
     "text": [
      "Best parameter estimates: prior = (0.5001144207330475, 'alpha =', 0.0)\n",
      "R2: -inf\n",
      "BIC: -530.9329062237676\n",
      "AIC: -536.5376957504162\n",
      "====================================================================================================\n",
      "61338d61ed3f2e3d196fa7c7\n",
      "Subject 9\n"
     ]
    },
    {
     "name": "stderr",
     "output_type": "stream",
     "text": [
      "<ipython-input-10-3c60888ec86d>:10: RuntimeWarning: divide by zero encountered in true_divide\n",
      "  print(\"R2:\", 1 - np.divide(optimal_ss_res, ss_tot))\n"
     ]
    },
    {
     "name": "stdout",
     "output_type": "stream",
     "text": [
      "Best parameter estimates: prior = (0.0, 'alpha =', 0.36638606530924606)\n",
      "R2: 0.3542944388581143\n",
      "BIC: -117.20408782004442\n",
      "AIC: -122.80887734669304\n",
      "====================================================================================================\n"
     ]
    }
   ],
   "source": [
    "for i, uuid in enumerate(uuids):\n",
    "    print(uuid)\n",
    "    print(\"Subject\", i)\n",
    "    \n",
    "    if condition[uuid] == \"11\":\n",
    "        trials = process_trials_from_df(pd.concat([bs11, as31, bs02]).reset_index(), 7)\n",
    "    elif condition[uuid] == \"12\":\n",
    "        trials = process_trials_from_df(pd.concat([bs11, bs02, as31]).reset_index(), 7)\n",
    "    elif condition[uuid] == \"21\":\n",
    "        trials = process_trials_from_df(pd.concat([as31, bs11, bs02]).reset_index(), 7)\n",
    "    elif condition[uuid] == \"22\":\n",
    "        trials = process_trials_from_df(pd.concat([as31, bs02, bs11]).reset_index(), 7)\n",
    "    elif condition[uuid] == \"31\":\n",
    "        trials = process_trials_from_df(pd.concat([bs02, bs11, as31]).reset_index(), 7)\n",
    "    elif condition[uuid] == \"32\":\n",
    "        trials = process_trials_from_df(pd.concat([bs02, as31, bs11]).reset_index(), 7)\n",
    "    else:\n",
    "        print('no applicable subject condition found')\n",
    "        continue\n",
    "        \n",
    "    hrs = [ratings[uuid][key] for key in ratings[uuid].keys()][30:60]\n",
    "    skopt_fit_single_model_single_response(hrs, trials[30:60], param_search_space, 'normed_signed_colour_count')"
   ]
  },
  {
   "cell_type": "code",
   "execution_count": 46,
   "metadata": {},
   "outputs": [
    {
     "name": "stdout",
     "output_type": "stream",
     "text": [
      "54b9acd9fdf99b34ce2578f9\n",
      "Subject 0\n",
      "Best parameter estimates: prior = (0.10647178992349017, 'alpha =', 0.5703180269039403)\n",
      "R2: 0.15033957917144203\n",
      "BIC: -103.7031432834985\n",
      "AIC: -109.30793281014712\n",
      "====================================================================================================\n",
      "61017dbbf8b1afba48b7822e\n",
      "Subject 1\n",
      "Best parameter estimates: prior = (0.16793810674744253, 'alpha =', 0.5205123587211302)\n",
      "R2: 0.3556558248371975\n",
      "BIC: -86.69472168534408\n",
      "AIC: -92.2995112119927\n",
      "====================================================================================================\n",
      "6116aa4d3c4d9eae26b66171\n",
      "Subject 2\n",
      "Best parameter estimates: prior = (0.10759726529380478, 'alpha =', 0.30467404718998753)\n",
      "R2: 0.5249801331369284\n",
      "BIC: -199.54403035412696\n",
      "AIC: -205.1488198807756\n",
      "====================================================================================================\n",
      "6109b8238588407db4764ec1\n",
      "Subject 3\n",
      "Best parameter estimates: prior = (0.06834968216541161, 'alpha =', 0.9083640598703882)\n",
      "R2: 0.33074740089771304\n",
      "BIC: -109.48208109046878\n",
      "AIC: -115.0868706171174\n",
      "====================================================================================================\n",
      "611841738f4e8342f5ba3765\n",
      "Subject 4\n",
      "Best parameter estimates: prior = (0.3126401951096675, 'alpha =', 0.4750327637022488)\n",
      "R2: 0.029705029767638225\n",
      "BIC: -64.8355367384604\n",
      "AIC: -70.44032626510902\n",
      "====================================================================================================\n",
      "6108649840bf2b927ef3905c\n",
      "Subject 5\n",
      "Best parameter estimates: prior = (0.32430340178105016, 'alpha =', 0.8803592958813587)\n",
      "R2: 0.3391852750857721\n",
      "BIC: -109.08538144257317\n",
      "AIC: -114.69017096922178\n",
      "====================================================================================================\n",
      "5f4f8e8f9213e9056223e128\n",
      "Subject 6\n",
      "Best parameter estimates: prior = (0.33133671492294003, 'alpha =', 0.5546038368721163)\n",
      "R2: 0.238633397318038\n",
      "BIC: -66.12123165828763\n",
      "AIC: -71.72602118493624\n",
      "====================================================================================================\n",
      "613290e8a4520dd8d0cc061a\n",
      "Subject 7\n"
     ]
    },
    {
     "name": "stderr",
     "output_type": "stream",
     "text": [
      "C:\\Users\\Sarah Zheng\\.conda\\envs\\sim-test\\lib\\site-packages\\skopt\\optimizer\\optimizer.py:449: UserWarning: The objective has been evaluated at this point before.\n",
      "  warnings.warn(\"The objective has been evaluated \"\n",
      "C:\\Users\\Sarah Zheng\\.conda\\envs\\sim-test\\lib\\site-packages\\skopt\\optimizer\\optimizer.py:449: UserWarning: The objective has been evaluated at this point before.\n",
      "  warnings.warn(\"The objective has been evaluated \"\n",
      "C:\\Users\\Sarah Zheng\\.conda\\envs\\sim-test\\lib\\site-packages\\skopt\\optimizer\\optimizer.py:449: UserWarning: The objective has been evaluated at this point before.\n",
      "  warnings.warn(\"The objective has been evaluated \"\n",
      "C:\\Users\\Sarah Zheng\\.conda\\envs\\sim-test\\lib\\site-packages\\skopt\\optimizer\\optimizer.py:449: UserWarning: The objective has been evaluated at this point before.\n",
      "  warnings.warn(\"The objective has been evaluated \"\n",
      "C:\\Users\\Sarah Zheng\\.conda\\envs\\sim-test\\lib\\site-packages\\skopt\\optimizer\\optimizer.py:449: UserWarning: The objective has been evaluated at this point before.\n",
      "  warnings.warn(\"The objective has been evaluated \"\n",
      "C:\\Users\\Sarah Zheng\\.conda\\envs\\sim-test\\lib\\site-packages\\skopt\\optimizer\\optimizer.py:449: UserWarning: The objective has been evaluated at this point before.\n",
      "  warnings.warn(\"The objective has been evaluated \"\n",
      "C:\\Users\\Sarah Zheng\\.conda\\envs\\sim-test\\lib\\site-packages\\skopt\\optimizer\\optimizer.py:449: UserWarning: The objective has been evaluated at this point before.\n",
      "  warnings.warn(\"The objective has been evaluated \"\n",
      "C:\\Users\\Sarah Zheng\\.conda\\envs\\sim-test\\lib\\site-packages\\skopt\\optimizer\\optimizer.py:449: UserWarning: The objective has been evaluated at this point before.\n",
      "  warnings.warn(\"The objective has been evaluated \"\n",
      "C:\\Users\\Sarah Zheng\\.conda\\envs\\sim-test\\lib\\site-packages\\skopt\\optimizer\\optimizer.py:449: UserWarning: The objective has been evaluated at this point before.\n",
      "  warnings.warn(\"The objective has been evaluated \"\n",
      "C:\\Users\\Sarah Zheng\\.conda\\envs\\sim-test\\lib\\site-packages\\skopt\\optimizer\\optimizer.py:449: UserWarning: The objective has been evaluated at this point before.\n",
      "  warnings.warn(\"The objective has been evaluated \"\n",
      "C:\\Users\\Sarah Zheng\\.conda\\envs\\sim-test\\lib\\site-packages\\skopt\\optimizer\\optimizer.py:449: UserWarning: The objective has been evaluated at this point before.\n",
      "  warnings.warn(\"The objective has been evaluated \"\n",
      "C:\\Users\\Sarah Zheng\\.conda\\envs\\sim-test\\lib\\site-packages\\skopt\\optimizer\\optimizer.py:449: UserWarning: The objective has been evaluated at this point before.\n",
      "  warnings.warn(\"The objective has been evaluated \"\n",
      "C:\\Users\\Sarah Zheng\\.conda\\envs\\sim-test\\lib\\site-packages\\skopt\\optimizer\\optimizer.py:449: UserWarning: The objective has been evaluated at this point before.\n",
      "  warnings.warn(\"The objective has been evaluated \"\n",
      "C:\\Users\\Sarah Zheng\\.conda\\envs\\sim-test\\lib\\site-packages\\skopt\\optimizer\\optimizer.py:449: UserWarning: The objective has been evaluated at this point before.\n",
      "  warnings.warn(\"The objective has been evaluated \"\n",
      "C:\\Users\\Sarah Zheng\\.conda\\envs\\sim-test\\lib\\site-packages\\skopt\\optimizer\\optimizer.py:449: UserWarning: The objective has been evaluated at this point before.\n",
      "  warnings.warn(\"The objective has been evaluated \"\n",
      "C:\\Users\\Sarah Zheng\\.conda\\envs\\sim-test\\lib\\site-packages\\skopt\\optimizer\\optimizer.py:449: UserWarning: The objective has been evaluated at this point before.\n",
      "  warnings.warn(\"The objective has been evaluated \"\n",
      "C:\\Users\\Sarah Zheng\\.conda\\envs\\sim-test\\lib\\site-packages\\skopt\\optimizer\\optimizer.py:449: UserWarning: The objective has been evaluated at this point before.\n",
      "  warnings.warn(\"The objective has been evaluated \"\n",
      "C:\\Users\\Sarah Zheng\\.conda\\envs\\sim-test\\lib\\site-packages\\skopt\\optimizer\\optimizer.py:449: UserWarning: The objective has been evaluated at this point before.\n",
      "  warnings.warn(\"The objective has been evaluated \"\n",
      "C:\\Users\\Sarah Zheng\\.conda\\envs\\sim-test\\lib\\site-packages\\skopt\\optimizer\\optimizer.py:449: UserWarning: The objective has been evaluated at this point before.\n",
      "  warnings.warn(\"The objective has been evaluated \"\n",
      "C:\\Users\\Sarah Zheng\\.conda\\envs\\sim-test\\lib\\site-packages\\skopt\\optimizer\\optimizer.py:449: UserWarning: The objective has been evaluated at this point before.\n",
      "  warnings.warn(\"The objective has been evaluated \"\n",
      "C:\\Users\\Sarah Zheng\\.conda\\envs\\sim-test\\lib\\site-packages\\skopt\\optimizer\\optimizer.py:449: UserWarning: The objective has been evaluated at this point before.\n",
      "  warnings.warn(\"The objective has been evaluated \"\n",
      "C:\\Users\\Sarah Zheng\\.conda\\envs\\sim-test\\lib\\site-packages\\skopt\\optimizer\\optimizer.py:449: UserWarning: The objective has been evaluated at this point before.\n",
      "  warnings.warn(\"The objective has been evaluated \"\n",
      "C:\\Users\\Sarah Zheng\\.conda\\envs\\sim-test\\lib\\site-packages\\skopt\\optimizer\\optimizer.py:449: UserWarning: The objective has been evaluated at this point before.\n",
      "  warnings.warn(\"The objective has been evaluated \"\n"
     ]
    },
    {
     "name": "stdout",
     "output_type": "stream",
     "text": [
      "Best parameter estimates: prior = (0.0, 'alpha =', 0.0)\n",
      "R2: nan\n",
      "BIC: -inf\n",
      "AIC: -inf\n",
      "====================================================================================================\n",
      "61217de916b53da848302312\n",
      "Subject 8\n"
     ]
    },
    {
     "name": "stderr",
     "output_type": "stream",
     "text": [
      "<ipython-input-10-3c60888ec86d>:10: RuntimeWarning: invalid value encountered in true_divide\n",
      "  print(\"R2:\", 1 - np.divide(optimal_ss_res, ss_tot))\n",
      "C:\\Users\\Sarah Zheng\\dev\\simpy-suspicion-model\\scripts\\analysis.py:36: RuntimeWarning: divide by zero encountered in log\n",
      "  bic = n * np.log(mse) + num_params * np.log(n)\n",
      "C:\\Users\\Sarah Zheng\\dev\\simpy-suspicion-model\\scripts\\analysis.py:31: RuntimeWarning: divide by zero encountered in log\n",
      "  aic = n * np.log(mse) + 2 * num_params\n"
     ]
    },
    {
     "name": "stdout",
     "output_type": "stream",
     "text": [
      "Best parameter estimates: prior = (0.49993922545777497, 'alpha =', 0.0)\n",
      "R2: -inf\n",
      "BIC: -568.8955846782251\n",
      "AIC: -574.5003742048737\n",
      "====================================================================================================\n",
      "61338d61ed3f2e3d196fa7c7\n",
      "Subject 9\n"
     ]
    },
    {
     "name": "stderr",
     "output_type": "stream",
     "text": [
      "<ipython-input-10-3c60888ec86d>:10: RuntimeWarning: divide by zero encountered in true_divide\n",
      "  print(\"R2:\", 1 - np.divide(optimal_ss_res, ss_tot))\n"
     ]
    },
    {
     "name": "stdout",
     "output_type": "stream",
     "text": [
      "Best parameter estimates: prior = (0.0, 'alpha =', 0.38591907369501005)\n",
      "R2: 0.21153471028486903\n",
      "BIC: -111.21174464182151\n",
      "AIC: -116.81653416847013\n",
      "====================================================================================================\n"
     ]
    }
   ],
   "source": [
    "for i, uuid in enumerate(uuids):\n",
    "    print(uuid)\n",
    "    print(\"Subject\", i)\n",
    "    \n",
    "    if condition[uuid] == \"11\":\n",
    "        trials = process_trials_from_df(pd.concat([bs11, as31, bs02]).reset_index(), 7)\n",
    "    elif condition[uuid] == \"12\":\n",
    "        trials = process_trials_from_df(pd.concat([bs11, bs02, as31]).reset_index(), 7)\n",
    "    elif condition[uuid] == \"21\":\n",
    "        trials = process_trials_from_df(pd.concat([as31, bs11, bs02]).reset_index(), 7)\n",
    "    elif condition[uuid] == \"22\":\n",
    "        trials = process_trials_from_df(pd.concat([as31, bs02, bs11]).reset_index(), 7)\n",
    "    elif condition[uuid] == \"31\":\n",
    "        trials = process_trials_from_df(pd.concat([bs02, bs11, as31]).reset_index(), 7)\n",
    "    elif condition[uuid] == \"32\":\n",
    "        trials = process_trials_from_df(pd.concat([bs02, as31, bs11]).reset_index(), 7)\n",
    "    else:\n",
    "        print('no applicable subject condition found')\n",
    "        continue\n",
    "    \n",
    "    hrs = [ratings[uuid][key] for key in ratings[uuid].keys()][30:60]\n",
    "    skopt_fit_single_model_single_response(hrs, trials[30:60], param_search_space, 'normed_unsigned_colour_count')"
   ]
  },
  {
   "cell_type": "markdown",
   "metadata": {},
   "source": [
    "## BLOCK 3 model fits"
   ]
  },
  {
   "cell_type": "code",
   "execution_count": 47,
   "metadata": {},
   "outputs": [
    {
     "name": "stdout",
     "output_type": "stream",
     "text": [
      "54b9acd9fdf99b34ce2578f9\n",
      "Subject 0\n",
      "Best parameter estimates: prior = (0.0, 'alpha =', 0.7386021155221529)\n",
      "R2: 0.44663298488856795\n",
      "BIC: -84.01776188276766\n",
      "AIC: -89.62255140941627\n",
      "====================================================================================================\n",
      "61017dbbf8b1afba48b7822e\n",
      "Subject 1\n",
      "Best parameter estimates: prior = (0.0, 'alpha =', 0.4279542310309199)\n",
      "R2: 0.04166327496739586\n",
      "BIC: -80.9733657683937\n",
      "AIC: -86.57815529504232\n",
      "====================================================================================================\n",
      "6116aa4d3c4d9eae26b66171\n",
      "Subject 2\n",
      "Best parameter estimates: prior = (0.09316756190234722, 'alpha =', 0.24251883996931328)\n",
      "R2: 0.1507740920640458\n",
      "BIC: -147.76100292901197\n",
      "AIC: -153.3657924556606\n",
      "====================================================================================================\n",
      "6109b8238588407db4764ec1\n",
      "Subject 3\n",
      "Best parameter estimates: prior = (0.16662777701185724, 'alpha =', 0.40707329303438045)\n",
      "R2: 0.03216351785914007\n",
      "BIC: -66.61629113105225\n",
      "AIC: -72.22108065770087\n",
      "====================================================================================================\n",
      "611841738f4e8342f5ba3765\n",
      "Subject 4\n",
      "Best parameter estimates: prior = (0.0, 'alpha =', 0.8559379407819515)\n",
      "R2: 0.24192667459346884\n",
      "BIC: -71.07248690828038\n",
      "AIC: -76.677276434929\n",
      "====================================================================================================\n",
      "6108649840bf2b927ef3905c\n",
      "Subject 5\n",
      "Best parameter estimates: prior = (0.02066894200745653, 'alpha =', 1.0)\n",
      "R2: 0.6204220030019194\n",
      "BIC: -104.3085184239254\n",
      "AIC: -109.91330795057402\n",
      "====================================================================================================\n",
      "5f4f8e8f9213e9056223e128\n",
      "Subject 6\n",
      "Best parameter estimates: prior = (0.13319378041560737, 'alpha =', 0.0)\n",
      "R2: -5.715494619806805e-07\n",
      "BIC: -87.77174757510862\n",
      "AIC: -93.37653710175724\n",
      "====================================================================================================\n",
      "613290e8a4520dd8d0cc061a\n",
      "Subject 7\n",
      "Best parameter estimates: prior = (0.0, 'alpha =', 0.050974403671247365)\n",
      "R2: 0.01491271402671901\n",
      "BIC: -99.38437158848828\n",
      "AIC: -104.9891611151369\n",
      "====================================================================================================\n",
      "61217de916b53da848302312\n",
      "Subject 8\n",
      "Best parameter estimates: prior = (0.5002893803534953, 'alpha =', 0.0)\n",
      "R2: -inf\n",
      "BIC: -475.26132845905073\n",
      "AIC: -480.86611798569936\n",
      "====================================================================================================\n",
      "61338d61ed3f2e3d196fa7c7\n",
      "Subject 9\n"
     ]
    },
    {
     "name": "stderr",
     "output_type": "stream",
     "text": [
      "<ipython-input-10-3c60888ec86d>:10: RuntimeWarning: divide by zero encountered in true_divide\n",
      "  print(\"R2:\", 1 - np.divide(optimal_ss_res, ss_tot))\n"
     ]
    },
    {
     "name": "stdout",
     "output_type": "stream",
     "text": [
      "Best parameter estimates: prior = (0.22506573134873253, 'alpha =', 0.0228845299190792)\n",
      "R2: 4.282604554017855e-05\n",
      "BIC: -61.80025183382326\n",
      "AIC: -67.40504136047188\n",
      "====================================================================================================\n"
     ]
    }
   ],
   "source": [
    "for i, uuid in enumerate(uuids):\n",
    "    print(uuid)\n",
    "    print(\"Subject\", i)\n",
    "    \n",
    "    if condition[uuid] == \"11\":\n",
    "        trials = process_trials_from_df(pd.concat([bs11, as31, bs02]).reset_index(), 7)\n",
    "    elif condition[uuid] == \"12\":\n",
    "        trials = process_trials_from_df(pd.concat([bs11, bs02, as31]).reset_index(), 7)\n",
    "    elif condition[uuid] == \"21\":\n",
    "        trials = process_trials_from_df(pd.concat([as31, bs11, bs02]).reset_index(), 7)\n",
    "    elif condition[uuid] == \"22\":\n",
    "        trials = process_trials_from_df(pd.concat([as31, bs02, bs11]).reset_index(), 7)\n",
    "    elif condition[uuid] == \"31\":\n",
    "        trials = process_trials_from_df(pd.concat([bs02, bs11, as31]).reset_index(), 7)\n",
    "    elif condition[uuid] == \"32\":\n",
    "        trials = process_trials_from_df(pd.concat([bs02, as31, bs11]).reset_index(), 7)\n",
    "    else:\n",
    "        print('no applicable subject condition found')\n",
    "        continue\n",
    "    \n",
    "    hrs = [ratings[uuid][key] for key in ratings[uuid].keys()][60:]\n",
    "    skopt_fit_single_model_single_response(hrs, trials[60:], param_search_space, 'normed_cs_unsigned_e_v')"
   ]
  },
  {
   "cell_type": "code",
   "execution_count": 48,
   "metadata": {},
   "outputs": [
    {
     "name": "stdout",
     "output_type": "stream",
     "text": [
      "54b9acd9fdf99b34ce2578f9\n",
      "Subject 0\n",
      "Best parameter estimates: prior = (0.0, 'alpha =', 0.8472421373124198)\n",
      "R2: 0.6499705403003503\n",
      "BIC: -97.75788608281272\n",
      "AIC: -103.36267560946133\n",
      "====================================================================================================\n",
      "61017dbbf8b1afba48b7822e\n",
      "Subject 1\n",
      "Best parameter estimates: prior = (0.0, 'alpha =', 0.4279423150874672)\n",
      "R2: 0.06605962252496089\n",
      "BIC: -81.74696386469687\n",
      "AIC: -87.35175339134548\n",
      "====================================================================================================\n",
      "6116aa4d3c4d9eae26b66171\n",
      "Subject 2\n",
      "Best parameter estimates: prior = (0.17921863804437163, 'alpha =', 0.15654522668718493)\n",
      "R2: 0.1529973223697647\n",
      "BIC: -147.83964439034827\n",
      "AIC: -153.4444339169969\n",
      "====================================================================================================\n",
      "6109b8238588407db4764ec1\n",
      "Subject 3\n",
      "Best parameter estimates: prior = (0.29642458017800805, 'alpha =', 0.28292806941586773)\n",
      "R2: 0.03873153830273979\n",
      "BIC: -66.82057382215798\n",
      "AIC: -72.4253633488066\n",
      "====================================================================================================\n",
      "611841738f4e8342f5ba3765\n",
      "Subject 4\n",
      "Best parameter estimates: prior = (0.12642155673781397, 'alpha =', 0.7932339351384372)\n",
      "R2: 0.27636167797585476\n",
      "BIC: -72.46713902760403\n",
      "AIC: -78.07192855425265\n",
      "====================================================================================================\n",
      "6108649840bf2b927ef3905c\n",
      "Subject 5\n",
      "Best parameter estimates: prior = (0.12742941979763867, 'alpha =', 1.0)\n",
      "R2: 0.7288719156784524\n",
      "BIC: -114.40258111320738\n",
      "AIC: -120.00737063985599\n",
      "====================================================================================================\n",
      "5f4f8e8f9213e9056223e128\n",
      "Subject 6\n",
      "Best parameter estimates: prior = (0.0, 'alpha =', 0.13990242257676105)\n",
      "R2: 0.0010856442220691376\n",
      "BIC: -87.80435174040637\n",
      "AIC: -93.40914126705499\n",
      "====================================================================================================\n",
      "613290e8a4520dd8d0cc061a\n",
      "Subject 7\n",
      "Best parameter estimates: prior = (0.0, 'alpha =', 0.05185780717117459)\n",
      "R2: 0.017910707000423187\n",
      "BIC: -99.47581214324477\n",
      "AIC: -105.08060166989338\n",
      "====================================================================================================\n",
      "61217de916b53da848302312\n",
      "Subject 8\n",
      "Best parameter estimates: prior = (0.49978885301167997, 'alpha =', 0.0)\n",
      "R2: -inf\n",
      "BIC: -494.1725728680164\n",
      "AIC: -499.77736239466503\n",
      "====================================================================================================\n",
      "61338d61ed3f2e3d196fa7c7\n",
      "Subject 9\n"
     ]
    },
    {
     "name": "stderr",
     "output_type": "stream",
     "text": [
      "<ipython-input-10-3c60888ec86d>:10: RuntimeWarning: divide by zero encountered in true_divide\n",
      "  print(\"R2:\", 1 - np.divide(optimal_ss_res, ss_tot))\n"
     ]
    },
    {
     "name": "stdout",
     "output_type": "stream",
     "text": [
      "Best parameter estimates: prior = (0.03186852295851016, 'alpha =', 0.25096681850563934)\n",
      "R2: 0.006488347429318253\n",
      "BIC: -61.99425167247865\n",
      "AIC: -67.59904119912727\n",
      "====================================================================================================\n"
     ]
    }
   ],
   "source": [
    "for i, uuid in enumerate(uuids):\n",
    "    print(uuid)\n",
    "    print(\"Subject\", i)\n",
    "    \n",
    "    if condition[uuid] == \"11\":\n",
    "        trials = process_trials_from_df(pd.concat([bs11, as31, bs02]).reset_index(), 7)\n",
    "    elif condition[uuid] == \"12\":\n",
    "        trials = process_trials_from_df(pd.concat([bs11, bs02, as31]).reset_index(), 7)\n",
    "    elif condition[uuid] == \"21\":\n",
    "        trials = process_trials_from_df(pd.concat([as31, bs11, bs02]).reset_index(), 7)\n",
    "    elif condition[uuid] == \"22\":\n",
    "        trials = process_trials_from_df(pd.concat([as31, bs02, bs11]).reset_index(), 7)\n",
    "    elif condition[uuid] == \"31\":\n",
    "        trials = process_trials_from_df(pd.concat([bs02, bs11, as31]).reset_index(), 7)\n",
    "    elif condition[uuid] == \"32\":\n",
    "        trials = process_trials_from_df(pd.concat([bs02, as31, bs11]).reset_index(), 7)\n",
    "    else:\n",
    "        print('no applicable subject condition found')\n",
    "        continue\n",
    "        \n",
    "    hrs = [ratings[uuid][key] for key in ratings[uuid].keys()][60:]\n",
    "    skopt_fit_single_model_single_response(hrs, trials[60:], param_search_space, 'normed_cs_signed_e_v')"
   ]
  },
  {
   "cell_type": "code",
   "execution_count": 56,
   "metadata": {},
   "outputs": [
    {
     "data": {
      "text/plain": [
       "{'54b9acd9fdf99b34ce2578f9': '11',\n",
       " '61017dbbf8b1afba48b7822e': '12',\n",
       " '6116aa4d3c4d9eae26b66171': '21',\n",
       " '6109b8238588407db4764ec1': '21',\n",
       " '611841738f4e8342f5ba3765': '21',\n",
       " '6108649840bf2b927ef3905c': '11',\n",
       " '5f4f8e8f9213e9056223e128': '22',\n",
       " '613290e8a4520dd8d0cc061a': '31',\n",
       " '61217de916b53da848302312': '32',\n",
       " '61338d61ed3f2e3d196fa7c7': '31'}"
      ]
     },
     "execution_count": 56,
     "metadata": {},
     "output_type": "execute_result"
    }
   ],
   "source": [
    "condition"
   ]
  },
  {
   "cell_type": "code",
   "execution_count": 49,
   "metadata": {},
   "outputs": [
    {
     "name": "stdout",
     "output_type": "stream",
     "text": [
      "54b9acd9fdf99b34ce2578f9\n",
      "Subject 0\n",
      "Best parameter estimates: prior = (0.40237783415334827, 'alpha =', 0.2530567891797011)\n",
      "R2: 0.0719721819439002\n",
      "BIC: -68.50655446745077\n",
      "AIC: -74.11134399409939\n",
      "====================================================================================================\n",
      "61017dbbf8b1afba48b7822e\n",
      "Subject 1\n",
      "Best parameter estimates: prior = (0.16943862721178166, 'alpha =', 0.34751495561518864)\n",
      "R2: 0.14633124269217446\n",
      "BIC: -84.44304448378338\n",
      "AIC: -90.047834010432\n",
      "====================================================================================================\n",
      "6116aa4d3c4d9eae26b66171\n",
      "Subject 2\n",
      "Best parameter estimates: prior = (0.265532137204923, 'alpha =', 0.03524583750094812)\n",
      "R2: 0.019277442692830937\n",
      "BIC: -143.4420719681433\n",
      "AIC: -149.04686149479193\n",
      "====================================================================================================\n",
      "6109b8238588407db4764ec1\n",
      "Subject 3\n",
      "Best parameter estimates: prior = (0.05238941021644599, 'alpha =', 0.6580444659233918)\n",
      "R2: 0.47583183419920283\n",
      "BIC: -85.01380882095711\n",
      "AIC: -90.61859834760573\n",
      "====================================================================================================\n",
      "611841738f4e8342f5ba3765\n",
      "Subject 4\n",
      "Best parameter estimates: prior = (0.3867580198914247, 'alpha =', 0.44233031253917826)\n",
      "R2: 0.19007939909092442\n",
      "BIC: -69.08780381935459\n",
      "AIC: -74.6925933460032\n",
      "====================================================================================================\n",
      "6108649840bf2b927ef3905c\n",
      "Subject 5\n",
      "Best parameter estimates: prior = (0.6752141233494094, 'alpha =', 0.2187768512513409)\n",
      "R2: 0.07171762814159632\n",
      "BIC: -77.48024247040223\n",
      "AIC: -83.08503199705085\n",
      "====================================================================================================\n",
      "5f4f8e8f9213e9056223e128\n",
      "Subject 6\n",
      "Best parameter estimates: prior = (0.021449970012521056, 'alpha =', 0.22177250054565892)\n",
      "R2: 0.06371942122127816\n",
      "BIC: -89.7469672347539\n",
      "AIC: -95.35175676140251\n",
      "====================================================================================================\n",
      "613290e8a4520dd8d0cc061a\n",
      "Subject 7\n",
      "Best parameter estimates: prior = (0.0, 'alpha =', 0.07078883689788983)\n",
      "R2: 0.012065361865992719\n",
      "BIC: -99.297782967167\n",
      "AIC: -104.90257249381561\n",
      "====================================================================================================\n",
      "61217de916b53da848302312\n",
      "Subject 8\n",
      "Best parameter estimates: prior = (0.4998832997198255, 'alpha =', 0.0)\n",
      "R2: -inf\n",
      "BIC: -529.7493075452338\n",
      "AIC: -535.3540970718824\n",
      "====================================================================================================\n",
      "61338d61ed3f2e3d196fa7c7\n",
      "Subject 9\n"
     ]
    },
    {
     "name": "stderr",
     "output_type": "stream",
     "text": [
      "<ipython-input-10-3c60888ec86d>:10: RuntimeWarning: divide by zero encountered in true_divide\n",
      "  print(\"R2:\", 1 - np.divide(optimal_ss_res, ss_tot))\n"
     ]
    },
    {
     "name": "stdout",
     "output_type": "stream",
     "text": [
      "Best parameter estimates: prior = (0.0, 'alpha =', 0.541338871351743)\n",
      "R2: 0.5619326836689016\n",
      "BIC: -86.56044772978059\n",
      "AIC: -92.16523725642921\n",
      "====================================================================================================\n"
     ]
    }
   ],
   "source": [
    "for i, uuid in enumerate(uuids):\n",
    "    print(uuid)\n",
    "    print(\"Subject\", i)\n",
    "    \n",
    "    if condition[uuid] == \"11\":\n",
    "        trials = process_trials_from_df(pd.concat([bs11, as31, bs02]).reset_index(), 7)\n",
    "    elif condition[uuid] == \"12\":\n",
    "        trials = process_trials_from_df(pd.concat([bs11, bs02, as31]).reset_index(), 7)\n",
    "    elif condition[uuid] == \"21\":\n",
    "        trials = process_trials_from_df(pd.concat([as31, bs11, bs02]).reset_index(), 7)\n",
    "    elif condition[uuid] == \"22\":\n",
    "        trials = process_trials_from_df(pd.concat([as31, bs02, bs11]).reset_index(), 7)\n",
    "    elif condition[uuid] == \"31\":\n",
    "        trials = process_trials_from_df(pd.concat([bs02, bs11, as31]).reset_index(), 7)\n",
    "    elif condition[uuid] == \"32\":\n",
    "        trials = process_trials_from_df(pd.concat([bs02, as31, bs11]).reset_index(), 7)\n",
    "    else:\n",
    "        print('no applicable subject condition found')\n",
    "        continue\n",
    "    \n",
    "    hrs = [ratings[uuid][key] for key in ratings[uuid].keys()][60:]\n",
    "    skopt_fit_single_model_single_response(hrs, trials[60:], param_search_space, 'normed_unsigned_e_v')"
   ]
  },
  {
   "cell_type": "code",
   "execution_count": 50,
   "metadata": {},
   "outputs": [
    {
     "name": "stdout",
     "output_type": "stream",
     "text": [
      "54b9acd9fdf99b34ce2578f9\n",
      "Subject 0\n",
      "Best parameter estimates: prior = (0.3047416812285669, 'alpha =', 0.3454450380503202)\n",
      "R2: 0.07780251771703162\n",
      "BIC: -68.69562403871062\n",
      "AIC: -74.30041356535924\n",
      "====================================================================================================\n",
      "61017dbbf8b1afba48b7822e\n",
      "Subject 1\n",
      "Best parameter estimates: prior = (0.0, 'alpha =', 0.561877188357432)\n",
      "R2: 0.3989456433395313\n",
      "BIC: -94.96878065583836\n",
      "AIC: -100.57357018248697\n",
      "====================================================================================================\n",
      "6116aa4d3c4d9eae26b66171\n",
      "Subject 2\n",
      "Best parameter estimates: prior = (0.22460102333582688, 'alpha =', 0.08333307281204709)\n",
      "R2: 0.06061959789946103\n",
      "BIC: -144.73414473218955\n",
      "AIC: -150.33893425883818\n",
      "====================================================================================================\n",
      "6109b8238588407db4764ec1\n",
      "Subject 3\n",
      "Best parameter estimates: prior = (0.0, 'alpha =', 0.6573536301332937)\n",
      "R2: 0.48974242188983574\n",
      "BIC: -85.82071601886057\n",
      "AIC: -91.42550554550918\n",
      "====================================================================================================\n",
      "611841738f4e8342f5ba3765\n",
      "Subject 4\n",
      "Best parameter estimates: prior = (0.040234005267121356, 'alpha =', 0.8290147843301136)\n",
      "R2: 0.40130484471074224\n",
      "BIC: -78.15331402270256\n",
      "AIC: -83.75810354935118\n",
      "====================================================================================================\n",
      "6108649840bf2b927ef3905c\n",
      "Subject 5\n",
      "Best parameter estimates: prior = (0.5326011421001066, 'alpha =', 0.3729034558580362)\n",
      "R2: 0.12089677758089379\n",
      "BIC: -79.1132517928937\n",
      "AIC: -84.71804131954232\n",
      "====================================================================================================\n",
      "5f4f8e8f9213e9056223e128\n",
      "Subject 6\n",
      "Best parameter estimates: prior = (0.0, 'alpha =', 0.29812698376558866)\n",
      "R2: 0.3571017729115612\n",
      "BIC: -101.02483008709402\n",
      "AIC: -106.62961961374263\n",
      "====================================================================================================\n",
      "613290e8a4520dd8d0cc061a\n",
      "Subject 7\n",
      "Best parameter estimates: prior = (0.0, 'alpha =', 0.06584403973305292)\n",
      "R2: 0.02278512863108506\n",
      "BIC: -99.62508243345653\n",
      "AIC: -105.22987196010514\n",
      "====================================================================================================\n",
      "61217de916b53da848302312\n",
      "Subject 8\n",
      "Best parameter estimates: prior = (0.499620164457258, 'alpha =', 4.73572705380586e-05)\n",
      "R2: -inf\n",
      "BIC: -462.9943468964267\n",
      "AIC: -468.5991364230753\n",
      "====================================================================================================\n",
      "61338d61ed3f2e3d196fa7c7\n",
      "Subject 9\n"
     ]
    },
    {
     "name": "stderr",
     "output_type": "stream",
     "text": [
      "<ipython-input-10-3c60888ec86d>:10: RuntimeWarning: divide by zero encountered in true_divide\n",
      "  print(\"R2:\", 1 - np.divide(optimal_ss_res, ss_tot))\n"
     ]
    },
    {
     "name": "stdout",
     "output_type": "stream",
     "text": [
      "Best parameter estimates: prior = (0.0, 'alpha =', 0.4561352466039952)\n",
      "R2: 0.46951782421498434\n",
      "BIC: -80.818034636639\n",
      "AIC: -86.42282416328761\n",
      "====================================================================================================\n"
     ]
    }
   ],
   "source": [
    "for i, uuid in enumerate(uuids):\n",
    "    print(uuid)\n",
    "    print(\"Subject\", i)\n",
    "    \n",
    "    if condition[uuid] == \"11\":\n",
    "        trials = process_trials_from_df(pd.concat([bs11, as31, bs02]).reset_index(), 7)\n",
    "    elif condition[uuid] == \"12\":\n",
    "        trials = process_trials_from_df(pd.concat([bs11, bs02, as31]).reset_index(), 7)\n",
    "    elif condition[uuid] == \"21\":\n",
    "        trials = process_trials_from_df(pd.concat([as31, bs11, bs02]).reset_index(), 7)\n",
    "    elif condition[uuid] == \"22\":\n",
    "        trials = process_trials_from_df(pd.concat([as31, bs02, bs11]).reset_index(), 7)\n",
    "    elif condition[uuid] == \"31\":\n",
    "        trials = process_trials_from_df(pd.concat([bs02, bs11, as31]).reset_index(), 7)\n",
    "    elif condition[uuid] == \"32\":\n",
    "        trials = process_trials_from_df(pd.concat([bs02, as31, bs11]).reset_index(), 7)\n",
    "    else:\n",
    "        print('no applicable subject condition found')\n",
    "        continue\n",
    "        \n",
    "    hrs = [ratings[uuid][key] for key in ratings[uuid].keys()][60:]\n",
    "    skopt_fit_single_model_single_response(hrs, trials[60:], param_search_space, 'normed_signed_e_v')"
   ]
  },
  {
   "cell_type": "code",
   "execution_count": 51,
   "metadata": {},
   "outputs": [
    {
     "name": "stdout",
     "output_type": "stream",
     "text": [
      "54b9acd9fdf99b34ce2578f9\n",
      "Subject 0\n",
      "Best parameter estimates: prior = (0.43701249622000804, 'alpha =', 0.30284466864881265)\n",
      "R2: 0.09363792824374073\n",
      "BIC: -69.21523981088995\n",
      "AIC: -74.82002933753857\n",
      "====================================================================================================\n",
      "61017dbbf8b1afba48b7822e\n",
      "Subject 1\n",
      "Best parameter estimates: prior = (0.22487847780011708, 'alpha =', 0.5528502582881866)\n",
      "R2: 0.0794430571161504\n",
      "BIC: -82.17997609267611\n",
      "AIC: -87.78476561932473\n",
      "====================================================================================================\n",
      "6116aa4d3c4d9eae26b66171\n",
      "Subject 2\n",
      "Best parameter estimates: prior = (0.260958188619435, 'alpha =', 0.06307723997720843)\n",
      "R2: 0.05079631117067718\n",
      "BIC: -144.42205774493584\n",
      "AIC: -150.02684727158447\n",
      "====================================================================================================\n",
      "6109b8238588407db4764ec1\n",
      "Subject 3\n",
      "Best parameter estimates: prior = (0.23710770309940168, 'alpha =', 0.5777190703487797)\n",
      "R2: 0.33556561110998673\n",
      "BIC: -77.90010154753743\n",
      "AIC: -83.50489107418605\n",
      "====================================================================================================\n",
      "611841738f4e8342f5ba3765\n",
      "Subject 4\n",
      "Best parameter estimates: prior = (0.44519412170734507, 'alpha =', 0.5340729141446602)\n",
      "R2: 0.26125422724374125\n",
      "BIC: -71.8472750017415\n",
      "AIC: -77.45206452839011\n",
      "====================================================================================================\n",
      "6108649840bf2b927ef3905c\n",
      "Subject 5\n",
      "Best parameter estimates: prior = (0.6152498145205179, 'alpha =', 0.4636028802341266)\n",
      "R2: 0.2971001266766955\n",
      "BIC: -85.82388784721704\n",
      "AIC: -91.42867737386565\n",
      "====================================================================================================\n",
      "5f4f8e8f9213e9056223e128\n",
      "Subject 6\n",
      "Best parameter estimates: prior = (0.0, 'alpha =', 0.6363430188296174)\n",
      "R2: 0.2286005188358763\n",
      "BIC: -95.5582318955327\n",
      "AIC: -101.16302142218132\n",
      "====================================================================================================\n",
      "613290e8a4520dd8d0cc061a\n",
      "Subject 7\n",
      "Best parameter estimates: prior = (0.0, 'alpha =', 0.18804072218270548)\n",
      "R2: 0.04172967037485298\n",
      "BIC: -100.21238157983724\n",
      "AIC: -105.81717110648586\n",
      "====================================================================================================\n",
      "61217de916b53da848302312\n",
      "Subject 8\n",
      "Best parameter estimates: prior = (0.4998705537853114, 'alpha =', 0.0)\n",
      "R2: -inf\n",
      "BIC: -523.5299160946587\n",
      "AIC: -529.1347056213073\n",
      "====================================================================================================\n",
      "61338d61ed3f2e3d196fa7c7\n",
      "Subject 9\n"
     ]
    },
    {
     "name": "stderr",
     "output_type": "stream",
     "text": [
      "<ipython-input-10-3c60888ec86d>:10: RuntimeWarning: divide by zero encountered in true_divide\n",
      "  print(\"R2:\", 1 - np.divide(optimal_ss_res, ss_tot))\n",
      "C:\\Users\\Sarah Zheng\\.conda\\envs\\sim-test\\lib\\site-packages\\skopt\\optimizer\\optimizer.py:449: UserWarning: The objective has been evaluated at this point before.\n",
      "  warnings.warn(\"The objective has been evaluated \"\n",
      "C:\\Users\\Sarah Zheng\\.conda\\envs\\sim-test\\lib\\site-packages\\skopt\\optimizer\\optimizer.py:449: UserWarning: The objective has been evaluated at this point before.\n",
      "  warnings.warn(\"The objective has been evaluated \"\n",
      "C:\\Users\\Sarah Zheng\\.conda\\envs\\sim-test\\lib\\site-packages\\skopt\\optimizer\\optimizer.py:449: UserWarning: The objective has been evaluated at this point before.\n",
      "  warnings.warn(\"The objective has been evaluated \"\n",
      "C:\\Users\\Sarah Zheng\\.conda\\envs\\sim-test\\lib\\site-packages\\skopt\\optimizer\\optimizer.py:449: UserWarning: The objective has been evaluated at this point before.\n",
      "  warnings.warn(\"The objective has been evaluated \"\n",
      "C:\\Users\\Sarah Zheng\\.conda\\envs\\sim-test\\lib\\site-packages\\skopt\\optimizer\\optimizer.py:449: UserWarning: The objective has been evaluated at this point before.\n",
      "  warnings.warn(\"The objective has been evaluated \"\n",
      "C:\\Users\\Sarah Zheng\\.conda\\envs\\sim-test\\lib\\site-packages\\skopt\\optimizer\\optimizer.py:449: UserWarning: The objective has been evaluated at this point before.\n",
      "  warnings.warn(\"The objective has been evaluated \"\n",
      "C:\\Users\\Sarah Zheng\\.conda\\envs\\sim-test\\lib\\site-packages\\skopt\\optimizer\\optimizer.py:449: UserWarning: The objective has been evaluated at this point before.\n",
      "  warnings.warn(\"The objective has been evaluated \"\n",
      "C:\\Users\\Sarah Zheng\\.conda\\envs\\sim-test\\lib\\site-packages\\skopt\\optimizer\\optimizer.py:449: UserWarning: The objective has been evaluated at this point before.\n",
      "  warnings.warn(\"The objective has been evaluated \"\n",
      "C:\\Users\\Sarah Zheng\\.conda\\envs\\sim-test\\lib\\site-packages\\skopt\\optimizer\\optimizer.py:449: UserWarning: The objective has been evaluated at this point before.\n",
      "  warnings.warn(\"The objective has been evaluated \"\n",
      "C:\\Users\\Sarah Zheng\\.conda\\envs\\sim-test\\lib\\site-packages\\skopt\\optimizer\\optimizer.py:449: UserWarning: The objective has been evaluated at this point before.\n",
      "  warnings.warn(\"The objective has been evaluated \"\n",
      "C:\\Users\\Sarah Zheng\\.conda\\envs\\sim-test\\lib\\site-packages\\skopt\\optimizer\\optimizer.py:449: UserWarning: The objective has been evaluated at this point before.\n",
      "  warnings.warn(\"The objective has been evaluated \"\n",
      "C:\\Users\\Sarah Zheng\\.conda\\envs\\sim-test\\lib\\site-packages\\skopt\\optimizer\\optimizer.py:449: UserWarning: The objective has been evaluated at this point before.\n",
      "  warnings.warn(\"The objective has been evaluated \"\n",
      "C:\\Users\\Sarah Zheng\\.conda\\envs\\sim-test\\lib\\site-packages\\skopt\\optimizer\\optimizer.py:449: UserWarning: The objective has been evaluated at this point before.\n",
      "  warnings.warn(\"The objective has been evaluated \"\n",
      "C:\\Users\\Sarah Zheng\\.conda\\envs\\sim-test\\lib\\site-packages\\skopt\\optimizer\\optimizer.py:449: UserWarning: The objective has been evaluated at this point before.\n",
      "  warnings.warn(\"The objective has been evaluated \"\n",
      "C:\\Users\\Sarah Zheng\\.conda\\envs\\sim-test\\lib\\site-packages\\skopt\\optimizer\\optimizer.py:449: UserWarning: The objective has been evaluated at this point before.\n",
      "  warnings.warn(\"The objective has been evaluated \"\n"
     ]
    },
    {
     "name": "stdout",
     "output_type": "stream",
     "text": [
      "Best parameter estimates: prior = (0.0, 'alpha =', 1.0)\n",
      "R2: 0.17628806464916247\n",
      "BIC: -67.61699912140661\n",
      "AIC: -73.22178864805522\n",
      "====================================================================================================\n"
     ]
    }
   ],
   "source": [
    "for i, uuid in enumerate(uuids):\n",
    "    print(uuid)\n",
    "    print(\"Subject\", i)\n",
    "    \n",
    "    if condition[uuid] == \"11\":\n",
    "        trials = process_trials_from_df(pd.concat([bs11, as31, bs02]).reset_index(), 7)\n",
    "    elif condition[uuid] == \"12\":\n",
    "        trials = process_trials_from_df(pd.concat([bs11, bs02, as31]).reset_index(), 7)\n",
    "    elif condition[uuid] == \"21\":\n",
    "        trials = process_trials_from_df(pd.concat([as31, bs11, bs02]).reset_index(), 7)\n",
    "    elif condition[uuid] == \"22\":\n",
    "        trials = process_trials_from_df(pd.concat([as31, bs02, bs11]).reset_index(), 7)\n",
    "    elif condition[uuid] == \"31\":\n",
    "        trials = process_trials_from_df(pd.concat([bs02, bs11, as31]).reset_index(), 7)\n",
    "    elif condition[uuid] == \"32\":\n",
    "        trials = process_trials_from_df(pd.concat([bs02, as31, bs11]).reset_index(), 7)\n",
    "    else:\n",
    "        print('no applicable subject condition found')\n",
    "        continue\n",
    "    \n",
    "    hrs = [ratings[uuid][key] for key in ratings[uuid].keys()][60:]\n",
    "    skopt_fit_single_model_single_response(hrs, trials[60:], param_search_space, 'normed_unsigned_colour_count')"
   ]
  },
  {
   "cell_type": "code",
   "execution_count": 52,
   "metadata": {},
   "outputs": [
    {
     "name": "stdout",
     "output_type": "stream",
     "text": [
      "54b9acd9fdf99b34ce2578f9\n",
      "Subject 0\n",
      "Best parameter estimates: prior = (0.3783487253591216, 'alpha =', 0.3642471327080557)\n",
      "R2: 0.10942646111523813\n",
      "BIC: -69.74243530157557\n",
      "AIC: -75.34722482822418\n",
      "====================================================================================================\n",
      "61017dbbf8b1afba48b7822e\n",
      "Subject 1\n",
      "Best parameter estimates: prior = (0.023647514575159484, 'alpha =', 1.0)\n",
      "R2: 0.43248266926141676\n",
      "BIC: -96.69120325096989\n",
      "AIC: -102.29599277761851\n",
      "====================================================================================================\n",
      "6116aa4d3c4d9eae26b66171\n",
      "Subject 2\n",
      "Best parameter estimates: prior = (0.24234261128574539, 'alpha =', 0.08769724125664902)\n",
      "R2: 0.07929149025092708\n",
      "BIC: -145.33645528070792\n",
      "AIC: -150.94124480735655\n",
      "====================================================================================================\n",
      "6109b8238588407db4764ec1\n",
      "Subject 3\n",
      "Best parameter estimates: prior = (0.12809562750794282, 'alpha =', 0.686662872444299)\n",
      "R2: 0.3761092458793155\n",
      "BIC: -79.78892723349676\n",
      "AIC: -85.39371676014538\n",
      "====================================================================================================\n",
      "611841738f4e8342f5ba3765\n",
      "Subject 4\n",
      "Best parameter estimates: prior = (0.31171542263056906, 'alpha =', 0.6971727713006005)\n",
      "R2: 0.35320184908280017\n",
      "BIC: -75.83486233168152\n",
      "AIC: -81.43965185833014\n",
      "====================================================================================================\n",
      "6108649840bf2b927ef3905c\n",
      "Subject 5\n",
      "Best parameter estimates: prior = (0.5329772032398644, 'alpha =', 0.5430741394874906)\n",
      "R2: 0.32458512440325094\n",
      "BIC: -87.02050748872212\n",
      "AIC: -92.62529701537073\n",
      "====================================================================================================\n",
      "5f4f8e8f9213e9056223e128\n",
      "Subject 6\n",
      "Best parameter estimates: prior = (0.0, 'alpha =', 0.632979523654962)\n",
      "R2: 0.5510425409856032\n",
      "BIC: -111.7965789755564\n",
      "AIC: -117.40136850220502\n",
      "====================================================================================================\n",
      "613290e8a4520dd8d0cc061a\n",
      "Subject 7\n",
      "Best parameter estimates: prior = (0.0, 'alpha =', 0.13803525512863782)\n",
      "R2: 0.04167727124263365\n",
      "BIC: -100.21074119617823\n",
      "AIC: -105.81553072282685\n",
      "====================================================================================================\n",
      "61217de916b53da848302312\n",
      "Subject 8\n",
      "Best parameter estimates: prior = (0.4999986929164795, 'alpha =', 0.0)\n",
      "R2: -inf\n",
      "BIC: -799.2579438494635\n",
      "AIC: -804.862733376112\n",
      "====================================================================================================\n",
      "61338d61ed3f2e3d196fa7c7\n",
      "Subject 9\n"
     ]
    },
    {
     "name": "stderr",
     "output_type": "stream",
     "text": [
      "<ipython-input-10-3c60888ec86d>:10: RuntimeWarning: divide by zero encountered in true_divide\n",
      "  print(\"R2:\", 1 - np.divide(optimal_ss_res, ss_tot))\n"
     ]
    },
    {
     "name": "stdout",
     "output_type": "stream",
     "text": [
      "Best parameter estimates: prior = (0.0, 'alpha =', 0.7931114079238782)\n",
      "R2: 0.27922495856939955\n",
      "BIC: -71.62181300975531\n",
      "AIC: -77.22660253640393\n",
      "====================================================================================================\n"
     ]
    }
   ],
   "source": [
    "for i, uuid in enumerate(uuids):\n",
    "    print(uuid)\n",
    "    print(\"Subject\", i)\n",
    "    \n",
    "    if condition[uuid] == \"11\":\n",
    "        trials = process_trials_from_df(pd.concat([bs11, as31, bs02]).reset_index(), 7)\n",
    "    elif condition[uuid] == \"12\":\n",
    "        trials = process_trials_from_df(pd.concat([bs11, bs02, as31]).reset_index(), 7)\n",
    "    elif condition[uuid] == \"21\":\n",
    "        trials = process_trials_from_df(pd.concat([as31, bs11, bs02]).reset_index(), 7)\n",
    "    elif condition[uuid] == \"22\":\n",
    "        trials = process_trials_from_df(pd.concat([as31, bs02, bs11]).reset_index(), 7)\n",
    "    elif condition[uuid] == \"31\":\n",
    "        trials = process_trials_from_df(pd.concat([bs02, bs11, as31]).reset_index(), 7)\n",
    "    elif condition[uuid] == \"32\":\n",
    "        trials = process_trials_from_df(pd.concat([bs02, as31, bs11]).reset_index(), 7)\n",
    "    else:\n",
    "        print('no applicable subject condition found')\n",
    "        continue\n",
    "        \n",
    "    hrs = [ratings[uuid][key] for key in ratings[uuid].keys()][60:]\n",
    "    skopt_fit_single_model_single_response(hrs, trials[60:], param_search_space, 'normed_signed_colour_count')"
   ]
  },
  {
   "cell_type": "markdown",
   "metadata": {},
   "source": [
    "## Weighted model fits, concatenated blocks"
   ]
  },
  {
   "cell_type": "code",
   "execution_count": 18,
   "metadata": {},
   "outputs": [],
   "source": [
    "def objective_weighted(params, response, trials, stat1: str, stat2: str):\n",
    "    pred = params[0] + params[1] * trials[stat1] + params[2] * trials[stat2]\n",
    "    ss_res = np.sum((response-pred)**2)\n",
    "    return ss_res"
   ]
  },
  {
   "cell_type": "code",
   "execution_count": 19,
   "metadata": {},
   "outputs": [],
   "source": [
    "def skopt_fit_weighted_model_single_response(response, trials, param_search_space, stat1: str, stat2: str):\n",
    "    ss_tot = np.sum((response - np.mean(response)) ** 2)\n",
    "    gp_result = gp_minimize(partial(objective_weighted, response=response, trials=trials, stat1=stat1, stat2=stat2), param_search_space, random_state=42)\n",
    "    optimal_ss_res = gp_result.fun\n",
    "    \n",
    "    print(\"Best parameter estimates: prior =\", gp_result.x[0], \"alpha 1 =\", gp_result.x[1], \"alpha 2 =\", gp_result.x[2])\n",
    "    print(\"R2:\", 1 - np.divide(optimal_ss_res, ss_tot))\n",
    "    \n",
    "    pred = gp_result.x[0] + gp_result.x[1] * trials[stat1] + gp_result.x[2] * trials[stat2]\n",
    "    \n",
    "    mse = mean_squared_error(response, pred)\n",
    "    bic = calculate_bic(len(response), mse, len(param_search_space))\n",
    "    aic = calculate_aic(len(response), mse, len(param_search_space))\n",
    "    \n",
    "    print(\"BIC:\", bic)\n",
    "    print(\"AIC:\", aic)\n",
    "    print(\"=\" * 100)"
   ]
  },
  {
   "cell_type": "code",
   "execution_count": 20,
   "metadata": {},
   "outputs": [],
   "source": [
    "param_search_space = [Real(0, 1, name='prior'), Real(0, 1, name='alpha1'), Real(0, 1, name='alpha2'), Real(0, 1, name='weight')]"
   ]
  },
  {
   "cell_type": "code",
   "execution_count": 22,
   "metadata": {},
   "outputs": [
    {
     "name": "stdout",
     "output_type": "stream",
     "text": [
      "0 54b9acd9fdf99b34ce2578f9\n",
      "Best parameter estimates: prior = 0.0 alpha 1 = 0.1949884703430967 alpha 2 = 0.5816142456980485\n",
      "R2: 0.4835676468845954\n",
      "BIC: -279.54618567260707\n",
      "AIC: -289.5454243539281\n",
      "====================================================================================================\n",
      "1 61017dbbf8b1afba48b7822e\n",
      "Best parameter estimates: prior = 0.0 alpha 1 = 0.15442837002463378 alpha 2 = 0.5669020308796804\n",
      "R2: 0.5514149365866021\n",
      "BIC: -312.10980392005916\n",
      "AIC: -322.1090426013802\n",
      "====================================================================================================\n",
      "2 6116aa4d3c4d9eae26b66171\n",
      "Best parameter estimates: prior = 0.10130735138466575 alpha 1 = 0.17749003125207283 alpha 2 = 0.07223939492275858\n",
      "R2: 0.24513091020832933\n",
      "BIC: -397.731213704636\n",
      "AIC: -407.73045238595705\n",
      "====================================================================================================\n",
      "3 6109b8238588407db4764ec1\n",
      "Best parameter estimates: prior = 0.0005410204401049405 alpha 1 = 0.4377875909942277 alpha 2 = 0.34597060747158037\n",
      "R2: 0.5397885349834799\n",
      "BIC: -317.9282805204116\n",
      "AIC: -327.92751920173265\n",
      "====================================================================================================\n",
      "4 611841738f4e8342f5ba3765\n",
      "Best parameter estimates: prior = 0.0 alpha 1 = 0.5519040850252226 alpha 2 = 0.47089563035766707\n",
      "R2: 0.5599941351047302\n",
      "BIC: -254.54255356373858\n",
      "AIC: -264.54179224505964\n",
      "====================================================================================================\n",
      "5 6108649840bf2b927ef3905c\n",
      "Best parameter estimates: prior = 0.025086336624400518 alpha 1 = 0.20729415222756725 alpha 2 = 0.9810427665533213\n",
      "R2: 0.5878174396305196\n",
      "BIC: -266.49148259334044\n",
      "AIC: -276.4907212746615\n",
      "====================================================================================================\n",
      "6 5f4f8e8f9213e9056223e128\n",
      "Best parameter estimates: prior = 0.0 alpha 1 = 0.2887221452282316 alpha 2 = 0.556653679271607\n",
      "R2: 0.6175834715052109\n",
      "BIC: -280.3553575049316\n",
      "AIC: -290.35459618625265\n",
      "====================================================================================================\n",
      "7 613290e8a4520dd8d0cc061a\n",
      "Best parameter estimates: prior = 0.0 alpha 1 = 0.12446778936436641 alpha 2 = 0.1575382392246619\n",
      "R2: 0.12018361995715654\n",
      "BIC: -217.53356013017026\n",
      "AIC: -227.53279881149132\n",
      "====================================================================================================\n",
      "8 61217de916b53da848302312\n",
      "Best parameter estimates: prior = 0.41752313230609617 alpha 1 = 0.0 alpha 2 = 0.20772346774418776\n",
      "R2: 0.16878340600106345\n",
      "BIC: -398.86074530079554\n",
      "AIC: -408.8599839821166\n",
      "====================================================================================================\n",
      "9 61338d61ed3f2e3d196fa7c7\n",
      "Best parameter estimates: prior = 0.0 alpha 1 = 0.2520130742742423 alpha 2 = 0.44949967720882444\n",
      "R2: 0.4793727470140975\n",
      "BIC: -236.02995007824518\n",
      "AIC: -246.02918875956624\n",
      "====================================================================================================\n"
     ]
    }
   ],
   "source": [
    "for i, uuid in enumerate(uuids):\n",
    "    print(i, uuid)\n",
    "    \n",
    "    if condition[uuid] == \"11\":\n",
    "        trials = process_trials_from_df(pd.concat([bs11, as31, bs02]).reset_index(), 7)\n",
    "    elif condition[uuid] == \"12\":\n",
    "        trials = process_trials_from_df(pd.concat([bs11, bs02, as31]).reset_index(), 7)\n",
    "    elif condition[uuid] == \"21\":\n",
    "        trials = process_trials_from_df(pd.concat([as31, bs11, bs02]).reset_index(), 7)\n",
    "    elif condition[uuid] == \"22\":\n",
    "        trials = process_trials_from_df(pd.concat([as31, bs02, bs11]).reset_index(), 7)\n",
    "    elif condition[uuid] == \"31\":\n",
    "        trials = process_trials_from_df(pd.concat([bs02, bs11, as31]).reset_index(), 7)\n",
    "    elif condition[uuid] == \"32\":\n",
    "        trials = process_trials_from_df(pd.concat([bs02, as31, bs11]).reset_index(), 7)\n",
    "    else:\n",
    "        print('no applicable subject condition found')\n",
    "        continue\n",
    "    \n",
    "    hrs = [ratings[uuid][key] for key in ratings[uuid].keys()]\n",
    "    skopt_fit_weighted_model_single_response(hrs, trials, param_search_space, 'normed_signed_e_v', 'normed_signed_colour_count')"
   ]
  },
  {
   "cell_type": "code",
   "execution_count": 88,
   "metadata": {},
   "outputs": [
    {
     "data": {
      "text/plain": [
       "<AxesSubplot:>"
      ]
     },
     "execution_count": 88,
     "metadata": {},
     "output_type": "execute_result"
    },
    {
     "data": {
      "image/png": "[encoded data removed]",
      "text/plain": [
       "<Figure size 432x288 with 1 Axes>"
      ]
     },
     "metadata": {
      "needs_background": "light"
     },
     "output_type": "display_data"
    }
   ],
   "source": [
    "sns.lineplot(data=ratings['61017dbbf8b1afba48b7822e'])"
   ]
  },
  {
   "cell_type": "code",
   "execution_count": 94,
   "metadata": {},
   "outputs": [
    {
     "data": {
      "text/plain": [
       "<AxesSubplot:ylabel='normed_unsigned_colour_count'>"
      ]
     },
     "execution_count": 94,
     "metadata": {},
     "output_type": "execute_result"
    },
    {
     "data": {
      "image/png": "[encoded data removed]",
      "text/plain": [
       "<Figure size 432x288 with 1 Axes>"
      ]
     },
     "metadata": {
      "needs_background": "light"
     },
     "output_type": "display_data"
    }
   ],
   "source": [
    "sns.lineplot(data=ratings['61217de916b53da848302312'])\n",
    "tmp = process_trials_from_df(pd.concat([bs02, as31, bs11]).reset_index(), 7)\n",
    "sns.lineplot(data=0.414+tmp['normed_unsigned_colour_count']*0.267)"
   ]
  },
  {
   "cell_type": "code",
   "execution_count": 87,
   "metadata": {},
   "outputs": [
    {
     "data": {
      "text/plain": [
       "<AxesSubplot:ylabel='normed_unsigned_e_v'>"
      ]
     },
     "execution_count": 87,
     "metadata": {},
     "output_type": "execute_result"
    },
    {
     "data": {
      "image/png": "[encoded data removed]",
      "text/plain": [
       "<Figure size 432x288 with 1 Axes>"
      ]
     },
     "metadata": {
      "needs_background": "light"
     },
     "output_type": "display_data"
    }
   ],
   "source": [
    "tmp = process_trials_from_df(pd.concat([bs02, bs11, as31]).reset_index(), 7)\n",
    "sns.lineplot(data=tmp['normed_unsigned_e_v'])\n",
    "sns.lineplot(data=ratings['61338d61ed3f2e3d196fa7c7'])"
   ]
  },
  {
   "cell_type": "code",
   "execution_count": 86,
   "metadata": {},
   "outputs": [
    {
     "data": {
      "text/plain": [
       "<AxesSubplot:ylabel='normed_signed_e_v'>"
      ]
     },
     "execution_count": 86,
     "metadata": {},
     "output_type": "execute_result"
    },
    {
     "data": {
      "image/png": "[encoded data removed]",
      "text/plain": [
       "<Figure size 432x288 with 1 Axes>"
      ]
     },
     "metadata": {
      "needs_background": "light"
     },
     "output_type": "display_data"
    }
   ],
   "source": [
    "sns.lineplot(data=tmp['normed_signed_e_v'])\n",
    "sns.lineplot(data=ratings['61338d61ed3f2e3d196fa7c7'])"
   ]
  },
  {
   "cell_type": "code",
   "execution_count": 71,
   "metadata": {},
   "outputs": [
    {
     "data": {
      "text/plain": [
       "{'54b9acd9fdf99b34ce2578f9': '11',\n",
       " '61017dbbf8b1afba48b7822e': '12',\n",
       " '6116aa4d3c4d9eae26b66171': '21',\n",
       " '6109b8238588407db4764ec1': '21',\n",
       " '611841738f4e8342f5ba3765': '21',\n",
       " '6108649840bf2b927ef3905c': '11',\n",
       " '5f4f8e8f9213e9056223e128': '22',\n",
       " '613290e8a4520dd8d0cc061a': '31',\n",
       " '61217de916b53da848302312': '32',\n",
       " '61338d61ed3f2e3d196fa7c7': '31'}"
      ]
     },
     "execution_count": 71,
     "metadata": {},
     "output_type": "execute_result"
    }
   ],
   "source": [
    "condition"
   ]
  },
  {
   "cell_type": "code",
   "execution_count": 63,
   "metadata": {},
   "outputs": [],
   "source": [
    "tmp = process_trials_from_df(pd.concat([bs02, bs11, as31]).reset_index(), 7)"
   ]
  },
  {
   "cell_type": "code",
   "execution_count": 69,
   "metadata": {},
   "outputs": [
    {
     "data": {
      "text/plain": [
       "<AxesSubplot:ylabel='normed_unsigned_e_v'>"
      ]
     },
     "execution_count": 69,
     "metadata": {},
     "output_type": "execute_result"
    },
    {
     "data": {
      "image/png": "[encoded data removed]",
      "text/plain": [
       "<Figure size 432x288 with 1 Axes>"
      ]
     },
     "metadata": {
      "needs_background": "light"
     },
     "output_type": "display_data"
    }
   ],
   "source": [
    "sns.lineplot(data=tmp['normed_unsigned_e_v'])\n",
    "sns.lineplot(data=ratings['613290e8a4520dd8d0cc061a'])"
   ]
  },
  {
   "cell_type": "code",
   "execution_count": 54,
   "metadata": {},
   "outputs": [
    {
     "data": {
      "text/plain": [
       "'11'"
      ]
     },
     "execution_count": 54,
     "metadata": {},
     "output_type": "execute_result"
    }
   ],
   "source": [
    "condition['54b9acd9fdf99b34ce2578f9']"
   ]
  },
  {
   "cell_type": "code",
   "execution_count": 60,
   "metadata": {},
   "outputs": [
    {
     "data": {
      "image/png": "[encoded data removed]",
      "text/plain": [
       "<Figure size 432x288 with 1 Axes>"
      ]
     },
     "metadata": {
      "needs_background": "light"
     },
     "output_type": "display_data"
    }
   ],
   "source": [
    "import seaborn as sns\n",
    "\n",
    "# condition 11: 54b9acd9fdf99b34ce2578f9, 6108649840bf2b927ef3905c\n",
    "sns.lineplot(data=ratings['54b9acd9fdf99b34ce2578f9'])\n",
    "sns.lineplot(data=ratings['6108649840bf2b927ef3905c'])\n",
    "\n",
    "tmp = process_trials_from_df(pd.concat([bs11, as31, bs02]).reset_index(), 7)\n",
    "# sns.lineplot(data=tmp['normed_cs_signed_e_v'])"
   ]
  },
  {
   "cell_type": "code",
   "execution_count": 34,
   "metadata": {},
   "outputs": [
    {
     "name": "stdout",
     "output_type": "stream",
     "text": [
      "0 54b9acd9fdf99b34ce2578f9\n",
      "Best parameter estimates: prior = 0.009032935024823238 alpha 1 = 0.5337020609348078 alpha 2 = 0.3942955878635291\n",
      "R2: 0.67379190048958\n",
      "BIC: -320.89297663846895\n",
      "AIC: -330.89221531979\n",
      "====================================================================================================\n",
      "1 61017dbbf8b1afba48b7822e\n",
      "Best parameter estimates: prior = 0.0 alpha 1 = 0.19228278288766676 alpha 2 = 0.6205597338484741\n",
      "R2: 0.6154159646720636\n",
      "BIC: -325.96404419403575\n",
      "AIC: -335.9632828753568\n",
      "====================================================================================================\n",
      "2 6116aa4d3c4d9eae26b66171\n",
      "Best parameter estimates: prior = 0.1520964827756907 alpha 1 = 0.04695711568549979 alpha 2 = 0.18972175929010968\n",
      "R2: 0.16851795646693324\n",
      "BIC: -389.0313313119052\n",
      "AIC: -399.03056999322627\n",
      "====================================================================================================\n",
      "3 6109b8238588407db4764ec1\n",
      "Best parameter estimates: prior = 0.1589269346456702 alpha 1 = 0.0 alpha 2 = 0.682770488464422\n",
      "R2: 0.4048801395122148\n",
      "BIC: -294.7913738260986\n",
      "AIC: -304.79061250741967\n",
      "====================================================================================================\n",
      "4 611841738f4e8342f5ba3765\n",
      "Best parameter estimates: prior = 0.10995439605336062 alpha 1 = 0.1698484067873827 alpha 2 = 0.9038109012415828\n",
      "R2: 0.4283242213096834\n",
      "BIC: -230.98199769708154\n",
      "AIC: -240.9812363784026\n",
      "====================================================================================================\n",
      "5 6108649840bf2b927ef3905c\n",
      "Best parameter estimates: prior = 0.08819775809276671 alpha 1 = 0.6114290568993948 alpha 2 = 0.6341695353364307\n",
      "R2: 0.7767918367800424\n",
      "BIC: -321.694022587867\n",
      "AIC: -331.69326126918804\n",
      "====================================================================================================\n",
      "6 5f4f8e8f9213e9056223e128\n"
     ]
    },
    {
     "name": "stderr",
     "output_type": "stream",
     "text": [
      "C:\\Users\\Sarah Zheng\\.conda\\envs\\sim-test\\lib\\site-packages\\skopt\\optimizer\\optimizer.py:449: UserWarning: The objective has been evaluated at this point before.\n",
      "  warnings.warn(\"The objective has been evaluated \"\n",
      "C:\\Users\\Sarah Zheng\\.conda\\envs\\sim-test\\lib\\site-packages\\skopt\\optimizer\\optimizer.py:449: UserWarning: The objective has been evaluated at this point before.\n",
      "  warnings.warn(\"The objective has been evaluated \"\n"
     ]
    },
    {
     "name": "stdout",
     "output_type": "stream",
     "text": [
      "Best parameter estimates: prior = 0.0 alpha 1 = 0.0 alpha 2 = 0.9875735342091176\n",
      "R2: 0.558231086151303\n",
      "BIC: -267.3704704602409\n",
      "AIC: -277.36970914156194\n",
      "====================================================================================================\n",
      "7 613290e8a4520dd8d0cc061a\n",
      "Best parameter estimates: prior = 0.0 alpha 1 = 0.0 alpha 2 = 0.34591588830872133\n",
      "R2: 0.10661160665784042\n",
      "BIC: -216.15582297454927\n",
      "AIC: -226.15506165587033\n",
      "====================================================================================================\n",
      "8 61217de916b53da848302312\n",
      "Best parameter estimates: prior = 0.23685084252465305 alpha 1 = 0.20837647004977689 alpha 2 = 0.3196053440837321\n",
      "R2: 0.45407917811320353\n",
      "BIC: -436.69822608179163\n",
      "AIC: -446.6974647631127\n",
      "====================================================================================================\n",
      "9 61338d61ed3f2e3d196fa7c7\n",
      "Best parameter estimates: prior = 0.0 alpha 1 = 0.0 alpha 2 = 0.825015569919401\n",
      "R2: 0.4430520198756105\n",
      "BIC: -229.96057487702217\n",
      "AIC: -239.95981355834323\n",
      "====================================================================================================\n"
     ]
    }
   ],
   "source": [
    "for i, uuid in enumerate(uuids):\n",
    "    print(i, uuid)\n",
    "    \n",
    "    if condition[uuid] == \"11\":\n",
    "        trials = process_trials_from_df(pd.concat([bs11, as31, bs02]).reset_index(), 7)\n",
    "    elif condition[uuid] == \"12\":\n",
    "        trials = process_trials_from_df(pd.concat([bs11, bs02, as31]).reset_index(), 7)\n",
    "    elif condition[uuid] == \"21\":\n",
    "        trials = process_trials_from_df(pd.concat([as31, bs11, bs02]).reset_index(), 7)\n",
    "    elif condition[uuid] == \"22\":\n",
    "        trials = process_trials_from_df(pd.concat([as31, bs02, bs11]).reset_index(), 7)\n",
    "    elif condition[uuid] == \"31\":\n",
    "        trials = process_trials_from_df(pd.concat([bs02, bs11, as31]).reset_index(), 7)\n",
    "    elif condition[uuid] == \"32\":\n",
    "        trials = process_trials_from_df(pd.concat([bs02, as31, bs11]).reset_index(), 7)\n",
    "    else:\n",
    "        print('no applicable subject condition found')\n",
    "        continue\n",
    "    \n",
    "    hrs = [ratings[uuid][key] for key in ratings[uuid].keys()]\n",
    "    skopt_fit_weighted_model_single_response(hrs, trials, param_search_space, 'normed_cs_signed_e_v', 'normed_signed_colour_count')"
   ]
  },
  {
   "cell_type": "markdown",
   "metadata": {},
   "source": [
    "## Check responses"
   ]
  },
  {
   "cell_type": "code",
   "execution_count": null,
   "metadata": {},
   "outputs": [],
   "source": [
    "tmp = [ratings['611be41c1e9cca41ae48582a'][key] for key in ratings['611be41c1e9cca41ae48582a'].keys()]"
   ]
  },
  {
   "cell_type": "code",
   "execution_count": null,
   "metadata": {},
   "outputs": [],
   "source": [
    "trials = process_trials(pd.concat([bs11, as31, bs02]).reset_index(), 7)"
   ]
  },
  {
   "cell_type": "code",
   "execution_count": null,
   "metadata": {},
   "outputs": [],
   "source": [
    "# sns.lineplot(data=[t*0.66+0.16 for t in trials.normed_cs_signed_e_v])\n",
    "sns.lineplot(data=tmp)\n",
    "sns.lineplot(data=trials.normed_unsigned_colour_count)"
   ]
  },
  {
   "cell_type": "code",
   "execution_count": null,
   "metadata": {},
   "outputs": [],
   "source": [
    "del trials['level_0']\n",
    "del trials['index']"
   ]
  },
  {
   "cell_type": "code",
   "execution_count": null,
   "metadata": {},
   "outputs": [],
   "source": [
    "trials['trial'] = trials.index + 1"
   ]
  },
  {
   "cell_type": "code",
   "execution_count": null,
   "metadata": {},
   "outputs": [],
   "source": [
    "trials['normed_suspicion_ratings'] = tmp"
   ]
  },
  {
   "cell_type": "code",
   "execution_count": null,
   "metadata": {},
   "outputs": [],
   "source": [
    "df_subject = trials"
   ]
  },
  {
   "cell_type": "code",
   "execution_count": null,
   "metadata": {},
   "outputs": [],
   "source": [
    "from matplotlib import ticker\n",
    "\n",
    "sns.set(rc={'figure.figsize':(16,7)})\n",
    "p = sns.lineplot(data=df_subject, x='trial', y='normed_suspicion_ratings')\n",
    "p.set(ylim=(-0.25,1.2), xlim=(0, 91))\n",
    "p.set_ylabel('actual normalized reversed honesty ratings')\n",
    "p.set_title('Cards game progression')\n",
    "\n",
    "markers2 = {\"loss\": \"X\", \"win\": \"o\", \"tie\": \"D\"}\n",
    "colors = {-1: 'red', 1: 'blue'}\n",
    "\n",
    "p2 = sns.lineplot(data=df_subject, x='trial', y='normed_unsigned_e_v')\n",
    "# s = sns.scatterplot(data=df_subject, x='trial',y='subject_pick', c=[colors[x] for x in df_subject.random_pick_colour])\n",
    "# s1 = sns.scatterplot(data=df_subject, x='trial',y='plot_subject_report', c=[colors[x] for x in df_subject.reported_pick_colour])\n",
    "s2 = sns.scatterplot(data=df_subject, x='trial',y=1, c=[colors[x] for x in df_subject.outcome])\n",
    "\n",
    "# s3 = sns.scatterplot(data=df_subject, x='trial',y='trial_result', markers=markers2, style=df_subject.trial_result)\n",
    "s2.xaxis.set_major_locator(ticker.MultipleLocator(5))\n",
    "# s4 = sns.scatterplot(data=df_subject, x='trial', y=[-0.2 if x else None for x in df_subject.lied])"
   ]
  },
  {
   "cell_type": "code",
   "execution_count": null,
   "metadata": {},
   "outputs": [],
   "source": [
    "# df_subject['fit_suspicion'] = [t * 0.58 + 0.19 for t in df_subject.normed_cs_unsigned_e_v ]"
   ]
  },
  {
   "cell_type": "code",
   "execution_count": null,
   "metadata": {},
   "outputs": [],
   "source": [
    "max(df_subject['normed_suspicion_ratings'] - df_subject['fit_suspicion'])"
   ]
  },
  {
   "cell_type": "code",
   "execution_count": null,
   "metadata": {},
   "outputs": [],
   "source": [
    "max(trials.n_consec_colour)"
   ]
  },
  {
   "cell_type": "code",
   "execution_count": null,
   "metadata": {},
   "outputs": [],
   "source": [
    "max(process_trials(as31, 7).n_consec_colour)"
   ]
  },
  {
   "cell_type": "code",
   "execution_count": null,
   "metadata": {},
   "outputs": [],
   "source": [
    "min(process_trials(as31, 7).signed_n_consec_colour)"
   ]
  },
  {
   "cell_type": "code",
   "execution_count": null,
   "metadata": {},
   "outputs": [],
   "source": [
    "max(process_trials(bs02, 7).n_consec_colour)"
   ]
  },
  {
   "cell_type": "code",
   "execution_count": null,
   "metadata": {},
   "outputs": [],
   "source": [
    "min(process_trials(bs02, 7).signed_n_consec_colour)"
   ]
  },
  {
   "cell_type": "code",
   "execution_count": null,
   "metadata": {},
   "outputs": [],
   "source": [
    "max(process_trials(bs11,7).n_consec_colour)"
   ]
  },
  {
   "cell_type": "code",
   "execution_count": null,
   "metadata": {},
   "outputs": [],
   "source": [
    "min(process_trials(bs11, 7).signed_n_consec_colour)"
   ]
  },
  {
   "cell_type": "code",
   "execution_count": null,
   "metadata": {},
   "outputs": [],
   "source": [
    "# sort by expectation violation level and plot honesty ratings"
   ]
  },
  {
   "cell_type": "code",
   "execution_count": null,
   "metadata": {},
   "outputs": [],
   "source": [
    "sorted_trials = trials.sort_values('e_v')"
   ]
  },
  {
   "cell_type": "code",
   "execution_count": null,
   "metadata": {},
   "outputs": [],
   "source": [
    "from scipy.stats import spearmanr\n",
    "\n",
    "spearmanr(sorted_trials.normed_suspicion_ratings, sorted_trials.e_v)"
   ]
  },
  {
   "cell_type": "code",
   "execution_count": null,
   "metadata": {},
   "outputs": [],
   "source": [
    "list(zip(sorted_trials.normed_suspicion_ratings, sorted_trials.e_v))"
   ]
  },
  {
   "cell_type": "code",
   "execution_count": null,
   "metadata": {},
   "outputs": [],
   "source": []
  },
  {
   "cell_type": "code",
   "execution_count": 100,
   "metadata": {},
   "outputs": [],
   "source": [
    "tred = (tmp['n_red'] * tmp['outcome'])[:30]"
   ]
  },
  {
   "cell_type": "code",
   "execution_count": 101,
   "metadata": {},
   "outputs": [
    {
     "data": {
      "text/plain": [
       "Counter({-6: 2, 5: 8, -5: 2, 2: 2, 6: 7, 4: 2, 1: 5, 3: 2})"
      ]
     },
     "execution_count": 101,
     "metadata": {},
     "output_type": "execute_result"
    }
   ],
   "source": [
    "from collections import Counter\n",
    "\n",
    "Counter(tred)"
   ]
  },
  {
   "cell_type": "code",
   "execution_count": 102,
   "metadata": {},
   "outputs": [
    {
     "data": {
      "text/plain": [
       "Counter({6: 9, 5: 10, 2: 2, 4: 2, 1: 5, 3: 2})"
      ]
     },
     "execution_count": 102,
     "metadata": {},
     "output_type": "execute_result"
    }
   ],
   "source": [
    "Counter(tmp['n_red'][:30])"
   ]
  },
  {
   "cell_type": "code",
   "execution_count": null,
   "metadata": {},
   "outputs": [],
   "source": []
  }
 ],
 "metadata": {
  "kernelspec": {
   "display_name": "Python 3",
   "language": "python",
   "name": "python3"
  },
  "language_info": {
   "codemirror_mode": {
    "name": "ipython",
    "version": 3
   },
   "file_extension": ".py",
   "mimetype": "text/x-python",
   "name": "python",
   "nbconvert_exporter": "python",
   "pygments_lexer": "ipython3",
   "version": "3.8.5"
  }
 },
 "nbformat": 4,
 "nbformat_minor": 4
}
