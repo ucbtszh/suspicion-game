{
 "cells": [
  {
   "cell_type": "code",
   "execution_count": 11,
   "metadata": {},
   "outputs": [],
   "source": [
    "import json\n",
    "import pandas as pd\n",
    "import seaborn\n",
    "\n",
    "from scripts.analysis import *\n",
    "from scripts.data_processing import process_trials_from_df"
   ]
  },
  {
   "cell_type": "code",
   "execution_count": 4,
   "metadata": {},
   "outputs": [],
   "source": [
    "with open('final_pilot_diffplayer_normalized_suspicion_ratings.json', 'r') as f:\n",
    "    ratings = json.load(f)"
   ]
  },
  {
   "cell_type": "code",
   "execution_count": 5,
   "metadata": {},
   "outputs": [],
   "source": [
    "uuids = ratings.keys()"
   ]
  },
  {
   "cell_type": "code",
   "execution_count": 6,
   "metadata": {},
   "outputs": [],
   "source": [
    "with open(\"./trial_setups/r0.json\", \"r\") as read_file:\n",
    "    r0 = json.load(read_file)\n",
    "    r0 = pd.DataFrame.from_dict(r0)\n",
    "\n",
    "with open(\"./trial_setups/r1.json\", \"r\") as read_file:\n",
    "    r1 = json.load(read_file)\n",
    "    r1 = pd.DataFrame.from_dict(r1)\n",
    "    \n",
    "with open(\"./trial_setups/r2.json\", \"r\") as read_file:\n",
    "    r2 = json.load(read_file)\n",
    "    r2 = pd.DataFrame.from_dict(r2)\n",
    "\n",
    "with open(\"./trial_setups/r3.json\", \"r\") as read_file:\n",
    "    r3 = json.load(read_file)\n",
    "    r3 = pd.DataFrame.from_dict(r3)\n",
    "    \n",
    "with open(\"./trial_setups/r4.json\", \"r\") as read_file:\n",
    "    r4 = json.load(read_file)\n",
    "    r4 = pd.DataFrame.from_dict(r4)\n",
    "\n",
    "with open(\"./trial_setups/r5.json\", \"r\") as read_file:\n",
    "    r5 = json.load(read_file)\n",
    "    r5 = pd.DataFrame.from_dict(r5)\n",
    "    \n",
    "with open(\"./trial_setups/r6.json\", \"r\") as read_file:\n",
    "    r6 = json.load(read_file)\n",
    "    r6 = pd.DataFrame.from_dict(r6)\n",
    "\n",
    "with open(\"./trial_setups/r7.json\", \"r\") as read_file:\n",
    "    r7 = json.load(read_file)\n",
    "    r7 = pd.DataFrame.from_dict(r7)\n",
    "\n",
    "with open(\"./trial_setups/r8.json\", \"r\") as read_file:\n",
    "    r8 = json.load(read_file)\n",
    "    r8 = pd.DataFrame.from_dict(r8)\n",
    "\n",
    "with open(\"./trial_setups/r9.json\", \"r\") as read_file:\n",
    "    r9 = json.load(read_file)\n",
    "    r9 = pd.DataFrame.from_dict(r9)\n",
    "\n",
    "with open(\"./trial_setups/r10.json\", \"r\") as read_file:\n",
    "    r10 = json.load(read_file)\n",
    "    r10 = pd.DataFrame.from_dict(r10)\n",
    "\n",
    "with open(\"./trial_setups/r11.json\", \"r\") as read_file:\n",
    "    r11 = json.load(read_file)\n",
    "    r11 = pd.DataFrame.from_dict(r11)"
   ]
  },
  {
   "cell_type": "code",
   "execution_count": 5,
   "metadata": {
    "scrolled": true
   },
   "outputs": [],
   "source": [
    "import firebase_admin\n",
    "from firebase_admin import credentials\n",
    "from firebase_admin import firestore\n",
    "\n",
    "# Use a service account\n",
    "cred = credentials.Certificate('D:/Behavioural cybersecurity/project-notes/cards-dd-game-61b9b7f26a6e.json')\n",
    "firebase_admin.initialize_app(cred)\n",
    "\n",
    "db = firestore.client()\n",
    "\n",
    "subjects_ref = db.collection(u'subjects')"
   ]
  },
  {
   "cell_type": "code",
   "execution_count": 6,
   "metadata": {},
   "outputs": [],
   "source": [
    "tmp = []\n",
    "\n",
    "for uuid in uuids:\n",
    "    tmp.append(subjects_ref.document(uuid).get())"
   ]
  },
  {
   "cell_type": "code",
   "execution_count": 7,
   "metadata": {},
   "outputs": [],
   "source": [
    "condition = {}\n",
    "\n",
    "for i, uuid in enumerate(uuids):\n",
    "#     print(i)\n",
    "    cond = tmp[i].to_dict()['condition']\n",
    "    condition[uuid] = cond"
   ]
  },
  {
   "cell_type": "code",
   "execution_count": 8,
   "metadata": {},
   "outputs": [],
   "source": [
    "from skopt.space import Real\n",
    "\n",
    "param_search_space = [Real(0, 1, name='prior'), Real(0, 1, name='alpha')]"
   ]
  },
  {
   "cell_type": "code",
   "execution_count": 7,
   "metadata": {},
   "outputs": [],
   "source": [
    "r012 = ['599186630675b100014daddd', '6119884fd696463d717432c9']\n",
    "r345 = ['61005d2e9b8bac27eba5b984', '610995bd91de0e899effd73d']\n",
    "r678 = ['610bb05be2e705f3e47e87fb', '610824959b488e57fa8a4a33', '60f0937892bd49086d6e2a77', '5cf656e90acc8f000147f643']\n",
    "r91011 = ['5fe292a28fd71dea34d04453', '5d341b57a48ae7000114152a']"
   ]
  },
  {
   "cell_type": "code",
   "execution_count": 12,
   "metadata": {},
   "outputs": [],
   "source": [
    "def get_trials_diff(uuid):\n",
    "    if uuid in r012:\n",
    "        trials = process_trials_from_df(pd.concat([r0, r1, r2]).reset_index(), 7)\n",
    "    elif uuid in r345:\n",
    "        trials = process_trials_from_df(pd.concat([r3, r4, r5]).reset_index(), 7)\n",
    "    elif uuid in r678:\n",
    "        trials = process_trials_from_df(pd.concat([r6, r7, r8]).reset_index(), 7)\n",
    "    elif uuid in r91011:\n",
    "        trials = process_trials_from_df(pd.concat([r9, r10, r11]).reset_index(), 7)\n",
    "    else:\n",
    "        print('no applicable subject condition found')\n",
    "    return trials"
   ]
  },
  {
   "cell_type": "code",
   "execution_count": 9,
   "metadata": {},
   "outputs": [],
   "source": [
    "with open('diff_when_lied.json', 'r') as f:\n",
    "    when_lied = json.load(f)\n",
    "    \n",
    "with open('diff_picked_col.json', 'r') as f:\n",
    "    col_pick = json.load(f)\n",
    "    \n",
    "with open('diff_reported_col.json', 'r') as f:\n",
    "    reported_col = json.load(f)"
   ]
  },
  {
   "cell_type": "code",
   "execution_count": 19,
   "metadata": {},
   "outputs": [
    {
     "name": "stdout",
     "output_type": "stream",
     "text": [
      "(0.8271833864161445, 9.568393750570095e-24)\n",
      "(0.5541922301879639, 1.4561949291737315e-08)\n",
      "(0.02728689347302567, 0.7984951247939279)\n",
      "(0.5481004816695336, 2.249088991488538e-08)\n",
      "(0.04162207275529319, 0.6968982039789976)\n",
      "(0.3482976635580336, 0.0007680980031274885)\n",
      "(0.6030707021171607, 3.17188941021507e-10)\n",
      "(0.5857341505427297, 1.325500659731807e-09)\n",
      "(0.7973074783741768, 5.3500780789269066e-21)\n",
      "(0.8630937441020596, 7.65106337637696e-28)\n"
     ]
    }
   ],
   "source": [
    "from scipy.stats import spearmanr, pearsonr\n",
    "\n",
    "agg_df = []\n",
    "\n",
    "for uuid in uuids:\n",
    "    trials = get_trials_diff(uuid)\n",
    "    trials['trial_cond'] = trials['n_red'] * trials['outcome']\n",
    "\n",
    "    rating = [ratings[uuid][k] for k in ratings[uuid].keys()]\n",
    "    print(pearsonr(trials['trial_cond'], rating))\n",
    "    \n",
    "    lies = when_lied[uuid]\n",
    "    \n",
    "    df = pd.DataFrame({'trial_cond': trials['trial_cond'], 'n_red': trials['n_red'], 'hr': rating, 'lied': lies, 'reported_col': reported_col[uuid], 'picked_col': col_pick[uuid]})\n",
    "    agg_df.append(df)\n",
    "    \n",
    "    detected_deception = [1 if float(r) >= 0.5 else 0 for r in rating]"
   ]
  },
  {
   "cell_type": "code",
   "execution_count": 28,
   "metadata": {},
   "outputs": [
    {
     "name": "stderr",
     "output_type": "stream",
     "text": [
      "C:\\Users\\Sarah Zheng\\.conda\\envs\\sim-test\\lib\\site-packages\\seaborn\\distributions.py:306: UserWarning: Dataset has 0 variance; skipping density estimate.\n",
      "  warnings.warn(msg, UserWarning)\n"
     ]
    },
    {
     "data": {
      "text/plain": [
       "Text(0.5, 1.0, 'Subject 5')"
      ]
     },
     "execution_count": 28,
     "metadata": {},
     "output_type": "execute_result"
    },
    {
     "data": {
      "image/png": "[encoded data removed]",
      "text/plain": [
       "<Figure size 432x288 with 1 Axes>"
      ]
     },
     "metadata": {
      "needs_background": "light"
     },
     "output_type": "display_data"
    }
   ],
   "source": [
    "import seaborn as sns\n",
    "\n",
    "# for i in range(10):\n",
    "#     p = sns.kdeplot(data=agg_df[i], x='trial_cond', hue='hr')\n",
    "#     p.set(xlabel=\"# red cards x outcome colour value\", xlim=(-7,7))\n",
    "\n",
    "p = sns.kdeplot(data=agg_df[6], x='trial_cond', hue='hr')\n",
    "p.set(xlabel=\"# red cards x outcome colour value\", xlim=(-7,7))\n",
    "p.set_title(\"Subject 5\")"
   ]
  },
  {
   "cell_type": "code",
   "execution_count": 31,
   "metadata": {},
   "outputs": [
    {
     "name": "stdout",
     "output_type": "stream",
     "text": [
      "reported_col  -1   1\n",
      "picked_col          \n",
      "-1            12  41\n",
      " 1             0  37\n",
      "reported_col  -1   1\n",
      "picked_col          \n",
      "-1            47   0\n",
      " 1             1  42\n",
      "reported_col  -1   1\n",
      "picked_col          \n",
      "-1            56   0\n",
      " 1             1  33\n",
      "reported_col  -1   1\n",
      "picked_col          \n",
      "-1            34  21\n",
      " 1             0  35\n",
      "reported_col  -1   1\n",
      "picked_col          \n",
      "-1            34  11\n",
      " 1             8  37\n",
      "reported_col  -1   1\n",
      "picked_col          \n",
      "-1            43   3\n",
      " 1             0  44\n",
      "reported_col  -1   1\n",
      "picked_col          \n",
      "-1            13  37\n",
      " 1             0  40\n",
      "reported_col  -1   1\n",
      "picked_col          \n",
      "-1            55   0\n",
      " 1             0  35\n",
      "reported_col  -1   1\n",
      "picked_col          \n",
      "-1            46   0\n",
      " 1             1  43\n",
      "reported_col  -1   1\n",
      "picked_col          \n",
      "-1            41   4\n",
      " 1             0  45\n"
     ]
    }
   ],
   "source": [
    "for i in range(len(uuids)):\n",
    "    print(pd.crosstab(index=agg_df[i]['picked_col'], columns=agg_df[i]['reported_col']))"
   ]
  },
  {
   "cell_type": "code",
   "execution_count": 33,
   "metadata": {},
   "outputs": [
    {
     "name": "stdout",
     "output_type": "stream",
     "text": [
      "n_red  picked_col  reported_col\n",
      "1      -1           1               1\n",
      "        1           1               5\n",
      "2      -1           1               1\n",
      "        1           1              12\n",
      "3      -1           1               4\n",
      "        1           1               3\n",
      "4      -1          -1               2\n",
      "                    1               6\n",
      "        1           1               3\n",
      "5      -1          -1               3\n",
      "                    1               8\n",
      "        1           1               7\n",
      "6      -1          -1               7\n",
      "                    1              21\n",
      "        1           1               7\n",
      "dtype: int64\n",
      "n_red  picked_col  reported_col\n",
      "1       1          -1               1\n",
      "                    1               5\n",
      "2       1           1              13\n",
      "3      -1          -1               5\n",
      "        1           1               2\n",
      "4      -1          -1               4\n",
      "        1           1               7\n",
      "5      -1          -1              12\n",
      "        1           1               6\n",
      "6      -1          -1              26\n",
      "        1           1               9\n",
      "dtype: int64\n",
      "n_red  picked_col  reported_col\n",
      "1      -1          -1               1\n",
      "        1           1               8\n",
      "2      -1          -1               4\n",
      "        1           1               8\n",
      "3      -1          -1               2\n",
      "        1           1               2\n",
      "4      -1          -1               8\n",
      "        1           1               6\n",
      "5      -1          -1              18\n",
      "        1          -1               1\n",
      "                    1               5\n",
      "6      -1          -1              23\n",
      "        1           1               4\n",
      "dtype: int64\n",
      "n_red  picked_col  reported_col\n",
      "1      -1           1               3\n",
      "        1           1               6\n",
      "2      -1          -1               3\n",
      "                    1               2\n",
      "        1           1               7\n",
      "3      -1           1               1\n",
      "        1           1               3\n",
      "4      -1          -1               4\n",
      "                    1               6\n",
      "        1           1               4\n",
      "5      -1          -1              10\n",
      "                    1               6\n",
      "        1           1               8\n",
      "6      -1          -1              17\n",
      "                    1               3\n",
      "        1           1               7\n",
      "dtype: int64\n",
      "n_red  picked_col  reported_col\n",
      "1      -1          -1               1\n",
      "        1          -1               2\n",
      "                    1               6\n",
      "2      -1          -1               2\n",
      "                    1               1\n",
      "        1          -1               1\n",
      "                    1              18\n",
      "3      -1          -1               2\n",
      "                    1               1\n",
      "        1           1               5\n",
      "4      -1          -1               3\n",
      "                    1               1\n",
      "        1           1               2\n",
      "5      -1          -1              13\n",
      "                    1               5\n",
      "        1          -1               1\n",
      "                    1               5\n",
      "6      -1          -1              13\n",
      "                    1               3\n",
      "        1          -1               4\n",
      "                    1               1\n",
      "dtype: int64\n",
      "n_red  picked_col  reported_col\n",
      "1      -1          -1               1\n",
      "        1           1               8\n",
      "2      -1          -1               4\n",
      "                    1               1\n",
      "        1           1              17\n",
      "3      -1          -1               4\n",
      "        1           1               4\n",
      "4      -1          -1               2\n",
      "        1           1               4\n",
      "5      -1          -1              14\n",
      "                    1               1\n",
      "        1           1               9\n",
      "6      -1          -1              18\n",
      "                    1               1\n",
      "        1           1               2\n",
      "dtype: int64\n",
      "n_red  picked_col  reported_col\n",
      "1       1           1               9\n",
      "2      -1           1               6\n",
      "        1           1              16\n",
      "3      -1          -1               1\n",
      "                    1               3\n",
      "        1           1               4\n",
      "4      -1          -1               1\n",
      "                    1               2\n",
      "        1           1               3\n",
      "5      -1          -1               4\n",
      "                    1              15\n",
      "        1           1               5\n",
      "6      -1          -1               7\n",
      "                    1              11\n",
      "        1           1               3\n",
      "dtype: int64\n",
      "n_red  picked_col  reported_col\n",
      "1      -1          -1               2\n",
      "        1           1               7\n",
      "2      -1          -1               5\n",
      "        1           1              17\n",
      "3      -1          -1               7\n",
      "        1           1               1\n",
      "4      -1          -1               6\n",
      "5      -1          -1              16\n",
      "        1           1               8\n",
      "6      -1          -1              19\n",
      "        1           1               2\n",
      "dtype: int64\n",
      "n_red  picked_col  reported_col\n",
      "1      -1          -1               2\n",
      "        1           1              13\n",
      "2      -1          -1               3\n",
      "        1           1               8\n",
      "3      -1          -1               3\n",
      "        1           1               5\n",
      "4      -1          -1               7\n",
      "        1           1               6\n",
      "5      -1          -1              15\n",
      "        1          -1               1\n",
      "                    1               8\n",
      "6      -1          -1              16\n",
      "        1           1               3\n",
      "dtype: int64\n",
      "n_red  picked_col  reported_col\n",
      "1      -1          -1               1\n",
      "                    1               1\n",
      "        1           1              13\n",
      "2      -1          -1               4\n",
      "                    1               1\n",
      "        1           1               6\n",
      "3      -1          -1               3\n",
      "        1           1               5\n",
      "4      -1          -1               7\n",
      "                    1               1\n",
      "        1           1               5\n",
      "5      -1          -1              14\n",
      "        1           1              10\n",
      "6      -1          -1              12\n",
      "                    1               1\n",
      "        1           1               6\n",
      "dtype: int64\n"
     ]
    }
   ],
   "source": [
    "for i in range(len(uuids)):\n",
    "    print(agg_df[i].groupby(['n_red', 'picked_col', 'reported_col']).size())"
   ]
  },
  {
   "cell_type": "markdown",
   "metadata": {},
   "source": [
    "# model fits"
   ]
  },
  {
   "cell_type": "code",
   "execution_count": 9,
   "metadata": {},
   "outputs": [
    {
     "name": "stdout",
     "output_type": "stream",
     "text": [
      "Subject 0\n",
      "PID 61005d2e9b8bac27eba5b984\n",
      "Best parameter estimates: prior = 0.10730446891337769 alpha = 0.9892586510872665\n",
      "R2: 0.5395268786229909\n",
      "BIC: -260.6136870783689\n",
      "AIC: -265.61330641902947\n",
      "====================================================================================================\n",
      "Subject 1\n",
      "PID 610995bd91de0e899effd73d\n",
      "Best parameter estimates: prior = 0.1459858560666907 alpha = 0.41263490240966866\n",
      "R2: 0.34704392824487584\n",
      "BIC: -346.39420369551203\n",
      "AIC: -351.3938230361726\n",
      "====================================================================================================\n",
      "Subject 2\n",
      "PID 599186630675b100014daddd\n",
      "Best parameter estimates: prior = 0.46608145726424727 alpha = 0.05013989371847714\n",
      "R2: 0.017337538184964196\n",
      "BIC: -452.0216167244806\n",
      "AIC: -457.0212360651411\n",
      "====================================================================================================\n",
      "Subject 3\n",
      "PID 6119884fd696463d717432c9\n",
      "Best parameter estimates: prior = 0.2803367127570322 alpha = 0.46524419275411205\n",
      "R2: 0.3607300875123173\n",
      "BIC: -359.6504323329573\n",
      "AIC: -364.6500516736178\n",
      "====================================================================================================\n",
      "Subject 4\n",
      "PID 610bb05be2e705f3e47e87fb\n",
      "Best parameter estimates: prior = 0.40290552441304955 alpha = 0.10257833777846974\n",
      "R2: 0.00600133108181744\n",
      "BIC: -224.4237011490814\n",
      "AIC: -229.42332048974194\n",
      "====================================================================================================\n",
      "Subject 5\n",
      "PID 610824959b488e57fa8a4a33\n",
      "Best parameter estimates: prior = 0.027984016899524518 alpha = 0.4895875097303528\n",
      "R2: 0.23355624359138316\n",
      "BIC: -297.82741057752094\n",
      "AIC: -302.82702991818144\n",
      "====================================================================================================\n",
      "Subject 6\n",
      "PID 60f0937892bd49086d6e2a77\n",
      "Best parameter estimates: prior = 0.2224312648212333 alpha = 0.5549507454825762\n",
      "R2: 0.3465443524896593\n",
      "BIC: -325.08119869755217\n",
      "AIC: -330.0808180382127\n",
      "====================================================================================================\n",
      "Subject 7\n",
      "PID 5cf656e90acc8f000147f643\n",
      "Best parameter estimates: prior = 0.04073292225791737 alpha = 0.40649297403613044\n",
      "R2: 0.1996461651854381\n",
      "BIC: -313.8335472533489\n",
      "AIC: -318.8331665940094\n",
      "====================================================================================================\n",
      "Subject 8\n",
      "PID 5fe292a28fd71dea34d04453\n",
      "Best parameter estimates: prior = 0.19860821427623568 alpha = 0.6121737816625328\n",
      "R2: 0.19186965043860216\n",
      "BIC: -226.2868056324026\n",
      "AIC: -231.28642497306313\n",
      "====================================================================================================\n",
      "Subject 9\n",
      "PID 5d341b57a48ae7000114152a\n",
      "Best parameter estimates: prior = 0.18299581221187247 alpha = 0.8102650025690089\n",
      "R2: 0.29816384900579873\n",
      "BIC: -228.88401894963548\n",
      "AIC: -233.883638290296\n",
      "====================================================================================================\n"
     ]
    }
   ],
   "source": [
    "for i, uuid in enumerate(uuids):\n",
    "    print(\"Subject\", i)\n",
    "    print(\"PID\", uuid)\n",
    "    \n",
    "    if uuid in r012:\n",
    "        trials = process_trials_from_file(pd.concat([r0, r1, r2]).reset_index(), 7)\n",
    "    elif uuid in r345:\n",
    "        trials = process_trials_from_file(pd.concat([r3, r4, r5]).reset_index(), 7)\n",
    "    elif uuid in r678:\n",
    "        trials = process_trials_from_file(pd.concat([r6, r7, r8]).reset_index(), 7)\n",
    "    elif uuid in r91011:\n",
    "        trials = process_trials_from_file(pd.concat([r9, r10, r11]).reset_index(), 7)\n",
    "    else:\n",
    "        print('no applicable subject condition found')\n",
    "        continue\n",
    "    \n",
    "    hrs = [ratings[uuid][key] for key in ratings[uuid].keys()]\n",
    "    skopt_fit_single_model_single_response(hrs, trials, param_search_space, 'normed_signed_colour_count')"
   ]
  },
  {
   "cell_type": "code",
   "execution_count": 10,
   "metadata": {},
   "outputs": [
    {
     "name": "stdout",
     "output_type": "stream",
     "text": [
      "Subject 0\n",
      "PID 61005d2e9b8bac27eba5b984\n",
      "Best parameter estimates: prior = 0.19351808082710797 alpha = 0.8335120672166778\n",
      "R2: 0.2811314436930631\n",
      "BIC: -220.52552340926266\n",
      "AIC: -225.5251427499232\n",
      "====================================================================================================\n",
      "Subject 1\n",
      "PID 610995bd91de0e899effd73d\n",
      "Best parameter estimates: prior = 0.15755904258576234 alpha = 0.41276591406578306\n",
      "R2: 0.2557195961591846\n",
      "BIC: -334.61248413381725\n",
      "AIC: -339.61210347447775\n",
      "====================================================================================================\n",
      "Subject 2\n",
      "PID 599186630675b100014daddd\n",
      "Best parameter estimates: prior = 0.46510588113741536 alpha = 0.060379334260679186\n",
      "R2: 0.023966405070565133\n",
      "BIC: -452.63079781249087\n",
      "AIC: -457.63041715315137\n",
      "====================================================================================================\n",
      "Subject 3\n",
      "PID 6119884fd696463d717432c9\n",
      "Best parameter estimates: prior = 0.30632795500941107 alpha = 0.43318839980234836\n",
      "R2: 0.2894643473244881\n",
      "BIC: -350.13811970575\n",
      "AIC: -355.13773904641056\n",
      "====================================================================================================\n",
      "Subject 4\n",
      "PID 610bb05be2e705f3e47e87fb\n",
      "Best parameter estimates: prior = 0.44624780863696345 alpha = 0.0\n",
      "R2: -3.1263033495321224e-08\n",
      "BIC: -223.88195130554055\n",
      "AIC: -228.88157064620108\n",
      "====================================================================================================\n",
      "Subject 5\n",
      "PID 610824959b488e57fa8a4a33\n",
      "Best parameter estimates: prior = 0.10271343502461742 alpha = 0.4117609318695986\n",
      "R2: 0.16005845989491052\n",
      "BIC: -289.5860227518675\n",
      "AIC: -294.5856420925281\n",
      "====================================================================================================\n",
      "Subject 6\n",
      "PID 60f0937892bd49086d6e2a77\n",
      "Best parameter estimates: prior = 0.33971648589617826 alpha = 0.36757666954258533\n",
      "R2: 0.1460531135799079\n",
      "BIC: -300.99770842550197\n",
      "AIC: -305.99732776616247\n",
      "====================================================================================================\n",
      "Subject 7\n",
      "PID 5cf656e90acc8f000147f643\n",
      "Best parameter estimates: prior = 0.147647487984709 alpha = 0.20352815587017448\n",
      "R2: 0.047992382222092456\n",
      "BIC: -298.2168270632143\n",
      "AIC: -303.2164464038748\n",
      "====================================================================================================\n",
      "Subject 8\n",
      "PID 5fe292a28fd71dea34d04453\n",
      "Best parameter estimates: prior = 0.26099102936252044 alpha = 0.3940823534753263\n",
      "R2: 0.06111754919708068\n",
      "BIC: -212.7897831353355\n",
      "AIC: -217.78940247599604\n",
      "====================================================================================================\n",
      "Subject 9\n",
      "PID 5d341b57a48ae7000114152a\n",
      "Best parameter estimates: prior = 0.25191780551072274 alpha = 0.5739720630863323\n",
      "R2: 0.11582816368408555\n",
      "BIC: -208.09838799250826\n",
      "AIC: -213.0980073331688\n",
      "====================================================================================================\n"
     ]
    }
   ],
   "source": [
    "for i, uuid in enumerate(uuids):\n",
    "    print(\"Subject\", i)\n",
    "    print(\"PID\", uuid)\n",
    "    \n",
    "    if uuid in r012:\n",
    "        trials = process_trials(pd.concat([r0, r1, r2]).reset_index(), 7)\n",
    "    elif uuid in r345:\n",
    "        trials = process_trials(pd.concat([r3, r4, r5]).reset_index(), 7)\n",
    "    elif uuid in r678:\n",
    "        trials = process_trials(pd.concat([r6, r7, r8]).reset_index(), 7)\n",
    "    elif uuid in r91011:\n",
    "        trials = process_trials(pd.concat([r9, r10, r11]).reset_index(), 7)\n",
    "    else:\n",
    "        print('no applicable subject condition found')\n",
    "        continue\n",
    "    \n",
    "    hrs = [ratings[uuid][key] for key in ratings[uuid].keys()]\n",
    "    skopt_fit_single_model_single_response(hrs, trials, param_search_space, 'normed_unsigned_colour_count')"
   ]
  },
  {
   "cell_type": "code",
   "execution_count": 11,
   "metadata": {},
   "outputs": [
    {
     "name": "stdout",
     "output_type": "stream",
     "text": [
      "Subject 0\n",
      "PID 61005d2e9b8bac27eba5b984\n",
      "Best parameter estimates: prior = 0.0 alpha = 0.7442324558917529\n",
      "R2: 0.6006852646782991\n",
      "BIC: -273.4390983220312\n",
      "AIC: -278.4387176626917\n",
      "====================================================================================================\n",
      "Subject 1\n",
      "PID 610995bd91de0e899effd73d\n",
      "Best parameter estimates: prior = 0.10688682710624273 alpha = 0.30079620180371414\n",
      "R2: 0.3421938336695377\n",
      "BIC: -345.7281629883987\n",
      "AIC: -350.72778232905927\n",
      "====================================================================================================\n",
      "Subject 2\n",
      "PID 599186630675b100014daddd\n",
      "Best parameter estimates: prior = 0.4788580588040128 alpha = 0.0010961348235704203\n",
      "R2: -2.939763708442733e-05\n",
      "BIC: -450.44490757259643\n",
      "AIC: -455.44452691325694\n",
      "====================================================================================================\n",
      "Subject 3\n",
      "PID 6119884fd696463d717432c9\n",
      "Best parameter estimates: prior = 0.18418045294396307 alpha = 0.3307064018600721\n",
      "R2: 0.27990343785596417\n",
      "BIC: -348.93516250402877\n",
      "AIC: -353.9347818446893\n",
      "====================================================================================================\n",
      "Subject 4\n",
      "PID 610bb05be2e705f3e47e87fb\n",
      "Best parameter estimates: prior = 0.41517402937484504 alpha = 0.05202389192561799\n",
      "R2: 0.003930576591522739\n",
      "BIC: -224.23640306404863\n",
      "AIC: -229.23602240470916\n",
      "====================================================================================================\n",
      "Subject 5\n",
      "PID 610824959b488e57fa8a4a33\n",
      "Best parameter estimates: prior = 0.05209296034778658 alpha = 0.3013022384790594\n",
      "R2: 0.22486293417222136\n",
      "BIC: -296.8123406827533\n",
      "AIC: -301.81196002341386\n",
      "====================================================================================================\n",
      "Subject 6\n",
      "PID 60f0937892bd49086d6e2a77\n",
      "Best parameter estimates: prior = 0.2498234974733111 alpha = 0.3416156167790626\n",
      "R2: 0.332091096884749\n",
      "BIC: -323.1122569935702\n",
      "AIC: -328.1118763342308\n",
      "====================================================================================================\n",
      "Subject 7\n",
      "PID 5cf656e90acc8f000147f643\n",
      "Best parameter estimates: prior = 0.0 alpha = 0.35769788309649264\n",
      "R2: 0.4474126625155649\n",
      "BIC: -347.17336555817735\n",
      "AIC: -352.1729848988379\n",
      "====================================================================================================\n",
      "Subject 8\n",
      "PID 5fe292a28fd71dea34d04453\n",
      "Best parameter estimates: prior = 0.0 alpha = 0.6010570467134754\n",
      "R2: 0.6078819265724855\n",
      "BIC: -291.37123866822117\n",
      "AIC: -296.3708580088817\n",
      "====================================================================================================\n",
      "Subject 9\n",
      "PID 5d341b57a48ae7000114152a\n",
      "Best parameter estimates: prior = 0.0 alpha = 0.6679072520798593\n",
      "R2: 0.6755394818383444\n",
      "BIC: -298.3222692692956\n",
      "AIC: -303.3218886099561\n",
      "====================================================================================================\n"
     ]
    }
   ],
   "source": [
    "for i, uuid in enumerate(uuids):\n",
    "    print(\"Subject\", i)\n",
    "    print(\"PID\", uuid)\n",
    "    \n",
    "    if uuid in r012:\n",
    "        trials = process_trials(pd.concat([r0, r1, r2]).reset_index(), 7)\n",
    "    elif uuid in r345:\n",
    "        trials = process_trials(pd.concat([r3, r4, r5]).reset_index(), 7)\n",
    "    elif uuid in r678:\n",
    "        trials = process_trials(pd.concat([r6, r7, r8]).reset_index(), 7)\n",
    "    elif uuid in r91011:\n",
    "        trials = process_trials(pd.concat([r9, r10, r11]).reset_index(), 7)\n",
    "    else:\n",
    "        print('no applicable subject condition found')\n",
    "        continue\n",
    "    \n",
    "    hrs = [ratings[uuid][key] for key in ratings[uuid].keys()]\n",
    "    skopt_fit_single_model_single_response(hrs, trials, param_search_space, 'normed_signed_e_v')"
   ]
  },
  {
   "cell_type": "code",
   "execution_count": 12,
   "metadata": {},
   "outputs": [
    {
     "name": "stdout",
     "output_type": "stream",
     "text": [
      "Subject 0\n",
      "PID 61005d2e9b8bac27eba5b984\n",
      "Best parameter estimates: prior = 0.0 alpha = 0.6987151584522785\n",
      "R2: 0.42892668307895987\n",
      "BIC: -241.24000657723937\n",
      "AIC: -246.2396259178999\n",
      "====================================================================================================\n",
      "Subject 1\n",
      "PID 610995bd91de0e899effd73d\n",
      "Best parameter estimates: prior = 0.059926593732596865 alpha = 0.33818793008390047\n",
      "R2: 0.24655109818756027\n",
      "BIC: -333.5105825792914\n",
      "AIC: -338.5102019199519\n",
      "====================================================================================================\n",
      "Subject 2\n",
      "PID 599186630675b100014daddd\n",
      "Best parameter estimates: prior = 0.4795211854918859 alpha = 2.3249499682776954e-17\n",
      "R2: -1.9385270191296655e-06\n",
      "BIC: -450.4473788537822\n",
      "AIC: -455.4469981944427\n",
      "====================================================================================================\n",
      "Subject 3\n",
      "PID 6119884fd696463d717432c9\n",
      "Best parameter estimates: prior = 0.23222608523972604 alpha = 0.28892872531975045\n",
      "R2: 0.2244096980612682\n",
      "BIC: -342.25364330271634\n",
      "AIC: -347.2532626433769\n",
      "====================================================================================================\n",
      "Subject 4\n",
      "PID 610bb05be2e705f3e47e87fb\n",
      "Best parameter estimates: prior = 0.4231060861429253 alpha = 0.034197204430503274\n",
      "R2: 0.0010497763725002551\n",
      "BIC: -223.97648361884194\n",
      "AIC: -228.97610295950247\n",
      "====================================================================================================\n",
      "Subject 5\n",
      "PID 610824959b488e57fa8a4a33\n",
      "Best parameter estimates: prior = 0.17090527835290395 alpha = 0.09487733414917897\n",
      "R2: 0.012651508624800245\n",
      "BIC: -275.0338539697076\n",
      "AIC: -280.0334733103681\n",
      "====================================================================================================\n",
      "Subject 6\n",
      "PID 60f0937892bd49086d6e2a77\n",
      "Best parameter estimates: prior = 0.30126730836721366 alpha = 0.23184443011688222\n",
      "R2: 0.09349277111619558\n",
      "BIC: -295.6220078228936\n",
      "AIC: -300.62162716355414\n",
      "====================================================================================================\n",
      "Subject 7\n",
      "PID 5cf656e90acc8f000147f643\n",
      "Best parameter estimates: prior = 0.05896670773748658 alpha = 0.22916651160508641\n",
      "R2: 0.10059029067541492\n",
      "BIC: -303.3319200944063\n",
      "AIC: -308.3315394350668\n",
      "====================================================================================================\n",
      "Subject 8\n",
      "PID 5fe292a28fd71dea34d04453\n",
      "Best parameter estimates: prior = 0.0 alpha = 0.5646594210631648\n",
      "R2: 0.2908963209159894\n",
      "BIC: -238.0517514812404\n",
      "AIC: -243.05137082190092\n",
      "====================================================================================================\n",
      "Subject 9\n",
      "PID 5d341b57a48ae7000114152a\n",
      "Best parameter estimates: prior = 0.0 alpha = 0.6155740360518972\n",
      "R2: 0.25084085640764475\n",
      "BIC: -223.01138736397368\n",
      "AIC: -228.0110067046342\n",
      "====================================================================================================\n"
     ]
    }
   ],
   "source": [
    "for i, uuid in enumerate(uuids):\n",
    "    print(\"Subject\", i)\n",
    "    print(\"PID\", uuid)\n",
    "    \n",
    "    if uuid in r012:\n",
    "        trials = process_trials(pd.concat([r0, r1, r2]).reset_index(), 7)\n",
    "    elif uuid in r345:\n",
    "        trials = process_trials(pd.concat([r3, r4, r5]).reset_index(), 7)\n",
    "    elif uuid in r678:\n",
    "        trials = process_trials(pd.concat([r6, r7, r8]).reset_index(), 7)\n",
    "    elif uuid in r91011:\n",
    "        trials = process_trials(pd.concat([r9, r10, r11]).reset_index(), 7)\n",
    "    else:\n",
    "        print('no applicable subject condition found')\n",
    "        continue\n",
    "    \n",
    "    hrs = [ratings[uuid][key] for key in ratings[uuid].keys()]\n",
    "    skopt_fit_single_model_single_response(hrs, trials, param_search_space, 'normed_unsigned_e_v')"
   ]
  },
  {
   "cell_type": "code",
   "execution_count": 13,
   "metadata": {},
   "outputs": [
    {
     "name": "stdout",
     "output_type": "stream",
     "text": [
      "Subject 0\n",
      "PID 61005d2e9b8bac27eba5b984\n",
      "Best parameter estimates: prior = 0.5074321206900408 alpha = 0.0\n",
      "R2: -5.624485321931161e-09\n",
      "BIC: -190.81861517196748\n",
      "AIC: -195.818234512628\n",
      "====================================================================================================\n",
      "Subject 1\n",
      "PID 610995bd91de0e899effd73d\n",
      "Best parameter estimates: prior = 0.31303431848723884 alpha = 0.0\n",
      "R2: -1.7246059846875994e-07\n",
      "BIC: -308.03210006804215\n",
      "AIC: -313.0317194087027\n",
      "====================================================================================================\n",
      "Subject 2\n",
      "PID 599186630675b100014daddd\n",
      "Best parameter estimates: prior = 0.44889795313013736 alpha = 0.07378956533841419\n",
      "R2: 0.0808926041537481\n",
      "BIC: -458.0392604844153\n",
      "AIC: -463.03887982507587\n",
      "====================================================================================================\n",
      "Subject 3\n",
      "PID 6119884fd696463d717432c9\n",
      "Best parameter estimates: prior = 0.2973787257020645 alpha = 0.26798938900776553\n",
      "R2: 0.24299884202719757\n",
      "BIC: -344.4370105625536\n",
      "AIC: -349.43662990321417\n",
      "====================================================================================================\n",
      "Subject 4\n",
      "PID 610bb05be2e705f3e47e87fb\n",
      "Best parameter estimates: prior = 0.42989751516481156 alpha = 0.04308546869506887\n",
      "R2: 0.002710540209599932\n",
      "BIC: -224.12623395299744\n",
      "AIC: -229.12585329365797\n",
      "====================================================================================================\n",
      "Subject 5\n",
      "PID 610824959b488e57fa8a4a33\n",
      "Best parameter estimates: prior = 0.23449768690654374 alpha = 0.0027253667645980436\n",
      "R2: -1.7494736400669453e-05\n",
      "BIC: -273.8863796181986\n",
      "AIC: -278.88599895885915\n",
      "====================================================================================================\n",
      "Subject 6\n",
      "PID 60f0937892bd49086d6e2a77\n",
      "Best parameter estimates: prior = 0.423472958204588 alpha = 0.08915021625547087\n",
      "R2: 0.02334708713667777\n",
      "BIC: -288.9140984659084\n",
      "AIC: -293.91371780656897\n",
      "====================================================================================================\n",
      "Subject 7\n",
      "PID 5cf656e90acc8f000147f643\n",
      "Best parameter estimates: prior = 0.11751682815217782 alpha = 0.2521098641826804\n",
      "R2: 0.20326539143445344\n",
      "BIC: -314.2414531790946\n",
      "AIC: -319.2410725197551\n",
      "====================================================================================================\n",
      "Subject 8\n",
      "PID 5fe292a28fd71dea34d04453\n",
      "Best parameter estimates: prior = 0.2899139514556591 alpha = 0.16320276690315474\n",
      "R2: 0.02068931494708348\n",
      "BIC: -208.9955041207652\n",
      "AIC: -213.99512346142572\n",
      "====================================================================================================\n",
      "Subject 9\n",
      "PID 5d341b57a48ae7000114152a\n",
      "Best parameter estimates: prior = 0.2663469518103762 alpha = 0.29327656492857174\n",
      "R2: 0.060409732260131466\n",
      "BIC: -202.62706604034057\n",
      "AIC: -207.6266853810011\n",
      "====================================================================================================\n"
     ]
    }
   ],
   "source": [
    "for i, uuid in enumerate(uuids):\n",
    "    print(\"Subject\", i)\n",
    "    print(\"PID\", uuid)\n",
    "    \n",
    "    if uuid in r012:\n",
    "        trials = process_trials(pd.concat([r0, r1, r2]).reset_index(), 7)\n",
    "    elif uuid in r345:\n",
    "        trials = process_trials(pd.concat([r3, r4, r5]).reset_index(), 7)\n",
    "    elif uuid in r678:\n",
    "        trials = process_trials(pd.concat([r6, r7, r8]).reset_index(), 7)\n",
    "    elif uuid in r91011:\n",
    "        trials = process_trials(pd.concat([r9, r10, r11]).reset_index(), 7)\n",
    "    else:\n",
    "        print('no applicable subject condition found')\n",
    "        continue\n",
    "    \n",
    "    hrs = [ratings[uuid][key] for key in ratings[uuid].keys()]\n",
    "    skopt_fit_single_model_single_response(hrs, trials, param_search_space, 'normed_cs_signed_e_v')"
   ]
  },
  {
   "cell_type": "code",
   "execution_count": 14,
   "metadata": {},
   "outputs": [
    {
     "name": "stdout",
     "output_type": "stream",
     "text": [
      "Subject 0\n",
      "PID 61005d2e9b8bac27eba5b984\n",
      "Best parameter estimates: prior = 0.5074005784843073 alpha = 0.0\n",
      "R2: -4.294629096790459e-10\n",
      "BIC: -190.8186156395195\n",
      "AIC: -195.81823498018002\n",
      "====================================================================================================\n",
      "Subject 1\n",
      "PID 610995bd91de0e899effd73d\n",
      "Best parameter estimates: prior = 0.31292786555021446 alpha = 0.0\n",
      "R2: -4.1723936528015315e-08\n",
      "BIC: -308.0321118343404\n",
      "AIC: -313.03173117500097\n",
      "====================================================================================================\n",
      "Subject 2\n",
      "PID 599186630675b100014daddd\n",
      "Best parameter estimates: prior = 0.4418667955962999 alpha = 0.08122415201363717\n",
      "R2: 0.09802881369445171\n",
      "BIC: -459.73309665032093\n",
      "AIC: -464.7327159909815\n",
      "====================================================================================================\n",
      "Subject 3\n",
      "PID 6119884fd696463d717432c9\n",
      "Best parameter estimates: prior = 0.2909997716798174 alpha = 0.25384169756189806\n",
      "R2: 0.21544090980912034\n",
      "BIC: -341.218870813938\n",
      "AIC: -346.2184901545985\n",
      "====================================================================================================\n",
      "Subject 4\n",
      "PID 610bb05be2e705f3e47e87fb\n",
      "Best parameter estimates: prior = 0.4174043841941226 alpha = 0.057543649001272165\n",
      "R2: 0.003376049307742379\n",
      "BIC: -224.18631261111977\n",
      "AIC: -229.1859319517803\n",
      "====================================================================================================\n",
      "Subject 5\n",
      "PID 610824959b488e57fa8a4a33\n",
      "Best parameter estimates: prior = 0.23161898494087452 alpha = 0.0065773037099697415\n",
      "R2: 6.121430749406187e-05\n",
      "BIC: -273.89346358700686\n",
      "AIC: -278.89308292766736\n",
      "====================================================================================================\n",
      "Subject 6\n",
      "PID 60f0937892bd49086d6e2a77\n",
      "Best parameter estimates: prior = 0.4311357793266429 alpha = 0.05247202720715271\n",
      "R2: 0.0056750846755535544\n",
      "BIC: -287.3001555580081\n",
      "AIC: -292.2997748986686\n",
      "====================================================================================================\n",
      "Subject 7\n",
      "PID 5cf656e90acc8f000147f643\n",
      "Best parameter estimates: prior = 0.06945473223019426 alpha = 0.2878895827236395\n",
      "R2: 0.18417761617855188\n",
      "BIC: -312.1107005649177\n",
      "AIC: -317.1103199055782\n",
      "====================================================================================================\n",
      "Subject 8\n",
      "PID 5fe292a28fd71dea34d04453\n",
      "Best parameter estimates: prior = 0.30179861852660506 alpha = 0.1312030095685969\n",
      "R2: 0.01464790318350273\n",
      "BIC: -208.4419956229698\n",
      "AIC: -213.44161496363034\n",
      "====================================================================================================\n",
      "Subject 9\n",
      "PID 5d341b57a48ae7000114152a\n",
      "Best parameter estimates: prior = 0.2825239348403598 alpha = 0.2480505115826772\n",
      "R2: 0.045444729340105905\n",
      "BIC: -201.2049173614614\n",
      "AIC: -206.20453670212194\n",
      "====================================================================================================\n"
     ]
    }
   ],
   "source": [
    "for i, uuid in enumerate(uuids):\n",
    "    print(\"Subject\", i)\n",
    "    print(\"PID\", uuid)\n",
    "    \n",
    "    if uuid in r012:\n",
    "        trials = process_trials(pd.concat([r0, r1, r2]).reset_index(), 7)\n",
    "    elif uuid in r345:\n",
    "        trials = process_trials(pd.concat([r3, r4, r5]).reset_index(), 7)\n",
    "    elif uuid in r678:\n",
    "        trials = process_trials(pd.concat([r6, r7, r8]).reset_index(), 7)\n",
    "    elif uuid in r91011:\n",
    "        trials = process_trials(pd.concat([r9, r10, r11]).reset_index(), 7)\n",
    "    else:\n",
    "        print('no applicable subject condition found')\n",
    "        continue\n",
    "    \n",
    "    hrs = [ratings[uuid][key] for key in ratings[uuid].keys()]\n",
    "    skopt_fit_single_model_single_response(hrs, trials, param_search_space, 'normed_cs_unsigned_e_v')"
   ]
  },
  {
   "cell_type": "code",
   "execution_count": 15,
   "metadata": {},
   "outputs": [],
   "source": [
    "def objective_weighted(params, response, trials, stat1: str, stat2: str):\n",
    "    pred = params[0] + params[1] * trials[stat1] + params[2] * trials[stat2]\n",
    "    ss_res = np.sum((response-pred)**2)\n",
    "    return ss_res"
   ]
  },
  {
   "cell_type": "code",
   "execution_count": 19,
   "metadata": {},
   "outputs": [],
   "source": [
    "def skopt_fit_weighted_model_single_response(response, trials, param_search_space, stat1: str, stat2: str):\n",
    "    ss_tot = np.sum((response - np.mean(response)) ** 2)\n",
    "    gp_result = gp_minimize(partial(objective_weighted, response=response, trials=trials, stat1=stat1, stat2=stat2), param_search_space, random_state=42)\n",
    "    optimal_ss_res = gp_result.fun\n",
    "    \n",
    "    print(\"Best parameter estimates: prior =\", gp_result.x[0], \"alpha 1 =\", gp_result.x[1], \"alpha 2 =\", gp_result.x[2])\n",
    "    print(\"R2:\", 1 - np.divide(optimal_ss_res, ss_tot))\n",
    "    \n",
    "    pred = gp_result.x[0] + gp_result.x[1] * trials[stat1] + gp_result.x[2] * trials[stat2]\n",
    "    \n",
    "    mse = mean_squared_error(response, pred)\n",
    "    bic = calculate_bic(len(response), mse, len(param_search_space))\n",
    "    aic = calculate_aic(len(response), mse, len(param_search_space))\n",
    "    \n",
    "    print(\"BIC:\", bic)\n",
    "    print(\"AIC:\", aic)\n",
    "    print(\"=\" * 100)"
   ]
  },
  {
   "cell_type": "code",
   "execution_count": 17,
   "metadata": {},
   "outputs": [],
   "source": [
    "param_search_space = [Real(0, 1, name='prior'), Real(0, 1, name='alpha1'), Real(0, 1, name='alpha2'), Real(0, 1, name='weight')]"
   ]
  },
  {
   "cell_type": "code",
   "execution_count": 33,
   "metadata": {},
   "outputs": [
    {
     "name": "stdout",
     "output_type": "stream",
     "text": [
      "Subject 0\n",
      "PID 61005d2e9b8bac27eba5b984\n",
      "Best parameter estimates: prior = 0.0 alpha 1 = 0.4636057950575447 alpha 2 = 0.4873338072358108\n",
      "R2: 0.6673697051492382\n",
      "BIC: -280.8841231664032\n",
      "AIC: -290.88336184772425\n",
      "====================================================================================================\n",
      "Subject 1\n",
      "PID 610995bd91de0e899effd73d\n",
      "Best parameter estimates: prior = 0.09808772627055168 alpha 1 = 0.17376985168181344 alpha 2 = 0.24087623337382516\n",
      "R2: 0.40351976936178613\n",
      "BIC: -345.53632247219633\n",
      "AIC: -355.5355611535174\n",
      "====================================================================================================\n",
      "Subject 2\n",
      "PID 599186630675b100014daddd\n",
      "Best parameter estimates: prior = 0.4668391891828691 alpha 1 = 0.0 alpha 2 = 0.04973187013787431\n",
      "R2: 0.017198470660135023\n",
      "BIC: -443.0092613812152\n",
      "AIC: -453.00850006253626\n",
      "====================================================================================================\n",
      "Subject 3\n",
      "PID 6119884fd696463d717432c9\n",
      "Best parameter estimates: prior = 0.1943197415157179 alpha 1 = 0.1799577864634042 alpha 2 = 0.33815145195043\n",
      "R2: 0.4208980476826155\n",
      "BIC: -359.5471526059922\n",
      "AIC: -369.54639128731327\n",
      "====================================================================================================\n",
      "Subject 4\n",
      "PID 610bb05be2e705f3e47e87fb\n",
      "Best parameter estimates: prior = 0.399203937810456 alpha 1 = 0.022761114522282366 alpha 2 = 0.08145932436281415\n",
      "R2: 0.006236733792772453\n",
      "BIC: -215.44539848997172\n",
      "AIC: -225.44463717129278\n",
      "====================================================================================================\n",
      "Subject 5\n",
      "PID 610824959b488e57fa8a4a33\n",
      "Best parameter estimates: prior = 1.968575212189188e-13 alpha 1 = 0.1765868112899855 alpha 2 = 0.303346367680149\n",
      "R2: 0.27843175124113373\n",
      "BIC: -294.25788290311215\n",
      "AIC: -304.2571215844332\n",
      "====================================================================================================\n",
      "Subject 6\n",
      "PID 60f0937892bd49086d6e2a77\n",
      "Best parameter estimates: prior = 0.18653077376566515 alpha 1 = 0.19957098581954144 alpha 2 = 0.3528161384788264\n",
      "R2: 0.4122429957864284\n",
      "BIC: -325.61807451092994\n",
      "AIC: -335.617313192251\n",
      "====================================================================================================\n",
      "Subject 7\n",
      "PID 5cf656e90acc8f000147f643\n",
      "Best parameter estimates: prior = 0.0 alpha 1 = 0.35737472561929334 alpha 2 = 0.0\n",
      "R2: 0.4474114205729115\n",
      "BIC: -338.17354394231864\n",
      "AIC: -348.1727826236397\n",
      "====================================================================================================\n",
      "Subject 8\n",
      "PID 5fe292a28fd71dea34d04453\n",
      "Best parameter estimates: prior = 0.0 alpha 1 = 0.600986729109515 alpha 2 = 0.0\n",
      "R2: 0.6078819804690117\n",
      "BIC: -282.3716316980379\n",
      "AIC: -292.37087037935896\n",
      "====================================================================================================\n",
      "Subject 9\n",
      "PID 5d341b57a48ae7000114152a\n",
      "Best parameter estimates: prior = 0.0 alpha 1 = 0.5964994705525196 alpha 2 = 0.17215186196145776\n",
      "R2: 0.6856914316410605\n",
      "BIC: -292.1836287728836\n",
      "AIC: -302.18286745420465\n",
      "====================================================================================================\n"
     ]
    }
   ],
   "source": [
    "for i, uuid in enumerate(uuids):\n",
    "    print(\"Subject\", i)\n",
    "    print(\"PID\", uuid)\n",
    "    \n",
    "    if uuid in r012:\n",
    "        trials = process_trials(pd.concat([r0, r1, r2]).reset_index(), 7)\n",
    "    elif uuid in r345:\n",
    "        trials = process_trials(pd.concat([r3, r4, r5]).reset_index(), 7)\n",
    "    elif uuid in r678:\n",
    "        trials = process_trials(pd.concat([r6, r7, r8]).reset_index(), 7)\n",
    "    elif uuid in r91011:\n",
    "        trials = process_trials(pd.concat([r9, r10, r11]).reset_index(), 7)\n",
    "    else:\n",
    "        print('no applicable subject condition found')\n",
    "        continue\n",
    "    \n",
    "    hrs = [ratings[uuid][key] for key in ratings[uuid].keys()]\n",
    "    skopt_fit_weighted_model_single_response(hrs, trials, param_search_space, 'normed_signed_e_v', 'normed_signed_colour_count')"
   ]
  },
  {
   "cell_type": "markdown",
   "metadata": {},
   "source": [
    "## Inspect some responses"
   ]
  },
  {
   "cell_type": "code",
   "execution_count": 68,
   "metadata": {},
   "outputs": [],
   "source": [
    "tmp = [ratings['5d341b57a48ae7000114152a'][key] for key in ratings['5d341b57a48ae7000114152a'].keys()]"
   ]
  },
  {
   "cell_type": "code",
   "execution_count": 69,
   "metadata": {},
   "outputs": [],
   "source": [
    "trials = process_trials(pd.concat([r9, r10, r11]).reset_index(), 7)"
   ]
  },
  {
   "cell_type": "code",
   "execution_count": 73,
   "metadata": {},
   "outputs": [
    {
     "data": {
      "image/png": "[encoded data removed]",
      "text/plain": [
       "<Figure size 1152x504 with 1 Axes>"
      ]
     },
     "metadata": {},
     "output_type": "display_data"
    }
   ],
   "source": [
    "import seaborn as sns\n",
    "\n",
    "from matplotlib import ticker\n",
    "\n",
    "sns.set(rc={'figure.figsize':(16,7)})\n",
    "\n",
    "sns.lineplot(data=trials.normed_signed_e_v * 0.67)\n",
    "s2 = sns.lineplot(data=tmp)\n",
    "s2.xaxis.set_major_locator(ticker.MultipleLocator(5))"
   ]
  },
  {
   "cell_type": "code",
   "execution_count": 43,
   "metadata": {},
   "outputs": [
    {
     "data": {
      "text/plain": [
       "9"
      ]
     },
     "execution_count": 43,
     "metadata": {},
     "output_type": "execute_result"
    }
   ],
   "source": [
    "max(trials.n_consec_colour)"
   ]
  },
  {
   "cell_type": "code",
   "execution_count": 44,
   "metadata": {},
   "outputs": [
    {
     "data": {
      "text/plain": [
       "5"
      ]
     },
     "execution_count": 44,
     "metadata": {},
     "output_type": "execute_result"
    }
   ],
   "source": [
    "max(process_trials(r0, 7).n_consec_colour)"
   ]
  },
  {
   "cell_type": "code",
   "execution_count": 45,
   "metadata": {},
   "outputs": [
    {
     "data": {
      "text/plain": [
       "7"
      ]
     },
     "execution_count": 45,
     "metadata": {},
     "output_type": "execute_result"
    }
   ],
   "source": [
    "max(process_trials(r1, 7).n_consec_colour)"
   ]
  },
  {
   "cell_type": "code",
   "execution_count": 46,
   "metadata": {},
   "outputs": [
    {
     "data": {
      "text/plain": [
       "16"
      ]
     },
     "execution_count": 46,
     "metadata": {},
     "output_type": "execute_result"
    }
   ],
   "source": [
    "max(process_trials(r2, 7).n_consec_colour)"
   ]
  },
  {
   "cell_type": "code",
   "execution_count": 47,
   "metadata": {},
   "outputs": [
    {
     "data": {
      "text/plain": [
       "9"
      ]
     },
     "execution_count": 47,
     "metadata": {},
     "output_type": "execute_result"
    }
   ],
   "source": [
    "max(process_trials(r3, 7).n_consec_colour)"
   ]
  },
  {
   "cell_type": "code",
   "execution_count": 48,
   "metadata": {},
   "outputs": [
    {
     "data": {
      "text/plain": [
       "9"
      ]
     },
     "execution_count": 48,
     "metadata": {},
     "output_type": "execute_result"
    }
   ],
   "source": [
    "max(process_trials(r4, 7).n_consec_colour)"
   ]
  },
  {
   "cell_type": "code",
   "execution_count": 49,
   "metadata": {},
   "outputs": [
    {
     "data": {
      "text/plain": [
       "7"
      ]
     },
     "execution_count": 49,
     "metadata": {},
     "output_type": "execute_result"
    }
   ],
   "source": [
    "max(process_trials(r5, 7).n_consec_colour)"
   ]
  },
  {
   "cell_type": "code",
   "execution_count": 50,
   "metadata": {},
   "outputs": [
    {
     "data": {
      "text/plain": [
       "5"
      ]
     },
     "execution_count": 50,
     "metadata": {},
     "output_type": "execute_result"
    }
   ],
   "source": [
    "max(process_trials(r6, 7).n_consec_colour)"
   ]
  },
  {
   "cell_type": "code",
   "execution_count": 51,
   "metadata": {},
   "outputs": [
    {
     "data": {
      "text/plain": [
       "7"
      ]
     },
     "execution_count": 51,
     "metadata": {},
     "output_type": "execute_result"
    }
   ],
   "source": [
    "max(process_trials(r7, 7).n_consec_colour)"
   ]
  },
  {
   "cell_type": "code",
   "execution_count": 52,
   "metadata": {},
   "outputs": [
    {
     "data": {
      "text/plain": [
       "9"
      ]
     },
     "execution_count": 52,
     "metadata": {},
     "output_type": "execute_result"
    }
   ],
   "source": [
    "max(process_trials(r8, 7).n_consec_colour)"
   ]
  },
  {
   "cell_type": "code",
   "execution_count": 53,
   "metadata": {},
   "outputs": [
    {
     "data": {
      "text/plain": [
       "8"
      ]
     },
     "execution_count": 53,
     "metadata": {},
     "output_type": "execute_result"
    }
   ],
   "source": [
    "max(process_trials(r9, 7).n_consec_colour)"
   ]
  },
  {
   "cell_type": "code",
   "execution_count": 54,
   "metadata": {},
   "outputs": [
    {
     "data": {
      "text/plain": [
       "5"
      ]
     },
     "execution_count": 54,
     "metadata": {},
     "output_type": "execute_result"
    }
   ],
   "source": [
    "max(process_trials(r10, 7).n_consec_colour)"
   ]
  },
  {
   "cell_type": "code",
   "execution_count": 55,
   "metadata": {},
   "outputs": [
    {
     "data": {
      "text/plain": [
       "13"
      ]
     },
     "execution_count": 55,
     "metadata": {},
     "output_type": "execute_result"
    }
   ],
   "source": [
    "max(process_trials(r11, 7).n_consec_colour)"
   ]
  },
  {
   "cell_type": "code",
   "execution_count": null,
   "metadata": {},
   "outputs": [],
   "source": []
  }
 ],
 "metadata": {
  "kernelspec": {
   "display_name": "Python 3",
   "language": "python",
   "name": "python3"
  },
  "language_info": {
   "codemirror_mode": {
    "name": "ipython",
    "version": 3
   },
   "file_extension": ".py",
   "mimetype": "text/x-python",
   "name": "python",
   "nbconvert_exporter": "python",
   "pygments_lexer": "ipython3",
   "version": "3.8.5"
  }
 },
 "nbformat": 4,
 "nbformat_minor": 4
}
