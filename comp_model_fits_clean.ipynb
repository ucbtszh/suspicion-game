{
 "cells": [
  {
   "cell_type": "code",
   "execution_count": 2,
   "metadata": {},
   "outputs": [],
   "source": [
    "import numpy as np\n",
    "import json\n",
    "import pandas as pd\n",
    "import matplotlib as plt\n",
    "import seaborn as sns\n",
    "\n",
    "from itertools import product\n",
    "from scipy.stats import spearmanr, pearsonr\n",
    "from functools import partial\n",
    "from skopt import gp_minimize\n",
    "from skopt.space import Real\n",
    "from sklearn.metrics import mean_squared_error"
   ]
  },
  {
   "cell_type": "code",
   "execution_count": 2,
   "metadata": {},
   "outputs": [],
   "source": [
    "import firebase_admin\n",
    "\n",
    "from firebase_admin import credentials\n",
    "from firebase_admin import firestore"
   ]
  },
  {
   "cell_type": "code",
   "execution_count": 3,
   "metadata": {},
   "outputs": [],
   "source": [
    "def calculate_aic(n, mse, num_params):\n",
    "    aic = n * np.log(mse) + 2 * num_params\n",
    "    return aic"
   ]
  },
  {
   "cell_type": "code",
   "execution_count": 4,
   "metadata": {},
   "outputs": [],
   "source": [
    "def calculate_bic(n, mse, num_params):\n",
    "    bic = n * np.log(mse) + num_params * np.log(n)\n",
    "    return bic"
   ]
  },
  {
   "cell_type": "markdown",
   "metadata": {},
   "source": [
    "### get trials info"
   ]
  },
  {
   "cell_type": "code",
   "execution_count": 5,
   "metadata": {},
   "outputs": [],
   "source": [
    "with open(\"C:/Users/Sarah Zheng/dev/cards-deception/cards-game/src/assets/trials_pilot2_roi_pseudorand1.json\", \"r\") as read_file:\n",
    "    trials_source = json.load(read_file)"
   ]
  },
  {
   "cell_type": "code",
   "execution_count": 6,
   "metadata": {},
   "outputs": [],
   "source": [
    "trials = pd.DataFrame(trials_source)"
   ]
  },
  {
   "cell_type": "code",
   "execution_count": 7,
   "metadata": {},
   "outputs": [],
   "source": [
    "trials['trial'] = trials.index + 1"
   ]
  },
  {
   "cell_type": "markdown",
   "metadata": {},
   "source": [
    "Add expectation violation levels"
   ]
  },
  {
   "cell_type": "code",
   "execution_count": 8,
   "metadata": {},
   "outputs": [],
   "source": [
    "n_cards = 7\n",
    "\n",
    "trials['n_blue'] = n_cards-trials['n_red']\n",
    "\n",
    "trials['e_v'] = np.where(trials['outcome'] == -1, trials['outcome'] - trials['outcome'] * (trials['n_red']/n_cards), \\\n",
    "                                   trials['outcome'] - trials['outcome'] * (n_cards-trials['n_red'])/n_cards)"
   ]
  },
  {
   "cell_type": "markdown",
   "metadata": {},
   "source": [
    "Add normalized signed and unsigned expectation violation values without update from previous trial"
   ]
  },
  {
   "cell_type": "code",
   "execution_count": 9,
   "metadata": {},
   "outputs": [],
   "source": [
    "def normalize(data):\n",
    "    return (data + abs(min(data)))/(abs(min(data)) + abs(max(data)))"
   ]
  },
  {
   "cell_type": "code",
   "execution_count": 10,
   "metadata": {},
   "outputs": [],
   "source": [
    "trials['normed_signed_e_v'] = normalize(trials['e_v'])"
   ]
  },
  {
   "cell_type": "code",
   "execution_count": 11,
   "metadata": {},
   "outputs": [],
   "source": [
    "trials['normed_unsigned_e_v'] = normalize(abs(trials['e_v']))"
   ]
  },
  {
   "cell_type": "markdown",
   "metadata": {},
   "source": [
    "Add opponent card colour report counts"
   ]
  },
  {
   "cell_type": "code",
   "execution_count": 12,
   "metadata": {},
   "outputs": [],
   "source": [
    "count_red = abs(trials.outcome[lambda x: x==-1].cumsum())\n",
    "count_blue = abs(trials.outcome[lambda x: x==1].cumsum())\n",
    "\n",
    "trials['n_reported_colour_opp'] = count_red.append(count_blue).sort_index()"
   ]
  },
  {
   "cell_type": "markdown",
   "metadata": {},
   "source": [
    "Add opponent card colour report tracker"
   ]
  },
  {
   "cell_type": "code",
   "execution_count": 13,
   "metadata": {},
   "outputs": [],
   "source": [
    "track_freq = [1] * len(trials)\n",
    "\n",
    "for i, outcome in enumerate(trials['outcome'].values):\n",
    "    if (i==0):\n",
    "        continue\n",
    "    if (i>0):\n",
    "        if (outcome != trials.outcome.values[i-1]):\n",
    "            continue\n",
    "        if (outcome == trials.outcome.values[i-1]):\n",
    "            track_freq[i] = track_freq[i-1] + 1"
   ]
  },
  {
   "cell_type": "code",
   "execution_count": 14,
   "metadata": {},
   "outputs": [],
   "source": [
    "trials['n_consec_colour'] = track_freq"
   ]
  },
  {
   "cell_type": "markdown",
   "metadata": {},
   "source": [
    "Convert signed tracker of consecutive colour reports to normalized values"
   ]
  },
  {
   "cell_type": "code",
   "execution_count": 15,
   "metadata": {},
   "outputs": [],
   "source": [
    "trials['signed_n_consec_colour'] = trials['n_consec_colour'] * trials['outcome']"
   ]
  },
  {
   "cell_type": "code",
   "execution_count": 16,
   "metadata": {},
   "outputs": [],
   "source": [
    "normalized_signed_colour_count = normalize(trials.signed_n_consec_colour.values)\n",
    "\n",
    "trials['normed_signed_colour_count'] = normalized_signed_colour_count"
   ]
  },
  {
   "cell_type": "code",
   "execution_count": 17,
   "metadata": {},
   "outputs": [],
   "source": [
    "trials['normed_unsigned_colour_count'] = [(v/5) for v in trials.n_consec_colour]"
   ]
  },
  {
   "cell_type": "markdown",
   "metadata": {},
   "source": [
    "Add cumulatively updated signed expectation violation values and normalize"
   ]
  },
  {
   "cell_type": "code",
   "execution_count": 18,
   "metadata": {},
   "outputs": [],
   "source": [
    "trials['cs_signed_e_v'] = trials['e_v'].cumsum()"
   ]
  },
  {
   "cell_type": "code",
   "execution_count": 19,
   "metadata": {},
   "outputs": [],
   "source": [
    "trials['normed_cs_signed_e_v'] = normalize(trials['cs_signed_e_v'])"
   ]
  },
  {
   "cell_type": "markdown",
   "metadata": {},
   "source": [
    "Add cumulatively updated unsigned expectation violation values and normalize"
   ]
  },
  {
   "cell_type": "code",
   "execution_count": 20,
   "metadata": {},
   "outputs": [],
   "source": [
    "trials['cs_unsigned_e_v'] = abs(trials['e_v']).cumsum()"
   ]
  },
  {
   "cell_type": "code",
   "execution_count": 21,
   "metadata": {},
   "outputs": [],
   "source": [
    "trials['normed_cs_unsigned_e_v'] = normalize(trials['cs_unsigned_e_v'])"
   ]
  },
  {
   "cell_type": "code",
   "execution_count": 22,
   "metadata": {},
   "outputs": [
    {
     "data": {
      "text/html": [
       "<div>\n",
       "<style scoped>\n",
       "    .dataframe tbody tr th:only-of-type {\n",
       "        vertical-align: middle;\n",
       "    }\n",
       "\n",
       "    .dataframe tbody tr th {\n",
       "        vertical-align: top;\n",
       "    }\n",
       "\n",
       "    .dataframe thead th {\n",
       "        text-align: right;\n",
       "    }\n",
       "</style>\n",
       "<table border=\"1\" class=\"dataframe\">\n",
       "  <thead>\n",
       "    <tr style=\"text-align: right;\">\n",
       "      <th></th>\n",
       "      <th>n_red</th>\n",
       "      <th>outcome</th>\n",
       "      <th>trial</th>\n",
       "      <th>n_blue</th>\n",
       "      <th>e_v</th>\n",
       "      <th>normed_signed_e_v</th>\n",
       "      <th>normed_unsigned_e_v</th>\n",
       "      <th>n_reported_colour_opp</th>\n",
       "      <th>n_consec_colour</th>\n",
       "      <th>signed_n_consec_colour</th>\n",
       "      <th>normed_signed_colour_count</th>\n",
       "      <th>normed_unsigned_colour_count</th>\n",
       "      <th>cs_signed_e_v</th>\n",
       "      <th>normed_cs_signed_e_v</th>\n",
       "      <th>cs_unsigned_e_v</th>\n",
       "      <th>normed_cs_unsigned_e_v</th>\n",
       "    </tr>\n",
       "  </thead>\n",
       "  <tbody>\n",
       "    <tr>\n",
       "      <th>0</th>\n",
       "      <td>6</td>\n",
       "      <td>-1</td>\n",
       "      <td>1</td>\n",
       "      <td>1</td>\n",
       "      <td>-0.142857</td>\n",
       "      <td>0.416667</td>\n",
       "      <td>0.285714</td>\n",
       "      <td>1</td>\n",
       "      <td>1</td>\n",
       "      <td>-1</td>\n",
       "      <td>0.4</td>\n",
       "      <td>0.2</td>\n",
       "      <td>-0.142857</td>\n",
       "      <td>0.083333</td>\n",
       "      <td>0.142857</td>\n",
       "      <td>0.009479</td>\n",
       "    </tr>\n",
       "    <tr>\n",
       "      <th>1</th>\n",
       "      <td>6</td>\n",
       "      <td>1</td>\n",
       "      <td>2</td>\n",
       "      <td>1</td>\n",
       "      <td>0.857143</td>\n",
       "      <td>1.000000</td>\n",
       "      <td>1.000000</td>\n",
       "      <td>1</td>\n",
       "      <td>1</td>\n",
       "      <td>1</td>\n",
       "      <td>0.6</td>\n",
       "      <td>0.2</td>\n",
       "      <td>0.714286</td>\n",
       "      <td>0.250000</td>\n",
       "      <td>1.000000</td>\n",
       "      <td>0.037915</td>\n",
       "    </tr>\n",
       "    <tr>\n",
       "      <th>2</th>\n",
       "      <td>2</td>\n",
       "      <td>1</td>\n",
       "      <td>3</td>\n",
       "      <td>5</td>\n",
       "      <td>0.285714</td>\n",
       "      <td>0.666667</td>\n",
       "      <td>0.428571</td>\n",
       "      <td>2</td>\n",
       "      <td>2</td>\n",
       "      <td>2</td>\n",
       "      <td>0.7</td>\n",
       "      <td>0.4</td>\n",
       "      <td>1.000000</td>\n",
       "      <td>0.305556</td>\n",
       "      <td>1.285714</td>\n",
       "      <td>0.047393</td>\n",
       "    </tr>\n",
       "    <tr>\n",
       "      <th>3</th>\n",
       "      <td>3</td>\n",
       "      <td>-1</td>\n",
       "      <td>4</td>\n",
       "      <td>4</td>\n",
       "      <td>-0.571429</td>\n",
       "      <td>0.166667</td>\n",
       "      <td>0.714286</td>\n",
       "      <td>2</td>\n",
       "      <td>1</td>\n",
       "      <td>-1</td>\n",
       "      <td>0.4</td>\n",
       "      <td>0.2</td>\n",
       "      <td>0.428571</td>\n",
       "      <td>0.194444</td>\n",
       "      <td>1.857143</td>\n",
       "      <td>0.066351</td>\n",
       "    </tr>\n",
       "    <tr>\n",
       "      <th>4</th>\n",
       "      <td>1</td>\n",
       "      <td>1</td>\n",
       "      <td>5</td>\n",
       "      <td>6</td>\n",
       "      <td>0.142857</td>\n",
       "      <td>0.583333</td>\n",
       "      <td>0.285714</td>\n",
       "      <td>3</td>\n",
       "      <td>1</td>\n",
       "      <td>1</td>\n",
       "      <td>0.6</td>\n",
       "      <td>0.2</td>\n",
       "      <td>0.571429</td>\n",
       "      <td>0.222222</td>\n",
       "      <td>2.000000</td>\n",
       "      <td>0.071090</td>\n",
       "    </tr>\n",
       "  </tbody>\n",
       "</table>\n",
       "</div>"
      ],
      "text/plain": [
       "   n_red  outcome  trial  n_blue       e_v  normed_signed_e_v  \\\n",
       "0      6       -1      1       1 -0.142857           0.416667   \n",
       "1      6        1      2       1  0.857143           1.000000   \n",
       "2      2        1      3       5  0.285714           0.666667   \n",
       "3      3       -1      4       4 -0.571429           0.166667   \n",
       "4      1        1      5       6  0.142857           0.583333   \n",
       "\n",
       "   normed_unsigned_e_v  n_reported_colour_opp  n_consec_colour  \\\n",
       "0             0.285714                      1                1   \n",
       "1             1.000000                      1                1   \n",
       "2             0.428571                      2                2   \n",
       "3             0.714286                      2                1   \n",
       "4             0.285714                      3                1   \n",
       "\n",
       "   signed_n_consec_colour  normed_signed_colour_count  \\\n",
       "0                      -1                         0.4   \n",
       "1                       1                         0.6   \n",
       "2                       2                         0.7   \n",
       "3                      -1                         0.4   \n",
       "4                       1                         0.6   \n",
       "\n",
       "   normed_unsigned_colour_count  cs_signed_e_v  normed_cs_signed_e_v  \\\n",
       "0                           0.2      -0.142857              0.083333   \n",
       "1                           0.2       0.714286              0.250000   \n",
       "2                           0.4       1.000000              0.305556   \n",
       "3                           0.2       0.428571              0.194444   \n",
       "4                           0.2       0.571429              0.222222   \n",
       "\n",
       "   cs_unsigned_e_v  normed_cs_unsigned_e_v  \n",
       "0         0.142857                0.009479  \n",
       "1         1.000000                0.037915  \n",
       "2         1.285714                0.047393  \n",
       "3         1.857143                0.066351  \n",
       "4         2.000000                0.071090  "
      ]
     },
     "execution_count": 22,
     "metadata": {},
     "output_type": "execute_result"
    }
   ],
   "source": [
    "trials.head()"
   ]
  },
  {
   "cell_type": "code",
   "execution_count": 23,
   "metadata": {},
   "outputs": [
    {
     "data": {
      "text/plain": [
       "<AxesSubplot:ylabel='normed_signed_e_v'>"
      ]
     },
     "execution_count": 23,
     "metadata": {},
     "output_type": "execute_result"
    },
    {
     "data": {
      "image/png": "[encoded data removed]",
      "text/plain": [
       "<Figure size 432x288 with 1 Axes>"
      ]
     },
     "metadata": {
      "needs_background": "light"
     },
     "output_type": "display_data"
    }
   ],
   "source": [
    "sns.lineplot(data=trials['normed_signed_e_v'])"
   ]
  },
  {
   "cell_type": "markdown",
   "metadata": {},
   "source": [
    "### get response data"
   ]
  },
  {
   "cell_type": "code",
   "execution_count": 24,
   "metadata": {},
   "outputs": [],
   "source": [
    "cred = credentials.Certificate('D:/Behavioural cybersecurity/project-notes/cards-dd-game-61b9b7f26a6e.json')\n",
    "firebase_admin.initialize_app(cred)\n",
    "\n",
    "db = firestore.client()\n",
    "\n",
    "subjects_ref = db.collection(u'subjects')"
   ]
  },
  {
   "cell_type": "markdown",
   "metadata": {},
   "source": [
    "Read game task responses from database"
   ]
  },
  {
   "cell_type": "code",
   "execution_count": 25,
   "metadata": {},
   "outputs": [],
   "source": [
    "uuids = [\n",
    "    '60cfbdfdfc788d1a1d9fae5a', \n",
    "    '60ce3a59841d20970e75ccbc', \n",
    "    '5b99065b57dc8100012c56a4', \n",
    "    '60c8cbb224ace51ce83667c1', \n",
    "    '60c6695104897f595c7d0319'\n",
    "]"
   ]
  },
  {
   "cell_type": "code",
   "execution_count": 26,
   "metadata": {},
   "outputs": [],
   "source": [
    "refs = []\n",
    "\n",
    "for uuid in uuids:\n",
    "    refs.append(subjects_ref.document(uuid).collection(u'responses').document('main_responses').get())"
   ]
  },
  {
   "cell_type": "code",
   "execution_count": 27,
   "metadata": {},
   "outputs": [],
   "source": [
    "from scripts.data_processing import GameResponses"
   ]
  },
  {
   "cell_type": "code",
   "execution_count": 28,
   "metadata": {},
   "outputs": [],
   "source": [
    "honesty_ratings = []\n",
    "\n",
    "for index, subject in enumerate(refs):\n",
    "    responses = GameResponses.from_dict(subject.to_dict())\n",
    "    \n",
    "    ratings = [int(numeric_string) for numeric_string in responses.honestyRating]\n",
    "    honesty_ratings.append(ratings)"
   ]
  },
  {
   "cell_type": "markdown",
   "metadata": {},
   "source": [
    "### normalize and reverse-code honesty ratings"
   ]
  },
  {
   "cell_type": "code",
   "execution_count": 29,
   "metadata": {},
   "outputs": [],
   "source": [
    "import numexpr"
   ]
  },
  {
   "cell_type": "code",
   "execution_count": 30,
   "metadata": {},
   "outputs": [],
   "source": [
    "normalized_honesty_ratings = []\n",
    "\n",
    "for ratings in honesty_ratings:\n",
    "    normed = [(v/6) for v in ratings]\n",
    "    normalized_honesty_ratings.append(normed)"
   ]
  },
  {
   "cell_type": "code",
   "execution_count": 31,
   "metadata": {},
   "outputs": [],
   "source": [
    "normalized_suspicion_ratings = numexpr.evaluate('(1 - normalized_honesty_ratings)')"
   ]
  },
  {
   "cell_type": "markdown",
   "metadata": {},
   "source": [
    "Check if values are as expected"
   ]
  },
  {
   "cell_type": "code",
   "execution_count": 32,
   "metadata": {},
   "outputs": [
    {
     "data": {
      "text/plain": [
       "[(5, 0.8333333333333334, 0.16666666666666663),\n",
       " (1, 0.16666666666666666, 0.8333333333333334),\n",
       " (5, 0.8333333333333334, 0.16666666666666663),\n",
       " (5, 0.8333333333333334, 0.16666666666666663),\n",
       " (5, 0.8333333333333334, 0.16666666666666663),\n",
       " (5, 0.8333333333333334, 0.16666666666666663),\n",
       " (6, 1.0, 0.0),\n",
       " (1, 0.16666666666666666, 0.8333333333333334),\n",
       " (1, 0.16666666666666666, 0.8333333333333334),\n",
       " (0, 0.0, 1.0),\n",
       " (6, 1.0, 0.0),\n",
       " (5, 0.8333333333333334, 0.16666666666666663),\n",
       " (5, 0.8333333333333334, 0.16666666666666663),\n",
       " (5, 0.8333333333333334, 0.16666666666666663),\n",
       " (0, 0.0, 1.0),\n",
       " (5, 0.8333333333333334, 0.16666666666666663),\n",
       " (5, 0.8333333333333334, 0.16666666666666663),\n",
       " (5, 0.8333333333333334, 0.16666666666666663),\n",
       " (5, 0.8333333333333334, 0.16666666666666663),\n",
       " (5, 0.8333333333333334, 0.16666666666666663),\n",
       " (6, 1.0, 0.0),\n",
       " (5, 0.8333333333333334, 0.16666666666666663),\n",
       " (5, 0.8333333333333334, 0.16666666666666663),\n",
       " (5, 0.8333333333333334, 0.16666666666666663),\n",
       " (5, 0.8333333333333334, 0.16666666666666663),\n",
       " (5, 0.8333333333333334, 0.16666666666666663),\n",
       " (5, 0.8333333333333334, 0.16666666666666663),\n",
       " (6, 1.0, 0.0),\n",
       " (6, 1.0, 0.0),\n",
       " (6, 1.0, 0.0),\n",
       " (6, 1.0, 0.0),\n",
       " (6, 1.0, 0.0),\n",
       " (1, 0.16666666666666666, 0.8333333333333334),\n",
       " (5, 0.8333333333333334, 0.16666666666666663),\n",
       " (4, 0.6666666666666666, 0.33333333333333337),\n",
       " (2, 0.3333333333333333, 0.6666666666666667),\n",
       " (4, 0.6666666666666666, 0.33333333333333337),\n",
       " (4, 0.6666666666666666, 0.33333333333333337),\n",
       " (4, 0.6666666666666666, 0.33333333333333337),\n",
       " (5, 0.8333333333333334, 0.16666666666666663),\n",
       " (6, 1.0, 0.0),\n",
       " (5, 0.8333333333333334, 0.16666666666666663),\n",
       " (5, 0.8333333333333334, 0.16666666666666663),\n",
       " (1, 0.16666666666666666, 0.8333333333333334),\n",
       " (5, 0.8333333333333334, 0.16666666666666663),\n",
       " (5, 0.8333333333333334, 0.16666666666666663),\n",
       " (1, 0.16666666666666666, 0.8333333333333334),\n",
       " (4, 0.6666666666666666, 0.33333333333333337),\n",
       " (5, 0.8333333333333334, 0.16666666666666663),\n",
       " (5, 0.8333333333333334, 0.16666666666666663),\n",
       " (4, 0.6666666666666666, 0.33333333333333337),\n",
       " (4, 0.6666666666666666, 0.33333333333333337),\n",
       " (4, 0.6666666666666666, 0.33333333333333337),\n",
       " (4, 0.6666666666666666, 0.33333333333333337),\n",
       " (4, 0.6666666666666666, 0.33333333333333337),\n",
       " (4, 0.6666666666666666, 0.33333333333333337),\n",
       " (3, 0.5, 0.5),\n",
       " (4, 0.6666666666666666, 0.33333333333333337),\n",
       " (4, 0.6666666666666666, 0.33333333333333337),\n",
       " (2, 0.3333333333333333, 0.6666666666666667)]"
      ]
     },
     "execution_count": 32,
     "metadata": {},
     "output_type": "execute_result"
    }
   ],
   "source": [
    "list(zip(honesty_ratings[0], normalized_honesty_ratings[0], normalized_suspicion_ratings[0]))"
   ]
  },
  {
   "cell_type": "markdown",
   "metadata": {},
   "source": [
    "### define parameter space"
   ]
  },
  {
   "cell_type": "code",
   "execution_count": 33,
   "metadata": {},
   "outputs": [],
   "source": [
    "alpha = np.linspace(0, 1, 101)\n",
    "prior = np.linspace(0, 1, 101)\n",
    "\n",
    "params = (list(product(alpha, prior)))"
   ]
  },
  {
   "cell_type": "code",
   "execution_count": 34,
   "metadata": {},
   "outputs": [],
   "source": [
    "def fit_single_model(responses, params, trials, stat: str):\n",
    "    best_params = []\n",
    "    best_r2 = []\n",
    "    for i, r in enumerate(responses):\n",
    "        print('response subject', i)\n",
    "        ss_tot = np.sum((r-np.mean(r))**2)\n",
    "        print('ss totals', ss_tot)\n",
    "        r2 = []\n",
    "        for param in params:\n",
    "            pred = param[1] + param[0] * trials[stat]\n",
    "            ss_res = np.sum((r-pred)**2)\n",
    "            r2.append(1 - np.divide(ss_res, ss_tot))\n",
    "        r2 = np.array(r2)\n",
    "        best_idx = r2.argmax()\n",
    "        print('best r2 index', best_idx)\n",
    "        best_params.append(params[best_idx])\n",
    "        best_r2.append(r2.max())\n",
    "    return best_params, best_r2"
   ]
  },
  {
   "cell_type": "code",
   "execution_count": 35,
   "metadata": {},
   "outputs": [],
   "source": [
    "def objective_single_model(params, response, trials, stat: str):\n",
    "    ss_tot = np.sum((response-np.mean(response))**2)\n",
    "    pred = params[0] + params[1] * trials[stat]\n",
    "    return np.sum((response-pred)**2)"
   ]
  },
  {
   "cell_type": "code",
   "execution_count": 36,
   "metadata": {},
   "outputs": [
    {
     "data": {
      "text/plain": [
       "['n_red',\n",
       " 'outcome',\n",
       " 'trial',\n",
       " 'n_blue',\n",
       " 'e_v',\n",
       " 'normed_signed_e_v',\n",
       " 'normed_unsigned_e_v',\n",
       " 'n_reported_colour_opp',\n",
       " 'n_consec_colour',\n",
       " 'signed_n_consec_colour',\n",
       " 'normed_signed_colour_count',\n",
       " 'normed_unsigned_colour_count',\n",
       " 'cs_signed_e_v',\n",
       " 'normed_cs_signed_e_v',\n",
       " 'cs_unsigned_e_v',\n",
       " 'normed_cs_unsigned_e_v']"
      ]
     },
     "execution_count": 36,
     "metadata": {},
     "output_type": "execute_result"
    }
   ],
   "source": [
    "list(trials)"
   ]
  },
  {
   "cell_type": "markdown",
   "metadata": {},
   "source": [
    "### model 1.1: signed suspicion with update rule"
   ]
  },
  {
   "cell_type": "markdown",
   "metadata": {},
   "source": [
    "Grid search approach"
   ]
  },
  {
   "cell_type": "code",
   "execution_count": 37,
   "metadata": {},
   "outputs": [
    {
     "name": "stdout",
     "output_type": "stream",
     "text": [
      "response subject 0\n",
      "ss totals 4.298148148148149\n",
      "best r2 index 2945\n",
      "response subject 1\n",
      "ss totals 0.8569444444444447\n",
      "best r2 index 3042\n",
      "response subject 2\n",
      "ss totals 2.1828703703703702\n",
      "best r2 index 2146\n",
      "response subject 3\n",
      "ss totals 3.9833333333333343\n",
      "best r2 index 3852\n",
      "response subject 4\n",
      "ss totals 1.0273148148148148\n",
      "best r2 index 16\n"
     ]
    },
    {
     "data": {
      "text/plain": [
       "([(0.29, 0.16), (0.3, 0.12), (0.21, 0.25), (0.38, 0.14), (0.0, 0.16)],\n",
       " [0.03937751328450401,\n",
       "  0.21492706645056736,\n",
       "  0.04282916224814404,\n",
       "  0.0752993181465984,\n",
       "  -0.0008832807570977597])"
      ]
     },
     "execution_count": 37,
     "metadata": {},
     "output_type": "execute_result"
    }
   ],
   "source": [
    "fit_single_model(normalized_suspicion_ratings, params, trials, 'normed_cs_signed_e_v')"
   ]
  },
  {
   "cell_type": "markdown",
   "metadata": {},
   "source": [
    "skopt Bayesian optimization approach"
   ]
  },
  {
   "cell_type": "code",
   "execution_count": 38,
   "metadata": {},
   "outputs": [],
   "source": [
    "param_search_space = [Real(0, 1, name='prior'), Real(0, 1, name='alpha')]"
   ]
  },
  {
   "cell_type": "code",
   "execution_count": 39,
   "metadata": {},
   "outputs": [
    {
     "name": "stdout",
     "output_type": "stream",
     "text": [
      "Subject 0\n",
      "Best parameter estimates: prior = (0.16006129172487255, 'alpha =', 0.28931789976223155)\n",
      "R2: 0.03937417512552399\n",
      "mean squared error 0.06881520183745862\n",
      "SD error 0.26232589043568305\n",
      "BIC: -152.39114696618117\n",
      "AIC: -156.57983609062538\n",
      "====================================================================================================\n",
      "Subject 1\n",
      "Best parameter estimates: prior = (0.11962466061654517, 'alpha =', 0.29977838323353534)\n",
      "R2: 0.2149362884517031\n",
      "mean squared error 0.011212599769104152\n",
      "SD error 0.10588954635504676\n",
      "BIC: -261.25434009227064\n",
      "AIC: -265.4430292167148\n",
      "====================================================================================================\n",
      "Subject 2\n",
      "Best parameter estimates: prior = (0.249602411019274, 'alpha =', 0.21144396324639628)\n",
      "R2: 0.04284145080960122\n",
      "mean squared error 0.034822550612906865\n",
      "SD error 0.1866079330477783\n",
      "BIC: -193.2607166324959\n",
      "AIC: -197.4494057569401\n",
      "====================================================================================================\n",
      "Subject 3\n",
      "Best parameter estimates: prior = (0.13726165535899668, 'alpha =', 0.38752877329729557)\n",
      "R2: 0.07532876047025372\n",
      "mean squared error 0.0613878961798915\n",
      "SD error 0.24776574877679075\n",
      "BIC: -159.24386650850548\n",
      "AIC: -163.4325556329497\n",
      "====================================================================================================\n",
      "Subject 4\n",
      "Best parameter estimates: prior = (0.1637927886535771, 'alpha =', 0.0)\n",
      "R2: -5.393821889132511e-07\n",
      "mean squared error 0.017121922815502136\n",
      "SD error 0.13085073014793197\n",
      "BIC: -235.85504691069622\n",
      "AIC: -240.04373603514043\n",
      "====================================================================================================\n"
     ]
    }
   ],
   "source": [
    "for i, response in enumerate(normalized_suspicion_ratings):\n",
    "    ss_tot =  np.sum((response-np.mean(response))**2)\n",
    "    gp_result = gp_minimize(partial(objective_single_model, response=response, trials=trials, stat='normed_cs_signed_e_v'), param_search_space, random_state=42)\n",
    "    optimal_ss_res = gp_result.fun\n",
    "    print(\"Subject\", i)\n",
    "    print(\"Best parameter estimates: prior =\", (gp_result.x[0], \"alpha =\", gp_result.x[1]))\n",
    "    print(\"R2:\", 1 - np.divide(optimal_ss_res, ss_tot))\n",
    "    pred = gp_result.x[0] + gp_result.x[1] * trials['normed_cs_signed_e_v']\n",
    "    mse = mean_squared_error(response, pred)\n",
    "    print(\"mean squared error\", mse)\n",
    "    print(\"SD error\", np.std(response-pred))\n",
    "    bic = calculate_bic(len(response), mse, len(param_search_space))\n",
    "    aic = calculate_aic(len(response), mse, len(param_search_space))\n",
    "    print(\"BIC:\", bic)\n",
    "    print(\"AIC:\", aic)\n",
    "    print(\"=\" * 100)"
   ]
  },
  {
   "cell_type": "code",
   "execution_count": 1,
   "metadata": {},
   "outputs": [],
   "source": [
    "m1_mse = [0.06881520183745862, 0.011212599769104152, 0.034822550612906865, 0.0613878961798915, 0.017121922815502136]"
   ]
  },
  {
   "cell_type": "code",
   "execution_count": 3,
   "metadata": {},
   "outputs": [
    {
     "data": {
      "text/plain": [
       "<AxesSubplot:ylabel='Density'>"
      ]
     },
     "execution_count": 3,
     "metadata": {},
     "output_type": "execute_result"
    },
    {
     "data": {
      "image/png": "[encoded data removed]",
      "text/plain": [
       "<Figure size 432x288 with 1 Axes>"
      ]
     },
     "metadata": {
      "needs_background": "light"
     },
     "output_type": "display_data"
    }
   ],
   "source": [
    "sns.kdeplot(data=m1_mse)"
   ]
  },
  {
   "cell_type": "code",
   "execution_count": null,
   "metadata": {},
   "outputs": [],
   "source": []
  },
  {
   "cell_type": "markdown",
   "metadata": {},
   "source": [
    "### model 1.2: signed suspicion, no update"
   ]
  },
  {
   "cell_type": "markdown",
   "metadata": {},
   "source": [
    "Using grid search approach"
   ]
  },
  {
   "cell_type": "code",
   "execution_count": 40,
   "metadata": {},
   "outputs": [
    {
     "name": "stdout",
     "output_type": "stream",
     "text": [
      "response subject 0\n",
      "ss totals 4.298148148148149\n",
      "best r2 index 4148\n",
      "response subject 1\n",
      "ss totals 0.8569444444444447\n",
      "best r2 index 2738\n",
      "response subject 2\n",
      "ss totals 2.1828703703703702\n",
      "best r2 index 4555\n",
      "response subject 3\n",
      "ss totals 3.9833333333333343\n",
      "best r2 index 4954\n",
      "response subject 4\n",
      "ss totals 1.0273148148148148\n",
      "best r2 index 820\n"
     ]
    },
    {
     "data": {
      "text/plain": [
       "([(0.41000000000000003, 0.07),\n",
       "  (0.27, 0.11),\n",
       "  (0.45, 0.1),\n",
       "  (0.49, 0.05),\n",
       "  (0.08, 0.12)],\n",
       " [0.25875344679017676,\n",
       "  0.5684683954619125,\n",
       "  0.5912778366914103,\n",
       "  0.39943410041841,\n",
       "  0.03467868409193331])"
      ]
     },
     "execution_count": 40,
     "metadata": {},
     "output_type": "execute_result"
    }
   ],
   "source": [
    "fit_single_model(normalized_suspicion_ratings, params, trials, 'normed_signed_e_v')"
   ]
  },
  {
   "cell_type": "markdown",
   "metadata": {},
   "source": [
    "skopt Bayesian optimization approach"
   ]
  },
  {
   "cell_type": "code",
   "execution_count": 41,
   "metadata": {},
   "outputs": [],
   "source": [
    "param_search_space = [Real(0, 1, name='prior'), Real(0, 1, name='alpha')]"
   ]
  },
  {
   "cell_type": "code",
   "execution_count": 42,
   "metadata": {},
   "outputs": [
    {
     "name": "stdout",
     "output_type": "stream",
     "text": [
      "Subject 0\n",
      "Best parameter estimates: prior = (0.06753386345261717, 'alpha =', 0.41686880140251087)\n",
      "R2: 0.2588305084417666\n",
      "mean squared error 0.017121922815502136\n",
      "SD error 0.23042193615076753\n",
      "BIC: -167.95248538359715\n",
      "AIC: -172.14117450804136\n",
      "====================================================================================================\n",
      "Subject 1\n",
      "Best parameter estimates: prior = (0.10826296503309171, 'alpha =', 0.2756364084953586)\n",
      "R2: 0.5688177172816393\n",
      "mean squared error 0.05309427129341544\n",
      "SD error 0.07847497069699277\n",
      "BIC: -297.20837680798394\n",
      "AIC: -301.3970659324281\n",
      "====================================================================================================\n",
      "Subject 2\n",
      "Best parameter estimates: prior = (0.10337871191203363, 'alpha =', 0.4480197883962651)\n",
      "R2: 0.5914214376519733\n",
      "mean squared error 0.006158321028639551\n",
      "SD error 0.12192030656433273\n",
      "BIC: -244.3378067905375\n",
      "AIC: -248.52649591498172\n",
      "====================================================================================================\n",
      "Subject 3\n",
      "Best parameter estimates: prior = (0.045396767597091534, 'alpha =', 0.49719631210219245)\n",
      "R2: 0.39952604026796446\n",
      "mean squared error 0.014864567295300508\n",
      "SD error 0.19966088592672201\n",
      "BIC: -185.14700538903966\n",
      "AIC: -189.33569451348387\n",
      "====================================================================================================\n",
      "Subject 4\n",
      "Best parameter estimates: prior = (0.12367580422158206, 'alpha =', 0.07409580502619144)\n",
      "R2: 0.03485962732384362\n",
      "mean squared error 0.03986479899332126\n",
      "SD error 0.1285497323170874\n",
      "BIC: -237.98398273215196\n",
      "AIC: -242.17267185659617\n",
      "====================================================================================================\n"
     ]
    }
   ],
   "source": [
    "for i, response in enumerate(normalized_suspicion_ratings):\n",
    "    ss_tot =  np.sum((response-np.mean(response))**2)\n",
    "    gp_result = gp_minimize(partial(objective_single_model, response=response, trials=trials, stat='normed_signed_e_v'), param_search_space, random_state=42)\n",
    "    optimal_ss_res = gp_result.fun\n",
    "    print(\"Subject\", i)\n",
    "    print(\"Best parameter estimates: prior =\", (gp_result.x[0], \"alpha =\", gp_result.x[1]))\n",
    "    print(\"R2:\", 1 - np.divide(optimal_ss_res, ss_tot))\n",
    "    pred = gp_result.x[0] + gp_result.x[1] * trials['normed_signed_e_v']\n",
    "    print(\"mean squared error\", mse)\n",
    "    print(\"SD error\", np.std(response-pred))\n",
    "    mse = mean_squared_error(response, pred)\n",
    "    bic = calculate_bic(len(response), mse, len(param_search_space))\n",
    "    aic = calculate_aic(len(response), mse, len(param_search_space))\n",
    "    print(\"BIC:\", bic)\n",
    "    print(\"AIC:\", aic)\n",
    "    print(\"=\" * 100)"
   ]
  },
  {
   "cell_type": "code",
   "execution_count": 4,
   "metadata": {},
   "outputs": [],
   "source": [
    "m2_mse = [0.017121922815502136, 0.05309427129341544, 0.006158321028639551, 0.014864567295300508, 0.03986479899332126]"
   ]
  },
  {
   "cell_type": "code",
   "execution_count": 5,
   "metadata": {},
   "outputs": [
    {
     "data": {
      "text/plain": [
       "<AxesSubplot:ylabel='Density'>"
      ]
     },
     "execution_count": 5,
     "metadata": {},
     "output_type": "execute_result"
    },
    {
     "data": {
      "image/png": "[encoded data removed]",
      "text/plain": [
       "<Figure size 432x288 with 1 Axes>"
      ]
     },
     "metadata": {
      "needs_background": "light"
     },
     "output_type": "display_data"
    }
   ],
   "source": [
    "sns.kdeplot(data=m2_mse)"
   ]
  },
  {
   "cell_type": "code",
   "execution_count": null,
   "metadata": {},
   "outputs": [],
   "source": []
  },
  {
   "cell_type": "markdown",
   "metadata": {},
   "source": [
    "### model 1.3: unsigned suspicion with update rule"
   ]
  },
  {
   "cell_type": "code",
   "execution_count": 43,
   "metadata": {},
   "outputs": [
    {
     "name": "stdout",
     "output_type": "stream",
     "text": [
      "response subject 0\n",
      "ss totals 4.298148148148149\n",
      "best r2 index 733\n",
      "response subject 1\n",
      "ss totals 0.8569444444444447\n",
      "best r2 index 629\n",
      "response subject 2\n",
      "ss totals 2.1828703703703702\n",
      "best r2 index 35\n",
      "response subject 3\n",
      "ss totals 3.9833333333333343\n",
      "best r2 index 32\n",
      "response subject 4\n",
      "ss totals 1.0273148148148148\n",
      "best r2 index 16\n"
     ]
    },
    {
     "data": {
      "text/plain": [
       "([(0.07, 0.26),\n",
       "  (0.06, 0.23),\n",
       "  (0.0, 0.35000000000000003),\n",
       "  (0.0, 0.32),\n",
       "  (0.0, 0.16)],\n",
       " [0.004754703571138386,\n",
       "  0.022370394871656818,\n",
       "  -0.00021208907741265826,\n",
       "  -0.00016736401673633772,\n",
       "  -0.0008832807570977597])"
      ]
     },
     "execution_count": 43,
     "metadata": {},
     "output_type": "execute_result"
    }
   ],
   "source": [
    "fit_single_model(normalized_suspicion_ratings, params, trials, 'normed_cs_unsigned_e_v')"
   ]
  },
  {
   "cell_type": "markdown",
   "metadata": {},
   "source": [
    "skopt Bayesian optimization approach"
   ]
  },
  {
   "cell_type": "code",
   "execution_count": 44,
   "metadata": {},
   "outputs": [],
   "source": [
    "param_search_space = [Real(0, 1, name='prior'), Real(0, 1, name='alpha')]"
   ]
  },
  {
   "cell_type": "code",
   "execution_count": 45,
   "metadata": {},
   "outputs": [
    {
     "name": "stdout",
     "output_type": "stream",
     "text": [
      "Subject 0\n",
      "Best parameter estimates: prior = (0.2625350858288658, 'alpha =', 0.06386205224104001)\n",
      "R2: 0.0047930607357122845\n",
      "mean squared error 0.07129244771704976\n",
      "SD error 0.26700645498475145\n",
      "BIC: -150.2692036632022\n",
      "AIC: -154.45789278764641\n",
      "====================================================================================================\n",
      "Subject 1\n",
      "Best parameter estimates: prior = (0.22736442634875706, 'alpha =', 0.06050098744996384)\n",
      "R2: 0.022543734105424984\n",
      "mean squared error 0.013960428612429467\n",
      "SD error 0.11815210255616726\n",
      "BIC: -248.10301962894428\n",
      "AIC: -252.2917087533885\n",
      "====================================================================================================\n",
      "Subject 2\n",
      "Best parameter estimates: prior = (0.34707700985306833, 'alpha =', 0.0)\n",
      "R2: -5.796028692550692e-07\n",
      "mean squared error 0.03638119392613834\n",
      "SD error 0.1907384933344766\n",
      "BIC: -190.63350816935892\n",
      "AIC: -194.82219729380313\n",
      "====================================================================================================\n",
      "Subject 3\n",
      "Best parameter estimates: prior = (0.31665872924443744, 'alpha =', 0.0)\n",
      "R2: -9.48994216543042e-10\n",
      "mean squared error 0.06638888895189157\n",
      "SD error 0.2576604138956718\n",
      "BIC: -154.54484516937757\n",
      "AIC: -158.73353429382178\n",
      "====================================================================================================\n",
      "Subject 4\n",
      "Best parameter estimates: prior = (0.16405175309216682, 'alpha =', 0.0)\n",
      "R2: -1.5491696405689481e-06\n",
      "mean squared error 0.017121940104995622\n",
      "SD error 0.13085073014793197\n",
      "BIC: -235.85498632351238\n",
      "AIC: -240.0436754479566\n",
      "====================================================================================================\n"
     ]
    }
   ],
   "source": [
    "for i, response in enumerate(normalized_suspicion_ratings):\n",
    "    ss_tot =  np.sum((response-np.mean(response))**2)\n",
    "    gp_result = gp_minimize(partial(objective_single_model, response=response, trials=trials, stat='normed_cs_unsigned_e_v'), param_search_space, random_state=42)\n",
    "    optimal_ss_res = gp_result.fun\n",
    "    print(\"Subject\", i)\n",
    "    print(\"Best parameter estimates: prior =\", (gp_result.x[0], \"alpha =\", gp_result.x[1]))\n",
    "    print(\"R2:\", 1 - np.divide(optimal_ss_res, ss_tot))\n",
    "    pred = gp_result.x[0] + gp_result.x[1] * trials['normed_cs_unsigned_e_v']\n",
    "    mse = mean_squared_error(response, pred)\n",
    "    print(\"mean squared error\", mse)\n",
    "    print(\"SD error\", np.std(response-pred))\n",
    "    bic = calculate_bic(len(response), mse, len(param_search_space))\n",
    "    aic = calculate_aic(len(response), mse, len(param_search_space))\n",
    "    print(\"BIC:\", bic)\n",
    "    print(\"AIC:\", aic)\n",
    "    print(\"=\" * 100)"
   ]
  },
  {
   "cell_type": "code",
   "execution_count": 6,
   "metadata": {},
   "outputs": [],
   "source": [
    "m3_mse = [0.07129244771704976, 0.013960428612429467, 0.03638119392613834, 0.06638888895189157, 0.017121940104995622]"
   ]
  },
  {
   "cell_type": "code",
   "execution_count": 7,
   "metadata": {},
   "outputs": [
    {
     "data": {
      "text/plain": [
       "<AxesSubplot:ylabel='Density'>"
      ]
     },
     "execution_count": 7,
     "metadata": {},
     "output_type": "execute_result"
    },
    {
     "data": {
      "image/png": "[encoded data removed]",
      "text/plain": [
       "<Figure size 432x288 with 1 Axes>"
      ]
     },
     "metadata": {
      "needs_background": "light"
     },
     "output_type": "display_data"
    }
   ],
   "source": [
    "sns.kdeplot(data=m3_mse)"
   ]
  },
  {
   "cell_type": "code",
   "execution_count": null,
   "metadata": {},
   "outputs": [],
   "source": []
  },
  {
   "cell_type": "markdown",
   "metadata": {},
   "source": [
    "### model 1.4: unsigned suspicion, no update"
   ]
  },
  {
   "cell_type": "code",
   "execution_count": 46,
   "metadata": {},
   "outputs": [
    {
     "name": "stdout",
     "output_type": "stream",
     "text": [
      "response subject 0\n",
      "ss totals 4.298148148148149\n",
      "best r2 index 3843\n",
      "response subject 1\n",
      "ss totals 0.8569444444444447\n",
      "best r2 index 2033\n",
      "response subject 2\n",
      "ss totals 2.1828703703703702\n",
      "best r2 index 2644\n",
      "response subject 3\n",
      "ss totals 3.9833333333333343\n",
      "best r2 index 2641\n",
      "response subject 4\n",
      "ss totals 1.0273148148148148\n",
      "best r2 index 1522\n"
     ]
    },
    {
     "data": {
      "text/plain": [
       "([(0.38, 0.05), (0.2, 0.13), (0.26, 0.18), (0.26, 0.15), (0.15, 0.07)],\n",
       " [0.13593479235727035,\n",
       "  0.17511593292098038,\n",
       "  0.1215722639426926,\n",
       "  0.07749705405174634,\n",
       "  0.08439948128868491])"
      ]
     },
     "execution_count": 46,
     "metadata": {},
     "output_type": "execute_result"
    }
   ],
   "source": [
    "fit_single_model(normalized_suspicion_ratings, params, trials, 'normed_unsigned_e_v')"
   ]
  },
  {
   "cell_type": "markdown",
   "metadata": {},
   "source": [
    "skopt Bayesian optimization approach"
   ]
  },
  {
   "cell_type": "code",
   "execution_count": 47,
   "metadata": {},
   "outputs": [],
   "source": [
    "param_search_space = [Real(0, 1, name='prior'), Real(0, 1, name='alpha')]"
   ]
  },
  {
   "cell_type": "code",
   "execution_count": 48,
   "metadata": {},
   "outputs": [
    {
     "name": "stdout",
     "output_type": "stream",
     "text": [
      "Subject 0\n",
      "Best parameter estimates: prior = (0.055563528734661624, 'alpha =', 0.3719666853588678)\n",
      "R2: 0.13599754375470519\n",
      "mean squared error 0.0618935092884361\n",
      "SD error 0.248783945294344\n",
      "BIC: -158.75170864425223\n",
      "AIC: -162.94039776869644\n",
      "====================================================================================================\n",
      "Subject 1\n",
      "Best parameter estimates: prior = (0.1366540252751193, 'alpha =', 0.1891780947971276)\n",
      "R2: 0.175736392894993\n",
      "mean squared error 0.011772468647772904\n",
      "SD error 0.10850098822743058\n",
      "BIC: -258.3308092170594\n",
      "AIC: -262.5194983415036\n",
      "====================================================================================================\n",
      "Subject 2\n",
      "Best parameter estimates: prior = (0.18671485751027644, 'alpha =', 0.25026520386834394)\n",
      "R2: 0.12173157730664075\n",
      "mean squared error 0.031952435285487565\n",
      "SD error 0.17875204291918104\n",
      "BIC: -198.42172363327532\n",
      "AIC: -202.61041275771953\n",
      "====================================================================================================\n",
      "Subject 3\n",
      "Best parameter estimates: prior = (0.1432466383763459, 'alpha =', 0.2701863782332308)\n",
      "R2: 0.07761686049167793\n",
      "mean squared error 0.061235991761802507\n",
      "SD error 0.24745892225640687\n",
      "BIC: -159.3925205742105\n",
      "AIC: -163.5812096986547\n",
      "====================================================================================================\n",
      "Subject 4\n",
      "Best parameter estimates: prior = (0.07191177015714256, 'alpha =', 0.1445700134398838)\n",
      "R2: 0.08488149599001071\n",
      "mean squared error 0.015668579941343873\n",
      "SD error 0.12517051132933746\n",
      "BIC: -241.1771818444242\n",
      "AIC: -245.36587096886842\n",
      "====================================================================================================\n"
     ]
    }
   ],
   "source": [
    "for i, response in enumerate(normalized_suspicion_ratings):\n",
    "    ss_tot =  np.sum((response-np.mean(response))**2)\n",
    "    gp_result = gp_minimize(partial(objective_single_model, response=response, trials=trials, stat='normed_unsigned_e_v'), param_search_space, random_state=42)\n",
    "    optimal_ss_res = gp_result.fun\n",
    "    print(\"Subject\", i)\n",
    "    print(\"Best parameter estimates: prior =\", (gp_result.x[0], \"alpha =\", gp_result.x[1]))\n",
    "    print(\"R2:\", 1 - np.divide(optimal_ss_res, ss_tot))\n",
    "    pred = gp_result.x[0] + gp_result.x[1] * trials['normed_unsigned_e_v']\n",
    "    mse = mean_squared_error(response, pred)\n",
    "    print(\"mean squared error\", mse)\n",
    "    print(\"SD error\", np.std(response-pred))\n",
    "    bic = calculate_bic(len(response), mse, len(param_search_space))\n",
    "    aic = calculate_aic(len(response), mse, len(param_search_space))\n",
    "    print(\"BIC:\", bic)\n",
    "    print(\"AIC:\", aic)\n",
    "    print(\"=\" * 100)"
   ]
  },
  {
   "cell_type": "code",
   "execution_count": 8,
   "metadata": {},
   "outputs": [],
   "source": [
    "m4_mse = [0.0618935092884361, 0.011772468647772904, 0.031952435285487565, 0.061235991761802507, 0.015668579941343873]"
   ]
  },
  {
   "cell_type": "code",
   "execution_count": 9,
   "metadata": {},
   "outputs": [
    {
     "data": {
      "text/plain": [
       "<AxesSubplot:ylabel='Density'>"
      ]
     },
     "execution_count": 9,
     "metadata": {},
     "output_type": "execute_result"
    },
    {
     "data": {
      "image/png": "[encoded data removed]",
      "text/plain": [
       "<Figure size 432x288 with 1 Axes>"
      ]
     },
     "metadata": {
      "needs_background": "light"
     },
     "output_type": "display_data"
    }
   ],
   "source": [
    "sns.kdeplot(data=m4_mse)"
   ]
  },
  {
   "cell_type": "code",
   "execution_count": null,
   "metadata": {},
   "outputs": [],
   "source": []
  },
  {
   "cell_type": "markdown",
   "metadata": {},
   "source": [
    "### model 2.1: signed colours tracker"
   ]
  },
  {
   "cell_type": "code",
   "execution_count": 49,
   "metadata": {},
   "outputs": [
    {
     "name": "stdout",
     "output_type": "stream",
     "text": [
      "response subject 0\n",
      "ss totals 4.298148148148149\n",
      "best r2 index 5155\n",
      "response subject 1\n",
      "ss totals 0.8569444444444447\n",
      "best r2 index 4247\n",
      "response subject 2\n",
      "ss totals 2.1828703703703702\n",
      "best r2 index 6266\n",
      "response subject 3\n",
      "ss totals 3.9833333333333343\n",
      "best r2 index 6767\n",
      "response subject 4\n",
      "ss totals 1.0273148148148148\n",
      "best r2 index 1323\n"
     ]
    },
    {
     "data": {
      "text/plain": [
       "([(0.51, 0.04), (0.42, 0.05), (0.62, 0.04), (0.67, 0.0), (0.13, 0.1)],\n",
       " [0.14165088323998276,\n",
       "  0.48910210696920586,\n",
       "  0.4200571792152702,\n",
       "  0.41417782426778227,\n",
       "  0.03293465525011241])"
      ]
     },
     "execution_count": 49,
     "metadata": {},
     "output_type": "execute_result"
    }
   ],
   "source": [
    "fit_single_model(normalized_suspicion_ratings, params, trials, 'normed_signed_colour_count')"
   ]
  },
  {
   "cell_type": "markdown",
   "metadata": {},
   "source": [
    "skopt Bayesian optimization approach"
   ]
  },
  {
   "cell_type": "code",
   "execution_count": 50,
   "metadata": {},
   "outputs": [],
   "source": [
    "param_search_space = [Real(0, 1, name='prior'), Real(0, 1, name='alpha')]"
   ]
  },
  {
   "cell_type": "code",
   "execution_count": 51,
   "metadata": {},
   "outputs": [
    {
     "name": "stdout",
     "output_type": "stream",
     "text": [
      "Subject 0\n",
      "Best parameter estimates: prior = (0.03915466288069492, 'alpha =', 0.512464276885494)\n",
      "R2: 0.14164602300505458\n",
      "mean squared error 0.06148887594460706\n",
      "SD error 0.24796949037449856\n",
      "BIC: -159.14525084433862\n",
      "AIC: -163.33393996878283\n",
      "====================================================================================================\n",
      "Subject 1\n",
      "Best parameter estimates: prior = (0.048610897508172254, 'alpha =', 0.42033070695785024)\n",
      "R2: 0.4891668850841957\n",
      "mean squared error 0.007295926664422485\n",
      "SD error 0.08541580819373859\n",
      "BIC: -287.0376555398241\n",
      "AIC: -291.22634466426825\n",
      "====================================================================================================\n",
      "Subject 2\n",
      "Best parameter estimates: prior = (0.03643898945808369, 'alpha =', 0.6244120305233275)\n",
      "R2: 0.42016096466534236\n",
      "mean squared error 0.021095224163602707\n",
      "SD error 0.14524144782539733\n",
      "BIC: -223.33382730016183\n",
      "AIC: -227.52251642460604\n",
      "====================================================================================================\n",
      "Subject 3\n",
      "Best parameter estimates: prior = (0.0, 'alpha =', 0.6668199929267258)\n",
      "R2: 0.41422583961608783\n",
      "mean squared error 0.03888889564770973\n",
      "SD error 0.19658213900566493\n",
      "BIC: -186.6341025577555\n",
      "AIC: -190.82279168219972\n",
      "====================================================================================================\n",
      "Subject 4\n",
      "Best parameter estimates: prior = (0.10410482182898582, 'alpha =', 0.11999031312200113)\n",
      "R2: 0.03318914940529527\n",
      "mean squared error 0.016553651832327546\n",
      "SD error 0.1286609952899175\n",
      "BIC: -237.88022369425929\n",
      "AIC: -242.0689128187035\n",
      "====================================================================================================\n"
     ]
    }
   ],
   "source": [
    "for i, response in enumerate(normalized_suspicion_ratings):\n",
    "    ss_tot =  np.sum((response-np.mean(response))**2)\n",
    "    gp_result = gp_minimize(partial(objective_single_model, response=response, trials=trials, stat='normed_signed_colour_count'), param_search_space, random_state=42)\n",
    "    optimal_ss_res = gp_result.fun\n",
    "    print(\"Subject\", i)\n",
    "    print(\"Best parameter estimates: prior =\", (gp_result.x[0], \"alpha =\", gp_result.x[1]))\n",
    "    print(\"R2:\", 1 - np.divide(optimal_ss_res, ss_tot))\n",
    "    pred = gp_result.x[0] + gp_result.x[1] * trials['normed_signed_colour_count']\n",
    "    mse = mean_squared_error(response, pred)\n",
    "    print(\"mean squared error\", mse)\n",
    "    print(\"SD error\", np.std(response-pred))\n",
    "    bic = calculate_bic(len(response), mse, len(param_search_space))\n",
    "    aic = calculate_aic(len(response), mse, len(param_search_space))\n",
    "    print(\"BIC:\", bic)\n",
    "    print(\"AIC:\", aic)\n",
    "    print(\"=\" * 100)"
   ]
  },
  {
   "cell_type": "code",
   "execution_count": 10,
   "metadata": {},
   "outputs": [],
   "source": [
    "m5_mse = [0.06148887594460706, 0.007295926664422485, 0.021095224163602707, 0.03888889564770973, 0.016553651832327546]"
   ]
  },
  {
   "cell_type": "code",
   "execution_count": 11,
   "metadata": {},
   "outputs": [
    {
     "data": {
      "text/plain": [
       "<AxesSubplot:ylabel='Density'>"
      ]
     },
     "execution_count": 11,
     "metadata": {},
     "output_type": "execute_result"
    },
    {
     "data": {
      "image/png": "[encoded data removed]",
      "text/plain": [
       "<Figure size 432x288 with 1 Axes>"
      ]
     },
     "metadata": {
      "needs_background": "light"
     },
     "output_type": "display_data"
    }
   ],
   "source": [
    "sns.kdeplot(data=m5_mse)"
   ]
  },
  {
   "cell_type": "code",
   "execution_count": null,
   "metadata": {},
   "outputs": [],
   "source": []
  },
  {
   "cell_type": "markdown",
   "metadata": {},
   "source": [
    "### model 2.2: unsigned colours tracker"
   ]
  },
  {
   "cell_type": "code",
   "execution_count": 52,
   "metadata": {},
   "outputs": [
    {
     "name": "stdout",
     "output_type": "stream",
     "text": [
      "response subject 0\n",
      "ss totals 4.298148148148149\n",
      "best r2 index 29\n",
      "response subject 1\n",
      "ss totals 0.8569444444444447\n",
      "best r2 index 831\n",
      "response subject 2\n",
      "ss totals 2.1828703703703702\n",
      "best r2 index 35\n",
      "response subject 3\n",
      "ss totals 3.9833333333333343\n",
      "best r2 index 32\n",
      "response subject 4\n",
      "ss totals 1.0273148148148148\n",
      "best r2 index 16\n"
     ]
    },
    {
     "data": {
      "text/plain": [
       "([(0.0, 0.29),\n",
       "  (0.08, 0.23),\n",
       "  (0.0, 0.35000000000000003),\n",
       "  (0.0, 0.32),\n",
       "  (0.0, 0.16)],\n",
       " [-0.00027574321413181835,\n",
       "  0.022086223662884596,\n",
       "  -0.00021208907741265826,\n",
       "  -0.00016736401673633772,\n",
       "  -0.0008832807570977597])"
      ]
     },
     "execution_count": 52,
     "metadata": {},
     "output_type": "execute_result"
    }
   ],
   "source": [
    "fit_single_model(normalized_suspicion_ratings, params, trials, 'normed_unsigned_colour_count')"
   ]
  },
  {
   "cell_type": "markdown",
   "metadata": {},
   "source": [
    "skopt Bayesian optimization approach"
   ]
  },
  {
   "cell_type": "code",
   "execution_count": 53,
   "metadata": {},
   "outputs": [],
   "source": [
    "param_search_space = [Real(0, 1, name='prior'), Real(0, 1, name='alpha')]"
   ]
  },
  {
   "cell_type": "code",
   "execution_count": 54,
   "metadata": {},
   "outputs": [
    {
     "name": "stdout",
     "output_type": "stream",
     "text": [
      "Subject 0\n",
      "Best parameter estimates: prior = (0.2942735104508001, 'alpha =', 0.0)\n",
      "R2: -4.0787468247316383e-07\n",
      "mean squared error 0.071635831687566\n",
      "SD error 0.2676486548987979\n",
      "BIC: -149.98090413343883\n",
      "AIC: -154.16959325788304\n",
      "====================================================================================================\n",
      "Subject 1\n",
      "Best parameter estimates: prior = (0.22767658068337407, 'alpha =', 0.08963216716005812)\n",
      "R2: 0.022458679922409464\n",
      "mean squared error 0.013961643390923\n",
      "SD error 0.11815934034908832\n",
      "BIC: -248.09779890537837\n",
      "AIC: -252.28648802982258\n",
      "====================================================================================================\n",
      "Subject 2\n",
      "Best parameter estimates: prior = (0.3469522371817191, 'alpha =', 0.0)\n",
      "R2: -2.00356163415627e-06\n",
      "mean squared error 0.03638124573142828\n",
      "SD error 0.1907384933344766\n",
      "BIC: -190.63342273194337\n",
      "AIC: -194.82211185638758\n",
      "====================================================================================================\n",
      "Subject 3\n",
      "Best parameter estimates: prior = (0.31674129710472015, 'alpha =', 0.0)\n",
      "R2: -8.389509709161302e-08\n",
      "mean squared error 0.06638889445859118\n",
      "SD error 0.2576604138956718\n",
      "BIC: -154.5448401926116\n",
      "AIC: -158.7335293170558\n",
      "====================================================================================================\n",
      "Subject 4\n",
      "Best parameter estimates: prior = (0.16409562468991526, 'alpha =', 0.0)\n",
      "R2: -2.4961982914017966e-06\n",
      "mean squared error 0.017121956319938337\n",
      "SD error 0.13085073014793197\n",
      "BIC: -235.85492950190832\n",
      "AIC: -240.04361862635253\n",
      "====================================================================================================\n"
     ]
    }
   ],
   "source": [
    "for i, response in enumerate(normalized_suspicion_ratings):\n",
    "    ss_tot =  np.sum((response-np.mean(response))**2)\n",
    "    gp_result = gp_minimize(partial(objective_single_model, response=response, trials=trials, stat='normed_unsigned_colour_count'), param_search_space, random_state=42)\n",
    "    optimal_ss_res = gp_result.fun\n",
    "    print(\"Subject\", i)\n",
    "    print(\"Best parameter estimates: prior =\", (gp_result.x[0], \"alpha =\", gp_result.x[1]))\n",
    "    print(\"R2:\", 1 - np.divide(optimal_ss_res, ss_tot))\n",
    "    pred = gp_result.x[0] + gp_result.x[1] * trials['normed_unsigned_colour_count']\n",
    "    mse = mean_squared_error(response, pred)\n",
    "    print(\"mean squared error\", mse)\n",
    "    print(\"SD error\", np.std(response-pred))\n",
    "    bic = calculate_bic(len(response), mse, len(param_search_space))\n",
    "    aic = calculate_aic(len(response), mse, len(param_search_space))\n",
    "    print(\"BIC:\", bic)\n",
    "    print(\"AIC:\", aic)\n",
    "    print(\"=\" * 100)"
   ]
  },
  {
   "cell_type": "code",
   "execution_count": 12,
   "metadata": {},
   "outputs": [],
   "source": [
    "m6_mse = [0.071635831687566, 0.013961643390923, 0.03638124573142828, 0.06638889445859118, 0.017121956319938337]"
   ]
  },
  {
   "cell_type": "code",
   "execution_count": 13,
   "metadata": {},
   "outputs": [
    {
     "data": {
      "text/plain": [
       "<AxesSubplot:ylabel='Density'>"
      ]
     },
     "execution_count": 13,
     "metadata": {},
     "output_type": "execute_result"
    },
    {
     "data": {
      "image/png": "[encoded data removed]",
      "text/plain": [
       "<Figure size 432x288 with 1 Axes>"
      ]
     },
     "metadata": {
      "needs_background": "light"
     },
     "output_type": "display_data"
    }
   ],
   "source": [
    "sns.kdeplot(data=m6_mse)"
   ]
  },
  {
   "cell_type": "code",
   "execution_count": null,
   "metadata": {},
   "outputs": [],
   "source": []
  },
  {
   "cell_type": "markdown",
   "metadata": {},
   "source": [
    "### weighted combined models"
   ]
  },
  {
   "cell_type": "markdown",
   "metadata": {},
   "source": [
    "### model 3.1: combined signed suspicion + colours tracker, one alpha as weight"
   ]
  },
  {
   "cell_type": "code",
   "execution_count": 55,
   "metadata": {},
   "outputs": [],
   "source": [
    "alpha = np.linspace(0, 1, 101)\n",
    "prior = np.linspace(0, 1, 101)\n",
    "\n",
    "params = (list(product(alpha, prior)))"
   ]
  },
  {
   "cell_type": "code",
   "execution_count": 56,
   "metadata": {},
   "outputs": [],
   "source": [
    "def fit_combi_model_a(responses, prior, alpha, trials):\n",
    "    best_params = []\n",
    "    best_r2 = []\n",
    "    params = list(product(prior, alpha))\n",
    "    for i, r in enumerate(responses):\n",
    "        print('response subject', i)\n",
    "        ss_tot = np.sum((r-np.mean(r))**2)\n",
    "        print('ss totals', ss_tot)\n",
    "        r2 = []\n",
    "        for param in params:\n",
    "            pred = param[0] + param[1] * trials['normed_signed_e_v'] + (1-param[1]) * trials['normed_signed_colour_count']\n",
    "            ss_res = np.sum((r-pred)**2)\n",
    "            r2.append(1 - np.divide(ss_res, ss_tot))\n",
    "        r2 = np.array(r2)\n",
    "        best_idx = r2.argmax()\n",
    "        print('best r2 index', best_idx)\n",
    "        best_params.append(params[best_idx])\n",
    "        best_r2.append(r2.max())\n",
    "    return best_params, best_r2"
   ]
  },
  {
   "cell_type": "code",
   "execution_count": 57,
   "metadata": {},
   "outputs": [
    {
     "name": "stdout",
     "output_type": "stream",
     "text": [
      "response subject 0\n",
      "ss totals 4.298148148148149\n",
      "best r2 index 11\n",
      "response subject 1\n",
      "ss totals 0.8569444444444447\n",
      "best r2 index 0\n",
      "response subject 2\n",
      "ss totals 2.1828703703703702\n",
      "best r2 index 13\n",
      "response subject 3\n",
      "ss totals 3.9833333333333343\n",
      "best r2 index 2\n",
      "response subject 4\n",
      "ss totals 1.0273148148148148\n",
      "best r2 index 0\n"
     ]
    },
    {
     "data": {
      "text/plain": [
       "([(0.0, 0.11), (0.0, 0.0), (0.0, 0.13), (0.0, 0.02), (0.0, 0.0)],\n",
       " [-0.5623245799224474,\n",
       "  -4.45867098865478,\n",
       "  -0.3341812513255571,\n",
       "  -0.06649623430962315,\n",
       "  -8.26904010815683])"
      ]
     },
     "execution_count": 57,
     "metadata": {},
     "output_type": "execute_result"
    }
   ],
   "source": [
    "fit_combi_model_a(normalized_suspicion_ratings, prior, alpha, trials)"
   ]
  },
  {
   "cell_type": "markdown",
   "metadata": {},
   "source": [
    "### model 3.2: combined signed suspicion + colours tracker, additional weight"
   ]
  },
  {
   "cell_type": "code",
   "execution_count": 58,
   "metadata": {},
   "outputs": [],
   "source": [
    "prior = np.linspace(0, 1, 101)\n",
    "alpha1 = np.linspace(0, 1, 101)\n",
    "alpha2 = np.linspace(0, 1, 101)\n",
    "weight = np.linspace(0, 1, 11)"
   ]
  },
  {
   "cell_type": "code",
   "execution_count": 59,
   "metadata": {},
   "outputs": [],
   "source": [
    "# def fit_combi_model_b(responses, prior, alpha1, alpha2, weight, trials):\n",
    "#     best_params = []\n",
    "#     best_r2 = []\n",
    "#     params = list(product(prior, alpha1, alpha2, weight))\n",
    "#     print(len(params))\n",
    "#     for i, r in enumerate(responses):\n",
    "#         print('response subject', i)\n",
    "#         ss_tot = np.sum((r-np.mean(r))**2)\n",
    "#         print('ss totals', ss_tot)\n",
    "#         r2 = []\n",
    "#         for param in params:\n",
    "#             pred = param[0] + param[3] * param[1] * trials['normed_signed_e_v'] + (1-param[3]) * param[2] * trials['normed_signed_colour_count']\n",
    "#             ss_res = np.sum((r-pred)**2)\n",
    "#             r2.append(1 - np.divide(ss_res, ss_tot))\n",
    "#         r2 = np.array(r2)\n",
    "#         best_idx = r2.argmax()\n",
    "#         print('best r2 index', best_idx)\n",
    "#         best_params.append(params[best_idx])\n",
    "#         best_r2.append(r2.max())\n",
    "#     return best_params, best_r2"
   ]
  },
  {
   "cell_type": "code",
   "execution_count": null,
   "metadata": {},
   "outputs": [],
   "source": [
    "# fit_combi_model_b(normalized_suspicion_ratings, prior, alpha1, alpha2, weight, trials)"
   ]
  },
  {
   "cell_type": "markdown",
   "metadata": {},
   "source": [
    "Gaussian Process minimization with skopt"
   ]
  },
  {
   "cell_type": "code",
   "execution_count": 61,
   "metadata": {},
   "outputs": [],
   "source": [
    "param_search_space = [Real(0, 1, name='prior'), Real(0, 1, name='alpha1'), Real(0, 1, name='alpha2'), Real(0, 1, name='weight')]"
   ]
  },
  {
   "cell_type": "code",
   "execution_count": 62,
   "metadata": {},
   "outputs": [],
   "source": [
    "def objective_weighted(params, response, trials):\n",
    "    pred = params[0] + params[3] * params[1] * trials['normed_signed_e_v'] + (1-params[3]) * params[2] * trials['normed_signed_colour_count']\n",
    "    ss_res = np.sum((response-pred)**2)\n",
    "    return ss_res"
   ]
  },
  {
   "cell_type": "code",
   "execution_count": 63,
   "metadata": {},
   "outputs": [],
   "source": [
    "# gp_result = gp_minimize(partial(objective, response=normalized_suspicion_ratings[0], trials=trials), param_search_space, random_state=42)"
   ]
  },
  {
   "cell_type": "code",
   "execution_count": 64,
   "metadata": {},
   "outputs": [
    {
     "name": "stdout",
     "output_type": "stream",
     "text": [
      "Subject 0\n",
      "Best parameter estimates: prior = (0.07069439598318544, 'alpha 1 =', 0.43155625329125763, 'alpha 2 =', 0.19539825446739917, 'weight =', 0.9341413950730619)\n",
      "R2: 0.2584928832251515\n",
      "mean squared error 0.05311845734674148\n",
      "SD error 0.23046441560999817\n",
      "BIC: -159.73647065998563\n",
      "AIC: -168.11384890887402\n",
      "====================================================================================================\n",
      "Subject 1\n",
      "Best parameter estimates: prior = (0.08372902837461246, 'alpha 1 =', 0.42814962223966907, 'alpha 2 =', 0.30738638827817544, 'weight =', 0.34374275822151285)\n",
      "R2: 0.5949914933838569\n",
      "mean squared error 0.005784496494957416\n",
      "SD error 0.07581490950055016\n",
      "BIC: -292.7770592570625\n",
      "AIC: -301.1544375059509\n",
      "====================================================================================================\n",
      "Subject 2\n",
      "Best parameter estimates: prior = (0.06832710928581165, 'alpha 1 =', 0.7352543484096302, 'alpha 2 =', 0.3049827769030515, 'weight =', 0.5120682038260442)\n",
      "R2: 0.601757805304751\n",
      "mean squared error 0.014488518117192125\n",
      "SD error 0.12036800944666003\n",
      "BIC: -237.68654958457145\n",
      "AIC: -246.06392783345984\n",
      "====================================================================================================\n",
      "Subject 3\n",
      "Best parameter estimates: prior = (0.0, 'alpha 1 =', 0.9133338920477662, 'alpha 2 =', 0.5329915221234925, 'weight =', 0.2885701672046169)\n",
      "R2: 0.4618969164673242\n",
      "mean squared error 0.03572406582341932\n",
      "SD error 0.1883475081565161\n",
      "BIC: -183.53846402756935\n",
      "AIC: -191.91584227645774\n",
      "====================================================================================================\n",
      "Subject 4\n",
      "Best parameter estimates: prior = (0.10858352623474415, 'alpha 1 =', 0.0930480434267153, 'alpha 2 =', 0.11574212153969483, 'weight =', 0.5609877640028149)\n",
      "R2: 0.03848720556645169\n",
      "mean squared error 0.01646293897259293\n",
      "SD error 0.12829844514044206\n",
      "BIC: -230.02123458709525\n",
      "AIC: -238.39861283598364\n",
      "====================================================================================================\n"
     ]
    }
   ],
   "source": [
    "for i, response in enumerate(normalized_suspicion_ratings):\n",
    "    ss_tot =  np.sum((response-np.mean(response))**2)\n",
    "    gp_result = gp_minimize(partial(objective_weighted, response=response, trials=trials), param_search_space, random_state=42)\n",
    "    optimal_ss_res = gp_result.fun\n",
    "    print(\"Subject\", i)\n",
    "    print(\"Best parameter estimates: prior =\", (gp_result.x[0], \"alpha 1 =\", gp_result.x[1], \"alpha 2 =\", gp_result.x[2], \"weight =\", gp_result.x[3]))\n",
    "    print(\"R2:\", 1 - np.divide(optimal_ss_res, ss_tot))\n",
    "    pred = gp_result.x[0] + gp_result.x[3] * gp_result.x[1] * trials['normed_signed_e_v'] + (1 - gp_result.x[3]) * gp_result.x[2] * trials['normed_signed_colour_count']\n",
    "    mse = mean_squared_error(response, pred)\n",
    "    print(\"mean squared error\", mse)\n",
    "    print(\"SD error\", np.std(response-pred))\n",
    "    bic = calculate_bic(len(response), mse, len(param_search_space))\n",
    "    aic = calculate_aic(len(response), mse, len(param_search_space))\n",
    "    print(\"BIC:\", bic)\n",
    "    print(\"AIC:\", aic)\n",
    "    print(\"=\" * 100)"
   ]
  },
  {
   "cell_type": "markdown",
   "metadata": {},
   "source": [
    "## combined model without added weight parameter"
   ]
  },
  {
   "cell_type": "code",
   "execution_count": 65,
   "metadata": {},
   "outputs": [],
   "source": [
    "def objective_weighted_b(params, response, trials):\n",
    "    pred = params[0] + params[1] * trials['normed_signed_e_v'] + params[2] * trials['normed_signed_colour_count']\n",
    "    ss_res = np.sum((response-pred)**2)\n",
    "    return ss_res"
   ]
  },
  {
   "cell_type": "code",
   "execution_count": 66,
   "metadata": {},
   "outputs": [],
   "source": [
    "param_search_space = [Real(0, 1, name='prior'), Real(0, 1, name='alpha1'), Real(0, 1, name='alpha2')]"
   ]
  },
  {
   "cell_type": "code",
   "execution_count": 67,
   "metadata": {},
   "outputs": [
    {
     "name": "stdout",
     "output_type": "stream",
     "text": [
      "Subject 0\n",
      "Best parameter estimates: prior = (0.06705001394483227, 'alpha 1 =', 0.41430505919094857, 'alpha 2 =', 0.0)\n",
      "R2: 0.2587793813866489\n",
      "mean squared error 0.053097933821036676\n",
      "SD error 0.23042263557199122\n",
      "BIC: -163.85400206830698\n",
      "AIC: -170.13703575497328\n",
      "====================================================================================================\n",
      "Subject 1\n",
      "Best parameter estimates: prior = (0.06425753644099105, 'alpha 1 =', 0.18728744844299602, 'alpha 2 =', 0.1861086438125473)\n",
      "R2: 0.6076259021956362\n",
      "mean squared error 0.005604046720955847\n",
      "SD error 0.07485747980328511\n",
      "BIC: -298.7729451214948\n",
      "AIC: -305.0559788081611\n",
      "====================================================================================================\n",
      "Subject 2\n",
      "Best parameter estimates: prior = (0.0631961516807351, 'alpha 1 =', 0.37440724944232867, 'alpha 2 =', 0.16274778899471118)\n",
      "R2: 0.6017034851843623\n",
      "mean squared error 0.01449049434688064\n",
      "SD error 0.12037294954189681\n",
      "BIC: -241.77271072221055\n",
      "AIC: -248.05574440887685\n",
      "====================================================================================================\n",
      "Subject 3\n",
      "Best parameter estimates: prior = (0.0, 'alpha 1 =', 0.2611881714151274, 'alpha 2 =', 0.37656785786542796)\n",
      "R2: 0.4620614442652058\n",
      "mean squared error 0.03571314300572662\n",
      "SD error 0.18851819953186172\n",
      "BIC: -187.65115670493788\n",
      "AIC: -193.93419039160418\n",
      "====================================================================================================\n",
      "Subject 4\n",
      "Best parameter estimates: prior = (0.10543309429432995, 'alpha 1 =', 0.04534978897047367, 'alpha 2 =', 0.0701070276366022)\n",
      "R2: 0.03861385304063092\n",
      "mean squared error 0.016460770525484877\n",
      "SD error 0.12829418750291036\n",
      "BIC: -234.12348268319334\n",
      "AIC: -240.40651636985965\n",
      "====================================================================================================\n"
     ]
    }
   ],
   "source": [
    "for i, response in enumerate(normalized_suspicion_ratings):\n",
    "    ss_tot =  np.sum((response-np.mean(response))**2)\n",
    "    gp_result = gp_minimize(partial(objective_weighted_b, response=response, trials=trials), param_search_space, random_state=42)\n",
    "    optimal_ss_res = gp_result.fun\n",
    "    print(\"Subject\", i)\n",
    "    print(\"Best parameter estimates: prior =\", (gp_result.x[0], \"alpha 1 =\", gp_result.x[1], \"alpha 2 =\", gp_result.x[2]))\n",
    "    print(\"R2:\", 1 - np.divide(optimal_ss_res, ss_tot))\n",
    "    pred = gp_result.x[0] + gp_result.x[1] * trials['normed_signed_e_v'] + gp_result.x[2] * trials['normed_signed_colour_count']\n",
    "    mse = mean_squared_error(response, pred)\n",
    "    print(\"mean squared error\", mse)\n",
    "    print(\"SD error\", np.std(response-pred))\n",
    "    bic = calculate_bic(len(response), mse, len(param_search_space))\n",
    "    aic = calculate_aic(len(response), mse, len(param_search_space))\n",
    "    print(\"BIC:\", bic)\n",
    "    print(\"AIC:\", aic)\n",
    "    print(\"=\" * 100)"
   ]
  },
  {
   "cell_type": "code",
   "execution_count": 14,
   "metadata": {},
   "outputs": [],
   "source": [
    "m7_mse = [0.053097933821036676, 0.005604046720955847, 0.01449049434688064, 0.03571314300572662, 0.016460770525484877]"
   ]
  },
  {
   "cell_type": "code",
   "execution_count": 15,
   "metadata": {},
   "outputs": [
    {
     "data": {
      "text/plain": [
       "<AxesSubplot:ylabel='Density'>"
      ]
     },
     "execution_count": 15,
     "metadata": {},
     "output_type": "execute_result"
    },
    {
     "data": {
      "image/png": "[encoded data removed]",
      "text/plain": [
       "<Figure size 432x288 with 1 Axes>"
      ]
     },
     "metadata": {
      "needs_background": "light"
     },
     "output_type": "display_data"
    }
   ],
   "source": [
    "sns.kdeplot(data=m7_mse)"
   ]
  },
  {
   "cell_type": "code",
   "execution_count": null,
   "metadata": {},
   "outputs": [],
   "source": []
  }
 ],
 "metadata": {
  "kernelspec": {
   "display_name": "Python 3",
   "language": "python",
   "name": "python3"
  },
  "language_info": {
   "codemirror_mode": {
    "name": "ipython",
    "version": 3
   },
   "file_extension": ".py",
   "mimetype": "text/x-python",
   "name": "python",
   "nbconvert_exporter": "python",
   "pygments_lexer": "ipython3",
   "version": "3.8.5"
  }
 },
 "nbformat": 4,
 "nbformat_minor": 4
}
