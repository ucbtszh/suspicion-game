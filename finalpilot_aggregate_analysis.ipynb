{
 "cells": [
  {
   "cell_type": "code",
   "execution_count": 1,
   "metadata": {},
   "outputs": [],
   "source": [
    "import numpy as np\n",
    "import json\n",
    "import pandas as pd\n",
    "import matplotlib as plt\n",
    "import seaborn as sns\n",
    "\n",
    "from itertools import product\n",
    "from collections import Counter"
   ]
  },
  {
   "cell_type": "code",
   "execution_count": 2,
   "metadata": {},
   "outputs": [],
   "source": [
    "from scripts.data_processing import GameResponses, Demographics"
   ]
  },
  {
   "cell_type": "code",
   "execution_count": 4,
   "metadata": {},
   "outputs": [],
   "source": [
    "import firebase_admin\n",
    "from firebase_admin import credentials\n",
    "from firebase_admin import firestore\n",
    "\n",
    "# Use a service account\n",
    "cred = credentials.Certificate('E:/Behavioural cybersecurity/project-notes/cards-dd-game-61b9b7f26a6e.json')\n",
    "firebase_admin.initialize_app(cred)\n",
    "\n",
    "db = firestore.client()\n",
    "\n",
    "subjects_ref = db.collection(u'subjects')"
   ]
  },
  {
   "cell_type": "code",
   "execution_count": 5,
   "metadata": {},
   "outputs": [],
   "source": [
    "uuids = [ # same players condition\n",
    "    '611e4e160f41977f737035ef',\n",
    "    '6112b4cdd72db936075c0db8',\n",
    "    '611e28b12a630ff00cc467a8',\n",
    "    '6108512871ec370e525ef4f0',\n",
    "    '611e717148e6b271f0b70d6f',\n",
    "    '5f415bea2ba0682e7fc98fbf',\n",
    "    '611e6e0371738becff3551d8',\n",
    "    '60ff0201788cef38c8695833',\n",
    "    '6115e7dcd6cecc981dde3ed6', #incomplete response\n",
    "    '611be41c1e9cca41ae48582a'\n",
    "]\n",
    "\n",
    "# uuids = [ # different players condition\n",
    "#     '61005d2e9b8bac27eba5b984',\n",
    "# '610995bd91de0e899effd73d',\n",
    "# '599186630675b100014daddd',\n",
    "# '6119884fd696463d717432c9',\n",
    "# '610bb05be2e705f3e47e87fb',\n",
    "# '610824959b488e57fa8a4a33',\n",
    "# '60f0937892bd49086d6e2a77',\n",
    "# '5cf656e90acc8f000147f643',\n",
    "# '5fe292a28fd71dea34d04453',\n",
    "# '5d341b57a48ae7000114152a'\n",
    "# ]"
   ]
  },
  {
   "cell_type": "markdown",
   "metadata": {},
   "source": [
    "### inspect main game responses"
   ]
  },
  {
   "cell_type": "code",
   "execution_count": 6,
   "metadata": {},
   "outputs": [],
   "source": [
    "ttt = []\n",
    "\n",
    "for uuid in uuids:\n",
    "    ttt.append(subjects_ref.document(uuid).get())"
   ]
  },
  {
   "cell_type": "code",
   "execution_count": 7,
   "metadata": {},
   "outputs": [],
   "source": [
    "condition = {}\n",
    "\n",
    "for i, uuid in enumerate(uuids):\n",
    "    cond = ttt[i].to_dict()['condition']\n",
    "    condition[uuids[i]] = cond"
   ]
  },
  {
   "cell_type": "code",
   "execution_count": 8,
   "metadata": {},
   "outputs": [],
   "source": [
    "# game task responses query reference\n",
    "refs_block1 = []\n",
    "\n",
    "for uuid in uuids:\n",
    "    refs_block1.append(subjects_ref.document(uuid).collection(u'responses').document('game_block1').get())"
   ]
  },
  {
   "cell_type": "code",
   "execution_count": 9,
   "metadata": {},
   "outputs": [],
   "source": [
    "# game task responses query reference\n",
    "refs_block2 = []\n",
    "\n",
    "for uuid in uuids:\n",
    "    refs_block2.append(subjects_ref.document(uuid).collection(u'responses').document('game_block2').get())"
   ]
  },
  {
   "cell_type": "code",
   "execution_count": 10,
   "metadata": {},
   "outputs": [],
   "source": [
    "# game task responses query reference\n",
    "refs_block3 = []\n",
    "\n",
    "for uuid in uuids:\n",
    "    refs_block3.append(subjects_ref.document(uuid).collection(u'responses').document('game_block3').get())"
   ]
  },
  {
   "cell_type": "code",
   "execution_count": 11,
   "metadata": {},
   "outputs": [],
   "source": [
    "# card values\n",
    "transdict = {'blue': 1, 'red': -1}"
   ]
  },
  {
   "cell_type": "markdown",
   "metadata": {},
   "source": [
    "### process main response data per user"
   ]
  },
  {
   "cell_type": "code",
   "execution_count": 12,
   "metadata": {},
   "outputs": [],
   "source": [
    "honesty_ratings = []\n",
    "RT_ratings = []\n",
    "\n",
    "rand_pick_col = []\n",
    "reported_col = []\n",
    "\n",
    "for i in range(len(uuids)):\n",
    "    block1_resp = GameResponses.from_dict(refs_block1[i].to_dict())\n",
    "    block2_resp = GameResponses.from_dict(refs_block2[i].to_dict())\n",
    "    block3_resp = GameResponses.from_dict(refs_block3[i].to_dict())\n",
    "    \n",
    "    i_honesty_ratings = [int(numeric_string) for numeric_string in block1_resp.honestyRating]\n",
    "    i_honesty_ratings.extend([int(numeric_string) for numeric_string in block2_resp.honestyRating])\n",
    "    i_honesty_ratings.extend([int(numeric_string) for numeric_string in block3_resp.honestyRating])\n",
    "    honesty_ratings.append(i_honesty_ratings)\n",
    "    \n",
    "    i_pick = [transdict[x] for x in block1_resp.randomPickColour]\n",
    "    i_pick.extend([transdict[x] for x in block2_resp.randomPickColour])\n",
    "    i_pick.extend([transdict[x] for x in block3_resp.randomPickColour])\n",
    "    rand_pick_col.append(i_pick)\n",
    "    \n",
    "    i_report = [x for x in block1_resp.reportColour]\n",
    "    i_report.extend([x for x in block2_resp.reportColour])\n",
    "    i_report.extend([x for x in block3_resp.reportColour])\n",
    "    reported_col.append(i_report)\n",
    "    \n",
    "    i_RT_ratings = [int(numeric_string) for numeric_string in block1_resp.RThonesty]\n",
    "    i_RT_ratings.extend([int(numeric_string) for numeric_string in block2_resp.RThonesty])\n",
    "    i_RT_ratings.extend([int(numeric_string) for numeric_string in block3_resp.RThonesty])\n",
    "    RT_ratings.append(i_RT_ratings)"
   ]
  },
  {
   "cell_type": "code",
   "execution_count": 13,
   "metadata": {},
   "outputs": [
    {
     "name": "stdout",
     "output_type": "stream",
     "text": [
      "0.4777777777777778 3.8666666666666667\n",
      "0.6111111111111112 6.0\n",
      "0.34444444444444444 3.533333333333333\n",
      "0.03333333333333333 4.222222222222222\n",
      "0.13333333333333333 2.6444444444444444\n",
      "0.5666666666666667 3.0\n",
      "0.7444444444444445 3.533333333333333\n",
      "0.0 3.8333333333333335\n",
      "0.4666666666666667 5.555555555555555\n",
      "0.4444444444444444 2.6555555555555554\n"
     ]
    }
   ],
   "source": [
    "# lie proportion per user\n",
    "lie_prop = []\n",
    "avg_honesty_rating = []\n",
    "\n",
    "for i in range(len(uuids)):\n",
    "    i_lie_prop = sum([x != y for x, y in zip(rand_pick_col[i], reported_col[i])])/90\n",
    "    i_avg_rating = sum(honesty_ratings[i])/len(honesty_ratings[i])\n",
    "    print(i_lie_prop, i_avg_rating)\n",
    "    lie_prop.append(i_lie_prop)\n",
    "    avg_honesty_rating.append(i_avg_rating)"
   ]
  },
  {
   "cell_type": "code",
   "execution_count": 14,
   "metadata": {},
   "outputs": [],
   "source": [
    "from scipy.stats import spearmanr, pearsonr"
   ]
  },
  {
   "cell_type": "code",
   "execution_count": 15,
   "metadata": {},
   "outputs": [
    {
     "data": {
      "text/plain": [
       "SpearmanrResult(correlation=0.15197638592001614, pvalue=0.6751243317896831)"
      ]
     },
     "execution_count": 15,
     "metadata": {},
     "output_type": "execute_result"
    }
   ],
   "source": [
    "spearmanr(lie_prop, avg_honesty_rating)"
   ]
  },
  {
   "cell_type": "code",
   "execution_count": 16,
   "metadata": {},
   "outputs": [
    {
     "data": {
      "text/plain": [
       "(0.18814150306102617, 0.6027017338392772)"
      ]
     },
     "execution_count": 16,
     "metadata": {},
     "output_type": "execute_result"
    }
   ],
   "source": [
    "pearsonr(lie_prop, avg_honesty_rating)"
   ]
  },
  {
   "cell_type": "code",
   "execution_count": 17,
   "metadata": {},
   "outputs": [],
   "source": [
    "norm_honesty_ratings = []\n",
    "\n",
    "for ratings in honesty_ratings:\n",
    "    normed = [(v/6) for v in ratings]\n",
    "    norm_honesty_ratings.append(normed)"
   ]
  },
  {
   "cell_type": "code",
   "execution_count": 18,
   "metadata": {},
   "outputs": [],
   "source": [
    "import numexpr\n",
    "\n",
    "norm_suspicion_ratings = numexpr.evaluate('(1 - norm_honesty_ratings)')"
   ]
  },
  {
   "cell_type": "code",
   "execution_count": 20,
   "metadata": {},
   "outputs": [],
   "source": [
    "tmp = {uuids[i]: ratings for i, ratings in enumerate(norm_suspicion_ratings)}\n",
    "\n",
    "# pd.DataFrame(tmp).to_json('final_pilot_diffplayer_normalized_suspicion_ratings.json')"
   ]
  },
  {
   "cell_type": "code",
   "execution_count": 21,
   "metadata": {},
   "outputs": [
    {
     "data": {
      "text/plain": [
       "{'611e4e160f41977f737035ef': array([0.5       , 0.        , 0.83333333, 0.        , 0.83333333,\n",
       "        0.        , 0.        , 0.5       , 0.16666667, 0.        ,\n",
       "        0.        , 0.5       , 0.        , 0.        , 0.16666667,\n",
       "        0.        , 0.        , 0.83333333, 0.        , 0.16666667,\n",
       "        0.16666667, 0.        , 0.16666667, 0.16666667, 0.        ,\n",
       "        0.16666667, 0.33333333, 0.        , 0.83333333, 0.66666667,\n",
       "        0.5       , 0.        , 0.16666667, 0.5       , 0.        ,\n",
       "        0.        , 0.        , 0.16666667, 0.5       , 0.        ,\n",
       "        0.33333333, 0.66666667, 0.        , 0.        , 0.16666667,\n",
       "        0.66666667, 0.33333333, 0.        , 0.16666667, 0.        ,\n",
       "        0.83333333, 0.        , 1.        , 0.33333333, 0.33333333,\n",
       "        0.5       , 1.        , 0.33333333, 0.66666667, 0.        ,\n",
       "        0.66666667, 0.83333333, 0.        , 0.5       , 0.        ,\n",
       "        0.66666667, 0.33333333, 0.33333333, 0.33333333, 1.        ,\n",
       "        0.33333333, 1.        , 0.33333333, 0.66666667, 1.        ,\n",
       "        0.83333333, 1.        , 0.83333333, 0.66666667, 0.5       ,\n",
       "        0.5       , 0.        , 0.        , 0.5       , 0.        ,\n",
       "        0.33333333, 0.83333333, 0.83333333, 0.5       , 0.5       ]),\n",
       " '6112b4cdd72db936075c0db8': array([0., 0., 0., 0., 0., 0., 0., 0., 0., 0., 0., 0., 0., 0., 0., 0., 0.,\n",
       "        0., 0., 0., 0., 0., 0., 0., 0., 0., 0., 0., 0., 0., 0., 0., 0., 0.,\n",
       "        0., 0., 0., 0., 0., 0., 0., 0., 0., 0., 0., 0., 0., 0., 0., 0., 0.,\n",
       "        0., 0., 0., 0., 0., 0., 0., 0., 0., 0., 0., 0., 0., 0., 0., 0., 0.,\n",
       "        0., 0., 0., 0., 0., 0., 0., 0., 0., 0., 0., 0., 0., 0., 0., 0., 0.,\n",
       "        0., 0., 0., 0., 0.]),\n",
       " '611e28b12a630ff00cc467a8': array([0.33333333, 0.        , 0.83333333, 0.16666667, 1.        ,\n",
       "        0.33333333, 0.16666667, 0.        , 1.        , 0.16666667,\n",
       "        0.16666667, 0.16666667, 0.83333333, 0.16666667, 0.16666667,\n",
       "        0.        , 0.16666667, 0.16666667, 0.        , 0.16666667,\n",
       "        0.16666667, 0.        , 0.        , 0.16666667, 0.        ,\n",
       "        0.        , 0.33333333, 0.        , 1.        , 1.        ,\n",
       "        0.5       , 0.        , 0.16666667, 0.16666667, 0.83333333,\n",
       "        0.16666667, 0.16666667, 0.33333333, 0.33333333, 0.16666667,\n",
       "        0.33333333, 0.33333333, 0.        , 0.16666667, 0.33333333,\n",
       "        0.66666667, 0.16666667, 0.16666667, 0.33333333, 0.        ,\n",
       "        1.        , 0.        , 1.        , 0.66666667, 0.16666667,\n",
       "        0.33333333, 1.        , 0.16666667, 0.66666667, 0.        ,\n",
       "        0.83333333, 0.83333333, 0.16666667, 0.83333333, 0.16666667,\n",
       "        0.83333333, 0.66666667, 0.16666667, 0.16666667, 1.        ,\n",
       "        0.16666667, 1.        , 0.16666667, 1.        , 1.        ,\n",
       "        1.        , 1.        , 1.        , 1.        , 1.        ,\n",
       "        1.        , 0.33333333, 0.16666667, 0.16666667, 0.        ,\n",
       "        0.        , 0.83333333, 0.83333333, 0.5       , 0.16666667]),\n",
       " '6108512871ec370e525ef4f0': array([0.16666667, 0.16666667, 0.16666667, 0.16666667, 0.16666667,\n",
       "        0.16666667, 0.16666667, 0.16666667, 0.16666667, 0.16666667,\n",
       "        0.16666667, 0.16666667, 0.16666667, 0.16666667, 0.16666667,\n",
       "        0.16666667, 0.16666667, 0.16666667, 0.16666667, 0.16666667,\n",
       "        0.16666667, 0.16666667, 0.16666667, 0.16666667, 0.16666667,\n",
       "        0.16666667, 0.16666667, 0.16666667, 0.16666667, 0.16666667,\n",
       "        0.16666667, 0.16666667, 0.16666667, 0.16666667, 0.16666667,\n",
       "        0.16666667, 0.16666667, 0.16666667, 0.16666667, 0.16666667,\n",
       "        0.16666667, 0.5       , 0.16666667, 0.33333333, 0.16666667,\n",
       "        0.33333333, 0.33333333, 0.33333333, 0.33333333, 0.33333333,\n",
       "        0.5       , 0.33333333, 0.16666667, 0.16666667, 0.16666667,\n",
       "        0.33333333, 0.5       , 0.5       , 0.83333333, 0.5       ,\n",
       "        0.5       , 0.66666667, 0.5       , 0.33333333, 0.33333333,\n",
       "        0.33333333, 0.33333333, 0.5       , 0.5       , 0.5       ,\n",
       "        0.5       , 0.5       , 0.33333333, 0.5       , 0.5       ,\n",
       "        0.33333333, 0.5       , 0.33333333, 0.5       , 0.5       ,\n",
       "        0.66666667, 0.33333333, 0.16666667, 0.33333333, 0.16666667,\n",
       "        0.33333333, 0.5       , 0.5       , 0.5       , 0.5       ]),\n",
       " '611e717148e6b271f0b70d6f': array([0.        , 0.66666667, 0.5       , 0.        , 0.5       ,\n",
       "        0.        , 0.        , 0.16666667, 0.16666667, 0.        ,\n",
       "        0.33333333, 0.        , 0.16666667, 1.        , 0.        ,\n",
       "        0.        , 0.16666667, 1.        , 0.16666667, 0.16666667,\n",
       "        1.        , 0.        , 0.16666667, 1.        , 0.16666667,\n",
       "        0.16666667, 1.        , 0.16666667, 1.        , 1.        ,\n",
       "        1.        , 0.5       , 0.83333333, 0.83333333, 0.5       ,\n",
       "        0.5       , 0.5       , 0.5       , 0.5       , 0.5       ,\n",
       "        1.        , 1.        , 0.33333333, 0.5       , 1.        ,\n",
       "        0.5       , 0.83333333, 0.33333333, 0.5       , 0.16666667,\n",
       "        0.83333333, 0.83333333, 0.16666667, 0.83333333, 0.16666667,\n",
       "        0.83333333, 0.83333333, 0.16666667, 0.16666667, 0.83333333,\n",
       "        1.        , 0.16666667, 0.83333333, 1.        , 0.33333333,\n",
       "        1.        , 0.5       , 0.5       , 0.5       , 1.        ,\n",
       "        0.66666667, 0.83333333, 0.5       , 0.83333333, 0.83333333,\n",
       "        0.83333333, 0.83333333, 1.        , 1.        , 1.        ,\n",
       "        1.        , 0.83333333, 0.83333333, 0.66666667, 0.66666667,\n",
       "        0.33333333, 0.5       , 0.5       , 0.5       , 0.66666667]),\n",
       " '5f415bea2ba0682e7fc98fbf': array([0.83333333, 0.16666667, 0.16666667, 0.16666667, 0.5       ,\n",
       "        0.16666667, 0.16666667, 0.16666667, 0.16666667, 0.16666667,\n",
       "        0.33333333, 0.5       , 0.5       , 0.83333333, 0.16666667,\n",
       "        0.        , 0.        , 0.5       , 0.        , 0.5       ,\n",
       "        0.5       , 0.        , 0.5       , 0.83333333, 0.        ,\n",
       "        0.16666667, 0.5       , 0.        , 0.5       , 1.        ,\n",
       "        0.83333333, 0.        , 0.5       , 0.66666667, 0.        ,\n",
       "        0.        , 0.16666667, 0.66666667, 0.5       , 0.16666667,\n",
       "        0.83333333, 0.66666667, 0.        , 0.16666667, 0.5       ,\n",
       "        0.5       , 0.33333333, 0.        , 0.5       , 0.        ,\n",
       "        1.        , 0.33333333, 1.        , 0.66666667, 0.16666667,\n",
       "        0.66666667, 1.        , 1.        , 1.        , 0.        ,\n",
       "        1.        , 1.        , 0.33333333, 0.83333333, 0.        ,\n",
       "        1.        , 0.5       , 0.33333333, 0.16666667, 1.        ,\n",
       "        0.        , 1.        , 1.        , 1.        , 1.        ,\n",
       "        1.        , 1.        , 1.        , 1.        , 1.        ,\n",
       "        1.        , 0.        , 0.        , 0.66666667, 0.5       ,\n",
       "        0.        , 1.        , 0.83333333, 1.        , 1.        ]),\n",
       " '611e6e0371738becff3551d8': array([1.        , 0.        , 1.        , 0.        , 1.        ,\n",
       "        0.        , 0.        , 0.83333333, 0.33333333, 0.        ,\n",
       "        0.16666667, 0.5       , 0.16666667, 0.16666667, 0.16666667,\n",
       "        0.        , 0.        , 0.66666667, 0.        , 0.33333333,\n",
       "        0.33333333, 0.        , 0.16666667, 0.33333333, 0.        ,\n",
       "        0.        , 0.5       , 0.        , 1.        , 0.83333333,\n",
       "        0.83333333, 0.        , 0.33333333, 1.        , 0.        ,\n",
       "        0.        , 0.        , 0.66666667, 0.66666667, 0.        ,\n",
       "        0.66666667, 0.83333333, 0.        , 0.        , 0.33333333,\n",
       "        0.66666667, 0.16666667, 0.        , 0.33333333, 0.        ,\n",
       "        0.83333333, 0.        , 0.66666667, 0.33333333, 0.16666667,\n",
       "        0.66666667, 0.33333333, 0.16666667, 0.33333333, 0.        ,\n",
       "        0.83333333, 0.83333333, 0.        , 0.83333333, 0.        ,\n",
       "        0.66666667, 0.66666667, 0.16666667, 0.16666667, 1.        ,\n",
       "        0.16666667, 0.83333333, 0.33333333, 0.83333333, 0.83333333,\n",
       "        0.83333333, 1.        , 1.        , 1.        , 0.83333333,\n",
       "        1.        , 0.        , 0.        , 0.5       , 0.        ,\n",
       "        0.16666667, 0.83333333, 0.83333333, 0.66666667, 0.66666667]),\n",
       " '60ff0201788cef38c8695833': array([0.16666667, 0.16666667, 0.33333333, 0.16666667, 0.16666667,\n",
       "        0.16666667, 0.16666667, 0.16666667, 0.16666667, 0.16666667,\n",
       "        0.33333333, 0.33333333, 0.5       , 0.5       , 0.5       ,\n",
       "        0.16666667, 0.16666667, 0.33333333, 0.16666667, 0.5       ,\n",
       "        0.5       , 0.16666667, 0.16666667, 0.5       , 0.16666667,\n",
       "        0.5       , 0.5       , 0.16666667, 0.16666667, 0.5       ,\n",
       "        0.16666667, 0.16666667, 0.16666667, 0.33333333, 0.16666667,\n",
       "        0.16666667, 0.16666667, 0.16666667, 0.16666667, 0.16666667,\n",
       "        0.16666667, 0.16666667, 0.16666667, 0.16666667, 0.16666667,\n",
       "        0.5       , 0.5       , 0.16666667, 0.16666667, 0.16666667,\n",
       "        0.16666667, 0.16666667, 0.16666667, 0.16666667, 0.16666667,\n",
       "        0.16666667, 0.5       , 0.5       , 0.83333333, 0.16666667,\n",
       "        0.16666667, 0.16666667, 0.16666667, 0.16666667, 0.16666667,\n",
       "        0.16666667, 0.16666667, 0.5       , 0.5       , 0.5       ,\n",
       "        0.83333333, 0.83333333, 0.83333333, 1.        , 1.        ,\n",
       "        1.        , 1.        , 1.        , 1.        , 1.        ,\n",
       "        1.        , 0.16666667, 0.16666667, 0.5       , 0.16666667,\n",
       "        0.5       , 0.5       , 0.5       , 0.5       , 0.5       ]),\n",
       " '6115e7dcd6cecc981dde3ed6': array([0.        , 0.        , 0.        , 0.        , 0.        ,\n",
       "        0.        , 0.        , 0.16666667, 0.        , 0.        ,\n",
       "        0.        , 0.        , 0.        , 0.16666667, 0.        ,\n",
       "        0.        , 0.        , 0.16666667, 0.        , 0.        ,\n",
       "        0.        , 0.        , 0.        , 0.        , 0.16666667,\n",
       "        0.        , 0.        , 0.        , 0.        , 0.        ,\n",
       "        0.        , 0.        , 0.        , 0.16666667, 0.        ,\n",
       "        0.        , 0.33333333, 0.16666667, 0.        , 0.16666667,\n",
       "        0.16666667, 0.16666667, 0.16666667, 0.16666667, 0.16666667,\n",
       "        0.16666667, 0.16666667, 0.16666667, 0.        , 0.        ,\n",
       "        0.16666667, 0.        , 0.16666667, 0.        , 0.16666667,\n",
       "        0.16666667, 0.        , 0.        , 0.        , 0.        ,\n",
       "        0.        , 0.        , 0.16666667, 0.        , 0.        ,\n",
       "        0.        , 0.16666667, 0.        , 0.16666667, 0.        ,\n",
       "        0.        , 0.        , 0.        , 0.16666667, 0.16666667,\n",
       "        0.16666667, 0.        , 0.16666667, 0.        , 0.16666667,\n",
       "        0.16666667, 0.16666667, 0.16666667, 0.16666667, 0.33333333,\n",
       "        0.16666667, 0.16666667, 0.16666667, 0.16666667, 0.16666667]),\n",
       " '611be41c1e9cca41ae48582a': array([0.5       , 0.66666667, 0.5       , 0.33333333, 0.5       ,\n",
       "        0.5       , 0.66666667, 0.66666667, 0.16666667, 1.        ,\n",
       "        0.66666667, 0.33333333, 0.33333333, 0.33333333, 0.5       ,\n",
       "        0.33333333, 0.83333333, 0.5       , 0.5       , 0.66666667,\n",
       "        0.83333333, 0.83333333, 0.83333333, 0.83333333, 0.33333333,\n",
       "        0.5       , 0.33333333, 0.83333333, 0.5       , 0.33333333,\n",
       "        0.16666667, 0.66666667, 0.66666667, 0.33333333, 0.83333333,\n",
       "        0.33333333, 0.5       , 0.33333333, 0.33333333, 0.83333333,\n",
       "        0.83333333, 0.33333333, 0.33333333, 0.33333333, 0.66666667,\n",
       "        0.5       , 0.5       , 0.33333333, 0.66666667, 0.66666667,\n",
       "        0.66666667, 0.33333333, 0.83333333, 0.66666667, 0.5       ,\n",
       "        1.        , 0.5       , 0.5       , 0.5       , 0.66666667,\n",
       "        0.33333333, 0.66666667, 0.5       , 0.5       , 0.66666667,\n",
       "        0.83333333, 0.33333333, 0.5       , 0.66666667, 0.5       ,\n",
       "        0.33333333, 0.5       , 0.66666667, 0.66666667, 0.83333333,\n",
       "        0.83333333, 0.33333333, 0.5       , 0.66666667, 0.5       ,\n",
       "        0.66666667, 0.33333333, 0.5       , 0.33333333, 0.5       ,\n",
       "        0.83333333, 0.83333333, 0.66666667, 0.66666667, 0.5       ])}"
      ]
     },
     "execution_count": 21,
     "metadata": {},
     "output_type": "execute_result"
    }
   ],
   "source": [
    "tmp"
   ]
  },
  {
   "cell_type": "code",
   "execution_count": 195,
   "metadata": {},
   "outputs": [],
   "source": [
    "tmp = {uuids[i]: ratings for i, ratings in enumerate(honesty_ratings)}"
   ]
  },
  {
   "cell_type": "code",
   "execution_count": 139,
   "metadata": {},
   "outputs": [],
   "source": [
    "# inspect block order effects\n",
    "\n",
    "def mean(x):\n",
    "    return sum(x)/len(x)"
   ]
  },
  {
   "cell_type": "code",
   "execution_count": 196,
   "metadata": {},
   "outputs": [],
   "source": [
    "avg_nolie_block_ratings = []\n",
    "avg_lie33_block_ratings = []\n",
    "avg_lie50_block_ratings = []\n",
    "\n",
    "sd_nolie_block_ratings = []\n",
    "sd_lie33_block_ratings = []\n",
    "sd_lie50_block_ratings = []\n",
    "\n",
    "for i, uuid in enumerate(uuids):\n",
    "    if condition[uuid] == \"11\":\n",
    "        nolie = tmp[uuid][:30]\n",
    "        avg_nolie_block_ratings.append(mean(nolie))\n",
    "        sd_nolie_block_ratings.append(np.std(nolie))\n",
    "#         print(i, \"mean honesty rating\", mean(nolie))\n",
    "#         print(i, \"SD honesty rating\", np.std(nolie))\n",
    "        \n",
    "        lie33 = tmp[uuid][30:60]\n",
    "        avg_lie33_block_ratings.append(mean(lie33))\n",
    "        sd_lie33_block_ratings.append(np.std(lie33))\n",
    "        \n",
    "        lie50 = tmp[uuid][60:]\n",
    "        avg_lie50_block_ratings.append(mean(lie50))\n",
    "        sd_lie50_block_ratings.append(np.std(lie50))\n",
    "        \n",
    "    if condition[uuid] == \"12\":\n",
    "        nolie = tmp[uuid][:30]\n",
    "        avg_nolie_block_ratings.append(mean(nolie))\n",
    "        sd_nolie_block_ratings.append(np.std(nolie))\n",
    "#         print(i, \"mean honesty rating\", mean(nolie))\n",
    "#         print(i, \"SD honesty rating\", np.std(nolie))\n",
    "        \n",
    "        lie33 = tmp[uuid][60:]\n",
    "        avg_lie33_block_ratings.append(mean(lie33))\n",
    "        sd_lie33_block_ratings.append(np.std(lie33))\n",
    "        \n",
    "        lie50 = tmp[uuid][30:60]\n",
    "        avg_lie50_block_ratings.append(mean(lie50))\n",
    "        sd_lie50_block_ratings.append(np.std(lie50))\n",
    "        \n",
    "    if condition[uuid] == \"21\":\n",
    "        nolie = tmp[uuid][30:60]\n",
    "        avg_nolie_block_ratings.append(mean(nolie))\n",
    "        sd_nolie_block_ratings.append(np.std(nolie))\n",
    "#         print(i, \"mean honesty rating\", mean(nolie))\n",
    "#         print(i, \"SD honesty rating\", np.std(nolie))\n",
    "        \n",
    "        lie33 = tmp[uuid][:30]\n",
    "        avg_lie33_block_ratings.append(mean(lie33))\n",
    "        sd_lie33_block_ratings.append(np.std(lie33))\n",
    "        \n",
    "        lie50 = tmp[uuid][60:]\n",
    "        avg_lie50_block_ratings.append(mean(lie50))\n",
    "        sd_lie50_block_ratings.append(np.std(lie50))\n",
    "        \n",
    "    if condition[uuid] == \"22\":\n",
    "        nolie = tmp[uuid][60:]\n",
    "        avg_nolie_block_ratings.append(mean(nolie))\n",
    "        sd_nolie_block_ratings.append(np.std(nolie))\n",
    "#         print(i, \"mean honesty rating\", mean(nolie))\n",
    "#         print(i, \"SD honesty rating\", np.std(nolie))\n",
    "        \n",
    "        lie33 = tmp[uuid][:30]\n",
    "        avg_lie33_block_ratings.append(mean(lie33))\n",
    "        sd_lie33_block_ratings.append(np.std(lie33))\n",
    "        \n",
    "        lie50 = tmp[uuid][30:60]\n",
    "        avg_lie50_block_ratings.append(mean(lie50))\n",
    "        sd_lie50_block_ratings.append(np.std(lie50))\n",
    "        \n",
    "    if condition[uuid] == \"31\":\n",
    "        nolie = tmp[uuid][30:60]\n",
    "        avg_nolie_block_ratings.append(mean(nolie))\n",
    "        sd_nolie_block_ratings.append(np.std(nolie))\n",
    "#         print(i, \"mean honesty rating\", mean(nolie))\n",
    "#         print(i, \"SD honesty rating\", np.std(nolie))\n",
    "        \n",
    "        lie33 = tmp[uuid][60:]\n",
    "        avg_lie33_block_ratings.append(mean(lie33))\n",
    "        sd_lie33_block_ratings.append(np.std(lie33))\n",
    "        \n",
    "        lie50 = tmp[uuid][:30]\n",
    "        avg_lie50_block_ratings.append(mean(lie50))\n",
    "        sd_lie50_block_ratings.append(np.std(lie50))\n",
    "    if condition[uuid] == \"32\":\n",
    "        nolie = tmp[uuid][60:]\n",
    "        avg_nolie_block_ratings.append(mean(nolie))\n",
    "        sd_nolie_block_ratings.append(np.std(nolie))\n",
    "#         print(i, \"mean honesty rating\", mean(nolie))\n",
    "#         print(i, \"SD honesty rating\", np.std(nolie))\n",
    "                \n",
    "        lie33 = tmp[uuid][30:60]\n",
    "        avg_lie33_block_ratings.append(mean(lie33))\n",
    "        sd_lie33_block_ratings.append(np.std(lie33))\n",
    "        \n",
    "        lie50 = tmp[uuid][:30]\n",
    "        avg_lie50_block_ratings.append(mean(lie50))\n",
    "        sd_lie50_block_ratings.append(np.std(lie50))\n",
    "    else:\n",
    "        pass"
   ]
  },
  {
   "cell_type": "code",
   "execution_count": 197,
   "metadata": {},
   "outputs": [],
   "source": [
    "block_lieorder_avg_ratings = list(zip(avg_nolie_block_ratings, avg_lie33_block_ratings, avg_lie50_block_ratings))"
   ]
  },
  {
   "cell_type": "code",
   "execution_count": 199,
   "metadata": {},
   "outputs": [],
   "source": [
    "block_lieorder_sd_ratings = list(zip(sd_nolie_block_ratings, sd_lie33_block_ratings, sd_lie50_block_ratings))"
   ]
  },
  {
   "cell_type": "code",
   "execution_count": 201,
   "metadata": {},
   "outputs": [],
   "source": [
    "from scipy.stats import chisquare"
   ]
  },
  {
   "cell_type": "code",
   "execution_count": 202,
   "metadata": {},
   "outputs": [
    {
     "data": {
      "text/plain": [
       "Power_divergenceResult(statistic=3.879077099455432, pvalue=0.9191894604148341)"
      ]
     },
     "execution_count": 202,
     "metadata": {},
     "output_type": "execute_result"
    }
   ],
   "source": [
    "chisquare(avg_nolie_block_ratings)"
   ]
  },
  {
   "cell_type": "code",
   "execution_count": 203,
   "metadata": {},
   "outputs": [
    {
     "data": {
      "text/plain": [
       "Power_divergenceResult(statistic=5.1985923929320155, pvalue=0.8166641465375826)"
      ]
     },
     "execution_count": 203,
     "metadata": {},
     "output_type": "execute_result"
    }
   ],
   "source": [
    "chisquare(avg_lie33_block_ratings)"
   ]
  },
  {
   "cell_type": "code",
   "execution_count": 204,
   "metadata": {},
   "outputs": [
    {
     "data": {
      "text/plain": [
       "Power_divergenceResult(statistic=3.2765027322404356, pvalue=0.9523166295273383)"
      ]
     },
     "execution_count": 204,
     "metadata": {},
     "output_type": "execute_result"
    }
   ],
   "source": [
    "chisquare(avg_lie50_block_ratings)"
   ]
  },
  {
   "cell_type": "code",
   "execution_count": 210,
   "metadata": {},
   "outputs": [
    {
     "data": {
      "text/plain": [
       "[4.166666666666667,\n",
       " 6.0,\n",
       " 4.266666666666667,\n",
       " 3.4,\n",
       " 2.4,\n",
       " 3.2333333333333334,\n",
       " 2.5,\n",
       " 4.266666666666667,\n",
       " 5.866666666666666,\n",
       " 2.6666666666666665]"
      ]
     },
     "execution_count": 210,
     "metadata": {},
     "output_type": "execute_result"
    }
   ],
   "source": [
    "avg_nolie_block_ratings"
   ]
  },
  {
   "cell_type": "code",
   "execution_count": 215,
   "metadata": {},
   "outputs": [
    {
     "data": {
      "text/plain": [
       "{'611e4e160f41977f737035ef': '21',\n",
       " '6112b4cdd72db936075c0db8': '21',\n",
       " '611e28b12a630ff00cc467a8': '11',\n",
       " '6108512871ec370e525ef4f0': '32',\n",
       " '611e717148e6b271f0b70d6f': '31',\n",
       " '5f415bea2ba0682e7fc98fbf': '31',\n",
       " '611e6e0371738becff3551d8': '22',\n",
       " '60ff0201788cef38c8695833': '12',\n",
       " '6115e7dcd6cecc981dde3ed6': '12',\n",
       " '611be41c1e9cca41ae48582a': '11'}"
      ]
     },
     "execution_count": 215,
     "metadata": {},
     "output_type": "execute_result"
    }
   ],
   "source": [
    "condition"
   ]
  },
  {
   "cell_type": "code",
   "execution_count": 17,
   "metadata": {},
   "outputs": [],
   "source": [
    "#     i_report_honesty = np.array([transdict[x] for x in block1_resp.randomPickColour]) != block1_resp.reportColour\n",
    "#     i_report_honesty.extend(np.array([transdict[x] for x in block2_resp.randomPickColour]) != block2_resp.reportColour)\n",
    "#     i_report_honesty.extend(np.array([transdict[x] for x in block3_resp.randomPickColour]) != block3_resp.reportColour)\n",
    "#     if_lied.append(i_report_honesty)"
   ]
  },
  {
   "cell_type": "markdown",
   "metadata": {},
   "source": [
    "### inspect demographics data"
   ]
  },
  {
   "cell_type": "code",
   "execution_count": 18,
   "metadata": {},
   "outputs": [],
   "source": [
    "# demographics survey query reference\n",
    "refs_demographics = []\n",
    "for uuid in uuids:\n",
    "    refs_demographics.append(subjects_ref.document(uuid).collection(u'responses').document('demographics').get())"
   ]
  },
  {
   "cell_type": "code",
   "execution_count": 61,
   "metadata": {},
   "outputs": [
    {
     "name": "stdout",
     "output_type": "stream",
     "text": [
      "0 19\n",
      "1 18\n",
      "2 18\n",
      "3 30\n",
      "4 20\n",
      "5 19\n",
      "6 18\n",
      "7 23\n",
      "8 31\n"
     ]
    }
   ],
   "source": [
    "age = []\n",
    "\n",
    "for i, feedback in enumerate(refs_demographics):\n",
    "    if feedback.to_dict() is None:\n",
    "        continue\n",
    "    print(i, feedback.to_dict()['age'])\n",
    "    age.append(int(feedback.to_dict()['age']))"
   ]
  },
  {
   "cell_type": "code",
   "execution_count": 65,
   "metadata": {},
   "outputs": [
    {
     "data": {
      "text/plain": [
       "21.77777777777778"
      ]
     },
     "execution_count": 65,
     "metadata": {},
     "output_type": "execute_result"
    }
   ],
   "source": [
    "sum(age)/len(age)"
   ]
  },
  {
   "cell_type": "code",
   "execution_count": 21,
   "metadata": {},
   "outputs": [
    {
     "name": "stdout",
     "output_type": "stream",
     "text": [
      "0 male\n",
      "1 female\n",
      "2 male\n",
      "3 female\n",
      "4 female\n",
      "5 male\n",
      "6 female\n",
      "7 female\n",
      "8 female\n"
     ]
    }
   ],
   "source": [
    "gender = []\n",
    "\n",
    "for i, feedback in enumerate(refs_demographics):\n",
    "    print(i, feedback.to_dict()['gender'])\n",
    "    gender.append(feedback.to_dict()['gender'])"
   ]
  },
  {
   "cell_type": "code",
   "execution_count": 22,
   "metadata": {},
   "outputs": [
    {
     "data": {
      "text/plain": [
       "SpearmanrResult(correlation=-0.2393512117319333, pvalue=0.5350802499319773)"
      ]
     },
     "execution_count": 22,
     "metadata": {},
     "output_type": "execute_result"
    }
   ],
   "source": [
    "spearmanr(age, avg_honesty_rating[:len(gender)])"
   ]
  },
  {
   "cell_type": "markdown",
   "metadata": {},
   "source": [
    "### inspect EQ scores"
   ]
  },
  {
   "cell_type": "code",
   "execution_count": 23,
   "metadata": {},
   "outputs": [],
   "source": [
    "# EQ survey query reference\n",
    "refs_eq = []\n",
    "\n",
    "for uuid in uuids:\n",
    "    refs_eq.append(subjects_ref.document(uuid).collection(u'responses').document('EQ').get())"
   ]
  },
  {
   "cell_type": "code",
   "execution_count": 24,
   "metadata": {},
   "outputs": [],
   "source": [
    "eq_items_r = [\n",
    "    \"I find it hard to know what to do in a social situation\",\n",
    "    \"I often find it difficult to judge if something is rude or polite\",\n",
    "    \"In a conversation I tend to focus on my own thoughts rather than on what my listener might be thinking\",\n",
    "    \"It is hard for me to see why some things upset people so much\", \n",
    "    \"I can’t always see why someone should have felt offended by a remark\",\n",
    "    \"Other people often say that I am insensitive though I don’t always see why\"\n",
    "]\n",
    "\n",
    "eq_items = [\"I can easily tell if someone else wants to enter a conversation\",\n",
    "            \"I really enjoy caring for other people\",\n",
    "            \"I can pick up quickly if someone says one thing but means another\",\n",
    "            \"I find it easy to put myself in somebody else’s shoes\",\n",
    "            \"I am good at predicting how someone will feel\",\n",
    "            \"I am quick to spot when someone in a group is feeling awkward or uncomfortable\",\n",
    "            \"I don’t tend to find social situations confusing\",\n",
    "            \"Other people tell me I am good at understanding how they are feeling and what they are thinking\",\n",
    "            \"I can easily tell if someone else is interested or bored with what I am saying\",\n",
    "            \"Friends usually talk to me about their problems as they say that I am very understanding\",\n",
    "            \"I can sense if I am intruding even if the other person doesn’t tell me\",\n",
    "            \"I can tune into how someone else feels rapidly and intuitively\",\n",
    "            \"I can easily work out what another person might want to talk about\",\n",
    "            \"I can tell if someone is masking their true emotion\",\n",
    "            \"I am good at predicting what someone will do\",\n",
    "            \"I tend to get emotionally involved with a friend’s problem\"\n",
    "           ]\n",
    "\n",
    "eq_catch = [\n",
    "    \"Please select the middle answer option\",\n",
    "    \"Please select the first answer option\",\n",
    "    \"Please select the last answer option\"\n",
    "]"
   ]
  },
  {
   "cell_type": "code",
   "execution_count": 32,
   "metadata": {},
   "outputs": [],
   "source": [
    "eq_responses = []\n",
    "\n",
    "for uuid in uuids:\n",
    "    for i, resp in enumerate(refs_eq):\n",
    "        i_eq = []\n",
    "        if resp.to_dict() is None:\n",
    "            continue\n",
    "        for it in eq_items:\n",
    "            i_eq.append(resp.to_dict()[it])\n",
    "        for jt in eq_items_r:\n",
    "            ar = resp.to_dict()[jt]\n",
    "            ar = numexpr.evaluate(f'(7 - ar)')\n",
    "            i_eq.append(ar.item())\n",
    "        eq_responses.append(i_eq)"
   ]
  },
  {
   "cell_type": "code",
   "execution_count": 33,
   "metadata": {},
   "outputs": [
    {
     "data": {
      "text/plain": [
       "81"
      ]
     },
     "execution_count": 33,
     "metadata": {},
     "output_type": "execute_result"
    }
   ],
   "source": [
    "len(eq_responses)"
   ]
  },
  {
   "cell_type": "code",
   "execution_count": 38,
   "metadata": {},
   "outputs": [],
   "source": [
    "eq_responses = eq_responses[:len(uuids)]"
   ]
  },
  {
   "cell_type": "code",
   "execution_count": 39,
   "metadata": {},
   "outputs": [
    {
     "data": {
      "text/plain": [
       "[[6, 7, 6, 5, 4, 5, 6, 6, 5, 5, 4, 5, 4, 4, 4, 5, 5, 5, 4, 5, 4, 5],\n",
       " [5, 7, 6, 7, 3, 7, 2, 7, 6, 7, 7, 5, 5, 4, 2, 7, 2, 6, 6, 2, 4, 6],\n",
       " [1, 3, 6, 6, 7, 3, 6, 7, 6, 7, 7, 6, 6, 7, 6, 7, 2, 1, 2, 1, 1, 2],\n",
       " [5, 7, 5, 1, 6, 6, 3, 5, 6, 6, 5, 7, 6, 4, 5, 5, 1, 5, 0, 6, 5, 6],\n",
       " [5, 7, 6, 7, 4, 6, 6, 6, 6, 6, 6, 6, 6, 6, 4, 5, 5, 5, 3, 6, 4, 5],\n",
       " [6, 5, 6, 6, 5, 7, 6, 7, 5, 6, 6, 6, 7, 5, 6, 5, 4, 2, 0, 0, 2, 5],\n",
       " [5, 6, 6, 2, 5, 6, 6, 5, 5, 6, 6, 5, 5, 6, 6, 1, 2, 5, 4, 0, 5, 6],\n",
       " [6, 6, 6, 6, 6, 6, 2, 5, 6, 5, 7, 5, 5, 5, 5, 5, 1, 5, 5, 5, 3, 5],\n",
       " [5, 5, 6, 5, 5, 5, 6, 6, 6, 5, 5, 4, 4, 4, 5, 6, 4, 4, 3, 5, 2, 2]]"
      ]
     },
     "execution_count": 39,
     "metadata": {},
     "output_type": "execute_result"
    }
   ],
   "source": [
    "eq_responses"
   ]
  },
  {
   "cell_type": "code",
   "execution_count": 40,
   "metadata": {},
   "outputs": [],
   "source": [
    "avg_eq_nr = [sum(r)/len(r) for r in eq_responses]"
   ]
  },
  {
   "cell_type": "code",
   "execution_count": 97,
   "metadata": {},
   "outputs": [
    {
     "data": {
      "text/plain": [
       "SpearmanrResult(correlation=-0.11666666666666665, pvalue=0.7650079429261462)"
      ]
     },
     "execution_count": 97,
     "metadata": {},
     "output_type": "execute_result"
    }
   ],
   "source": [
    "spearmanr(avg_eq_nr, lie_prop)"
   ]
  },
  {
   "cell_type": "code",
   "execution_count": 98,
   "metadata": {},
   "outputs": [
    {
     "data": {
      "text/plain": [
       "(-0.2707677861637728, 0.48099509093735415)"
      ]
     },
     "execution_count": 98,
     "metadata": {},
     "output_type": "execute_result"
    }
   ],
   "source": [
    "pearsonr(avg_eq_nr, lie_prop)"
   ]
  },
  {
   "cell_type": "code",
   "execution_count": 44,
   "metadata": {},
   "outputs": [],
   "source": [
    "eq_catch_resp = []\n",
    "\n",
    "for uuid in uuids:\n",
    "    for i, resp in enumerate(refs_eq):\n",
    "        if resp.to_dict() is None:\n",
    "            continue\n",
    "        i_eq = []\n",
    "        for it in eq_catch:\n",
    "            i_eq.append(resp.to_dict()[it])\n",
    "        eq_catch_resp.append(i_eq)"
   ]
  },
  {
   "cell_type": "code",
   "execution_count": 45,
   "metadata": {},
   "outputs": [
    {
     "data": {
      "text/plain": [
       "[[4, 1, 7],\n",
       " [4, 1, 7],\n",
       " [4, 1, 7],\n",
       " [4, 1, 7],\n",
       " [4, 1, 7],\n",
       " [4, 1, 7],\n",
       " [4, 1, 7],\n",
       " [4, 1, 7],\n",
       " [4, 1, 7]]"
      ]
     },
     "execution_count": 45,
     "metadata": {},
     "output_type": "execute_result"
    }
   ],
   "source": [
    "# check if people succeeded at all catch questions\n",
    "\n",
    "eq_catch_resp[:len(uuids)]"
   ]
  },
  {
   "cell_type": "markdown",
   "metadata": {},
   "source": [
    "### RTs"
   ]
  },
  {
   "cell_type": "code",
   "execution_count": 86,
   "metadata": {},
   "outputs": [
    {
     "name": "stdout",
     "output_type": "stream",
     "text": [
      "SpearmanrResult(correlation=0.08944468357523604, pvalue=0.4018242969895841)\n",
      "SpearmanrResult(correlation=nan, pvalue=nan)\n",
      "SpearmanrResult(correlation=0.18044191959144018, pvalue=0.08877529822936306)\n",
      "SpearmanrResult(correlation=-0.19214922669616544, pvalue=0.06962335284518002)\n",
      "SpearmanrResult(correlation=0.3156197423081183, pvalue=0.0024436527754634987)\n",
      "SpearmanrResult(correlation=0.2494472467280193, pvalue=0.01774022871460874)\n",
      "SpearmanrResult(correlation=-0.017123192210922695, pvalue=0.8727346692674682)\n",
      "SpearmanrResult(correlation=0.027234420416241203, pvalue=0.7988744405488555)\n",
      "SpearmanrResult(correlation=-0.10767294038839022, pvalue=0.3124297259978243)\n"
     ]
    }
   ],
   "source": [
    "for i, uuid in enumerate(uuids):\n",
    "    print(spearmanr(RT_ratings[i], honesty_ratings[i]))"
   ]
  },
  {
   "cell_type": "code",
   "execution_count": 92,
   "metadata": {},
   "outputs": [
    {
     "data": {
      "text/plain": [
       "SpearmanrResult(correlation=0.2333333333333333, pvalue=0.5456987782182727)"
      ]
     },
     "execution_count": 92,
     "metadata": {},
     "output_type": "execute_result"
    }
   ],
   "source": [
    "avg_RT_ratings = [sum(rt)/len(rt) for rt in RT_ratings]\n",
    "spearmanr(avg_RT_ratings, lie_prop)"
   ]
  },
  {
   "cell_type": "markdown",
   "metadata": {},
   "source": [
    "### inspect feedback and debrief question responses"
   ]
  },
  {
   "cell_type": "code",
   "execution_count": 46,
   "metadata": {},
   "outputs": [],
   "source": [
    "refs_feedback = []\n",
    "\n",
    "for uuid in uuids:\n",
    "    refs_feedback.append(subjects_ref.document(uuid).collection(u'responses').document('feedback').get())"
   ]
  },
  {
   "cell_type": "code",
   "execution_count": 47,
   "metadata": {},
   "outputs": [
    {
     "name": "stdout",
     "output_type": "stream",
     "text": [
      "611e4e160f41977f737035ef To understand people's ability to perceive dishonesty and how honest they are\n",
      "6112b4cdd72db936075c0db8 Your guessing skills.\n",
      "611e28b12a630ff00cc467a8 To see how honest people are with each other despite the fact they don't know one another. \n",
      "6108512871ec370e525ef4f0 To compare honesty with comprehension!\n",
      "611e717148e6b271f0b70d6f seeing peoples honesty and greed\n",
      "5f415bea2ba0682e7fc98fbf I think the purpose of the study was to see honesty in players, instead of testing a game. I think you're looking for people who can easily notice a bug or glaring mistake in the rules and use it to their advantage, whilst also looking to see if people will be truly honest. You're also trying to measure if people can notice deception.\n",
      "611e6e0371738becff3551d8 To see whether people feel too guilty to lie about the colour of the card that the computer has selected. There is absolutely no incentive to report red: you will either gain nothing or lose five pence.\n",
      "60ff0201788cef38c8695833 To see the honesty of each player's card choices\n",
      "611be41c1e9cca41ae48582a see watch how we react with the truth or what we perceive is the truth\n"
     ]
    }
   ],
   "source": [
    "for i, feedback in enumerate(refs_feedback):\n",
    "    print(uuids[i], feedback.to_dict()['studyPurpose'])"
   ]
  },
  {
   "cell_type": "code",
   "execution_count": 48,
   "metadata": {},
   "outputs": [
    {
     "name": "stdout",
     "output_type": "stream",
     "text": [
      "611e4e160f41977f737035ef 6\n",
      "6112b4cdd72db936075c0db8 5\n",
      "611e28b12a630ff00cc467a8 6\n",
      "6108512871ec370e525ef4f0 5\n",
      "611e717148e6b271f0b70d6f 6\n",
      "5f415bea2ba0682e7fc98fbf 6\n",
      "611e6e0371738becff3551d8 5\n",
      "60ff0201788cef38c8695833 6\n",
      "611be41c1e9cca41ae48582a 4\n"
     ]
    }
   ],
   "source": [
    "for i, feedback in enumerate(refs_feedback):\n",
    "    print(uuids[i], feedback.to_dict()['understoodTask'])"
   ]
  },
  {
   "cell_type": "code",
   "execution_count": 49,
   "metadata": {},
   "outputs": [
    {
     "name": "stdout",
     "output_type": "stream",
     "text": [
      "611e4e160f41977f737035ef The money incentive in winning points by picking blue, although i suppose that is necessary to create dishonesty for the study.\n",
      "6112b4cdd72db936075c0db8 No\n",
      "611e28b12a630ff00cc467a8 Not at all\n",
      "6108512871ec370e525ef4f0 I didn't realize in the first game that there were questions telling me to pick a certain answer on the scale. I though I just didn't select the answer when I hit submit. Therefore some of those answers may not be correct.\n",
      "611e717148e6b271f0b70d6f no\n",
      "5f415bea2ba0682e7fc98fbf It's broken. You can just keep selecting blue over and over again to get points and prevent the other player from getting any, unless they also pick blue every time and make it a tie each round.\n",
      "611e6e0371738becff3551d8 I was concerned that by picking blue all the time I was being selfish and not giving other players the opportunity to pick up bonuses by winning games.\n",
      "60ff0201788cef38c8695833 No\n",
      "611be41c1e9cca41ae48582a no\n"
     ]
    }
   ],
   "source": [
    "for i, feedback in enumerate(refs_feedback):\n",
    "    print(uuids[i], feedback.to_dict()['concerns'])"
   ]
  },
  {
   "cell_type": "code",
   "execution_count": 50,
   "metadata": {},
   "outputs": [
    {
     "name": "stdout",
     "output_type": "stream",
     "text": [
      "611e4e160f41977f737035ef The bonus money was a strong incentive, although it felt wrong constantly abusing it if it seemed the other player was being honest\n",
      "6112b4cdd72db936075c0db8 To win bonus points.\n",
      "611e28b12a630ff00cc467a8 My goal was to answer honestly. However, eventually the opposing person selected the blue card a suspicious amount of times making me do the same.\n",
      "6108512871ec370e525ef4f0 My goal was to be honest when selecting my card picks though there were a few instances where I missed which card the computer selected due to environmental distractions. \n",
      "611e717148e6b271f0b70d6f being honest \n",
      "5f415bea2ba0682e7fc98fbf To get as many points as possible, beat the other player. I felt bad for being so dishonest though.\n",
      "611e6e0371738becff3551d8 To get as many bonuses as possible\n",
      "60ff0201788cef38c8695833 To click the computer's randomized card choice\n",
      "611be41c1e9cca41ae48582a to try and work out what the other player would do\n"
     ]
    }
   ],
   "source": [
    "for i, feedback in enumerate(refs_feedback):\n",
    "    print(uuids[i], feedback.to_dict()['yourGoal'])"
   ]
  },
  {
   "cell_type": "code",
   "execution_count": 51,
   "metadata": {},
   "outputs": [
    {
     "name": "stdout",
     "output_type": "stream",
     "text": [
      "611e4e160f41977f737035ef The first 2 appeared quite honest while the third seemed to be incentivised by the money to be dishonest.\n",
      "6112b4cdd72db936075c0db8 To make me lose.\n",
      "611e28b12a630ff00cc467a8 I believe the first 2 games the other play answered honestly but by the third i assumed that their goal was to win as much as possible.\n",
      "6108512871ec370e525ef4f0 I believe the first player as playing honestly but the more I played, the more I felt the person was trying to in the most money by selecting the blue card frequently.\n",
      "611e717148e6b271f0b70d6f earning money \n",
      "5f415bea2ba0682e7fc98fbf The first two players I believe didn't get that there was a glaring mistake in the rules of the game, as they kept picking the red card over and over again, giving me points each turn. However, the third player I believe started to catch onto it, and was picking blue over and over again, even when there was only 1 blue card on the row. I respect the third player.\n",
      "\n",
      "There's a possibility that you guys might have only given me a real player on the third try. I think the first player and the second player were actually just robots, which is why you asked me how many different participants I think I ended up with.\n",
      "611e6e0371738becff3551d8 I don't know. Everyone who I played against reported red several times. This makes no sense to me as reporting red won't benefit them in anyway except giving them the satisfaction of knowing that they're telling the truth.\n",
      "60ff0201788cef38c8695833 To click the computer's randomized card choices\n",
      "611be41c1e9cca41ae48582a same as mine\n"
     ]
    }
   ],
   "source": [
    "for i, feedback in enumerate(refs_feedback):\n",
    "    print(uuids[i], feedback.to_dict()['othersGoal'])"
   ]
  },
  {
   "cell_type": "code",
   "execution_count": 52,
   "metadata": {},
   "outputs": [
    {
     "name": "stdout",
     "output_type": "stream",
     "text": [
      "611e4e160f41977f737035ef 5\n",
      "6112b4cdd72db936075c0db8 6\n",
      "611e28b12a630ff00cc467a8 5\n",
      "6108512871ec370e525ef4f0 4\n",
      "611e717148e6b271f0b70d6f 6\n",
      "5f415bea2ba0682e7fc98fbf 5\n",
      "611e6e0371738becff3551d8 4\n",
      "60ff0201788cef38c8695833 5\n",
      "611be41c1e9cca41ae48582a 3\n"
     ]
    }
   ],
   "source": [
    "for i, feedback in enumerate(refs_feedback):\n",
    "    print(uuids[i], feedback.to_dict()['goodDetection'])"
   ]
  },
  {
   "cell_type": "code",
   "execution_count": 53,
   "metadata": {},
   "outputs": [
    {
     "name": "stdout",
     "output_type": "stream",
     "text": [
      "611e4e160f41977f737035ef 1\n",
      "6112b4cdd72db936075c0db8 6\n",
      "611e28b12a630ff00cc467a8 3\n",
      "6108512871ec370e525ef4f0 5\n",
      "611e717148e6b271f0b70d6f 5\n",
      "5f415bea2ba0682e7fc98fbf 0\n",
      "611e6e0371738becff3551d8 0\n",
      "60ff0201788cef38c8695833 6\n",
      "611be41c1e9cca41ae48582a 1\n"
     ]
    }
   ],
   "source": [
    "for i, feedback in enumerate(refs_feedback):\n",
    "    print(uuids[i], feedback.to_dict()['howHonest'])"
   ]
  },
  {
   "cell_type": "code",
   "execution_count": 54,
   "metadata": {},
   "outputs": [
    {
     "name": "stdout",
     "output_type": "stream",
     "text": [
      "611e4e160f41977f737035ef 3\n",
      "6112b4cdd72db936075c0db8 3\n",
      "611e28b12a630ff00cc467a8 3\n",
      "6108512871ec370e525ef4f0 3\n",
      "611e717148e6b271f0b70d6f 9\n",
      "5f415bea2ba0682e7fc98fbf 1\n",
      "611e6e0371738becff3551d8 3\n",
      "60ff0201788cef38c8695833 3\n",
      "611be41c1e9cca41ae48582a 3\n"
     ]
    }
   ],
   "source": [
    "for i, feedback in enumerate(refs_feedback):\n",
    "    print(uuids[i], feedback.to_dict()['howMany'])"
   ]
  },
  {
   "cell_type": "code",
   "execution_count": 55,
   "metadata": {},
   "outputs": [
    {
     "name": "stdout",
     "output_type": "stream",
     "text": [
      "611e4e160f41977f737035ef 1\n",
      "6112b4cdd72db936075c0db8 1\n",
      "611e28b12a630ff00cc467a8 1\n",
      "6108512871ec370e525ef4f0 1\n",
      "611e717148e6b271f0b70d6f 0\n",
      "5f415bea2ba0682e7fc98fbf 0\n",
      "611e6e0371738becff3551d8 1\n",
      "60ff0201788cef38c8695833 1\n",
      "611be41c1e9cca41ae48582a 1\n"
     ]
    }
   ],
   "source": [
    "for i, feedback in enumerate(refs_feedback):\n",
    "    print(uuids[i], feedback.to_dict()['playAgain'])"
   ]
  },
  {
   "cell_type": "code",
   "execution_count": null,
   "metadata": {},
   "outputs": [],
   "source": []
  }
 ],
 "metadata": {
  "kernelspec": {
   "display_name": "Python 3",
   "language": "python",
   "name": "python3"
  },
  "language_info": {
   "codemirror_mode": {
    "name": "ipython",
    "version": 3
   },
   "file_extension": ".py",
   "mimetype": "text/x-python",
   "name": "python",
   "nbconvert_exporter": "python",
   "pygments_lexer": "ipython3",
   "version": "3.8.5"
  }
 },
 "nbformat": 4,
 "nbformat_minor": 4
}
