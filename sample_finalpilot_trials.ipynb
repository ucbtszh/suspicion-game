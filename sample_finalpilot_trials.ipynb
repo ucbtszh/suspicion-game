{
 "cells": [
  {
   "cell_type": "code",
   "execution_count": 1,
   "metadata": {},
   "outputs": [],
   "source": [
    "import numpy as np\n",
    "import json\n",
    "import pandas as pd\n",
    "import matplotlib as plt\n",
    "import seaborn as sns\n",
    "import feather"
   ]
  },
  {
   "cell_type": "code",
   "execution_count": 2,
   "metadata": {},
   "outputs": [],
   "source": [
    "uuids = [ #SAME\n",
    "    '61017dbbf8b1afba48b7822e',\n",
    "'6116aa4d3c4d9eae26b66171',\n",
    "'6109b8238588407db4764ec1',\n",
    "'611841738f4e8342f5ba3765',\n",
    "'6108649840bf2b927ef3905c',\n",
    "'5f4f8e8f9213e9056223e128',\n",
    "'613290e8a4520dd8d0cc061a',\n",
    "'61217de916b53da848302312',\n",
    "'61338d61ed3f2e3d196fa7c7',\n",
    "         \n",
    "         #DIFF\n",
    "'610995bd91de0e899effd73d',\n",
    "'599186630675b100014daddd',\n",
    "'6119884fd696463d717432c9',\n",
    "'610bb05be2e705f3e47e87fb',\n",
    "'60f0937892bd49086d6e2a77',\n",
    "'5cf656e90acc8f000147f643',\n",
    "'5fe292a28fd71dea34d04453',\n",
    "'5d341b57a48ae7000114152a']"
   ]
  },
  {
   "cell_type": "markdown",
   "metadata": {},
   "source": [
    "## Sample final pilot's DIFF players trials"
   ]
  },
  {
   "cell_type": "code",
   "execution_count": 3,
   "metadata": {},
   "outputs": [],
   "source": [
    "with open(\"diff_picked_col.json\", \"r\", encoding='utf-8') as f:\n",
    "    diff_col_pick = json.load(f)"
   ]
  },
  {
   "cell_type": "code",
   "execution_count": 4,
   "metadata": {},
   "outputs": [],
   "source": [
    "with open(\"diff_reported_col.json\", \"r\", encoding='utf-8') as f:\n",
    "    diff_col_report = json.load(f)"
   ]
  },
  {
   "cell_type": "code",
   "execution_count": 5,
   "metadata": {},
   "outputs": [],
   "source": [
    "with open(\"diff_n_red.json\", \"r\", encoding='utf-8') as f:\n",
    "    diff_n_red = json.load(f)"
   ]
  },
  {
   "cell_type": "code",
   "execution_count": 6,
   "metadata": {},
   "outputs": [
    {
     "data": {
      "text/plain": [
       "True"
      ]
     },
     "execution_count": 6,
     "metadata": {},
     "output_type": "execute_result"
    }
   ],
   "source": [
    "diff_n_red.keys() == diff_col_pick.keys()"
   ]
  },
  {
   "cell_type": "code",
   "execution_count": 7,
   "metadata": {},
   "outputs": [],
   "source": [
    "dfs = []\n",
    "\n",
    "for uuid in uuids:\n",
    "    if uuid not in diff_col_pick:\n",
    "        continue\n",
    "    pick = diff_col_pick[uuid]\n",
    "    outcome = diff_col_report[uuid]\n",
    "    n_red = diff_n_red[uuid]\n",
    "    dfs.append(pd.DataFrame({\"pick\": pick, \"outcome\": outcome, \"n_red\": n_red}))"
   ]
  },
  {
   "cell_type": "code",
   "execution_count": 8,
   "metadata": {},
   "outputs": [],
   "source": [
    "agg_df = pd.concat(dfs)\n",
    "agg_df['lied'] = agg_df['pick'] != agg_df['outcome']"
   ]
  },
  {
   "cell_type": "code",
   "execution_count": null,
   "metadata": {},
   "outputs": [],
   "source": [
    "# agg_df.reset_index().to_feather(\"finalpilot_diff_batch1_trials.feather\")"
   ]
  },
  {
   "cell_type": "code",
   "execution_count": 5,
   "metadata": {},
   "outputs": [],
   "source": [
    "agg_df = pd.read_feather(\"finalpilot_diff_batch1_trials.feather\")"
   ]
  },
  {
   "cell_type": "code",
   "execution_count": 9,
   "metadata": {
    "scrolled": true
   },
   "outputs": [
    {
     "name": "stdout",
     "output_type": "stream",
     "text": [
      "0\n",
      "10\n",
      "1\n",
      "14\n",
      "2\n",
      "11\n",
      "3\n",
      "13\n",
      "4\n",
      "10\n",
      "5\n",
      "9\n",
      "6\n",
      "5\n",
      "7\n",
      "9\n"
     ]
    }
   ],
   "source": [
    "for i in range(8):\n",
    "    print(i)\n",
    "    t_sample = agg_df.sample(90) #, random_state=0)\n",
    "    print(sum(t_sample['lied']))\n",
    "    t_sample[['n_red', 'outcome', 'lied']].iloc[:30].to_json('trials_diff'+str(i)+'_1.json', orient='records')\n",
    "    t_sample[['n_red', 'outcome', 'lied']].iloc[30:60].to_json('trials_diff'+str(i)+'_2.json', orient='records')\n",
    "    t_sample[['n_red', 'outcome', 'lied']].iloc[60:90].to_json('trials_diff'+str(i)+'_3.json', orient='records')"
   ]
  },
  {
   "cell_type": "markdown",
   "metadata": {},
   "source": [
    "## Sample final pilot's SAME players trials"
   ]
  },
  {
   "cell_type": "code",
   "execution_count": 8,
   "metadata": {},
   "outputs": [],
   "source": [
    "with open(\"same_picked_col.json\", \"r\", encoding='utf-8') as f:\n",
    "    same_col_pick = json.load(f)"
   ]
  },
  {
   "cell_type": "code",
   "execution_count": 9,
   "metadata": {},
   "outputs": [],
   "source": [
    "with open(\"same_reported_col.json\", \"r\", encoding='utf-8') as f:\n",
    "    same_col_report = json.load(f)"
   ]
  },
  {
   "cell_type": "code",
   "execution_count": 10,
   "metadata": {},
   "outputs": [],
   "source": [
    "with open(\"same_n_red.json\", \"r\", encoding='utf-8') as f:\n",
    "    same_n_red = json.load(f)"
   ]
  },
  {
   "cell_type": "code",
   "execution_count": 11,
   "metadata": {},
   "outputs": [
    {
     "data": {
      "text/plain": [
       "True"
      ]
     },
     "execution_count": 11,
     "metadata": {},
     "output_type": "execute_result"
    }
   ],
   "source": [
    "same_col_pick.keys() == same_n_red.keys()"
   ]
  },
  {
   "cell_type": "code",
   "execution_count": 12,
   "metadata": {},
   "outputs": [],
   "source": [
    "dfs = []\n",
    "\n",
    "for uuid in uuids:\n",
    "    if uuid not in same_col_pick:\n",
    "        continue\n",
    "    pick = same_col_pick[uuid]\n",
    "    outcome = same_col_report[uuid]\n",
    "    n_red = same_n_red[uuid]\n",
    "    dfs.append(pd.DataFrame({\"pick\": pick, \"outcome\": outcome, \"n_red\": n_red}))"
   ]
  },
  {
   "cell_type": "code",
   "execution_count": 13,
   "metadata": {},
   "outputs": [
    {
     "data": {
      "text/plain": [
       "9"
      ]
     },
     "execution_count": 13,
     "metadata": {},
     "output_type": "execute_result"
    }
   ],
   "source": [
    "len(dfs)"
   ]
  },
  {
   "cell_type": "code",
   "execution_count": 14,
   "metadata": {},
   "outputs": [],
   "source": [
    "agg_df = pd.concat(dfs)\n",
    "agg_df['lied'] = agg_df['pick'] != agg_df['outcome']"
   ]
  },
  {
   "cell_type": "code",
   "execution_count": null,
   "metadata": {},
   "outputs": [],
   "source": [
    "# agg_df.reset_index().to_feather(\"finalpilot_same_batch1_trials.feather\")"
   ]
  },
  {
   "cell_type": "code",
   "execution_count": 15,
   "metadata": {
    "scrolled": true
   },
   "outputs": [
    {
     "name": "stdout",
     "output_type": "stream",
     "text": [
      "0\n",
      "26\n",
      "1\n",
      "31\n",
      "2\n",
      "24\n",
      "3\n",
      "28\n",
      "4\n",
      "30\n",
      "5\n",
      "38\n",
      "6\n",
      "30\n",
      "7\n",
      "26\n",
      "8\n",
      "32\n"
     ]
    }
   ],
   "source": [
    "for i in range(len(dfs)):\n",
    "    print(i)\n",
    "    t_sample = agg_df.sample(90) #, random_state=0)\n",
    "    print(sum(t_sample['lied']))\n",
    "    t_sample[['n_red', 'outcome', 'lied']].iloc[:30].to_json('trials_same'+str(i)+'_1.json', orient='records')\n",
    "    t_sample[['n_red', 'outcome', 'lied']].iloc[30:60].to_json('trials_same'+str(i)+'_2.json', orient='records')\n",
    "    t_sample[['n_red', 'outcome', 'lied']].iloc[60:90].to_json('trials_same'+str(i)+'_3.json', orient='records')"
   ]
  },
  {
   "cell_type": "code",
   "execution_count": null,
   "metadata": {},
   "outputs": [],
   "source": []
  }
 ],
 "metadata": {
  "kernelspec": {
   "display_name": "Python 3",
   "language": "python",
   "name": "python3"
  },
  "language_info": {
   "codemirror_mode": {
    "name": "ipython",
    "version": 3
   },
   "file_extension": ".py",
   "mimetype": "text/x-python",
   "name": "python",
   "nbconvert_exporter": "python",
   "pygments_lexer": "ipython3",
   "version": "3.8.5"
  }
 },
 "nbformat": 4,
 "nbformat_minor": 4
}
