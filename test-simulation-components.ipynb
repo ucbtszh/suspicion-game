{
 "cells": [
  {
   "cell_type": "code",
   "execution_count": 7,
   "metadata": {},
   "outputs": [],
   "source": [
    "import simpy\n",
    "import numpy as np\n",
    "import random"
   ]
  },
  {
   "cell_type": "code",
   "execution_count": 3,
   "metadata": {},
   "outputs": [],
   "source": [
    "def suspicion(pre_suspicion, alpha, baseline, outcome, expectation) -> float:\n",
    "    '''Returns suspicion level according to hypothesized computational behaviour model'''\n",
    "    return pre_suspicion + alpha * (outcome - expectation) + baseline"
   ]
  },
  {
   "cell_type": "code",
   "execution_count": 16,
   "metadata": {},
   "outputs": [],
   "source": [
    "class Trial(object):\n",
    "    n_cards = 5\n",
    "    cards = []\n",
    "    \n",
    "    def __init__(self, n_red, outcome):\n",
    "        ''' blue cards always win, red cards always lose, hence values 1 and -1 respectively '''\n",
    "        self.n_red = n_red\n",
    "        self.n_blue = n_cards - n_red\n",
    "        cards.extend([-1] * n_red)\n",
    "        cards.extend([1] * n_blue)\n",
    "        self.outcome = outcome\n",
    "    \n",
    "    def expectation(self):\n",
    "        if self.outcome == -1:\n",
    "            return self.outcome * self.n_red / n_cards\n",
    "        if self.outcome == 1:\n",
    "            return self.outcome * self.n_blue / n_cards\n",
    "        else:\n",
    "            raise ValueError(\"Opponent outcome has unacceptable value.\")\n",
    "    \n",
    "    def playerSelection(self):\n",
    "        return random.choice(cards)"
   ]
  },
  {
   "cell_type": "code",
   "execution_count": null,
   "metadata": {},
   "outputs": [],
   "source": [
    "class Player(object):\n",
    "    def __init__(self, alpha, baseline, pre_suspicion):\n",
    "        self.alpha = alpha\n",
    "        self.baseline = baseline\n",
    "        if pre_suspicion is None:\n",
    "            self.presuspicion = 0\n",
    "        self.pre_suspicion = pre_suspicion\n",
    "        \n",
    "    def notLie(player_selection):\n",
    "        # expects input from trial.playerSelection()\n",
    "        return player_selection\n",
    "    \n",
    "    def lie(player_selection):\n",
    "        #todo: expect higher probability that Player will lie if suspicion is high\n",
    "        if player_selection == -1:\n",
    "            return 1"
   ]
  },
  {
   "cell_type": "code",
   "execution_count": 8,
   "metadata": {},
   "outputs": [],
   "source": [
    "# game play values\n",
    "n_trials = 100\n",
    "n_red = range(0, 5, 1)\n",
    "outcome = (1, -1)\n",
    "\n",
    "# player values\n",
    "pre_suspicion = 0\n",
    "alpha = np.linspace(0,1pa,11)\n",
    "\n",
    "\n",
    "\n",
    "\n",
    "\n",
    "\n",
    "params = {'alpha': alpha, ''}\n",
    "\n",
    "for p in params:\n",
    "    trial(p)\n",
    "    suspicion(p)"
   ]
  },
  {
   "cell_type": "code",
   "execution_count": null,
   "metadata": {},
   "outputs": [],
   "source": []
  },
  {
   "cell_type": "code",
   "execution_count": null,
   "metadata": {},
   "outputs": [],
   "source": []
  },
  {
   "cell_type": "code",
   "execution_count": null,
   "metadata": {},
   "outputs": [],
   "source": []
  },
  {
   "cell_type": "code",
   "execution_count": 9,
   "metadata": {},
   "outputs": [
    {
     "data": {
      "text/plain": [
       "array([0. , 0.1, 0.2, 0.3, 0.4, 0.5, 0.6, 0.7, 0.8, 0.9, 1. ])"
      ]
     },
     "execution_count": 9,
     "metadata": {},
     "output_type": "execute_result"
    }
   ],
   "source": [
    "alpha"
   ]
  },
  {
   "cell_type": "code",
   "execution_count": null,
   "metadata": {},
   "outputs": [],
   "source": []
  },
  {
   "cell_type": "code",
   "execution_count": null,
   "metadata": {},
   "outputs": [],
   "source": []
  }
 ],
 "metadata": {
  "kernelspec": {
   "display_name": "Python 3",
   "language": "python",
   "name": "python3"
  },
  "language_info": {
   "codemirror_mode": {
    "name": "ipython",
    "version": 3
   },
   "file_extension": ".py",
   "mimetype": "text/x-python",
   "name": "python",
   "nbconvert_exporter": "python",
   "pygments_lexer": "ipython3",
   "version": "3.8.5"
  }
 },
 "nbformat": 4,
 "nbformat_minor": 4
}
