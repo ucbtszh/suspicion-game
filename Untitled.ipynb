{
 "cells": [
  {
   "cell_type": "code",
   "execution_count": null,
   "id": "98d63fea",
   "metadata": {},
   "outputs": [],
   "source": [
    "ciphertext = \"Cwog og cwi 7cw ahigcoet: xiexui  kent kicziit toticiit lench gov stf toticiit govcj lehn sni yeppetuj dtezt sg kskj zwsc\""
   ]
  },
  {
   "cell_type": "code",
   "execution_count": null,
   "id": "4a16f2bb",
   "metadata": {},
   "outputs": [],
   "source": [
    "substitutions = {\n",
    "    \"c\": \"t\",\n",
    "    \"w\": \"h\"\n",
    "}\n",
    "\n",
    "for key, value in substitutions.items():\n",
    "    ciphertext = cipehrtext.replace(\"\")"
   ]
  }
 ],
 "metadata": {
  "kernelspec": {
   "display_name": "Python 3 (ipykernel)",
   "language": "python",
   "name": "python3"
  },
  "language_info": {
   "codemirror_mode": {
    "name": "ipython",
    "version": 3
   },
   "file_extension": ".py",
   "mimetype": "text/x-python",
   "name": "python",
   "nbconvert_exporter": "python",
   "pygments_lexer": "ipython3",
   "version": "3.9.7"
  }
 },
 "nbformat": 4,
 "nbformat_minor": 5
}
